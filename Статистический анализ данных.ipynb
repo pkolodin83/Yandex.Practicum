{
 "cells": [
  {
   "cell_type": "markdown",
   "metadata": {},
   "source": [
    "Изучим общую информацию из имеющихся данных"
   ]
  },
  {
   "cell_type": "markdown",
   "metadata": {},
   "source": [
    "<div class=\"alert alert-info\"> <b>Основная цель данного рабочего проекта:</b> Выснить какой из двух представленных тарифов более окупаемый и приносящий больше денег. Данная информация поможет оператору сотовой связи скореектировать рекламный бюджет</div>"
   ]
  },
  {
   "cell_type": "code",
   "execution_count": 1,
   "metadata": {},
   "outputs": [],
   "source": [
    "#Подключим необходимые библиотеки \n",
    "import pandas as pd\n",
    "import numpy as np\n",
    "import matplotlib.pyplot as plt\n",
    "%matplotlib inline\n",
    "import seaborn as sns\n",
    "from scipy import stats as st\n",
    "from math import ceil as math"
   ]
  },
  {
   "cell_type": "code",
   "execution_count": 2,
   "metadata": {},
   "outputs": [],
   "source": [
    "#Прочтем файлы с данными \n",
    "calls = pd.read_csv('/datasets/calls.csv') # информация о звонках\n",
    "internet = pd.read_csv('/datasets/internet.csv') # информация об интернет-сессиях\n",
    "messages = pd.read_csv('/datasets/messages.csv') # информация о сообщениях\n",
    "tariffs = pd.read_csv('/datasets/tariffs.csv') # информация о тарифах\n",
    "users = pd.read_csv('/datasets/users.csv') # информация о пользователях"
   ]
  },
  {
   "cell_type": "code",
   "execution_count": 3,
   "metadata": {},
   "outputs": [
    {
     "name": "stdout",
     "output_type": "stream",
     "text": [
      "<class 'pandas.core.frame.DataFrame'>\n",
      "RangeIndex: 202607 entries, 0 to 202606\n",
      "Data columns (total 4 columns):\n",
      "id           202607 non-null object\n",
      "call_date    202607 non-null object\n",
      "duration     202607 non-null float64\n",
      "user_id      202607 non-null int64\n",
      "dtypes: float64(1), int64(1), object(2)\n",
      "memory usage: 6.2+ MB\n"
     ]
    }
   ],
   "source": [
    "#Получим информацию с таблицы \"Calls\" методом info\n",
    "calls.info()"
   ]
  },
  {
   "cell_type": "code",
   "execution_count": 4,
   "metadata": {},
   "outputs": [
    {
     "data": {
      "text/html": [
       "<div>\n",
       "<style scoped>\n",
       "    .dataframe tbody tr th:only-of-type {\n",
       "        vertical-align: middle;\n",
       "    }\n",
       "\n",
       "    .dataframe tbody tr th {\n",
       "        vertical-align: top;\n",
       "    }\n",
       "\n",
       "    .dataframe thead th {\n",
       "        text-align: right;\n",
       "    }\n",
       "</style>\n",
       "<table border=\"1\" class=\"dataframe\">\n",
       "  <thead>\n",
       "    <tr style=\"text-align: right;\">\n",
       "      <th></th>\n",
       "      <th>id</th>\n",
       "      <th>call_date</th>\n",
       "      <th>duration</th>\n",
       "      <th>user_id</th>\n",
       "    </tr>\n",
       "  </thead>\n",
       "  <tbody>\n",
       "    <tr>\n",
       "      <td>0</td>\n",
       "      <td>1000_0</td>\n",
       "      <td>2018-07-25</td>\n",
       "      <td>0.00</td>\n",
       "      <td>1000</td>\n",
       "    </tr>\n",
       "    <tr>\n",
       "      <td>1</td>\n",
       "      <td>1000_1</td>\n",
       "      <td>2018-08-17</td>\n",
       "      <td>0.00</td>\n",
       "      <td>1000</td>\n",
       "    </tr>\n",
       "    <tr>\n",
       "      <td>2</td>\n",
       "      <td>1000_2</td>\n",
       "      <td>2018-06-11</td>\n",
       "      <td>2.85</td>\n",
       "      <td>1000</td>\n",
       "    </tr>\n",
       "    <tr>\n",
       "      <td>3</td>\n",
       "      <td>1000_3</td>\n",
       "      <td>2018-09-21</td>\n",
       "      <td>13.80</td>\n",
       "      <td>1000</td>\n",
       "    </tr>\n",
       "    <tr>\n",
       "      <td>4</td>\n",
       "      <td>1000_4</td>\n",
       "      <td>2018-12-15</td>\n",
       "      <td>5.18</td>\n",
       "      <td>1000</td>\n",
       "    </tr>\n",
       "  </tbody>\n",
       "</table>\n",
       "</div>"
      ],
      "text/plain": [
       "       id   call_date  duration  user_id\n",
       "0  1000_0  2018-07-25      0.00     1000\n",
       "1  1000_1  2018-08-17      0.00     1000\n",
       "2  1000_2  2018-06-11      2.85     1000\n",
       "3  1000_3  2018-09-21     13.80     1000\n",
       "4  1000_4  2018-12-15      5.18     1000"
      ]
     },
     "execution_count": 4,
     "metadata": {},
     "output_type": "execute_result"
    }
   ],
   "source": [
    "#Выведем первые 5 строк таблицы calls\n",
    "calls.head()"
   ]
  },
  {
   "cell_type": "code",
   "execution_count": 5,
   "metadata": {},
   "outputs": [
    {
     "data": {
      "text/plain": [
       "Index(['id', 'call_date', 'duration', 'user_id'], dtype='object')"
      ]
     },
     "execution_count": 5,
     "metadata": {},
     "output_type": "execute_result"
    }
   ],
   "source": [
    "#Посмотрим на столбцы в таблице\n",
    "calls.columns"
   ]
  },
  {
   "cell_type": "code",
   "execution_count": 6,
   "metadata": {},
   "outputs": [
    {
     "data": {
      "text/plain": [
       "id           0\n",
       "call_date    0\n",
       "duration     0\n",
       "user_id      0\n",
       "dtype: int64"
      ]
     },
     "execution_count": 6,
     "metadata": {},
     "output_type": "execute_result"
    }
   ],
   "source": [
    "#проверим наличие пустых значений\n",
    "calls.isnull().sum()"
   ]
  },
  {
   "cell_type": "code",
   "execution_count": 7,
   "metadata": {},
   "outputs": [
    {
     "data": {
      "text/plain": [
       "0"
      ]
     },
     "execution_count": 7,
     "metadata": {},
     "output_type": "execute_result"
    }
   ],
   "source": [
    "#Проверим наличие дубликатов\n",
    "calls.duplicated().sum()"
   ]
  },
  {
   "cell_type": "markdown",
   "metadata": {},
   "source": [
    "<div class=\"alert alert-info\"> <b>Комментарий студента: \n",
    "</b> \n",
    "    Вывод:\n",
    "    \n",
    "1)Необходимо изменить типы данных в столбцах call_date : id, call_date, user_id\n",
    "    \n",
    "2)Пустых значений и дубликатов не имеется  </div>"
   ]
  },
  {
   "cell_type": "markdown",
   "metadata": {},
   "source": [
    "Изучим Dataset Internet"
   ]
  },
  {
   "cell_type": "code",
   "execution_count": 8,
   "metadata": {},
   "outputs": [
    {
     "name": "stdout",
     "output_type": "stream",
     "text": [
      "<class 'pandas.core.frame.DataFrame'>\n",
      "RangeIndex: 149396 entries, 0 to 149395\n",
      "Data columns (total 5 columns):\n",
      "Unnamed: 0      149396 non-null int64\n",
      "id              149396 non-null object\n",
      "mb_used         149396 non-null float64\n",
      "session_date    149396 non-null object\n",
      "user_id         149396 non-null int64\n",
      "dtypes: float64(1), int64(2), object(2)\n",
      "memory usage: 5.7+ MB\n"
     ]
    }
   ],
   "source": [
    "#Получим информацию с таблицы \"Internet\" методом info\n",
    "internet.info()"
   ]
  },
  {
   "cell_type": "code",
   "execution_count": 9,
   "metadata": {},
   "outputs": [
    {
     "data": {
      "text/html": [
       "<div>\n",
       "<style scoped>\n",
       "    .dataframe tbody tr th:only-of-type {\n",
       "        vertical-align: middle;\n",
       "    }\n",
       "\n",
       "    .dataframe tbody tr th {\n",
       "        vertical-align: top;\n",
       "    }\n",
       "\n",
       "    .dataframe thead th {\n",
       "        text-align: right;\n",
       "    }\n",
       "</style>\n",
       "<table border=\"1\" class=\"dataframe\">\n",
       "  <thead>\n",
       "    <tr style=\"text-align: right;\">\n",
       "      <th></th>\n",
       "      <th>Unnamed: 0</th>\n",
       "      <th>id</th>\n",
       "      <th>mb_used</th>\n",
       "      <th>session_date</th>\n",
       "      <th>user_id</th>\n",
       "    </tr>\n",
       "  </thead>\n",
       "  <tbody>\n",
       "    <tr>\n",
       "      <td>0</td>\n",
       "      <td>0</td>\n",
       "      <td>1000_0</td>\n",
       "      <td>112.95</td>\n",
       "      <td>2018-11-25</td>\n",
       "      <td>1000</td>\n",
       "    </tr>\n",
       "    <tr>\n",
       "      <td>1</td>\n",
       "      <td>1</td>\n",
       "      <td>1000_1</td>\n",
       "      <td>1052.81</td>\n",
       "      <td>2018-09-07</td>\n",
       "      <td>1000</td>\n",
       "    </tr>\n",
       "    <tr>\n",
       "      <td>2</td>\n",
       "      <td>2</td>\n",
       "      <td>1000_2</td>\n",
       "      <td>1197.26</td>\n",
       "      <td>2018-06-25</td>\n",
       "      <td>1000</td>\n",
       "    </tr>\n",
       "    <tr>\n",
       "      <td>3</td>\n",
       "      <td>3</td>\n",
       "      <td>1000_3</td>\n",
       "      <td>550.27</td>\n",
       "      <td>2018-08-22</td>\n",
       "      <td>1000</td>\n",
       "    </tr>\n",
       "    <tr>\n",
       "      <td>4</td>\n",
       "      <td>4</td>\n",
       "      <td>1000_4</td>\n",
       "      <td>302.56</td>\n",
       "      <td>2018-09-24</td>\n",
       "      <td>1000</td>\n",
       "    </tr>\n",
       "  </tbody>\n",
       "</table>\n",
       "</div>"
      ],
      "text/plain": [
       "   Unnamed: 0      id  mb_used session_date  user_id\n",
       "0           0  1000_0   112.95   2018-11-25     1000\n",
       "1           1  1000_1  1052.81   2018-09-07     1000\n",
       "2           2  1000_2  1197.26   2018-06-25     1000\n",
       "3           3  1000_3   550.27   2018-08-22     1000\n",
       "4           4  1000_4   302.56   2018-09-24     1000"
      ]
     },
     "execution_count": 9,
     "metadata": {},
     "output_type": "execute_result"
    }
   ],
   "source": [
    "#Выведем первые 5 строк таблицы internet\n",
    "internet.head()"
   ]
  },
  {
   "cell_type": "code",
   "execution_count": 10,
   "metadata": {},
   "outputs": [
    {
     "data": {
      "text/plain": [
       "Index(['Unnamed: 0', 'id', 'mb_used', 'session_date', 'user_id'], dtype='object')"
      ]
     },
     "execution_count": 10,
     "metadata": {},
     "output_type": "execute_result"
    }
   ],
   "source": [
    "#Посмотрим на столбцы в таблице \"Internet\"\n",
    "internet.columns"
   ]
  },
  {
   "cell_type": "code",
   "execution_count": 11,
   "metadata": {},
   "outputs": [
    {
     "data": {
      "text/plain": [
       "Unnamed: 0      0\n",
       "id              0\n",
       "mb_used         0\n",
       "session_date    0\n",
       "user_id         0\n",
       "dtype: int64"
      ]
     },
     "execution_count": 11,
     "metadata": {},
     "output_type": "execute_result"
    }
   ],
   "source": [
    "#Посчитаем количество пустых значений в таблице \"Internet\"\n",
    "internet.isnull().sum()"
   ]
  },
  {
   "cell_type": "code",
   "execution_count": 12,
   "metadata": {},
   "outputs": [
    {
     "data": {
      "text/plain": [
       "0"
      ]
     },
     "execution_count": 12,
     "metadata": {},
     "output_type": "execute_result"
    }
   ],
   "source": [
    "#Посчитает количество дубликатов в таблице \"Internet\"\n",
    "internet.duplicated().sum()"
   ]
  },
  {
   "cell_type": "markdown",
   "metadata": {},
   "source": [
    "<div class=\"alert alert-info\"> <b>Комментарий студента:</b> Вывод:\n",
    "\n",
    "1)Необходимо удалить столбец unnamed, так как он дублирует индексацию таблицы\n",
    "2)Также нужно изменить типы данных в столбцах : id , session_date\n",
    "\n",
    "3)Пустых значений и дубликатов не имеется</div>"
   ]
  },
  {
   "cell_type": "markdown",
   "metadata": {},
   "source": [
    "Изучим Dataset Messages"
   ]
  },
  {
   "cell_type": "code",
   "execution_count": 13,
   "metadata": {},
   "outputs": [
    {
     "name": "stdout",
     "output_type": "stream",
     "text": [
      "<class 'pandas.core.frame.DataFrame'>\n",
      "RangeIndex: 123036 entries, 0 to 123035\n",
      "Data columns (total 3 columns):\n",
      "id              123036 non-null object\n",
      "message_date    123036 non-null object\n",
      "user_id         123036 non-null int64\n",
      "dtypes: int64(1), object(2)\n",
      "memory usage: 2.8+ MB\n"
     ]
    }
   ],
   "source": [
    "#Получим информацию с таблицы \"Messages\" методом info\n",
    "messages.info()"
   ]
  },
  {
   "cell_type": "code",
   "execution_count": 14,
   "metadata": {},
   "outputs": [
    {
     "data": {
      "text/html": [
       "<div>\n",
       "<style scoped>\n",
       "    .dataframe tbody tr th:only-of-type {\n",
       "        vertical-align: middle;\n",
       "    }\n",
       "\n",
       "    .dataframe tbody tr th {\n",
       "        vertical-align: top;\n",
       "    }\n",
       "\n",
       "    .dataframe thead th {\n",
       "        text-align: right;\n",
       "    }\n",
       "</style>\n",
       "<table border=\"1\" class=\"dataframe\">\n",
       "  <thead>\n",
       "    <tr style=\"text-align: right;\">\n",
       "      <th></th>\n",
       "      <th>id</th>\n",
       "      <th>message_date</th>\n",
       "      <th>user_id</th>\n",
       "    </tr>\n",
       "  </thead>\n",
       "  <tbody>\n",
       "    <tr>\n",
       "      <td>0</td>\n",
       "      <td>1000_0</td>\n",
       "      <td>2018-06-27</td>\n",
       "      <td>1000</td>\n",
       "    </tr>\n",
       "    <tr>\n",
       "      <td>1</td>\n",
       "      <td>1000_1</td>\n",
       "      <td>2018-10-08</td>\n",
       "      <td>1000</td>\n",
       "    </tr>\n",
       "    <tr>\n",
       "      <td>2</td>\n",
       "      <td>1000_2</td>\n",
       "      <td>2018-08-04</td>\n",
       "      <td>1000</td>\n",
       "    </tr>\n",
       "    <tr>\n",
       "      <td>3</td>\n",
       "      <td>1000_3</td>\n",
       "      <td>2018-06-16</td>\n",
       "      <td>1000</td>\n",
       "    </tr>\n",
       "    <tr>\n",
       "      <td>4</td>\n",
       "      <td>1000_4</td>\n",
       "      <td>2018-12-05</td>\n",
       "      <td>1000</td>\n",
       "    </tr>\n",
       "  </tbody>\n",
       "</table>\n",
       "</div>"
      ],
      "text/plain": [
       "       id message_date  user_id\n",
       "0  1000_0   2018-06-27     1000\n",
       "1  1000_1   2018-10-08     1000\n",
       "2  1000_2   2018-08-04     1000\n",
       "3  1000_3   2018-06-16     1000\n",
       "4  1000_4   2018-12-05     1000"
      ]
     },
     "execution_count": 14,
     "metadata": {},
     "output_type": "execute_result"
    }
   ],
   "source": [
    "#Выведем первые пять строк из таблицы \"Messages\"\n",
    "messages.head()"
   ]
  },
  {
   "cell_type": "code",
   "execution_count": 15,
   "metadata": {},
   "outputs": [
    {
     "data": {
      "text/plain": [
       "Index(['id', 'message_date', 'user_id'], dtype='object')"
      ]
     },
     "execution_count": 15,
     "metadata": {},
     "output_type": "execute_result"
    }
   ],
   "source": [
    "#Посмотрим на столбцы из таблицы \"Messages\"\n",
    "messages.columns"
   ]
  },
  {
   "cell_type": "code",
   "execution_count": 16,
   "metadata": {},
   "outputs": [
    {
     "data": {
      "text/plain": [
       "id              0\n",
       "message_date    0\n",
       "user_id         0\n",
       "dtype: int64"
      ]
     },
     "execution_count": 16,
     "metadata": {},
     "output_type": "execute_result"
    }
   ],
   "source": [
    "#Посчитаем количество пустых значений в таблице \"Messages\"\n",
    "messages.isnull().sum()"
   ]
  },
  {
   "cell_type": "code",
   "execution_count": 17,
   "metadata": {},
   "outputs": [
    {
     "data": {
      "text/plain": [
       "0"
      ]
     },
     "execution_count": 17,
     "metadata": {},
     "output_type": "execute_result"
    }
   ],
   "source": [
    "#Посчитаем количество дубликатов в таблице \"Messages\"\n",
    "messages.duplicated().sum()"
   ]
  },
  {
   "cell_type": "markdown",
   "metadata": {},
   "source": [
    "<div class=\"alert alert-info\"> <b>Комментарий студента:</b> \n",
    "   Вывод:\n",
    "\n",
    "1)Изменить типы данных в столбце : id, message_date\n",
    "    \n",
    "2)Пустых значений и дубликатов не имеется</div>"
   ]
  },
  {
   "cell_type": "markdown",
   "metadata": {},
   "source": [
    "Изучим Dataset Tariffs"
   ]
  },
  {
   "cell_type": "code",
   "execution_count": 18,
   "metadata": {},
   "outputs": [
    {
     "name": "stdout",
     "output_type": "stream",
     "text": [
      "<class 'pandas.core.frame.DataFrame'>\n",
      "RangeIndex: 2 entries, 0 to 1\n",
      "Data columns (total 8 columns):\n",
      "messages_included        2 non-null int64\n",
      "mb_per_month_included    2 non-null int64\n",
      "minutes_included         2 non-null int64\n",
      "rub_monthly_fee          2 non-null int64\n",
      "rub_per_gb               2 non-null int64\n",
      "rub_per_message          2 non-null int64\n",
      "rub_per_minute           2 non-null int64\n",
      "tariff_name              2 non-null object\n",
      "dtypes: int64(7), object(1)\n",
      "memory usage: 256.0+ bytes\n"
     ]
    }
   ],
   "source": [
    "#Получим информацию с таблицы \"Tariffs\" методом info\n",
    "tariffs.info()"
   ]
  },
  {
   "cell_type": "code",
   "execution_count": 19,
   "metadata": {},
   "outputs": [
    {
     "data": {
      "text/html": [
       "<div>\n",
       "<style scoped>\n",
       "    .dataframe tbody tr th:only-of-type {\n",
       "        vertical-align: middle;\n",
       "    }\n",
       "\n",
       "    .dataframe tbody tr th {\n",
       "        vertical-align: top;\n",
       "    }\n",
       "\n",
       "    .dataframe thead th {\n",
       "        text-align: right;\n",
       "    }\n",
       "</style>\n",
       "<table border=\"1\" class=\"dataframe\">\n",
       "  <thead>\n",
       "    <tr style=\"text-align: right;\">\n",
       "      <th></th>\n",
       "      <th>messages_included</th>\n",
       "      <th>mb_per_month_included</th>\n",
       "      <th>minutes_included</th>\n",
       "      <th>rub_monthly_fee</th>\n",
       "      <th>rub_per_gb</th>\n",
       "      <th>rub_per_message</th>\n",
       "      <th>rub_per_minute</th>\n",
       "      <th>tariff_name</th>\n",
       "    </tr>\n",
       "  </thead>\n",
       "  <tbody>\n",
       "    <tr>\n",
       "      <td>0</td>\n",
       "      <td>50</td>\n",
       "      <td>15360</td>\n",
       "      <td>500</td>\n",
       "      <td>550</td>\n",
       "      <td>200</td>\n",
       "      <td>3</td>\n",
       "      <td>3</td>\n",
       "      <td>smart</td>\n",
       "    </tr>\n",
       "    <tr>\n",
       "      <td>1</td>\n",
       "      <td>1000</td>\n",
       "      <td>30720</td>\n",
       "      <td>3000</td>\n",
       "      <td>1950</td>\n",
       "      <td>150</td>\n",
       "      <td>1</td>\n",
       "      <td>1</td>\n",
       "      <td>ultra</td>\n",
       "    </tr>\n",
       "  </tbody>\n",
       "</table>\n",
       "</div>"
      ],
      "text/plain": [
       "   messages_included  mb_per_month_included  minutes_included  \\\n",
       "0                 50                  15360               500   \n",
       "1               1000                  30720              3000   \n",
       "\n",
       "   rub_monthly_fee  rub_per_gb  rub_per_message  rub_per_minute tariff_name  \n",
       "0              550         200                3               3       smart  \n",
       "1             1950         150                1               1       ultra  "
      ]
     },
     "execution_count": 19,
     "metadata": {},
     "output_type": "execute_result"
    }
   ],
   "source": [
    "#Выведем первые пять строк таблицы \"Tariffs\"\n",
    "tariffs.head()"
   ]
  },
  {
   "cell_type": "code",
   "execution_count": 20,
   "metadata": {},
   "outputs": [
    {
     "data": {
      "text/plain": [
       "Index(['messages_included', 'mb_per_month_included', 'minutes_included',\n",
       "       'rub_monthly_fee', 'rub_per_gb', 'rub_per_message', 'rub_per_minute',\n",
       "       'tariff_name'],\n",
       "      dtype='object')"
      ]
     },
     "execution_count": 20,
     "metadata": {},
     "output_type": "execute_result"
    }
   ],
   "source": [
    "#Посмотрим на столбцы из таблицы \"Tariffs\"\n",
    "tariffs.columns"
   ]
  },
  {
   "cell_type": "code",
   "execution_count": 21,
   "metadata": {},
   "outputs": [
    {
     "data": {
      "text/plain": [
       "messages_included        0\n",
       "mb_per_month_included    0\n",
       "minutes_included         0\n",
       "rub_monthly_fee          0\n",
       "rub_per_gb               0\n",
       "rub_per_message          0\n",
       "rub_per_minute           0\n",
       "tariff_name              0\n",
       "dtype: int64"
      ]
     },
     "execution_count": 21,
     "metadata": {},
     "output_type": "execute_result"
    }
   ],
   "source": [
    "#Посчитаем количество пустых значений в таблице \"Tariffs\"\n",
    "tariffs.isnull().sum()"
   ]
  },
  {
   "cell_type": "code",
   "execution_count": 22,
   "metadata": {},
   "outputs": [
    {
     "data": {
      "text/plain": [
       "0"
      ]
     },
     "execution_count": 22,
     "metadata": {},
     "output_type": "execute_result"
    }
   ],
   "source": [
    "#Посчитаем количество дубликатов в таблице \"Tariffs\"\n",
    "tariffs.duplicated().sum()"
   ]
  },
  {
   "cell_type": "markdown",
   "metadata": {},
   "source": [
    "<div class=\"alert alert-info\"> <b>Комментарий студента:</b> \n",
    "    Вывод:\n",
    "\n",
    "1)Типы данных указаны верно. Изменять ничего не нужно\n",
    "\n",
    "2)Пустых значений и дубликатов не имеется</div>"
   ]
  },
  {
   "cell_type": "markdown",
   "metadata": {},
   "source": [
    "Изучим Dataset Users"
   ]
  },
  {
   "cell_type": "code",
   "execution_count": 23,
   "metadata": {},
   "outputs": [
    {
     "name": "stdout",
     "output_type": "stream",
     "text": [
      "<class 'pandas.core.frame.DataFrame'>\n",
      "RangeIndex: 500 entries, 0 to 499\n",
      "Data columns (total 8 columns):\n",
      "user_id       500 non-null int64\n",
      "age           500 non-null int64\n",
      "churn_date    38 non-null object\n",
      "city          500 non-null object\n",
      "first_name    500 non-null object\n",
      "last_name     500 non-null object\n",
      "reg_date      500 non-null object\n",
      "tariff        500 non-null object\n",
      "dtypes: int64(2), object(6)\n",
      "memory usage: 31.4+ KB\n"
     ]
    }
   ],
   "source": [
    "#Получим информацию с таблицы \"Users\" методом info\n",
    "users.info()"
   ]
  },
  {
   "cell_type": "code",
   "execution_count": 24,
   "metadata": {},
   "outputs": [
    {
     "data": {
      "text/html": [
       "<div>\n",
       "<style scoped>\n",
       "    .dataframe tbody tr th:only-of-type {\n",
       "        vertical-align: middle;\n",
       "    }\n",
       "\n",
       "    .dataframe tbody tr th {\n",
       "        vertical-align: top;\n",
       "    }\n",
       "\n",
       "    .dataframe thead th {\n",
       "        text-align: right;\n",
       "    }\n",
       "</style>\n",
       "<table border=\"1\" class=\"dataframe\">\n",
       "  <thead>\n",
       "    <tr style=\"text-align: right;\">\n",
       "      <th></th>\n",
       "      <th>user_id</th>\n",
       "      <th>age</th>\n",
       "      <th>churn_date</th>\n",
       "      <th>city</th>\n",
       "      <th>first_name</th>\n",
       "      <th>last_name</th>\n",
       "      <th>reg_date</th>\n",
       "      <th>tariff</th>\n",
       "    </tr>\n",
       "  </thead>\n",
       "  <tbody>\n",
       "    <tr>\n",
       "      <td>0</td>\n",
       "      <td>1000</td>\n",
       "      <td>52</td>\n",
       "      <td>NaN</td>\n",
       "      <td>Краснодар</td>\n",
       "      <td>Рафаил</td>\n",
       "      <td>Верещагин</td>\n",
       "      <td>2018-05-25</td>\n",
       "      <td>ultra</td>\n",
       "    </tr>\n",
       "    <tr>\n",
       "      <td>1</td>\n",
       "      <td>1001</td>\n",
       "      <td>41</td>\n",
       "      <td>NaN</td>\n",
       "      <td>Москва</td>\n",
       "      <td>Иван</td>\n",
       "      <td>Ежов</td>\n",
       "      <td>2018-11-01</td>\n",
       "      <td>smart</td>\n",
       "    </tr>\n",
       "    <tr>\n",
       "      <td>2</td>\n",
       "      <td>1002</td>\n",
       "      <td>59</td>\n",
       "      <td>NaN</td>\n",
       "      <td>Стерлитамак</td>\n",
       "      <td>Евгений</td>\n",
       "      <td>Абрамович</td>\n",
       "      <td>2018-06-17</td>\n",
       "      <td>smart</td>\n",
       "    </tr>\n",
       "    <tr>\n",
       "      <td>3</td>\n",
       "      <td>1003</td>\n",
       "      <td>23</td>\n",
       "      <td>NaN</td>\n",
       "      <td>Москва</td>\n",
       "      <td>Белла</td>\n",
       "      <td>Белякова</td>\n",
       "      <td>2018-08-17</td>\n",
       "      <td>ultra</td>\n",
       "    </tr>\n",
       "    <tr>\n",
       "      <td>4</td>\n",
       "      <td>1004</td>\n",
       "      <td>68</td>\n",
       "      <td>NaN</td>\n",
       "      <td>Новокузнецк</td>\n",
       "      <td>Татьяна</td>\n",
       "      <td>Авдеенко</td>\n",
       "      <td>2018-05-14</td>\n",
       "      <td>ultra</td>\n",
       "    </tr>\n",
       "  </tbody>\n",
       "</table>\n",
       "</div>"
      ],
      "text/plain": [
       "   user_id  age churn_date         city first_name  last_name    reg_date  \\\n",
       "0     1000   52        NaN    Краснодар     Рафаил  Верещагин  2018-05-25   \n",
       "1     1001   41        NaN       Москва       Иван       Ежов  2018-11-01   \n",
       "2     1002   59        NaN  Стерлитамак    Евгений  Абрамович  2018-06-17   \n",
       "3     1003   23        NaN       Москва      Белла   Белякова  2018-08-17   \n",
       "4     1004   68        NaN  Новокузнецк    Татьяна   Авдеенко  2018-05-14   \n",
       "\n",
       "  tariff  \n",
       "0  ultra  \n",
       "1  smart  \n",
       "2  smart  \n",
       "3  ultra  \n",
       "4  ultra  "
      ]
     },
     "execution_count": 24,
     "metadata": {},
     "output_type": "execute_result"
    }
   ],
   "source": [
    "#Выведем первые пять строк таблицы \"Users\"\n",
    "users.head()"
   ]
  },
  {
   "cell_type": "code",
   "execution_count": 25,
   "metadata": {},
   "outputs": [
    {
     "data": {
      "text/plain": [
       "Index(['user_id', 'age', 'churn_date', 'city', 'first_name', 'last_name',\n",
       "       'reg_date', 'tariff'],\n",
       "      dtype='object')"
      ]
     },
     "execution_count": 25,
     "metadata": {},
     "output_type": "execute_result"
    }
   ],
   "source": [
    "#Посмотрим на столбцы таблицы \"Users\"\n",
    "users.columns"
   ]
  },
  {
   "cell_type": "code",
   "execution_count": 26,
   "metadata": {},
   "outputs": [
    {
     "data": {
      "text/plain": [
       "53    14\n",
       "42    14\n",
       "63    13\n",
       "71    13\n",
       "64    13\n",
       "73    12\n",
       "21    12\n",
       "40    12\n",
       "39    11\n",
       "47    11\n",
       "29    11\n",
       "26    11\n",
       "37    11\n",
       "41    10\n",
       "36    10\n",
       "58    10\n",
       "45    10\n",
       "70    10\n",
       "52    10\n",
       "51     9\n",
       "27     9\n",
       "48     9\n",
       "50     9\n",
       "28     9\n",
       "30     9\n",
       "24     9\n",
       "20     9\n",
       "19     9\n",
       "56     9\n",
       "23     9\n",
       "68     9\n",
       "66     9\n",
       "65     9\n",
       "69     8\n",
       "62     8\n",
       "60     8\n",
       "44     8\n",
       "55     8\n",
       "25     7\n",
       "43     7\n",
       "67     7\n",
       "35     7\n",
       "74     7\n",
       "32     7\n",
       "31     7\n",
       "46     7\n",
       "75     6\n",
       "54     6\n",
       "59     6\n",
       "18     6\n",
       "33     5\n",
       "34     5\n",
       "38     5\n",
       "22     5\n",
       "72     5\n",
       "49     4\n",
       "57     4\n",
       "61     3\n",
       "Name: age, dtype: int64"
      ]
     },
     "execution_count": 26,
     "metadata": {},
     "output_type": "execute_result"
    }
   ],
   "source": [
    "#Посмотрим на имеющиеся данные о возрасте. \n",
    "users['age'].value_counts()"
   ]
  },
  {
   "cell_type": "code",
   "execution_count": 27,
   "metadata": {},
   "outputs": [
    {
     "data": {
      "text/plain": [
       "smart    351\n",
       "ultra    149\n",
       "Name: tariff, dtype: int64"
      ]
     },
     "execution_count": 27,
     "metadata": {},
     "output_type": "execute_result"
    }
   ],
   "source": [
    "#Посмотрим сколько пользователей какого тарифа мы имеем\n",
    "users['tariff'].value_counts()"
   ]
  },
  {
   "cell_type": "code",
   "execution_count": 28,
   "metadata": {},
   "outputs": [
    {
     "data": {
      "text/plain": [
       "Радим        6\n",
       "Пётр         5\n",
       "Леонид       5\n",
       "Веселина     4\n",
       "Артём        4\n",
       "            ..\n",
       "Виолетта     1\n",
       "Виталий      1\n",
       "Саида        1\n",
       "Станислав    1\n",
       "Степан       1\n",
       "Name: first_name, Length: 246, dtype: int64"
      ]
     },
     "execution_count": 28,
     "metadata": {},
     "output_type": "execute_result"
    }
   ],
   "source": [
    "#Посмотрим на столбец first_name\n",
    "users['first_name'].value_counts()"
   ]
  },
  {
   "cell_type": "code",
   "execution_count": 29,
   "metadata": {},
   "outputs": [
    {
     "data": {
      "text/plain": [
       "Андреенко    5\n",
       "Озерова      3\n",
       "Булгаков     3\n",
       "Аничкина     3\n",
       "Абашкина     3\n",
       "            ..\n",
       "Абалакова    1\n",
       "Семёнов      1\n",
       "Пономарёв    1\n",
       "Панфилов     1\n",
       "Алютин       1\n",
       "Name: last_name, Length: 419, dtype: int64"
      ]
     },
     "execution_count": 29,
     "metadata": {},
     "output_type": "execute_result"
    }
   ],
   "source": [
    "#Посмотрим на столбец last_name\n",
    "users['last_name'].value_counts()"
   ]
  },
  {
   "cell_type": "code",
   "execution_count": 30,
   "metadata": {},
   "outputs": [
    {
     "data": {
      "text/plain": [
       "Москва             99\n",
       "Санкт-Петербург    39\n",
       "Новосибирск        16\n",
       "Омск               14\n",
       "Казань             14\n",
       "                   ..\n",
       "Нижневартовск       1\n",
       "Подольск            1\n",
       "Архангельск         1\n",
       "Химки               1\n",
       "Иваново             1\n",
       "Name: city, Length: 76, dtype: int64"
      ]
     },
     "execution_count": 30,
     "metadata": {},
     "output_type": "execute_result"
    }
   ],
   "source": [
    "#Посмотрим на столбец city\n",
    "users['city'].value_counts()"
   ]
  },
  {
   "cell_type": "code",
   "execution_count": 31,
   "metadata": {},
   "outputs": [
    {
     "data": {
      "text/plain": [
       "user_id         0\n",
       "age             0\n",
       "churn_date    462\n",
       "city            0\n",
       "first_name      0\n",
       "last_name       0\n",
       "reg_date        0\n",
       "tariff          0\n",
       "dtype: int64"
      ]
     },
     "execution_count": 31,
     "metadata": {},
     "output_type": "execute_result"
    }
   ],
   "source": [
    "#Посчитаем количество пустых значений в таблице \"users\"\n",
    "users.isnull().sum()"
   ]
  },
  {
   "cell_type": "code",
   "execution_count": 32,
   "metadata": {},
   "outputs": [
    {
     "data": {
      "text/plain": [
       "0"
      ]
     },
     "execution_count": 32,
     "metadata": {},
     "output_type": "execute_result"
    }
   ],
   "source": [
    "#Посчитаем количество дубликатов таблицы \"Users\"\n",
    "users.duplicated().sum()"
   ]
  },
  {
   "cell_type": "markdown",
   "metadata": {},
   "source": [
    "<div class=\"alert alert-info\"> <b>Комментарий студента:</b> \n",
    "    Вывод:\n",
    "\n",
    "1)Изменить типы данных в : churn_date, reg_date\n",
    "    \n",
    "2)Привести к нижнему регистру названия городов, Имена и фамилии\n",
    "    \n",
    "3)Имеются пустые значения в столбце churn_date, необходимо будет поработать с данным столбцом и решить, что будет делать с данным столбцом: игнорировать или проводить замены пустых значений на другие.\n",
    "    \n",
    "4)Дубликатов нет.</div>"
   ]
  },
  {
   "cell_type": "markdown",
   "metadata": {},
   "source": [
    "<div class=\"alert alert-info\"> <b>Вывод по изучению общей информации</b> \n",
    "    \n",
    "    1)Практически во всех таблицах имеются проблемы с типами данных, которые нужно будет так же изменить.\n",
    "\n",
    "    2)В Таблице Internet, имеется столбец - Unnamed, который можно будет удалить, так как он просто дублирует индексацию таблицы.</div>"
   ]
  },
  {
   "cell_type": "markdown",
   "metadata": {},
   "source": [
    "<div class=\"alert alert-info\"> <b>Предобработка данных</b> \n",
    "\n",
    "1)Приведем данные к нужным типам;\n",
    "\n",
    "2)Попробуем найти и исправить ошибки в данных;\n",
    "\n",
    "3)Посчитаем для каждого пользователя:\n",
    "    \n",
    "    a)количество сделанных звонков и израсходованных минут разговора по месяцам;\n",
    "    b)количество отправленных сообщений по месяцам;\n",
    "    c)объем израсходованного интернет-трафика по месяцам;\n",
    "    d)помесячную выручку с каждого пользователя (вычтем бесплатный лимит из суммарного количества звонков, сообщений и интернет-трафика; остаток умножим на значение из тарифного плана; прибавим абонентскую плату, соответствующую тарифному плану).\n",
    "</div>"
   ]
  },
  {
   "cell_type": "markdown",
   "metadata": {},
   "source": [
    "Изменим типы данных"
   ]
  },
  {
   "cell_type": "code",
   "execution_count": 33,
   "metadata": {},
   "outputs": [],
   "source": [
    "#Изменим типы данных в таблице Calls\n",
    "calls['id'] = calls['id'].astype('int64')\n",
    "calls['call_date'] = pd.to_datetime(calls['call_date'])\n",
    "#calls['duration'] = calls['duration'].astype('int64')"
   ]
  },
  {
   "cell_type": "code",
   "execution_count": 34,
   "metadata": {},
   "outputs": [
    {
     "data": {
      "text/plain": [
       "id                    int64\n",
       "call_date    datetime64[ns]\n",
       "duration            float64\n",
       "user_id               int64\n",
       "dtype: object"
      ]
     },
     "execution_count": 34,
     "metadata": {},
     "output_type": "execute_result"
    }
   ],
   "source": [
    "#Проверим типы данных\n",
    "calls.dtypes"
   ]
  },
  {
   "cell_type": "code",
   "execution_count": 35,
   "metadata": {},
   "outputs": [],
   "source": [
    "#Изменим типы данных в таблице Internet\n",
    "internet['id'] = internet['id'].astype(int)\n",
    "internet['session_date'] = pd.to_datetime(internet['session_date'])"
   ]
  },
  {
   "cell_type": "code",
   "execution_count": 36,
   "metadata": {},
   "outputs": [
    {
     "data": {
      "text/plain": [
       "id                       int64\n",
       "mb_used                float64\n",
       "session_date    datetime64[ns]\n",
       "user_id                  int64\n",
       "dtype: object"
      ]
     },
     "execution_count": 36,
     "metadata": {},
     "output_type": "execute_result"
    }
   ],
   "source": [
    "#Удалим столбец unnamed в таблице Internet\n",
    "internet.drop('Unnamed: 0', axis='columns', inplace=True)\n",
    "internet.dtypes"
   ]
  },
  {
   "cell_type": "code",
   "execution_count": 37,
   "metadata": {},
   "outputs": [
    {
     "data": {
      "text/html": [
       "<div>\n",
       "<style scoped>\n",
       "    .dataframe tbody tr th:only-of-type {\n",
       "        vertical-align: middle;\n",
       "    }\n",
       "\n",
       "    .dataframe tbody tr th {\n",
       "        vertical-align: top;\n",
       "    }\n",
       "\n",
       "    .dataframe thead th {\n",
       "        text-align: right;\n",
       "    }\n",
       "</style>\n",
       "<table border=\"1\" class=\"dataframe\">\n",
       "  <thead>\n",
       "    <tr style=\"text-align: right;\">\n",
       "      <th></th>\n",
       "      <th>id</th>\n",
       "      <th>mb_used</th>\n",
       "      <th>session_date</th>\n",
       "      <th>user_id</th>\n",
       "    </tr>\n",
       "  </thead>\n",
       "  <tbody>\n",
       "    <tr>\n",
       "      <td>0</td>\n",
       "      <td>10000</td>\n",
       "      <td>112.95</td>\n",
       "      <td>2018-11-25</td>\n",
       "      <td>1000</td>\n",
       "    </tr>\n",
       "    <tr>\n",
       "      <td>1</td>\n",
       "      <td>10001</td>\n",
       "      <td>1052.81</td>\n",
       "      <td>2018-09-07</td>\n",
       "      <td>1000</td>\n",
       "    </tr>\n",
       "    <tr>\n",
       "      <td>2</td>\n",
       "      <td>10002</td>\n",
       "      <td>1197.26</td>\n",
       "      <td>2018-06-25</td>\n",
       "      <td>1000</td>\n",
       "    </tr>\n",
       "    <tr>\n",
       "      <td>3</td>\n",
       "      <td>10003</td>\n",
       "      <td>550.27</td>\n",
       "      <td>2018-08-22</td>\n",
       "      <td>1000</td>\n",
       "    </tr>\n",
       "    <tr>\n",
       "      <td>4</td>\n",
       "      <td>10004</td>\n",
       "      <td>302.56</td>\n",
       "      <td>2018-09-24</td>\n",
       "      <td>1000</td>\n",
       "    </tr>\n",
       "  </tbody>\n",
       "</table>\n",
       "</div>"
      ],
      "text/plain": [
       "      id  mb_used session_date  user_id\n",
       "0  10000   112.95   2018-11-25     1000\n",
       "1  10001  1052.81   2018-09-07     1000\n",
       "2  10002  1197.26   2018-06-25     1000\n",
       "3  10003   550.27   2018-08-22     1000\n",
       "4  10004   302.56   2018-09-24     1000"
      ]
     },
     "execution_count": 37,
     "metadata": {},
     "output_type": "execute_result"
    }
   ],
   "source": [
    "#Посмотрим нашу таблицу.\n",
    "internet.head()"
   ]
  },
  {
   "cell_type": "code",
   "execution_count": 38,
   "metadata": {},
   "outputs": [],
   "source": [
    "#Изменим типы данных в таблице Messages\n",
    "messages['id'] = messages['id'].astype(int)\n",
    "messages['message_date'] = pd.to_datetime(messages['message_date'])"
   ]
  },
  {
   "cell_type": "code",
   "execution_count": 39,
   "metadata": {},
   "outputs": [
    {
     "data": {
      "text/plain": [
       "id                       int64\n",
       "message_date    datetime64[ns]\n",
       "user_id                  int64\n",
       "dtype: object"
      ]
     },
     "execution_count": 39,
     "metadata": {},
     "output_type": "execute_result"
    }
   ],
   "source": [
    "#Проверим изменили ли мы типы данных\n",
    "messages.dtypes"
   ]
  },
  {
   "cell_type": "code",
   "execution_count": 40,
   "metadata": {},
   "outputs": [
    {
     "data": {
      "text/html": [
       "<div>\n",
       "<style scoped>\n",
       "    .dataframe tbody tr th:only-of-type {\n",
       "        vertical-align: middle;\n",
       "    }\n",
       "\n",
       "    .dataframe tbody tr th {\n",
       "        vertical-align: top;\n",
       "    }\n",
       "\n",
       "    .dataframe thead th {\n",
       "        text-align: right;\n",
       "    }\n",
       "</style>\n",
       "<table border=\"1\" class=\"dataframe\">\n",
       "  <thead>\n",
       "    <tr style=\"text-align: right;\">\n",
       "      <th></th>\n",
       "      <th>id</th>\n",
       "      <th>message_date</th>\n",
       "      <th>user_id</th>\n",
       "    </tr>\n",
       "  </thead>\n",
       "  <tbody>\n",
       "    <tr>\n",
       "      <td>0</td>\n",
       "      <td>10000</td>\n",
       "      <td>2018-06-27</td>\n",
       "      <td>1000</td>\n",
       "    </tr>\n",
       "    <tr>\n",
       "      <td>1</td>\n",
       "      <td>10001</td>\n",
       "      <td>2018-10-08</td>\n",
       "      <td>1000</td>\n",
       "    </tr>\n",
       "    <tr>\n",
       "      <td>2</td>\n",
       "      <td>10002</td>\n",
       "      <td>2018-08-04</td>\n",
       "      <td>1000</td>\n",
       "    </tr>\n",
       "    <tr>\n",
       "      <td>3</td>\n",
       "      <td>10003</td>\n",
       "      <td>2018-06-16</td>\n",
       "      <td>1000</td>\n",
       "    </tr>\n",
       "    <tr>\n",
       "      <td>4</td>\n",
       "      <td>10004</td>\n",
       "      <td>2018-12-05</td>\n",
       "      <td>1000</td>\n",
       "    </tr>\n",
       "  </tbody>\n",
       "</table>\n",
       "</div>"
      ],
      "text/plain": [
       "      id message_date  user_id\n",
       "0  10000   2018-06-27     1000\n",
       "1  10001   2018-10-08     1000\n",
       "2  10002   2018-08-04     1000\n",
       "3  10003   2018-06-16     1000\n",
       "4  10004   2018-12-05     1000"
      ]
     },
     "execution_count": 40,
     "metadata": {},
     "output_type": "execute_result"
    }
   ],
   "source": [
    "#Выведем первые пять строк таблицы Messages\n",
    "messages.head()"
   ]
  },
  {
   "cell_type": "code",
   "execution_count": 41,
   "metadata": {},
   "outputs": [],
   "source": [
    "#Изменим типы данных и приведем к нижнему регистру нижеследующие столбцы\n",
    "users['churn_date'] = pd.to_datetime(users['churn_date'])\n",
    "users['reg_date'] = pd.to_datetime(users['reg_date'])\n",
    "users['city'] = users['city'].str.lower()\n",
    "users['first_name'] = users['first_name'].str.lower()\n",
    "users['last_name'] = users['last_name'].str.lower()"
   ]
  },
  {
   "cell_type": "code",
   "execution_count": 42,
   "metadata": {},
   "outputs": [
    {
     "data": {
      "text/html": [
       "<div>\n",
       "<style scoped>\n",
       "    .dataframe tbody tr th:only-of-type {\n",
       "        vertical-align: middle;\n",
       "    }\n",
       "\n",
       "    .dataframe tbody tr th {\n",
       "        vertical-align: top;\n",
       "    }\n",
       "\n",
       "    .dataframe thead th {\n",
       "        text-align: right;\n",
       "    }\n",
       "</style>\n",
       "<table border=\"1\" class=\"dataframe\">\n",
       "  <thead>\n",
       "    <tr style=\"text-align: right;\">\n",
       "      <th></th>\n",
       "      <th>user_id</th>\n",
       "      <th>age</th>\n",
       "      <th>churn_date</th>\n",
       "      <th>city</th>\n",
       "      <th>first_name</th>\n",
       "      <th>last_name</th>\n",
       "      <th>reg_date</th>\n",
       "      <th>tariff</th>\n",
       "    </tr>\n",
       "  </thead>\n",
       "  <tbody>\n",
       "    <tr>\n",
       "      <td>82</td>\n",
       "      <td>1082</td>\n",
       "      <td>48</td>\n",
       "      <td>NaT</td>\n",
       "      <td>москва</td>\n",
       "      <td>авксентий</td>\n",
       "      <td>малышев</td>\n",
       "      <td>2018-10-05</td>\n",
       "      <td>smart</td>\n",
       "    </tr>\n",
       "    <tr>\n",
       "      <td>74</td>\n",
       "      <td>1074</td>\n",
       "      <td>68</td>\n",
       "      <td>NaT</td>\n",
       "      <td>якутск</td>\n",
       "      <td>андрей</td>\n",
       "      <td>кравцов</td>\n",
       "      <td>2018-12-30</td>\n",
       "      <td>smart</td>\n",
       "    </tr>\n",
       "    <tr>\n",
       "      <td>54</td>\n",
       "      <td>1054</td>\n",
       "      <td>33</td>\n",
       "      <td>NaT</td>\n",
       "      <td>омск</td>\n",
       "      <td>кристина</td>\n",
       "      <td>платонова</td>\n",
       "      <td>2018-03-20</td>\n",
       "      <td>smart</td>\n",
       "    </tr>\n",
       "    <tr>\n",
       "      <td>130</td>\n",
       "      <td>1130</td>\n",
       "      <td>58</td>\n",
       "      <td>NaT</td>\n",
       "      <td>тюмень</td>\n",
       "      <td>инара</td>\n",
       "      <td>крюкова</td>\n",
       "      <td>2018-04-01</td>\n",
       "      <td>smart</td>\n",
       "    </tr>\n",
       "    <tr>\n",
       "      <td>361</td>\n",
       "      <td>1361</td>\n",
       "      <td>38</td>\n",
       "      <td>NaT</td>\n",
       "      <td>екатеринбург</td>\n",
       "      <td>рената</td>\n",
       "      <td>кошелева</td>\n",
       "      <td>2018-09-09</td>\n",
       "      <td>ultra</td>\n",
       "    </tr>\n",
       "    <tr>\n",
       "      <td>117</td>\n",
       "      <td>1117</td>\n",
       "      <td>42</td>\n",
       "      <td>NaT</td>\n",
       "      <td>тюмень</td>\n",
       "      <td>дана</td>\n",
       "      <td>меркулова</td>\n",
       "      <td>2018-12-10</td>\n",
       "      <td>smart</td>\n",
       "    </tr>\n",
       "    <tr>\n",
       "      <td>377</td>\n",
       "      <td>1377</td>\n",
       "      <td>59</td>\n",
       "      <td>NaT</td>\n",
       "      <td>брянск</td>\n",
       "      <td>альфред</td>\n",
       "      <td>семин</td>\n",
       "      <td>2018-02-25</td>\n",
       "      <td>ultra</td>\n",
       "    </tr>\n",
       "    <tr>\n",
       "      <td>37</td>\n",
       "      <td>1037</td>\n",
       "      <td>73</td>\n",
       "      <td>NaT</td>\n",
       "      <td>череповец</td>\n",
       "      <td>изольда</td>\n",
       "      <td>архипова</td>\n",
       "      <td>2018-10-13</td>\n",
       "      <td>smart</td>\n",
       "    </tr>\n",
       "    <tr>\n",
       "      <td>13</td>\n",
       "      <td>1013</td>\n",
       "      <td>36</td>\n",
       "      <td>NaT</td>\n",
       "      <td>иваново</td>\n",
       "      <td>борис</td>\n",
       "      <td>андреенко</td>\n",
       "      <td>2018-11-14</td>\n",
       "      <td>ultra</td>\n",
       "    </tr>\n",
       "    <tr>\n",
       "      <td>354</td>\n",
       "      <td>1354</td>\n",
       "      <td>56</td>\n",
       "      <td>NaT</td>\n",
       "      <td>сочи</td>\n",
       "      <td>лола</td>\n",
       "      <td>кулагина</td>\n",
       "      <td>2018-08-19</td>\n",
       "      <td>smart</td>\n",
       "    </tr>\n",
       "  </tbody>\n",
       "</table>\n",
       "</div>"
      ],
      "text/plain": [
       "     user_id  age churn_date          city first_name  last_name   reg_date  \\\n",
       "82      1082   48        NaT        москва  авксентий    малышев 2018-10-05   \n",
       "74      1074   68        NaT        якутск     андрей    кравцов 2018-12-30   \n",
       "54      1054   33        NaT          омск   кристина  платонова 2018-03-20   \n",
       "130     1130   58        NaT        тюмень      инара    крюкова 2018-04-01   \n",
       "361     1361   38        NaT  екатеринбург     рената   кошелева 2018-09-09   \n",
       "117     1117   42        NaT        тюмень       дана  меркулова 2018-12-10   \n",
       "377     1377   59        NaT        брянск    альфред      семин 2018-02-25   \n",
       "37      1037   73        NaT     череповец    изольда   архипова 2018-10-13   \n",
       "13      1013   36        NaT       иваново      борис  андреенко 2018-11-14   \n",
       "354     1354   56        NaT          сочи       лола   кулагина 2018-08-19   \n",
       "\n",
       "    tariff  \n",
       "82   smart  \n",
       "74   smart  \n",
       "54   smart  \n",
       "130  smart  \n",
       "361  ultra  \n",
       "117  smart  \n",
       "377  ultra  \n",
       "37   smart  \n",
       "13   ultra  \n",
       "354  smart  "
      ]
     },
     "execution_count": 42,
     "metadata": {},
     "output_type": "execute_result"
    }
   ],
   "source": [
    "#Выведем случайные 10 строк таблицы Users\n",
    "users.sample(10)"
   ]
  },
  {
   "cell_type": "raw",
   "metadata": {},
   "source": [
    "Округлим значения duration и mb_used у тарифа Ultra"
   ]
  },
  {
   "cell_type": "code",
   "execution_count": 43,
   "metadata": {},
   "outputs": [],
   "source": [
    "# Округлим минуты и мегабайты у всех тарифов :)\n",
    "calls['duration'] = calls['duration'].apply(np.ceil)\n",
    "internet['mb_used'] = internet['mb_used'].apply(np.ceil)"
   ]
  },
  {
   "cell_type": "code",
   "execution_count": 44,
   "metadata": {},
   "outputs": [],
   "source": [
    "# Округлим минуты и мегабайты у всех тарифов :)\n",
    "calls['duration'] = calls['duration'].apply(np.ceil)\n",
    "internet['mb_used'] = internet['mb_used'] / 1024"
   ]
  },
  {
   "cell_type": "markdown",
   "metadata": {},
   "source": [
    "<div class=\"alert alert-info\"> <b>Комментарий студента:</b> Перевел мегабайты в гигабайты простым способом -мегабайты поделил на 1024, без округления .</div>"
   ]
  },
  {
   "cell_type": "markdown",
   "metadata": {},
   "source": [
    "Посчитаем количество сделанных звонков и израсходованных минут разговора по месяцам"
   ]
  },
  {
   "cell_type": "code",
   "execution_count": 45,
   "metadata": {},
   "outputs": [
    {
     "data": {
      "text/html": [
       "<div>\n",
       "<style scoped>\n",
       "    .dataframe tbody tr th:only-of-type {\n",
       "        vertical-align: middle;\n",
       "    }\n",
       "\n",
       "    .dataframe tbody tr th {\n",
       "        vertical-align: top;\n",
       "    }\n",
       "\n",
       "    .dataframe thead tr th {\n",
       "        text-align: left;\n",
       "    }\n",
       "\n",
       "    .dataframe thead tr:last-of-type th {\n",
       "        text-align: right;\n",
       "    }\n",
       "</style>\n",
       "<table border=\"1\" class=\"dataframe\">\n",
       "  <thead>\n",
       "    <tr>\n",
       "      <th></th>\n",
       "      <th></th>\n",
       "      <th>count</th>\n",
       "      <th>sum</th>\n",
       "    </tr>\n",
       "    <tr>\n",
       "      <th></th>\n",
       "      <th></th>\n",
       "      <th>total_calls</th>\n",
       "      <th>total_calls</th>\n",
       "    </tr>\n",
       "    <tr>\n",
       "      <th>month</th>\n",
       "      <th>user_id</th>\n",
       "      <th></th>\n",
       "      <th></th>\n",
       "    </tr>\n",
       "  </thead>\n",
       "  <tbody>\n",
       "    <tr>\n",
       "      <td rowspan=\"5\" valign=\"top\">1</td>\n",
       "      <td>1005</td>\n",
       "      <td>15</td>\n",
       "      <td>95.0</td>\n",
       "    </tr>\n",
       "    <tr>\n",
       "      <td>1032</td>\n",
       "      <td>61</td>\n",
       "      <td>380.0</td>\n",
       "    </tr>\n",
       "    <tr>\n",
       "      <td>1045</td>\n",
       "      <td>1</td>\n",
       "      <td>9.0</td>\n",
       "    </tr>\n",
       "    <tr>\n",
       "      <td>1055</td>\n",
       "      <td>64</td>\n",
       "      <td>551.0</td>\n",
       "    </tr>\n",
       "    <tr>\n",
       "      <td>1071</td>\n",
       "      <td>24</td>\n",
       "      <td>194.0</td>\n",
       "    </tr>\n",
       "    <tr>\n",
       "      <td>...</td>\n",
       "      <td>...</td>\n",
       "      <td>...</td>\n",
       "      <td>...</td>\n",
       "    </tr>\n",
       "    <tr>\n",
       "      <td rowspan=\"5\" valign=\"top\">12</td>\n",
       "      <td>1494</td>\n",
       "      <td>62</td>\n",
       "      <td>418.0</td>\n",
       "    </tr>\n",
       "    <tr>\n",
       "      <td>1495</td>\n",
       "      <td>155</td>\n",
       "      <td>1031.0</td>\n",
       "    </tr>\n",
       "    <tr>\n",
       "      <td>1496</td>\n",
       "      <td>80</td>\n",
       "      <td>518.0</td>\n",
       "    </tr>\n",
       "    <tr>\n",
       "      <td>1497</td>\n",
       "      <td>71</td>\n",
       "      <td>545.0</td>\n",
       "    </tr>\n",
       "    <tr>\n",
       "      <td>1499</td>\n",
       "      <td>69</td>\n",
       "      <td>492.0</td>\n",
       "    </tr>\n",
       "  </tbody>\n",
       "</table>\n",
       "<p>3174 rows × 2 columns</p>\n",
       "</div>"
      ],
      "text/plain": [
       "                    count         sum\n",
       "              total_calls total_calls\n",
       "month user_id                        \n",
       "1     1005             15        95.0\n",
       "      1032             61       380.0\n",
       "      1045              1         9.0\n",
       "      1055             64       551.0\n",
       "      1071             24       194.0\n",
       "...                   ...         ...\n",
       "12    1494             62       418.0\n",
       "      1495            155      1031.0\n",
       "      1496             80       518.0\n",
       "      1497             71       545.0\n",
       "      1499             69       492.0\n",
       "\n",
       "[3174 rows x 2 columns]"
      ]
     },
     "execution_count": 45,
     "metadata": {},
     "output_type": "execute_result"
    }
   ],
   "source": [
    "# Добавим столбец month в таблицу calls, для того, чтобы можно было вывести количество звонков\n",
    "# и израсходаванных минут по месяцам. \n",
    "calls['month'] = pd.DatetimeIndex(calls['call_date']).month\n",
    "calls_times = calls.pivot_table(index=['month', 'user_id'], values='duration', aggfunc=['count', 'sum']).rename(columns={'duration': 'total_calls'})\n",
    "calls_times"
   ]
  },
  {
   "cell_type": "markdown",
   "metadata": {},
   "source": [
    "Посчитаем количество отправленных сообщений по месяцам"
   ]
  },
  {
   "cell_type": "code",
   "execution_count": 46,
   "metadata": {},
   "outputs": [
    {
     "data": {
      "text/html": [
       "<div>\n",
       "<style scoped>\n",
       "    .dataframe tbody tr th:only-of-type {\n",
       "        vertical-align: middle;\n",
       "    }\n",
       "\n",
       "    .dataframe tbody tr th {\n",
       "        vertical-align: top;\n",
       "    }\n",
       "\n",
       "    .dataframe thead th {\n",
       "        text-align: right;\n",
       "    }\n",
       "</style>\n",
       "<table border=\"1\" class=\"dataframe\">\n",
       "  <thead>\n",
       "    <tr style=\"text-align: right;\">\n",
       "      <th></th>\n",
       "      <th></th>\n",
       "      <th>id</th>\n",
       "    </tr>\n",
       "    <tr>\n",
       "      <th>month</th>\n",
       "      <th>user_id</th>\n",
       "      <th></th>\n",
       "    </tr>\n",
       "  </thead>\n",
       "  <tbody>\n",
       "    <tr>\n",
       "      <td rowspan=\"5\" valign=\"top\">1</td>\n",
       "      <td>1005</td>\n",
       "      <td>7</td>\n",
       "    </tr>\n",
       "    <tr>\n",
       "      <td>1032</td>\n",
       "      <td>38</td>\n",
       "    </tr>\n",
       "    <tr>\n",
       "      <td>1045</td>\n",
       "      <td>5</td>\n",
       "    </tr>\n",
       "    <tr>\n",
       "      <td>1055</td>\n",
       "      <td>30</td>\n",
       "    </tr>\n",
       "    <tr>\n",
       "      <td>1071</td>\n",
       "      <td>16</td>\n",
       "    </tr>\n",
       "    <tr>\n",
       "      <td>...</td>\n",
       "      <td>...</td>\n",
       "      <td>...</td>\n",
       "    </tr>\n",
       "    <tr>\n",
       "      <td rowspan=\"5\" valign=\"top\">12</td>\n",
       "      <td>1493</td>\n",
       "      <td>78</td>\n",
       "    </tr>\n",
       "    <tr>\n",
       "      <td>1495</td>\n",
       "      <td>84</td>\n",
       "    </tr>\n",
       "    <tr>\n",
       "      <td>1496</td>\n",
       "      <td>51</td>\n",
       "    </tr>\n",
       "    <tr>\n",
       "      <td>1497</td>\n",
       "      <td>17</td>\n",
       "    </tr>\n",
       "    <tr>\n",
       "      <td>1499</td>\n",
       "      <td>66</td>\n",
       "    </tr>\n",
       "  </tbody>\n",
       "</table>\n",
       "<p>2717 rows × 1 columns</p>\n",
       "</div>"
      ],
      "text/plain": [
       "               id\n",
       "month user_id    \n",
       "1     1005      7\n",
       "      1032     38\n",
       "      1045      5\n",
       "      1055     30\n",
       "      1071     16\n",
       "...            ..\n",
       "12    1493     78\n",
       "      1495     84\n",
       "      1496     51\n",
       "      1497     17\n",
       "      1499     66\n",
       "\n",
       "[2717 rows x 1 columns]"
      ]
     },
     "execution_count": 46,
     "metadata": {},
     "output_type": "execute_result"
    }
   ],
   "source": [
    "# Посчитаем количество отправленных сообщений по месяцам для каждого пользователя\n",
    "messages['month'] = pd.DatetimeIndex(messages['message_date']).month\n",
    "messages_times = messages.pivot_table(index=['month','user_id'], values='id', aggfunc='count')\n",
    "messages_times"
   ]
  },
  {
   "cell_type": "markdown",
   "metadata": {},
   "source": [
    "Посчитаем объем израсходованного интернет-трафика по месяцам"
   ]
  },
  {
   "cell_type": "code",
   "execution_count": 47,
   "metadata": {},
   "outputs": [
    {
     "data": {
      "text/html": [
       "<div>\n",
       "<style scoped>\n",
       "    .dataframe tbody tr th:only-of-type {\n",
       "        vertical-align: middle;\n",
       "    }\n",
       "\n",
       "    .dataframe tbody tr th {\n",
       "        vertical-align: top;\n",
       "    }\n",
       "\n",
       "    .dataframe thead th {\n",
       "        text-align: right;\n",
       "    }\n",
       "</style>\n",
       "<table border=\"1\" class=\"dataframe\">\n",
       "  <thead>\n",
       "    <tr style=\"text-align: right;\">\n",
       "      <th></th>\n",
       "      <th></th>\n",
       "      <th>mb_used</th>\n",
       "    </tr>\n",
       "    <tr>\n",
       "      <th>month</th>\n",
       "      <th>user_id</th>\n",
       "      <th></th>\n",
       "    </tr>\n",
       "  </thead>\n",
       "  <tbody>\n",
       "    <tr>\n",
       "      <td rowspan=\"5\" valign=\"top\">1</td>\n",
       "      <td>1005</td>\n",
       "      <td>2.666016</td>\n",
       "    </tr>\n",
       "    <tr>\n",
       "      <td>1032</td>\n",
       "      <td>23.581055</td>\n",
       "    </tr>\n",
       "    <tr>\n",
       "      <td>1045</td>\n",
       "      <td>2.292969</td>\n",
       "    </tr>\n",
       "    <tr>\n",
       "      <td>1055</td>\n",
       "      <td>16.709961</td>\n",
       "    </tr>\n",
       "    <tr>\n",
       "      <td>1071</td>\n",
       "      <td>15.255859</td>\n",
       "    </tr>\n",
       "    <tr>\n",
       "      <td>...</td>\n",
       "      <td>...</td>\n",
       "      <td>...</td>\n",
       "    </tr>\n",
       "    <tr>\n",
       "      <td rowspan=\"5\" valign=\"top\">2</td>\n",
       "      <td>1373</td>\n",
       "      <td>19.720703</td>\n",
       "    </tr>\n",
       "    <tr>\n",
       "      <td>1375</td>\n",
       "      <td>11.477539</td>\n",
       "    </tr>\n",
       "    <tr>\n",
       "      <td>1378</td>\n",
       "      <td>10.564453</td>\n",
       "    </tr>\n",
       "    <tr>\n",
       "      <td>1381</td>\n",
       "      <td>27.110352</td>\n",
       "    </tr>\n",
       "    <tr>\n",
       "      <td>1385</td>\n",
       "      <td>31.889648</td>\n",
       "    </tr>\n",
       "  </tbody>\n",
       "</table>\n",
       "<p>100 rows × 1 columns</p>\n",
       "</div>"
      ],
      "text/plain": [
       "                 mb_used\n",
       "month user_id           \n",
       "1     1005      2.666016\n",
       "      1032     23.581055\n",
       "      1045      2.292969\n",
       "      1055     16.709961\n",
       "      1071     15.255859\n",
       "...                  ...\n",
       "2     1373     19.720703\n",
       "      1375     11.477539\n",
       "      1378     10.564453\n",
       "      1381     27.110352\n",
       "      1385     31.889648\n",
       "\n",
       "[100 rows x 1 columns]"
      ]
     },
     "execution_count": 47,
     "metadata": {},
     "output_type": "execute_result"
    }
   ],
   "source": [
    "# Посчитаем объем траффика для каждого пользователя по месяцам\n",
    "internet['month'] = pd.DatetimeIndex(internet['session_date']).month\n",
    "internet_times = internet.pivot_table(index=['month','user_id'], values='mb_used', aggfunc='sum')\n",
    "internet_times.head(100)"
   ]
  },
  {
   "cell_type": "markdown",
   "metadata": {},
   "source": [
    "Посчитаем помесячную выручку с каждого пользователя"
   ]
  },
  {
   "cell_type": "code",
   "execution_count": 48,
   "metadata": {},
   "outputs": [
    {
     "data": {
      "text/html": [
       "<div>\n",
       "<style scoped>\n",
       "    .dataframe tbody tr th:only-of-type {\n",
       "        vertical-align: middle;\n",
       "    }\n",
       "\n",
       "    .dataframe tbody tr th {\n",
       "        vertical-align: top;\n",
       "    }\n",
       "\n",
       "    .dataframe thead th {\n",
       "        text-align: right;\n",
       "    }\n",
       "</style>\n",
       "<table border=\"1\" class=\"dataframe\">\n",
       "  <thead>\n",
       "    <tr style=\"text-align: right;\">\n",
       "      <th></th>\n",
       "      <th>month</th>\n",
       "      <th>user_id</th>\n",
       "      <th>('count', 'total_calls')</th>\n",
       "      <th>('sum', 'total_calls')</th>\n",
       "    </tr>\n",
       "  </thead>\n",
       "  <tbody>\n",
       "    <tr>\n",
       "      <td>0</td>\n",
       "      <td>1</td>\n",
       "      <td>1005</td>\n",
       "      <td>15</td>\n",
       "      <td>95.0</td>\n",
       "    </tr>\n",
       "    <tr>\n",
       "      <td>1</td>\n",
       "      <td>1</td>\n",
       "      <td>1032</td>\n",
       "      <td>61</td>\n",
       "      <td>380.0</td>\n",
       "    </tr>\n",
       "    <tr>\n",
       "      <td>2</td>\n",
       "      <td>1</td>\n",
       "      <td>1045</td>\n",
       "      <td>1</td>\n",
       "      <td>9.0</td>\n",
       "    </tr>\n",
       "    <tr>\n",
       "      <td>3</td>\n",
       "      <td>1</td>\n",
       "      <td>1055</td>\n",
       "      <td>64</td>\n",
       "      <td>551.0</td>\n",
       "    </tr>\n",
       "    <tr>\n",
       "      <td>4</td>\n",
       "      <td>1</td>\n",
       "      <td>1071</td>\n",
       "      <td>24</td>\n",
       "      <td>194.0</td>\n",
       "    </tr>\n",
       "    <tr>\n",
       "      <td>...</td>\n",
       "      <td>...</td>\n",
       "      <td>...</td>\n",
       "      <td>...</td>\n",
       "      <td>...</td>\n",
       "    </tr>\n",
       "    <tr>\n",
       "      <td>3169</td>\n",
       "      <td>12</td>\n",
       "      <td>1494</td>\n",
       "      <td>62</td>\n",
       "      <td>418.0</td>\n",
       "    </tr>\n",
       "    <tr>\n",
       "      <td>3170</td>\n",
       "      <td>12</td>\n",
       "      <td>1495</td>\n",
       "      <td>155</td>\n",
       "      <td>1031.0</td>\n",
       "    </tr>\n",
       "    <tr>\n",
       "      <td>3171</td>\n",
       "      <td>12</td>\n",
       "      <td>1496</td>\n",
       "      <td>80</td>\n",
       "      <td>518.0</td>\n",
       "    </tr>\n",
       "    <tr>\n",
       "      <td>3172</td>\n",
       "      <td>12</td>\n",
       "      <td>1497</td>\n",
       "      <td>71</td>\n",
       "      <td>545.0</td>\n",
       "    </tr>\n",
       "    <tr>\n",
       "      <td>3173</td>\n",
       "      <td>12</td>\n",
       "      <td>1499</td>\n",
       "      <td>69</td>\n",
       "      <td>492.0</td>\n",
       "    </tr>\n",
       "  </tbody>\n",
       "</table>\n",
       "<p>3174 rows × 4 columns</p>\n",
       "</div>"
      ],
      "text/plain": [
       "      month  user_id  ('count', 'total_calls')  ('sum', 'total_calls')\n",
       "0         1     1005                        15                    95.0\n",
       "1         1     1032                        61                   380.0\n",
       "2         1     1045                         1                     9.0\n",
       "3         1     1055                        64                   551.0\n",
       "4         1     1071                        24                   194.0\n",
       "...     ...      ...                       ...                     ...\n",
       "3169     12     1494                        62                   418.0\n",
       "3170     12     1495                       155                  1031.0\n",
       "3171     12     1496                        80                   518.0\n",
       "3172     12     1497                        71                   545.0\n",
       "3173     12     1499                        69                   492.0\n",
       "\n",
       "[3174 rows x 4 columns]"
      ]
     },
     "execution_count": 48,
     "metadata": {},
     "output_type": "execute_result"
    }
   ],
   "source": [
    "# Создадим временный DataFrame c таблицей calls\n",
    "tempdata = pd.DataFrame(calls_times.to_records())\n",
    "tempdata"
   ]
  },
  {
   "cell_type": "code",
   "execution_count": 49,
   "metadata": {},
   "outputs": [
    {
     "data": {
      "text/html": [
       "<div>\n",
       "<style scoped>\n",
       "    .dataframe tbody tr th:only-of-type {\n",
       "        vertical-align: middle;\n",
       "    }\n",
       "\n",
       "    .dataframe tbody tr th {\n",
       "        vertical-align: top;\n",
       "    }\n",
       "\n",
       "    .dataframe thead th {\n",
       "        text-align: right;\n",
       "    }\n",
       "</style>\n",
       "<table border=\"1\" class=\"dataframe\">\n",
       "  <thead>\n",
       "    <tr style=\"text-align: right;\">\n",
       "      <th></th>\n",
       "      <th>user_id</th>\n",
       "      <th>month</th>\n",
       "      <th>calls</th>\n",
       "      <th>minutes</th>\n",
       "    </tr>\n",
       "  </thead>\n",
       "  <tbody>\n",
       "    <tr>\n",
       "      <td>0</td>\n",
       "      <td>1005</td>\n",
       "      <td>1</td>\n",
       "      <td>15</td>\n",
       "      <td>95.0</td>\n",
       "    </tr>\n",
       "    <tr>\n",
       "      <td>1</td>\n",
       "      <td>1032</td>\n",
       "      <td>1</td>\n",
       "      <td>61</td>\n",
       "      <td>380.0</td>\n",
       "    </tr>\n",
       "    <tr>\n",
       "      <td>2</td>\n",
       "      <td>1045</td>\n",
       "      <td>1</td>\n",
       "      <td>1</td>\n",
       "      <td>9.0</td>\n",
       "    </tr>\n",
       "    <tr>\n",
       "      <td>3</td>\n",
       "      <td>1055</td>\n",
       "      <td>1</td>\n",
       "      <td>64</td>\n",
       "      <td>551.0</td>\n",
       "    </tr>\n",
       "    <tr>\n",
       "      <td>4</td>\n",
       "      <td>1071</td>\n",
       "      <td>1</td>\n",
       "      <td>24</td>\n",
       "      <td>194.0</td>\n",
       "    </tr>\n",
       "    <tr>\n",
       "      <td>...</td>\n",
       "      <td>...</td>\n",
       "      <td>...</td>\n",
       "      <td>...</td>\n",
       "      <td>...</td>\n",
       "    </tr>\n",
       "    <tr>\n",
       "      <td>3169</td>\n",
       "      <td>1494</td>\n",
       "      <td>12</td>\n",
       "      <td>62</td>\n",
       "      <td>418.0</td>\n",
       "    </tr>\n",
       "    <tr>\n",
       "      <td>3170</td>\n",
       "      <td>1495</td>\n",
       "      <td>12</td>\n",
       "      <td>155</td>\n",
       "      <td>1031.0</td>\n",
       "    </tr>\n",
       "    <tr>\n",
       "      <td>3171</td>\n",
       "      <td>1496</td>\n",
       "      <td>12</td>\n",
       "      <td>80</td>\n",
       "      <td>518.0</td>\n",
       "    </tr>\n",
       "    <tr>\n",
       "      <td>3172</td>\n",
       "      <td>1497</td>\n",
       "      <td>12</td>\n",
       "      <td>71</td>\n",
       "      <td>545.0</td>\n",
       "    </tr>\n",
       "    <tr>\n",
       "      <td>3173</td>\n",
       "      <td>1499</td>\n",
       "      <td>12</td>\n",
       "      <td>69</td>\n",
       "      <td>492.0</td>\n",
       "    </tr>\n",
       "  </tbody>\n",
       "</table>\n",
       "<p>3174 rows × 4 columns</p>\n",
       "</div>"
      ],
      "text/plain": [
       "      user_id  month  calls  minutes\n",
       "0        1005      1     15     95.0\n",
       "1        1032      1     61    380.0\n",
       "2        1045      1      1      9.0\n",
       "3        1055      1     64    551.0\n",
       "4        1071      1     24    194.0\n",
       "...       ...    ...    ...      ...\n",
       "3169     1494     12     62    418.0\n",
       "3170     1495     12    155   1031.0\n",
       "3171     1496     12     80    518.0\n",
       "3172     1497     12     71    545.0\n",
       "3173     1499     12     69    492.0\n",
       "\n",
       "[3174 rows x 4 columns]"
      ]
     },
     "execution_count": 49,
     "metadata": {},
     "output_type": "execute_result"
    }
   ],
   "source": [
    "# Создадим monthly_profit Dataframe для подсчета прибыли компании и перенесем в него столбцы из временного датафрейма, \n",
    "#с количеством звонков и общим количество проговоренных минут, так же переименуем столбцы\n",
    "monthly_profit = pd.DataFrame()\n",
    "monthly_profit['user_id'] = tempdata['user_id']\n",
    "monthly_profit['month']   = tempdata['month']\n",
    "monthly_profit['calls']   = tempdata.iloc[:, 2]\n",
    "monthly_profit['minutes'] = tempdata.iloc[:, 3]\n",
    "monthly_profit"
   ]
  },
  {
   "cell_type": "code",
   "execution_count": 50,
   "metadata": {},
   "outputs": [
    {
     "data": {
      "text/html": [
       "<div>\n",
       "<style scoped>\n",
       "    .dataframe tbody tr th:only-of-type {\n",
       "        vertical-align: middle;\n",
       "    }\n",
       "\n",
       "    .dataframe tbody tr th {\n",
       "        vertical-align: top;\n",
       "    }\n",
       "\n",
       "    .dataframe thead th {\n",
       "        text-align: right;\n",
       "    }\n",
       "</style>\n",
       "<table border=\"1\" class=\"dataframe\">\n",
       "  <thead>\n",
       "    <tr style=\"text-align: right;\">\n",
       "      <th></th>\n",
       "      <th>month</th>\n",
       "      <th>user_id</th>\n",
       "      <th>messages</th>\n",
       "    </tr>\n",
       "  </thead>\n",
       "  <tbody>\n",
       "    <tr>\n",
       "      <td>0</td>\n",
       "      <td>1</td>\n",
       "      <td>1005</td>\n",
       "      <td>7</td>\n",
       "    </tr>\n",
       "    <tr>\n",
       "      <td>1</td>\n",
       "      <td>1</td>\n",
       "      <td>1032</td>\n",
       "      <td>38</td>\n",
       "    </tr>\n",
       "    <tr>\n",
       "      <td>2</td>\n",
       "      <td>1</td>\n",
       "      <td>1045</td>\n",
       "      <td>5</td>\n",
       "    </tr>\n",
       "    <tr>\n",
       "      <td>3</td>\n",
       "      <td>1</td>\n",
       "      <td>1055</td>\n",
       "      <td>30</td>\n",
       "    </tr>\n",
       "    <tr>\n",
       "      <td>4</td>\n",
       "      <td>1</td>\n",
       "      <td>1071</td>\n",
       "      <td>16</td>\n",
       "    </tr>\n",
       "    <tr>\n",
       "      <td>...</td>\n",
       "      <td>...</td>\n",
       "      <td>...</td>\n",
       "      <td>...</td>\n",
       "    </tr>\n",
       "    <tr>\n",
       "      <td>2712</td>\n",
       "      <td>12</td>\n",
       "      <td>1493</td>\n",
       "      <td>78</td>\n",
       "    </tr>\n",
       "    <tr>\n",
       "      <td>2713</td>\n",
       "      <td>12</td>\n",
       "      <td>1495</td>\n",
       "      <td>84</td>\n",
       "    </tr>\n",
       "    <tr>\n",
       "      <td>2714</td>\n",
       "      <td>12</td>\n",
       "      <td>1496</td>\n",
       "      <td>51</td>\n",
       "    </tr>\n",
       "    <tr>\n",
       "      <td>2715</td>\n",
       "      <td>12</td>\n",
       "      <td>1497</td>\n",
       "      <td>17</td>\n",
       "    </tr>\n",
       "    <tr>\n",
       "      <td>2716</td>\n",
       "      <td>12</td>\n",
       "      <td>1499</td>\n",
       "      <td>66</td>\n",
       "    </tr>\n",
       "  </tbody>\n",
       "</table>\n",
       "<p>2717 rows × 3 columns</p>\n",
       "</div>"
      ],
      "text/plain": [
       "      month  user_id  messages\n",
       "0         1     1005         7\n",
       "1         1     1032        38\n",
       "2         1     1045         5\n",
       "3         1     1055        30\n",
       "4         1     1071        16\n",
       "...     ...      ...       ...\n",
       "2712     12     1493        78\n",
       "2713     12     1495        84\n",
       "2714     12     1496        51\n",
       "2715     12     1497        17\n",
       "2716     12     1499        66\n",
       "\n",
       "[2717 rows x 3 columns]"
      ]
     },
     "execution_count": 50,
     "metadata": {},
     "output_type": "execute_result"
    }
   ],
   "source": [
    "#Создадим новый временный Dataframe с таблицей messages и переименуем столбец id  в messages\n",
    "tempdata = pd.DataFrame(messages_times.to_records()).rename(columns={'id': 'messages'})\n",
    "tempdata"
   ]
  },
  {
   "cell_type": "code",
   "execution_count": 51,
   "metadata": {},
   "outputs": [
    {
     "data": {
      "text/html": [
       "<div>\n",
       "<style scoped>\n",
       "    .dataframe tbody tr th:only-of-type {\n",
       "        vertical-align: middle;\n",
       "    }\n",
       "\n",
       "    .dataframe tbody tr th {\n",
       "        vertical-align: top;\n",
       "    }\n",
       "\n",
       "    .dataframe thead th {\n",
       "        text-align: right;\n",
       "    }\n",
       "</style>\n",
       "<table border=\"1\" class=\"dataframe\">\n",
       "  <thead>\n",
       "    <tr style=\"text-align: right;\">\n",
       "      <th></th>\n",
       "      <th>user_id</th>\n",
       "      <th>month</th>\n",
       "      <th>calls</th>\n",
       "      <th>minutes</th>\n",
       "      <th>messages</th>\n",
       "    </tr>\n",
       "  </thead>\n",
       "  <tbody>\n",
       "    <tr>\n",
       "      <td>0</td>\n",
       "      <td>1005</td>\n",
       "      <td>1</td>\n",
       "      <td>15.0</td>\n",
       "      <td>95.0</td>\n",
       "      <td>7.0</td>\n",
       "    </tr>\n",
       "    <tr>\n",
       "      <td>1</td>\n",
       "      <td>1032</td>\n",
       "      <td>1</td>\n",
       "      <td>61.0</td>\n",
       "      <td>380.0</td>\n",
       "      <td>38.0</td>\n",
       "    </tr>\n",
       "    <tr>\n",
       "      <td>2</td>\n",
       "      <td>1045</td>\n",
       "      <td>1</td>\n",
       "      <td>1.0</td>\n",
       "      <td>9.0</td>\n",
       "      <td>5.0</td>\n",
       "    </tr>\n",
       "    <tr>\n",
       "      <td>3</td>\n",
       "      <td>1055</td>\n",
       "      <td>1</td>\n",
       "      <td>64.0</td>\n",
       "      <td>551.0</td>\n",
       "      <td>30.0</td>\n",
       "    </tr>\n",
       "    <tr>\n",
       "      <td>4</td>\n",
       "      <td>1071</td>\n",
       "      <td>1</td>\n",
       "      <td>24.0</td>\n",
       "      <td>194.0</td>\n",
       "      <td>16.0</td>\n",
       "    </tr>\n",
       "    <tr>\n",
       "      <td>...</td>\n",
       "      <td>...</td>\n",
       "      <td>...</td>\n",
       "      <td>...</td>\n",
       "      <td>...</td>\n",
       "      <td>...</td>\n",
       "    </tr>\n",
       "    <tr>\n",
       "      <td>3208</td>\n",
       "      <td>1106</td>\n",
       "      <td>12</td>\n",
       "      <td>NaN</td>\n",
       "      <td>NaN</td>\n",
       "      <td>24.0</td>\n",
       "    </tr>\n",
       "    <tr>\n",
       "      <td>3209</td>\n",
       "      <td>1231</td>\n",
       "      <td>12</td>\n",
       "      <td>NaN</td>\n",
       "      <td>NaN</td>\n",
       "      <td>191.0</td>\n",
       "    </tr>\n",
       "    <tr>\n",
       "      <td>3210</td>\n",
       "      <td>1328</td>\n",
       "      <td>12</td>\n",
       "      <td>NaN</td>\n",
       "      <td>NaN</td>\n",
       "      <td>7.0</td>\n",
       "    </tr>\n",
       "    <tr>\n",
       "      <td>3211</td>\n",
       "      <td>1473</td>\n",
       "      <td>12</td>\n",
       "      <td>NaN</td>\n",
       "      <td>NaN</td>\n",
       "      <td>20.0</td>\n",
       "    </tr>\n",
       "    <tr>\n",
       "      <td>3212</td>\n",
       "      <td>1489</td>\n",
       "      <td>12</td>\n",
       "      <td>NaN</td>\n",
       "      <td>NaN</td>\n",
       "      <td>35.0</td>\n",
       "    </tr>\n",
       "  </tbody>\n",
       "</table>\n",
       "<p>3213 rows × 5 columns</p>\n",
       "</div>"
      ],
      "text/plain": [
       "      user_id  month  calls  minutes  messages\n",
       "0        1005      1   15.0     95.0       7.0\n",
       "1        1032      1   61.0    380.0      38.0\n",
       "2        1045      1    1.0      9.0       5.0\n",
       "3        1055      1   64.0    551.0      30.0\n",
       "4        1071      1   24.0    194.0      16.0\n",
       "...       ...    ...    ...      ...       ...\n",
       "3208     1106     12    NaN      NaN      24.0\n",
       "3209     1231     12    NaN      NaN     191.0\n",
       "3210     1328     12    NaN      NaN       7.0\n",
       "3211     1473     12    NaN      NaN      20.0\n",
       "3212     1489     12    NaN      NaN      35.0\n",
       "\n",
       "[3213 rows x 5 columns]"
      ]
     },
     "execution_count": 51,
     "metadata": {},
     "output_type": "execute_result"
    }
   ],
   "source": [
    "# Соединим временный dataframe с нашей monthly_profit таблицей\n",
    "monthly_profit = monthly_profit.merge(tempdata, on=['user_id', 'month'], how='outer')\n",
    "monthly_profit"
   ]
  },
  {
   "cell_type": "code",
   "execution_count": 52,
   "metadata": {},
   "outputs": [
    {
     "data": {
      "text/html": [
       "<div>\n",
       "<style scoped>\n",
       "    .dataframe tbody tr th:only-of-type {\n",
       "        vertical-align: middle;\n",
       "    }\n",
       "\n",
       "    .dataframe tbody tr th {\n",
       "        vertical-align: top;\n",
       "    }\n",
       "\n",
       "    .dataframe thead th {\n",
       "        text-align: right;\n",
       "    }\n",
       "</style>\n",
       "<table border=\"1\" class=\"dataframe\">\n",
       "  <thead>\n",
       "    <tr style=\"text-align: right;\">\n",
       "      <th></th>\n",
       "      <th>user_id</th>\n",
       "      <th>month</th>\n",
       "      <th>calls</th>\n",
       "      <th>minutes</th>\n",
       "      <th>messages</th>\n",
       "      <th>mb_used</th>\n",
       "    </tr>\n",
       "  </thead>\n",
       "  <tbody>\n",
       "    <tr>\n",
       "      <td>0</td>\n",
       "      <td>1005</td>\n",
       "      <td>1</td>\n",
       "      <td>15.0</td>\n",
       "      <td>95.0</td>\n",
       "      <td>7.0</td>\n",
       "      <td>2.666016</td>\n",
       "    </tr>\n",
       "    <tr>\n",
       "      <td>1</td>\n",
       "      <td>1032</td>\n",
       "      <td>1</td>\n",
       "      <td>61.0</td>\n",
       "      <td>380.0</td>\n",
       "      <td>38.0</td>\n",
       "      <td>23.581055</td>\n",
       "    </tr>\n",
       "    <tr>\n",
       "      <td>2</td>\n",
       "      <td>1045</td>\n",
       "      <td>1</td>\n",
       "      <td>1.0</td>\n",
       "      <td>9.0</td>\n",
       "      <td>5.0</td>\n",
       "      <td>2.292969</td>\n",
       "    </tr>\n",
       "    <tr>\n",
       "      <td>3</td>\n",
       "      <td>1055</td>\n",
       "      <td>1</td>\n",
       "      <td>64.0</td>\n",
       "      <td>551.0</td>\n",
       "      <td>30.0</td>\n",
       "      <td>16.709961</td>\n",
       "    </tr>\n",
       "    <tr>\n",
       "      <td>4</td>\n",
       "      <td>1071</td>\n",
       "      <td>1</td>\n",
       "      <td>24.0</td>\n",
       "      <td>194.0</td>\n",
       "      <td>16.0</td>\n",
       "      <td>15.255859</td>\n",
       "    </tr>\n",
       "    <tr>\n",
       "      <td>...</td>\n",
       "      <td>...</td>\n",
       "      <td>...</td>\n",
       "      <td>...</td>\n",
       "      <td>...</td>\n",
       "      <td>...</td>\n",
       "      <td>...</td>\n",
       "    </tr>\n",
       "    <tr>\n",
       "      <td>3209</td>\n",
       "      <td>1231</td>\n",
       "      <td>12</td>\n",
       "      <td>NaN</td>\n",
       "      <td>NaN</td>\n",
       "      <td>191.0</td>\n",
       "      <td>31.719727</td>\n",
       "    </tr>\n",
       "    <tr>\n",
       "      <td>3210</td>\n",
       "      <td>1328</td>\n",
       "      <td>12</td>\n",
       "      <td>NaN</td>\n",
       "      <td>NaN</td>\n",
       "      <td>7.0</td>\n",
       "      <td>38.536133</td>\n",
       "    </tr>\n",
       "    <tr>\n",
       "      <td>3211</td>\n",
       "      <td>1473</td>\n",
       "      <td>12</td>\n",
       "      <td>NaN</td>\n",
       "      <td>NaN</td>\n",
       "      <td>20.0</td>\n",
       "      <td>18.000000</td>\n",
       "    </tr>\n",
       "    <tr>\n",
       "      <td>3212</td>\n",
       "      <td>1489</td>\n",
       "      <td>12</td>\n",
       "      <td>NaN</td>\n",
       "      <td>NaN</td>\n",
       "      <td>35.0</td>\n",
       "      <td>16.934570</td>\n",
       "    </tr>\n",
       "    <tr>\n",
       "      <td>3213</td>\n",
       "      <td>1476</td>\n",
       "      <td>4</td>\n",
       "      <td>NaN</td>\n",
       "      <td>NaN</td>\n",
       "      <td>NaN</td>\n",
       "      <td>0.518555</td>\n",
       "    </tr>\n",
       "  </tbody>\n",
       "</table>\n",
       "<p>3214 rows × 6 columns</p>\n",
       "</div>"
      ],
      "text/plain": [
       "      user_id  month  calls  minutes  messages    mb_used\n",
       "0        1005      1   15.0     95.0       7.0   2.666016\n",
       "1        1032      1   61.0    380.0      38.0  23.581055\n",
       "2        1045      1    1.0      9.0       5.0   2.292969\n",
       "3        1055      1   64.0    551.0      30.0  16.709961\n",
       "4        1071      1   24.0    194.0      16.0  15.255859\n",
       "...       ...    ...    ...      ...       ...        ...\n",
       "3209     1231     12    NaN      NaN     191.0  31.719727\n",
       "3210     1328     12    NaN      NaN       7.0  38.536133\n",
       "3211     1473     12    NaN      NaN      20.0  18.000000\n",
       "3212     1489     12    NaN      NaN      35.0  16.934570\n",
       "3213     1476      4    NaN      NaN       NaN   0.518555\n",
       "\n",
       "[3214 rows x 6 columns]"
      ]
     },
     "execution_count": 52,
     "metadata": {},
     "output_type": "execute_result"
    }
   ],
   "source": [
    "#Создадим новый временный Dataframe с таблицей internet и соединим его с нашим monthly_profit таблицей\n",
    "tempdata = pd.DataFrame(internet_times.to_records())\n",
    "monthly_profit = monthly_profit.merge(tempdata, on=['user_id', 'month'], how='outer')\n",
    "monthly_profit"
   ]
  },
  {
   "cell_type": "code",
   "execution_count": 53,
   "metadata": {},
   "outputs": [
    {
     "data": {
      "text/html": [
       "<div>\n",
       "<style scoped>\n",
       "    .dataframe tbody tr th:only-of-type {\n",
       "        vertical-align: middle;\n",
       "    }\n",
       "\n",
       "    .dataframe tbody tr th {\n",
       "        vertical-align: top;\n",
       "    }\n",
       "\n",
       "    .dataframe thead th {\n",
       "        text-align: right;\n",
       "    }\n",
       "</style>\n",
       "<table border=\"1\" class=\"dataframe\">\n",
       "  <thead>\n",
       "    <tr style=\"text-align: right;\">\n",
       "      <th></th>\n",
       "      <th>user_id</th>\n",
       "      <th>month</th>\n",
       "      <th>calls</th>\n",
       "      <th>minutes</th>\n",
       "      <th>messages</th>\n",
       "      <th>mb_used</th>\n",
       "      <th>tariff</th>\n",
       "      <th>city</th>\n",
       "      <th>age</th>\n",
       "    </tr>\n",
       "  </thead>\n",
       "  <tbody>\n",
       "    <tr>\n",
       "      <td>0</td>\n",
       "      <td>1005</td>\n",
       "      <td>1.0</td>\n",
       "      <td>15.0</td>\n",
       "      <td>95.0</td>\n",
       "      <td>7.0</td>\n",
       "      <td>2.666016</td>\n",
       "      <td>smart</td>\n",
       "      <td>набережные челны</td>\n",
       "      <td>67</td>\n",
       "    </tr>\n",
       "    <tr>\n",
       "      <td>1</td>\n",
       "      <td>1005</td>\n",
       "      <td>2.0</td>\n",
       "      <td>69.0</td>\n",
       "      <td>456.0</td>\n",
       "      <td>38.0</td>\n",
       "      <td>7.220703</td>\n",
       "      <td>smart</td>\n",
       "      <td>набережные челны</td>\n",
       "      <td>67</td>\n",
       "    </tr>\n",
       "    <tr>\n",
       "      <td>2</td>\n",
       "      <td>1005</td>\n",
       "      <td>3.0</td>\n",
       "      <td>77.0</td>\n",
       "      <td>606.0</td>\n",
       "      <td>56.0</td>\n",
       "      <td>10.856445</td>\n",
       "      <td>smart</td>\n",
       "      <td>набережные челны</td>\n",
       "      <td>67</td>\n",
       "    </tr>\n",
       "    <tr>\n",
       "      <td>3</td>\n",
       "      <td>1005</td>\n",
       "      <td>4.0</td>\n",
       "      <td>101.0</td>\n",
       "      <td>712.0</td>\n",
       "      <td>41.0</td>\n",
       "      <td>9.145508</td>\n",
       "      <td>smart</td>\n",
       "      <td>набережные челны</td>\n",
       "      <td>67</td>\n",
       "    </tr>\n",
       "    <tr>\n",
       "      <td>4</td>\n",
       "      <td>1005</td>\n",
       "      <td>5.0</td>\n",
       "      <td>73.0</td>\n",
       "      <td>595.0</td>\n",
       "      <td>42.0</td>\n",
       "      <td>7.692383</td>\n",
       "      <td>smart</td>\n",
       "      <td>набережные челны</td>\n",
       "      <td>67</td>\n",
       "    </tr>\n",
       "    <tr>\n",
       "      <td>...</td>\n",
       "      <td>...</td>\n",
       "      <td>...</td>\n",
       "      <td>...</td>\n",
       "      <td>...</td>\n",
       "      <td>...</td>\n",
       "      <td>...</td>\n",
       "      <td>...</td>\n",
       "      <td>...</td>\n",
       "      <td>...</td>\n",
       "    </tr>\n",
       "    <tr>\n",
       "      <td>3211</td>\n",
       "      <td>1328</td>\n",
       "      <td>10.0</td>\n",
       "      <td>NaN</td>\n",
       "      <td>NaN</td>\n",
       "      <td>6.0</td>\n",
       "      <td>21.920898</td>\n",
       "      <td>ultra</td>\n",
       "      <td>мурманск</td>\n",
       "      <td>44</td>\n",
       "    </tr>\n",
       "    <tr>\n",
       "      <td>3212</td>\n",
       "      <td>1328</td>\n",
       "      <td>11.0</td>\n",
       "      <td>NaN</td>\n",
       "      <td>NaN</td>\n",
       "      <td>8.0</td>\n",
       "      <td>34.733398</td>\n",
       "      <td>ultra</td>\n",
       "      <td>мурманск</td>\n",
       "      <td>44</td>\n",
       "    </tr>\n",
       "    <tr>\n",
       "      <td>3213</td>\n",
       "      <td>1328</td>\n",
       "      <td>12.0</td>\n",
       "      <td>NaN</td>\n",
       "      <td>NaN</td>\n",
       "      <td>7.0</td>\n",
       "      <td>38.536133</td>\n",
       "      <td>ultra</td>\n",
       "      <td>мурманск</td>\n",
       "      <td>44</td>\n",
       "    </tr>\n",
       "    <tr>\n",
       "      <td>3214</td>\n",
       "      <td>1128</td>\n",
       "      <td>NaN</td>\n",
       "      <td>NaN</td>\n",
       "      <td>NaN</td>\n",
       "      <td>NaN</td>\n",
       "      <td>NaN</td>\n",
       "      <td>ultra</td>\n",
       "      <td>волжский</td>\n",
       "      <td>51</td>\n",
       "    </tr>\n",
       "    <tr>\n",
       "      <td>3215</td>\n",
       "      <td>1371</td>\n",
       "      <td>NaN</td>\n",
       "      <td>NaN</td>\n",
       "      <td>NaN</td>\n",
       "      <td>NaN</td>\n",
       "      <td>NaN</td>\n",
       "      <td>smart</td>\n",
       "      <td>омск</td>\n",
       "      <td>50</td>\n",
       "    </tr>\n",
       "  </tbody>\n",
       "</table>\n",
       "<p>3216 rows × 9 columns</p>\n",
       "</div>"
      ],
      "text/plain": [
       "      user_id  month  calls  minutes  messages    mb_used tariff  \\\n",
       "0        1005    1.0   15.0     95.0       7.0   2.666016  smart   \n",
       "1        1005    2.0   69.0    456.0      38.0   7.220703  smart   \n",
       "2        1005    3.0   77.0    606.0      56.0  10.856445  smart   \n",
       "3        1005    4.0  101.0    712.0      41.0   9.145508  smart   \n",
       "4        1005    5.0   73.0    595.0      42.0   7.692383  smart   \n",
       "...       ...    ...    ...      ...       ...        ...    ...   \n",
       "3211     1328   10.0    NaN      NaN       6.0  21.920898  ultra   \n",
       "3212     1328   11.0    NaN      NaN       8.0  34.733398  ultra   \n",
       "3213     1328   12.0    NaN      NaN       7.0  38.536133  ultra   \n",
       "3214     1128    NaN    NaN      NaN       NaN        NaN  ultra   \n",
       "3215     1371    NaN    NaN      NaN       NaN        NaN  smart   \n",
       "\n",
       "                  city  age  \n",
       "0     набережные челны   67  \n",
       "1     набережные челны   67  \n",
       "2     набережные челны   67  \n",
       "3     набережные челны   67  \n",
       "4     набережные челны   67  \n",
       "...                ...  ...  \n",
       "3211          мурманск   44  \n",
       "3212          мурманск   44  \n",
       "3213          мурманск   44  \n",
       "3214          волжский   51  \n",
       "3215              омск   50  \n",
       "\n",
       "[3216 rows x 9 columns]"
      ]
     },
     "execution_count": 53,
     "metadata": {},
     "output_type": "execute_result"
    }
   ],
   "source": [
    "# Создадим датафрейм tariff_times и перенесем в него столбцы из таблицы users, чтобы соединить их с monthly_profit таблицей\n",
    "tariff_times = pd.DataFrame()\n",
    "tariff_times[['user_id','tariff','city','age']] = users[['user_id','tariff','city','age']]\n",
    "monthly_profit = monthly_profit.merge(tariff_times, on='user_id', how='outer')\n",
    "monthly_profit"
   ]
  },
  {
   "cell_type": "code",
   "execution_count": 54,
   "metadata": {},
   "outputs": [
    {
     "data": {
      "text/plain": [
       "user_id       0\n",
       "month         2\n",
       "calls        42\n",
       "minutes      42\n",
       "messages    499\n",
       "mb_used      13\n",
       "tariff        0\n",
       "city          0\n",
       "age           0\n",
       "dtype: int64"
      ]
     },
     "execution_count": 54,
     "metadata": {},
     "output_type": "execute_result"
    }
   ],
   "source": [
    "#Проверим на наличие пустых значений\n",
    "monthly_profit.isnull().sum()"
   ]
  },
  {
   "cell_type": "code",
   "execution_count": 55,
   "metadata": {},
   "outputs": [],
   "source": [
    "#Заменим пустые значения нулем\n",
    "monthly_profit = monthly_profit.fillna(0)"
   ]
  },
  {
   "cell_type": "markdown",
   "metadata": {},
   "source": [
    "Вычтем бесплатный лимит из суммарного количества звонков, сообщений и интернет-трафика; остаток умножим на значение из тарифного плана; прибавим абонентскую плату, соответствующую тарифному плану"
   ]
  },
  {
   "cell_type": "code",
   "execution_count": 56,
   "metadata": {},
   "outputs": [],
   "source": [
    "#Объявим переменные с ценами и включенными пакетами по нашим тарифам\n",
    "smart_megabytes_included = 15360\n",
    "smart_messages_included = 50\n",
    "smart_minutes_included = 500\n",
    "smart_monthly_price = 550\n",
    "smart_price_for_megabyte = 0.1953\n",
    "smart_price_for_message = 3\n",
    "smart_price_for_minute = 3\n",
    "\n",
    "ultra_megabytes_included = 30720\n",
    "ultra_messages_included = 1000\n",
    "ultra_minutes_included = 3000\n",
    "ultra_monthly_price = 1950\n",
    "ultra_price_for_megabyte = 0.1464\n",
    "ultra_price_for_message = 1\n",
    "ultra_price_for_minute = 1"
   ]
  },
  {
   "cell_type": "code",
   "execution_count": 65,
   "metadata": {},
   "outputs": [
    {
     "data": {
      "text/html": [
       "<div>\n",
       "<style scoped>\n",
       "    .dataframe tbody tr th:only-of-type {\n",
       "        vertical-align: middle;\n",
       "    }\n",
       "\n",
       "    .dataframe tbody tr th {\n",
       "        vertical-align: top;\n",
       "    }\n",
       "\n",
       "    .dataframe thead th {\n",
       "        text-align: right;\n",
       "    }\n",
       "</style>\n",
       "<table border=\"1\" class=\"dataframe\">\n",
       "  <thead>\n",
       "    <tr style=\"text-align: right;\">\n",
       "      <th></th>\n",
       "      <th>messages_included</th>\n",
       "      <th>mb_per_month_included</th>\n",
       "      <th>minutes_included</th>\n",
       "      <th>rub_monthly_fee</th>\n",
       "      <th>rub_per_gb</th>\n",
       "      <th>rub_per_message</th>\n",
       "      <th>rub_per_minute</th>\n",
       "      <th>tariff_name</th>\n",
       "    </tr>\n",
       "  </thead>\n",
       "  <tbody>\n",
       "    <tr>\n",
       "      <td>0</td>\n",
       "      <td>50</td>\n",
       "      <td>15360</td>\n",
       "      <td>500</td>\n",
       "      <td>550</td>\n",
       "      <td>200</td>\n",
       "      <td>3</td>\n",
       "      <td>3</td>\n",
       "      <td>smart</td>\n",
       "    </tr>\n",
       "    <tr>\n",
       "      <td>1</td>\n",
       "      <td>1000</td>\n",
       "      <td>30720</td>\n",
       "      <td>3000</td>\n",
       "      <td>1950</td>\n",
       "      <td>150</td>\n",
       "      <td>1</td>\n",
       "      <td>1</td>\n",
       "      <td>ultra</td>\n",
       "    </tr>\n",
       "  </tbody>\n",
       "</table>\n",
       "</div>"
      ],
      "text/plain": [
       "   messages_included  mb_per_month_included  minutes_included  \\\n",
       "0                 50                  15360               500   \n",
       "1               1000                  30720              3000   \n",
       "\n",
       "   rub_monthly_fee  rub_per_gb  rub_per_message  rub_per_minute tariff_name  \n",
       "0              550         200                3               3       smart  \n",
       "1             1950         150                1               1       ultra  "
      ]
     },
     "execution_count": 65,
     "metadata": {},
     "output_type": "execute_result"
    }
   ],
   "source": [
    "tariffs\n"
   ]
  },
  {
   "cell_type": "code",
   "execution_count": 57,
   "metadata": {},
   "outputs": [],
   "source": [
    "#Напишем функцию для подсчета прибыли \n",
    "\n",
    "def profit_of_megaline(row):\n",
    "    # Объявим переменные из столбцов нашей таблицы\n",
    "    mb_used = row['mb_used']\n",
    "    tariff = row['tariff']\n",
    "    minutes = row['minutes']\n",
    "    messages = row['messages']\n",
    "    total_megabytes = 0\n",
    "    total_messages = 0 \n",
    "    total_minutes = 0\n",
    "    \n",
    "    # Проведем расчеты, если тариф Смарт, то будут использоваться эти расчеты\n",
    "    if tariff == 'smart':\n",
    "        if mb_used > smart_megabytes_included:\n",
    "            total_megabytes = (mb_used - smart_megabytes_included) * smart_price_for_megabyte\n",
    "        if minutes > smart_minutes_included:\n",
    "            total_minutes = (minutes - smart_minutes_included) * smart_price_for_minute\n",
    "        if messages > smart_messages_included:\n",
    "            total_messages = (messages - smart_messages_included) * smart_price_for_message\n",
    "        \n",
    "        return total_megabytes + total_minutes + total_messages + smart_monthly_price\n",
    "    \n",
    "    #Если тариф Ультра, то возьмем эти расчеты\n",
    "    if tariff == 'ultra':\n",
    "        if mb_used > ultra_megabytes_included:\n",
    "            total_megabytes = (mb_used - ultra_megabytes_included) * ultra_price_for_megabyte\n",
    "        if minutes > ultra_minutes_included:\n",
    "            total_minutes = (minutes - ultra_minutes_included) * ultra_price_for_minute\n",
    "        if messages > ultra_messages_included:\n",
    "            total_messages = (messages - ultra_messages_included) * ultra_price_for_message\n",
    "        return total_megabytes + total_minutes + total_messages + ultra_monthly_price"
   ]
  },
  {
   "cell_type": "code",
   "execution_count": 58,
   "metadata": {},
   "outputs": [],
   "source": [
    "# вызовем функцию profit_of_megaline с помощью метода apply и передадим все столбцы через axis = 1\n",
    "monthly_profit['profit'] = monthly_profit.apply(profit_of_megaline, axis=1)"
   ]
  },
  {
   "cell_type": "code",
   "execution_count": 59,
   "metadata": {},
   "outputs": [
    {
     "data": {
      "text/html": [
       "<div>\n",
       "<style scoped>\n",
       "    .dataframe tbody tr th:only-of-type {\n",
       "        vertical-align: middle;\n",
       "    }\n",
       "\n",
       "    .dataframe tbody tr th {\n",
       "        vertical-align: top;\n",
       "    }\n",
       "\n",
       "    .dataframe thead th {\n",
       "        text-align: right;\n",
       "    }\n",
       "</style>\n",
       "<table border=\"1\" class=\"dataframe\">\n",
       "  <thead>\n",
       "    <tr style=\"text-align: right;\">\n",
       "      <th></th>\n",
       "      <th>user_id</th>\n",
       "      <th>month</th>\n",
       "      <th>calls</th>\n",
       "      <th>minutes</th>\n",
       "      <th>messages</th>\n",
       "      <th>mb_used</th>\n",
       "      <th>tariff</th>\n",
       "      <th>city</th>\n",
       "      <th>age</th>\n",
       "      <th>profit</th>\n",
       "    </tr>\n",
       "  </thead>\n",
       "  <tbody>\n",
       "    <tr>\n",
       "      <td>2329</td>\n",
       "      <td>1100</td>\n",
       "      <td>7.0</td>\n",
       "      <td>90.0</td>\n",
       "      <td>529.0</td>\n",
       "      <td>53.0</td>\n",
       "      <td>17.339844</td>\n",
       "      <td>smart</td>\n",
       "      <td>санкт-петербург</td>\n",
       "      <td>58</td>\n",
       "      <td>646.0</td>\n",
       "    </tr>\n",
       "    <tr>\n",
       "      <td>2228</td>\n",
       "      <td>1335</td>\n",
       "      <td>11.0</td>\n",
       "      <td>78.0</td>\n",
       "      <td>563.0</td>\n",
       "      <td>94.0</td>\n",
       "      <td>14.808594</td>\n",
       "      <td>ultra</td>\n",
       "      <td>москва</td>\n",
       "      <td>55</td>\n",
       "      <td>1950.0</td>\n",
       "    </tr>\n",
       "    <tr>\n",
       "      <td>2773</td>\n",
       "      <td>1484</td>\n",
       "      <td>12.0</td>\n",
       "      <td>36.0</td>\n",
       "      <td>292.0</td>\n",
       "      <td>109.0</td>\n",
       "      <td>18.678711</td>\n",
       "      <td>smart</td>\n",
       "      <td>екатеринбург</td>\n",
       "      <td>55</td>\n",
       "      <td>727.0</td>\n",
       "    </tr>\n",
       "    <tr>\n",
       "      <td>2896</td>\n",
       "      <td>1361</td>\n",
       "      <td>9.0</td>\n",
       "      <td>24.0</td>\n",
       "      <td>169.0</td>\n",
       "      <td>33.0</td>\n",
       "      <td>21.768555</td>\n",
       "      <td>ultra</td>\n",
       "      <td>екатеринбург</td>\n",
       "      <td>38</td>\n",
       "      <td>1950.0</td>\n",
       "    </tr>\n",
       "    <tr>\n",
       "      <td>2904</td>\n",
       "      <td>1420</td>\n",
       "      <td>10.0</td>\n",
       "      <td>30.0</td>\n",
       "      <td>210.0</td>\n",
       "      <td>10.0</td>\n",
       "      <td>29.416992</td>\n",
       "      <td>smart</td>\n",
       "      <td>сочи</td>\n",
       "      <td>53</td>\n",
       "      <td>550.0</td>\n",
       "    </tr>\n",
       "    <tr>\n",
       "      <td>3211</td>\n",
       "      <td>1328</td>\n",
       "      <td>10.0</td>\n",
       "      <td>0.0</td>\n",
       "      <td>0.0</td>\n",
       "      <td>6.0</td>\n",
       "      <td>21.920898</td>\n",
       "      <td>ultra</td>\n",
       "      <td>мурманск</td>\n",
       "      <td>44</td>\n",
       "      <td>1950.0</td>\n",
       "    </tr>\n",
       "    <tr>\n",
       "      <td>2448</td>\n",
       "      <td>1303</td>\n",
       "      <td>8.0</td>\n",
       "      <td>69.0</td>\n",
       "      <td>540.0</td>\n",
       "      <td>27.0</td>\n",
       "      <td>20.462891</td>\n",
       "      <td>ultra</td>\n",
       "      <td>смоленск</td>\n",
       "      <td>36</td>\n",
       "      <td>1950.0</td>\n",
       "    </tr>\n",
       "    <tr>\n",
       "      <td>1237</td>\n",
       "      <td>1457</td>\n",
       "      <td>4.0</td>\n",
       "      <td>70.0</td>\n",
       "      <td>441.0</td>\n",
       "      <td>33.0</td>\n",
       "      <td>18.407227</td>\n",
       "      <td>smart</td>\n",
       "      <td>саратов</td>\n",
       "      <td>35</td>\n",
       "      <td>550.0</td>\n",
       "    </tr>\n",
       "    <tr>\n",
       "      <td>1294</td>\n",
       "      <td>1035</td>\n",
       "      <td>7.0</td>\n",
       "      <td>60.0</td>\n",
       "      <td>493.0</td>\n",
       "      <td>63.0</td>\n",
       "      <td>14.008789</td>\n",
       "      <td>smart</td>\n",
       "      <td>тюмень</td>\n",
       "      <td>37</td>\n",
       "      <td>589.0</td>\n",
       "    </tr>\n",
       "    <tr>\n",
       "      <td>2385</td>\n",
       "      <td>1210</td>\n",
       "      <td>10.0</td>\n",
       "      <td>84.0</td>\n",
       "      <td>602.0</td>\n",
       "      <td>0.0</td>\n",
       "      <td>21.329102</td>\n",
       "      <td>smart</td>\n",
       "      <td>севастополь</td>\n",
       "      <td>33</td>\n",
       "      <td>856.0</td>\n",
       "    </tr>\n",
       "    <tr>\n",
       "      <td>1012</td>\n",
       "      <td>1065</td>\n",
       "      <td>9.0</td>\n",
       "      <td>62.0</td>\n",
       "      <td>507.0</td>\n",
       "      <td>58.0</td>\n",
       "      <td>27.735352</td>\n",
       "      <td>smart</td>\n",
       "      <td>москва</td>\n",
       "      <td>53</td>\n",
       "      <td>595.0</td>\n",
       "    </tr>\n",
       "    <tr>\n",
       "      <td>2529</td>\n",
       "      <td>1449</td>\n",
       "      <td>12.0</td>\n",
       "      <td>90.0</td>\n",
       "      <td>576.0</td>\n",
       "      <td>99.0</td>\n",
       "      <td>12.647461</td>\n",
       "      <td>smart</td>\n",
       "      <td>москва</td>\n",
       "      <td>55</td>\n",
       "      <td>925.0</td>\n",
       "    </tr>\n",
       "    <tr>\n",
       "      <td>577</td>\n",
       "      <td>1157</td>\n",
       "      <td>5.0</td>\n",
       "      <td>64.0</td>\n",
       "      <td>448.0</td>\n",
       "      <td>0.0</td>\n",
       "      <td>21.428711</td>\n",
       "      <td>smart</td>\n",
       "      <td>москва</td>\n",
       "      <td>27</td>\n",
       "      <td>550.0</td>\n",
       "    </tr>\n",
       "    <tr>\n",
       "      <td>597</td>\n",
       "      <td>1174</td>\n",
       "      <td>3.0</td>\n",
       "      <td>88.0</td>\n",
       "      <td>645.0</td>\n",
       "      <td>38.0</td>\n",
       "      <td>20.852539</td>\n",
       "      <td>smart</td>\n",
       "      <td>санкт-петербург</td>\n",
       "      <td>29</td>\n",
       "      <td>985.0</td>\n",
       "    </tr>\n",
       "    <tr>\n",
       "      <td>740</td>\n",
       "      <td>1321</td>\n",
       "      <td>6.0</td>\n",
       "      <td>63.0</td>\n",
       "      <td>372.0</td>\n",
       "      <td>32.0</td>\n",
       "      <td>14.655273</td>\n",
       "      <td>smart</td>\n",
       "      <td>москва</td>\n",
       "      <td>29</td>\n",
       "      <td>550.0</td>\n",
       "    </tr>\n",
       "    <tr>\n",
       "      <td>2413</td>\n",
       "      <td>1269</td>\n",
       "      <td>8.0</td>\n",
       "      <td>47.0</td>\n",
       "      <td>365.0</td>\n",
       "      <td>19.0</td>\n",
       "      <td>13.564453</td>\n",
       "      <td>smart</td>\n",
       "      <td>омск</td>\n",
       "      <td>31</td>\n",
       "      <td>550.0</td>\n",
       "    </tr>\n",
       "    <tr>\n",
       "      <td>2762</td>\n",
       "      <td>1451</td>\n",
       "      <td>11.0</td>\n",
       "      <td>110.0</td>\n",
       "      <td>729.0</td>\n",
       "      <td>30.0</td>\n",
       "      <td>10.766602</td>\n",
       "      <td>smart</td>\n",
       "      <td>набережные челны</td>\n",
       "      <td>58</td>\n",
       "      <td>1237.0</td>\n",
       "    </tr>\n",
       "    <tr>\n",
       "      <td>646</td>\n",
       "      <td>1217</td>\n",
       "      <td>8.0</td>\n",
       "      <td>84.0</td>\n",
       "      <td>600.0</td>\n",
       "      <td>86.0</td>\n",
       "      <td>12.098633</td>\n",
       "      <td>smart</td>\n",
       "      <td>ульяновск</td>\n",
       "      <td>42</td>\n",
       "      <td>958.0</td>\n",
       "    </tr>\n",
       "    <tr>\n",
       "      <td>173</td>\n",
       "      <td>1193</td>\n",
       "      <td>10.0</td>\n",
       "      <td>71.0</td>\n",
       "      <td>459.0</td>\n",
       "      <td>29.0</td>\n",
       "      <td>9.828125</td>\n",
       "      <td>smart</td>\n",
       "      <td>тамбов</td>\n",
       "      <td>55</td>\n",
       "      <td>550.0</td>\n",
       "    </tr>\n",
       "    <tr>\n",
       "      <td>975</td>\n",
       "      <td>1049</td>\n",
       "      <td>12.0</td>\n",
       "      <td>108.0</td>\n",
       "      <td>822.0</td>\n",
       "      <td>0.0</td>\n",
       "      <td>7.888672</td>\n",
       "      <td>ultra</td>\n",
       "      <td>москва</td>\n",
       "      <td>41</td>\n",
       "      <td>1950.0</td>\n",
       "    </tr>\n",
       "  </tbody>\n",
       "</table>\n",
       "</div>"
      ],
      "text/plain": [
       "      user_id  month  calls  minutes  messages    mb_used tariff  \\\n",
       "2329     1100    7.0   90.0    529.0      53.0  17.339844  smart   \n",
       "2228     1335   11.0   78.0    563.0      94.0  14.808594  ultra   \n",
       "2773     1484   12.0   36.0    292.0     109.0  18.678711  smart   \n",
       "2896     1361    9.0   24.0    169.0      33.0  21.768555  ultra   \n",
       "2904     1420   10.0   30.0    210.0      10.0  29.416992  smart   \n",
       "3211     1328   10.0    0.0      0.0       6.0  21.920898  ultra   \n",
       "2448     1303    8.0   69.0    540.0      27.0  20.462891  ultra   \n",
       "1237     1457    4.0   70.0    441.0      33.0  18.407227  smart   \n",
       "1294     1035    7.0   60.0    493.0      63.0  14.008789  smart   \n",
       "2385     1210   10.0   84.0    602.0       0.0  21.329102  smart   \n",
       "1012     1065    9.0   62.0    507.0      58.0  27.735352  smart   \n",
       "2529     1449   12.0   90.0    576.0      99.0  12.647461  smart   \n",
       "577      1157    5.0   64.0    448.0       0.0  21.428711  smart   \n",
       "597      1174    3.0   88.0    645.0      38.0  20.852539  smart   \n",
       "740      1321    6.0   63.0    372.0      32.0  14.655273  smart   \n",
       "2413     1269    8.0   47.0    365.0      19.0  13.564453  smart   \n",
       "2762     1451   11.0  110.0    729.0      30.0  10.766602  smart   \n",
       "646      1217    8.0   84.0    600.0      86.0  12.098633  smart   \n",
       "173      1193   10.0   71.0    459.0      29.0   9.828125  smart   \n",
       "975      1049   12.0  108.0    822.0       0.0   7.888672  ultra   \n",
       "\n",
       "                  city  age  profit  \n",
       "2329   санкт-петербург   58   646.0  \n",
       "2228            москва   55  1950.0  \n",
       "2773      екатеринбург   55   727.0  \n",
       "2896      екатеринбург   38  1950.0  \n",
       "2904              сочи   53   550.0  \n",
       "3211          мурманск   44  1950.0  \n",
       "2448          смоленск   36  1950.0  \n",
       "1237           саратов   35   550.0  \n",
       "1294            тюмень   37   589.0  \n",
       "2385       севастополь   33   856.0  \n",
       "1012            москва   53   595.0  \n",
       "2529            москва   55   925.0  \n",
       "577             москва   27   550.0  \n",
       "597    санкт-петербург   29   985.0  \n",
       "740             москва   29   550.0  \n",
       "2413              омск   31   550.0  \n",
       "2762  набережные челны   58  1237.0  \n",
       "646          ульяновск   42   958.0  \n",
       "173             тамбов   55   550.0  \n",
       "975             москва   41  1950.0  "
      ]
     },
     "execution_count": 59,
     "metadata": {},
     "output_type": "execute_result"
    }
   ],
   "source": [
    "#Посмотрим 20 случайных строк\n",
    "monthly_profit.sample(20)"
   ]
  },
  {
   "cell_type": "markdown",
   "metadata": {},
   "source": [
    "<div class=\"alert alert-info\"> <b>Вывод по предобработке данных</b> \n",
    "    \n",
    "    1)Не все данные были корректны(как например данные не были приведены к нижнему регистру), в этой связи были привидены к правильным типам данных нашей таблицы.\n",
    "    \n",
    "     2)Удалось найти ошибки в данных , такие как лишние столбцы из таблиц(соотвественно лишние столбцы были удалены), так же были найдены пустые значения в пустых столбцах, эти значения успешно заменили на 0.\n",
    "    \n",
    "     3)Также, в ходе работы: - Посчитали для каждого пользователя: \n",
    "    - количество сделанных звонков и израсходованных минут разговора по месяцам; \n",
    "    - количество отправленных сообщений по месяцам; \n",
    "    - объем израсходованного интернет-трафика по месяцам; \n",
    "    - помесячную выручку с каждого пользователя\n",
    "</div>"
   ]
  },
  {
   "cell_type": "code",
   "execution_count": 60,
   "metadata": {},
   "outputs": [],
   "source": [
    "#Передадим переменным smart_tariff и ultra_tariff соответственные данные из таблицы\n",
    "smart_tariff = monthly_profit[monthly_profit['tariff']=='smart']\n",
    "ultra_tariff = monthly_profit[monthly_profit['tariff']=='ultra']"
   ]
  },
  {
   "cell_type": "code",
   "execution_count": 61,
   "metadata": {},
   "outputs": [
    {
     "data": {
      "text/html": [
       "<div>\n",
       "<style scoped>\n",
       "    .dataframe tbody tr th:only-of-type {\n",
       "        vertical-align: middle;\n",
       "    }\n",
       "\n",
       "    .dataframe tbody tr th {\n",
       "        vertical-align: top;\n",
       "    }\n",
       "\n",
       "    .dataframe thead th {\n",
       "        text-align: right;\n",
       "    }\n",
       "</style>\n",
       "<table border=\"1\" class=\"dataframe\">\n",
       "  <thead>\n",
       "    <tr style=\"text-align: right;\">\n",
       "      <th></th>\n",
       "      <th>month</th>\n",
       "      <th>mb_used</th>\n",
       "      <th>messages</th>\n",
       "      <th>minutes</th>\n",
       "      <th>profit</th>\n",
       "    </tr>\n",
       "  </thead>\n",
       "  <tbody>\n",
       "    <tr>\n",
       "      <td>0</td>\n",
       "      <td>0.0</td>\n",
       "      <td>0.000000</td>\n",
       "      <td>0.0</td>\n",
       "      <td>0.0</td>\n",
       "      <td>550.0</td>\n",
       "    </tr>\n",
       "    <tr>\n",
       "      <td>1</td>\n",
       "      <td>1.0</td>\n",
       "      <td>283.038086</td>\n",
       "      <td>620.0</td>\n",
       "      <td>6931.0</td>\n",
       "      <td>18925.0</td>\n",
       "    </tr>\n",
       "    <tr>\n",
       "      <td>2</td>\n",
       "      <td>2.0</td>\n",
       "      <td>657.676758</td>\n",
       "      <td>1397.0</td>\n",
       "      <td>17324.0</td>\n",
       "      <td>34801.0</td>\n",
       "    </tr>\n",
       "    <tr>\n",
       "      <td>3</td>\n",
       "      <td>3.0</td>\n",
       "      <td>1137.243164</td>\n",
       "      <td>2453.0</td>\n",
       "      <td>30034.0</td>\n",
       "      <td>51476.0</td>\n",
       "    </tr>\n",
       "    <tr>\n",
       "      <td>4</td>\n",
       "      <td>4.0</td>\n",
       "      <td>1474.318359</td>\n",
       "      <td>3443.0</td>\n",
       "      <td>41119.0</td>\n",
       "      <td>71866.0</td>\n",
       "    </tr>\n",
       "    <tr>\n",
       "      <td>5</td>\n",
       "      <td>5.0</td>\n",
       "      <td>2179.055664</td>\n",
       "      <td>4762.0</td>\n",
       "      <td>54618.0</td>\n",
       "      <td>91449.0</td>\n",
       "    </tr>\n",
       "    <tr>\n",
       "      <td>6</td>\n",
       "      <td>6.0</td>\n",
       "      <td>2532.833984</td>\n",
       "      <td>5478.0</td>\n",
       "      <td>64885.0</td>\n",
       "      <td>107459.0</td>\n",
       "    </tr>\n",
       "    <tr>\n",
       "      <td>7</td>\n",
       "      <td>7.0</td>\n",
       "      <td>3094.205078</td>\n",
       "      <td>6784.0</td>\n",
       "      <td>82079.0</td>\n",
       "      <td>134814.0</td>\n",
       "    </tr>\n",
       "    <tr>\n",
       "      <td>8</td>\n",
       "      <td>8.0</td>\n",
       "      <td>3816.954102</td>\n",
       "      <td>7905.0</td>\n",
       "      <td>99045.0</td>\n",
       "      <td>162340.0</td>\n",
       "    </tr>\n",
       "    <tr>\n",
       "      <td>9</td>\n",
       "      <td>9.0</td>\n",
       "      <td>4144.899414</td>\n",
       "      <td>8746.0</td>\n",
       "      <td>111439.0</td>\n",
       "      <td>180986.0</td>\n",
       "    </tr>\n",
       "    <tr>\n",
       "      <td>10</td>\n",
       "      <td>10.0</td>\n",
       "      <td>4817.283203</td>\n",
       "      <td>9927.0</td>\n",
       "      <td>125284.0</td>\n",
       "      <td>206067.0</td>\n",
       "    </tr>\n",
       "    <tr>\n",
       "      <td>11</td>\n",
       "      <td>11.0</td>\n",
       "      <td>5220.644531</td>\n",
       "      <td>10768.0</td>\n",
       "      <td>137544.0</td>\n",
       "      <td>221203.0</td>\n",
       "    </tr>\n",
       "    <tr>\n",
       "      <td>12</td>\n",
       "      <td>12.0</td>\n",
       "      <td>5968.860352</td>\n",
       "      <td>12130.0</td>\n",
       "      <td>161275.0</td>\n",
       "      <td>261565.0</td>\n",
       "    </tr>\n",
       "  </tbody>\n",
       "</table>\n",
       "</div>"
      ],
      "text/plain": [
       "    month      mb_used  messages   minutes    profit\n",
       "0     0.0     0.000000       0.0       0.0     550.0\n",
       "1     1.0   283.038086     620.0    6931.0   18925.0\n",
       "2     2.0   657.676758    1397.0   17324.0   34801.0\n",
       "3     3.0  1137.243164    2453.0   30034.0   51476.0\n",
       "4     4.0  1474.318359    3443.0   41119.0   71866.0\n",
       "5     5.0  2179.055664    4762.0   54618.0   91449.0\n",
       "6     6.0  2532.833984    5478.0   64885.0  107459.0\n",
       "7     7.0  3094.205078    6784.0   82079.0  134814.0\n",
       "8     8.0  3816.954102    7905.0   99045.0  162340.0\n",
       "9     9.0  4144.899414    8746.0  111439.0  180986.0\n",
       "10   10.0  4817.283203    9927.0  125284.0  206067.0\n",
       "11   11.0  5220.644531   10768.0  137544.0  221203.0\n",
       "12   12.0  5968.860352   12130.0  161275.0  261565.0"
      ]
     },
     "execution_count": 61,
     "metadata": {},
     "output_type": "execute_result"
    }
   ],
   "source": [
    "#Посчитаем сколько минут разговора, Сколько сообщений и какой объем интернет-трафика \n",
    "# требуется пользователям тарифа Smart в месяц\n",
    "smart_pivot = smart_tariff.pivot_table(index='month', values=['minutes','messages','mb_used','profit'], aggfunc='sum')\n",
    "smart_stat = pd.DataFrame(smart_pivot.to_records())\n",
    "smart_stat"
   ]
  },
  {
   "cell_type": "code",
   "execution_count": 62,
   "metadata": {},
   "outputs": [
    {
     "data": {
      "text/html": [
       "<div>\n",
       "<style scoped>\n",
       "    .dataframe tbody tr th:only-of-type {\n",
       "        vertical-align: middle;\n",
       "    }\n",
       "\n",
       "    .dataframe tbody tr th {\n",
       "        vertical-align: top;\n",
       "    }\n",
       "\n",
       "    .dataframe thead th {\n",
       "        text-align: right;\n",
       "    }\n",
       "</style>\n",
       "<table border=\"1\" class=\"dataframe\">\n",
       "  <thead>\n",
       "    <tr style=\"text-align: right;\">\n",
       "      <th></th>\n",
       "      <th>month</th>\n",
       "      <th>mb_used</th>\n",
       "      <th>messages</th>\n",
       "      <th>minutes</th>\n",
       "      <th>profit</th>\n",
       "    </tr>\n",
       "  </thead>\n",
       "  <tbody>\n",
       "    <tr>\n",
       "      <td>1</td>\n",
       "      <td>1.0</td>\n",
       "      <td>115.607422</td>\n",
       "      <td>304.0</td>\n",
       "      <td>3853.0</td>\n",
       "      <td>17550.0</td>\n",
       "    </tr>\n",
       "    <tr>\n",
       "      <td>2</td>\n",
       "      <td>2.0</td>\n",
       "      <td>276.256836</td>\n",
       "      <td>527.0</td>\n",
       "      <td>7131.0</td>\n",
       "      <td>46800.0</td>\n",
       "    </tr>\n",
       "    <tr>\n",
       "      <td>3</td>\n",
       "      <td>3.0</td>\n",
       "      <td>634.202148</td>\n",
       "      <td>1195.0</td>\n",
       "      <td>18117.0</td>\n",
       "      <td>72150.0</td>\n",
       "    </tr>\n",
       "    <tr>\n",
       "      <td>4</td>\n",
       "      <td>4.0</td>\n",
       "      <td>904.696289</td>\n",
       "      <td>1736.0</td>\n",
       "      <td>25191.0</td>\n",
       "      <td>107250.0</td>\n",
       "    </tr>\n",
       "    <tr>\n",
       "      <td>5</td>\n",
       "      <td>5.0</td>\n",
       "      <td>1268.105469</td>\n",
       "      <td>2536.0</td>\n",
       "      <td>34192.0</td>\n",
       "      <td>130650.0</td>\n",
       "    </tr>\n",
       "    <tr>\n",
       "      <td>6</td>\n",
       "      <td>6.0</td>\n",
       "      <td>1553.855469</td>\n",
       "      <td>3505.0</td>\n",
       "      <td>40295.0</td>\n",
       "      <td>163800.0</td>\n",
       "    </tr>\n",
       "    <tr>\n",
       "      <td>7</td>\n",
       "      <td>7.0</td>\n",
       "      <td>1823.079102</td>\n",
       "      <td>4536.0</td>\n",
       "      <td>49667.0</td>\n",
       "      <td>177450.0</td>\n",
       "    </tr>\n",
       "    <tr>\n",
       "      <td>8</td>\n",
       "      <td>8.0</td>\n",
       "      <td>2047.426758</td>\n",
       "      <td>5183.0</td>\n",
       "      <td>54653.0</td>\n",
       "      <td>208650.0</td>\n",
       "    </tr>\n",
       "    <tr>\n",
       "      <td>9</td>\n",
       "      <td>9.0</td>\n",
       "      <td>2158.744141</td>\n",
       "      <td>6013.0</td>\n",
       "      <td>62036.0</td>\n",
       "      <td>224250.0</td>\n",
       "    </tr>\n",
       "    <tr>\n",
       "      <td>10</td>\n",
       "      <td>10.0</td>\n",
       "      <td>2410.015625</td>\n",
       "      <td>7187.0</td>\n",
       "      <td>68644.0</td>\n",
       "      <td>239850.0</td>\n",
       "    </tr>\n",
       "    <tr>\n",
       "      <td>11</td>\n",
       "      <td>11.0</td>\n",
       "      <td>2591.710938</td>\n",
       "      <td>7476.0</td>\n",
       "      <td>72545.0</td>\n",
       "      <td>261300.0</td>\n",
       "    </tr>\n",
       "    <tr>\n",
       "      <td>12</td>\n",
       "      <td>12.0</td>\n",
       "      <td>2961.024414</td>\n",
       "      <td>8425.0</td>\n",
       "      <td>82400.0</td>\n",
       "      <td>271050.0</td>\n",
       "    </tr>\n",
       "  </tbody>\n",
       "</table>\n",
       "</div>"
      ],
      "text/plain": [
       "    month      mb_used  messages  minutes    profit\n",
       "1     1.0   115.607422     304.0   3853.0   17550.0\n",
       "2     2.0   276.256836     527.0   7131.0   46800.0\n",
       "3     3.0   634.202148    1195.0  18117.0   72150.0\n",
       "4     4.0   904.696289    1736.0  25191.0  107250.0\n",
       "5     5.0  1268.105469    2536.0  34192.0  130650.0\n",
       "6     6.0  1553.855469    3505.0  40295.0  163800.0\n",
       "7     7.0  1823.079102    4536.0  49667.0  177450.0\n",
       "8     8.0  2047.426758    5183.0  54653.0  208650.0\n",
       "9     9.0  2158.744141    6013.0  62036.0  224250.0\n",
       "10   10.0  2410.015625    7187.0  68644.0  239850.0\n",
       "11   11.0  2591.710938    7476.0  72545.0  261300.0\n",
       "12   12.0  2961.024414    8425.0  82400.0  271050.0"
      ]
     },
     "execution_count": 62,
     "metadata": {},
     "output_type": "execute_result"
    }
   ],
   "source": [
    "#Посчитаем сколько минут разговора, Сколько сообщений и какой объем интернет-трафика \n",
    "# требуется пользователям тарифа Ultra в месяц\n",
    "ultra_pivot = ultra_tariff.pivot_table(index='month', values=['minutes','messages','mb_used','profit'], aggfunc='sum')\n",
    "ultra_stat = pd.DataFrame(ultra_pivot.to_records())\n",
    "ultra_stat.drop(0)"
   ]
  },
  {
   "cell_type": "markdown",
   "metadata": {},
   "source": [
    "Посчитаем среднее количество, дисперсию и стандартное отклонение."
   ]
  },
  {
   "cell_type": "code",
   "execution_count": 63,
   "metadata": {},
   "outputs": [
    {
     "name": "stdout",
     "output_type": "stream",
     "text": [
      "Среднее minutes: 418\n",
      "Медиана minutes: 422\n",
      "Дисперсия minutes: 36265\n",
      "Среднее отклонение minutes: 190 \n",
      "\n",
      "Среднее messages: 33\n",
      "Медиана messages: 28\n",
      "Дисперсия messages: 797\n",
      "Среднее отклонение messages: 28 \n",
      "\n",
      "Среднее mb_used: 16\n",
      "Медиана mb_used: 16\n",
      "Дисперсия mb_used: 33\n",
      "Среднее отклонение mb_used: 6 \n",
      "\n",
      "Среднее profit: 692\n",
      "Медиана profit: 550\n",
      "Дисперсия profit: 68079\n",
      "Среднее отклонение profit: 261 \n",
      "\n"
     ]
    }
   ],
   "source": [
    "#Посчитаем среднее, медиану, дисперсию и среднее отклонение для тарифа Smart\n",
    "for column in smart_tariff[['minutes','messages','mb_used','profit']]:\n",
    "    print('Среднее {}: {:.0f}'.format(column,smart_tariff[column].mean()))\n",
    "    print('Медиана {}: {:.0f}'.format(column,smart_tariff[column].median()))\n",
    "    print('Дисперсия {}: {:.0f}'.format(column,np.var(smart_tariff[column])))\n",
    "    print('Среднее отклонение {}: {:.0f} \\n'.format(column, np.std(smart_tariff[column])))"
   ]
  },
  {
   "cell_type": "code",
   "execution_count": 64,
   "metadata": {},
   "outputs": [
    {
     "name": "stdout",
     "output_type": "stream",
     "text": [
      "Среднее minutes: 526\n",
      "Медиана minutes: 518\n",
      "Дисперсия minutes: 100950\n",
      "Среднее отклонение minutes: 318 \n",
      "\n",
      "Среднее messages: 49\n",
      "Медиана messages: 38\n",
      "Дисперсия messages: 2283\n",
      "Среднее отклонение messages: 48 \n",
      "\n",
      "Среднее mb_used: 19\n",
      "Медиана mb_used: 19\n",
      "Дисперсия mb_used: 97\n",
      "Среднее отклонение mb_used: 10 \n",
      "\n",
      "Среднее profit: 1950\n",
      "Медиана profit: 1950\n",
      "Дисперсия profit: 0\n",
      "Среднее отклонение profit: 0 \n",
      "\n"
     ]
    }
   ],
   "source": [
    "#Посчитаем среднее, медиану, дисперсию и среднее отклонение для тарифа Ultra\n",
    "for column in ultra_tariff[['minutes','messages','mb_used','profit']]:    \n",
    "    print('Среднее {}: {:.0f}'.format(column,ultra_tariff[column].mean()))\n",
    "    print('Медиана {}: {:.0f}'.format(column,ultra_tariff[column].median()))\n",
    "    print('Дисперсия {}: {:.0f}'.format(column,np.var(ultra_tariff[column])))\n",
    "    print('Среднее отклонение {}: {:.0f} \\n'.format(column, np.std(ultra_tariff[column])))"
   ]
  },
  {
   "cell_type": "markdown",
   "metadata": {},
   "source": [
    "Построим гистограммы и опишем распределения"
   ]
  },
  {
   "cell_type": "code",
   "execution_count": 65,
   "metadata": {},
   "outputs": [],
   "source": [
    "#Напишем функцию для построения гистограмм\n",
    "def histogram_drawing(column, title):\n",
    "    sns.set_style('darkgrid')\n",
    "    plt.figure(figsize=(12,6))\n",
    "    plt.title(title, fontsize=15)\n",
    "    sns.distplot(smart_tariff[column], label='Тариф Smart', kde=False)\n",
    "    sns.distplot(ultra_tariff[column], label='Тариф Ultra', kde=False)\n",
    "    plt.axvline(np.mean(smart_tariff[column]),color='g', linestyle='--', label='Smart среднее')\n",
    "    plt.axvline(np.mean(ultra_tariff[column]),color='g', linestyle='-', label='Ultra среднее')\n",
    "    plt.legend()"
   ]
  },
  {
   "cell_type": "code",
   "execution_count": 66,
   "metadata": {},
   "outputs": [
    {
     "data": {
      "image/png": "[encoded data removed]",
      "text/plain": [
       "<Figure size 864x432 with 1 Axes>"
      ]
     },
     "metadata": {},
     "output_type": "display_data"
    }
   ],
   "source": [
    "#Построим гистограммы для mb_used тарифов ultra и smart\n",
    "histogram_drawing('mb_used', 'Распределение по мегабайтам у тарифов Ultra и Smart')"
   ]
  },
  {
   "cell_type": "code",
   "execution_count": 67,
   "metadata": {},
   "outputs": [
    {
     "data": {
      "image/png": "[encoded data removed]",
      "text/plain": [
       "<Figure size 864x432 with 1 Axes>"
      ]
     },
     "metadata": {},
     "output_type": "display_data"
    }
   ],
   "source": [
    "#Построим гистограммы для minutes тарифов ultra и smart\n",
    "histogram_drawing('minutes','Распределение по минутам у тарифов Ultra и Smart')"
   ]
  },
  {
   "cell_type": "code",
   "execution_count": 68,
   "metadata": {},
   "outputs": [
    {
     "data": {
      "image/png": "[encoded data removed]",
      "text/plain": [
       "<Figure size 864x432 with 1 Axes>"
      ]
     },
     "metadata": {},
     "output_type": "display_data"
    }
   ],
   "source": [
    "#Построим гистограммы для messages тарифов ultra и smart\n",
    "histogram_drawing('messages','Распределение по сообщениям у тарифов Ultra и Smart')"
   ]
  },
  {
   "cell_type": "code",
   "execution_count": 69,
   "metadata": {},
   "outputs": [
    {
     "data": {
      "image/png": "[encoded data removed]",
      "text/plain": [
       "<Figure size 864x432 with 1 Axes>"
      ]
     },
     "metadata": {},
     "output_type": "display_data"
    },
    {
     "data": {
      "image/png": "[encoded data removed]",
      "text/plain": [
       "<Figure size 864x432 with 1 Axes>"
      ]
     },
     "metadata": {},
     "output_type": "display_data"
    },
    {
     "data": {
      "image/png": "[encoded data removed]",
      "text/plain": [
       "<Figure size 864x432 with 1 Axes>"
      ]
     },
     "metadata": {},
     "output_type": "display_data"
    }
   ],
   "source": [
    "#Построим boxplot'ы с помощью цикла \n",
    "for columns in monthly_profit[['mb_used','minutes','messages']]:\n",
    "    plt.figure(figsize=(12,6))\n",
    "    plt.title(columns, fontsize=15)\n",
    "    sns.boxplot(data=monthly_profit, x=columns, y='tariff')"
   ]
  },
  {
   "cell_type": "markdown",
   "metadata": {},
   "source": [
    "<div class=\"alert alert-info\"> <b>Комментарий студента:</b> Вывод\n",
    "\n",
    "Исходя из полученных графиков видно, что пользователи тарифа Smart в среднем:\n",
    "\n",
    "-проговаривают 400 минут, когда пользователи тарифа Ultra проговаривают 500 минут\n",
    "\n",
    "-скачивают ~ 16000 мегабайт, когда пользователи тарифа Ultra скачивают ~ 20 000 мегабайт\n",
    "\n",
    "-отправляют 33 сообщений, когда пользователи тарифа Ultra отправляют ~ 49 сообщений\n",
    "</div>"
   ]
  },
  {
   "cell_type": "code",
   "execution_count": 70,
   "metadata": {},
   "outputs": [
    {
     "data": {
      "text/plain": [
       "<matplotlib.legend.Legend at 0x7f317177c410>"
      ]
     },
     "execution_count": 70,
     "metadata": {},
     "output_type": "execute_result"
    },
    {
     "data": {
      "image/png": "[encoded data removed]",
      "text/plain": [
       "<Figure size 864x432 with 1 Axes>"
      ]
     },
     "metadata": {},
     "output_type": "display_data"
    }
   ],
   "source": [
    "plt.figure(figsize=(12,6))\n",
    "plt.title('Распределение выручки у тарифов Ultra и Smart', fontsize=15)\n",
    "ax = sns.distplot(a=smart_tariff['profit'], label='Тариф Смарт', kde=False)\n",
    "ax = sns.distplot(a=ultra_tariff['profit'], label='Тариф Ультра', kde=False)\n",
    "ax.set(xlabel='Выручка в рублях по тарифам ')\n",
    "plt.legend()"
   ]
  },
  {
   "cell_type": "code",
   "execution_count": 71,
   "metadata": {},
   "outputs": [
    {
     "data": {
      "text/plain": [
       "<matplotlib.legend.Legend at 0x7f317169ce50>"
      ]
     },
     "execution_count": 71,
     "metadata": {},
     "output_type": "execute_result"
    },
    {
     "data": {
      "image/png": "[encoded data removed]",
      "text/plain": [
       "<Figure size 864x432 with 1 Axes>"
      ]
     },
     "metadata": {},
     "output_type": "display_data"
    }
   ],
   "source": [
    "#Построим два графика по прибыли без учета абон платы\n",
    "plt.figure(figsize=(12,6))\n",
    "plt.title('Распределение выручки у тарифов Ultra и Smart без учета Абонентской платы', fontsize=15)\n",
    "ax = sns.distplot(a=smart_tariff['profit']-550, label='Тариф Смарт', kde=False)\n",
    "ax = sns.distplot(a=ultra_tariff['profit']-1950, label='Тариф Ультра', kde=False)\n",
    "ax.set(xlabel='Выручка в рублях по тарифам')\n",
    "plt.legend()"
   ]
  },
  {
   "cell_type": "markdown",
   "metadata": {},
   "source": [
    "<div class=\"alert alert-info\"> <b>Комментарий студента:</b> Исходя из графика видно, что больше всего сверх абонентской платы, оплачивают пользователи тарифа Смарт. Большинству пользователей тарифа Ультра достаточно пакета с имеющимися минутами и мегабайтами.</div>"
   ]
  },
  {
   "cell_type": "code",
   "execution_count": 72,
   "metadata": {},
   "outputs": [
    {
     "name": "stdout",
     "output_type": "stream",
     "text": [
      "Количество клиентов с тарифом Ультра: 149\n",
      "Количество клиентов с тарифом Смарт: 351\n",
      "\n",
      "В среднем один пользователь тарифа Ультра приносит: 12904 рублей\n",
      "В среднем один пользователь тарифа Смарт приносит: 4397 рублей\n",
      "\n",
      "Годавая прибыль по тарифу Ультра: 1922700 рублей\n",
      "Годовая прибыль по тарифу Смарт: 1543501 рублей\n",
      "\n"
     ]
    }
   ],
   "source": [
    "smart = users[users['tariff']=='smart']\n",
    "ultra = users[users['tariff']=='ultra']\n",
    "\n",
    "print('Количество клиентов с тарифом Ультра: {}'.format(ultra['tariff'].count()))\n",
    "print('Количество клиентов с тарифом Смарт: {}\\n'.format(smart['tariff'].count()))\n",
    "print('В среднем один пользователь тарифа Ультра приносит: {:.0f} рублей'.format(ultra_tariff['profit'].sum()/ultra['tariff'].count()))\n",
    "print('В среднем один пользователь тарифа Смарт приносит: {:.0f} рублей\\n'.format(smart_tariff['profit'].sum()/smart['tariff'].count()))\n",
    "print('Годавая прибыль по тарифу Ультра: {:.0f} рублей'.format(ultra_tariff['profit'].sum()))\n",
    "print('Годовая прибыль по тарифу Смарт: {:.0f} рублей\\n'.format(smart_tariff['profit'].sum()))"
   ]
  },
  {
   "cell_type": "markdown",
   "metadata": {},
   "source": [
    "<div class=\"alert alert-info\"> <b>Вывод по Анализу Данных</b> \n",
    "    \n",
    "1) Количество пользователей тарифа Смарт 351, а пользователей тарифа Ультра 149.\n",
    "    \n",
    "2)Как и ожидалось, пользователи тарифа Ультра, тратят больше интернет-трафика, делают больше звонков и отправляют больше сообщений больше, чем пользователи тарифа Смарт.\n",
    "\n",
    "3)Если смотреть по средней выручке от каждого пользователя, то мы можем видеть, что каждый пользователь тарифа Ультра приносит компании в среднем 13 630 рублей в год. Когда пользователь тарифа Смарт приносит лишь 7834 рублей в год.\n",
    "\n",
    "4)Но если посчитать годовую выручку компании, то мы видим, что выручка по тарифу Смарт приносит компании 2 749 609 рублей в год, когда выручка по тарифу Ультра приносит 2 031 509 рублей в год.\n",
    "</div>"
   ]
  },
  {
   "cell_type": "markdown",
   "metadata": {},
   "source": [
    "<div class=\"alert alert-info\"> <b>Проверка Гипотезы </b> Средняя выручка пользователей тарифов «Ультра» и «Смарт» различается\n",
    "    \n",
    "Сформулируем нулевые гипотезы:\n",
    "\n",
    "- Нулевая гипотеза H₀: Средняя выручка пользователей тарифов Смарт и Ультра не различается\n",
    "- Альтернативная гипотеза H₁: Средняя выручка пользователей тарифов Смарт и Ультра различается</div>"
   ]
  },
  {
   "cell_type": "code",
   "execution_count": 73,
   "metadata": {},
   "outputs": [
    {
     "data": {
      "text/plain": [
       "68      1950.0\n",
       "69      1950.0\n",
       "70      1950.0\n",
       "71      1950.0\n",
       "72      1950.0\n",
       "         ...  \n",
       "3205    1950.0\n",
       "3211    1950.0\n",
       "3212    1950.0\n",
       "3213    1950.0\n",
       "3214    1950.0\n",
       "Name: profit, Length: 986, dtype: float64"
      ]
     },
     "execution_count": 73,
     "metadata": {},
     "output_type": "execute_result"
    }
   ],
   "source": [
    "# Посчитаем данные по выручке от каждого пользователя \n",
    "ultra_hyp = monthly_profit[monthly_profit['tariff']=='ultra']['profit']\n",
    "smart_hyp = monthly_profit[monthly_profit['tariff']=='smart']['profit']\n",
    "\n",
    "ultra_hyp"
   ]
  },
  {
   "cell_type": "code",
   "execution_count": 74,
   "metadata": {},
   "outputs": [
    {
     "data": {
      "text/plain": [
       "692.1529147982063"
      ]
     },
     "execution_count": 74,
     "metadata": {},
     "output_type": "execute_result"
    }
   ],
   "source": [
    "smart_hyp.mean()"
   ]
  },
  {
   "cell_type": "code",
   "execution_count": 75,
   "metadata": {},
   "outputs": [
    {
     "name": "stdout",
     "output_type": "stream",
     "text": [
      "p-значение: 0.0\n",
      "Отвергаем нулевую гипотезу\n"
     ]
    }
   ],
   "source": [
    "#Выполним проверку гипотезы. Будем использовать метод ttest_ind\n",
    "\n",
    "alpha = .05\n",
    "\n",
    "results = st.ttest_ind(ultra_hyp, smart_hyp, equal_var=False)\n",
    "\n",
    "print('p-значение:', results.pvalue)\n",
    "\n",
    "\n",
    "if (results.pvalue < alpha):\n",
    "    print(\"Отвергаем нулевую гипотезу\")\n",
    "else:\n",
    "    print(\"Не получилось отвергнуть нулевую гипотезу\")"
   ]
  },
  {
   "cell_type": "markdown",
   "metadata": {},
   "source": [
    "<div class=\"alert alert-info\"> <b>Исходя из нашего теста мы видим, что средняя выручка в тарифах ультра и смарт различается. Отвергаем нулевую гипотезу</div>"
   ]
  },
  {
   "cell_type": "markdown",
   "metadata": {},
   "source": [
    "<div class=\"alert alert-info\"> <b>Средняя выручка пользователей из Москвы отличается от выручки пользователей из других регионов;</b> Сформулируем нулевые гипотезы :\n",
    "\n",
    "- Нулевая гипотеза H₀: Средняя выручка пользователей из Москвы не отличается от выручки пользователей из других регионов\n",
    "- Альтернативная гипотеза H₁: Средняя выручка пользователей ииз Москвы отличается от выручки пользователей из других регионов</div>"
   ]
  },
  {
   "cell_type": "code",
   "execution_count": 76,
   "metadata": {},
   "outputs": [
    {
     "data": {
      "text/plain": [
       "1147.859247135843"
      ]
     },
     "execution_count": 76,
     "metadata": {},
     "output_type": "execute_result"
    }
   ],
   "source": [
    "moscow_city = monthly_profit[monthly_profit['city']=='москва'].profit\n",
    "others_city = monthly_profit[monthly_profit['city']!='москва'].profit\n",
    "moscow_city.mean()"
   ]
  },
  {
   "cell_type": "code",
   "execution_count": 77,
   "metadata": {},
   "outputs": [
    {
     "data": {
      "text/plain": [
       "1061.3662188099809"
      ]
     },
     "execution_count": 77,
     "metadata": {},
     "output_type": "execute_result"
    }
   ],
   "source": [
    "others_city.mean()"
   ]
  },
  {
   "cell_type": "code",
   "execution_count": 78,
   "metadata": {},
   "outputs": [
    {
     "name": "stdout",
     "output_type": "stream",
     "text": [
      "p-значение: 0.0025424121881247076\n",
      "Отвергаем нулевую гипотезу\n"
     ]
    }
   ],
   "source": [
    "#Выполним проверку гипотезы.\n",
    "\n",
    "alpha = .05\n",
    "\n",
    "results = st.ttest_ind(moscow_city, others_city, equal_var = False)\n",
    "\n",
    "print('p-значение:', results.pvalue)\n",
    "\n",
    "\n",
    "if (results.pvalue < alpha):\n",
    "    print(\"Отвергаем нулевую гипотезу\")\n",
    "else:\n",
    "    print(\"Не получилось отвергнуть нулевую гипотезу\")"
   ]
  },
  {
   "cell_type": "markdown",
   "metadata": {},
   "source": [
    "<div class=\"alert alert-info\"> <b>Исходя из нашего теста мы видим, что средняя выручка пользователей с Москвы не отличается от пользователей из других регионов. Проведя тест мы не смогли отвергнуть нулевую гипотезу</div>"
   ]
  },
  {
   "cell_type": "markdown",
   "metadata": {},
   "source": [
    "<div class=\"alert alert-info\"> <b>Общий вывод: </b> \n",
    "    \n",
    "1)Я изучил  таблицы, проверил их на наличие пустых значений, дубликатов и неправильных типов данных. После, в предобработке я поменял типы данных практически во всех столбцах, так как многие были указаны неверно.И подготовил все таблицы для дальнейшего анализа.\n",
    "\n",
    "2)По заданию: посчитал: Сколько минут разговора, сколько сообщений и какой объем интернет-трафика требуется пользователям каждого тарифа в месяц. Посчитал среднее количество, дисперсию и стандартное отклонение\n",
    "\n",
    "3)Проверил гипотезы. Убедился, что выручка тарифов Смарт и Ультра различается. Убедился, что выручка клиентов из Москвы и других регионов не отличается.\n",
    "\n",
    "4) Изучив данные, мной было выявлено, что клиенты тарифа Ультра расходуют больше интернет-трафика, делают больше звонков и отправляют больше сообщений, нежели клиенты тарифа Смарт и практически не превышают лимит своего пакета, чего не скажешь о клиентах тарифа Смарт. Но по годовой выручке, компания получает больше выручки по тарифу Смарт, так как пользователей данного тарифа больше чем Ультра. Если считать по каждому пользователю то в среднем пользователь тарифа Ультра приносит больше выручки в год чем, пользователь Смарта.\n",
    "\n",
    "5)И Как итог если брать считать по итоговой прибыли от тарифов Ультра и Смарт, то Смарт выгоден для компании на 700ыс. рублей в год. Но если считать ценность пользователя каждого тарифа, то пользователь тарифа Ультра приносят больше дохода, чем один пользователь тарифа Смарт\n",
    "</div>"
   ]
  }
 ],
 "metadata": {
  "ExecuteTimeLog": [
   {
    "duration": 1155,
    "start_time": "2022-02-16T12:18:25.327Z"
   },
   {
    "duration": 5,
    "start_time": "2022-02-16T12:18:29.854Z"
   },
   {
    "duration": 1382,
    "start_time": "2022-02-16T12:18:50.735Z"
   },
   {
    "duration": 1565,
    "start_time": "2022-02-16T12:49:48.680Z"
   },
   {
    "duration": 384,
    "start_time": "2022-02-16T12:50:46.190Z"
   },
   {
    "duration": 20,
    "start_time": "2022-02-16T12:51:07.270Z"
   },
   {
    "duration": 11,
    "start_time": "2022-02-16T12:51:24.333Z"
   },
   {
    "duration": 4,
    "start_time": "2022-02-16T12:51:38.085Z"
   },
   {
    "duration": 20,
    "start_time": "2022-02-16T12:51:47.126Z"
   },
   {
    "duration": 97,
    "start_time": "2022-02-16T12:51:54.821Z"
   },
   {
    "duration": 100,
    "start_time": "2022-02-16T12:52:55.117Z"
   },
   {
    "duration": 62,
    "start_time": "2022-02-16T12:56:23.950Z"
   },
   {
    "duration": 16,
    "start_time": "2022-02-16T12:56:37.709Z"
   },
   {
    "duration": 8,
    "start_time": "2022-02-16T12:57:02.576Z"
   },
   {
    "duration": 4,
    "start_time": "2022-02-16T12:57:14.607Z"
   },
   {
    "duration": 16,
    "start_time": "2022-02-16T12:57:22.519Z"
   },
   {
    "duration": 55,
    "start_time": "2022-02-16T12:57:30.376Z"
   },
   {
    "duration": 14,
    "start_time": "2022-02-16T13:07:20.836Z"
   },
   {
    "duration": 7,
    "start_time": "2022-02-16T13:07:37.681Z"
   },
   {
    "duration": 4,
    "start_time": "2022-02-16T13:07:47.978Z"
   },
   {
    "duration": 14,
    "start_time": "2022-02-16T13:07:57.338Z"
   },
   {
    "duration": 39,
    "start_time": "2022-02-16T13:08:07.058Z"
   },
   {
    "duration": 60,
    "start_time": "2022-02-16T13:10:29.378Z"
   },
   {
    "duration": 7,
    "start_time": "2022-02-16T13:11:33.553Z"
   },
   {
    "duration": 7,
    "start_time": "2022-02-16T13:11:42.050Z"
   },
   {
    "duration": 4,
    "start_time": "2022-02-16T13:11:57.771Z"
   },
   {
    "duration": 6,
    "start_time": "2022-02-16T13:12:05.939Z"
   },
   {
    "duration": 5,
    "start_time": "2022-02-16T13:12:13.523Z"
   },
   {
    "duration": 84,
    "start_time": "2022-02-16T13:13:30.587Z"
   },
   {
    "duration": 7,
    "start_time": "2022-02-16T13:14:00.379Z"
   },
   {
    "duration": 9,
    "start_time": "2022-02-16T13:14:20.275Z"
   },
   {
    "duration": 4,
    "start_time": "2022-02-16T13:14:30.699Z"
   },
   {
    "duration": 6,
    "start_time": "2022-02-16T13:14:37.211Z"
   },
   {
    "duration": 5,
    "start_time": "2022-02-16T13:14:49.636Z"
   },
   {
    "duration": 6,
    "start_time": "2022-02-16T13:14:56.188Z"
   },
   {
    "duration": 7,
    "start_time": "2022-02-16T13:15:22.131Z"
   },
   {
    "duration": 6,
    "start_time": "2022-02-16T13:15:31.740Z"
   },
   {
    "duration": 6,
    "start_time": "2022-02-16T13:16:24.675Z"
   },
   {
    "duration": 6,
    "start_time": "2022-02-16T13:16:36.108Z"
   },
   {
    "duration": 61,
    "start_time": "2022-02-16T13:17:50.365Z"
   },
   {
    "duration": 68,
    "start_time": "2022-02-16T13:27:34.511Z"
   },
   {
    "duration": 5,
    "start_time": "2022-02-16T13:27:43.840Z"
   },
   {
    "duration": 33,
    "start_time": "2022-02-16T13:27:52.942Z"
   },
   {
    "duration": 10,
    "start_time": "2022-02-16T13:27:59.863Z"
   },
   {
    "duration": 8,
    "start_time": "2022-02-16T13:28:07.911Z"
   },
   {
    "duration": 27,
    "start_time": "2022-02-16T13:28:16.902Z"
   },
   {
    "duration": 5,
    "start_time": "2022-02-16T13:28:24.751Z"
   },
   {
    "duration": 7,
    "start_time": "2022-02-16T13:28:33.310Z"
   },
   {
    "duration": 9,
    "start_time": "2022-02-16T13:28:42.040Z"
   },
   {
    "duration": 12,
    "start_time": "2022-02-16T13:28:51.071Z"
   },
   {
    "duration": 6,
    "start_time": "2022-02-16T13:29:41.439Z"
   },
   {
    "duration": 6,
    "start_time": "2022-02-16T13:29:53.192Z"
   },
   {
    "duration": 6,
    "start_time": "2022-02-16T13:30:14.477Z"
   },
   {
    "duration": 6,
    "start_time": "2022-02-16T13:30:28.720Z"
   },
   {
    "duration": 83,
    "start_time": "2022-02-16T13:30:51.784Z"
   },
   {
    "duration": 59,
    "start_time": "2022-02-16T13:31:07.184Z"
   },
   {
    "duration": 37,
    "start_time": "2022-02-16T13:31:16.627Z"
   },
   {
    "duration": 49,
    "start_time": "2022-02-16T13:31:44.480Z"
   },
   {
    "duration": 14,
    "start_time": "2022-02-16T13:33:46.489Z"
   },
   {
    "duration": 15,
    "start_time": "2022-02-16T13:33:55.977Z"
   },
   {
    "duration": 13,
    "start_time": "2022-02-16T13:34:05.481Z"
   },
   {
    "duration": 17,
    "start_time": "2022-02-16T13:34:21.608Z"
   },
   {
    "duration": 22,
    "start_time": "2022-02-16T13:34:57.329Z"
   },
   {
    "duration": 25,
    "start_time": "2022-02-16T13:35:08.169Z"
   },
   {
    "duration": 8,
    "start_time": "2022-02-16T13:35:20.152Z"
   },
   {
    "duration": 5,
    "start_time": "2022-02-16T13:35:27.769Z"
   },
   {
    "duration": 3,
    "start_time": "2022-02-16T13:36:06.123Z"
   },
   {
    "duration": 6,
    "start_time": "2022-02-16T13:36:13.761Z"
   },
   {
    "duration": 93,
    "start_time": "2022-02-16T13:36:21.753Z"
   },
   {
    "duration": 15,
    "start_time": "2022-02-16T13:36:27.435Z"
   },
   {
    "duration": 11,
    "start_time": "2022-02-16T13:47:28.451Z"
   },
   {
    "duration": 12,
    "start_time": "2022-02-16T13:50:24.796Z"
   },
   {
    "duration": 23,
    "start_time": "2022-02-16T13:50:40.692Z"
   },
   {
    "duration": 27,
    "start_time": "2022-02-16T13:52:03.212Z"
   },
   {
    "duration": 31,
    "start_time": "2022-02-16T13:52:22.668Z"
   },
   {
    "duration": 7,
    "start_time": "2022-02-16T13:52:34.915Z"
   },
   {
    "duration": 5,
    "start_time": "2022-02-16T13:52:56.812Z"
   },
   {
    "duration": 3,
    "start_time": "2022-02-16T13:53:02.453Z"
   },
   {
    "duration": 5,
    "start_time": "2022-02-16T13:53:19.733Z"
   },
   {
    "duration": 5224,
    "start_time": "2022-02-16T13:53:21.076Z"
   },
   {
    "duration": 8,
    "start_time": "2022-02-16T13:53:50.165Z"
   },
   {
    "duration": 5,
    "start_time": "2022-02-16T13:53:53.046Z"
   },
   {
    "duration": 7,
    "start_time": "2022-02-16T13:54:05.565Z"
   },
   {
    "duration": 191,
    "start_time": "2022-02-16T13:54:09.934Z"
   },
   {
    "duration": 5,
    "start_time": "2022-02-16T13:54:38.079Z"
   },
   {
    "duration": 367,
    "start_time": "2022-02-16T13:54:39.086Z"
   },
   {
    "duration": 21,
    "start_time": "2022-02-16T13:54:39.714Z"
   },
   {
    "duration": 8,
    "start_time": "2022-02-16T13:54:40.658Z"
   },
   {
    "duration": 4,
    "start_time": "2022-02-16T13:54:43.170Z"
   },
   {
    "duration": 19,
    "start_time": "2022-02-16T13:54:43.922Z"
   },
   {
    "duration": 76,
    "start_time": "2022-02-16T13:54:44.522Z"
   },
   {
    "duration": 17,
    "start_time": "2022-02-16T13:54:46.369Z"
   },
   {
    "duration": 8,
    "start_time": "2022-02-16T13:54:50.930Z"
   },
   {
    "duration": 4,
    "start_time": "2022-02-16T13:54:51.738Z"
   },
   {
    "duration": 15,
    "start_time": "2022-02-16T13:54:52.379Z"
   },
   {
    "duration": 50,
    "start_time": "2022-02-16T13:54:53.018Z"
   },
   {
    "duration": 15,
    "start_time": "2022-02-16T13:54:59.258Z"
   },
   {
    "duration": 8,
    "start_time": "2022-02-16T13:55:02.042Z"
   },
   {
    "duration": 4,
    "start_time": "2022-02-16T13:55:03.658Z"
   },
   {
    "duration": 14,
    "start_time": "2022-02-16T13:55:04.450Z"
   },
   {
    "duration": 42,
    "start_time": "2022-02-16T13:55:07.826Z"
   },
   {
    "duration": 9,
    "start_time": "2022-02-16T13:55:10.482Z"
   },
   {
    "duration": 8,
    "start_time": "2022-02-16T13:55:27.090Z"
   },
   {
    "duration": 4,
    "start_time": "2022-02-16T13:55:31.474Z"
   },
   {
    "duration": 6,
    "start_time": "2022-02-16T13:55:36.866Z"
   },
   {
    "duration": 6,
    "start_time": "2022-02-16T13:55:38.970Z"
   },
   {
    "duration": 7,
    "start_time": "2022-02-16T13:55:42.249Z"
   },
   {
    "duration": 10,
    "start_time": "2022-02-16T13:55:42.930Z"
   },
   {
    "duration": 3,
    "start_time": "2022-02-16T13:55:46.091Z"
   },
   {
    "duration": 6,
    "start_time": "2022-02-16T13:55:46.955Z"
   },
   {
    "duration": 6,
    "start_time": "2022-02-16T13:55:49.674Z"
   },
   {
    "duration": 6,
    "start_time": "2022-02-16T13:55:51.850Z"
   },
   {
    "duration": 6,
    "start_time": "2022-02-16T13:55:54.426Z"
   },
   {
    "duration": 6,
    "start_time": "2022-02-16T13:55:56.666Z"
   },
   {
    "duration": 6,
    "start_time": "2022-02-16T13:55:58.795Z"
   },
   {
    "duration": 7,
    "start_time": "2022-02-16T13:56:00.900Z"
   },
   {
    "duration": 42,
    "start_time": "2022-02-16T13:56:05.466Z"
   },
   {
    "duration": 4,
    "start_time": "2022-02-16T13:56:06.043Z"
   },
   {
    "duration": 32,
    "start_time": "2022-02-16T13:56:06.586Z"
   },
   {
    "duration": 1222,
    "start_time": "2022-02-16T13:56:19.840Z"
   },
   {
    "duration": 396,
    "start_time": "2022-02-16T13:56:21.067Z"
   },
   {
    "duration": 19,
    "start_time": "2022-02-16T13:56:21.465Z"
   },
   {
    "duration": 10,
    "start_time": "2022-02-16T13:56:21.486Z"
   },
   {
    "duration": 4,
    "start_time": "2022-02-16T13:56:21.498Z"
   },
   {
    "duration": 22,
    "start_time": "2022-02-16T13:56:21.504Z"
   },
   {
    "duration": 100,
    "start_time": "2022-02-16T13:56:21.531Z"
   },
   {
    "duration": 16,
    "start_time": "2022-02-16T13:56:21.633Z"
   },
   {
    "duration": 8,
    "start_time": "2022-02-16T13:56:21.651Z"
   },
   {
    "duration": 9,
    "start_time": "2022-02-16T13:56:21.660Z"
   },
   {
    "duration": 19,
    "start_time": "2022-02-16T13:56:21.670Z"
   },
   {
    "duration": 91,
    "start_time": "2022-02-16T13:56:21.690Z"
   },
   {
    "duration": 14,
    "start_time": "2022-02-16T13:56:21.783Z"
   },
   {
    "duration": 7,
    "start_time": "2022-02-16T13:56:21.798Z"
   },
   {
    "duration": 4,
    "start_time": "2022-02-16T13:56:21.830Z"
   },
   {
    "duration": 13,
    "start_time": "2022-02-16T13:56:21.836Z"
   },
   {
    "duration": 39,
    "start_time": "2022-02-16T13:56:21.851Z"
   },
   {
    "duration": 6,
    "start_time": "2022-02-16T13:56:21.891Z"
   },
   {
    "duration": 9,
    "start_time": "2022-02-16T13:56:21.930Z"
   },
   {
    "duration": 6,
    "start_time": "2022-02-16T13:56:21.941Z"
   },
   {
    "duration": 6,
    "start_time": "2022-02-16T13:56:21.949Z"
   },
   {
    "duration": 8,
    "start_time": "2022-02-16T13:56:21.959Z"
   },
   {
    "duration": 11,
    "start_time": "2022-02-16T13:56:21.970Z"
   },
   {
    "duration": 48,
    "start_time": "2022-02-16T13:56:21.983Z"
   },
   {
    "duration": 4,
    "start_time": "2022-02-16T13:56:22.033Z"
   },
   {
    "duration": 10,
    "start_time": "2022-02-16T13:56:22.039Z"
   },
   {
    "duration": 8,
    "start_time": "2022-02-16T13:56:22.051Z"
   },
   {
    "duration": 8,
    "start_time": "2022-02-16T13:56:22.060Z"
   },
   {
    "duration": 10,
    "start_time": "2022-02-16T13:56:22.070Z"
   },
   {
    "duration": 8,
    "start_time": "2022-02-16T13:56:22.082Z"
   },
   {
    "duration": 42,
    "start_time": "2022-02-16T13:56:22.092Z"
   },
   {
    "duration": 6,
    "start_time": "2022-02-16T13:56:22.136Z"
   },
   {
    "duration": 45,
    "start_time": "2022-02-16T13:56:22.144Z"
   },
   {
    "duration": 4,
    "start_time": "2022-02-16T13:56:22.191Z"
   },
   {
    "duration": 61,
    "start_time": "2022-02-16T13:56:22.197Z"
   },
   {
    "duration": 11,
    "start_time": "2022-02-16T13:56:22.260Z"
   },
   {
    "duration": 7,
    "start_time": "2022-02-16T13:56:22.273Z"
   },
   {
    "duration": 53,
    "start_time": "2022-02-16T13:56:22.282Z"
   },
   {
    "duration": 4,
    "start_time": "2022-02-16T13:56:22.337Z"
   },
   {
    "duration": 8,
    "start_time": "2022-02-16T13:56:22.343Z"
   },
   {
    "duration": 10,
    "start_time": "2022-02-16T13:56:22.353Z"
   },
   {
    "duration": 16,
    "start_time": "2022-02-16T13:56:22.364Z"
   },
   {
    "duration": 6,
    "start_time": "2022-02-16T13:56:22.381Z"
   },
   {
    "duration": 6,
    "start_time": "2022-02-16T13:56:22.388Z"
   },
   {
    "duration": 84,
    "start_time": "2022-02-16T13:56:22.430Z"
   },
   {
    "duration": 51,
    "start_time": "2022-02-16T13:56:22.515Z"
   },
   {
    "duration": 69,
    "start_time": "2022-02-16T13:56:22.568Z"
   },
   {
    "duration": 16,
    "start_time": "2022-02-16T13:56:22.639Z"
   },
   {
    "duration": 15,
    "start_time": "2022-02-16T13:56:22.657Z"
   },
   {
    "duration": 20,
    "start_time": "2022-02-16T13:56:22.674Z"
   },
   {
    "duration": 47,
    "start_time": "2022-02-16T13:56:22.696Z"
   },
   {
    "duration": 21,
    "start_time": "2022-02-16T13:56:22.745Z"
   },
   {
    "duration": 24,
    "start_time": "2022-02-16T13:56:22.768Z"
   },
   {
    "duration": 35,
    "start_time": "2022-02-16T13:56:22.795Z"
   },
   {
    "duration": 6,
    "start_time": "2022-02-16T13:56:22.832Z"
   },
   {
    "duration": 11,
    "start_time": "2022-02-16T13:56:22.839Z"
   },
   {
    "duration": 8,
    "start_time": "2022-02-16T13:56:22.851Z"
   },
   {
    "duration": 122,
    "start_time": "2022-02-16T13:56:22.860Z"
   },
   {
    "duration": 15,
    "start_time": "2022-02-16T13:56:22.984Z"
   },
   {
    "duration": 9,
    "start_time": "2022-02-16T13:56:38.548Z"
   },
   {
    "duration": 5,
    "start_time": "2022-02-16T13:56:38.980Z"
   },
   {
    "duration": 7,
    "start_time": "2022-02-16T13:56:39.380Z"
   },
   {
    "duration": 289,
    "start_time": "2022-02-16T13:56:39.844Z"
   },
   {
    "duration": 8,
    "start_time": "2022-02-16T13:56:40.276Z"
   },
   {
    "duration": 9,
    "start_time": "2022-02-16T13:56:42.244Z"
   },
   {
    "duration": 6,
    "start_time": "2022-02-16T13:56:42.660Z"
   },
   {
    "duration": 8,
    "start_time": "2022-02-16T13:56:43.084Z"
   },
   {
    "duration": 13,
    "start_time": "2022-02-16T13:56:43.533Z"
   },
   {
    "duration": 13,
    "start_time": "2022-02-16T13:56:44.421Z"
   },
   {
    "duration": 12,
    "start_time": "2022-02-16T13:56:49.764Z"
   },
   {
    "duration": 12,
    "start_time": "2022-02-16T13:56:54.124Z"
   },
   {
    "duration": 7,
    "start_time": "2022-02-16T13:56:57.180Z"
   },
   {
    "duration": 6,
    "start_time": "2022-02-16T13:56:58.077Z"
   },
   {
    "duration": 72,
    "start_time": "2022-02-16T13:56:59.653Z"
   },
   {
    "duration": 34,
    "start_time": "2022-02-16T13:57:02.716Z"
   },
   {
    "duration": 43,
    "start_time": "2022-02-16T13:57:03.812Z"
   },
   {
    "duration": 15,
    "start_time": "2022-02-16T13:57:06.676Z"
   },
   {
    "duration": 15,
    "start_time": "2022-02-16T13:57:07.125Z"
   },
   {
    "duration": 14,
    "start_time": "2022-02-16T13:57:07.788Z"
   },
   {
    "duration": 18,
    "start_time": "2022-02-16T13:57:08.300Z"
   },
   {
    "duration": 22,
    "start_time": "2022-02-16T13:57:08.797Z"
   },
   {
    "duration": 24,
    "start_time": "2022-02-16T13:57:11.277Z"
   },
   {
    "duration": 7,
    "start_time": "2022-02-16T13:57:12.196Z"
   },
   {
    "duration": 5,
    "start_time": "2022-02-16T13:57:12.700Z"
   },
   {
    "duration": 4,
    "start_time": "2022-02-16T13:57:15.660Z"
   },
   {
    "duration": 6,
    "start_time": "2022-02-16T13:57:16.109Z"
   },
   {
    "duration": 93,
    "start_time": "2022-02-16T13:57:18.309Z"
   },
   {
    "duration": 15,
    "start_time": "2022-02-16T13:57:19.237Z"
   },
   {
    "duration": 58,
    "start_time": "2022-02-16T14:00:11.293Z"
   },
   {
    "duration": 177,
    "start_time": "2022-02-16T14:15:35.004Z"
   },
   {
    "duration": 175,
    "start_time": "2022-02-16T14:15:39.796Z"
   },
   {
    "duration": 1125,
    "start_time": "2022-02-16T14:15:54.526Z"
   },
   {
    "duration": 389,
    "start_time": "2022-02-16T14:15:55.653Z"
   },
   {
    "duration": 20,
    "start_time": "2022-02-16T14:15:56.044Z"
   },
   {
    "duration": 10,
    "start_time": "2022-02-16T14:15:56.066Z"
   },
   {
    "duration": 7,
    "start_time": "2022-02-16T14:15:56.078Z"
   },
   {
    "duration": 20,
    "start_time": "2022-02-16T14:15:56.087Z"
   },
   {
    "duration": 129,
    "start_time": "2022-02-16T14:15:56.109Z"
   },
   {
    "duration": 17,
    "start_time": "2022-02-16T14:15:56.240Z"
   },
   {
    "duration": 8,
    "start_time": "2022-02-16T14:15:56.259Z"
   },
   {
    "duration": 7,
    "start_time": "2022-02-16T14:15:56.269Z"
   },
   {
    "duration": 18,
    "start_time": "2022-02-16T14:15:56.277Z"
   },
   {
    "duration": 93,
    "start_time": "2022-02-16T14:15:56.296Z"
   },
   {
    "duration": 13,
    "start_time": "2022-02-16T14:15:56.391Z"
   },
   {
    "duration": 25,
    "start_time": "2022-02-16T14:15:56.406Z"
   },
   {
    "duration": 5,
    "start_time": "2022-02-16T14:15:56.432Z"
   },
   {
    "duration": 17,
    "start_time": "2022-02-16T14:15:56.439Z"
   },
   {
    "duration": 41,
    "start_time": "2022-02-16T14:15:56.458Z"
   },
   {
    "duration": 34,
    "start_time": "2022-02-16T14:15:56.501Z"
   },
   {
    "duration": 16,
    "start_time": "2022-02-16T14:15:56.537Z"
   },
   {
    "duration": 5,
    "start_time": "2022-02-16T14:15:56.555Z"
   },
   {
    "duration": 9,
    "start_time": "2022-02-16T14:15:56.562Z"
   },
   {
    "duration": 12,
    "start_time": "2022-02-16T14:15:56.572Z"
   },
   {
    "duration": 6,
    "start_time": "2022-02-16T14:15:56.588Z"
   },
   {
    "duration": 51,
    "start_time": "2022-02-16T14:15:56.596Z"
   },
   {
    "duration": 18,
    "start_time": "2022-02-16T14:15:56.650Z"
   },
   {
    "duration": 15,
    "start_time": "2022-02-16T14:15:56.670Z"
   },
   {
    "duration": 10,
    "start_time": "2022-02-16T14:15:56.687Z"
   },
   {
    "duration": 15,
    "start_time": "2022-02-16T14:15:56.699Z"
   },
   {
    "duration": 15,
    "start_time": "2022-02-16T14:15:56.716Z"
   },
   {
    "duration": 9,
    "start_time": "2022-02-16T14:15:56.733Z"
   },
   {
    "duration": 9,
    "start_time": "2022-02-16T14:15:56.744Z"
   },
   {
    "duration": 8,
    "start_time": "2022-02-16T14:15:56.754Z"
   },
   {
    "duration": 74,
    "start_time": "2022-02-16T14:15:56.764Z"
   },
   {
    "duration": 5,
    "start_time": "2022-02-16T14:15:56.839Z"
   },
   {
    "duration": 38,
    "start_time": "2022-02-16T14:15:56.846Z"
   },
   {
    "duration": 11,
    "start_time": "2022-02-16T14:15:56.886Z"
   },
   {
    "duration": 34,
    "start_time": "2022-02-16T14:15:56.899Z"
   },
   {
    "duration": 30,
    "start_time": "2022-02-16T14:15:56.935Z"
   },
   {
    "duration": 5,
    "start_time": "2022-02-16T14:15:56.966Z"
   },
   {
    "duration": 10,
    "start_time": "2022-02-16T14:15:56.972Z"
   },
   {
    "duration": 14,
    "start_time": "2022-02-16T14:15:56.984Z"
   },
   {
    "duration": 41,
    "start_time": "2022-02-16T14:15:57.000Z"
   },
   {
    "duration": 6,
    "start_time": "2022-02-16T14:15:57.042Z"
   },
   {
    "duration": 6,
    "start_time": "2022-02-16T14:15:57.049Z"
   },
   {
    "duration": 110,
    "start_time": "2022-02-16T14:15:57.056Z"
   },
   {
    "duration": 39,
    "start_time": "2022-02-16T14:15:57.168Z"
   },
   {
    "duration": 62,
    "start_time": "2022-02-16T14:15:57.209Z"
   },
   {
    "duration": 15,
    "start_time": "2022-02-16T14:15:57.273Z"
   },
   {
    "duration": 42,
    "start_time": "2022-02-16T14:15:57.290Z"
   },
   {
    "duration": 14,
    "start_time": "2022-02-16T14:15:57.334Z"
   },
   {
    "duration": 19,
    "start_time": "2022-02-16T14:15:57.350Z"
   },
   {
    "duration": 22,
    "start_time": "2022-02-16T14:15:57.371Z"
   },
   {
    "duration": 25,
    "start_time": "2022-02-16T14:15:57.431Z"
   },
   {
    "duration": 8,
    "start_time": "2022-02-16T14:15:57.458Z"
   },
   {
    "duration": 6,
    "start_time": "2022-02-16T14:15:57.468Z"
   },
   {
    "duration": 4,
    "start_time": "2022-02-16T14:15:57.476Z"
   },
   {
    "duration": 7,
    "start_time": "2022-02-16T14:15:57.482Z"
   },
   {
    "duration": 131,
    "start_time": "2022-02-16T14:15:57.491Z"
   },
   {
    "duration": 19,
    "start_time": "2022-02-16T14:15:57.624Z"
   },
   {
    "duration": 4,
    "start_time": "2022-02-16T14:16:04.186Z"
   },
   {
    "duration": 1055,
    "start_time": "2022-02-16T14:16:11.851Z"
   },
   {
    "duration": 375,
    "start_time": "2022-02-16T14:16:12.908Z"
   },
   {
    "duration": 21,
    "start_time": "2022-02-16T14:16:13.288Z"
   },
   {
    "duration": 18,
    "start_time": "2022-02-16T14:16:13.311Z"
   },
   {
    "duration": 7,
    "start_time": "2022-02-16T14:16:13.331Z"
   },
   {
    "duration": 25,
    "start_time": "2022-02-16T14:16:13.339Z"
   },
   {
    "duration": 110,
    "start_time": "2022-02-16T14:16:13.366Z"
   },
   {
    "duration": 17,
    "start_time": "2022-02-16T14:16:13.478Z"
   },
   {
    "duration": 10,
    "start_time": "2022-02-16T14:16:13.496Z"
   },
   {
    "duration": 23,
    "start_time": "2022-02-16T14:16:13.508Z"
   },
   {
    "duration": 18,
    "start_time": "2022-02-16T14:16:13.534Z"
   },
   {
    "duration": 78,
    "start_time": "2022-02-16T14:16:13.553Z"
   },
   {
    "duration": 14,
    "start_time": "2022-02-16T14:16:13.632Z"
   },
   {
    "duration": 9,
    "start_time": "2022-02-16T14:16:13.647Z"
   },
   {
    "duration": 4,
    "start_time": "2022-02-16T14:16:13.658Z"
   },
   {
    "duration": 16,
    "start_time": "2022-02-16T14:16:13.664Z"
   },
   {
    "duration": 87,
    "start_time": "2022-02-16T14:16:13.682Z"
   },
   {
    "duration": 7,
    "start_time": "2022-02-16T14:16:13.771Z"
   },
   {
    "duration": 11,
    "start_time": "2022-02-16T14:16:13.780Z"
   },
   {
    "duration": 6,
    "start_time": "2022-02-16T14:16:13.793Z"
   },
   {
    "duration": 30,
    "start_time": "2022-02-16T14:16:13.801Z"
   },
   {
    "duration": 5,
    "start_time": "2022-02-16T14:16:13.836Z"
   },
   {
    "duration": 10,
    "start_time": "2022-02-16T14:16:13.843Z"
   },
   {
    "duration": 11,
    "start_time": "2022-02-16T14:16:13.855Z"
   },
   {
    "duration": 7,
    "start_time": "2022-02-16T14:16:13.868Z"
   },
   {
    "duration": 9,
    "start_time": "2022-02-16T14:16:13.877Z"
   },
   {
    "duration": 45,
    "start_time": "2022-02-16T14:16:13.888Z"
   },
   {
    "duration": 8,
    "start_time": "2022-02-16T14:16:13.936Z"
   },
   {
    "duration": 7,
    "start_time": "2022-02-16T14:16:13.946Z"
   },
   {
    "duration": 8,
    "start_time": "2022-02-16T14:16:13.955Z"
   },
   {
    "duration": 5,
    "start_time": "2022-02-16T14:16:13.965Z"
   },
   {
    "duration": 9,
    "start_time": "2022-02-16T14:16:13.972Z"
   },
   {
    "duration": 86,
    "start_time": "2022-02-16T14:16:13.982Z"
   },
   {
    "duration": 4,
    "start_time": "2022-02-16T14:16:14.070Z"
   },
   {
    "duration": 36,
    "start_time": "2022-02-16T14:16:14.076Z"
   },
   {
    "duration": 23,
    "start_time": "2022-02-16T14:16:14.113Z"
   },
   {
    "duration": 8,
    "start_time": "2022-02-16T14:16:14.138Z"
   },
   {
    "duration": 30,
    "start_time": "2022-02-16T14:16:14.147Z"
   },
   {
    "duration": 5,
    "start_time": "2022-02-16T14:16:14.179Z"
   },
   {
    "duration": 9,
    "start_time": "2022-02-16T14:16:14.186Z"
   },
   {
    "duration": 9,
    "start_time": "2022-02-16T14:16:14.231Z"
   },
   {
    "duration": 14,
    "start_time": "2022-02-16T14:16:14.242Z"
   },
   {
    "duration": 5,
    "start_time": "2022-02-16T14:16:14.258Z"
   },
   {
    "duration": 4,
    "start_time": "2022-02-16T14:16:14.265Z"
   },
   {
    "duration": 123,
    "start_time": "2022-02-16T14:16:14.271Z"
   },
   {
    "duration": 48,
    "start_time": "2022-02-16T14:16:14.396Z"
   },
   {
    "duration": 48,
    "start_time": "2022-02-16T14:16:14.445Z"
   },
   {
    "duration": 13,
    "start_time": "2022-02-16T14:16:14.495Z"
   },
   {
    "duration": 13,
    "start_time": "2022-02-16T14:16:14.531Z"
   },
   {
    "duration": 12,
    "start_time": "2022-02-16T14:16:14.546Z"
   },
   {
    "duration": 17,
    "start_time": "2022-02-16T14:16:14.559Z"
   },
   {
    "duration": 53,
    "start_time": "2022-02-16T14:16:14.578Z"
   },
   {
    "duration": 25,
    "start_time": "2022-02-16T14:16:14.633Z"
   },
   {
    "duration": 6,
    "start_time": "2022-02-16T14:16:14.659Z"
   },
   {
    "duration": 12,
    "start_time": "2022-02-16T14:16:14.666Z"
   },
   {
    "duration": 4,
    "start_time": "2022-02-16T14:16:14.679Z"
   },
   {
    "duration": 8,
    "start_time": "2022-02-16T14:16:14.684Z"
   },
   {
    "duration": 129,
    "start_time": "2022-02-16T14:16:14.694Z"
   },
   {
    "duration": 19,
    "start_time": "2022-02-16T14:16:14.825Z"
   },
   {
    "duration": 62,
    "start_time": "2022-02-16T14:17:31.174Z"
   },
   {
    "duration": 7,
    "start_time": "2022-02-16T14:17:49.725Z"
   },
   {
    "duration": 20,
    "start_time": "2022-02-16T14:17:57.046Z"
   },
   {
    "duration": 26,
    "start_time": "2022-02-16T14:18:08.437Z"
   },
   {
    "duration": 12,
    "start_time": "2022-02-16T14:18:44.182Z"
   },
   {
    "duration": 13,
    "start_time": "2022-02-16T14:18:54.181Z"
   },
   {
    "duration": 4,
    "start_time": "2022-02-16T14:19:14.014Z"
   },
   {
    "duration": 591,
    "start_time": "2022-02-16T14:19:29.358Z"
   },
   {
    "duration": 610,
    "start_time": "2022-02-16T14:19:40.926Z"
   },
   {
    "duration": 615,
    "start_time": "2022-02-16T14:19:50.000Z"
   },
   {
    "duration": 905,
    "start_time": "2022-02-16T14:20:01.262Z"
   },
   {
    "duration": 517,
    "start_time": "2022-02-16T14:21:37.015Z"
   },
   {
    "duration": 512,
    "start_time": "2022-02-16T14:21:52.047Z"
   },
   {
    "duration": 11,
    "start_time": "2022-02-16T14:23:00.056Z"
   },
   {
    "duration": 9,
    "start_time": "2022-02-16T14:28:24.569Z"
   },
   {
    "duration": 4,
    "start_time": "2022-02-16T14:28:35.122Z"
   },
   {
    "duration": 5,
    "start_time": "2022-02-16T14:28:44.105Z"
   },
   {
    "duration": 56,
    "start_time": "2022-02-16T14:29:22.608Z"
   },
   {
    "duration": 9,
    "start_time": "2022-02-16T14:30:24.025Z"
   },
   {
    "duration": 5,
    "start_time": "2022-02-16T14:30:29.281Z"
   },
   {
    "duration": 5,
    "start_time": "2022-02-16T14:30:38.882Z"
   },
   {
    "duration": 53,
    "start_time": "2022-02-16T14:32:11.770Z"
   },
   {
    "duration": 6,
    "start_time": "2022-02-25T09:29:38.899Z"
   },
   {
    "duration": 361,
    "start_time": "2022-02-25T09:39:19.108Z"
   },
   {
    "duration": 387,
    "start_time": "2022-02-25T09:39:24.179Z"
   },
   {
    "duration": 527,
    "start_time": "2022-02-25T09:39:26.696Z"
   },
   {
    "duration": 1329,
    "start_time": "2022-02-25T09:39:33.869Z"
   },
   {
    "duration": 456,
    "start_time": "2022-02-25T09:39:35.200Z"
   },
   {
    "duration": 23,
    "start_time": "2022-02-25T09:39:35.659Z"
   },
   {
    "duration": 17,
    "start_time": "2022-02-25T09:39:35.685Z"
   },
   {
    "duration": 8,
    "start_time": "2022-02-25T09:39:35.704Z"
   },
   {
    "duration": 36,
    "start_time": "2022-02-25T09:39:35.714Z"
   },
   {
    "duration": 120,
    "start_time": "2022-02-25T09:39:35.752Z"
   },
   {
    "duration": 27,
    "start_time": "2022-02-25T09:39:35.875Z"
   },
   {
    "duration": 13,
    "start_time": "2022-02-25T09:39:35.904Z"
   },
   {
    "duration": 13,
    "start_time": "2022-02-25T09:39:35.920Z"
   },
   {
    "duration": 21,
    "start_time": "2022-02-25T09:39:35.934Z"
   },
   {
    "duration": 88,
    "start_time": "2022-02-25T09:39:35.957Z"
   },
   {
    "duration": 16,
    "start_time": "2022-02-25T09:39:36.047Z"
   },
   {
    "duration": 12,
    "start_time": "2022-02-25T09:39:36.066Z"
   },
   {
    "duration": 6,
    "start_time": "2022-02-25T09:39:36.094Z"
   },
   {
    "duration": 17,
    "start_time": "2022-02-25T09:39:36.102Z"
   },
   {
    "duration": 47,
    "start_time": "2022-02-25T09:39:36.121Z"
   },
   {
    "duration": 8,
    "start_time": "2022-02-25T09:39:36.195Z"
   },
   {
    "duration": 16,
    "start_time": "2022-02-25T09:39:36.205Z"
   },
   {
    "duration": 9,
    "start_time": "2022-02-25T09:39:36.223Z"
   },
   {
    "duration": 10,
    "start_time": "2022-02-25T09:39:36.234Z"
   },
   {
    "duration": 10,
    "start_time": "2022-02-25T09:39:36.246Z"
   },
   {
    "duration": 9,
    "start_time": "2022-02-25T09:39:36.259Z"
   },
   {
    "duration": 11,
    "start_time": "2022-02-25T09:39:36.294Z"
   },
   {
    "duration": 7,
    "start_time": "2022-02-25T09:39:36.306Z"
   },
   {
    "duration": 16,
    "start_time": "2022-02-25T09:39:36.314Z"
   },
   {
    "duration": 5,
    "start_time": "2022-02-25T09:39:36.335Z"
   },
   {
    "duration": 7,
    "start_time": "2022-02-25T09:39:36.342Z"
   },
   {
    "duration": 7,
    "start_time": "2022-02-25T09:39:36.350Z"
   },
   {
    "duration": 37,
    "start_time": "2022-02-25T09:39:36.358Z"
   },
   {
    "duration": 7,
    "start_time": "2022-02-25T09:39:36.397Z"
   },
   {
    "duration": 10,
    "start_time": "2022-02-25T09:39:36.406Z"
   },
   {
    "duration": 53,
    "start_time": "2022-02-25T09:39:36.418Z"
   },
   {
    "duration": 23,
    "start_time": "2022-02-25T09:39:36.473Z"
   },
   {
    "duration": 39,
    "start_time": "2022-02-25T09:39:36.498Z"
   },
   {
    "duration": 11,
    "start_time": "2022-02-25T09:39:36.539Z"
   },
   {
    "duration": 8,
    "start_time": "2022-02-25T09:39:36.551Z"
   },
   {
    "duration": 57,
    "start_time": "2022-02-25T09:39:36.561Z"
   },
   {
    "duration": 5,
    "start_time": "2022-02-25T09:39:36.620Z"
   },
   {
    "duration": 9,
    "start_time": "2022-02-25T09:39:36.627Z"
   },
   {
    "duration": 11,
    "start_time": "2022-02-25T09:39:36.637Z"
   },
   {
    "duration": 14,
    "start_time": "2022-02-25T09:39:36.650Z"
   },
   {
    "duration": 28,
    "start_time": "2022-02-25T09:39:36.666Z"
   },
   {
    "duration": 10,
    "start_time": "2022-02-25T09:39:36.696Z"
   },
   {
    "duration": 114,
    "start_time": "2022-02-25T09:39:36.708Z"
   },
   {
    "duration": 41,
    "start_time": "2022-02-25T09:39:36.824Z"
   },
   {
    "duration": 65,
    "start_time": "2022-02-25T09:39:36.867Z"
   },
   {
    "duration": 15,
    "start_time": "2022-02-25T09:39:36.933Z"
   },
   {
    "duration": 15,
    "start_time": "2022-02-25T09:39:36.949Z"
   },
   {
    "duration": 36,
    "start_time": "2022-02-25T09:39:36.966Z"
   },
   {
    "duration": 18,
    "start_time": "2022-02-25T09:39:37.005Z"
   },
   {
    "duration": 24,
    "start_time": "2022-02-25T09:39:37.026Z"
   },
   {
    "duration": 55,
    "start_time": "2022-02-25T09:39:37.052Z"
   },
   {
    "duration": 7,
    "start_time": "2022-02-25T09:39:37.109Z"
   },
   {
    "duration": 4,
    "start_time": "2022-02-25T09:39:37.117Z"
   },
   {
    "duration": 4,
    "start_time": "2022-02-25T09:39:37.123Z"
   },
   {
    "duration": 12,
    "start_time": "2022-02-25T09:39:37.128Z"
   },
   {
    "duration": 130,
    "start_time": "2022-02-25T09:39:37.141Z"
   },
   {
    "duration": 22,
    "start_time": "2022-02-25T09:39:37.273Z"
   },
   {
    "duration": 12,
    "start_time": "2022-02-25T09:39:37.297Z"
   },
   {
    "duration": 27,
    "start_time": "2022-02-25T09:39:37.311Z"
   },
   {
    "duration": 21,
    "start_time": "2022-02-25T09:39:37.339Z"
   },
   {
    "duration": 33,
    "start_time": "2022-02-25T09:39:37.362Z"
   },
   {
    "duration": 13,
    "start_time": "2022-02-25T09:39:37.397Z"
   },
   {
    "duration": 5,
    "start_time": "2022-02-25T09:39:37.412Z"
   },
   {
    "duration": 686,
    "start_time": "2022-02-25T09:39:37.418Z"
   },
   {
    "duration": 727,
    "start_time": "2022-02-25T09:39:38.106Z"
   },
   {
    "duration": 608,
    "start_time": "2022-02-25T09:39:38.835Z"
   },
   {
    "duration": 1052,
    "start_time": "2022-02-25T09:39:39.445Z"
   },
   {
    "duration": 614,
    "start_time": "2022-02-25T09:39:40.499Z"
   },
   {
    "duration": 635,
    "start_time": "2022-02-25T09:39:41.115Z"
   },
   {
    "duration": 12,
    "start_time": "2022-02-25T09:39:41.751Z"
   },
   {
    "duration": 34,
    "start_time": "2022-02-25T09:39:41.765Z"
   },
   {
    "duration": 33,
    "start_time": "2022-02-25T09:39:41.801Z"
   },
   {
    "duration": 24,
    "start_time": "2022-02-25T09:39:41.836Z"
   },
   {
    "duration": 24,
    "start_time": "2022-02-25T09:39:41.862Z"
   },
   {
    "duration": 27,
    "start_time": "2022-02-25T09:39:41.887Z"
   },
   {
    "duration": 20,
    "start_time": "2022-02-25T09:39:41.916Z"
   },
   {
    "duration": 1176,
    "start_time": "2022-02-25T09:42:15.194Z"
   },
   {
    "duration": 372,
    "start_time": "2022-02-25T09:42:16.373Z"
   },
   {
    "duration": 23,
    "start_time": "2022-02-25T09:42:16.748Z"
   },
   {
    "duration": 11,
    "start_time": "2022-02-25T09:42:16.773Z"
   },
   {
    "duration": 8,
    "start_time": "2022-02-25T09:42:16.785Z"
   },
   {
    "duration": 21,
    "start_time": "2022-02-25T09:42:16.795Z"
   },
   {
    "duration": 114,
    "start_time": "2022-02-25T09:42:16.818Z"
   },
   {
    "duration": 18,
    "start_time": "2022-02-25T09:42:16.935Z"
   },
   {
    "duration": 8,
    "start_time": "2022-02-25T09:42:16.955Z"
   },
   {
    "duration": 10,
    "start_time": "2022-02-25T09:42:16.965Z"
   },
   {
    "duration": 18,
    "start_time": "2022-02-25T09:42:16.995Z"
   },
   {
    "duration": 87,
    "start_time": "2022-02-25T09:42:17.015Z"
   },
   {
    "duration": 16,
    "start_time": "2022-02-25T09:42:17.104Z"
   },
   {
    "duration": 7,
    "start_time": "2022-02-25T09:42:17.122Z"
   },
   {
    "duration": 10,
    "start_time": "2022-02-25T09:42:17.131Z"
   },
   {
    "duration": 18,
    "start_time": "2022-02-25T09:42:17.143Z"
   },
   {
    "duration": 73,
    "start_time": "2022-02-25T09:42:17.163Z"
   },
   {
    "duration": 6,
    "start_time": "2022-02-25T09:42:17.238Z"
   },
   {
    "duration": 12,
    "start_time": "2022-02-25T09:42:17.246Z"
   },
   {
    "duration": 5,
    "start_time": "2022-02-25T09:42:17.259Z"
   },
   {
    "duration": 7,
    "start_time": "2022-02-25T09:42:17.266Z"
   },
   {
    "duration": 20,
    "start_time": "2022-02-25T09:42:17.275Z"
   },
   {
    "duration": 8,
    "start_time": "2022-02-25T09:42:17.299Z"
   },
   {
    "duration": 15,
    "start_time": "2022-02-25T09:42:17.310Z"
   },
   {
    "duration": 12,
    "start_time": "2022-02-25T09:42:17.327Z"
   },
   {
    "duration": 9,
    "start_time": "2022-02-25T09:42:17.341Z"
   },
   {
    "duration": 8,
    "start_time": "2022-02-25T09:42:17.352Z"
   },
   {
    "duration": 8,
    "start_time": "2022-02-25T09:42:17.361Z"
   },
   {
    "duration": 25,
    "start_time": "2022-02-25T09:42:17.370Z"
   },
   {
    "duration": 10,
    "start_time": "2022-02-25T09:42:17.397Z"
   },
   {
    "duration": 8,
    "start_time": "2022-02-25T09:42:17.408Z"
   },
   {
    "duration": 17,
    "start_time": "2022-02-25T09:42:17.418Z"
   },
   {
    "duration": 68,
    "start_time": "2022-02-25T09:42:17.436Z"
   },
   {
    "duration": 5,
    "start_time": "2022-02-25T09:42:17.506Z"
   },
   {
    "duration": 40,
    "start_time": "2022-02-25T09:42:17.513Z"
   },
   {
    "duration": 10,
    "start_time": "2022-02-25T09:42:17.555Z"
   },
   {
    "duration": 29,
    "start_time": "2022-02-25T09:42:17.567Z"
   },
   {
    "duration": 34,
    "start_time": "2022-02-25T09:42:17.598Z"
   },
   {
    "duration": 8,
    "start_time": "2022-02-25T09:42:17.634Z"
   },
   {
    "duration": 55,
    "start_time": "2022-02-25T09:42:17.643Z"
   },
   {
    "duration": 13,
    "start_time": "2022-02-25T09:42:17.700Z"
   },
   {
    "duration": 18,
    "start_time": "2022-02-25T09:42:17.715Z"
   },
   {
    "duration": 9,
    "start_time": "2022-02-25T09:42:17.735Z"
   },
   {
    "duration": 13,
    "start_time": "2022-02-25T09:42:17.746Z"
   },
   {
    "duration": 112,
    "start_time": "2022-02-25T09:42:17.760Z"
   },
   {
    "duration": 49,
    "start_time": "2022-02-25T09:42:17.874Z"
   },
   {
    "duration": 49,
    "start_time": "2022-02-25T09:42:17.924Z"
   },
   {
    "duration": 28,
    "start_time": "2022-02-25T09:42:17.974Z"
   },
   {
    "duration": 16,
    "start_time": "2022-02-25T09:42:18.004Z"
   },
   {
    "duration": 13,
    "start_time": "2022-02-25T09:42:18.022Z"
   },
   {
    "duration": 19,
    "start_time": "2022-02-25T09:42:18.037Z"
   },
   {
    "duration": 56,
    "start_time": "2022-02-25T09:42:18.058Z"
   },
   {
    "duration": 26,
    "start_time": "2022-02-25T09:42:18.116Z"
   },
   {
    "duration": 7,
    "start_time": "2022-02-25T09:42:18.144Z"
   },
   {
    "duration": 5,
    "start_time": "2022-02-25T09:42:18.153Z"
   },
   {
    "duration": 4,
    "start_time": "2022-02-25T09:42:18.195Z"
   },
   {
    "duration": 8,
    "start_time": "2022-02-25T09:42:18.202Z"
   },
   {
    "duration": 110,
    "start_time": "2022-02-25T09:42:18.211Z"
   },
   {
    "duration": 17,
    "start_time": "2022-02-25T09:42:18.323Z"
   },
   {
    "duration": 7,
    "start_time": "2022-02-25T09:42:18.342Z"
   },
   {
    "duration": 45,
    "start_time": "2022-02-25T09:42:18.351Z"
   },
   {
    "duration": 22,
    "start_time": "2022-02-25T09:42:18.398Z"
   },
   {
    "duration": 19,
    "start_time": "2022-02-25T09:42:18.422Z"
   },
   {
    "duration": 14,
    "start_time": "2022-02-25T09:42:18.443Z"
   },
   {
    "duration": 37,
    "start_time": "2022-02-25T09:42:18.459Z"
   },
   {
    "duration": 631,
    "start_time": "2022-02-25T09:42:18.498Z"
   },
   {
    "duration": 759,
    "start_time": "2022-02-25T09:42:19.131Z"
   },
   {
    "duration": 573,
    "start_time": "2022-02-25T09:42:19.897Z"
   },
   {
    "duration": 999,
    "start_time": "2022-02-25T09:42:20.473Z"
   },
   {
    "duration": 641,
    "start_time": "2022-02-25T09:42:21.474Z"
   },
   {
    "duration": 686,
    "start_time": "2022-02-25T09:42:22.118Z"
   },
   {
    "duration": 11,
    "start_time": "2022-02-25T09:42:22.807Z"
   },
   {
    "duration": 35,
    "start_time": "2022-02-25T09:42:22.821Z"
   },
   {
    "duration": 21,
    "start_time": "2022-02-25T09:42:22.858Z"
   },
   {
    "duration": 17,
    "start_time": "2022-02-25T09:42:22.880Z"
   },
   {
    "duration": 32,
    "start_time": "2022-02-25T09:42:22.899Z"
   },
   {
    "duration": 23,
    "start_time": "2022-02-25T09:42:22.933Z"
   },
   {
    "duration": 14,
    "start_time": "2022-02-25T09:42:22.958Z"
   },
   {
    "duration": 131,
    "start_time": "2022-02-25T09:42:22.974Z"
   },
   {
    "duration": 86,
    "start_time": "2022-02-25T09:43:52.453Z"
   },
   {
    "duration": 1170,
    "start_time": "2022-02-25T09:44:05.600Z"
   },
   {
    "duration": 380,
    "start_time": "2022-02-25T09:44:06.772Z"
   },
   {
    "duration": 22,
    "start_time": "2022-02-25T09:44:07.155Z"
   },
   {
    "duration": 11,
    "start_time": "2022-02-25T09:44:07.180Z"
   },
   {
    "duration": 10,
    "start_time": "2022-02-25T09:44:07.192Z"
   },
   {
    "duration": 31,
    "start_time": "2022-02-25T09:44:07.204Z"
   },
   {
    "duration": 114,
    "start_time": "2022-02-25T09:44:07.236Z"
   },
   {
    "duration": 19,
    "start_time": "2022-02-25T09:44:07.352Z"
   },
   {
    "duration": 25,
    "start_time": "2022-02-25T09:44:07.374Z"
   },
   {
    "duration": 8,
    "start_time": "2022-02-25T09:44:07.402Z"
   },
   {
    "duration": 43,
    "start_time": "2022-02-25T09:44:07.411Z"
   },
   {
    "duration": 77,
    "start_time": "2022-02-25T09:44:07.456Z"
   },
   {
    "duration": 16,
    "start_time": "2022-02-25T09:44:07.535Z"
   },
   {
    "duration": 22,
    "start_time": "2022-02-25T09:44:07.553Z"
   },
   {
    "duration": 8,
    "start_time": "2022-02-25T09:44:07.576Z"
   },
   {
    "duration": 22,
    "start_time": "2022-02-25T09:44:07.586Z"
   },
   {
    "duration": 50,
    "start_time": "2022-02-25T09:44:07.610Z"
   },
   {
    "duration": 7,
    "start_time": "2022-02-25T09:44:07.662Z"
   },
   {
    "duration": 29,
    "start_time": "2022-02-25T09:44:07.671Z"
   },
   {
    "duration": 6,
    "start_time": "2022-02-25T09:44:07.702Z"
   },
   {
    "duration": 13,
    "start_time": "2022-02-25T09:44:07.710Z"
   },
   {
    "duration": 9,
    "start_time": "2022-02-25T09:44:07.725Z"
   },
   {
    "duration": 10,
    "start_time": "2022-02-25T09:44:07.735Z"
   },
   {
    "duration": 14,
    "start_time": "2022-02-25T09:44:07.747Z"
   },
   {
    "duration": 26,
    "start_time": "2022-02-25T09:44:07.763Z"
   },
   {
    "duration": 8,
    "start_time": "2022-02-25T09:44:07.795Z"
   },
   {
    "duration": 8,
    "start_time": "2022-02-25T09:44:07.808Z"
   },
   {
    "duration": 8,
    "start_time": "2022-02-25T09:44:07.819Z"
   },
   {
    "duration": 15,
    "start_time": "2022-02-25T09:44:07.828Z"
   },
   {
    "duration": 11,
    "start_time": "2022-02-25T09:44:07.845Z"
   },
   {
    "duration": 37,
    "start_time": "2022-02-25T09:44:07.858Z"
   },
   {
    "duration": 8,
    "start_time": "2022-02-25T09:44:07.897Z"
   },
   {
    "duration": 64,
    "start_time": "2022-02-25T09:44:07.906Z"
   },
   {
    "duration": 5,
    "start_time": "2022-02-25T09:44:07.972Z"
   },
   {
    "duration": 50,
    "start_time": "2022-02-25T09:44:07.979Z"
   },
   {
    "duration": 10,
    "start_time": "2022-02-25T09:44:08.031Z"
   },
   {
    "duration": 8,
    "start_time": "2022-02-25T09:44:08.043Z"
   },
   {
    "duration": 53,
    "start_time": "2022-02-25T09:44:08.053Z"
   },
   {
    "duration": 5,
    "start_time": "2022-02-25T09:44:08.107Z"
   },
   {
    "duration": 14,
    "start_time": "2022-02-25T09:44:08.114Z"
   },
   {
    "duration": 11,
    "start_time": "2022-02-25T09:44:08.129Z"
   },
   {
    "duration": 37,
    "start_time": "2022-02-25T09:44:08.142Z"
   },
   {
    "duration": 10,
    "start_time": "2022-02-25T09:44:08.181Z"
   },
   {
    "duration": 13,
    "start_time": "2022-02-25T09:44:08.193Z"
   },
   {
    "duration": 99,
    "start_time": "2022-02-25T09:44:08.208Z"
   },
   {
    "duration": 41,
    "start_time": "2022-02-25T09:44:08.309Z"
   },
   {
    "duration": 72,
    "start_time": "2022-02-25T09:44:08.352Z"
   },
   {
    "duration": 16,
    "start_time": "2022-02-25T09:44:08.426Z"
   },
   {
    "duration": 55,
    "start_time": "2022-02-25T09:44:08.444Z"
   },
   {
    "duration": 16,
    "start_time": "2022-02-25T09:44:08.500Z"
   },
   {
    "duration": 35,
    "start_time": "2022-02-25T09:44:08.518Z"
   },
   {
    "duration": 23,
    "start_time": "2022-02-25T09:44:08.555Z"
   },
   {
    "duration": 36,
    "start_time": "2022-02-25T09:44:08.580Z"
   },
   {
    "duration": 6,
    "start_time": "2022-02-25T09:44:08.618Z"
   },
   {
    "duration": 6,
    "start_time": "2022-02-25T09:44:08.626Z"
   },
   {
    "duration": 14,
    "start_time": "2022-02-25T09:44:08.634Z"
   },
   {
    "duration": 20,
    "start_time": "2022-02-25T09:44:08.650Z"
   },
   {
    "duration": 133,
    "start_time": "2022-02-25T09:44:08.672Z"
   },
   {
    "duration": 18,
    "start_time": "2022-02-25T09:44:08.807Z"
   },
   {
    "duration": 16,
    "start_time": "2022-02-25T09:44:08.827Z"
   },
   {
    "duration": 36,
    "start_time": "2022-02-25T09:44:08.844Z"
   },
   {
    "duration": 32,
    "start_time": "2022-02-25T09:44:08.883Z"
   },
   {
    "duration": 16,
    "start_time": "2022-02-25T09:44:08.917Z"
   },
   {
    "duration": 13,
    "start_time": "2022-02-25T09:44:08.935Z"
   },
   {
    "duration": 6,
    "start_time": "2022-02-25T09:44:08.950Z"
   },
   {
    "duration": 703,
    "start_time": "2022-02-25T09:44:08.958Z"
   },
   {
    "duration": 779,
    "start_time": "2022-02-25T09:44:09.663Z"
   },
   {
    "duration": 650,
    "start_time": "2022-02-25T09:44:10.444Z"
   },
   {
    "duration": 1160,
    "start_time": "2022-02-25T09:44:11.095Z"
   },
   {
    "duration": 616,
    "start_time": "2022-02-25T09:44:12.258Z"
   },
   {
    "duration": 603,
    "start_time": "2022-02-25T09:44:12.877Z"
   },
   {
    "duration": 20,
    "start_time": "2022-02-25T09:44:13.481Z"
   },
   {
    "duration": 20,
    "start_time": "2022-02-25T09:44:13.503Z"
   },
   {
    "duration": 17,
    "start_time": "2022-02-25T09:44:13.524Z"
   },
   {
    "duration": 8,
    "start_time": "2022-02-25T09:44:13.543Z"
   },
   {
    "duration": 10,
    "start_time": "2022-02-25T09:44:13.553Z"
   },
   {
    "duration": 6,
    "start_time": "2022-02-25T09:44:13.565Z"
   },
   {
    "duration": 24,
    "start_time": "2022-02-25T09:44:13.573Z"
   },
   {
    "duration": 97,
    "start_time": "2022-02-25T09:44:13.599Z"
   },
   {
    "duration": 108,
    "start_time": "2022-02-25T09:45:59.014Z"
   },
   {
    "duration": 1320,
    "start_time": "2022-02-25T09:46:06.864Z"
   },
   {
    "duration": 388,
    "start_time": "2022-02-25T09:46:08.186Z"
   },
   {
    "duration": 23,
    "start_time": "2022-02-25T09:46:08.576Z"
   },
   {
    "duration": 11,
    "start_time": "2022-02-25T09:46:08.601Z"
   },
   {
    "duration": 9,
    "start_time": "2022-02-25T09:46:08.614Z"
   },
   {
    "duration": 24,
    "start_time": "2022-02-25T09:46:08.625Z"
   },
   {
    "duration": 130,
    "start_time": "2022-02-25T09:46:08.651Z"
   },
   {
    "duration": 25,
    "start_time": "2022-02-25T09:46:08.783Z"
   },
   {
    "duration": 9,
    "start_time": "2022-02-25T09:46:08.811Z"
   },
   {
    "duration": 8,
    "start_time": "2022-02-25T09:46:08.823Z"
   },
   {
    "duration": 24,
    "start_time": "2022-02-25T09:46:08.833Z"
   },
   {
    "duration": 98,
    "start_time": "2022-02-25T09:46:08.859Z"
   },
   {
    "duration": 17,
    "start_time": "2022-02-25T09:46:08.960Z"
   },
   {
    "duration": 18,
    "start_time": "2022-02-25T09:46:08.979Z"
   },
   {
    "duration": 14,
    "start_time": "2022-02-25T09:46:08.999Z"
   },
   {
    "duration": 19,
    "start_time": "2022-02-25T09:46:09.014Z"
   },
   {
    "duration": 61,
    "start_time": "2022-02-25T09:46:09.034Z"
   },
   {
    "duration": 6,
    "start_time": "2022-02-25T09:46:09.097Z"
   },
   {
    "duration": 13,
    "start_time": "2022-02-25T09:46:09.105Z"
   },
   {
    "duration": 7,
    "start_time": "2022-02-25T09:46:09.120Z"
   },
   {
    "duration": 8,
    "start_time": "2022-02-25T09:46:09.129Z"
   },
   {
    "duration": 8,
    "start_time": "2022-02-25T09:46:09.140Z"
   },
   {
    "duration": 12,
    "start_time": "2022-02-25T09:46:09.149Z"
   },
   {
    "duration": 38,
    "start_time": "2022-02-25T09:46:09.163Z"
   },
   {
    "duration": 7,
    "start_time": "2022-02-25T09:46:09.203Z"
   },
   {
    "duration": 8,
    "start_time": "2022-02-25T09:46:09.211Z"
   },
   {
    "duration": 5,
    "start_time": "2022-02-25T09:46:09.224Z"
   },
   {
    "duration": 11,
    "start_time": "2022-02-25T09:46:09.232Z"
   },
   {
    "duration": 16,
    "start_time": "2022-02-25T09:46:09.245Z"
   },
   {
    "duration": 8,
    "start_time": "2022-02-25T09:46:09.263Z"
   },
   {
    "duration": 6,
    "start_time": "2022-02-25T09:46:09.295Z"
   },
   {
    "duration": 13,
    "start_time": "2022-02-25T09:46:09.302Z"
   },
   {
    "duration": 54,
    "start_time": "2022-02-25T09:46:09.317Z"
   },
   {
    "duration": 5,
    "start_time": "2022-02-25T09:46:09.373Z"
   },
   {
    "duration": 35,
    "start_time": "2022-02-25T09:46:09.395Z"
   },
   {
    "duration": 11,
    "start_time": "2022-02-25T09:46:09.432Z"
   },
   {
    "duration": 9,
    "start_time": "2022-02-25T09:46:09.444Z"
   },
   {
    "duration": 56,
    "start_time": "2022-02-25T09:46:09.455Z"
   },
   {
    "duration": 7,
    "start_time": "2022-02-25T09:46:09.512Z"
   },
   {
    "duration": 28,
    "start_time": "2022-02-25T09:46:09.521Z"
   },
   {
    "duration": 19,
    "start_time": "2022-02-25T09:46:09.551Z"
   },
   {
    "duration": 25,
    "start_time": "2022-02-25T09:46:09.572Z"
   },
   {
    "duration": 6,
    "start_time": "2022-02-25T09:46:09.598Z"
   },
   {
    "duration": 9,
    "start_time": "2022-02-25T09:46:09.605Z"
   },
   {
    "duration": 116,
    "start_time": "2022-02-25T09:46:09.616Z"
   },
   {
    "duration": 39,
    "start_time": "2022-02-25T09:46:09.734Z"
   },
   {
    "duration": 59,
    "start_time": "2022-02-25T09:46:09.775Z"
   },
   {
    "duration": 29,
    "start_time": "2022-02-25T09:46:09.836Z"
   },
   {
    "duration": 37,
    "start_time": "2022-02-25T09:46:09.866Z"
   },
   {
    "duration": 14,
    "start_time": "2022-02-25T09:46:09.905Z"
   },
   {
    "duration": 369,
    "start_time": "2022-02-25T09:46:09.921Z"
   },
   {
    "duration": 1930170,
    "start_time": "2022-02-25T09:14:00.122Z"
   },
   {
    "duration": 1930168,
    "start_time": "2022-02-25T09:14:00.126Z"
   },
   {
    "duration": 1930165,
    "start_time": "2022-02-25T09:14:00.130Z"
   },
   {
    "duration": 1930164,
    "start_time": "2022-02-25T09:14:00.133Z"
   },
   {
    "duration": 1930159,
    "start_time": "2022-02-25T09:14:00.139Z"
   },
   {
    "duration": 1930158,
    "start_time": "2022-02-25T09:14:00.142Z"
   },
   {
    "duration": 1930157,
    "start_time": "2022-02-25T09:14:00.144Z"
   },
   {
    "duration": 1930156,
    "start_time": "2022-02-25T09:14:00.147Z"
   },
   {
    "duration": 1930149,
    "start_time": "2022-02-25T09:14:00.155Z"
   },
   {
    "duration": 1930148,
    "start_time": "2022-02-25T09:14:00.158Z"
   },
   {
    "duration": 1930146,
    "start_time": "2022-02-25T09:14:00.161Z"
   },
   {
    "duration": 1930145,
    "start_time": "2022-02-25T09:14:00.164Z"
   },
   {
    "duration": 1930143,
    "start_time": "2022-02-25T09:14:00.167Z"
   },
   {
    "duration": 1930142,
    "start_time": "2022-02-25T09:14:00.170Z"
   },
   {
    "duration": 1930136,
    "start_time": "2022-02-25T09:14:00.177Z"
   },
   {
    "duration": 1930135,
    "start_time": "2022-02-25T09:14:00.180Z"
   },
   {
    "duration": 1930134,
    "start_time": "2022-02-25T09:14:00.182Z"
   },
   {
    "duration": 1930131,
    "start_time": "2022-02-25T09:14:00.187Z"
   },
   {
    "duration": 1930122,
    "start_time": "2022-02-25T09:14:00.197Z"
   },
   {
    "duration": 1930118,
    "start_time": "2022-02-25T09:14:00.203Z"
   },
   {
    "duration": 1930110,
    "start_time": "2022-02-25T09:14:00.212Z"
   },
   {
    "duration": 1930108,
    "start_time": "2022-02-25T09:14:00.216Z"
   },
   {
    "duration": 1930098,
    "start_time": "2022-02-25T09:14:00.227Z"
   },
   {
    "duration": 1930096,
    "start_time": "2022-02-25T09:14:00.230Z"
   },
   {
    "duration": 1930095,
    "start_time": "2022-02-25T09:14:00.232Z"
   },
   {
    "duration": 1930091,
    "start_time": "2022-02-25T09:14:00.237Z"
   },
   {
    "duration": 1930083,
    "start_time": "2022-02-25T09:14:00.246Z"
   },
   {
    "duration": 1930081,
    "start_time": "2022-02-25T09:14:00.249Z"
   },
   {
    "duration": 1267,
    "start_time": "2022-02-25T09:46:37.198Z"
   },
   {
    "duration": 424,
    "start_time": "2022-02-25T09:46:38.467Z"
   },
   {
    "duration": 23,
    "start_time": "2022-02-25T09:46:38.893Z"
   },
   {
    "duration": 21,
    "start_time": "2022-02-25T09:46:38.918Z"
   },
   {
    "duration": 14,
    "start_time": "2022-02-25T09:46:38.941Z"
   },
   {
    "duration": 26,
    "start_time": "2022-02-25T09:46:38.957Z"
   },
   {
    "duration": 140,
    "start_time": "2022-02-25T09:46:38.995Z"
   },
   {
    "duration": 21,
    "start_time": "2022-02-25T09:46:39.139Z"
   },
   {
    "duration": 10,
    "start_time": "2022-02-25T09:46:39.163Z"
   },
   {
    "duration": 4,
    "start_time": "2022-02-25T09:46:39.195Z"
   },
   {
    "duration": 23,
    "start_time": "2022-02-25T09:46:39.202Z"
   },
   {
    "duration": 107,
    "start_time": "2022-02-25T09:46:39.227Z"
   },
   {
    "duration": 17,
    "start_time": "2022-02-25T09:46:39.336Z"
   },
   {
    "duration": 11,
    "start_time": "2022-02-25T09:46:39.355Z"
   },
   {
    "duration": 30,
    "start_time": "2022-02-25T09:46:39.368Z"
   },
   {
    "duration": 23,
    "start_time": "2022-02-25T09:46:39.400Z"
   },
   {
    "duration": 70,
    "start_time": "2022-02-25T09:46:39.425Z"
   },
   {
    "duration": 8,
    "start_time": "2022-02-25T09:46:39.497Z"
   },
   {
    "duration": 17,
    "start_time": "2022-02-25T09:46:39.506Z"
   },
   {
    "duration": 11,
    "start_time": "2022-02-25T09:46:39.525Z"
   },
   {
    "duration": 10,
    "start_time": "2022-02-25T09:46:39.537Z"
   },
   {
    "duration": 14,
    "start_time": "2022-02-25T09:46:39.549Z"
   },
   {
    "duration": 29,
    "start_time": "2022-02-25T09:46:39.568Z"
   },
   {
    "duration": 24,
    "start_time": "2022-02-25T09:46:39.601Z"
   },
   {
    "duration": 11,
    "start_time": "2022-02-25T09:46:39.627Z"
   },
   {
    "duration": 8,
    "start_time": "2022-02-25T09:46:39.640Z"
   },
   {
    "duration": 8,
    "start_time": "2022-02-25T09:46:39.649Z"
   },
   {
    "duration": 7,
    "start_time": "2022-02-25T09:46:39.658Z"
   },
   {
    "duration": 12,
    "start_time": "2022-02-25T09:46:39.667Z"
   },
   {
    "duration": 8,
    "start_time": "2022-02-25T09:46:39.695Z"
   },
   {
    "duration": 7,
    "start_time": "2022-02-25T09:46:39.705Z"
   },
   {
    "duration": 8,
    "start_time": "2022-02-25T09:46:39.714Z"
   },
   {
    "duration": 83,
    "start_time": "2022-02-25T09:46:39.724Z"
   },
   {
    "duration": 8,
    "start_time": "2022-02-25T09:46:39.809Z"
   },
   {
    "duration": 63,
    "start_time": "2022-02-25T09:46:39.819Z"
   },
   {
    "duration": 16,
    "start_time": "2022-02-25T09:46:39.885Z"
   },
   {
    "duration": 39,
    "start_time": "2022-02-25T09:46:39.904Z"
   },
   {
    "duration": 43,
    "start_time": "2022-02-25T09:46:39.945Z"
   },
   {
    "duration": 6,
    "start_time": "2022-02-25T09:46:39.991Z"
   },
   {
    "duration": 27,
    "start_time": "2022-02-25T09:46:39.999Z"
   },
   {
    "duration": 20,
    "start_time": "2022-02-25T09:46:40.029Z"
   },
   {
    "duration": 20,
    "start_time": "2022-02-25T09:46:40.051Z"
   },
   {
    "duration": 6,
    "start_time": "2022-02-25T09:46:40.073Z"
   },
   {
    "duration": 11,
    "start_time": "2022-02-25T09:46:40.081Z"
   },
   {
    "duration": 105,
    "start_time": "2022-02-25T09:46:40.093Z"
   },
   {
    "duration": 46,
    "start_time": "2022-02-25T09:46:40.200Z"
   },
   {
    "duration": 74,
    "start_time": "2022-02-25T09:46:40.249Z"
   },
   {
    "duration": 16,
    "start_time": "2022-02-25T09:46:40.325Z"
   },
   {
    "duration": 26,
    "start_time": "2022-02-25T09:46:40.343Z"
   },
   {
    "duration": 36,
    "start_time": "2022-02-25T09:46:40.371Z"
   },
   {
    "duration": 24,
    "start_time": "2022-02-25T09:46:40.409Z"
   },
   {
    "duration": 23,
    "start_time": "2022-02-25T09:46:40.435Z"
   },
   {
    "duration": 57,
    "start_time": "2022-02-25T09:46:40.460Z"
   },
   {
    "duration": 7,
    "start_time": "2022-02-25T09:46:40.518Z"
   },
   {
    "duration": 6,
    "start_time": "2022-02-25T09:46:40.527Z"
   },
   {
    "duration": 8,
    "start_time": "2022-02-25T09:46:40.534Z"
   },
   {
    "duration": 11,
    "start_time": "2022-02-25T09:46:40.544Z"
   },
   {
    "duration": 143,
    "start_time": "2022-02-25T09:46:40.557Z"
   },
   {
    "duration": 20,
    "start_time": "2022-02-25T09:46:40.702Z"
   },
   {
    "duration": 8,
    "start_time": "2022-02-25T09:46:40.724Z"
   },
   {
    "duration": 34,
    "start_time": "2022-02-25T09:46:40.734Z"
   },
   {
    "duration": 53,
    "start_time": "2022-02-25T09:46:40.770Z"
   },
   {
    "duration": 25,
    "start_time": "2022-02-25T09:46:40.825Z"
   },
   {
    "duration": 12,
    "start_time": "2022-02-25T09:46:40.852Z"
   },
   {
    "duration": 12,
    "start_time": "2022-02-25T09:46:40.866Z"
   },
   {
    "duration": 716,
    "start_time": "2022-02-25T09:46:40.880Z"
   },
   {
    "duration": 869,
    "start_time": "2022-02-25T09:46:41.600Z"
   },
   {
    "duration": 645,
    "start_time": "2022-02-25T09:46:42.474Z"
   },
   {
    "duration": 1176,
    "start_time": "2022-02-25T09:46:43.121Z"
   },
   {
    "duration": 724,
    "start_time": "2022-02-25T09:46:44.300Z"
   },
   {
    "duration": 675,
    "start_time": "2022-02-25T09:46:45.026Z"
   },
   {
    "duration": 11,
    "start_time": "2022-02-25T09:46:45.702Z"
   },
   {
    "duration": 45,
    "start_time": "2022-02-25T09:46:45.715Z"
   },
   {
    "duration": 37,
    "start_time": "2022-02-25T09:46:45.762Z"
   },
   {
    "duration": 32,
    "start_time": "2022-02-25T09:46:45.801Z"
   },
   {
    "duration": 28,
    "start_time": "2022-02-25T09:46:45.835Z"
   },
   {
    "duration": 40,
    "start_time": "2022-02-25T09:46:45.865Z"
   },
   {
    "duration": 48,
    "start_time": "2022-02-25T09:46:45.907Z"
   },
   {
    "duration": 125,
    "start_time": "2022-02-25T09:46:45.957Z"
   },
   {
    "duration": 1304,
    "start_time": "2022-02-25T09:49:23.092Z"
   },
   {
    "duration": 435,
    "start_time": "2022-02-25T09:49:24.398Z"
   },
   {
    "duration": 35,
    "start_time": "2022-02-25T09:49:24.836Z"
   },
   {
    "duration": 11,
    "start_time": "2022-02-25T09:49:24.873Z"
   },
   {
    "duration": 13,
    "start_time": "2022-02-25T09:49:24.887Z"
   },
   {
    "duration": 26,
    "start_time": "2022-02-25T09:49:24.902Z"
   },
   {
    "duration": 127,
    "start_time": "2022-02-25T09:49:24.930Z"
   },
   {
    "duration": 19,
    "start_time": "2022-02-25T09:49:25.058Z"
   },
   {
    "duration": 21,
    "start_time": "2022-02-25T09:49:25.080Z"
   },
   {
    "duration": 7,
    "start_time": "2022-02-25T09:49:25.103Z"
   },
   {
    "duration": 20,
    "start_time": "2022-02-25T09:49:25.112Z"
   },
   {
    "duration": 91,
    "start_time": "2022-02-25T09:49:25.134Z"
   },
   {
    "duration": 16,
    "start_time": "2022-02-25T09:49:25.227Z"
   },
   {
    "duration": 8,
    "start_time": "2022-02-25T09:49:25.244Z"
   },
   {
    "duration": 6,
    "start_time": "2022-02-25T09:49:25.254Z"
   },
   {
    "duration": 40,
    "start_time": "2022-02-25T09:49:25.261Z"
   },
   {
    "duration": 52,
    "start_time": "2022-02-25T09:49:25.303Z"
   },
   {
    "duration": 6,
    "start_time": "2022-02-25T09:49:25.357Z"
   },
   {
    "duration": 30,
    "start_time": "2022-02-25T09:49:25.365Z"
   },
   {
    "duration": 4,
    "start_time": "2022-02-25T09:49:25.398Z"
   },
   {
    "duration": 7,
    "start_time": "2022-02-25T09:49:25.404Z"
   },
   {
    "duration": 13,
    "start_time": "2022-02-25T09:49:25.413Z"
   },
   {
    "duration": 8,
    "start_time": "2022-02-25T09:49:25.428Z"
   },
   {
    "duration": 14,
    "start_time": "2022-02-25T09:49:25.438Z"
   },
   {
    "duration": 9,
    "start_time": "2022-02-25T09:49:25.453Z"
   },
   {
    "duration": 33,
    "start_time": "2022-02-25T09:49:25.463Z"
   },
   {
    "duration": 8,
    "start_time": "2022-02-25T09:49:25.500Z"
   },
   {
    "duration": 8,
    "start_time": "2022-02-25T09:49:25.511Z"
   },
   {
    "duration": 9,
    "start_time": "2022-02-25T09:49:25.521Z"
   },
   {
    "duration": 6,
    "start_time": "2022-02-25T09:49:25.532Z"
   },
   {
    "duration": 9,
    "start_time": "2022-02-25T09:49:25.540Z"
   },
   {
    "duration": 44,
    "start_time": "2022-02-25T09:49:25.550Z"
   },
   {
    "duration": 54,
    "start_time": "2022-02-25T09:49:25.597Z"
   },
   {
    "duration": 4,
    "start_time": "2022-02-25T09:49:25.653Z"
   },
   {
    "duration": 55,
    "start_time": "2022-02-25T09:49:25.659Z"
   },
   {
    "duration": 11,
    "start_time": "2022-02-25T09:49:25.716Z"
   },
   {
    "duration": 7,
    "start_time": "2022-02-25T09:49:25.729Z"
   },
   {
    "duration": 35,
    "start_time": "2022-02-25T09:49:25.739Z"
   },
   {
    "duration": 20,
    "start_time": "2022-02-25T09:49:25.775Z"
   },
   {
    "duration": 13,
    "start_time": "2022-02-25T09:49:25.797Z"
   },
   {
    "duration": 10,
    "start_time": "2022-02-25T09:49:25.812Z"
   },
   {
    "duration": 18,
    "start_time": "2022-02-25T09:49:25.824Z"
   },
   {
    "duration": 9,
    "start_time": "2022-02-25T09:49:25.844Z"
   },
   {
    "duration": 10,
    "start_time": "2022-02-25T09:49:25.855Z"
   },
   {
    "duration": 116,
    "start_time": "2022-02-25T09:49:25.866Z"
   },
   {
    "duration": 46,
    "start_time": "2022-02-25T09:49:25.983Z"
   },
   {
    "duration": 49,
    "start_time": "2022-02-25T09:49:26.031Z"
   },
   {
    "duration": 15,
    "start_time": "2022-02-25T09:49:26.094Z"
   },
   {
    "duration": 15,
    "start_time": "2022-02-25T09:49:26.111Z"
   },
   {
    "duration": 21,
    "start_time": "2022-02-25T09:49:26.128Z"
   },
   {
    "duration": 22,
    "start_time": "2022-02-25T09:49:26.151Z"
   },
   {
    "duration": 40,
    "start_time": "2022-02-25T09:49:26.175Z"
   },
   {
    "duration": 26,
    "start_time": "2022-02-25T09:49:26.217Z"
   },
   {
    "duration": 7,
    "start_time": "2022-02-25T09:49:26.245Z"
   },
   {
    "duration": 5,
    "start_time": "2022-02-25T09:49:26.254Z"
   },
   {
    "duration": 34,
    "start_time": "2022-02-25T09:49:26.261Z"
   },
   {
    "duration": 6,
    "start_time": "2022-02-25T09:49:26.297Z"
   },
   {
    "duration": 111,
    "start_time": "2022-02-25T09:49:26.305Z"
   },
   {
    "duration": 18,
    "start_time": "2022-02-25T09:49:26.418Z"
   },
   {
    "duration": 7,
    "start_time": "2022-02-25T09:49:26.437Z"
   },
   {
    "duration": 27,
    "start_time": "2022-02-25T09:49:26.446Z"
   },
   {
    "duration": 39,
    "start_time": "2022-02-25T09:49:26.475Z"
   },
   {
    "duration": 12,
    "start_time": "2022-02-25T09:49:26.516Z"
   },
   {
    "duration": 13,
    "start_time": "2022-02-25T09:49:26.530Z"
   },
   {
    "duration": 6,
    "start_time": "2022-02-25T09:49:26.545Z"
   },
   {
    "duration": 703,
    "start_time": "2022-02-25T09:49:26.553Z"
   },
   {
    "duration": 940,
    "start_time": "2022-02-25T09:49:27.257Z"
   },
   {
    "duration": 799,
    "start_time": "2022-02-25T09:49:28.199Z"
   },
   {
    "duration": 1152,
    "start_time": "2022-02-25T09:49:29.000Z"
   },
   {
    "duration": 660,
    "start_time": "2022-02-25T09:49:30.154Z"
   },
   {
    "duration": 731,
    "start_time": "2022-02-25T09:49:30.816Z"
   },
   {
    "duration": 10,
    "start_time": "2022-02-25T09:49:31.548Z"
   },
   {
    "duration": 43,
    "start_time": "2022-02-25T09:49:31.560Z"
   },
   {
    "duration": 29,
    "start_time": "2022-02-25T09:49:31.605Z"
   },
   {
    "duration": 37,
    "start_time": "2022-02-25T09:49:31.636Z"
   },
   {
    "duration": 32,
    "start_time": "2022-02-25T09:49:31.675Z"
   },
   {
    "duration": 13,
    "start_time": "2022-02-25T09:49:31.708Z"
   },
   {
    "duration": 30,
    "start_time": "2022-02-25T09:49:31.722Z"
   },
   {
    "duration": 156,
    "start_time": "2022-02-25T09:49:31.754Z"
   },
   {
    "duration": 82,
    "start_time": "2022-02-25T09:50:18.123Z"
   },
   {
    "duration": 1256,
    "start_time": "2022-02-25T09:51:46.624Z"
   },
   {
    "duration": 391,
    "start_time": "2022-02-25T09:51:47.882Z"
   },
   {
    "duration": 24,
    "start_time": "2022-02-25T09:51:48.276Z"
   },
   {
    "duration": 28,
    "start_time": "2022-02-25T09:51:48.302Z"
   },
   {
    "duration": 19,
    "start_time": "2022-02-25T09:51:48.332Z"
   },
   {
    "duration": 90,
    "start_time": "2022-02-25T09:51:48.353Z"
   },
   {
    "duration": 134,
    "start_time": "2022-02-25T09:51:48.445Z"
   },
   {
    "duration": 22,
    "start_time": "2022-02-25T09:51:48.581Z"
   },
   {
    "duration": 32,
    "start_time": "2022-02-25T09:51:48.607Z"
   },
   {
    "duration": 42,
    "start_time": "2022-02-25T09:51:48.641Z"
   },
   {
    "duration": 53,
    "start_time": "2022-02-25T09:51:48.685Z"
   },
   {
    "duration": 78,
    "start_time": "2022-02-25T09:51:48.740Z"
   },
   {
    "duration": 15,
    "start_time": "2022-02-25T09:51:48.820Z"
   },
   {
    "duration": 22,
    "start_time": "2022-02-25T09:51:48.837Z"
   },
   {
    "duration": 21,
    "start_time": "2022-02-25T09:51:48.861Z"
   },
   {
    "duration": 29,
    "start_time": "2022-02-25T09:51:48.884Z"
   },
   {
    "duration": 58,
    "start_time": "2022-02-25T09:51:48.914Z"
   },
   {
    "duration": 8,
    "start_time": "2022-02-25T09:51:48.975Z"
   },
   {
    "duration": 30,
    "start_time": "2022-02-25T09:51:48.985Z"
   },
   {
    "duration": 24,
    "start_time": "2022-02-25T09:51:49.017Z"
   },
   {
    "duration": 38,
    "start_time": "2022-02-25T09:51:49.044Z"
   },
   {
    "duration": 24,
    "start_time": "2022-02-25T09:51:49.085Z"
   },
   {
    "duration": 14,
    "start_time": "2022-02-25T09:51:49.111Z"
   },
   {
    "duration": 30,
    "start_time": "2022-02-25T09:51:49.127Z"
   },
   {
    "duration": 17,
    "start_time": "2022-02-25T09:51:49.159Z"
   },
   {
    "duration": 32,
    "start_time": "2022-02-25T09:51:49.178Z"
   },
   {
    "duration": 17,
    "start_time": "2022-02-25T09:51:49.214Z"
   },
   {
    "duration": 21,
    "start_time": "2022-02-25T09:51:49.234Z"
   },
   {
    "duration": 22,
    "start_time": "2022-02-25T09:51:49.257Z"
   },
   {
    "duration": 19,
    "start_time": "2022-02-25T09:51:49.280Z"
   },
   {
    "duration": 34,
    "start_time": "2022-02-25T09:51:49.301Z"
   },
   {
    "duration": 27,
    "start_time": "2022-02-25T09:51:49.337Z"
   },
   {
    "duration": 71,
    "start_time": "2022-02-25T09:51:49.366Z"
   },
   {
    "duration": 6,
    "start_time": "2022-02-25T09:51:49.438Z"
   },
   {
    "duration": 57,
    "start_time": "2022-02-25T09:51:49.446Z"
   },
   {
    "duration": 12,
    "start_time": "2022-02-25T09:51:49.505Z"
   },
   {
    "duration": 18,
    "start_time": "2022-02-25T09:51:49.519Z"
   },
   {
    "duration": 50,
    "start_time": "2022-02-25T09:51:49.539Z"
   },
   {
    "duration": 5,
    "start_time": "2022-02-25T09:51:49.591Z"
   },
   {
    "duration": 23,
    "start_time": "2022-02-25T09:51:49.598Z"
   },
   {
    "duration": 30,
    "start_time": "2022-02-25T09:51:49.623Z"
   },
   {
    "duration": 23,
    "start_time": "2022-02-25T09:51:49.655Z"
   },
   {
    "duration": 16,
    "start_time": "2022-02-25T09:51:49.680Z"
   },
   {
    "duration": 49,
    "start_time": "2022-02-25T09:51:49.698Z"
   },
   {
    "duration": 98,
    "start_time": "2022-02-25T09:51:49.749Z"
   },
   {
    "duration": 49,
    "start_time": "2022-02-25T09:51:49.848Z"
   },
   {
    "duration": 48,
    "start_time": "2022-02-25T09:51:49.899Z"
   },
   {
    "duration": 16,
    "start_time": "2022-02-25T09:51:49.949Z"
   },
   {
    "duration": 41,
    "start_time": "2022-02-25T09:51:49.967Z"
   },
   {
    "duration": 31,
    "start_time": "2022-02-25T09:51:50.010Z"
   },
   {
    "duration": 31,
    "start_time": "2022-02-25T09:51:50.043Z"
   },
   {
    "duration": 36,
    "start_time": "2022-02-25T09:51:50.077Z"
   },
   {
    "duration": 29,
    "start_time": "2022-02-25T09:51:50.115Z"
   },
   {
    "duration": 9,
    "start_time": "2022-02-25T09:51:50.146Z"
   },
   {
    "duration": 22,
    "start_time": "2022-02-25T09:51:50.156Z"
   },
   {
    "duration": 27,
    "start_time": "2022-02-25T09:51:50.180Z"
   },
   {
    "duration": 15,
    "start_time": "2022-02-25T09:51:50.209Z"
   },
   {
    "duration": 118,
    "start_time": "2022-02-25T09:51:50.226Z"
   },
   {
    "duration": 16,
    "start_time": "2022-02-25T09:51:50.345Z"
   },
   {
    "duration": 28,
    "start_time": "2022-02-25T09:51:50.363Z"
   },
   {
    "duration": 40,
    "start_time": "2022-02-25T09:51:50.393Z"
   },
   {
    "duration": 41,
    "start_time": "2022-02-25T09:51:50.435Z"
   },
   {
    "duration": 19,
    "start_time": "2022-02-25T09:51:50.478Z"
   },
   {
    "duration": 36,
    "start_time": "2022-02-25T09:51:50.499Z"
   },
   {
    "duration": 15,
    "start_time": "2022-02-25T09:51:50.537Z"
   },
   {
    "duration": 677,
    "start_time": "2022-02-25T09:51:50.553Z"
   },
   {
    "duration": 758,
    "start_time": "2022-02-25T09:51:51.232Z"
   },
   {
    "duration": 595,
    "start_time": "2022-02-25T09:51:51.994Z"
   },
   {
    "duration": 1017,
    "start_time": "2022-02-25T09:51:52.590Z"
   },
   {
    "duration": 753,
    "start_time": "2022-02-25T09:51:53.609Z"
   },
   {
    "duration": 613,
    "start_time": "2022-02-25T09:51:54.364Z"
   },
   {
    "duration": 21,
    "start_time": "2022-02-25T09:51:54.980Z"
   },
   {
    "duration": 35,
    "start_time": "2022-02-25T09:51:55.003Z"
   },
   {
    "duration": 10,
    "start_time": "2022-02-25T09:51:55.041Z"
   },
   {
    "duration": 10,
    "start_time": "2022-02-25T09:51:55.053Z"
   },
   {
    "duration": 9,
    "start_time": "2022-02-25T09:51:55.065Z"
   },
   {
    "duration": 24,
    "start_time": "2022-02-25T09:51:55.076Z"
   },
   {
    "duration": 13,
    "start_time": "2022-02-25T09:51:55.102Z"
   },
   {
    "duration": 1260,
    "start_time": "2022-02-25T09:53:19.321Z"
   },
   {
    "duration": 398,
    "start_time": "2022-02-25T09:53:20.583Z"
   },
   {
    "duration": 24,
    "start_time": "2022-02-25T09:53:20.984Z"
   },
   {
    "duration": 11,
    "start_time": "2022-02-25T09:53:21.011Z"
   },
   {
    "duration": 8,
    "start_time": "2022-02-25T09:53:21.024Z"
   },
   {
    "duration": 24,
    "start_time": "2022-02-25T09:53:21.034Z"
   },
   {
    "duration": 128,
    "start_time": "2022-02-25T09:53:21.060Z"
   },
   {
    "duration": 21,
    "start_time": "2022-02-25T09:53:21.189Z"
   },
   {
    "duration": 8,
    "start_time": "2022-02-25T09:53:21.214Z"
   },
   {
    "duration": 6,
    "start_time": "2022-02-25T09:53:21.225Z"
   },
   {
    "duration": 26,
    "start_time": "2022-02-25T09:53:21.233Z"
   },
   {
    "duration": 89,
    "start_time": "2022-02-25T09:53:21.261Z"
   },
   {
    "duration": 15,
    "start_time": "2022-02-25T09:53:21.352Z"
   },
   {
    "duration": 9,
    "start_time": "2022-02-25T09:53:21.369Z"
   },
   {
    "duration": 4,
    "start_time": "2022-02-25T09:53:21.395Z"
   },
   {
    "duration": 18,
    "start_time": "2022-02-25T09:53:21.400Z"
   },
   {
    "duration": 51,
    "start_time": "2022-02-25T09:53:21.420Z"
   },
   {
    "duration": 7,
    "start_time": "2022-02-25T09:53:21.495Z"
   },
   {
    "duration": 13,
    "start_time": "2022-02-25T09:53:21.504Z"
   },
   {
    "duration": 13,
    "start_time": "2022-02-25T09:53:21.519Z"
   },
   {
    "duration": 12,
    "start_time": "2022-02-25T09:53:21.534Z"
   },
   {
    "duration": 13,
    "start_time": "2022-02-25T09:53:21.548Z"
   },
   {
    "duration": 11,
    "start_time": "2022-02-25T09:53:21.563Z"
   },
   {
    "duration": 24,
    "start_time": "2022-02-25T09:53:21.576Z"
   },
   {
    "duration": 5,
    "start_time": "2022-02-25T09:53:21.602Z"
   },
   {
    "duration": 15,
    "start_time": "2022-02-25T09:53:21.609Z"
   },
   {
    "duration": 6,
    "start_time": "2022-02-25T09:53:21.629Z"
   },
   {
    "duration": 9,
    "start_time": "2022-02-25T09:53:21.637Z"
   },
   {
    "duration": 13,
    "start_time": "2022-02-25T09:53:21.648Z"
   },
   {
    "duration": 31,
    "start_time": "2022-02-25T09:53:21.663Z"
   },
   {
    "duration": 6,
    "start_time": "2022-02-25T09:53:21.697Z"
   },
   {
    "duration": 12,
    "start_time": "2022-02-25T09:53:21.704Z"
   },
   {
    "duration": 53,
    "start_time": "2022-02-25T09:53:21.717Z"
   },
   {
    "duration": 5,
    "start_time": "2022-02-25T09:53:21.772Z"
   },
   {
    "duration": 41,
    "start_time": "2022-02-25T09:53:21.795Z"
   },
   {
    "duration": 10,
    "start_time": "2022-02-25T09:53:21.838Z"
   },
   {
    "duration": 8,
    "start_time": "2022-02-25T09:53:21.850Z"
   },
   {
    "duration": 57,
    "start_time": "2022-02-25T09:53:21.860Z"
   },
   {
    "duration": 4,
    "start_time": "2022-02-25T09:53:21.919Z"
   },
   {
    "duration": 17,
    "start_time": "2022-02-25T09:53:21.925Z"
   },
   {
    "duration": 15,
    "start_time": "2022-02-25T09:53:21.943Z"
   },
   {
    "duration": 14,
    "start_time": "2022-02-25T09:53:21.960Z"
   },
   {
    "duration": 26,
    "start_time": "2022-02-25T09:53:21.976Z"
   },
   {
    "duration": 9,
    "start_time": "2022-02-25T09:53:22.004Z"
   },
   {
    "duration": 101,
    "start_time": "2022-02-25T09:53:22.015Z"
   },
   {
    "duration": 42,
    "start_time": "2022-02-25T09:53:22.118Z"
   },
   {
    "duration": 67,
    "start_time": "2022-02-25T09:53:22.162Z"
   },
   {
    "duration": 14,
    "start_time": "2022-02-25T09:53:22.232Z"
   },
   {
    "duration": 27,
    "start_time": "2022-02-25T09:53:22.247Z"
   },
   {
    "duration": 28,
    "start_time": "2022-02-25T09:53:22.276Z"
   },
   {
    "duration": 25,
    "start_time": "2022-02-25T09:53:22.306Z"
   },
   {
    "duration": 22,
    "start_time": "2022-02-25T09:53:22.333Z"
   },
   {
    "duration": 38,
    "start_time": "2022-02-25T09:53:22.357Z"
   },
   {
    "duration": 6,
    "start_time": "2022-02-25T09:53:22.397Z"
   },
   {
    "duration": 17,
    "start_time": "2022-02-25T09:53:22.405Z"
   },
   {
    "duration": 16,
    "start_time": "2022-02-25T09:53:22.424Z"
   },
   {
    "duration": 16,
    "start_time": "2022-02-25T09:53:22.442Z"
   },
   {
    "duration": 113,
    "start_time": "2022-02-25T09:53:22.460Z"
   },
   {
    "duration": 27,
    "start_time": "2022-02-25T09:53:22.575Z"
   },
   {
    "duration": 7,
    "start_time": "2022-02-25T09:53:22.604Z"
   },
   {
    "duration": 44,
    "start_time": "2022-02-25T09:53:22.612Z"
   },
   {
    "duration": 20,
    "start_time": "2022-02-25T09:53:22.658Z"
   },
   {
    "duration": 35,
    "start_time": "2022-02-25T09:53:22.680Z"
   },
   {
    "duration": 22,
    "start_time": "2022-02-25T09:53:22.717Z"
   },
   {
    "duration": 11,
    "start_time": "2022-02-25T09:53:22.741Z"
   },
   {
    "duration": 678,
    "start_time": "2022-02-25T09:53:22.754Z"
   },
   {
    "duration": 695,
    "start_time": "2022-02-25T09:53:23.434Z"
   },
   {
    "duration": 666,
    "start_time": "2022-02-25T09:53:24.131Z"
   },
   {
    "duration": 987,
    "start_time": "2022-02-25T09:53:24.799Z"
   },
   {
    "duration": 585,
    "start_time": "2022-02-25T09:53:25.788Z"
   },
   {
    "duration": 582,
    "start_time": "2022-02-25T09:53:26.375Z"
   },
   {
    "duration": 12,
    "start_time": "2022-02-25T09:53:26.959Z"
   },
   {
    "duration": 25,
    "start_time": "2022-02-25T09:53:26.972Z"
   },
   {
    "duration": 6,
    "start_time": "2022-02-25T09:53:26.999Z"
   },
   {
    "duration": 8,
    "start_time": "2022-02-25T09:53:27.007Z"
   },
   {
    "duration": 16,
    "start_time": "2022-02-25T09:53:27.017Z"
   },
   {
    "duration": 7,
    "start_time": "2022-02-25T09:53:27.035Z"
   },
   {
    "duration": 7,
    "start_time": "2022-02-25T09:53:27.043Z"
   },
   {
    "duration": 1103,
    "start_time": "2022-02-25T11:12:52.701Z"
   },
   {
    "duration": 444,
    "start_time": "2022-02-25T11:12:53.806Z"
   },
   {
    "duration": 21,
    "start_time": "2022-02-25T11:12:55.757Z"
   },
   {
    "duration": 12,
    "start_time": "2022-02-25T11:12:56.229Z"
   },
   {
    "duration": 4,
    "start_time": "2022-02-25T11:12:56.893Z"
   },
   {
    "duration": 20,
    "start_time": "2022-02-25T11:12:57.405Z"
   },
   {
    "duration": 100,
    "start_time": "2022-02-25T11:12:57.921Z"
   },
   {
    "duration": 17,
    "start_time": "2022-02-25T11:12:58.846Z"
   },
   {
    "duration": 8,
    "start_time": "2022-02-25T11:12:59.050Z"
   },
   {
    "duration": 4,
    "start_time": "2022-02-25T11:12:59.257Z"
   },
   {
    "duration": 16,
    "start_time": "2022-02-25T11:12:59.457Z"
   },
   {
    "duration": 67,
    "start_time": "2022-02-25T11:12:59.653Z"
   },
   {
    "duration": 15,
    "start_time": "2022-02-25T11:13:00.561Z"
   },
   {
    "duration": 7,
    "start_time": "2022-02-25T11:13:00.749Z"
   },
   {
    "duration": 4,
    "start_time": "2022-02-25T11:13:00.925Z"
   },
   {
    "duration": 14,
    "start_time": "2022-02-25T11:13:01.105Z"
   },
   {
    "duration": 45,
    "start_time": "2022-02-25T11:13:01.277Z"
   },
   {
    "duration": 6,
    "start_time": "2022-02-25T11:13:02.121Z"
   },
   {
    "duration": 8,
    "start_time": "2022-02-25T11:13:02.290Z"
   },
   {
    "duration": 4,
    "start_time": "2022-02-25T11:13:02.461Z"
   },
   {
    "duration": 6,
    "start_time": "2022-02-25T11:13:02.634Z"
   },
   {
    "duration": 6,
    "start_time": "2022-02-25T11:13:02.813Z"
   },
   {
    "duration": 7,
    "start_time": "2022-02-25T11:13:03.313Z"
   },
   {
    "duration": 9,
    "start_time": "2022-02-25T11:13:03.478Z"
   },
   {
    "duration": 4,
    "start_time": "2022-02-25T11:13:03.642Z"
   },
   {
    "duration": 6,
    "start_time": "2022-02-25T11:13:03.798Z"
   },
   {
    "duration": 5,
    "start_time": "2022-02-25T11:13:03.970Z"
   },
   {
    "duration": 7,
    "start_time": "2022-02-25T11:13:04.501Z"
   },
   {
    "duration": 7,
    "start_time": "2022-02-25T11:13:04.773Z"
   },
   {
    "duration": 8,
    "start_time": "2022-02-25T11:13:05.046Z"
   },
   {
    "duration": 7,
    "start_time": "2022-02-25T11:13:05.425Z"
   },
   {
    "duration": 6,
    "start_time": "2022-02-25T11:13:06.565Z"
   },
   {
    "duration": 46,
    "start_time": "2022-02-25T11:13:10.961Z"
   },
   {
    "duration": 7,
    "start_time": "2022-02-25T11:13:11.477Z"
   },
   {
    "duration": 37,
    "start_time": "2022-02-25T11:13:11.905Z"
   },
   {
    "duration": 12,
    "start_time": "2022-02-25T11:13:12.817Z"
   },
   {
    "duration": 8,
    "start_time": "2022-02-25T11:13:13.257Z"
   },
   {
    "duration": 27,
    "start_time": "2022-02-25T11:13:13.473Z"
   },
   {
    "duration": 5,
    "start_time": "2022-02-25T11:13:13.681Z"
   },
   {
    "duration": 8,
    "start_time": "2022-02-25T11:13:13.893Z"
   },
   {
    "duration": 9,
    "start_time": "2022-02-25T11:13:14.417Z"
   },
   {
    "duration": 12,
    "start_time": "2022-02-25T11:13:14.793Z"
   },
   {
    "duration": 5,
    "start_time": "2022-02-25T11:13:15.258Z"
   },
   {
    "duration": 7,
    "start_time": "2022-02-25T11:13:15.684Z"
   },
   {
    "duration": 96,
    "start_time": "2022-02-25T11:13:17.966Z"
   },
   {
    "duration": 40,
    "start_time": "2022-02-25T11:13:19.281Z"
   },
   {
    "duration": 53,
    "start_time": "2022-02-25T11:13:20.305Z"
   },
   {
    "duration": 15,
    "start_time": "2022-02-25T11:13:21.318Z"
   },
   {
    "duration": 16,
    "start_time": "2022-02-25T11:13:22.765Z"
   },
   {
    "duration": 12,
    "start_time": "2022-02-25T11:13:23.406Z"
   },
   {
    "duration": 28,
    "start_time": "2022-02-25T11:13:23.818Z"
   },
   {
    "duration": 22,
    "start_time": "2022-02-25T11:13:24.246Z"
   },
   {
    "duration": 25,
    "start_time": "2022-02-25T11:13:24.657Z"
   },
   {
    "duration": 6,
    "start_time": "2022-02-25T11:13:25.248Z"
   },
   {
    "duration": 4,
    "start_time": "2022-02-25T11:13:25.717Z"
   },
   {
    "duration": 271,
    "start_time": "2022-02-25T11:26:11.294Z"
   },
   {
    "duration": 4426,
    "start_time": "2022-02-25T11:27:37.930Z"
   },
   {
    "duration": 4988,
    "start_time": "2022-02-25T11:27:58.335Z"
   },
   {
    "duration": 238,
    "start_time": "2022-02-25T11:28:53.946Z"
   },
   {
    "duration": 8,
    "start_time": "2022-02-25T11:29:04.978Z"
   },
   {
    "duration": 7,
    "start_time": "2022-02-25T11:38:05.736Z"
   },
   {
    "duration": 5,
    "start_time": "2022-02-25T11:39:28.000Z"
   },
   {
    "duration": 172,
    "start_time": "2022-02-25T11:39:57.856Z"
   },
   {
    "duration": 190,
    "start_time": "2022-02-25T11:40:09.940Z"
   },
   {
    "duration": 7,
    "start_time": "2022-02-25T11:40:13.761Z"
   }
  ],
  "kernelspec": {
   "display_name": "Python 3 (ipykernel)",
   "language": "python",
   "name": "python3"
  },
  "language_info": {
   "codemirror_mode": {
    "name": "ipython",
    "version": 3
   },
   "file_extension": ".py",
   "mimetype": "text/x-python",
   "name": "python",
   "nbconvert_exporter": "python",
   "pygments_lexer": "ipython3",
   "version": "3.9.5"
  },
  "toc": {
   "base_numbering": 1,
   "nav_menu": {},
   "number_sections": true,
   "sideBar": true,
   "skip_h1_title": true,
   "title_cell": "Table of Contents",
   "title_sidebar": "Contents",
   "toc_cell": false,
   "toc_position": {},
   "toc_section_display": true,
   "toc_window_display": false
  }
 },
 "nbformat": 4,
 "nbformat_minor": 2
}
