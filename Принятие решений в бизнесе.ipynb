{
 "cells": [
  {
   "cell_type": "markdown",
   "id": "f180db49",
   "metadata": {},
   "source": [
    "# Описание проетка: Крупному интернет магазину для увеличения выручку необходимо протестировать спиоск гипотез. \n",
    "**В данном проекте будет необходимо: 1) приоритизировать гипотезы, 2) запустить А/В -тест, 3) проанализировать результаты.**\n"
   ]
  },
  {
   "cell_type": "markdown",
   "id": "3830c950",
   "metadata": {},
   "source": [
    "## Приоритизация гипотез."
   ]
  },
  {
   "cell_type": "code",
   "execution_count": 1,
   "id": "4c1e37b6",
   "metadata": {},
   "outputs": [],
   "source": [
    "# импорт библиотек\n",
    "import pandas as pd\n",
    "import numpy as np\n",
    "from matplotlib import pyplot as plt\n",
    "from scipy import stats\n",
    "from scipy import stats as st\n",
    "import math as mth\n",
    "from datetime import timedelta\n",
    "import datetime as dt"
   ]
  },
  {
   "cell_type": "code",
   "execution_count": 2,
   "id": "b6053ad0",
   "metadata": {},
   "outputs": [],
   "source": [
    "# загрузка данных\n",
    "hypothesis = pd.read_csv('/datasets/hypothesis.csv')\n",
    "orders = pd.read_csv('/datasets/orders.csv')\n",
    "visitors = pd.read_csv('/datasets/visitors.csv')"
   ]
  },
  {
   "cell_type": "code",
   "execution_count": 3,
   "id": "659148b8",
   "metadata": {},
   "outputs": [
    {
     "name": "stdout",
     "output_type": "stream",
     "text": [
      "<class 'pandas.core.frame.DataFrame'>\n",
      "RangeIndex: 9 entries, 0 to 8\n",
      "Data columns (total 5 columns):\n",
      " #   Column      Non-Null Count  Dtype \n",
      "---  ------      --------------  ----- \n",
      " 0   Hypothesis  9 non-null      object\n",
      " 1   Reach       9 non-null      int64 \n",
      " 2   Impact      9 non-null      int64 \n",
      " 3   Confidence  9 non-null      int64 \n",
      " 4   Efforts     9 non-null      int64 \n",
      "dtypes: int64(4), object(1)\n",
      "memory usage: 488.0+ bytes\n"
     ]
    }
   ],
   "source": [
    "hypothesis.info()"
   ]
  },
  {
   "cell_type": "code",
   "execution_count": 4,
   "id": "e261141d",
   "metadata": {},
   "outputs": [
    {
     "data": {
      "text/html": [
       "<div>\n",
       "<style scoped>\n",
       "    .dataframe tbody tr th:only-of-type {\n",
       "        vertical-align: middle;\n",
       "    }\n",
       "\n",
       "    .dataframe tbody tr th {\n",
       "        vertical-align: top;\n",
       "    }\n",
       "\n",
       "    .dataframe thead th {\n",
       "        text-align: right;\n",
       "    }\n",
       "</style>\n",
       "<table border=\"1\" class=\"dataframe\">\n",
       "  <thead>\n",
       "    <tr style=\"text-align: right;\">\n",
       "      <th></th>\n",
       "      <th>Hypothesis</th>\n",
       "      <th>Reach</th>\n",
       "      <th>Impact</th>\n",
       "      <th>Confidence</th>\n",
       "      <th>Efforts</th>\n",
       "    </tr>\n",
       "  </thead>\n",
       "  <tbody>\n",
       "    <tr>\n",
       "      <th>0</th>\n",
       "      <td>Добавить два новых канала привлечения трафика,...</td>\n",
       "      <td>3</td>\n",
       "      <td>10</td>\n",
       "      <td>8</td>\n",
       "      <td>6</td>\n",
       "    </tr>\n",
       "    <tr>\n",
       "      <th>1</th>\n",
       "      <td>Запустить собственную службу доставки, что сок...</td>\n",
       "      <td>2</td>\n",
       "      <td>5</td>\n",
       "      <td>4</td>\n",
       "      <td>10</td>\n",
       "    </tr>\n",
       "    <tr>\n",
       "      <th>2</th>\n",
       "      <td>Добавить блоки рекомендаций товаров на сайт ин...</td>\n",
       "      <td>8</td>\n",
       "      <td>3</td>\n",
       "      <td>7</td>\n",
       "      <td>3</td>\n",
       "    </tr>\n",
       "    <tr>\n",
       "      <th>3</th>\n",
       "      <td>Изменить структура категорий, что увеличит кон...</td>\n",
       "      <td>8</td>\n",
       "      <td>3</td>\n",
       "      <td>3</td>\n",
       "      <td>8</td>\n",
       "    </tr>\n",
       "    <tr>\n",
       "      <th>4</th>\n",
       "      <td>Изменить цвет фона главной страницы, чтобы уве...</td>\n",
       "      <td>3</td>\n",
       "      <td>1</td>\n",
       "      <td>1</td>\n",
       "      <td>1</td>\n",
       "    </tr>\n",
       "  </tbody>\n",
       "</table>\n",
       "</div>"
      ],
      "text/plain": [
       "                                          Hypothesis  Reach  Impact  \\\n",
       "0  Добавить два новых канала привлечения трафика,...      3      10   \n",
       "1  Запустить собственную службу доставки, что сок...      2       5   \n",
       "2  Добавить блоки рекомендаций товаров на сайт ин...      8       3   \n",
       "3  Изменить структура категорий, что увеличит кон...      8       3   \n",
       "4  Изменить цвет фона главной страницы, чтобы уве...      3       1   \n",
       "\n",
       "   Confidence  Efforts  \n",
       "0           8        6  \n",
       "1           4       10  \n",
       "2           7        3  \n",
       "3           3        8  \n",
       "4           1        1  "
      ]
     },
     "execution_count": 4,
     "metadata": {},
     "output_type": "execute_result"
    }
   ],
   "source": [
    "hypothesis.head()"
   ]
  },
  {
   "cell_type": "code",
   "execution_count": 5,
   "id": "c491f79e",
   "metadata": {},
   "outputs": [],
   "source": [
    "# Изучим файл с гипотезами и оценками параметров ICE\n",
    "hypothesis['ICE'] = hypothesis['Impact'] * hypothesis['Confidence'] / hypothesis['Efforts']"
   ]
  },
  {
   "cell_type": "code",
   "execution_count": 6,
   "id": "f8d9c5ce",
   "metadata": {
    "scrolled": true
   },
   "outputs": [
    {
     "data": {
      "text/html": [
       "<div>\n",
       "<style scoped>\n",
       "    .dataframe tbody tr th:only-of-type {\n",
       "        vertical-align: middle;\n",
       "    }\n",
       "\n",
       "    .dataframe tbody tr th {\n",
       "        vertical-align: top;\n",
       "    }\n",
       "\n",
       "    .dataframe thead th {\n",
       "        text-align: right;\n",
       "    }\n",
       "</style>\n",
       "<table border=\"1\" class=\"dataframe\">\n",
       "  <thead>\n",
       "    <tr style=\"text-align: right;\">\n",
       "      <th></th>\n",
       "      <th>Hypothesis</th>\n",
       "      <th>Reach</th>\n",
       "      <th>Impact</th>\n",
       "      <th>Confidence</th>\n",
       "      <th>Efforts</th>\n",
       "      <th>ICE</th>\n",
       "    </tr>\n",
       "  </thead>\n",
       "  <tbody>\n",
       "    <tr>\n",
       "      <th>8</th>\n",
       "      <td>Запустить акцию, дающую скидку на товар в день...</td>\n",
       "      <td>1</td>\n",
       "      <td>9</td>\n",
       "      <td>9</td>\n",
       "      <td>5</td>\n",
       "      <td>16.200000</td>\n",
       "    </tr>\n",
       "    <tr>\n",
       "      <th>0</th>\n",
       "      <td>Добавить два новых канала привлечения трафика,...</td>\n",
       "      <td>3</td>\n",
       "      <td>10</td>\n",
       "      <td>8</td>\n",
       "      <td>6</td>\n",
       "      <td>13.333333</td>\n",
       "    </tr>\n",
       "    <tr>\n",
       "      <th>7</th>\n",
       "      <td>Добавить форму подписки на все основные страни...</td>\n",
       "      <td>10</td>\n",
       "      <td>7</td>\n",
       "      <td>8</td>\n",
       "      <td>5</td>\n",
       "      <td>11.200000</td>\n",
       "    </tr>\n",
       "    <tr>\n",
       "      <th>6</th>\n",
       "      <td>Показать на главной странице баннеры с актуаль...</td>\n",
       "      <td>5</td>\n",
       "      <td>3</td>\n",
       "      <td>8</td>\n",
       "      <td>3</td>\n",
       "      <td>8.000000</td>\n",
       "    </tr>\n",
       "    <tr>\n",
       "      <th>2</th>\n",
       "      <td>Добавить блоки рекомендаций товаров на сайт ин...</td>\n",
       "      <td>8</td>\n",
       "      <td>3</td>\n",
       "      <td>7</td>\n",
       "      <td>3</td>\n",
       "      <td>7.000000</td>\n",
       "    </tr>\n",
       "    <tr>\n",
       "      <th>1</th>\n",
       "      <td>Запустить собственную службу доставки, что сок...</td>\n",
       "      <td>2</td>\n",
       "      <td>5</td>\n",
       "      <td>4</td>\n",
       "      <td>10</td>\n",
       "      <td>2.000000</td>\n",
       "    </tr>\n",
       "    <tr>\n",
       "      <th>5</th>\n",
       "      <td>Добавить страницу отзывов клиентов о магазине,...</td>\n",
       "      <td>3</td>\n",
       "      <td>2</td>\n",
       "      <td>2</td>\n",
       "      <td>3</td>\n",
       "      <td>1.333333</td>\n",
       "    </tr>\n",
       "    <tr>\n",
       "      <th>3</th>\n",
       "      <td>Изменить структура категорий, что увеличит кон...</td>\n",
       "      <td>8</td>\n",
       "      <td>3</td>\n",
       "      <td>3</td>\n",
       "      <td>8</td>\n",
       "      <td>1.125000</td>\n",
       "    </tr>\n",
       "    <tr>\n",
       "      <th>4</th>\n",
       "      <td>Изменить цвет фона главной страницы, чтобы уве...</td>\n",
       "      <td>3</td>\n",
       "      <td>1</td>\n",
       "      <td>1</td>\n",
       "      <td>1</td>\n",
       "      <td>1.000000</td>\n",
       "    </tr>\n",
       "  </tbody>\n",
       "</table>\n",
       "</div>"
      ],
      "text/plain": [
       "                                          Hypothesis  Reach  Impact  \\\n",
       "8  Запустить акцию, дающую скидку на товар в день...      1       9   \n",
       "0  Добавить два новых канала привлечения трафика,...      3      10   \n",
       "7  Добавить форму подписки на все основные страни...     10       7   \n",
       "6  Показать на главной странице баннеры с актуаль...      5       3   \n",
       "2  Добавить блоки рекомендаций товаров на сайт ин...      8       3   \n",
       "1  Запустить собственную службу доставки, что сок...      2       5   \n",
       "5  Добавить страницу отзывов клиентов о магазине,...      3       2   \n",
       "3  Изменить структура категорий, что увеличит кон...      8       3   \n",
       "4  Изменить цвет фона главной страницы, чтобы уве...      3       1   \n",
       "\n",
       "   Confidence  Efforts        ICE  \n",
       "8           9        5  16.200000  \n",
       "0           8        6  13.333333  \n",
       "7           8        5  11.200000  \n",
       "6           8        3   8.000000  \n",
       "2           7        3   7.000000  \n",
       "1           4       10   2.000000  \n",
       "5           2        3   1.333333  \n",
       "3           3        8   1.125000  \n",
       "4           1        1   1.000000  "
      ]
     },
     "execution_count": 6,
     "metadata": {},
     "output_type": "execute_result"
    }
   ],
   "source": [
    "hypothesis.sort_values(by='ICE', ascending=False)"
   ]
  },
  {
   "cell_type": "markdown",
   "id": "1a08fe7d",
   "metadata": {},
   "source": [
    "<div class=\"alert alert-info\"> <b>Комментарий студента:</b> Три перспективные гипотезы по ICE :8, 0, 7\t</div>\n"
   ]
  },
  {
   "cell_type": "code",
   "execution_count": 7,
   "id": "fa380823",
   "metadata": {},
   "outputs": [],
   "source": [
    "# Посчитаем RICE для гипотез. \n",
    "hypothesis['RICE'] = hypothesis['Reach'] * hypothesis['Impact'] * hypothesis['Confidence'] / hypothesis['Efforts']"
   ]
  },
  {
   "cell_type": "code",
   "execution_count": 8,
   "id": "7fbaf708",
   "metadata": {},
   "outputs": [
    {
     "data": {
      "text/html": [
       "<div>\n",
       "<style scoped>\n",
       "    .dataframe tbody tr th:only-of-type {\n",
       "        vertical-align: middle;\n",
       "    }\n",
       "\n",
       "    .dataframe tbody tr th {\n",
       "        vertical-align: top;\n",
       "    }\n",
       "\n",
       "    .dataframe thead th {\n",
       "        text-align: right;\n",
       "    }\n",
       "</style>\n",
       "<table border=\"1\" class=\"dataframe\">\n",
       "  <thead>\n",
       "    <tr style=\"text-align: right;\">\n",
       "      <th></th>\n",
       "      <th>Hypothesis</th>\n",
       "      <th>Reach</th>\n",
       "      <th>Impact</th>\n",
       "      <th>Confidence</th>\n",
       "      <th>Efforts</th>\n",
       "      <th>ICE</th>\n",
       "      <th>RICE</th>\n",
       "    </tr>\n",
       "  </thead>\n",
       "  <tbody>\n",
       "    <tr>\n",
       "      <th>7</th>\n",
       "      <td>Добавить форму подписки на все основные страни...</td>\n",
       "      <td>10</td>\n",
       "      <td>7</td>\n",
       "      <td>8</td>\n",
       "      <td>5</td>\n",
       "      <td>11.200000</td>\n",
       "      <td>112.0</td>\n",
       "    </tr>\n",
       "    <tr>\n",
       "      <th>2</th>\n",
       "      <td>Добавить блоки рекомендаций товаров на сайт ин...</td>\n",
       "      <td>8</td>\n",
       "      <td>3</td>\n",
       "      <td>7</td>\n",
       "      <td>3</td>\n",
       "      <td>7.000000</td>\n",
       "      <td>56.0</td>\n",
       "    </tr>\n",
       "    <tr>\n",
       "      <th>0</th>\n",
       "      <td>Добавить два новых канала привлечения трафика,...</td>\n",
       "      <td>3</td>\n",
       "      <td>10</td>\n",
       "      <td>8</td>\n",
       "      <td>6</td>\n",
       "      <td>13.333333</td>\n",
       "      <td>40.0</td>\n",
       "    </tr>\n",
       "    <tr>\n",
       "      <th>6</th>\n",
       "      <td>Показать на главной странице баннеры с актуаль...</td>\n",
       "      <td>5</td>\n",
       "      <td>3</td>\n",
       "      <td>8</td>\n",
       "      <td>3</td>\n",
       "      <td>8.000000</td>\n",
       "      <td>40.0</td>\n",
       "    </tr>\n",
       "    <tr>\n",
       "      <th>8</th>\n",
       "      <td>Запустить акцию, дающую скидку на товар в день...</td>\n",
       "      <td>1</td>\n",
       "      <td>9</td>\n",
       "      <td>9</td>\n",
       "      <td>5</td>\n",
       "      <td>16.200000</td>\n",
       "      <td>16.2</td>\n",
       "    </tr>\n",
       "    <tr>\n",
       "      <th>3</th>\n",
       "      <td>Изменить структура категорий, что увеличит кон...</td>\n",
       "      <td>8</td>\n",
       "      <td>3</td>\n",
       "      <td>3</td>\n",
       "      <td>8</td>\n",
       "      <td>1.125000</td>\n",
       "      <td>9.0</td>\n",
       "    </tr>\n",
       "    <tr>\n",
       "      <th>1</th>\n",
       "      <td>Запустить собственную службу доставки, что сок...</td>\n",
       "      <td>2</td>\n",
       "      <td>5</td>\n",
       "      <td>4</td>\n",
       "      <td>10</td>\n",
       "      <td>2.000000</td>\n",
       "      <td>4.0</td>\n",
       "    </tr>\n",
       "    <tr>\n",
       "      <th>5</th>\n",
       "      <td>Добавить страницу отзывов клиентов о магазине,...</td>\n",
       "      <td>3</td>\n",
       "      <td>2</td>\n",
       "      <td>2</td>\n",
       "      <td>3</td>\n",
       "      <td>1.333333</td>\n",
       "      <td>4.0</td>\n",
       "    </tr>\n",
       "    <tr>\n",
       "      <th>4</th>\n",
       "      <td>Изменить цвет фона главной страницы, чтобы уве...</td>\n",
       "      <td>3</td>\n",
       "      <td>1</td>\n",
       "      <td>1</td>\n",
       "      <td>1</td>\n",
       "      <td>1.000000</td>\n",
       "      <td>3.0</td>\n",
       "    </tr>\n",
       "  </tbody>\n",
       "</table>\n",
       "</div>"
      ],
      "text/plain": [
       "                                          Hypothesis  Reach  Impact  \\\n",
       "7  Добавить форму подписки на все основные страни...     10       7   \n",
       "2  Добавить блоки рекомендаций товаров на сайт ин...      8       3   \n",
       "0  Добавить два новых канала привлечения трафика,...      3      10   \n",
       "6  Показать на главной странице баннеры с актуаль...      5       3   \n",
       "8  Запустить акцию, дающую скидку на товар в день...      1       9   \n",
       "3  Изменить структура категорий, что увеличит кон...      8       3   \n",
       "1  Запустить собственную службу доставки, что сок...      2       5   \n",
       "5  Добавить страницу отзывов клиентов о магазине,...      3       2   \n",
       "4  Изменить цвет фона главной страницы, чтобы уве...      3       1   \n",
       "\n",
       "   Confidence  Efforts        ICE   RICE  \n",
       "7           8        5  11.200000  112.0  \n",
       "2           7        3   7.000000   56.0  \n",
       "0           8        6  13.333333   40.0  \n",
       "6           8        3   8.000000   40.0  \n",
       "8           9        5  16.200000   16.2  \n",
       "3           3        8   1.125000    9.0  \n",
       "1           4       10   2.000000    4.0  \n",
       "5           2        3   1.333333    4.0  \n",
       "4           1        1   1.000000    3.0  "
      ]
     },
     "execution_count": 8,
     "metadata": {},
     "output_type": "execute_result"
    }
   ],
   "source": [
    "hypothesis.sort_values(by='RICE', ascending=False)"
   ]
  },
  {
   "cell_type": "markdown",
   "id": "0d74060a",
   "metadata": {},
   "source": [
    "<div class=\"alert alert-info\"> <b>Комментарий студента:</b> Три перспективные гипотезы по RICE 7, 2, 0</div>"
   ]
  },
  {
   "cell_type": "markdown",
   "id": "2ee63687",
   "metadata": {},
   "source": [
    "Укажите, как изменилась приоритизация гипотез при применении RICE вместо ICE. Объясните, почему так произошло."
   ]
  },
  {
   "cell_type": "markdown",
   "id": "2bfb4810",
   "metadata": {},
   "source": [
    "<div class=\"alert alert-info\"> <b>Комментарий студента:</b> Перспективные гипотезы по ICE - это\n",
    "\n",
    "\"Запустить акцию, дающую скидку на товар в день рождения\" отмечу - влияние(impact) 9, уверенность(confidence) 9; среднее усилие(efforts) 5, низкое достижение(reach) 1;\n",
    "\n",
    "\"Добавить два новых канала привлечения трафика, что позволит привлекать на 30% больше пользователей\" тмечу - большое влияние(impact) 10, уверенность(confidence) 8; среднее усилие(efforts) 6, низкое достижение(reach) 3;\n",
    "\n",
    "\"Добавить форму подписки на все основные страницы, чтобы собрать базу клиентов для email-рассылок\" отмечу - влияние(impact) 7, уверенность(confidence) 8; среднее усилие(efforts) 5, высокое достижение(reach) 10;\n",
    "\n",
    "\n",
    "Перспективные гипотезы по RICE (влияние, уверенность, усилия, охват) - это\n",
    "\n",
    "\"Добавить форму подписки на все основные страницы, чтобы собрать базу клиентов для email-рассылок\" отмечу - влияние(impact) 7, уверенность(confidence) 8; среднее усилие(efforts) 5, высокое достижение(reach) 10;\n",
    "\n",
    "\"Добавить блоки рекомендаций товаров на сайт интернет магазина, чтобы повысить конверсию и средний чек заказа\" отмечу - низкое влияние(impact) 3, уверенность(confidence) 7; низкое усилие(efforts) 3, достижение(reach) 8;\n",
    "\n",
    "\"Добавить два новых канала привлечения трафика, что позволит привлекать на 30% больше пользователей\" отмечу - высокое влияние(impact) 10, уверенность(confidence) 8; среднее усилие(efforts) 6, низкое достижение(reach) 3;</div>"
   ]
  },
  {
   "cell_type": "markdown",
   "id": "9dd3f39a",
   "metadata": {},
   "source": [
    "<div class=\"alert alert-info\"> <b>Вывод по ICE и RICE:</b> По ICE наибольшую оценку имели гпиотезы 8,0,7. После применения параметров RICE приоритеты изменились на гипотезы 7,2, 0.  Скорей всего это из-за того , что в случае ICE не учитывали выжную состовялющую оценки гипотезы- охват изменений.В RICE учитывали охват изменений."
   ]
  },
  {
   "cell_type": "markdown",
   "id": "f9db0980",
   "metadata": {},
   "source": [
    "## Анализ A/B-теста"
   ]
  },
  {
   "cell_type": "code",
   "execution_count": 9,
   "id": "7fb162c1",
   "metadata": {},
   "outputs": [
    {
     "name": "stdout",
     "output_type": "stream",
     "text": [
      "<class 'pandas.core.frame.DataFrame'>\n",
      "RangeIndex: 1197 entries, 0 to 1196\n",
      "Data columns (total 5 columns):\n",
      " #   Column         Non-Null Count  Dtype \n",
      "---  ------         --------------  ----- \n",
      " 0   transactionId  1197 non-null   int64 \n",
      " 1   visitorId      1197 non-null   int64 \n",
      " 2   date           1197 non-null   object\n",
      " 3   revenue        1197 non-null   int64 \n",
      " 4   group          1197 non-null   object\n",
      "dtypes: int64(3), object(2)\n",
      "memory usage: 46.9+ KB\n"
     ]
    }
   ],
   "source": [
    "orders.info()"
   ]
  },
  {
   "cell_type": "code",
   "execution_count": 10,
   "id": "5aede276",
   "metadata": {},
   "outputs": [
    {
     "data": {
      "text/html": [
       "<div>\n",
       "<style scoped>\n",
       "    .dataframe tbody tr th:only-of-type {\n",
       "        vertical-align: middle;\n",
       "    }\n",
       "\n",
       "    .dataframe tbody tr th {\n",
       "        vertical-align: top;\n",
       "    }\n",
       "\n",
       "    .dataframe thead th {\n",
       "        text-align: right;\n",
       "    }\n",
       "</style>\n",
       "<table border=\"1\" class=\"dataframe\">\n",
       "  <thead>\n",
       "    <tr style=\"text-align: right;\">\n",
       "      <th></th>\n",
       "      <th>transactionId</th>\n",
       "      <th>visitorId</th>\n",
       "      <th>date</th>\n",
       "      <th>revenue</th>\n",
       "      <th>group</th>\n",
       "    </tr>\n",
       "  </thead>\n",
       "  <tbody>\n",
       "    <tr>\n",
       "      <th>0</th>\n",
       "      <td>3667963787</td>\n",
       "      <td>3312258926</td>\n",
       "      <td>2019-08-15</td>\n",
       "      <td>1650</td>\n",
       "      <td>B</td>\n",
       "    </tr>\n",
       "    <tr>\n",
       "      <th>1</th>\n",
       "      <td>2804400009</td>\n",
       "      <td>3642806036</td>\n",
       "      <td>2019-08-15</td>\n",
       "      <td>730</td>\n",
       "      <td>B</td>\n",
       "    </tr>\n",
       "    <tr>\n",
       "      <th>2</th>\n",
       "      <td>2961555356</td>\n",
       "      <td>4069496402</td>\n",
       "      <td>2019-08-15</td>\n",
       "      <td>400</td>\n",
       "      <td>A</td>\n",
       "    </tr>\n",
       "    <tr>\n",
       "      <th>3</th>\n",
       "      <td>3797467345</td>\n",
       "      <td>1196621759</td>\n",
       "      <td>2019-08-15</td>\n",
       "      <td>9759</td>\n",
       "      <td>B</td>\n",
       "    </tr>\n",
       "    <tr>\n",
       "      <th>4</th>\n",
       "      <td>2282983706</td>\n",
       "      <td>2322279887</td>\n",
       "      <td>2019-08-15</td>\n",
       "      <td>2308</td>\n",
       "      <td>B</td>\n",
       "    </tr>\n",
       "  </tbody>\n",
       "</table>\n",
       "</div>"
      ],
      "text/plain": [
       "   transactionId   visitorId        date  revenue group\n",
       "0     3667963787  3312258926  2019-08-15     1650     B\n",
       "1     2804400009  3642806036  2019-08-15      730     B\n",
       "2     2961555356  4069496402  2019-08-15      400     A\n",
       "3     3797467345  1196621759  2019-08-15     9759     B\n",
       "4     2282983706  2322279887  2019-08-15     2308     B"
      ]
     },
     "execution_count": 10,
     "metadata": {},
     "output_type": "execute_result"
    }
   ],
   "source": [
    "orders.head()"
   ]
  },
  {
   "cell_type": "code",
   "execution_count": 11,
   "id": "bf0247ca",
   "metadata": {},
   "outputs": [],
   "source": [
    "orders['date'] = orders['date'].map(lambda x: dt.datetime.strptime(x, '%Y-%m-%d'))"
   ]
  },
  {
   "cell_type": "code",
   "execution_count": 12,
   "id": "45810e40",
   "metadata": {},
   "outputs": [
    {
     "data": {
      "text/plain": [
       "0"
      ]
     },
     "execution_count": 12,
     "metadata": {},
     "output_type": "execute_result"
    }
   ],
   "source": [
    "#проверим данные на дубликаты\n",
    "orders.duplicated().sum()"
   ]
  },
  {
   "cell_type": "code",
   "execution_count": 13,
   "id": "10910a5e",
   "metadata": {},
   "outputs": [
    {
     "name": "stdout",
     "output_type": "stream",
     "text": [
      "<class 'pandas.core.frame.DataFrame'>\n",
      "RangeIndex: 62 entries, 0 to 61\n",
      "Data columns (total 3 columns):\n",
      " #   Column    Non-Null Count  Dtype \n",
      "---  ------    --------------  ----- \n",
      " 0   date      62 non-null     object\n",
      " 1   group     62 non-null     object\n",
      " 2   visitors  62 non-null     int64 \n",
      "dtypes: int64(1), object(2)\n",
      "memory usage: 1.6+ KB\n"
     ]
    }
   ],
   "source": [
    "visitors.info()"
   ]
  },
  {
   "cell_type": "code",
   "execution_count": 14,
   "id": "e5cbaa11",
   "metadata": {},
   "outputs": [
    {
     "data": {
      "text/html": [
       "<div>\n",
       "<style scoped>\n",
       "    .dataframe tbody tr th:only-of-type {\n",
       "        vertical-align: middle;\n",
       "    }\n",
       "\n",
       "    .dataframe tbody tr th {\n",
       "        vertical-align: top;\n",
       "    }\n",
       "\n",
       "    .dataframe thead th {\n",
       "        text-align: right;\n",
       "    }\n",
       "</style>\n",
       "<table border=\"1\" class=\"dataframe\">\n",
       "  <thead>\n",
       "    <tr style=\"text-align: right;\">\n",
       "      <th></th>\n",
       "      <th>date</th>\n",
       "      <th>group</th>\n",
       "      <th>visitors</th>\n",
       "    </tr>\n",
       "  </thead>\n",
       "  <tbody>\n",
       "    <tr>\n",
       "      <th>0</th>\n",
       "      <td>2019-08-01</td>\n",
       "      <td>A</td>\n",
       "      <td>719</td>\n",
       "    </tr>\n",
       "    <tr>\n",
       "      <th>1</th>\n",
       "      <td>2019-08-02</td>\n",
       "      <td>A</td>\n",
       "      <td>619</td>\n",
       "    </tr>\n",
       "    <tr>\n",
       "      <th>2</th>\n",
       "      <td>2019-08-03</td>\n",
       "      <td>A</td>\n",
       "      <td>507</td>\n",
       "    </tr>\n",
       "    <tr>\n",
       "      <th>3</th>\n",
       "      <td>2019-08-04</td>\n",
       "      <td>A</td>\n",
       "      <td>717</td>\n",
       "    </tr>\n",
       "    <tr>\n",
       "      <th>4</th>\n",
       "      <td>2019-08-05</td>\n",
       "      <td>A</td>\n",
       "      <td>756</td>\n",
       "    </tr>\n",
       "  </tbody>\n",
       "</table>\n",
       "</div>"
      ],
      "text/plain": [
       "         date group  visitors\n",
       "0  2019-08-01     A       719\n",
       "1  2019-08-02     A       619\n",
       "2  2019-08-03     A       507\n",
       "3  2019-08-04     A       717\n",
       "4  2019-08-05     A       756"
      ]
     },
     "execution_count": 14,
     "metadata": {},
     "output_type": "execute_result"
    }
   ],
   "source": [
    "visitors.head()"
   ]
  },
  {
   "cell_type": "code",
   "execution_count": 15,
   "id": "a8e1c3f9",
   "metadata": {},
   "outputs": [],
   "source": [
    "visitors['date'] = visitors['date'].map(lambda x: dt.datetime.strptime(x, '%Y-%m-%d'))"
   ]
  },
  {
   "cell_type": "code",
   "execution_count": 16,
   "id": "bdc8a306",
   "metadata": {},
   "outputs": [
    {
     "data": {
      "text/plain": [
       "0"
      ]
     },
     "execution_count": 16,
     "metadata": {},
     "output_type": "execute_result"
    }
   ],
   "source": [
    "#проверим данные на дубликаты\n",
    "visitors.duplicated().sum()"
   ]
  },
  {
   "cell_type": "code",
   "execution_count": 17,
   "id": "4aa47893",
   "metadata": {},
   "outputs": [
    {
     "data": {
      "text/html": [
       "<div>\n",
       "<style scoped>\n",
       "    .dataframe tbody tr th:only-of-type {\n",
       "        vertical-align: middle;\n",
       "    }\n",
       "\n",
       "    .dataframe tbody tr th {\n",
       "        vertical-align: top;\n",
       "    }\n",
       "\n",
       "    .dataframe thead th {\n",
       "        text-align: right;\n",
       "    }\n",
       "</style>\n",
       "<table border=\"1\" class=\"dataframe\">\n",
       "  <thead>\n",
       "    <tr style=\"text-align: right;\">\n",
       "      <th></th>\n",
       "      <th>transactionId</th>\n",
       "      <th>visitorId</th>\n",
       "      <th>date</th>\n",
       "      <th>revenue</th>\n",
       "      <th>group</th>\n",
       "    </tr>\n",
       "  </thead>\n",
       "  <tbody>\n",
       "  </tbody>\n",
       "</table>\n",
       "</div>"
      ],
      "text/plain": [
       "Empty DataFrame\n",
       "Columns: [transactionId, visitorId, date, revenue, group]\n",
       "Index: []"
      ]
     },
     "execution_count": 17,
     "metadata": {},
     "output_type": "execute_result"
    }
   ],
   "source": [
    "orders[orders.duplicated()]"
   ]
  },
  {
   "cell_type": "code",
   "execution_count": 18,
   "id": "850fd3ed",
   "metadata": {},
   "outputs": [
    {
     "data": {
      "text/html": [
       "<div>\n",
       "<style scoped>\n",
       "    .dataframe tbody tr th:only-of-type {\n",
       "        vertical-align: middle;\n",
       "    }\n",
       "\n",
       "    .dataframe tbody tr th {\n",
       "        vertical-align: top;\n",
       "    }\n",
       "\n",
       "    .dataframe thead th {\n",
       "        text-align: right;\n",
       "    }\n",
       "</style>\n",
       "<table border=\"1\" class=\"dataframe\">\n",
       "  <thead>\n",
       "    <tr style=\"text-align: right;\">\n",
       "      <th></th>\n",
       "      <th>date</th>\n",
       "      <th>group</th>\n",
       "      <th>visitors</th>\n",
       "    </tr>\n",
       "  </thead>\n",
       "  <tbody>\n",
       "  </tbody>\n",
       "</table>\n",
       "</div>"
      ],
      "text/plain": [
       "Empty DataFrame\n",
       "Columns: [date, group, visitors]\n",
       "Index: []"
      ]
     },
     "execution_count": 18,
     "metadata": {},
     "output_type": "execute_result"
    }
   ],
   "source": [
    "visitors[visitors.duplicated()]"
   ]
  },
  {
   "cell_type": "code",
   "execution_count": 19,
   "id": "ac79365e",
   "metadata": {},
   "outputs": [
    {
     "data": {
      "text/plain": [
       "visit1    58\n",
       "dtype: int64"
      ]
     },
     "execution_count": 19,
     "metadata": {},
     "output_type": "execute_result"
    }
   ],
   "source": [
    "same = orders.pivot_table(index='visitorId', values='group', aggfunc='nunique')\n",
    "same.columns = ['visit1']\n",
    "same.reset_index()\n",
    "same.query('visit1 > 1').count()"
   ]
  },
  {
   "cell_type": "markdown",
   "id": "fca3179d",
   "metadata": {},
   "source": [
    "<div class=\"alert alert-info\"> <b>Комментарий студента V_1:</b> Проверил данные на наличие пересекающихся пользователей(да их оказалось 58) так же проверил дубликаты</div>"
   ]
  },
  {
   "cell_type": "code",
   "execution_count": 20,
   "id": "1725d1a4",
   "metadata": {},
   "outputs": [],
   "source": [
    "#получаем агрегированные кумулятивные показатели из orders\n",
    "group_ord = (orders.groupby(['date','group'], as_index=False).agg({'transactionId':'nunique','visitorId':'nunique','revenue':'sum'}))\n",
    "\n",
    "group_ord['group_copy'] = group_ord['group']\n",
    "group_ord = group_ord.set_index(['date','group'])\n",
    "csum_ord = group_ord.sort_values(['date','group']).groupby('group_copy').cumsum().reset_index() "
   ]
  },
  {
   "cell_type": "code",
   "execution_count": 21,
   "id": "b932bb57",
   "metadata": {},
   "outputs": [],
   "source": [
    "#получаем агрегированные кумулятивные показатели из visitors\n",
    "csum_visit = visitors.groupby(['date','group'], as_index=False).agg({'visitors':'sum'}).sort_values(['date','group'])\n",
    "csum_visit['group_copy'] = csum_visit['group']\n",
    "csum_visit = csum_visit.set_index(['date','group']).groupby('group_copy').cumsum().reset_index() "
   ]
  },
  {
   "cell_type": "code",
   "execution_count": 22,
   "id": "958dd649",
   "metadata": {},
   "outputs": [],
   "source": [
    "cummulative = csum_ord.join(csum_visit[['visitors']])"
   ]
  },
  {
   "cell_type": "code",
   "execution_count": 23,
   "id": "66813b27",
   "metadata": {},
   "outputs": [],
   "source": [
    "cummulative['average_check'] = cummulative['revenue'] / cummulative['transactionId'] # кумулятивные показатели средний чек\n",
    "cummulative['conversion'] = cummulative['transactionId'] / cummulative['visitors'] # кумулятивные показатели конверсия"
   ]
  },
  {
   "cell_type": "code",
   "execution_count": 24,
   "id": "51560a63",
   "metadata": {},
   "outputs": [
    {
     "data": {
      "text/html": [
       "<div>\n",
       "<style scoped>\n",
       "    .dataframe tbody tr th:only-of-type {\n",
       "        vertical-align: middle;\n",
       "    }\n",
       "\n",
       "    .dataframe tbody tr th {\n",
       "        vertical-align: top;\n",
       "    }\n",
       "\n",
       "    .dataframe thead th {\n",
       "        text-align: right;\n",
       "    }\n",
       "</style>\n",
       "<table border=\"1\" class=\"dataframe\">\n",
       "  <thead>\n",
       "    <tr style=\"text-align: right;\">\n",
       "      <th></th>\n",
       "      <th>date</th>\n",
       "      <th>group</th>\n",
       "      <th>transactionId</th>\n",
       "      <th>visitorId</th>\n",
       "      <th>revenue</th>\n",
       "      <th>visitors</th>\n",
       "      <th>average_check</th>\n",
       "      <th>conversion</th>\n",
       "    </tr>\n",
       "  </thead>\n",
       "  <tbody>\n",
       "    <tr>\n",
       "      <th>0</th>\n",
       "      <td>2019-08-01</td>\n",
       "      <td>A</td>\n",
       "      <td>24</td>\n",
       "      <td>20</td>\n",
       "      <td>148579</td>\n",
       "      <td>719</td>\n",
       "      <td>6190.791667</td>\n",
       "      <td>0.033380</td>\n",
       "    </tr>\n",
       "    <tr>\n",
       "      <th>1</th>\n",
       "      <td>2019-08-01</td>\n",
       "      <td>B</td>\n",
       "      <td>21</td>\n",
       "      <td>20</td>\n",
       "      <td>101217</td>\n",
       "      <td>713</td>\n",
       "      <td>4819.857143</td>\n",
       "      <td>0.029453</td>\n",
       "    </tr>\n",
       "    <tr>\n",
       "      <th>2</th>\n",
       "      <td>2019-08-02</td>\n",
       "      <td>A</td>\n",
       "      <td>44</td>\n",
       "      <td>39</td>\n",
       "      <td>242401</td>\n",
       "      <td>1338</td>\n",
       "      <td>5509.113636</td>\n",
       "      <td>0.032885</td>\n",
       "    </tr>\n",
       "    <tr>\n",
       "      <th>3</th>\n",
       "      <td>2019-08-02</td>\n",
       "      <td>B</td>\n",
       "      <td>45</td>\n",
       "      <td>43</td>\n",
       "      <td>266748</td>\n",
       "      <td>1294</td>\n",
       "      <td>5927.733333</td>\n",
       "      <td>0.034776</td>\n",
       "    </tr>\n",
       "    <tr>\n",
       "      <th>4</th>\n",
       "      <td>2019-08-03</td>\n",
       "      <td>A</td>\n",
       "      <td>68</td>\n",
       "      <td>63</td>\n",
       "      <td>354874</td>\n",
       "      <td>1845</td>\n",
       "      <td>5218.735294</td>\n",
       "      <td>0.036856</td>\n",
       "    </tr>\n",
       "  </tbody>\n",
       "</table>\n",
       "</div>"
      ],
      "text/plain": [
       "        date group  transactionId  visitorId  revenue  visitors  \\\n",
       "0 2019-08-01     A             24         20   148579       719   \n",
       "1 2019-08-01     B             21         20   101217       713   \n",
       "2 2019-08-02     A             44         39   242401      1338   \n",
       "3 2019-08-02     B             45         43   266748      1294   \n",
       "4 2019-08-03     A             68         63   354874      1845   \n",
       "\n",
       "   average_check  conversion  \n",
       "0    6190.791667    0.033380  \n",
       "1    4819.857143    0.029453  \n",
       "2    5509.113636    0.032885  \n",
       "3    5927.733333    0.034776  \n",
       "4    5218.735294    0.036856  "
      ]
     },
     "execution_count": 24,
     "metadata": {},
     "output_type": "execute_result"
    }
   ],
   "source": [
    "cummulative.head()"
   ]
  },
  {
   "cell_type": "markdown",
   "id": "9bd49ec7",
   "metadata": {},
   "source": [
    "### Постройте график кумулятивной выручки по группам. "
   ]
  },
  {
   "cell_type": "code",
   "execution_count": 25,
   "id": "c87e16ce",
   "metadata": {},
   "outputs": [
    {
     "data": {
      "image/png": "[encoded data removed]",
      "text/plain": [
       "<Figure size 432x288 with 1 Axes>"
      ]
     },
     "metadata": {
      "needs_background": "light"
     },
     "output_type": "display_data"
    }
   ],
   "source": [
    "cummulativeA = cummulative[cummulative['group']=='A'][['date', 'revenue']] # датафрейм с кумулятивной выручкой по дням в группе А\n",
    "cummulativeB = cummulative[cummulative['group']=='B'][['date', 'revenue']] # датафрейм с кумулятивной выручкой по дням в группе B\n",
    "plt.plot(cummulativeA.iloc[:,0].to_frame(), cummulativeA.iloc[:,1].to_frame(), label='A' ) # Строим график выручки группы А\n",
    "plt.plot(cummulativeB.iloc[:,0].to_frame(), cummulativeB.iloc[:,1].to_frame(), label='B') # Строим график выручки группы В\n",
    "plt.xticks(rotation=45)\n",
    "plt.legend() \n",
    "plt.title('Кумулятивная выручка')\n",
    "plt.xlabel('Дата, день')\n",
    "plt.ylabel('Выручка, руб')\n",
    "plt.show()"
   ]
  },
  {
   "cell_type": "markdown",
   "id": "1a7b12f2",
   "metadata": {},
   "source": [
    "<div class=\"alert alert-info\"> <b>Комментарий студента:</b>По графику выручка увеличивается в течении графика. Сегмент В лидирует на протяжении всего графика и далее скачок в середине августа(возможно увелечение заказов).</div>"
   ]
  },
  {
   "cell_type": "markdown",
   "id": "dc22f292",
   "metadata": {},
   "source": [
    "### Постройте график кумулятивного среднего чека по группам. "
   ]
  },
  {
   "cell_type": "code",
   "execution_count": 26,
   "id": "45704d31",
   "metadata": {},
   "outputs": [
    {
     "data": {
      "image/png": "[encoded data removed]",
      "text/plain": [
       "<Figure size 432x288 with 1 Axes>"
      ]
     },
     "metadata": {
      "needs_background": "light"
     },
     "output_type": "display_data"
    }
   ],
   "source": [
    "cummulativeA = cummulative[cummulative['group']=='A'][['date', 'average_check']] # тоже , что и предудущим графике только кумулятивным средним чеком по дням руппы А\n",
    "cummulativeB = cummulative[cummulative['group']=='B'][['date', 'average_check']] # тоже , что и предудущим графике только кумулятивным средним чеком по дням руппы В\n",
    "plt.plot(cummulativeA.iloc[:,0].to_frame(), cummulativeA.iloc[:,1].to_frame(), label='A' ) # Строим график А\n",
    "plt.plot(cummulativeB.iloc[:,0].to_frame(), cummulativeB.iloc[:,1].to_frame(), label='B') # Строим график В\n",
    "plt.xticks(rotation=45)\n",
    "plt.title('Кумулятивный средний чек ')\n",
    "plt.xlabel('Дата, день')\n",
    "plt.ylabel('Средний чек, руб')\n",
    "plt.legend() \n",
    "plt.show()"
   ]
  },
  {
   "cell_type": "markdown",
   "id": "940424d2",
   "metadata": {},
   "source": [
    "<div class=\"alert alert-info\"> <b>Комментарий студента:</b>Кумулятивное значение среднего чека нестабильно. В середине августа произошел скачок у сегмента В(возможно аномалии). Пик для семента А был не много ранее, после стабилизировался.</div>"
   ]
  },
  {
   "cell_type": "markdown",
   "id": "bf0ea416",
   "metadata": {},
   "source": [
    "### Постройте график относительного изменения кумулятивного среднего чека группы B к группе A. "
   ]
  },
  {
   "cell_type": "code",
   "execution_count": 27,
   "id": "2c2730ab",
   "metadata": {},
   "outputs": [
    {
     "data": {
      "image/png": "[encoded data removed]",
      "text/plain": [
       "<Figure size 432x288 with 1 Axes>"
      ]
     },
     "metadata": {
      "needs_background": "light"
     },
     "output_type": "display_data"
    }
   ],
   "source": [
    "vrem = (cummulativeA[['date', 'average_check']].merge(cummulativeB[['date', 'average_check']],left_on='date', right_on='date', how='left', suffixes=['_A', '_B'])) # изменение кумулятивного среднего чека В к А\n",
    "plt.plot(vrem['date'], vrem['average_check_B'] / vrem['average_check_A']-1) # строим график\n",
    "plt.axhline(y=0, color='black', linestyle='--') \n",
    "plt.xticks(rotation=45)\n",
    "plt.title('Изменение кумулятивного среднего чека группы B к группе A')\n",
    "plt.xlabel('Дата, день')\n",
    "plt.ylabel('Отношение средних чеков')\n",
    "plt.show()"
   ]
  },
  {
   "cell_type": "markdown",
   "id": "bca5e2c6",
   "metadata": {},
   "source": [
    "<div class=\"alert alert-info\"> <b>Комментарий студента:</b>Надо проверить наличие анамалий,в связи с резким изменением </div>"
   ]
  },
  {
   "cell_type": "markdown",
   "id": "ad61cba5",
   "metadata": {},
   "source": [
    "### Постройте график относительного изменения кумулятивной конверсии группы B к группе A. "
   ]
  },
  {
   "cell_type": "code",
   "execution_count": 28,
   "id": "de765c4a",
   "metadata": {},
   "outputs": [
    {
     "data": {
      "image/png": "[encoded data removed]",
      "text/plain": [
       "<Figure size 432x288 with 1 Axes>"
      ]
     },
     "metadata": {
      "needs_background": "light"
     },
     "output_type": "display_data"
    }
   ],
   "source": [
    "cummulativeA = cummulative[cummulative['group']=='A'][['date', 'conversion']] # датафрейм с кумулятивной конверсией по дням в группе А\n",
    "cummulativeB = cummulative[cummulative['group']=='B'][['date', 'conversion']] # датафрейм с кумулятивной конверсией по дням в группе В\n",
    "plt.plot(cummulativeA.iloc[:,0].to_frame(), cummulativeA.iloc[:,1].to_frame(), label='A' ) # строим график группы А\n",
    "plt.plot(cummulativeB.iloc[:,0].to_frame(), cummulativeB.iloc[:,1].to_frame(), label='B') # строим график группы В\n",
    "plt.legend()\n",
    "plt.xticks(rotation=45)\n",
    "plt.title(\"Кумулятивная конверсия\")\n",
    "plt.xlabel('Дата, день')\n",
    "plt.ylabel('Конверсия')\n",
    "plt.show()"
   ]
  },
  {
   "cell_type": "markdown",
   "id": "6b5b0c02",
   "metadata": {},
   "source": [
    "<div class=\"alert alert-info\"> <b>Комментарий студента:</b> ГРуппа В демонстрирует большую конверсию по сравнению с группой А </div>"
   ]
  },
  {
   "cell_type": "code",
   "execution_count": 29,
   "id": "8469bbc7",
   "metadata": {},
   "outputs": [
    {
     "data": {
      "image/png": "[encoded data removed]",
      "text/plain": [
       "<Figure size 432x288 with 1 Axes>"
      ]
     },
     "metadata": {
      "needs_background": "light"
     },
     "output_type": "display_data"
    }
   ],
   "source": [
    "vrem = (cummulativeA[['date', 'conversion']].merge(cummulativeB[['date', 'conversion']],left_on='date', right_on='date', how='left', suffixes=['_A', '_B'])) # изменение кумулятивного конверсии В к А\n",
    "plt.plot(vrem['date'], vrem['conversion_B'] / vrem['conversion_A']-1)\n",
    "plt.axhline(y=0, color='black', linestyle='--')  \n",
    "plt.xlabel('Дата, день')\n",
    "plt.ylabel('Прирост')\n",
    "plt.xticks(rotation=45)\n",
    "plt.show()"
   ]
  },
  {
   "cell_type": "markdown",
   "id": "6f9e70a5",
   "metadata": {},
   "source": [
    "<div class=\"alert alert-info\"> <b>Комментарий студента:</b> Конверсия В лучше А </div>"
   ]
  },
  {
   "cell_type": "markdown",
   "id": "790ee819",
   "metadata": {},
   "source": [
    "<div class=\"alert alert-info\"> <b>Вывод:</b> Рассмотрели кумулятивные метрики. По графикам , можно отметить, что: 1) В начале группа А лидировала по сравнению с группой В, но далее упустила инициативу группе В, 2) группа В выигрывает у группы А за счет большого прироста в середине августа, 3) Пока имеется не определенность выводы не получится сделать, есть вариант проверить аномалии.  </div>"
   ]
  },
  {
   "cell_type": "markdown",
   "id": "c2bea336",
   "metadata": {},
   "source": [
    "### Постройте точечный график количества заказов по пользователям."
   ]
  },
  {
   "cell_type": "code",
   "execution_count": 30,
   "id": "1ca1e061",
   "metadata": {},
   "outputs": [],
   "source": [
    "# создадим переменную пользовательстких заказов\n",
    "user_ord = orders.groupby('visitorId', as_index=False).agg({'transactionId':'nunique'})"
   ]
  },
  {
   "cell_type": "code",
   "execution_count": 31,
   "id": "7b01aef7",
   "metadata": {},
   "outputs": [
    {
     "name": "stdout",
     "output_type": "stream",
     "text": [
      "<class 'pandas.core.frame.DataFrame'>\n",
      "Int64Index: 1031 entries, 0 to 1030\n",
      "Data columns (total 2 columns):\n",
      " #   Column         Non-Null Count  Dtype\n",
      "---  ------         --------------  -----\n",
      " 0   visitorId      1031 non-null   int64\n",
      " 1   transactionId  1031 non-null   int64\n",
      "dtypes: int64(2)\n",
      "memory usage: 24.2 KB\n"
     ]
    }
   ],
   "source": [
    "user_ord.info()"
   ]
  },
  {
   "cell_type": "code",
   "execution_count": 32,
   "id": "e1a33a59",
   "metadata": {},
   "outputs": [
    {
     "data": {
      "text/html": [
       "<div>\n",
       "<style scoped>\n",
       "    .dataframe tbody tr th:only-of-type {\n",
       "        vertical-align: middle;\n",
       "    }\n",
       "\n",
       "    .dataframe tbody tr th {\n",
       "        vertical-align: top;\n",
       "    }\n",
       "\n",
       "    .dataframe thead th {\n",
       "        text-align: right;\n",
       "    }\n",
       "</style>\n",
       "<table border=\"1\" class=\"dataframe\">\n",
       "  <thead>\n",
       "    <tr style=\"text-align: right;\">\n",
       "      <th></th>\n",
       "      <th>visitorId</th>\n",
       "      <th>transactionId</th>\n",
       "    </tr>\n",
       "  </thead>\n",
       "  <tbody>\n",
       "    <tr>\n",
       "      <th>0</th>\n",
       "      <td>5114589</td>\n",
       "      <td>1</td>\n",
       "    </tr>\n",
       "    <tr>\n",
       "      <th>1</th>\n",
       "      <td>6958315</td>\n",
       "      <td>1</td>\n",
       "    </tr>\n",
       "    <tr>\n",
       "      <th>2</th>\n",
       "      <td>8300375</td>\n",
       "      <td>2</td>\n",
       "    </tr>\n",
       "    <tr>\n",
       "      <th>3</th>\n",
       "      <td>11685486</td>\n",
       "      <td>1</td>\n",
       "    </tr>\n",
       "    <tr>\n",
       "      <th>4</th>\n",
       "      <td>39475350</td>\n",
       "      <td>1</td>\n",
       "    </tr>\n",
       "  </tbody>\n",
       "</table>\n",
       "</div>"
      ],
      "text/plain": [
       "   visitorId  transactionId\n",
       "0    5114589              1\n",
       "1    6958315              1\n",
       "2    8300375              2\n",
       "3   11685486              1\n",
       "4   39475350              1"
      ]
     },
     "execution_count": 32,
     "metadata": {},
     "output_type": "execute_result"
    }
   ],
   "source": [
    "user_ord.head()"
   ]
  },
  {
   "cell_type": "code",
   "execution_count": 33,
   "id": "0f1b265f",
   "metadata": {},
   "outputs": [
    {
     "data": {
      "image/png": "[encoded data removed]",
      "text/plain": [
       "<Figure size 432x288 with 1 Axes>"
      ]
     },
     "metadata": {
      "needs_background": "light"
     },
     "output_type": "display_data"
    }
   ],
   "source": [
    "# Оценим распределние числа заказов по пользователям\n",
    "x_values = pd.Series(range(0, len(user_ord)))\n",
    "plt.scatter(x_values, user_ord['transactionId'], color='brown') \n",
    "plt.title('Распределение числа заказов по пользователям')\n",
    "plt.xlabel('Число пользователей, чел')\n",
    "plt.ylabel('Число заказов, шт')\n",
    "plt.show()"
   ]
  },
  {
   "cell_type": "markdown",
   "id": "9fff22cb",
   "metadata": {},
   "source": [
    "<div class=\"alert alert-info\"> <b>Комментарий студента:</b> По графику видно что больше двух заказов совершают гораздо меньше человек. Можно предположить аномальные заказы больше двух раз.</div>"
   ]
  },
  {
   "cell_type": "markdown",
   "id": "4b886af7",
   "metadata": {},
   "source": [
    "### Посчитайте 95-й и 99-й перцентили количества заказов на пользователя. Выберите границу для определения аномальных пользователей."
   ]
  },
  {
   "cell_type": "code",
   "execution_count": 34,
   "id": "bc4fc7c6",
   "metadata": {},
   "outputs": [
    {
     "name": "stdout",
     "output_type": "stream",
     "text": [
      "90 перцентиль: 1.00\n",
      "95 перцентиль: 2.00\n",
      "99 перцентиль: 4.00\n"
     ]
    }
   ],
   "source": [
    "# Посчитаем перцентили заказов\n",
    "print('90 перцентиль: %.2f' % (np.percentile(user_ord['transactionId'], [90])))\n",
    "print('95 перцентиль: %.2f' % (np.percentile(user_ord['transactionId'], [95])))\n",
    "print('99 перцентиль: %.2f' % (np.percentile(user_ord['transactionId'], [99]))) "
   ]
  },
  {
   "cell_type": "markdown",
   "id": "2d225e95",
   "metadata": {},
   "source": [
    "<div class=\"alert alert-info\"> <b>Комментарий студента:</b> 5% совершают более двух заказов и 1 % более четырех</div>"
   ]
  },
  {
   "cell_type": "markdown",
   "id": "2e868752",
   "metadata": {},
   "source": [
    "### Постройте точечный график стоимостей заказов."
   ]
  },
  {
   "cell_type": "code",
   "execution_count": 35,
   "id": "e9b7b973",
   "metadata": {},
   "outputs": [
    {
     "data": {
      "image/png": "[encoded data removed]",
      "text/plain": [
       "<Figure size 432x288 with 1 Axes>"
      ]
     },
     "metadata": {
      "needs_background": "light"
     },
     "output_type": "display_data"
    }
   ],
   "source": [
    "# Оценим распределние стоимости заказов\n",
    "x_values = pd.Series(range(0, len(orders['revenue'])))\n",
    "plt.scatter(x_values, orders['revenue'], color='purple') \n",
    "plt.title('Распределение стоимости заказов')\n",
    "plt.xlabel('Число пользователей, чел')\n",
    "plt.ylabel('Стоимость заказов, руб')\n",
    "plt.axis([0, 1200, 0, 100000])\n",
    "\n",
    "plt.show()"
   ]
  },
  {
   "cell_type": "markdown",
   "id": "663ca5e0",
   "metadata": {},
   "source": [
    "<div class=\"alert alert-info\"> <b>Комментарий студента:</b> В осноном покупки в пределах от 20 до 40 тыс. </div>"
   ]
  },
  {
   "cell_type": "markdown",
   "id": "84fe5748",
   "metadata": {},
   "source": [
    "### Посчитайте 95-й и 99-й перцентили стоимости заказов. Выберите границу для определения аномальных заказов."
   ]
  },
  {
   "cell_type": "code",
   "execution_count": 36,
   "id": "ee49d384",
   "metadata": {},
   "outputs": [
    {
     "name": "stdout",
     "output_type": "stream",
     "text": [
      "90 перцентиль: 18168.00\n",
      "95 перцентиль: 28000.00\n",
      "99 перцентиль: 58233.20\n"
     ]
    }
   ],
   "source": [
    "# # Посчитаем перцентили стоимости\n",
    "print('90 перцентиль: %.2f' % (np.percentile(orders['revenue'], [90]))) \n",
    "print('95 перцентиль: %.2f' % (np.percentile(orders['revenue'], [95])))\n",
    "print('99 перцентиль: %.2f' % (np.percentile(orders['revenue'], [99])))"
   ]
  },
  {
   "cell_type": "markdown",
   "id": "8c4a20f6",
   "metadata": {},
   "source": [
    "<div class=\"alert alert-info\"> <b>Комментарий студента:</b> Перцентили показали что у 5% чек дороже 28 тыс. и у 1% чек дороже 58 тыс. 233 </div>"
   ]
  },
  {
   "cell_type": "markdown",
   "id": "324d23c6",
   "metadata": {},
   "source": [
    "<div class=\"alert alert-info\"> <b>Вывод:</b> Изучили аномалии по заказам и стоимости: 1) Согласно графику по количеству заказов и перцинтили количества заказов больше двух заказов совершают гораздо меньше человек, а именно 5% совершают более двух заказов и 1 % более четырех; 2) Согласно графику по стоимости заказов и перцинтили стоимости заказов покупки совершаются в пределах 20-40 тыс., 5% заказов чек дороже 28000. И у 1% заказов чек дороже 58 тыс. 233 р. .</div>"
   ]
  },
  {
   "cell_type": "markdown",
   "id": "09612ff0",
   "metadata": {},
   "source": [
    " ### Посчитайте статистическую значимость различий в конверсии между группами по «сырым» данным. "
   ]
  },
  {
   "cell_type": "code",
   "execution_count": 37,
   "id": "f23c1a76",
   "metadata": {},
   "outputs": [
    {
     "name": "stdout",
     "output_type": "stream",
     "text": [
      "Покупатели в A: 503\n",
      "Покупки в А: 557\n",
      "Посетители в A: 18736\n",
      "\n",
      "Покупатели в B: 586\n",
      "Покупки в B: 640\n",
      "Посетители в B: 18916\n",
      "\n",
      "Относительный прирост конверсии B к A: 0.138\n",
      "P-value: 0.016792355056752608\n",
      "Отвергаем нулевую гипотезу\n"
     ]
    }
   ],
   "source": [
    "# произведем стистическую значимость различий в конверсии между группами \n",
    "OU_A = orders[orders['group']=='A'].groupby('visitorId', as_index=False).agg({'transactionId':'nunique'})\n",
    "OU_A.columns = ['visitorId', 'orders']\n",
    "OU_B = orders[orders['group']=='B'].groupby('visitorId', as_index=False).agg({'transactionId':'nunique'})\n",
    "OU_B.columns = ['visitorId', 'orders']\n",
    "print('Покупатели в A: {}'.format(len(OU_A)))\n",
    "print('Покупки в А: {}'.format(OU_A['orders'].sum()))\n",
    "print('Посетители в A: {}\\n'.format(visitors[visitors['group']=='A']['visitors'].sum()))\n",
    "print('Покупатели в B: {}'.format(len(OU_B)))\n",
    "print('Покупки в B: {}'.format(OU_B['orders'].sum()))\n",
    "print('Посетители в B: {}'.format(visitors[visitors['group']=='B']['visitors'].sum()))\n",
    "\n",
    " \n",
    "zakazy_1 =[]\n",
    "for i in range(0,(visitors[visitors['group']=='A']['visitors'].sum()-len(OU_A))):\n",
    "    zakazy_1.append(0)\n",
    "zak_non_user_A = pd.Series(data = zakazy_1, name = 'orders')\n",
    "\n",
    "zakazy_2 =[]\n",
    "for i in range(0,(visitors[visitors['group']=='B']['visitors'].sum()-len(OU_B))):\n",
    "    zakazy_2.append(0)\n",
    "zak_non_user_B = pd.Series(data = zakazy_2, name = 'orders')\n",
    "\n",
    "# по тесту на структурном подходе Уилкоксона-Манна-Уитни\n",
    "A = pd.concat([OU_A['orders'], zak_non_user_A], axis=0)\n",
    "B = pd.concat([OU_B['orders'], zak_non_user_B], axis=0)\n",
    "print('\\nОтносительный прирост конверсии B к A: {:.3f}'.format(B.mean()/A.mean()-1))\n",
    "alpha = 0.05 # критический уровень статистической значимости\n",
    "results = stats.mannwhitneyu(A, B)\n",
    "print('P-value: {}'.format(results.pvalue))\n",
    "if results.pvalue < alpha:\n",
    "    print('Отвергаем нулевую гипотезу')\n",
    "else:\n",
    "    print('Не получилось отвергнуть нулевую гипотезу')"
   ]
  },
  {
   "cell_type": "markdown",
   "id": "4504b0c2",
   "metadata": {},
   "source": [
    "<div class=\"alert alert-info\"> <b>Комментарий студента V_1:</b> H1, имеется статистическая разница. Здесь мы отвергаем нулевую гипотезу  </div"
   ]
  },
  {
   "cell_type": "markdown",
   "id": "67cda4dd",
   "metadata": {},
   "source": [
    "### Посчитайте статистическую значимость различий в среднем чеке заказа между группами по «сырым» данным."
   ]
  },
  {
   "cell_type": "code",
   "execution_count": 38,
   "id": "3d76ef9c",
   "metadata": {},
   "outputs": [
    {
     "name": "stdout",
     "output_type": "stream",
     "text": [
      "Изменение среднего чека в B к A: 0.259\n",
      "P-value: 0.7292909855432458\n",
      "Не получилось отвергнуть, вывод о различии сделать нельзя\n"
     ]
    }
   ],
   "source": [
    "# так же по тесту на структурном подходе Уилкоксона-Манна-Уитни\n",
    "print('Изменение среднего чека в B к A: {:.3f}'.format(orders[orders['group']=='B']['revenue'].mean()/orders[orders['group']=='A']['revenue'].mean()-1))\n",
    "results = stats.mannwhitneyu(orders[orders['group']=='A']['revenue'], orders[orders['group']=='B']['revenue'])\n",
    "print('P-value: {}'.format(results.pvalue))\n",
    "if results.pvalue < alpha:\n",
    "    print('Отвергаем, разница статистически значима')\n",
    "else:\n",
    "    print('Не получилось отвергнуть, вывод о различии сделать нельзя')"
   ]
  },
  {
   "cell_type": "markdown",
   "id": "ddf12520",
   "metadata": {},
   "source": [
    "<div class=\"alert alert-info\"> <b>Комментарий студента V_1:</b> в связи с тем, что вывод о различии сдлеать нельзя мы не отвергаем H0  </div>"
   ]
  },
  {
   "cell_type": "markdown",
   "id": "e127cf22",
   "metadata": {},
   "source": [
    "### Посчитайте статистическую значимость различий в конверсии между группами по «очищенным» данным. "
   ]
  },
  {
   "cell_type": "code",
   "execution_count": 39,
   "id": "6e80b32e",
   "metadata": {},
   "outputs": [],
   "source": [
    "zakazy_lim = 2 # предельное колическтво заказов согласно перцентиль \n",
    "dengi_lim = 28000 # предельная сумма покупки согласно перцентиль"
   ]
  },
  {
   "cell_type": "code",
   "execution_count": 40,
   "id": "35bf6ed8",
   "metadata": {},
   "outputs": [
    {
     "name": "stdout",
     "output_type": "stream",
     "text": [
      "Аномальные пользователи: 74\n"
     ]
    }
   ],
   "source": [
    "# Считаем аномальные показатели\n",
    "bolsh_zak = pd.concat([OU_A[OU_A['orders']>zakazy_lim]['visitorId'], OU_B[OU_B['orders']>zakazy_lim]['visitorId']], axis = 0)\n",
    "dor_zak = orders[orders['revenue']>dengi_lim]['visitorId']\n",
    "anom_zak = pd.concat([bolsh_zak, dor_zak], axis = 0).drop_duplicates().sort_values()\n",
    "print('Аномальные пользователи: {}'.format(len(anom_zak)))"
   ]
  },
  {
   "cell_type": "code",
   "execution_count": 41,
   "id": "4a4bb3bf",
   "metadata": {},
   "outputs": [
    {
     "name": "stdout",
     "output_type": "stream",
     "text": [
      "\n",
      "Прирост конверсии B к A после очистки данных: 0.173\n",
      "P-value: 0.013042592743036745\n",
      "Отвергаем нулевую гипотезу\n"
     ]
    }
   ],
   "source": [
    "# так же по тесту на структурном подходе Уилкоксона-Манна-Уитни\n",
    "filt_zak_A = pd.concat([OU_A[np.logical_not(OU_A['visitorId'].isin(anom_zak))]['orders'],zak_non_user_A], axis = 0)\n",
    "filt_zak_B = pd.concat([OU_B[np.logical_not(OU_B['visitorId'].isin(anom_zak))]['orders'],zak_non_user_B], axis = 0)\n",
    "print('\\nПрирост конверсии B к A после очистки данных: {:.3f}'.format(filt_zak_B.mean()/filt_zak_A.mean()-1))\n",
    "results = stats.mannwhitneyu(filt_zak_A, filt_zak_B)\n",
    "print('P-value: {}'.format(results.pvalue))\n",
    "if results.pvalue < alpha:\n",
    "    print('Отвергаем нулевую гипотезу')\n",
    "else:\n",
    "    print('Не получилось отвергнуть нулевую гипотезу')"
   ]
  },
  {
   "cell_type": "markdown",
   "id": "dafc84fe",
   "metadata": {},
   "source": [
    "<div class=\"alert alert-info\"> <b>Комментарий студента V_1:</b> H1, имеется статистическая разница. Здесь мы отвергаем нулевую гипотезу  </div>"
   ]
  },
  {
   "cell_type": "markdown",
   "id": "cbbb3c80",
   "metadata": {},
   "source": [
    "### Посчитайте статистическую значимость различий в среднем чеке заказа между группами по «очищенным» данным."
   ]
  },
  {
   "cell_type": "code",
   "execution_count": 42,
   "id": "442b2771",
   "metadata": {},
   "outputs": [
    {
     "name": "stdout",
     "output_type": "stream",
     "text": [
      " Изменение среднего чека в B к A после очистки данных: -0.020\n",
      "P-value: 0.738481751314565\n",
      "Не получилось отвергнуть, вывод о различии сделать нельзя\n"
     ]
    }
   ],
   "source": [
    "# так же по тесту на структурном подходе Уилкоксона-Манна-Уитни\n",
    "print(' Изменение среднего чека в B к A после очистки данных: {:.3f}'.format(orders[np.logical_and(orders['group']=='B', np.logical_not(orders['visitorId'].isin(anom_zak)))]['revenue'].mean()\\\n",
    "/orders[np.logical_and(orders['group']=='A', np.logical_not(orders['visitorId'].isin(anom_zak)))]['revenue'].mean()-1))              \n",
    "results = stats.mannwhitneyu(orders[np.logical_and(orders['group']=='A', np.logical_not(orders['visitorId'].isin(anom_zak)))]['revenue'],orders[np.logical_and(orders['group']=='B', np.logical_not(orders['visitorId'].isin(anom_zak)))]['revenue'])\n",
    "print('P-value: {}'.format(results.pvalue))\n",
    "if results.pvalue < alpha:\n",
    "    print('Отвергаем, разница статистически значима')\n",
    "else:\n",
    "    print('Не получилось отвергнуть, вывод о различии сделать нельзя')"
   ]
  },
  {
   "cell_type": "markdown",
   "id": "c634dddd",
   "metadata": {},
   "source": [
    "<div class=\"alert alert-info\"> <b>Комментарий студента V_1:</b> вывода о разлии нет, мы не отвергаем H0  </div>"
   ]
  },
  {
   "cell_type": "markdown",
   "id": "cf721a58",
   "metadata": {},
   "source": [
    "### Примите решение по результатам теста и объясните его. Варианты решений: 1. Остановить тест, зафиксировать победу одной из групп. 2. Остановить тест, зафиксировать отсутствие различий между группами. 3. Продолжить тест."
   ]
  },
  {
   "cell_type": "markdown",
   "id": "35dad7ac",
   "metadata": {},
   "source": [
    "<div class=\"alert alert-info\"> <b>Вывод:</b>  ПО вышеполученным результатам можно сказать что граппа В победила. Различий в средних чеках между группами нет, но по статистики группа В превосходит группу А. Касаемо выручки, можно отметить , что конверсия может влиять на выручку , в этом случае в группе В увеличилась выручка в связи с увелечением конверсии.\n",
    "Вариант решения 1 . Остановить тест.</div>"
   ]
  },
  {
   "cell_type": "markdown",
   "id": "e016e68c",
   "metadata": {},
   "source": [
    "<div class=\"alert alert-info\"> <b>Общий вывод</b> В общем выводе можно сказать что были проведены: 1) исследования по гипотизам ICE и RICE, где мы увидели изменения приоритетов в связи с учетом охвата изменений. 2) Анализ А/В теста , где были рассмотрены комулятивные метрики, но после анализа оставалась не определенность в связи с вариантом аномалий, 3) Аномалии были изучены и пришли к выводу , что в основном делали не более 2 заказов и не выше 28 тыс. 4) в статических значимосях различий была выевлена группа победитель и было предложено остановить тест. "
   ]
  }
 ],
 "metadata": {
  "ExecuteTimeLog": [
   {
    "duration": 1670,
    "start_time": "2022-04-05T13:23:20.828Z"
   },
   {
    "duration": 36,
    "start_time": "2022-04-05T13:23:24.069Z"
   },
   {
    "duration": 3,
    "start_time": "2022-04-05T13:23:40.829Z"
   },
   {
    "duration": 97,
    "start_time": "2022-04-05T13:24:03.902Z"
   },
   {
    "duration": 7,
    "start_time": "2022-04-05T13:24:19.206Z"
   },
   {
    "duration": 8,
    "start_time": "2022-04-05T13:24:42.454Z"
   },
   {
    "duration": 11,
    "start_time": "2022-04-05T13:25:11.430Z"
   },
   {
    "duration": 7,
    "start_time": "2022-04-05T13:25:17.886Z"
   },
   {
    "duration": 12,
    "start_time": "2022-04-05T13:25:59.654Z"
   },
   {
    "duration": 16,
    "start_time": "2022-04-05T13:26:16.239Z"
   },
   {
    "duration": 159,
    "start_time": "2022-04-05T13:26:50.502Z"
   },
   {
    "duration": 6,
    "start_time": "2022-04-05T13:26:55.445Z"
   },
   {
    "duration": 6,
    "start_time": "2022-04-05T13:27:19.447Z"
   },
   {
    "duration": 7,
    "start_time": "2022-04-05T13:28:11.918Z"
   },
   {
    "duration": 10,
    "start_time": "2022-04-05T13:28:17.159Z"
   },
   {
    "duration": 11,
    "start_time": "2022-04-05T13:28:21.047Z"
   },
   {
    "duration": 6,
    "start_time": "2022-04-05T13:28:23.382Z"
   },
   {
    "duration": 6,
    "start_time": "2022-04-05T13:28:25.471Z"
   },
   {
    "duration": 10,
    "start_time": "2022-04-05T13:31:11.464Z"
   },
   {
    "duration": 8,
    "start_time": "2022-04-05T13:31:13.345Z"
   },
   {
    "duration": 6,
    "start_time": "2022-04-05T13:31:14.967Z"
   },
   {
    "duration": 5,
    "start_time": "2022-04-05T13:31:16.527Z"
   },
   {
    "duration": 15,
    "start_time": "2022-04-05T13:38:05.750Z"
   },
   {
    "duration": 11,
    "start_time": "2022-04-05T13:38:28.405Z"
   },
   {
    "duration": 10,
    "start_time": "2022-04-05T13:38:34.574Z"
   },
   {
    "duration": 6,
    "start_time": "2022-04-05T13:38:42.654Z"
   },
   {
    "duration": 9,
    "start_time": "2022-04-05T13:38:43.735Z"
   },
   {
    "duration": 9,
    "start_time": "2022-04-05T13:39:06.238Z"
   },
   {
    "duration": 5,
    "start_time": "2022-04-05T13:41:57.734Z"
   },
   {
    "duration": 10,
    "start_time": "2022-04-05T13:42:28.623Z"
   },
   {
    "duration": 129,
    "start_time": "2022-04-05T13:54:04.177Z"
   },
   {
    "duration": 186,
    "start_time": "2022-04-05T13:54:11.798Z"
   },
   {
    "duration": 122,
    "start_time": "2022-04-05T13:54:28.377Z"
   },
   {
    "duration": 167,
    "start_time": "2022-04-05T13:54:37.691Z"
   },
   {
    "duration": 9,
    "start_time": "2022-04-05T13:54:40.159Z"
   },
   {
    "duration": 118,
    "start_time": "2022-04-05T13:54:40.776Z"
   },
   {
    "duration": 8,
    "start_time": "2022-04-05T13:55:02.593Z"
   },
   {
    "duration": 4,
    "start_time": "2022-04-05T13:55:03.080Z"
   },
   {
    "duration": 10,
    "start_time": "2022-04-05T13:55:03.644Z"
   },
   {
    "duration": 4,
    "start_time": "2022-04-05T13:55:04.320Z"
   },
   {
    "duration": 9,
    "start_time": "2022-04-05T13:55:06.968Z"
   },
   {
    "duration": 148,
    "start_time": "2022-04-05T13:55:07.624Z"
   },
   {
    "duration": 11,
    "start_time": "2022-04-05T13:57:25.649Z"
   },
   {
    "duration": 6,
    "start_time": "2022-04-05T14:00:24.929Z"
   },
   {
    "duration": 6,
    "start_time": "2022-04-05T14:03:12.506Z"
   },
   {
    "duration": 6,
    "start_time": "2022-04-05T14:05:31.163Z"
   },
   {
    "duration": 5,
    "start_time": "2022-04-05T14:05:50.395Z"
   },
   {
    "duration": 7,
    "start_time": "2022-04-05T14:06:20.948Z"
   },
   {
    "duration": 7,
    "start_time": "2022-04-05T14:06:34.075Z"
   },
   {
    "duration": 7,
    "start_time": "2022-04-05T14:06:36.196Z"
   },
   {
    "duration": 5,
    "start_time": "2022-04-05T14:07:05.589Z"
   },
   {
    "duration": 4,
    "start_time": "2022-04-05T14:12:56.096Z"
   },
   {
    "duration": 6,
    "start_time": "2022-04-05T14:14:46.361Z"
   },
   {
    "duration": 6,
    "start_time": "2022-04-05T14:15:59.675Z"
   },
   {
    "duration": 10,
    "start_time": "2022-04-05T14:18:54.562Z"
   },
   {
    "duration": 134,
    "start_time": "2022-04-05T14:45:10.216Z"
   },
   {
    "duration": 15,
    "start_time": "2022-04-05T14:47:02.183Z"
   },
   {
    "duration": 14,
    "start_time": "2022-04-05T14:47:16.791Z"
   },
   {
    "duration": 14,
    "start_time": "2022-04-05T14:47:19.886Z"
   },
   {
    "duration": 19,
    "start_time": "2022-04-05T14:47:34.144Z"
   },
   {
    "duration": 23,
    "start_time": "2022-04-05T14:47:43.200Z"
   },
   {
    "duration": 140,
    "start_time": "2022-04-05T14:47:55.391Z"
   },
   {
    "duration": 1874,
    "start_time": "2022-04-05T14:48:11.128Z"
   },
   {
    "duration": 14,
    "start_time": "2022-04-05T14:49:12.431Z"
   },
   {
    "duration": 13,
    "start_time": "2022-04-05T14:49:15.415Z"
   },
   {
    "duration": 16,
    "start_time": "2022-04-05T14:49:29.943Z"
   },
   {
    "duration": 16,
    "start_time": "2022-04-05T14:49:58.271Z"
   },
   {
    "duration": 138,
    "start_time": "2022-04-05T14:50:04.239Z"
   },
   {
    "duration": 16,
    "start_time": "2022-04-05T14:50:19.856Z"
   },
   {
    "duration": 15,
    "start_time": "2022-04-05T14:51:03.207Z"
   },
   {
    "duration": 16,
    "start_time": "2022-04-05T14:51:17.956Z"
   },
   {
    "duration": 15,
    "start_time": "2022-04-05T14:52:06.879Z"
   },
   {
    "duration": 15,
    "start_time": "2022-04-05T14:52:52.592Z"
   },
   {
    "duration": 198,
    "start_time": "2022-04-05T14:52:55.751Z"
   },
   {
    "duration": 16,
    "start_time": "2022-04-05T14:52:59.720Z"
   },
   {
    "duration": 14,
    "start_time": "2022-04-05T14:53:27.255Z"
   },
   {
    "duration": 7,
    "start_time": "2022-04-05T14:54:22.040Z"
   },
   {
    "duration": 3715,
    "start_time": "2022-04-05T14:54:41.746Z"
   },
   {
    "duration": 5,
    "start_time": "2022-04-05T14:55:57.256Z"
   },
   {
    "duration": 15,
    "start_time": "2022-04-05T14:56:34.632Z"
   },
   {
    "duration": 131,
    "start_time": "2022-04-05T14:58:56.056Z"
   },
   {
    "duration": 254,
    "start_time": "2022-04-05T14:59:25.616Z"
   },
   {
    "duration": 181,
    "start_time": "2022-04-05T15:01:09.352Z"
   },
   {
    "duration": 244,
    "start_time": "2022-04-05T15:02:26.546Z"
   },
   {
    "duration": 303,
    "start_time": "2022-04-05T15:02:50.001Z"
   },
   {
    "duration": 196,
    "start_time": "2022-04-05T15:05:50.906Z"
   },
   {
    "duration": 19,
    "start_time": "2022-04-05T15:06:25.098Z"
   },
   {
    "duration": 202,
    "start_time": "2022-04-05T15:06:29.547Z"
   },
   {
    "duration": 164,
    "start_time": "2022-04-05T15:06:33.873Z"
   },
   {
    "duration": 278,
    "start_time": "2022-04-05T15:06:39.850Z"
   },
   {
    "duration": 19,
    "start_time": "2022-04-05T15:06:44.361Z"
   },
   {
    "duration": 194,
    "start_time": "2022-04-05T15:06:48.810Z"
   },
   {
    "duration": 173,
    "start_time": "2022-04-05T15:08:56.273Z"
   },
   {
    "duration": 219,
    "start_time": "2022-04-05T15:09:00.690Z"
   },
   {
    "duration": 309,
    "start_time": "2022-04-05T15:09:31.930Z"
   },
   {
    "duration": 164,
    "start_time": "2022-04-05T15:09:38.450Z"
   },
   {
    "duration": 159,
    "start_time": "2022-04-05T15:09:46.202Z"
   },
   {
    "duration": 150,
    "start_time": "2022-04-05T15:09:59.713Z"
   },
   {
    "duration": 234,
    "start_time": "2022-04-05T15:10:36.970Z"
   },
   {
    "duration": 290,
    "start_time": "2022-04-05T15:10:46.546Z"
   },
   {
    "duration": 201,
    "start_time": "2022-04-05T15:10:55.986Z"
   },
   {
    "duration": 403,
    "start_time": "2022-04-05T15:11:05.602Z"
   },
   {
    "duration": 191,
    "start_time": "2022-04-05T15:11:11.402Z"
   },
   {
    "duration": 13,
    "start_time": "2022-04-05T15:11:35.650Z"
   },
   {
    "duration": 13,
    "start_time": "2022-04-05T15:11:41.866Z"
   },
   {
    "duration": 15,
    "start_time": "2022-04-05T15:11:54.074Z"
   },
   {
    "duration": 15,
    "start_time": "2022-04-05T15:12:00.298Z"
   },
   {
    "duration": 16,
    "start_time": "2022-04-05T15:12:16.827Z"
   },
   {
    "duration": 201,
    "start_time": "2022-04-05T15:12:27.418Z"
   },
   {
    "duration": 280,
    "start_time": "2022-04-05T15:12:29.234Z"
   },
   {
    "duration": 9,
    "start_time": "2022-04-05T15:17:31.279Z"
   },
   {
    "duration": 12,
    "start_time": "2022-04-05T15:20:02.583Z"
   },
   {
    "duration": 12,
    "start_time": "2022-04-05T15:20:09.400Z"
   },
   {
    "duration": 6,
    "start_time": "2022-04-05T15:20:16.719Z"
   },
   {
    "duration": 13,
    "start_time": "2022-04-05T15:20:43.055Z"
   },
   {
    "duration": 6,
    "start_time": "2022-04-05T15:20:53.856Z"
   },
   {
    "duration": 9,
    "start_time": "2022-04-05T15:21:32.872Z"
   },
   {
    "duration": 1987,
    "start_time": "2022-04-05T15:21:40.673Z"
   },
   {
    "duration": 131,
    "start_time": "2022-04-05T15:22:03.632Z"
   },
   {
    "duration": 122,
    "start_time": "2022-04-05T15:23:29.753Z"
   },
   {
    "duration": 121,
    "start_time": "2022-04-05T15:23:37.169Z"
   },
   {
    "duration": 125,
    "start_time": "2022-04-05T15:23:46.201Z"
   },
   {
    "duration": 10,
    "start_time": "2022-04-05T15:26:43.498Z"
   },
   {
    "duration": 6,
    "start_time": "2022-04-05T15:27:33.179Z"
   },
   {
    "duration": 141,
    "start_time": "2022-04-05T15:28:48.779Z"
   },
   {
    "duration": 111,
    "start_time": "2022-04-05T15:29:59.253Z"
   },
   {
    "duration": 136,
    "start_time": "2022-04-05T15:30:04.283Z"
   },
   {
    "duration": 5,
    "start_time": "2022-04-05T15:32:06.021Z"
   },
   {
    "duration": 4,
    "start_time": "2022-04-05T15:32:47.852Z"
   },
   {
    "duration": 484,
    "start_time": "2022-04-05T15:36:25.245Z"
   },
   {
    "duration": 587,
    "start_time": "2022-04-05T15:36:58.870Z"
   },
   {
    "duration": 167,
    "start_time": "2022-04-05T15:37:27.542Z"
   },
   {
    "duration": 132,
    "start_time": "2022-04-05T15:37:54.110Z"
   },
   {
    "duration": 193,
    "start_time": "2022-04-05T15:38:03.064Z"
   },
   {
    "duration": 128,
    "start_time": "2022-04-05T15:38:16.946Z"
   },
   {
    "duration": 17,
    "start_time": "2022-04-05T15:38:36.230Z"
   },
   {
    "duration": 2699,
    "start_time": "2022-04-05T15:38:41.137Z"
   },
   {
    "duration": 10,
    "start_time": "2022-04-05T15:38:57.614Z"
   },
   {
    "duration": 10,
    "start_time": "2022-04-05T15:39:20.374Z"
   },
   {
    "duration": 8,
    "start_time": "2022-04-05T15:39:34.294Z"
   },
   {
    "duration": 9,
    "start_time": "2022-04-05T15:40:09.487Z"
   },
   {
    "duration": 7,
    "start_time": "2022-04-05T15:40:17.262Z"
   },
   {
    "duration": 11,
    "start_time": "2022-04-05T15:41:20.255Z"
   },
   {
    "duration": 11,
    "start_time": "2022-04-05T15:42:16.767Z"
   },
   {
    "duration": 17,
    "start_time": "2022-04-05T15:42:19.431Z"
   },
   {
    "duration": 10,
    "start_time": "2022-04-05T15:42:57.368Z"
   },
   {
    "duration": 11,
    "start_time": "2022-04-05T15:43:01.894Z"
   },
   {
    "duration": 10,
    "start_time": "2022-04-05T15:43:56.384Z"
   },
   {
    "duration": 1174,
    "start_time": "2022-04-05T15:45:17.727Z"
   },
   {
    "duration": 46,
    "start_time": "2022-04-05T15:45:18.904Z"
   },
   {
    "duration": 11,
    "start_time": "2022-04-05T15:45:18.952Z"
   },
   {
    "duration": 13,
    "start_time": "2022-04-05T15:45:18.965Z"
   },
   {
    "duration": 5,
    "start_time": "2022-04-05T15:45:18.980Z"
   },
   {
    "duration": 10,
    "start_time": "2022-04-05T15:45:18.987Z"
   },
   {
    "duration": 9,
    "start_time": "2022-04-05T15:45:18.999Z"
   },
   {
    "duration": 12,
    "start_time": "2022-04-05T15:45:19.010Z"
   },
   {
    "duration": 106,
    "start_time": "2022-04-05T15:45:19.032Z"
   },
   {
    "duration": 0,
    "start_time": "2022-04-05T15:45:19.142Z"
   },
   {
    "duration": 0,
    "start_time": "2022-04-05T15:45:19.145Z"
   },
   {
    "duration": 0,
    "start_time": "2022-04-05T15:45:19.146Z"
   },
   {
    "duration": 0,
    "start_time": "2022-04-05T15:45:19.149Z"
   },
   {
    "duration": 0,
    "start_time": "2022-04-05T15:45:19.150Z"
   },
   {
    "duration": 0,
    "start_time": "2022-04-05T15:45:19.151Z"
   },
   {
    "duration": 0,
    "start_time": "2022-04-05T15:45:19.152Z"
   },
   {
    "duration": 0,
    "start_time": "2022-04-05T15:45:19.153Z"
   },
   {
    "duration": 0,
    "start_time": "2022-04-05T15:45:19.154Z"
   },
   {
    "duration": 0,
    "start_time": "2022-04-05T15:45:19.155Z"
   },
   {
    "duration": 0,
    "start_time": "2022-04-05T15:45:19.156Z"
   },
   {
    "duration": 0,
    "start_time": "2022-04-05T15:45:19.157Z"
   },
   {
    "duration": 0,
    "start_time": "2022-04-05T15:45:19.158Z"
   },
   {
    "duration": 0,
    "start_time": "2022-04-05T15:45:19.158Z"
   },
   {
    "duration": 0,
    "start_time": "2022-04-05T15:45:19.159Z"
   },
   {
    "duration": 1,
    "start_time": "2022-04-05T15:45:19.160Z"
   },
   {
    "duration": 0,
    "start_time": "2022-04-05T15:45:19.161Z"
   },
   {
    "duration": 0,
    "start_time": "2022-04-05T15:45:19.162Z"
   },
   {
    "duration": 0,
    "start_time": "2022-04-05T15:45:19.163Z"
   },
   {
    "duration": 0,
    "start_time": "2022-04-05T15:45:19.165Z"
   },
   {
    "duration": 0,
    "start_time": "2022-04-05T15:45:19.166Z"
   },
   {
    "duration": 0,
    "start_time": "2022-04-05T15:45:19.167Z"
   },
   {
    "duration": 0,
    "start_time": "2022-04-05T15:45:19.167Z"
   },
   {
    "duration": 0,
    "start_time": "2022-04-05T15:45:19.168Z"
   },
   {
    "duration": 0,
    "start_time": "2022-04-05T15:45:19.169Z"
   },
   {
    "duration": 0,
    "start_time": "2022-04-05T15:45:19.170Z"
   },
   {
    "duration": 0,
    "start_time": "2022-04-05T15:45:19.171Z"
   },
   {
    "duration": 0,
    "start_time": "2022-04-05T15:45:19.172Z"
   },
   {
    "duration": 0,
    "start_time": "2022-04-05T15:45:19.173Z"
   },
   {
    "duration": 0,
    "start_time": "2022-04-05T15:45:19.174Z"
   },
   {
    "duration": 0,
    "start_time": "2022-04-05T15:45:19.175Z"
   },
   {
    "duration": 0,
    "start_time": "2022-04-05T15:45:19.175Z"
   },
   {
    "duration": 0,
    "start_time": "2022-04-05T15:45:19.176Z"
   },
   {
    "duration": 0,
    "start_time": "2022-04-05T15:45:19.234Z"
   },
   {
    "duration": 0,
    "start_time": "2022-04-05T15:45:19.236Z"
   },
   {
    "duration": 0,
    "start_time": "2022-04-05T15:45:19.241Z"
   },
   {
    "duration": 0,
    "start_time": "2022-04-05T15:45:19.242Z"
   },
   {
    "duration": 1104,
    "start_time": "2022-04-05T15:45:39.594Z"
   },
   {
    "duration": 44,
    "start_time": "2022-04-05T15:45:40.700Z"
   },
   {
    "duration": 12,
    "start_time": "2022-04-05T15:45:40.746Z"
   },
   {
    "duration": 13,
    "start_time": "2022-04-05T15:45:40.759Z"
   },
   {
    "duration": 5,
    "start_time": "2022-04-05T15:45:40.774Z"
   },
   {
    "duration": 10,
    "start_time": "2022-04-05T15:45:40.781Z"
   },
   {
    "duration": 6,
    "start_time": "2022-04-05T15:45:40.792Z"
   },
   {
    "duration": 13,
    "start_time": "2022-04-05T15:45:40.799Z"
   },
   {
    "duration": 32,
    "start_time": "2022-04-05T15:45:40.813Z"
   },
   {
    "duration": 9,
    "start_time": "2022-04-05T15:45:40.848Z"
   },
   {
    "duration": 13,
    "start_time": "2022-04-05T15:45:40.859Z"
   },
   {
    "duration": 7,
    "start_time": "2022-04-05T15:45:40.873Z"
   },
   {
    "duration": 6,
    "start_time": "2022-04-05T15:45:40.882Z"
   },
   {
    "duration": 43,
    "start_time": "2022-04-05T15:45:40.892Z"
   },
   {
    "duration": 12,
    "start_time": "2022-04-05T15:45:40.937Z"
   },
   {
    "duration": 7,
    "start_time": "2022-04-05T15:45:40.951Z"
   },
   {
    "duration": 10,
    "start_time": "2022-04-05T15:45:40.960Z"
   },
   {
    "duration": 9,
    "start_time": "2022-04-05T15:45:40.972Z"
   },
   {
    "duration": 6,
    "start_time": "2022-04-05T15:45:40.983Z"
   },
   {
    "duration": 13,
    "start_time": "2022-04-05T15:45:40.991Z"
   },
   {
    "duration": 9,
    "start_time": "2022-04-05T15:45:41.032Z"
   },
   {
    "duration": 13,
    "start_time": "2022-04-05T15:45:41.044Z"
   },
   {
    "duration": 8,
    "start_time": "2022-04-05T15:45:41.059Z"
   },
   {
    "duration": 117,
    "start_time": "2022-04-05T15:45:41.068Z"
   },
   {
    "duration": 0,
    "start_time": "2022-04-05T15:45:41.186Z"
   },
   {
    "duration": 0,
    "start_time": "2022-04-05T15:45:41.188Z"
   },
   {
    "duration": 0,
    "start_time": "2022-04-05T15:45:41.189Z"
   },
   {
    "duration": 0,
    "start_time": "2022-04-05T15:45:41.189Z"
   },
   {
    "duration": 0,
    "start_time": "2022-04-05T15:45:41.190Z"
   },
   {
    "duration": 0,
    "start_time": "2022-04-05T15:45:41.191Z"
   },
   {
    "duration": 0,
    "start_time": "2022-04-05T15:45:41.192Z"
   },
   {
    "duration": 0,
    "start_time": "2022-04-05T15:45:41.193Z"
   },
   {
    "duration": 0,
    "start_time": "2022-04-05T15:45:41.194Z"
   },
   {
    "duration": 0,
    "start_time": "2022-04-05T15:45:41.195Z"
   },
   {
    "duration": 0,
    "start_time": "2022-04-05T15:45:41.196Z"
   },
   {
    "duration": 0,
    "start_time": "2022-04-05T15:45:41.197Z"
   },
   {
    "duration": 0,
    "start_time": "2022-04-05T15:45:41.198Z"
   },
   {
    "duration": 0,
    "start_time": "2022-04-05T15:45:41.199Z"
   },
   {
    "duration": 0,
    "start_time": "2022-04-05T15:45:41.200Z"
   },
   {
    "duration": 0,
    "start_time": "2022-04-05T15:45:41.201Z"
   },
   {
    "duration": 0,
    "start_time": "2022-04-05T15:45:41.202Z"
   },
   {
    "duration": 0,
    "start_time": "2022-04-05T15:45:41.203Z"
   },
   {
    "duration": 0,
    "start_time": "2022-04-05T15:45:41.204Z"
   },
   {
    "duration": 0,
    "start_time": "2022-04-05T15:45:41.233Z"
   },
   {
    "duration": 0,
    "start_time": "2022-04-05T15:45:41.236Z"
   },
   {
    "duration": 1172,
    "start_time": "2022-04-05T15:45:54.604Z"
   },
   {
    "duration": 36,
    "start_time": "2022-04-05T15:45:55.778Z"
   },
   {
    "duration": 11,
    "start_time": "2022-04-05T15:45:55.816Z"
   },
   {
    "duration": 25,
    "start_time": "2022-04-05T15:45:55.829Z"
   },
   {
    "duration": 5,
    "start_time": "2022-04-05T15:45:55.857Z"
   },
   {
    "duration": 11,
    "start_time": "2022-04-05T15:45:55.863Z"
   },
   {
    "duration": 6,
    "start_time": "2022-04-05T15:45:55.876Z"
   },
   {
    "duration": 14,
    "start_time": "2022-04-05T15:45:55.883Z"
   },
   {
    "duration": 11,
    "start_time": "2022-04-05T15:45:55.899Z"
   },
   {
    "duration": 30,
    "start_time": "2022-04-05T15:45:55.912Z"
   },
   {
    "duration": 17,
    "start_time": "2022-04-05T15:45:55.944Z"
   },
   {
    "duration": 8,
    "start_time": "2022-04-05T15:45:55.963Z"
   },
   {
    "duration": 5,
    "start_time": "2022-04-05T15:45:55.973Z"
   },
   {
    "duration": 7,
    "start_time": "2022-04-05T15:45:55.981Z"
   },
   {
    "duration": 10,
    "start_time": "2022-04-05T15:45:55.990Z"
   },
   {
    "duration": 34,
    "start_time": "2022-04-05T15:45:56.001Z"
   },
   {
    "duration": 23,
    "start_time": "2022-04-05T15:45:56.037Z"
   },
   {
    "duration": 9,
    "start_time": "2022-04-05T15:45:56.062Z"
   },
   {
    "duration": 8,
    "start_time": "2022-04-05T15:45:56.073Z"
   },
   {
    "duration": 8,
    "start_time": "2022-04-05T15:45:56.083Z"
   },
   {
    "duration": 7,
    "start_time": "2022-04-05T15:45:56.093Z"
   },
   {
    "duration": 10,
    "start_time": "2022-04-05T15:45:56.102Z"
   },
   {
    "duration": 26,
    "start_time": "2022-04-05T15:45:56.114Z"
   },
   {
    "duration": 24,
    "start_time": "2022-04-05T15:45:56.143Z"
   },
   {
    "duration": 17,
    "start_time": "2022-04-05T15:45:56.169Z"
   },
   {
    "duration": 6,
    "start_time": "2022-04-05T15:45:56.187Z"
   },
   {
    "duration": 7,
    "start_time": "2022-04-05T15:45:56.195Z"
   },
   {
    "duration": 37,
    "start_time": "2022-04-05T15:45:56.203Z"
   },
   {
    "duration": 268,
    "start_time": "2022-04-05T15:45:56.242Z"
   },
   {
    "duration": 198,
    "start_time": "2022-04-05T15:45:56.512Z"
   },
   {
    "duration": 324,
    "start_time": "2022-04-05T15:45:56.712Z"
   },
   {
    "duration": 214,
    "start_time": "2022-04-05T15:45:57.038Z"
   },
   {
    "duration": 287,
    "start_time": "2022-04-05T15:45:57.254Z"
   },
   {
    "duration": 9,
    "start_time": "2022-04-05T15:45:57.543Z"
   },
   {
    "duration": 25,
    "start_time": "2022-04-05T15:45:57.554Z"
   },
   {
    "duration": 16,
    "start_time": "2022-04-05T15:45:57.581Z"
   },
   {
    "duration": 128,
    "start_time": "2022-04-05T15:45:57.598Z"
   },
   {
    "duration": 10,
    "start_time": "2022-04-05T15:45:57.733Z"
   },
   {
    "duration": 157,
    "start_time": "2022-04-05T15:45:57.746Z"
   },
   {
    "duration": 5,
    "start_time": "2022-04-05T15:45:57.905Z"
   },
   {
    "duration": 7,
    "start_time": "2022-04-05T15:45:57.914Z"
   },
   {
    "duration": 15,
    "start_time": "2022-04-05T15:45:57.934Z"
   },
   {
    "duration": 15,
    "start_time": "2022-04-05T15:45:57.951Z"
   },
   {
    "duration": 116,
    "start_time": "2022-04-05T15:45:57.968Z"
   },
   {
    "duration": 11,
    "start_time": "2022-04-05T15:46:05.457Z"
   },
   {
    "duration": 7,
    "start_time": "2022-04-05T15:47:00.947Z"
   },
   {
    "duration": 8,
    "start_time": "2022-04-05T15:48:32.209Z"
   },
   {
    "duration": 295,
    "start_time": "2022-04-05T15:49:58.240Z"
   },
   {
    "duration": 300,
    "start_time": "2022-04-05T15:50:05.433Z"
   },
   {
    "duration": 351,
    "start_time": "2022-04-05T15:50:19.072Z"
   },
   {
    "duration": 279,
    "start_time": "2022-04-05T15:50:30.953Z"
   },
   {
    "duration": 305,
    "start_time": "2022-04-05T15:50:41.513Z"
   },
   {
    "duration": 271,
    "start_time": "2022-04-05T15:50:48.577Z"
   },
   {
    "duration": 72,
    "start_time": "2022-04-06T08:33:28.103Z"
   },
   {
    "duration": 10,
    "start_time": "2022-04-06T08:33:36.344Z"
   },
   {
    "duration": 11,
    "start_time": "2022-04-06T08:38:14.618Z"
   },
   {
    "duration": 11,
    "start_time": "2022-04-06T08:38:20.426Z"
   },
   {
    "duration": 163,
    "start_time": "2022-04-06T08:39:52.226Z"
   },
   {
    "duration": 12,
    "start_time": "2022-04-06T08:40:08.137Z"
   },
   {
    "duration": 1707,
    "start_time": "2022-04-06T10:07:18.264Z"
   },
   {
    "duration": 87,
    "start_time": "2022-04-06T10:07:23.654Z"
   },
   {
    "duration": 13,
    "start_time": "2022-04-06T12:50:04.150Z"
   },
   {
    "duration": 13,
    "start_time": "2022-04-06T12:50:36.054Z"
   },
   {
    "duration": 13,
    "start_time": "2022-04-06T12:55:29.422Z"
   },
   {
    "duration": 22,
    "start_time": "2022-04-06T12:57:20.079Z"
   },
   {
    "duration": 12,
    "start_time": "2022-04-06T12:58:28.954Z"
   },
   {
    "duration": 20,
    "start_time": "2022-04-06T12:59:47.360Z"
   },
   {
    "duration": 1525,
    "start_time": "2022-04-06T13:00:11.393Z"
   },
   {
    "duration": 41,
    "start_time": "2022-04-06T13:00:12.921Z"
   },
   {
    "duration": 16,
    "start_time": "2022-04-06T13:00:12.964Z"
   },
   {
    "duration": 38,
    "start_time": "2022-04-06T13:00:12.982Z"
   },
   {
    "duration": 22,
    "start_time": "2022-04-06T13:00:13.023Z"
   },
   {
    "duration": 46,
    "start_time": "2022-04-06T13:00:13.048Z"
   },
   {
    "duration": 35,
    "start_time": "2022-04-06T13:00:13.096Z"
   },
   {
    "duration": 31,
    "start_time": "2022-04-06T13:00:13.133Z"
   },
   {
    "duration": 29,
    "start_time": "2022-04-06T13:00:13.167Z"
   },
   {
    "duration": 40,
    "start_time": "2022-04-06T13:00:13.198Z"
   },
   {
    "duration": 45,
    "start_time": "2022-04-06T13:00:13.241Z"
   },
   {
    "duration": 31,
    "start_time": "2022-04-06T13:00:13.288Z"
   },
   {
    "duration": 30,
    "start_time": "2022-04-06T13:00:13.321Z"
   },
   {
    "duration": 28,
    "start_time": "2022-04-06T13:00:13.355Z"
   },
   {
    "duration": 37,
    "start_time": "2022-04-06T13:00:13.386Z"
   },
   {
    "duration": 29,
    "start_time": "2022-04-06T13:00:13.426Z"
   },
   {
    "duration": 33,
    "start_time": "2022-04-06T13:00:13.457Z"
   },
   {
    "duration": 32,
    "start_time": "2022-04-06T13:00:13.492Z"
   },
   {
    "duration": 23,
    "start_time": "2022-04-06T13:00:13.526Z"
   },
   {
    "duration": 39,
    "start_time": "2022-04-06T13:00:13.551Z"
   },
   {
    "duration": 32,
    "start_time": "2022-04-06T13:00:13.592Z"
   },
   {
    "duration": 37,
    "start_time": "2022-04-06T13:00:13.626Z"
   },
   {
    "duration": 40,
    "start_time": "2022-04-06T13:00:13.665Z"
   },
   {
    "duration": 50,
    "start_time": "2022-04-06T13:00:13.707Z"
   },
   {
    "duration": 31,
    "start_time": "2022-04-06T13:00:13.760Z"
   },
   {
    "duration": 19,
    "start_time": "2022-04-06T13:00:13.793Z"
   },
   {
    "duration": 62,
    "start_time": "2022-04-06T13:00:13.815Z"
   },
   {
    "duration": 40,
    "start_time": "2022-04-06T13:00:13.879Z"
   },
   {
    "duration": 509,
    "start_time": "2022-04-06T13:00:13.921Z"
   },
   {
    "duration": 422,
    "start_time": "2022-04-06T13:00:14.433Z"
   },
   {
    "duration": 446,
    "start_time": "2022-04-06T13:00:14.858Z"
   },
   {
    "duration": 331,
    "start_time": "2022-04-06T13:00:15.307Z"
   },
   {
    "duration": 402,
    "start_time": "2022-04-06T13:00:15.641Z"
   },
   {
    "duration": 10,
    "start_time": "2022-04-06T13:00:16.046Z"
   },
   {
    "duration": 35,
    "start_time": "2022-04-06T13:00:16.059Z"
   },
   {
    "duration": 28,
    "start_time": "2022-04-06T13:00:16.097Z"
   },
   {
    "duration": 207,
    "start_time": "2022-04-06T13:00:16.127Z"
   },
   {
    "duration": 9,
    "start_time": "2022-04-06T13:00:16.337Z"
   },
   {
    "duration": 239,
    "start_time": "2022-04-06T13:00:16.349Z"
   },
   {
    "duration": 9,
    "start_time": "2022-04-06T13:00:16.591Z"
   },
   {
    "duration": 99,
    "start_time": "2022-04-06T13:00:16.607Z"
   },
   {
    "duration": 7,
    "start_time": "2022-04-06T13:00:16.709Z"
   },
   {
    "duration": 22,
    "start_time": "2022-04-06T13:00:16.719Z"
   },
   {
    "duration": 28,
    "start_time": "2022-04-06T13:00:16.743Z"
   },
   {
    "duration": 10,
    "start_time": "2022-04-06T13:00:16.784Z"
   },
   {
    "duration": 29,
    "start_time": "2022-04-06T13:00:16.797Z"
   },
   {
    "duration": 4466,
    "start_time": "2022-04-06T13:00:16.828Z"
   },
   {
    "duration": 75,
    "start_time": "2022-04-06T13:19:42.416Z"
   },
   {
    "duration": 77,
    "start_time": "2022-04-06T13:23:14.513Z"
   },
   {
    "duration": 78,
    "start_time": "2022-04-06T13:27:32.178Z"
   },
   {
    "duration": 23,
    "start_time": "2022-04-06T13:27:34.282Z"
   },
   {
    "duration": 4,
    "start_time": "2022-04-06T13:32:29.698Z"
   },
   {
    "duration": 19,
    "start_time": "2022-04-06T13:36:15.467Z"
   },
   {
    "duration": 4,
    "start_time": "2022-04-06T13:36:23.866Z"
   },
   {
    "duration": 13,
    "start_time": "2022-04-06T13:36:24.451Z"
   },
   {
    "duration": 12,
    "start_time": "2022-04-06T13:38:53.055Z"
   },
   {
    "duration": 12,
    "start_time": "2022-04-06T13:43:33.437Z"
   },
   {
    "duration": 38,
    "start_time": "2022-04-06T13:43:34.038Z"
   },
   {
    "duration": 19,
    "start_time": "2022-04-06T13:46:59.943Z"
   },
   {
    "duration": 30,
    "start_time": "2022-04-06T13:47:11.943Z"
   },
   {
    "duration": 1932,
    "start_time": "2022-04-06T13:50:48.512Z"
   },
   {
    "duration": 84,
    "start_time": "2022-04-06T13:50:50.448Z"
   },
   {
    "duration": 19,
    "start_time": "2022-04-06T13:50:50.534Z"
   },
   {
    "duration": 23,
    "start_time": "2022-04-06T13:50:50.557Z"
   },
   {
    "duration": 8,
    "start_time": "2022-04-06T13:50:50.583Z"
   },
   {
    "duration": 18,
    "start_time": "2022-04-06T13:50:50.593Z"
   },
   {
    "duration": 10,
    "start_time": "2022-04-06T13:50:50.614Z"
   },
   {
    "duration": 26,
    "start_time": "2022-04-06T13:50:50.626Z"
   },
   {
    "duration": 29,
    "start_time": "2022-04-06T13:50:50.683Z"
   },
   {
    "duration": 17,
    "start_time": "2022-04-06T13:50:50.720Z"
   },
   {
    "duration": 59,
    "start_time": "2022-04-06T13:50:50.740Z"
   },
   {
    "duration": 19,
    "start_time": "2022-04-06T13:50:50.802Z"
   },
   {
    "duration": 13,
    "start_time": "2022-04-06T13:50:50.824Z"
   },
   {
    "duration": 50,
    "start_time": "2022-04-06T13:50:50.841Z"
   },
   {
    "duration": 26,
    "start_time": "2022-04-06T13:50:50.894Z"
   },
   {
    "duration": 22,
    "start_time": "2022-04-06T13:50:50.923Z"
   },
   {
    "duration": 39,
    "start_time": "2022-04-06T13:50:50.949Z"
   },
   {
    "duration": 20,
    "start_time": "2022-04-06T13:50:50.991Z"
   },
   {
    "duration": 13,
    "start_time": "2022-04-06T13:50:51.013Z"
   },
   {
    "duration": 14,
    "start_time": "2022-04-06T13:50:51.029Z"
   },
   {
    "duration": 46,
    "start_time": "2022-04-06T13:50:51.046Z"
   },
   {
    "duration": 25,
    "start_time": "2022-04-06T13:50:51.096Z"
   },
   {
    "duration": 13,
    "start_time": "2022-04-06T13:50:51.124Z"
   },
   {
    "duration": 66,
    "start_time": "2022-04-06T13:50:51.140Z"
   },
   {
    "duration": 37,
    "start_time": "2022-04-06T13:50:51.209Z"
   },
   {
    "duration": 34,
    "start_time": "2022-04-06T13:50:51.250Z"
   },
   {
    "duration": 11,
    "start_time": "2022-04-06T13:50:51.288Z"
   },
   {
    "duration": 17,
    "start_time": "2022-04-06T13:50:51.308Z"
   },
   {
    "duration": 769,
    "start_time": "2022-04-06T13:50:51.329Z"
   },
   {
    "duration": 515,
    "start_time": "2022-04-06T13:50:52.102Z"
   },
   {
    "duration": 710,
    "start_time": "2022-04-06T13:50:52.621Z"
   },
   {
    "duration": 461,
    "start_time": "2022-04-06T13:50:53.334Z"
   },
   {
    "duration": 377,
    "start_time": "2022-04-06T13:50:53.797Z"
   },
   {
    "duration": 15,
    "start_time": "2022-04-06T13:50:54.183Z"
   },
   {
    "duration": 31,
    "start_time": "2022-04-06T13:50:54.202Z"
   },
   {
    "duration": 19,
    "start_time": "2022-04-06T13:50:54.236Z"
   },
   {
    "duration": 230,
    "start_time": "2022-04-06T13:50:54.286Z"
   },
   {
    "duration": 10,
    "start_time": "2022-04-06T13:50:54.519Z"
   },
   {
    "duration": 433,
    "start_time": "2022-04-06T13:50:54.532Z"
   },
   {
    "duration": 16,
    "start_time": "2022-04-06T13:50:54.968Z"
   },
   {
    "duration": 221,
    "start_time": "2022-04-06T13:50:54.986Z"
   },
   {
    "duration": 0,
    "start_time": "2022-04-06T13:50:55.211Z"
   },
   {
    "duration": 0,
    "start_time": "2022-04-06T13:50:55.213Z"
   },
   {
    "duration": 0,
    "start_time": "2022-04-06T13:50:55.215Z"
   },
   {
    "duration": 0,
    "start_time": "2022-04-06T13:50:55.217Z"
   },
   {
    "duration": 0,
    "start_time": "2022-04-06T13:50:55.220Z"
   },
   {
    "duration": 78,
    "start_time": "2022-04-06T13:51:26.979Z"
   },
   {
    "duration": 1869,
    "start_time": "2022-04-06T13:51:34.995Z"
   },
   {
    "duration": 54,
    "start_time": "2022-04-06T13:51:36.868Z"
   },
   {
    "duration": 26,
    "start_time": "2022-04-06T13:51:36.925Z"
   },
   {
    "duration": 30,
    "start_time": "2022-04-06T13:51:36.954Z"
   },
   {
    "duration": 8,
    "start_time": "2022-04-06T13:51:36.988Z"
   },
   {
    "duration": 20,
    "start_time": "2022-04-06T13:51:36.999Z"
   },
   {
    "duration": 9,
    "start_time": "2022-04-06T13:51:37.022Z"
   },
   {
    "duration": 25,
    "start_time": "2022-04-06T13:51:37.033Z"
   },
   {
    "duration": 48,
    "start_time": "2022-04-06T13:51:37.061Z"
   },
   {
    "duration": 18,
    "start_time": "2022-04-06T13:51:37.112Z"
   },
   {
    "duration": 24,
    "start_time": "2022-04-06T13:51:37.133Z"
   },
   {
    "duration": 29,
    "start_time": "2022-04-06T13:51:37.160Z"
   },
   {
    "duration": 9,
    "start_time": "2022-04-06T13:51:37.191Z"
   },
   {
    "duration": 11,
    "start_time": "2022-04-06T13:51:37.205Z"
   },
   {
    "duration": 14,
    "start_time": "2022-04-06T13:51:37.219Z"
   },
   {
    "duration": 50,
    "start_time": "2022-04-06T13:51:37.235Z"
   },
   {
    "duration": 16,
    "start_time": "2022-04-06T13:51:37.288Z"
   },
   {
    "duration": 21,
    "start_time": "2022-04-06T13:51:37.307Z"
   },
   {
    "duration": 11,
    "start_time": "2022-04-06T13:51:37.330Z"
   },
   {
    "duration": 41,
    "start_time": "2022-04-06T13:51:37.343Z"
   },
   {
    "duration": 10,
    "start_time": "2022-04-06T13:51:37.388Z"
   },
   {
    "duration": 19,
    "start_time": "2022-04-06T13:51:37.401Z"
   },
   {
    "duration": 13,
    "start_time": "2022-04-06T13:51:37.423Z"
   },
   {
    "duration": 80,
    "start_time": "2022-04-06T13:51:37.439Z"
   },
   {
    "duration": 32,
    "start_time": "2022-04-06T13:51:37.522Z"
   },
   {
    "duration": 27,
    "start_time": "2022-04-06T13:51:37.556Z"
   },
   {
    "duration": 9,
    "start_time": "2022-04-06T13:51:37.588Z"
   },
   {
    "duration": 19,
    "start_time": "2022-04-06T13:51:37.600Z"
   },
   {
    "duration": 685,
    "start_time": "2022-04-06T13:51:37.622Z"
   },
   {
    "duration": 433,
    "start_time": "2022-04-06T13:51:38.310Z"
   },
   {
    "duration": 526,
    "start_time": "2022-04-06T13:51:38.746Z"
   },
   {
    "duration": 497,
    "start_time": "2022-04-06T13:51:39.275Z"
   },
   {
    "duration": 589,
    "start_time": "2022-04-06T13:51:39.776Z"
   },
   {
    "duration": 23,
    "start_time": "2022-04-06T13:51:40.368Z"
   },
   {
    "duration": 21,
    "start_time": "2022-04-06T13:51:40.394Z"
   },
   {
    "duration": 18,
    "start_time": "2022-04-06T13:51:40.418Z"
   },
   {
    "duration": 246,
    "start_time": "2022-04-06T13:51:40.438Z"
   },
   {
    "duration": 13,
    "start_time": "2022-04-06T13:51:40.688Z"
   },
   {
    "duration": 259,
    "start_time": "2022-04-06T13:51:40.704Z"
   },
   {
    "duration": 18,
    "start_time": "2022-04-06T13:51:40.966Z"
   },
   {
    "duration": 154,
    "start_time": "2022-04-06T13:51:40.992Z"
   },
   {
    "duration": 39,
    "start_time": "2022-04-06T13:51:41.150Z"
   },
   {
    "duration": 4,
    "start_time": "2022-04-06T13:51:41.194Z"
   },
   {
    "duration": 284,
    "start_time": "2022-04-06T13:51:41.202Z"
   },
   {
    "duration": 0,
    "start_time": "2022-04-06T13:51:41.489Z"
   },
   {
    "duration": 0,
    "start_time": "2022-04-06T13:51:41.492Z"
   },
   {
    "duration": 1526,
    "start_time": "2022-04-06T13:52:32.542Z"
   },
   {
    "duration": 46,
    "start_time": "2022-04-06T13:52:34.071Z"
   },
   {
    "duration": 24,
    "start_time": "2022-04-06T13:52:34.121Z"
   },
   {
    "duration": 32,
    "start_time": "2022-04-06T13:52:34.148Z"
   },
   {
    "duration": 9,
    "start_time": "2022-04-06T13:52:34.184Z"
   },
   {
    "duration": 28,
    "start_time": "2022-04-06T13:52:34.196Z"
   },
   {
    "duration": 19,
    "start_time": "2022-04-06T13:52:34.228Z"
   },
   {
    "duration": 47,
    "start_time": "2022-04-06T13:52:34.249Z"
   },
   {
    "duration": 22,
    "start_time": "2022-04-06T13:52:34.299Z"
   },
   {
    "duration": 22,
    "start_time": "2022-04-06T13:52:34.324Z"
   },
   {
    "duration": 41,
    "start_time": "2022-04-06T13:52:34.349Z"
   },
   {
    "duration": 14,
    "start_time": "2022-04-06T13:52:34.393Z"
   },
   {
    "duration": 9,
    "start_time": "2022-04-06T13:52:34.410Z"
   },
   {
    "duration": 14,
    "start_time": "2022-04-06T13:52:34.424Z"
   },
   {
    "duration": 11,
    "start_time": "2022-04-06T13:52:34.441Z"
   },
   {
    "duration": 10,
    "start_time": "2022-04-06T13:52:34.485Z"
   },
   {
    "duration": 18,
    "start_time": "2022-04-06T13:52:34.497Z"
   },
   {
    "duration": 15,
    "start_time": "2022-04-06T13:52:34.518Z"
   },
   {
    "duration": 48,
    "start_time": "2022-04-06T13:52:34.536Z"
   },
   {
    "duration": 16,
    "start_time": "2022-04-06T13:52:34.587Z"
   },
   {
    "duration": 15,
    "start_time": "2022-04-06T13:52:34.606Z"
   },
   {
    "duration": 22,
    "start_time": "2022-04-06T13:52:34.623Z"
   },
   {
    "duration": 36,
    "start_time": "2022-04-06T13:52:34.648Z"
   },
   {
    "duration": 29,
    "start_time": "2022-04-06T13:52:34.687Z"
   },
   {
    "duration": 23,
    "start_time": "2022-04-06T13:52:34.718Z"
   },
   {
    "duration": 7,
    "start_time": "2022-04-06T13:52:34.743Z"
   },
   {
    "duration": 8,
    "start_time": "2022-04-06T13:52:34.784Z"
   },
   {
    "duration": 19,
    "start_time": "2022-04-06T13:52:34.794Z"
   },
   {
    "duration": 617,
    "start_time": "2022-04-06T13:52:34.816Z"
   },
   {
    "duration": 428,
    "start_time": "2022-04-06T13:52:35.436Z"
   },
   {
    "duration": 541,
    "start_time": "2022-04-06T13:52:35.867Z"
   },
   {
    "duration": 382,
    "start_time": "2022-04-06T13:52:36.411Z"
   },
   {
    "duration": 392,
    "start_time": "2022-04-06T13:52:36.796Z"
   },
   {
    "duration": 10,
    "start_time": "2022-04-06T13:52:37.190Z"
   },
   {
    "duration": 16,
    "start_time": "2022-04-06T13:52:37.202Z"
   },
   {
    "duration": 16,
    "start_time": "2022-04-06T13:52:37.222Z"
   },
   {
    "duration": 258,
    "start_time": "2022-04-06T13:52:37.241Z"
   },
   {
    "duration": 9,
    "start_time": "2022-04-06T13:52:37.501Z"
   },
   {
    "duration": 360,
    "start_time": "2022-04-06T13:52:37.512Z"
   },
   {
    "duration": 15,
    "start_time": "2022-04-06T13:52:37.875Z"
   },
   {
    "duration": 108,
    "start_time": "2022-04-06T13:52:37.897Z"
   },
   {
    "duration": 18,
    "start_time": "2022-04-06T13:52:38.008Z"
   },
   {
    "duration": 10,
    "start_time": "2022-04-06T13:52:38.028Z"
   },
   {
    "duration": 47,
    "start_time": "2022-04-06T13:52:38.041Z"
   },
   {
    "duration": 41,
    "start_time": "2022-04-06T13:52:38.091Z"
   },
   {
    "duration": 52,
    "start_time": "2022-04-06T13:52:38.134Z"
   },
   {
    "duration": 121,
    "start_time": "2022-04-06T14:18:23.023Z"
   },
   {
    "duration": 1970,
    "start_time": "2022-04-06T14:18:30.706Z"
   },
   {
    "duration": 46,
    "start_time": "2022-04-06T14:18:32.679Z"
   },
   {
    "duration": 18,
    "start_time": "2022-04-06T14:18:32.727Z"
   },
   {
    "duration": 21,
    "start_time": "2022-04-06T14:18:32.750Z"
   },
   {
    "duration": 10,
    "start_time": "2022-04-06T14:18:32.773Z"
   },
   {
    "duration": 15,
    "start_time": "2022-04-06T14:18:32.786Z"
   },
   {
    "duration": 10,
    "start_time": "2022-04-06T14:18:32.804Z"
   },
   {
    "duration": 21,
    "start_time": "2022-04-06T14:18:32.816Z"
   },
   {
    "duration": 55,
    "start_time": "2022-04-06T14:18:32.840Z"
   },
   {
    "duration": 16,
    "start_time": "2022-04-06T14:18:32.898Z"
   },
   {
    "duration": 24,
    "start_time": "2022-04-06T14:18:32.916Z"
   },
   {
    "duration": 18,
    "start_time": "2022-04-06T14:18:32.942Z"
   },
   {
    "duration": 22,
    "start_time": "2022-04-06T14:18:32.985Z"
   },
   {
    "duration": 31,
    "start_time": "2022-04-06T14:18:33.009Z"
   },
   {
    "duration": 17,
    "start_time": "2022-04-06T14:18:33.042Z"
   },
   {
    "duration": 15,
    "start_time": "2022-04-06T14:18:33.062Z"
   },
   {
    "duration": 28,
    "start_time": "2022-04-06T14:18:33.079Z"
   },
   {
    "duration": 24,
    "start_time": "2022-04-06T14:18:33.110Z"
   },
   {
    "duration": 23,
    "start_time": "2022-04-06T14:18:33.137Z"
   },
   {
    "duration": 27,
    "start_time": "2022-04-06T14:18:33.163Z"
   },
   {
    "duration": 25,
    "start_time": "2022-04-06T14:18:33.193Z"
   },
   {
    "duration": 445,
    "start_time": "2022-04-06T14:18:33.221Z"
   },
   {
    "duration": 322,
    "start_time": "2022-04-06T14:18:33.669Z"
   },
   {
    "duration": 557,
    "start_time": "2022-04-06T14:18:33.993Z"
   },
   {
    "duration": 326,
    "start_time": "2022-04-06T14:18:34.552Z"
   },
   {
    "duration": 402,
    "start_time": "2022-04-06T14:18:34.884Z"
   },
   {
    "duration": 11,
    "start_time": "2022-04-06T14:18:35.289Z"
   },
   {
    "duration": 22,
    "start_time": "2022-04-06T14:18:35.306Z"
   },
   {
    "duration": 25,
    "start_time": "2022-04-06T14:18:35.331Z"
   },
   {
    "duration": 228,
    "start_time": "2022-04-06T14:18:35.359Z"
   },
   {
    "duration": 8,
    "start_time": "2022-04-06T14:18:35.589Z"
   },
   {
    "duration": 243,
    "start_time": "2022-04-06T14:18:35.601Z"
   },
   {
    "duration": 9,
    "start_time": "2022-04-06T14:18:35.847Z"
   },
   {
    "duration": 96,
    "start_time": "2022-04-06T14:18:35.859Z"
   },
   {
    "duration": 35,
    "start_time": "2022-04-06T14:18:35.958Z"
   },
   {
    "duration": 10,
    "start_time": "2022-04-06T14:18:35.995Z"
   },
   {
    "duration": 18,
    "start_time": "2022-04-06T14:18:36.007Z"
   },
   {
    "duration": 62,
    "start_time": "2022-04-06T14:18:36.028Z"
   },
   {
    "duration": 21,
    "start_time": "2022-04-06T14:18:36.092Z"
   },
   {
    "duration": 1438,
    "start_time": "2022-04-06T14:21:10.310Z"
   },
   {
    "duration": 42,
    "start_time": "2022-04-06T14:21:11.751Z"
   },
   {
    "duration": 16,
    "start_time": "2022-04-06T14:21:11.796Z"
   },
   {
    "duration": 17,
    "start_time": "2022-04-06T14:21:11.815Z"
   },
   {
    "duration": 7,
    "start_time": "2022-04-06T14:21:11.835Z"
   },
   {
    "duration": 48,
    "start_time": "2022-04-06T14:21:11.844Z"
   },
   {
    "duration": 6,
    "start_time": "2022-04-06T14:21:11.895Z"
   },
   {
    "duration": 19,
    "start_time": "2022-04-06T14:21:11.903Z"
   },
   {
    "duration": 16,
    "start_time": "2022-04-06T14:21:11.924Z"
   },
   {
    "duration": 46,
    "start_time": "2022-04-06T14:21:11.945Z"
   },
   {
    "duration": 23,
    "start_time": "2022-04-06T14:21:11.993Z"
   },
   {
    "duration": 10,
    "start_time": "2022-04-06T14:21:12.018Z"
   },
   {
    "duration": 15,
    "start_time": "2022-04-06T14:21:12.031Z"
   },
   {
    "duration": 10,
    "start_time": "2022-04-06T14:21:12.085Z"
   },
   {
    "duration": 8,
    "start_time": "2022-04-06T14:21:12.098Z"
   },
   {
    "duration": 10,
    "start_time": "2022-04-06T14:21:12.109Z"
   },
   {
    "duration": 70,
    "start_time": "2022-04-06T14:21:12.122Z"
   },
   {
    "duration": 31,
    "start_time": "2022-04-06T14:21:12.195Z"
   },
   {
    "duration": 8,
    "start_time": "2022-04-06T14:21:12.229Z"
   },
   {
    "duration": 14,
    "start_time": "2022-04-06T14:21:12.240Z"
   },
   {
    "duration": 43,
    "start_time": "2022-04-06T14:21:12.256Z"
   },
   {
    "duration": 634,
    "start_time": "2022-04-06T14:21:12.302Z"
   },
   {
    "duration": 319,
    "start_time": "2022-04-06T14:21:12.940Z"
   },
   {
    "duration": 570,
    "start_time": "2022-04-06T14:21:13.262Z"
   },
   {
    "duration": 395,
    "start_time": "2022-04-06T14:21:13.835Z"
   },
   {
    "duration": 413,
    "start_time": "2022-04-06T14:21:14.233Z"
   },
   {
    "duration": 9,
    "start_time": "2022-04-06T14:21:14.649Z"
   },
   {
    "duration": 30,
    "start_time": "2022-04-06T14:21:14.663Z"
   },
   {
    "duration": 10,
    "start_time": "2022-04-06T14:21:14.695Z"
   },
   {
    "duration": 230,
    "start_time": "2022-04-06T14:21:14.707Z"
   },
   {
    "duration": 8,
    "start_time": "2022-04-06T14:21:14.940Z"
   },
   {
    "duration": 240,
    "start_time": "2022-04-06T14:21:14.950Z"
   },
   {
    "duration": 9,
    "start_time": "2022-04-06T14:21:15.192Z"
   },
   {
    "duration": 125,
    "start_time": "2022-04-06T14:21:15.203Z"
   },
   {
    "duration": 19,
    "start_time": "2022-04-06T14:21:15.330Z"
   },
   {
    "duration": 8,
    "start_time": "2022-04-06T14:21:15.351Z"
   },
   {
    "duration": 14,
    "start_time": "2022-04-06T14:21:15.385Z"
   },
   {
    "duration": 39,
    "start_time": "2022-04-06T14:21:15.402Z"
   },
   {
    "duration": 59,
    "start_time": "2022-04-06T14:21:15.444Z"
   },
   {
    "duration": 151,
    "start_time": "2022-04-06T14:22:11.955Z"
   },
   {
    "duration": 2335,
    "start_time": "2022-04-06T14:22:21.920Z"
   },
   {
    "duration": 41,
    "start_time": "2022-04-06T14:22:24.258Z"
   },
   {
    "duration": 17,
    "start_time": "2022-04-06T14:22:24.301Z"
   },
   {
    "duration": 22,
    "start_time": "2022-04-06T14:22:24.321Z"
   },
   {
    "duration": 8,
    "start_time": "2022-04-06T14:22:24.347Z"
   },
   {
    "duration": 35,
    "start_time": "2022-04-06T14:22:24.357Z"
   },
   {
    "duration": 22,
    "start_time": "2022-04-06T14:22:24.395Z"
   },
   {
    "duration": 33,
    "start_time": "2022-04-06T14:22:24.419Z"
   },
   {
    "duration": 34,
    "start_time": "2022-04-06T14:22:24.455Z"
   },
   {
    "duration": 23,
    "start_time": "2022-04-06T14:22:24.493Z"
   },
   {
    "duration": 22,
    "start_time": "2022-04-06T14:22:24.518Z"
   },
   {
    "duration": 17,
    "start_time": "2022-04-06T14:22:24.543Z"
   },
   {
    "duration": 16,
    "start_time": "2022-04-06T14:22:24.584Z"
   },
   {
    "duration": 18,
    "start_time": "2022-04-06T14:22:24.603Z"
   },
   {
    "duration": 13,
    "start_time": "2022-04-06T14:22:24.624Z"
   },
   {
    "duration": 11,
    "start_time": "2022-04-06T14:22:24.640Z"
   },
   {
    "duration": 50,
    "start_time": "2022-04-06T14:22:24.653Z"
   },
   {
    "duration": 24,
    "start_time": "2022-04-06T14:22:24.705Z"
   },
   {
    "duration": 11,
    "start_time": "2022-04-06T14:22:24.732Z"
   },
   {
    "duration": 9,
    "start_time": "2022-04-06T14:22:24.746Z"
   },
   {
    "duration": 41,
    "start_time": "2022-04-06T14:22:24.757Z"
   },
   {
    "duration": 587,
    "start_time": "2022-04-06T14:22:24.799Z"
   },
   {
    "duration": 311,
    "start_time": "2022-04-06T14:22:25.388Z"
   },
   {
    "duration": 397,
    "start_time": "2022-04-06T14:22:25.702Z"
   },
   {
    "duration": 331,
    "start_time": "2022-04-06T14:22:26.102Z"
   },
   {
    "duration": 434,
    "start_time": "2022-04-06T14:22:26.435Z"
   },
   {
    "duration": 13,
    "start_time": "2022-04-06T14:22:26.871Z"
   },
   {
    "duration": 15,
    "start_time": "2022-04-06T14:22:26.888Z"
   },
   {
    "duration": 26,
    "start_time": "2022-04-06T14:22:26.906Z"
   },
   {
    "duration": 216,
    "start_time": "2022-04-06T14:22:26.934Z"
   },
   {
    "duration": 9,
    "start_time": "2022-04-06T14:22:27.153Z"
   },
   {
    "duration": 364,
    "start_time": "2022-04-06T14:22:27.165Z"
   },
   {
    "duration": 10,
    "start_time": "2022-04-06T14:22:27.532Z"
   },
   {
    "duration": 154,
    "start_time": "2022-04-06T14:22:27.544Z"
   },
   {
    "duration": 19,
    "start_time": "2022-04-06T14:22:27.701Z"
   },
   {
    "duration": 12,
    "start_time": "2022-04-06T14:22:27.722Z"
   },
   {
    "duration": 15,
    "start_time": "2022-04-06T14:22:27.737Z"
   },
   {
    "duration": 63,
    "start_time": "2022-04-06T14:22:27.754Z"
   },
   {
    "duration": 23,
    "start_time": "2022-04-06T14:22:27.819Z"
   },
   {
    "duration": 1304,
    "start_time": "2022-04-07T10:29:39.868Z"
   },
   {
    "duration": 1105,
    "start_time": "2022-04-07T10:29:53.607Z"
   },
   {
    "duration": 120,
    "start_time": "2022-04-07T10:29:54.713Z"
   },
   {
    "duration": 10,
    "start_time": "2022-04-07T10:29:54.834Z"
   },
   {
    "duration": 17,
    "start_time": "2022-04-07T10:29:54.846Z"
   },
   {
    "duration": 4,
    "start_time": "2022-04-07T10:29:54.865Z"
   },
   {
    "duration": 10,
    "start_time": "2022-04-07T10:29:54.870Z"
   },
   {
    "duration": 8,
    "start_time": "2022-04-07T10:29:54.882Z"
   },
   {
    "duration": 12,
    "start_time": "2022-04-07T10:29:54.891Z"
   },
   {
    "duration": 12,
    "start_time": "2022-04-07T10:29:54.905Z"
   },
   {
    "duration": 10,
    "start_time": "2022-04-07T10:29:54.918Z"
   },
   {
    "duration": 13,
    "start_time": "2022-04-07T10:29:54.930Z"
   },
   {
    "duration": 10,
    "start_time": "2022-04-07T10:29:54.944Z"
   },
   {
    "duration": 13,
    "start_time": "2022-04-07T10:29:54.956Z"
   },
   {
    "duration": 7,
    "start_time": "2022-04-07T10:29:54.980Z"
   },
   {
    "duration": 6,
    "start_time": "2022-04-07T10:29:54.988Z"
   },
   {
    "duration": 7,
    "start_time": "2022-04-07T10:29:54.995Z"
   },
   {
    "duration": 18,
    "start_time": "2022-04-07T10:29:55.003Z"
   },
   {
    "duration": 12,
    "start_time": "2022-04-07T10:29:55.022Z"
   },
   {
    "duration": 9,
    "start_time": "2022-04-07T10:29:55.036Z"
   },
   {
    "duration": 6,
    "start_time": "2022-04-07T10:29:55.047Z"
   },
   {
    "duration": 28,
    "start_time": "2022-04-07T10:29:55.054Z"
   },
   {
    "duration": 244,
    "start_time": "2022-04-07T10:29:55.083Z"
   },
   {
    "duration": 172,
    "start_time": "2022-04-07T10:29:55.329Z"
   },
   {
    "duration": 259,
    "start_time": "2022-04-07T10:29:55.502Z"
   },
   {
    "duration": 184,
    "start_time": "2022-04-07T10:29:55.763Z"
   },
   {
    "duration": 281,
    "start_time": "2022-04-07T10:29:55.949Z"
   },
   {
    "duration": 6,
    "start_time": "2022-04-07T10:29:56.231Z"
   },
   {
    "duration": 9,
    "start_time": "2022-04-07T10:29:56.239Z"
   },
   {
    "duration": 6,
    "start_time": "2022-04-07T10:29:56.249Z"
   },
   {
    "duration": 131,
    "start_time": "2022-04-07T10:29:56.257Z"
   },
   {
    "duration": 6,
    "start_time": "2022-04-07T10:29:56.390Z"
   },
   {
    "duration": 134,
    "start_time": "2022-04-07T10:29:56.398Z"
   },
   {
    "duration": 6,
    "start_time": "2022-04-07T10:29:56.534Z"
   },
   {
    "duration": 60,
    "start_time": "2022-04-07T10:29:56.542Z"
   },
   {
    "duration": 10,
    "start_time": "2022-04-07T10:29:56.604Z"
   },
   {
    "duration": 5,
    "start_time": "2022-04-07T10:29:56.615Z"
   },
   {
    "duration": 8,
    "start_time": "2022-04-07T10:29:56.622Z"
   },
   {
    "duration": 23,
    "start_time": "2022-04-07T10:29:56.632Z"
   },
   {
    "duration": 32,
    "start_time": "2022-04-07T10:29:56.657Z"
   },
   {
    "duration": 71,
    "start_time": "2022-04-07T14:52:43.093Z"
   },
   {
    "duration": 1679,
    "start_time": "2022-04-07T14:52:49.997Z"
   },
   {
    "duration": 68,
    "start_time": "2022-04-07T14:52:51.679Z"
   },
   {
    "duration": 18,
    "start_time": "2022-04-07T14:52:51.749Z"
   },
   {
    "duration": 21,
    "start_time": "2022-04-07T14:52:51.769Z"
   },
   {
    "duration": 6,
    "start_time": "2022-04-07T14:52:51.792Z"
   },
   {
    "duration": 17,
    "start_time": "2022-04-07T14:52:51.800Z"
   },
   {
    "duration": 6,
    "start_time": "2022-04-07T14:52:51.844Z"
   },
   {
    "duration": 20,
    "start_time": "2022-04-07T14:52:51.852Z"
   },
   {
    "duration": 16,
    "start_time": "2022-04-07T14:52:51.874Z"
   },
   {
    "duration": 17,
    "start_time": "2022-04-07T14:52:51.893Z"
   },
   {
    "duration": 51,
    "start_time": "2022-04-07T14:52:51.912Z"
   },
   {
    "duration": 12,
    "start_time": "2022-04-07T14:52:51.965Z"
   },
   {
    "duration": 14,
    "start_time": "2022-04-07T14:52:51.979Z"
   },
   {
    "duration": 13,
    "start_time": "2022-04-07T14:52:51.995Z"
   },
   {
    "duration": 33,
    "start_time": "2022-04-07T14:52:52.010Z"
   },
   {
    "duration": 14,
    "start_time": "2022-04-07T14:52:52.045Z"
   },
   {
    "duration": 28,
    "start_time": "2022-04-07T14:52:52.061Z"
   },
   {
    "duration": 22,
    "start_time": "2022-04-07T14:52:52.091Z"
   },
   {
    "duration": 28,
    "start_time": "2022-04-07T14:52:52.115Z"
   },
   {
    "duration": 10,
    "start_time": "2022-04-07T14:52:52.145Z"
   },
   {
    "duration": 26,
    "start_time": "2022-04-07T14:52:52.157Z"
   },
   {
    "duration": 424,
    "start_time": "2022-04-07T14:52:52.185Z"
   },
   {
    "duration": 293,
    "start_time": "2022-04-07T14:52:52.611Z"
   },
   {
    "duration": 455,
    "start_time": "2022-04-07T14:52:52.906Z"
   },
   {
    "duration": 317,
    "start_time": "2022-04-07T14:52:53.363Z"
   },
   {
    "duration": 360,
    "start_time": "2022-04-07T14:52:53.682Z"
   },
   {
    "duration": 8,
    "start_time": "2022-04-07T14:52:54.044Z"
   },
   {
    "duration": 23,
    "start_time": "2022-04-07T14:52:54.057Z"
   },
   {
    "duration": 14,
    "start_time": "2022-04-07T14:52:54.082Z"
   },
   {
    "duration": 209,
    "start_time": "2022-04-07T14:52:54.098Z"
   },
   {
    "duration": 7,
    "start_time": "2022-04-07T14:52:54.309Z"
   },
   {
    "duration": 227,
    "start_time": "2022-04-07T14:52:54.318Z"
   },
   {
    "duration": 8,
    "start_time": "2022-04-07T14:52:54.547Z"
   },
   {
    "duration": 90,
    "start_time": "2022-04-07T14:52:54.556Z"
   },
   {
    "duration": 15,
    "start_time": "2022-04-07T14:52:54.648Z"
   },
   {
    "duration": 5,
    "start_time": "2022-04-07T14:52:54.665Z"
   },
   {
    "duration": 18,
    "start_time": "2022-04-07T14:52:54.672Z"
   },
   {
    "duration": 60,
    "start_time": "2022-04-07T14:52:54.692Z"
   },
   {
    "duration": 20,
    "start_time": "2022-04-07T14:52:54.754Z"
   },
   {
    "duration": 223,
    "start_time": "2022-04-07T14:54:12.016Z"
   },
   {
    "duration": 209,
    "start_time": "2022-04-07T14:55:47.640Z"
   },
   {
    "duration": 201,
    "start_time": "2022-04-07T14:57:55.849Z"
   },
   {
    "duration": 77,
    "start_time": "2022-04-08T08:42:24.306Z"
   },
   {
    "duration": 1701,
    "start_time": "2022-04-08T08:42:34.241Z"
   },
   {
    "duration": 41,
    "start_time": "2022-04-08T08:42:35.946Z"
   },
   {
    "duration": 18,
    "start_time": "2022-04-08T08:42:35.990Z"
   },
   {
    "duration": 24,
    "start_time": "2022-04-08T08:42:36.011Z"
   },
   {
    "duration": 8,
    "start_time": "2022-04-08T08:42:36.040Z"
   },
   {
    "duration": 37,
    "start_time": "2022-04-08T08:42:36.050Z"
   },
   {
    "duration": 15,
    "start_time": "2022-04-08T08:42:36.090Z"
   },
   {
    "duration": 24,
    "start_time": "2022-04-08T08:42:36.107Z"
   },
   {
    "duration": 20,
    "start_time": "2022-04-08T08:42:36.134Z"
   },
   {
    "duration": 13,
    "start_time": "2022-04-08T08:42:36.174Z"
   },
   {
    "duration": 39,
    "start_time": "2022-04-08T08:42:36.190Z"
   },
   {
    "duration": 12,
    "start_time": "2022-04-08T08:42:36.232Z"
   },
   {
    "duration": 22,
    "start_time": "2022-04-08T08:42:36.273Z"
   },
   {
    "duration": 15,
    "start_time": "2022-04-08T08:42:36.301Z"
   },
   {
    "duration": 8,
    "start_time": "2022-04-08T08:42:36.319Z"
   },
   {
    "duration": 46,
    "start_time": "2022-04-08T08:42:36.329Z"
   },
   {
    "duration": 40,
    "start_time": "2022-04-08T08:42:36.378Z"
   },
   {
    "duration": 29,
    "start_time": "2022-04-08T08:42:36.421Z"
   },
   {
    "duration": 26,
    "start_time": "2022-04-08T08:42:36.453Z"
   },
   {
    "duration": 15,
    "start_time": "2022-04-08T08:42:36.482Z"
   },
   {
    "duration": 29,
    "start_time": "2022-04-08T08:42:36.499Z"
   },
   {
    "duration": 786,
    "start_time": "2022-04-08T08:42:36.531Z"
   },
   {
    "duration": 456,
    "start_time": "2022-04-08T08:42:37.320Z"
   },
   {
    "duration": 591,
    "start_time": "2022-04-08T08:42:37.779Z"
   },
   {
    "duration": 486,
    "start_time": "2022-04-08T08:42:38.375Z"
   },
   {
    "duration": 497,
    "start_time": "2022-04-08T08:42:38.864Z"
   },
   {
    "duration": 15,
    "start_time": "2022-04-08T08:42:39.363Z"
   },
   {
    "duration": 17,
    "start_time": "2022-04-08T08:42:39.381Z"
   },
   {
    "duration": 12,
    "start_time": "2022-04-08T08:42:39.400Z"
   },
   {
    "duration": 229,
    "start_time": "2022-04-08T08:42:39.414Z"
   },
   {
    "duration": 8,
    "start_time": "2022-04-08T08:42:39.645Z"
   },
   {
    "duration": 217,
    "start_time": "2022-04-08T08:42:39.674Z"
   },
   {
    "duration": 7,
    "start_time": "2022-04-08T08:42:39.894Z"
   },
   {
    "duration": 104,
    "start_time": "2022-04-08T08:42:39.904Z"
   },
   {
    "duration": 16,
    "start_time": "2022-04-08T08:42:40.011Z"
   },
   {
    "duration": 5,
    "start_time": "2022-04-08T08:42:40.029Z"
   },
   {
    "duration": 44,
    "start_time": "2022-04-08T08:42:40.036Z"
   },
   {
    "duration": 41,
    "start_time": "2022-04-08T08:42:40.082Z"
   },
   {
    "duration": 49,
    "start_time": "2022-04-08T08:42:40.125Z"
   },
   {
    "duration": 211,
    "start_time": "2022-04-08T08:43:10.110Z"
   },
   {
    "duration": 226,
    "start_time": "2022-04-08T08:43:16.774Z"
   },
   {
    "duration": 8,
    "start_time": "2022-04-08T08:49:42.944Z"
   },
   {
    "duration": 22,
    "start_time": "2022-04-08T10:35:06.306Z"
   },
   {
    "duration": 5,
    "start_time": "2022-04-08T12:48:06.916Z"
   },
   {
    "duration": 5,
    "start_time": "2022-04-08T12:48:32.511Z"
   },
   {
    "duration": 1379,
    "start_time": "2022-04-08T13:12:53.931Z"
   },
   {
    "duration": 42,
    "start_time": "2022-04-08T13:12:55.312Z"
   },
   {
    "duration": 15,
    "start_time": "2022-04-08T13:12:55.357Z"
   },
   {
    "duration": 20,
    "start_time": "2022-04-08T13:12:55.374Z"
   },
   {
    "duration": 6,
    "start_time": "2022-04-08T13:12:55.398Z"
   },
   {
    "duration": 14,
    "start_time": "2022-04-08T13:12:55.406Z"
   },
   {
    "duration": 5,
    "start_time": "2022-04-08T13:12:55.422Z"
   },
   {
    "duration": 56,
    "start_time": "2022-04-08T13:12:55.429Z"
   },
   {
    "duration": 15,
    "start_time": "2022-04-08T13:12:55.487Z"
   },
   {
    "duration": 14,
    "start_time": "2022-04-08T13:12:55.504Z"
   },
   {
    "duration": 20,
    "start_time": "2022-04-08T13:12:55.521Z"
   },
   {
    "duration": 39,
    "start_time": "2022-04-08T13:12:55.543Z"
   },
   {
    "duration": 16,
    "start_time": "2022-04-08T13:12:55.585Z"
   },
   {
    "duration": 21,
    "start_time": "2022-04-08T13:12:55.605Z"
   },
   {
    "duration": 10,
    "start_time": "2022-04-08T13:12:55.628Z"
   },
   {
    "duration": 7,
    "start_time": "2022-04-08T13:12:55.673Z"
   },
   {
    "duration": 25,
    "start_time": "2022-04-08T13:12:55.682Z"
   },
   {
    "duration": 22,
    "start_time": "2022-04-08T13:12:55.709Z"
   },
   {
    "duration": 41,
    "start_time": "2022-04-08T13:12:55.733Z"
   },
   {
    "duration": 7,
    "start_time": "2022-04-08T13:12:55.777Z"
   },
   {
    "duration": 19,
    "start_time": "2022-04-08T13:12:55.786Z"
   },
   {
    "duration": 444,
    "start_time": "2022-04-08T13:12:55.807Z"
   },
   {
    "duration": 370,
    "start_time": "2022-04-08T13:12:56.253Z"
   },
   {
    "duration": 445,
    "start_time": "2022-04-08T13:12:56.626Z"
   },
   {
    "duration": 318,
    "start_time": "2022-04-08T13:12:57.073Z"
   },
   {
    "duration": 365,
    "start_time": "2022-04-08T13:12:57.393Z"
   },
   {
    "duration": 13,
    "start_time": "2022-04-08T13:12:57.760Z"
   },
   {
    "duration": 14,
    "start_time": "2022-04-08T13:12:57.776Z"
   },
   {
    "duration": 11,
    "start_time": "2022-04-08T13:12:57.792Z"
   },
   {
    "duration": 218,
    "start_time": "2022-04-08T13:12:57.805Z"
   },
   {
    "duration": 8,
    "start_time": "2022-04-08T13:12:58.025Z"
   },
   {
    "duration": 222,
    "start_time": "2022-04-08T13:12:58.035Z"
   },
   {
    "duration": 17,
    "start_time": "2022-04-08T13:12:58.259Z"
   },
   {
    "duration": 71,
    "start_time": "2022-04-08T13:12:58.278Z"
   },
   {
    "duration": 38,
    "start_time": "2022-04-08T13:12:58.351Z"
   },
   {
    "duration": 4,
    "start_time": "2022-04-08T13:12:58.392Z"
   },
   {
    "duration": 14,
    "start_time": "2022-04-08T13:12:58.398Z"
   },
   {
    "duration": 69,
    "start_time": "2022-04-08T13:12:58.414Z"
   },
   {
    "duration": 20,
    "start_time": "2022-04-08T13:12:58.485Z"
   },
   {
    "duration": 156,
    "start_time": "2022-04-08T13:16:57.809Z"
   },
   {
    "duration": 1427,
    "start_time": "2022-04-08T13:17:04.224Z"
   },
   {
    "duration": 39,
    "start_time": "2022-04-08T13:17:05.654Z"
   },
   {
    "duration": 17,
    "start_time": "2022-04-08T13:17:05.696Z"
   },
   {
    "duration": 22,
    "start_time": "2022-04-08T13:17:05.717Z"
   },
   {
    "duration": 8,
    "start_time": "2022-04-08T13:17:05.742Z"
   },
   {
    "duration": 34,
    "start_time": "2022-04-08T13:17:05.752Z"
   },
   {
    "duration": 11,
    "start_time": "2022-04-08T13:17:05.789Z"
   },
   {
    "duration": 19,
    "start_time": "2022-04-08T13:17:05.802Z"
   },
   {
    "duration": 23,
    "start_time": "2022-04-08T13:17:05.824Z"
   },
   {
    "duration": 12,
    "start_time": "2022-04-08T13:17:05.876Z"
   },
   {
    "duration": 29,
    "start_time": "2022-04-08T13:17:05.890Z"
   },
   {
    "duration": 21,
    "start_time": "2022-04-08T13:17:05.922Z"
   },
   {
    "duration": 34,
    "start_time": "2022-04-08T13:17:05.946Z"
   },
   {
    "duration": 19,
    "start_time": "2022-04-08T13:17:05.982Z"
   },
   {
    "duration": 25,
    "start_time": "2022-04-08T13:17:06.003Z"
   },
   {
    "duration": 20,
    "start_time": "2022-04-08T13:17:06.031Z"
   },
   {
    "duration": 30,
    "start_time": "2022-04-08T13:17:06.053Z"
   },
   {
    "duration": 25,
    "start_time": "2022-04-08T13:17:06.085Z"
   },
   {
    "duration": 5,
    "start_time": "2022-04-08T13:17:06.112Z"
   },
   {
    "duration": 11,
    "start_time": "2022-04-08T13:17:06.119Z"
   },
   {
    "duration": 43,
    "start_time": "2022-04-08T13:17:06.132Z"
   },
   {
    "duration": 458,
    "start_time": "2022-04-08T13:17:06.178Z"
   },
   {
    "duration": 324,
    "start_time": "2022-04-08T13:17:06.639Z"
   },
   {
    "duration": 418,
    "start_time": "2022-04-08T13:17:06.966Z"
   },
   {
    "duration": 332,
    "start_time": "2022-04-08T13:17:07.387Z"
   },
   {
    "duration": 412,
    "start_time": "2022-04-08T13:17:07.722Z"
   },
   {
    "duration": 9,
    "start_time": "2022-04-08T13:17:08.136Z"
   },
   {
    "duration": 33,
    "start_time": "2022-04-08T13:17:08.149Z"
   },
   {
    "duration": 11,
    "start_time": "2022-04-08T13:17:08.185Z"
   },
   {
    "duration": 223,
    "start_time": "2022-04-08T13:17:08.199Z"
   },
   {
    "duration": 8,
    "start_time": "2022-04-08T13:17:08.425Z"
   },
   {
    "duration": 231,
    "start_time": "2022-04-08T13:17:08.435Z"
   },
   {
    "duration": 12,
    "start_time": "2022-04-08T13:17:08.668Z"
   },
   {
    "duration": 97,
    "start_time": "2022-04-08T13:17:08.683Z"
   },
   {
    "duration": 17,
    "start_time": "2022-04-08T13:17:08.782Z"
   },
   {
    "duration": 10,
    "start_time": "2022-04-08T13:17:08.802Z"
   },
   {
    "duration": 14,
    "start_time": "2022-04-08T13:17:08.815Z"
   },
   {
    "duration": 70,
    "start_time": "2022-04-08T13:17:08.831Z"
   },
   {
    "duration": 21,
    "start_time": "2022-04-08T13:17:08.904Z"
   },
   {
    "duration": 48,
    "start_time": "2022-04-14T08:32:09.538Z"
   },
   {
    "duration": 1612,
    "start_time": "2022-04-14T08:32:16.697Z"
   },
   {
    "duration": 36,
    "start_time": "2022-04-14T08:32:18.312Z"
   },
   {
    "duration": 15,
    "start_time": "2022-04-14T08:32:18.350Z"
   },
   {
    "duration": 19,
    "start_time": "2022-04-14T08:32:18.367Z"
   },
   {
    "duration": 6,
    "start_time": "2022-04-14T08:32:18.389Z"
   },
   {
    "duration": 13,
    "start_time": "2022-04-14T08:32:18.396Z"
   },
   {
    "duration": 6,
    "start_time": "2022-04-14T08:32:18.411Z"
   },
   {
    "duration": 33,
    "start_time": "2022-04-14T08:32:18.418Z"
   },
   {
    "duration": 13,
    "start_time": "2022-04-14T08:32:18.453Z"
   },
   {
    "duration": 11,
    "start_time": "2022-04-14T08:32:18.467Z"
   },
   {
    "duration": 14,
    "start_time": "2022-04-14T08:32:18.481Z"
   },
   {
    "duration": 9,
    "start_time": "2022-04-14T08:32:18.497Z"
   },
   {
    "duration": 45,
    "start_time": "2022-04-14T08:32:18.508Z"
   },
   {
    "duration": 7,
    "start_time": "2022-04-14T08:32:18.556Z"
   },
   {
    "duration": 6,
    "start_time": "2022-04-14T08:32:18.564Z"
   },
   {
    "duration": 10,
    "start_time": "2022-04-14T08:32:18.572Z"
   },
   {
    "duration": 19,
    "start_time": "2022-04-14T08:32:18.583Z"
   },
   {
    "duration": 44,
    "start_time": "2022-04-14T08:32:18.603Z"
   },
   {
    "duration": 5,
    "start_time": "2022-04-14T08:32:18.648Z"
   },
   {
    "duration": 16,
    "start_time": "2022-04-14T08:32:18.654Z"
   },
   {
    "duration": 14,
    "start_time": "2022-04-14T08:32:18.672Z"
   },
   {
    "duration": 264,
    "start_time": "2022-04-14T08:32:18.688Z"
   },
   {
    "duration": 197,
    "start_time": "2022-04-14T08:32:18.953Z"
   },
   {
    "duration": 323,
    "start_time": "2022-04-14T08:32:19.152Z"
   },
   {
    "duration": 209,
    "start_time": "2022-04-14T08:32:19.477Z"
   },
   {
    "duration": 267,
    "start_time": "2022-04-14T08:32:19.689Z"
   },
   {
    "duration": 7,
    "start_time": "2022-04-14T08:32:19.958Z"
   },
   {
    "duration": 12,
    "start_time": "2022-04-14T08:32:19.967Z"
   },
   {
    "duration": 8,
    "start_time": "2022-04-14T08:32:19.981Z"
   },
   {
    "duration": 210,
    "start_time": "2022-04-14T08:32:19.991Z"
   },
   {
    "duration": 7,
    "start_time": "2022-04-14T08:32:20.203Z"
   },
   {
    "duration": 201,
    "start_time": "2022-04-14T08:32:20.211Z"
   },
   {
    "duration": 6,
    "start_time": "2022-04-14T08:32:20.414Z"
   },
   {
    "duration": 61,
    "start_time": "2022-04-14T08:32:20.422Z"
   },
   {
    "duration": 13,
    "start_time": "2022-04-14T08:32:20.484Z"
   },
   {
    "duration": 5,
    "start_time": "2022-04-14T08:32:20.498Z"
   },
   {
    "duration": 12,
    "start_time": "2022-04-14T08:32:20.505Z"
   },
   {
    "duration": 65,
    "start_time": "2022-04-14T08:32:20.518Z"
   },
   {
    "duration": 16,
    "start_time": "2022-04-14T08:32:20.585Z"
   },
   {
    "duration": 1068,
    "start_time": "2022-04-14T08:55:41.016Z"
   },
   {
    "duration": 38,
    "start_time": "2022-04-14T08:55:42.086Z"
   },
   {
    "duration": 16,
    "start_time": "2022-04-14T08:55:42.125Z"
   },
   {
    "duration": 22,
    "start_time": "2022-04-14T08:55:42.143Z"
   },
   {
    "duration": 6,
    "start_time": "2022-04-14T08:55:42.168Z"
   },
   {
    "duration": 13,
    "start_time": "2022-04-14T08:55:42.176Z"
   },
   {
    "duration": 11,
    "start_time": "2022-04-14T08:55:42.191Z"
   },
   {
    "duration": 24,
    "start_time": "2022-04-14T08:55:42.204Z"
   },
   {
    "duration": 21,
    "start_time": "2022-04-14T08:55:42.230Z"
   },
   {
    "duration": 11,
    "start_time": "2022-04-14T08:55:42.253Z"
   },
   {
    "duration": 18,
    "start_time": "2022-04-14T08:55:42.266Z"
   },
   {
    "duration": 8,
    "start_time": "2022-04-14T08:55:42.286Z"
   },
   {
    "duration": 13,
    "start_time": "2022-04-14T08:55:42.296Z"
   },
   {
    "duration": 37,
    "start_time": "2022-04-14T08:55:42.312Z"
   },
   {
    "duration": 9,
    "start_time": "2022-04-14T08:55:42.351Z"
   },
   {
    "duration": 7,
    "start_time": "2022-04-14T08:55:42.362Z"
   },
   {
    "duration": 22,
    "start_time": "2022-04-14T08:55:42.371Z"
   },
   {
    "duration": 17,
    "start_time": "2022-04-14T08:55:42.395Z"
   },
   {
    "duration": 5,
    "start_time": "2022-04-14T08:55:42.413Z"
   },
   {
    "duration": 5,
    "start_time": "2022-04-14T08:55:42.446Z"
   },
   {
    "duration": 10,
    "start_time": "2022-04-14T08:55:42.453Z"
   },
   {
    "duration": 247,
    "start_time": "2022-04-14T08:55:42.465Z"
   },
   {
    "duration": 175,
    "start_time": "2022-04-14T08:55:42.714Z"
   },
   {
    "duration": 250,
    "start_time": "2022-04-14T08:55:42.891Z"
   },
   {
    "duration": 185,
    "start_time": "2022-04-14T08:55:43.148Z"
   },
   {
    "duration": 278,
    "start_time": "2022-04-14T08:55:43.335Z"
   },
   {
    "duration": 6,
    "start_time": "2022-04-14T08:55:43.615Z"
   },
   {
    "duration": 26,
    "start_time": "2022-04-14T08:55:43.622Z"
   },
   {
    "duration": 9,
    "start_time": "2022-04-14T08:55:43.650Z"
   },
   {
    "duration": 124,
    "start_time": "2022-04-14T08:55:43.661Z"
   },
   {
    "duration": 6,
    "start_time": "2022-04-14T08:55:43.787Z"
   },
   {
    "duration": 146,
    "start_time": "2022-04-14T08:55:43.795Z"
   },
   {
    "duration": 7,
    "start_time": "2022-04-14T08:55:43.943Z"
   },
   {
    "duration": 50,
    "start_time": "2022-04-14T08:55:43.952Z"
   },
   {
    "duration": 11,
    "start_time": "2022-04-14T08:55:44.003Z"
   },
   {
    "duration": 7,
    "start_time": "2022-04-14T08:55:44.015Z"
   },
   {
    "duration": 9,
    "start_time": "2022-04-14T08:55:44.047Z"
   },
   {
    "duration": 26,
    "start_time": "2022-04-14T08:55:44.058Z"
   },
   {
    "duration": 14,
    "start_time": "2022-04-14T08:55:44.086Z"
   },
   {
    "duration": 1401,
    "start_time": "2022-04-14T09:10:39.156Z"
   },
   {
    "duration": 43,
    "start_time": "2022-04-14T09:10:40.560Z"
   },
   {
    "duration": 12,
    "start_time": "2022-04-14T09:10:40.605Z"
   },
   {
    "duration": 14,
    "start_time": "2022-04-14T09:10:40.619Z"
   },
   {
    "duration": 5,
    "start_time": "2022-04-14T09:10:40.635Z"
   },
   {
    "duration": 10,
    "start_time": "2022-04-14T09:10:40.642Z"
   },
   {
    "duration": 7,
    "start_time": "2022-04-14T09:10:40.654Z"
   },
   {
    "duration": 13,
    "start_time": "2022-04-14T09:10:40.662Z"
   },
   {
    "duration": 10,
    "start_time": "2022-04-14T09:10:40.677Z"
   },
   {
    "duration": 10,
    "start_time": "2022-04-14T09:10:40.689Z"
   },
   {
    "duration": 22,
    "start_time": "2022-04-14T09:10:40.701Z"
   },
   {
    "duration": 8,
    "start_time": "2022-04-14T09:10:40.725Z"
   },
   {
    "duration": 10,
    "start_time": "2022-04-14T09:10:40.747Z"
   },
   {
    "duration": 8,
    "start_time": "2022-04-14T09:10:40.758Z"
   },
   {
    "duration": 5,
    "start_time": "2022-04-14T09:10:40.768Z"
   },
   {
    "duration": 12,
    "start_time": "2022-04-14T09:10:40.775Z"
   },
   {
    "duration": 18,
    "start_time": "2022-04-14T09:10:40.788Z"
   },
   {
    "duration": 13,
    "start_time": "2022-04-14T09:10:40.807Z"
   },
   {
    "duration": 26,
    "start_time": "2022-04-14T09:10:40.822Z"
   },
   {
    "duration": 7,
    "start_time": "2022-04-14T09:10:40.850Z"
   },
   {
    "duration": 11,
    "start_time": "2022-04-14T09:10:40.858Z"
   },
   {
    "duration": 246,
    "start_time": "2022-04-14T09:10:40.871Z"
   },
   {
    "duration": 174,
    "start_time": "2022-04-14T09:10:41.119Z"
   },
   {
    "duration": 261,
    "start_time": "2022-04-14T09:10:41.295Z"
   },
   {
    "duration": 183,
    "start_time": "2022-04-14T09:10:41.558Z"
   },
   {
    "duration": 283,
    "start_time": "2022-04-14T09:10:41.747Z"
   },
   {
    "duration": 15,
    "start_time": "2022-04-14T09:10:42.032Z"
   },
   {
    "duration": 10,
    "start_time": "2022-04-14T09:10:42.051Z"
   },
   {
    "duration": 9,
    "start_time": "2022-04-14T09:10:42.063Z"
   },
   {
    "duration": 133,
    "start_time": "2022-04-14T09:10:42.074Z"
   },
   {
    "duration": 5,
    "start_time": "2022-04-14T09:10:42.209Z"
   },
   {
    "duration": 162,
    "start_time": "2022-04-14T09:10:42.215Z"
   },
   {
    "duration": 5,
    "start_time": "2022-04-14T09:10:42.379Z"
   },
   {
    "duration": 68,
    "start_time": "2022-04-14T09:10:42.385Z"
   },
   {
    "duration": 10,
    "start_time": "2022-04-14T09:10:42.455Z"
   },
   {
    "duration": 3,
    "start_time": "2022-04-14T09:10:42.467Z"
   },
   {
    "duration": 9,
    "start_time": "2022-04-14T09:10:42.472Z"
   },
   {
    "duration": 25,
    "start_time": "2022-04-14T09:10:42.482Z"
   },
   {
    "duration": 50,
    "start_time": "2022-04-14T09:10:42.509Z"
   },
   {
    "duration": 3,
    "start_time": "2022-04-14T10:17:37.883Z"
   },
   {
    "duration": 2,
    "start_time": "2022-04-14T10:34:51.351Z"
   },
   {
    "duration": 1719,
    "start_time": "2022-04-14T14:55:05.396Z"
   },
   {
    "duration": 46,
    "start_time": "2022-04-14T14:55:07.118Z"
   },
   {
    "duration": 17,
    "start_time": "2022-04-14T14:55:07.166Z"
   },
   {
    "duration": 18,
    "start_time": "2022-04-14T14:55:07.186Z"
   },
   {
    "duration": 6,
    "start_time": "2022-04-14T14:55:07.206Z"
   },
   {
    "duration": 20,
    "start_time": "2022-04-14T14:55:07.214Z"
   },
   {
    "duration": 8,
    "start_time": "2022-04-14T14:55:07.236Z"
   },
   {
    "duration": 21,
    "start_time": "2022-04-14T14:55:07.246Z"
   },
   {
    "duration": 17,
    "start_time": "2022-04-14T14:55:07.269Z"
   },
   {
    "duration": 43,
    "start_time": "2022-04-14T14:55:07.290Z"
   },
   {
    "duration": 30,
    "start_time": "2022-04-14T14:55:07.335Z"
   },
   {
    "duration": 12,
    "start_time": "2022-04-14T14:55:07.368Z"
   },
   {
    "duration": 15,
    "start_time": "2022-04-14T14:55:07.382Z"
   },
   {
    "duration": 34,
    "start_time": "2022-04-14T14:55:07.400Z"
   },
   {
    "duration": 7,
    "start_time": "2022-04-14T14:55:07.436Z"
   },
   {
    "duration": 10,
    "start_time": "2022-04-14T14:55:07.444Z"
   },
   {
    "duration": 27,
    "start_time": "2022-04-14T14:55:07.456Z"
   },
   {
    "duration": 58,
    "start_time": "2022-04-14T14:55:07.485Z"
   },
   {
    "duration": 9,
    "start_time": "2022-04-14T14:55:07.545Z"
   },
   {
    "duration": 8,
    "start_time": "2022-04-14T14:55:07.557Z"
   },
   {
    "duration": 24,
    "start_time": "2022-04-14T14:55:07.567Z"
   },
   {
    "duration": 460,
    "start_time": "2022-04-14T14:55:07.593Z"
   },
   {
    "duration": 311,
    "start_time": "2022-04-14T14:55:08.055Z"
   },
   {
    "duration": 487,
    "start_time": "2022-04-14T14:55:08.368Z"
   },
   {
    "duration": 340,
    "start_time": "2022-04-14T14:55:08.857Z"
   },
   {
    "duration": 419,
    "start_time": "2022-04-14T14:55:09.199Z"
   },
   {
    "duration": 9,
    "start_time": "2022-04-14T14:55:09.620Z"
   },
   {
    "duration": 16,
    "start_time": "2022-04-14T14:55:09.634Z"
   },
   {
    "duration": 12,
    "start_time": "2022-04-14T14:55:09.652Z"
   },
   {
    "duration": 235,
    "start_time": "2022-04-14T14:55:09.666Z"
   },
   {
    "duration": 21,
    "start_time": "2022-04-14T14:55:09.903Z"
   },
   {
    "duration": 231,
    "start_time": "2022-04-14T14:55:09.926Z"
   },
   {
    "duration": 8,
    "start_time": "2022-04-14T14:55:10.159Z"
   },
   {
    "duration": 101,
    "start_time": "2022-04-14T14:55:10.169Z"
   },
   {
    "duration": 16,
    "start_time": "2022-04-14T14:55:10.273Z"
   },
   {
    "duration": 4,
    "start_time": "2022-04-14T14:55:10.291Z"
   },
   {
    "duration": 38,
    "start_time": "2022-04-14T14:55:10.298Z"
   },
   {
    "duration": 38,
    "start_time": "2022-04-14T14:55:10.339Z"
   },
   {
    "duration": 50,
    "start_time": "2022-04-14T14:55:10.379Z"
   },
   {
    "duration": 1096,
    "start_time": "2022-04-15T07:24:47.426Z"
   },
   {
    "duration": 73,
    "start_time": "2022-04-15T07:24:48.524Z"
   },
   {
    "duration": 13,
    "start_time": "2022-04-15T07:24:48.598Z"
   },
   {
    "duration": 16,
    "start_time": "2022-04-15T07:24:48.613Z"
   },
   {
    "duration": 7,
    "start_time": "2022-04-15T07:24:48.631Z"
   },
   {
    "duration": 9,
    "start_time": "2022-04-15T07:24:48.639Z"
   },
   {
    "duration": 9,
    "start_time": "2022-04-15T07:24:48.649Z"
   },
   {
    "duration": 15,
    "start_time": "2022-04-15T07:24:48.660Z"
   },
   {
    "duration": 32,
    "start_time": "2022-04-15T07:24:48.676Z"
   },
   {
    "duration": 8,
    "start_time": "2022-04-15T07:24:48.709Z"
   },
   {
    "duration": 17,
    "start_time": "2022-04-15T07:24:48.718Z"
   },
   {
    "duration": 7,
    "start_time": "2022-04-15T07:24:48.737Z"
   },
   {
    "duration": 9,
    "start_time": "2022-04-15T07:24:48.745Z"
   },
   {
    "duration": 13,
    "start_time": "2022-04-15T07:24:48.756Z"
   },
   {
    "duration": 10,
    "start_time": "2022-04-15T07:24:48.771Z"
   },
   {
    "duration": 7,
    "start_time": "2022-04-15T07:24:48.782Z"
   },
   {
    "duration": 25,
    "start_time": "2022-04-15T07:24:48.791Z"
   },
   {
    "duration": 13,
    "start_time": "2022-04-15T07:24:48.818Z"
   },
   {
    "duration": 8,
    "start_time": "2022-04-15T07:24:48.832Z"
   },
   {
    "duration": 8,
    "start_time": "2022-04-15T07:24:48.841Z"
   },
   {
    "duration": 12,
    "start_time": "2022-04-15T07:24:48.850Z"
   },
   {
    "duration": 264,
    "start_time": "2022-04-15T07:24:48.864Z"
   },
   {
    "duration": 186,
    "start_time": "2022-04-15T07:24:49.130Z"
   },
   {
    "duration": 263,
    "start_time": "2022-04-15T07:24:49.318Z"
   },
   {
    "duration": 192,
    "start_time": "2022-04-15T07:24:49.583Z"
   },
   {
    "duration": 293,
    "start_time": "2022-04-15T07:24:49.777Z"
   },
   {
    "duration": 7,
    "start_time": "2022-04-15T07:24:50.072Z"
   },
   {
    "duration": 35,
    "start_time": "2022-04-15T07:24:50.081Z"
   },
   {
    "duration": 9,
    "start_time": "2022-04-15T07:24:50.118Z"
   },
   {
    "duration": 121,
    "start_time": "2022-04-15T07:24:50.129Z"
   },
   {
    "duration": 5,
    "start_time": "2022-04-15T07:24:50.251Z"
   },
   {
    "duration": 135,
    "start_time": "2022-04-15T07:24:50.258Z"
   },
   {
    "duration": 9,
    "start_time": "2022-04-15T07:24:50.394Z"
   },
   {
    "duration": 61,
    "start_time": "2022-04-15T07:24:50.405Z"
   },
   {
    "duration": 13,
    "start_time": "2022-04-15T07:24:50.468Z"
   },
   {
    "duration": 82,
    "start_time": "2022-04-15T07:24:50.483Z"
   },
   {
    "duration": 18,
    "start_time": "2022-04-15T07:24:50.567Z"
   },
   {
    "duration": 44,
    "start_time": "2022-04-15T07:24:50.587Z"
   },
   {
    "duration": 13,
    "start_time": "2022-04-15T07:24:50.633Z"
   },
   {
    "duration": 1103,
    "start_time": "2022-04-15T08:51:05.236Z"
   },
   {
    "duration": 74,
    "start_time": "2022-04-15T08:51:06.341Z"
   },
   {
    "duration": 11,
    "start_time": "2022-04-15T08:51:06.417Z"
   },
   {
    "duration": 12,
    "start_time": "2022-04-15T08:51:06.429Z"
   },
   {
    "duration": 12,
    "start_time": "2022-04-15T08:51:06.444Z"
   },
   {
    "duration": 13,
    "start_time": "2022-04-15T08:51:06.458Z"
   },
   {
    "duration": 7,
    "start_time": "2022-04-15T08:51:06.473Z"
   },
   {
    "duration": 20,
    "start_time": "2022-04-15T08:51:06.481Z"
   },
   {
    "duration": 10,
    "start_time": "2022-04-15T08:51:06.502Z"
   },
   {
    "duration": 10,
    "start_time": "2022-04-15T08:51:06.514Z"
   },
   {
    "duration": 13,
    "start_time": "2022-04-15T08:51:06.525Z"
   },
   {
    "duration": 7,
    "start_time": "2022-04-15T08:51:06.540Z"
   },
   {
    "duration": 10,
    "start_time": "2022-04-15T08:51:06.548Z"
   },
   {
    "duration": 40,
    "start_time": "2022-04-15T08:51:06.562Z"
   },
   {
    "duration": 7,
    "start_time": "2022-04-15T08:51:06.603Z"
   },
   {
    "duration": 9,
    "start_time": "2022-04-15T08:51:06.611Z"
   },
   {
    "duration": 18,
    "start_time": "2022-04-15T08:51:06.621Z"
   },
   {
    "duration": 12,
    "start_time": "2022-04-15T08:51:06.641Z"
   },
   {
    "duration": 7,
    "start_time": "2022-04-15T08:51:06.654Z"
   },
   {
    "duration": 7,
    "start_time": "2022-04-15T08:51:06.663Z"
   },
   {
    "duration": 30,
    "start_time": "2022-04-15T08:51:06.671Z"
   },
   {
    "duration": 244,
    "start_time": "2022-04-15T08:51:06.703Z"
   },
   {
    "duration": 173,
    "start_time": "2022-04-15T08:51:06.948Z"
   },
   {
    "duration": 280,
    "start_time": "2022-04-15T08:51:07.122Z"
   },
   {
    "duration": 174,
    "start_time": "2022-04-15T08:51:07.403Z"
   },
   {
    "duration": 304,
    "start_time": "2022-04-15T08:51:07.578Z"
   },
   {
    "duration": 18,
    "start_time": "2022-04-15T08:51:07.883Z"
   },
   {
    "duration": 9,
    "start_time": "2022-04-15T08:51:07.902Z"
   },
   {
    "duration": 5,
    "start_time": "2022-04-15T08:51:07.912Z"
   },
   {
    "duration": 121,
    "start_time": "2022-04-15T08:51:07.919Z"
   },
   {
    "duration": 4,
    "start_time": "2022-04-15T08:51:08.042Z"
   },
   {
    "duration": 122,
    "start_time": "2022-04-15T08:51:08.048Z"
   },
   {
    "duration": 5,
    "start_time": "2022-04-15T08:51:08.172Z"
   },
   {
    "duration": 60,
    "start_time": "2022-04-15T08:51:08.178Z"
   },
   {
    "duration": 10,
    "start_time": "2022-04-15T08:51:08.239Z"
   },
   {
    "duration": 3,
    "start_time": "2022-04-15T08:51:08.250Z"
   },
   {
    "duration": 9,
    "start_time": "2022-04-15T08:51:08.254Z"
   },
   {
    "duration": 45,
    "start_time": "2022-04-15T08:51:08.264Z"
   },
   {
    "duration": 13,
    "start_time": "2022-04-15T08:51:08.310Z"
   },
   {
    "duration": 1045,
    "start_time": "2022-04-15T09:02:37.473Z"
   },
   {
    "duration": 72,
    "start_time": "2022-04-15T09:02:38.520Z"
   },
   {
    "duration": 10,
    "start_time": "2022-04-15T09:02:38.594Z"
   },
   {
    "duration": 12,
    "start_time": "2022-04-15T09:02:38.605Z"
   },
   {
    "duration": 5,
    "start_time": "2022-04-15T09:02:38.619Z"
   },
   {
    "duration": 9,
    "start_time": "2022-04-15T09:02:38.626Z"
   },
   {
    "duration": 5,
    "start_time": "2022-04-15T09:02:38.636Z"
   },
   {
    "duration": 11,
    "start_time": "2022-04-15T09:02:38.642Z"
   },
   {
    "duration": 10,
    "start_time": "2022-04-15T09:02:38.654Z"
   },
   {
    "duration": 6,
    "start_time": "2022-04-15T09:02:38.665Z"
   },
   {
    "duration": 36,
    "start_time": "2022-04-15T09:02:38.673Z"
   },
   {
    "duration": 7,
    "start_time": "2022-04-15T09:02:38.711Z"
   },
   {
    "duration": 10,
    "start_time": "2022-04-15T09:02:38.719Z"
   },
   {
    "duration": 8,
    "start_time": "2022-04-15T09:02:38.731Z"
   },
   {
    "duration": 6,
    "start_time": "2022-04-15T09:02:38.740Z"
   },
   {
    "duration": 7,
    "start_time": "2022-04-15T09:02:38.747Z"
   },
   {
    "duration": 46,
    "start_time": "2022-04-15T09:02:38.755Z"
   },
   {
    "duration": 14,
    "start_time": "2022-04-15T09:02:38.802Z"
   },
   {
    "duration": 8,
    "start_time": "2022-04-15T09:02:38.817Z"
   },
   {
    "duration": 6,
    "start_time": "2022-04-15T09:02:38.827Z"
   },
   {
    "duration": 10,
    "start_time": "2022-04-15T09:02:38.835Z"
   },
   {
    "duration": 245,
    "start_time": "2022-04-15T09:02:38.847Z"
   },
   {
    "duration": 243,
    "start_time": "2022-04-15T09:02:39.099Z"
   },
   {
    "duration": 238,
    "start_time": "2022-04-15T09:02:39.344Z"
   },
   {
    "duration": 183,
    "start_time": "2022-04-15T09:02:39.584Z"
   },
   {
    "duration": 289,
    "start_time": "2022-04-15T09:02:39.769Z"
   },
   {
    "duration": 6,
    "start_time": "2022-04-15T09:02:40.060Z"
   },
   {
    "duration": 10,
    "start_time": "2022-04-15T09:02:40.067Z"
   },
   {
    "duration": 24,
    "start_time": "2022-04-15T09:02:40.078Z"
   },
   {
    "duration": 110,
    "start_time": "2022-04-15T09:02:40.104Z"
   },
   {
    "duration": 5,
    "start_time": "2022-04-15T09:02:40.216Z"
   },
   {
    "duration": 128,
    "start_time": "2022-04-15T09:02:40.222Z"
   },
   {
    "duration": 5,
    "start_time": "2022-04-15T09:02:40.352Z"
   },
   {
    "duration": 62,
    "start_time": "2022-04-15T09:02:40.358Z"
   },
   {
    "duration": 9,
    "start_time": "2022-04-15T09:02:40.422Z"
   },
   {
    "duration": 3,
    "start_time": "2022-04-15T09:02:40.433Z"
   },
   {
    "duration": 8,
    "start_time": "2022-04-15T09:02:40.437Z"
   },
   {
    "duration": 23,
    "start_time": "2022-04-15T09:02:40.447Z"
   },
   {
    "duration": 33,
    "start_time": "2022-04-15T09:02:40.472Z"
   },
   {
    "duration": 1191,
    "start_time": "2022-04-16T11:17:05.995Z"
   },
   {
    "duration": 76,
    "start_time": "2022-04-16T11:17:07.188Z"
   },
   {
    "duration": 13,
    "start_time": "2022-04-16T11:17:07.265Z"
   },
   {
    "duration": 14,
    "start_time": "2022-04-16T11:17:07.280Z"
   },
   {
    "duration": 6,
    "start_time": "2022-04-16T11:17:07.296Z"
   },
   {
    "duration": 12,
    "start_time": "2022-04-16T11:17:07.304Z"
   },
   {
    "duration": 6,
    "start_time": "2022-04-16T11:17:07.317Z"
   },
   {
    "duration": 20,
    "start_time": "2022-04-16T11:17:07.325Z"
   },
   {
    "duration": 21,
    "start_time": "2022-04-16T11:17:07.347Z"
   },
   {
    "duration": 9,
    "start_time": "2022-04-16T11:17:07.371Z"
   },
   {
    "duration": 15,
    "start_time": "2022-04-16T11:17:07.382Z"
   },
   {
    "duration": 10,
    "start_time": "2022-04-16T11:17:07.399Z"
   },
   {
    "duration": 24,
    "start_time": "2022-04-16T11:17:07.410Z"
   },
   {
    "duration": 16,
    "start_time": "2022-04-16T11:17:07.436Z"
   },
   {
    "duration": 6,
    "start_time": "2022-04-16T11:17:07.454Z"
   },
   {
    "duration": 10,
    "start_time": "2022-04-16T11:17:07.461Z"
   },
   {
    "duration": 20,
    "start_time": "2022-04-16T11:17:07.472Z"
   },
   {
    "duration": 46,
    "start_time": "2022-04-16T11:17:07.493Z"
   },
   {
    "duration": 6,
    "start_time": "2022-04-16T11:17:07.541Z"
   },
   {
    "duration": 11,
    "start_time": "2022-04-16T11:17:07.549Z"
   },
   {
    "duration": 12,
    "start_time": "2022-04-16T11:17:07.562Z"
   },
   {
    "duration": 293,
    "start_time": "2022-04-16T11:17:07.576Z"
   },
   {
    "duration": 210,
    "start_time": "2022-04-16T11:17:07.871Z"
   },
   {
    "duration": 306,
    "start_time": "2022-04-16T11:17:08.083Z"
   },
   {
    "duration": 223,
    "start_time": "2022-04-16T11:17:08.391Z"
   },
   {
    "duration": 331,
    "start_time": "2022-04-16T11:17:08.616Z"
   },
   {
    "duration": 6,
    "start_time": "2022-04-16T11:17:08.949Z"
   },
   {
    "duration": 15,
    "start_time": "2022-04-16T11:17:08.959Z"
   },
   {
    "duration": 11,
    "start_time": "2022-04-16T11:17:08.975Z"
   },
   {
    "duration": 153,
    "start_time": "2022-04-16T11:17:08.988Z"
   },
   {
    "duration": 6,
    "start_time": "2022-04-16T11:17:09.143Z"
   },
   {
    "duration": 162,
    "start_time": "2022-04-16T11:17:09.151Z"
   },
   {
    "duration": 6,
    "start_time": "2022-04-16T11:17:09.314Z"
   },
   {
    "duration": 55,
    "start_time": "2022-04-16T11:17:09.333Z"
   },
   {
    "duration": 11,
    "start_time": "2022-04-16T11:17:09.390Z"
   },
   {
    "duration": 5,
    "start_time": "2022-04-16T11:17:09.403Z"
   },
   {
    "duration": 14,
    "start_time": "2022-04-16T11:17:09.433Z"
   },
   {
    "duration": 29,
    "start_time": "2022-04-16T11:17:09.451Z"
   },
   {
    "duration": 15,
    "start_time": "2022-04-16T11:17:09.482Z"
   },
   {
    "duration": 70,
    "start_time": "2022-04-16T17:27:06.474Z"
   },
   {
    "duration": 1803,
    "start_time": "2022-04-16T17:28:04.150Z"
   },
   {
    "duration": 69,
    "start_time": "2022-04-16T17:28:05.956Z"
   },
   {
    "duration": 18,
    "start_time": "2022-04-16T17:28:06.027Z"
   },
   {
    "duration": 19,
    "start_time": "2022-04-16T17:28:06.047Z"
   },
   {
    "duration": 6,
    "start_time": "2022-04-16T17:28:06.068Z"
   },
   {
    "duration": 18,
    "start_time": "2022-04-16T17:28:06.076Z"
   },
   {
    "duration": 7,
    "start_time": "2022-04-16T17:28:06.096Z"
   },
   {
    "duration": 17,
    "start_time": "2022-04-16T17:28:06.105Z"
   },
   {
    "duration": 17,
    "start_time": "2022-04-16T17:28:06.124Z"
   },
   {
    "duration": 11,
    "start_time": "2022-04-16T17:28:06.145Z"
   },
   {
    "duration": 18,
    "start_time": "2022-04-16T17:28:06.194Z"
   },
   {
    "duration": 13,
    "start_time": "2022-04-16T17:28:06.214Z"
   },
   {
    "duration": 15,
    "start_time": "2022-04-16T17:28:06.229Z"
   },
   {
    "duration": 12,
    "start_time": "2022-04-16T17:28:06.246Z"
   },
   {
    "duration": 38,
    "start_time": "2022-04-16T17:28:06.260Z"
   },
   {
    "duration": 11,
    "start_time": "2022-04-16T17:28:06.300Z"
   },
   {
    "duration": 14,
    "start_time": "2022-04-16T17:28:06.313Z"
   },
   {
    "duration": 11,
    "start_time": "2022-04-16T17:28:06.329Z"
   },
   {
    "duration": 177,
    "start_time": "2022-04-16T17:28:06.342Z"
   },
   {
    "duration": 0,
    "start_time": "2022-04-16T17:28:06.522Z"
   },
   {
    "duration": 0,
    "start_time": "2022-04-16T17:28:06.525Z"
   },
   {
    "duration": 0,
    "start_time": "2022-04-16T17:28:06.527Z"
   },
   {
    "duration": 0,
    "start_time": "2022-04-16T17:28:06.528Z"
   },
   {
    "duration": 0,
    "start_time": "2022-04-16T17:28:06.530Z"
   },
   {
    "duration": 0,
    "start_time": "2022-04-16T17:28:06.531Z"
   },
   {
    "duration": 0,
    "start_time": "2022-04-16T17:28:06.533Z"
   },
   {
    "duration": 0,
    "start_time": "2022-04-16T17:28:06.535Z"
   },
   {
    "duration": 0,
    "start_time": "2022-04-16T17:28:06.537Z"
   },
   {
    "duration": 0,
    "start_time": "2022-04-16T17:28:06.538Z"
   },
   {
    "duration": 0,
    "start_time": "2022-04-16T17:28:06.540Z"
   },
   {
    "duration": 0,
    "start_time": "2022-04-16T17:28:06.541Z"
   },
   {
    "duration": 0,
    "start_time": "2022-04-16T17:28:06.543Z"
   },
   {
    "duration": 0,
    "start_time": "2022-04-16T17:28:06.545Z"
   },
   {
    "duration": 0,
    "start_time": "2022-04-16T17:28:06.546Z"
   },
   {
    "duration": 0,
    "start_time": "2022-04-16T17:28:06.547Z"
   },
   {
    "duration": 0,
    "start_time": "2022-04-16T17:28:06.594Z"
   },
   {
    "duration": 0,
    "start_time": "2022-04-16T17:28:06.596Z"
   },
   {
    "duration": 0,
    "start_time": "2022-04-16T17:28:06.598Z"
   },
   {
    "duration": 0,
    "start_time": "2022-04-16T17:28:06.599Z"
   },
   {
    "duration": 0,
    "start_time": "2022-04-16T17:28:06.601Z"
   },
   {
    "duration": 0,
    "start_time": "2022-04-16T17:28:06.602Z"
   },
   {
    "duration": 0,
    "start_time": "2022-04-16T17:28:06.604Z"
   },
   {
    "duration": 895,
    "start_time": "2022-04-16T17:32:02.589Z"
   },
   {
    "duration": 1397,
    "start_time": "2022-04-16T17:32:17.027Z"
   },
   {
    "duration": 70,
    "start_time": "2022-04-16T17:32:18.426Z"
   },
   {
    "duration": 17,
    "start_time": "2022-04-16T17:32:18.498Z"
   },
   {
    "duration": 18,
    "start_time": "2022-04-16T17:32:18.517Z"
   },
   {
    "duration": 6,
    "start_time": "2022-04-16T17:32:18.538Z"
   },
   {
    "duration": 15,
    "start_time": "2022-04-16T17:32:18.546Z"
   },
   {
    "duration": 5,
    "start_time": "2022-04-16T17:32:18.594Z"
   },
   {
    "duration": 19,
    "start_time": "2022-04-16T17:32:18.601Z"
   },
   {
    "duration": 21,
    "start_time": "2022-04-16T17:32:18.622Z"
   },
   {
    "duration": 12,
    "start_time": "2022-04-16T17:32:18.645Z"
   },
   {
    "duration": 48,
    "start_time": "2022-04-16T17:32:18.659Z"
   },
   {
    "duration": 7,
    "start_time": "2022-04-16T17:32:18.710Z"
   },
   {
    "duration": 15,
    "start_time": "2022-04-16T17:32:18.719Z"
   },
   {
    "duration": 10,
    "start_time": "2022-04-16T17:32:18.740Z"
   },
   {
    "duration": 44,
    "start_time": "2022-04-16T17:32:18.752Z"
   },
   {
    "duration": 12,
    "start_time": "2022-04-16T17:32:18.798Z"
   },
   {
    "duration": 13,
    "start_time": "2022-04-16T17:32:18.812Z"
   },
   {
    "duration": 9,
    "start_time": "2022-04-16T17:32:18.827Z"
   },
   {
    "duration": 1030,
    "start_time": "2022-04-16T17:32:18.838Z"
   },
   {
    "duration": 0,
    "start_time": "2022-04-16T17:32:19.871Z"
   },
   {
    "duration": 0,
    "start_time": "2022-04-16T17:32:19.872Z"
   },
   {
    "duration": 0,
    "start_time": "2022-04-16T17:32:19.874Z"
   },
   {
    "duration": 0,
    "start_time": "2022-04-16T17:32:19.876Z"
   },
   {
    "duration": 0,
    "start_time": "2022-04-16T17:32:19.877Z"
   },
   {
    "duration": 0,
    "start_time": "2022-04-16T17:32:19.879Z"
   },
   {
    "duration": 0,
    "start_time": "2022-04-16T17:32:19.880Z"
   },
   {
    "duration": 0,
    "start_time": "2022-04-16T17:32:19.881Z"
   },
   {
    "duration": 0,
    "start_time": "2022-04-16T17:32:19.883Z"
   },
   {
    "duration": 0,
    "start_time": "2022-04-16T17:32:19.884Z"
   },
   {
    "duration": 0,
    "start_time": "2022-04-16T17:32:19.886Z"
   },
   {
    "duration": 0,
    "start_time": "2022-04-16T17:32:19.887Z"
   },
   {
    "duration": 0,
    "start_time": "2022-04-16T17:32:19.889Z"
   },
   {
    "duration": 0,
    "start_time": "2022-04-16T17:32:19.890Z"
   },
   {
    "duration": 0,
    "start_time": "2022-04-16T17:32:19.892Z"
   },
   {
    "duration": 0,
    "start_time": "2022-04-16T17:32:19.893Z"
   },
   {
    "duration": 0,
    "start_time": "2022-04-16T17:32:19.894Z"
   },
   {
    "duration": 0,
    "start_time": "2022-04-16T17:32:19.896Z"
   },
   {
    "duration": 0,
    "start_time": "2022-04-16T17:32:19.897Z"
   },
   {
    "duration": 0,
    "start_time": "2022-04-16T17:32:19.899Z"
   },
   {
    "duration": 0,
    "start_time": "2022-04-16T17:32:19.900Z"
   },
   {
    "duration": 0,
    "start_time": "2022-04-16T17:32:19.902Z"
   },
   {
    "duration": 0,
    "start_time": "2022-04-16T17:32:19.903Z"
   },
   {
    "duration": 13,
    "start_time": "2022-04-16T17:33:03.625Z"
   },
   {
    "duration": 14,
    "start_time": "2022-04-16T17:33:17.057Z"
   },
   {
    "duration": 55,
    "start_time": "2022-04-16T17:33:35.337Z"
   },
   {
    "duration": 22,
    "start_time": "2022-04-16T17:33:57.817Z"
   },
   {
    "duration": 1295,
    "start_time": "2022-04-16T17:35:02.034Z"
   },
   {
    "duration": 3014,
    "start_time": "2022-04-16T17:35:14.017Z"
   },
   {
    "duration": 21,
    "start_time": "2022-04-16T17:35:33.305Z"
   },
   {
    "duration": 1436,
    "start_time": "2022-04-16T17:45:43.380Z"
   },
   {
    "duration": 67,
    "start_time": "2022-04-16T17:45:44.819Z"
   },
   {
    "duration": 17,
    "start_time": "2022-04-16T17:45:44.888Z"
   },
   {
    "duration": 19,
    "start_time": "2022-04-16T17:45:44.907Z"
   },
   {
    "duration": 6,
    "start_time": "2022-04-16T17:45:44.929Z"
   },
   {
    "duration": 13,
    "start_time": "2022-04-16T17:45:44.938Z"
   },
   {
    "duration": 6,
    "start_time": "2022-04-16T17:45:44.954Z"
   },
   {
    "duration": 45,
    "start_time": "2022-04-16T17:45:44.962Z"
   },
   {
    "duration": 23,
    "start_time": "2022-04-16T17:45:45.010Z"
   },
   {
    "duration": 19,
    "start_time": "2022-04-16T17:45:45.035Z"
   },
   {
    "duration": 39,
    "start_time": "2022-04-16T17:45:45.056Z"
   },
   {
    "duration": 13,
    "start_time": "2022-04-16T17:45:45.097Z"
   },
   {
    "duration": 15,
    "start_time": "2022-04-16T17:45:45.112Z"
   },
   {
    "duration": 11,
    "start_time": "2022-04-16T17:45:45.132Z"
   },
   {
    "duration": 8,
    "start_time": "2022-04-16T17:45:45.145Z"
   },
   {
    "duration": 40,
    "start_time": "2022-04-16T17:45:45.155Z"
   },
   {
    "duration": 11,
    "start_time": "2022-04-16T17:45:45.198Z"
   },
   {
    "duration": 10,
    "start_time": "2022-04-16T17:45:45.211Z"
   },
   {
    "duration": 23,
    "start_time": "2022-04-16T17:45:45.223Z"
   },
   {
    "duration": 63,
    "start_time": "2022-04-16T17:45:45.249Z"
   },
   {
    "duration": 24,
    "start_time": "2022-04-16T17:45:45.314Z"
   },
   {
    "duration": 6,
    "start_time": "2022-04-16T17:45:45.340Z"
   },
   {
    "duration": 9,
    "start_time": "2022-04-16T17:45:45.348Z"
   },
   {
    "duration": 45,
    "start_time": "2022-04-16T17:45:45.359Z"
   },
   {
    "duration": 422,
    "start_time": "2022-04-16T17:45:45.406Z"
   },
   {
    "duration": 293,
    "start_time": "2022-04-16T17:45:45.830Z"
   },
   {
    "duration": 394,
    "start_time": "2022-04-16T17:45:46.125Z"
   },
   {
    "duration": 325,
    "start_time": "2022-04-16T17:45:46.522Z"
   },
   {
    "duration": 405,
    "start_time": "2022-04-16T17:45:46.849Z"
   },
   {
    "duration": 9,
    "start_time": "2022-04-16T17:45:47.256Z"
   },
   {
    "duration": 32,
    "start_time": "2022-04-16T17:45:47.267Z"
   },
   {
    "duration": 10,
    "start_time": "2022-04-16T17:45:47.301Z"
   },
   {
    "duration": 213,
    "start_time": "2022-04-16T17:45:47.313Z"
   },
   {
    "duration": 7,
    "start_time": "2022-04-16T17:45:47.529Z"
   },
   {
    "duration": 220,
    "start_time": "2022-04-16T17:45:47.538Z"
   },
   {
    "duration": 7,
    "start_time": "2022-04-16T17:45:47.760Z"
   },
   {
    "duration": 85,
    "start_time": "2022-04-16T17:45:47.769Z"
   },
   {
    "duration": 15,
    "start_time": "2022-04-16T17:45:47.856Z"
   },
   {
    "duration": 4,
    "start_time": "2022-04-16T17:45:47.893Z"
   },
   {
    "duration": 16,
    "start_time": "2022-04-16T17:45:47.899Z"
   },
   {
    "duration": 36,
    "start_time": "2022-04-16T17:45:47.921Z"
   },
   {
    "duration": 48,
    "start_time": "2022-04-16T17:45:47.959Z"
   },
   {
    "duration": 204,
    "start_time": "2022-04-16T18:10:53.498Z"
   },
   {
    "duration": 209,
    "start_time": "2022-04-16T18:14:30.810Z"
   },
   {
    "duration": 262,
    "start_time": "2022-04-16T18:19:05.691Z"
   },
   {
    "duration": 1476,
    "start_time": "2022-04-16T18:21:27.979Z"
   },
   {
    "duration": 70,
    "start_time": "2022-04-16T18:21:29.458Z"
   },
   {
    "duration": 18,
    "start_time": "2022-04-16T18:21:29.530Z"
   },
   {
    "duration": 20,
    "start_time": "2022-04-16T18:21:29.551Z"
   },
   {
    "duration": 8,
    "start_time": "2022-04-16T18:21:29.573Z"
   },
   {
    "duration": 20,
    "start_time": "2022-04-16T18:21:29.583Z"
   },
   {
    "duration": 7,
    "start_time": "2022-04-16T18:21:29.606Z"
   },
   {
    "duration": 18,
    "start_time": "2022-04-16T18:21:29.615Z"
   },
   {
    "duration": 16,
    "start_time": "2022-04-16T18:21:29.635Z"
   },
   {
    "duration": 38,
    "start_time": "2022-04-16T18:21:29.655Z"
   },
   {
    "duration": 19,
    "start_time": "2022-04-16T18:21:29.696Z"
   },
   {
    "duration": 12,
    "start_time": "2022-04-16T18:21:29.718Z"
   },
   {
    "duration": 14,
    "start_time": "2022-04-16T18:21:29.732Z"
   },
   {
    "duration": 17,
    "start_time": "2022-04-16T18:21:29.748Z"
   },
   {
    "duration": 6,
    "start_time": "2022-04-16T18:21:29.794Z"
   },
   {
    "duration": 16,
    "start_time": "2022-04-16T18:21:29.802Z"
   },
   {
    "duration": 20,
    "start_time": "2022-04-16T18:21:29.821Z"
   },
   {
    "duration": 21,
    "start_time": "2022-04-16T18:21:29.844Z"
   },
   {
    "duration": 37,
    "start_time": "2022-04-16T18:21:29.868Z"
   },
   {
    "duration": 36,
    "start_time": "2022-04-16T18:21:29.907Z"
   },
   {
    "duration": 50,
    "start_time": "2022-04-16T18:21:29.946Z"
   },
   {
    "duration": 9,
    "start_time": "2022-04-16T18:21:29.998Z"
   },
   {
    "duration": 17,
    "start_time": "2022-04-16T18:21:30.009Z"
   },
   {
    "duration": 21,
    "start_time": "2022-04-16T18:21:30.029Z"
   },
   {
    "duration": 464,
    "start_time": "2022-04-16T18:21:30.052Z"
   },
   {
    "duration": 332,
    "start_time": "2022-04-16T18:21:30.519Z"
   },
   {
    "duration": 500,
    "start_time": "2022-04-16T18:21:30.853Z"
   },
   {
    "duration": 317,
    "start_time": "2022-04-16T18:21:31.358Z"
   },
   {
    "duration": 370,
    "start_time": "2022-04-16T18:21:31.677Z"
   },
   {
    "duration": 9,
    "start_time": "2022-04-16T18:21:32.049Z"
   },
   {
    "duration": 26,
    "start_time": "2022-04-16T18:21:32.060Z"
   },
   {
    "duration": 10,
    "start_time": "2022-04-16T18:21:32.093Z"
   },
   {
    "duration": 200,
    "start_time": "2022-04-16T18:21:32.105Z"
   },
   {
    "duration": 8,
    "start_time": "2022-04-16T18:21:32.307Z"
   },
   {
    "duration": 214,
    "start_time": "2022-04-16T18:21:32.317Z"
   },
   {
    "duration": 7,
    "start_time": "2022-04-16T18:21:32.534Z"
   },
   {
    "duration": 90,
    "start_time": "2022-04-16T18:21:32.543Z"
   },
   {
    "duration": 15,
    "start_time": "2022-04-16T18:21:32.635Z"
   },
   {
    "duration": 10,
    "start_time": "2022-04-16T18:21:32.652Z"
   },
   {
    "duration": 34,
    "start_time": "2022-04-16T18:21:32.665Z"
   },
   {
    "duration": 40,
    "start_time": "2022-04-16T18:21:32.701Z"
   },
   {
    "duration": 21,
    "start_time": "2022-04-16T18:21:32.743Z"
   },
   {
    "duration": 1268,
    "start_time": "2022-04-17T07:00:48.144Z"
   },
   {
    "duration": 68,
    "start_time": "2022-04-17T07:00:49.415Z"
   },
   {
    "duration": 12,
    "start_time": "2022-04-17T07:00:49.485Z"
   },
   {
    "duration": 12,
    "start_time": "2022-04-17T07:00:49.499Z"
   },
   {
    "duration": 6,
    "start_time": "2022-04-17T07:00:49.513Z"
   },
   {
    "duration": 10,
    "start_time": "2022-04-17T07:00:49.520Z"
   },
   {
    "duration": 5,
    "start_time": "2022-04-17T07:00:49.532Z"
   },
   {
    "duration": 12,
    "start_time": "2022-04-17T07:00:49.539Z"
   },
   {
    "duration": 10,
    "start_time": "2022-04-17T07:00:49.553Z"
   },
   {
    "duration": 8,
    "start_time": "2022-04-17T07:00:49.565Z"
   },
   {
    "duration": 13,
    "start_time": "2022-04-17T07:00:49.574Z"
   },
   {
    "duration": 35,
    "start_time": "2022-04-17T07:00:49.588Z"
   },
   {
    "duration": 11,
    "start_time": "2022-04-17T07:00:49.625Z"
   },
   {
    "duration": 10,
    "start_time": "2022-04-17T07:00:49.643Z"
   },
   {
    "duration": 5,
    "start_time": "2022-04-17T07:00:49.655Z"
   },
   {
    "duration": 8,
    "start_time": "2022-04-17T07:00:49.662Z"
   },
   {
    "duration": 15,
    "start_time": "2022-04-17T07:00:49.672Z"
   },
   {
    "duration": 42,
    "start_time": "2022-04-17T07:00:49.689Z"
   },
   {
    "duration": 23,
    "start_time": "2022-04-17T07:00:49.733Z"
   },
   {
    "duration": 26,
    "start_time": "2022-04-17T07:00:49.759Z"
   },
   {
    "duration": 49,
    "start_time": "2022-04-17T07:00:49.787Z"
   },
   {
    "duration": 6,
    "start_time": "2022-04-17T07:00:49.838Z"
   },
   {
    "duration": 7,
    "start_time": "2022-04-17T07:00:49.846Z"
   },
   {
    "duration": 17,
    "start_time": "2022-04-17T07:00:49.855Z"
   },
   {
    "duration": 419,
    "start_time": "2022-04-17T07:00:49.874Z"
   },
   {
    "duration": 276,
    "start_time": "2022-04-17T07:00:50.295Z"
   },
   {
    "duration": 465,
    "start_time": "2022-04-17T07:00:50.573Z"
   },
   {
    "duration": 323,
    "start_time": "2022-04-17T07:00:51.040Z"
   },
   {
    "duration": 366,
    "start_time": "2022-04-17T07:00:51.366Z"
   },
   {
    "duration": 9,
    "start_time": "2022-04-17T07:00:51.735Z"
   },
   {
    "duration": 19,
    "start_time": "2022-04-17T07:00:51.746Z"
   },
   {
    "duration": 15,
    "start_time": "2022-04-17T07:00:51.767Z"
   },
   {
    "duration": 133,
    "start_time": "2022-04-17T07:00:51.783Z"
   },
   {
    "duration": 5,
    "start_time": "2022-04-17T07:00:51.918Z"
   },
   {
    "duration": 137,
    "start_time": "2022-04-17T07:00:51.925Z"
   },
   {
    "duration": 6,
    "start_time": "2022-04-17T07:00:52.063Z"
   },
   {
    "duration": 62,
    "start_time": "2022-04-17T07:00:52.071Z"
   },
   {
    "duration": 10,
    "start_time": "2022-04-17T07:00:52.135Z"
   },
   {
    "duration": 26,
    "start_time": "2022-04-17T07:00:52.147Z"
   },
   {
    "duration": 20,
    "start_time": "2022-04-17T07:00:52.175Z"
   },
   {
    "duration": 26,
    "start_time": "2022-04-17T07:00:52.199Z"
   },
   {
    "duration": 13,
    "start_time": "2022-04-17T07:00:52.227Z"
   }
  ],
  "kernelspec": {
   "display_name": "Python 3 (ipykernel)",
   "language": "python",
   "name": "python3"
  },
  "language_info": {
   "codemirror_mode": {
    "name": "ipython",
    "version": 3
   },
   "file_extension": ".py",
   "mimetype": "text/x-python",
   "name": "python",
   "nbconvert_exporter": "python",
   "pygments_lexer": "ipython3",
   "version": "3.9.5"
  },
  "toc": {
   "base_numbering": 1,
   "nav_menu": {},
   "number_sections": true,
   "sideBar": true,
   "skip_h1_title": true,
   "title_cell": "Table of Contents",
   "title_sidebar": "Contents",
   "toc_cell": false,
   "toc_position": {},
   "toc_section_display": true,
   "toc_window_display": false
  }
 },
 "nbformat": 4,
 "nbformat_minor": 5
}
