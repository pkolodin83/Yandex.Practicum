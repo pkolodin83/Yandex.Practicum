{
 "cells": [
  {
   "cell_type": "markdown",
   "metadata": {},
   "source": [
    "<div class=\"alert alert-info\"> <b>Основные цели проекта:</b> Для интернет-магазина \"Стримчик\" который продает компьютерные игры, необходимо выявить определяющие успешность игры закономерности. Данные знания позволят сделать ставку на потенциально популярный продукт и спланировать рекламные кампании </div>"
   ]
  },
  {
   "cell_type": "code",
   "execution_count": 1,
   "metadata": {},
   "outputs": [],
   "source": [
    "#Подключим необходимые библиотеки для проведения анализа\n",
    "import pandas as pd\n",
    "import matplotlib.pyplot as plt\n",
    "%matplotlib inline\n",
    "import seaborn as sns\n",
    "import numpy as np\n",
    "from scipy import stats as st"
   ]
  },
  {
   "cell_type": "code",
   "execution_count": 2,
   "metadata": {},
   "outputs": [],
   "source": [
    " df = pd.read_csv('/datasets/games.csv')"
   ]
  },
  {
   "cell_type": "code",
   "execution_count": 3,
   "metadata": {},
   "outputs": [
    {
     "data": {
      "text/html": [
       "<div>\n",
       "<style scoped>\n",
       "    .dataframe tbody tr th:only-of-type {\n",
       "        vertical-align: middle;\n",
       "    }\n",
       "\n",
       "    .dataframe tbody tr th {\n",
       "        vertical-align: top;\n",
       "    }\n",
       "\n",
       "    .dataframe thead th {\n",
       "        text-align: right;\n",
       "    }\n",
       "</style>\n",
       "<table border=\"1\" class=\"dataframe\">\n",
       "  <thead>\n",
       "    <tr style=\"text-align: right;\">\n",
       "      <th></th>\n",
       "      <th>Name</th>\n",
       "      <th>Platform</th>\n",
       "      <th>Year_of_Release</th>\n",
       "      <th>Genre</th>\n",
       "      <th>NA_sales</th>\n",
       "      <th>EU_sales</th>\n",
       "      <th>JP_sales</th>\n",
       "      <th>Other_sales</th>\n",
       "      <th>Critic_Score</th>\n",
       "      <th>User_Score</th>\n",
       "      <th>Rating</th>\n",
       "    </tr>\n",
       "  </thead>\n",
       "  <tbody>\n",
       "    <tr>\n",
       "      <td>0</td>\n",
       "      <td>Wii Sports</td>\n",
       "      <td>Wii</td>\n",
       "      <td>2006.0</td>\n",
       "      <td>Sports</td>\n",
       "      <td>41.36</td>\n",
       "      <td>28.96</td>\n",
       "      <td>3.77</td>\n",
       "      <td>8.45</td>\n",
       "      <td>76.0</td>\n",
       "      <td>8</td>\n",
       "      <td>E</td>\n",
       "    </tr>\n",
       "    <tr>\n",
       "      <td>1</td>\n",
       "      <td>Super Mario Bros.</td>\n",
       "      <td>NES</td>\n",
       "      <td>1985.0</td>\n",
       "      <td>Platform</td>\n",
       "      <td>29.08</td>\n",
       "      <td>3.58</td>\n",
       "      <td>6.81</td>\n",
       "      <td>0.77</td>\n",
       "      <td>NaN</td>\n",
       "      <td>NaN</td>\n",
       "      <td>NaN</td>\n",
       "    </tr>\n",
       "    <tr>\n",
       "      <td>2</td>\n",
       "      <td>Mario Kart Wii</td>\n",
       "      <td>Wii</td>\n",
       "      <td>2008.0</td>\n",
       "      <td>Racing</td>\n",
       "      <td>15.68</td>\n",
       "      <td>12.76</td>\n",
       "      <td>3.79</td>\n",
       "      <td>3.29</td>\n",
       "      <td>82.0</td>\n",
       "      <td>8.3</td>\n",
       "      <td>E</td>\n",
       "    </tr>\n",
       "    <tr>\n",
       "      <td>3</td>\n",
       "      <td>Wii Sports Resort</td>\n",
       "      <td>Wii</td>\n",
       "      <td>2009.0</td>\n",
       "      <td>Sports</td>\n",
       "      <td>15.61</td>\n",
       "      <td>10.93</td>\n",
       "      <td>3.28</td>\n",
       "      <td>2.95</td>\n",
       "      <td>80.0</td>\n",
       "      <td>8</td>\n",
       "      <td>E</td>\n",
       "    </tr>\n",
       "    <tr>\n",
       "      <td>4</td>\n",
       "      <td>Pokemon Red/Pokemon Blue</td>\n",
       "      <td>GB</td>\n",
       "      <td>1996.0</td>\n",
       "      <td>Role-Playing</td>\n",
       "      <td>11.27</td>\n",
       "      <td>8.89</td>\n",
       "      <td>10.22</td>\n",
       "      <td>1.00</td>\n",
       "      <td>NaN</td>\n",
       "      <td>NaN</td>\n",
       "      <td>NaN</td>\n",
       "    </tr>\n",
       "    <tr>\n",
       "      <td>...</td>\n",
       "      <td>...</td>\n",
       "      <td>...</td>\n",
       "      <td>...</td>\n",
       "      <td>...</td>\n",
       "      <td>...</td>\n",
       "      <td>...</td>\n",
       "      <td>...</td>\n",
       "      <td>...</td>\n",
       "      <td>...</td>\n",
       "      <td>...</td>\n",
       "      <td>...</td>\n",
       "    </tr>\n",
       "    <tr>\n",
       "      <td>16710</td>\n",
       "      <td>Samurai Warriors: Sanada Maru</td>\n",
       "      <td>PS3</td>\n",
       "      <td>2016.0</td>\n",
       "      <td>Action</td>\n",
       "      <td>0.00</td>\n",
       "      <td>0.00</td>\n",
       "      <td>0.01</td>\n",
       "      <td>0.00</td>\n",
       "      <td>NaN</td>\n",
       "      <td>NaN</td>\n",
       "      <td>NaN</td>\n",
       "    </tr>\n",
       "    <tr>\n",
       "      <td>16711</td>\n",
       "      <td>LMA Manager 2007</td>\n",
       "      <td>X360</td>\n",
       "      <td>2006.0</td>\n",
       "      <td>Sports</td>\n",
       "      <td>0.00</td>\n",
       "      <td>0.01</td>\n",
       "      <td>0.00</td>\n",
       "      <td>0.00</td>\n",
       "      <td>NaN</td>\n",
       "      <td>NaN</td>\n",
       "      <td>NaN</td>\n",
       "    </tr>\n",
       "    <tr>\n",
       "      <td>16712</td>\n",
       "      <td>Haitaka no Psychedelica</td>\n",
       "      <td>PSV</td>\n",
       "      <td>2016.0</td>\n",
       "      <td>Adventure</td>\n",
       "      <td>0.00</td>\n",
       "      <td>0.00</td>\n",
       "      <td>0.01</td>\n",
       "      <td>0.00</td>\n",
       "      <td>NaN</td>\n",
       "      <td>NaN</td>\n",
       "      <td>NaN</td>\n",
       "    </tr>\n",
       "    <tr>\n",
       "      <td>16713</td>\n",
       "      <td>Spirits &amp; Spells</td>\n",
       "      <td>GBA</td>\n",
       "      <td>2003.0</td>\n",
       "      <td>Platform</td>\n",
       "      <td>0.01</td>\n",
       "      <td>0.00</td>\n",
       "      <td>0.00</td>\n",
       "      <td>0.00</td>\n",
       "      <td>NaN</td>\n",
       "      <td>NaN</td>\n",
       "      <td>NaN</td>\n",
       "    </tr>\n",
       "    <tr>\n",
       "      <td>16714</td>\n",
       "      <td>Winning Post 8 2016</td>\n",
       "      <td>PSV</td>\n",
       "      <td>2016.0</td>\n",
       "      <td>Simulation</td>\n",
       "      <td>0.00</td>\n",
       "      <td>0.00</td>\n",
       "      <td>0.01</td>\n",
       "      <td>0.00</td>\n",
       "      <td>NaN</td>\n",
       "      <td>NaN</td>\n",
       "      <td>NaN</td>\n",
       "    </tr>\n",
       "  </tbody>\n",
       "</table>\n",
       "<p>16715 rows × 11 columns</p>\n",
       "</div>"
      ],
      "text/plain": [
       "                                Name Platform  Year_of_Release         Genre  \\\n",
       "0                         Wii Sports      Wii           2006.0        Sports   \n",
       "1                  Super Mario Bros.      NES           1985.0      Platform   \n",
       "2                     Mario Kart Wii      Wii           2008.0        Racing   \n",
       "3                  Wii Sports Resort      Wii           2009.0        Sports   \n",
       "4           Pokemon Red/Pokemon Blue       GB           1996.0  Role-Playing   \n",
       "...                              ...      ...              ...           ...   \n",
       "16710  Samurai Warriors: Sanada Maru      PS3           2016.0        Action   \n",
       "16711               LMA Manager 2007     X360           2006.0        Sports   \n",
       "16712        Haitaka no Psychedelica      PSV           2016.0     Adventure   \n",
       "16713               Spirits & Spells      GBA           2003.0      Platform   \n",
       "16714            Winning Post 8 2016      PSV           2016.0    Simulation   \n",
       "\n",
       "       NA_sales  EU_sales  JP_sales  Other_sales  Critic_Score User_Score  \\\n",
       "0         41.36     28.96      3.77         8.45          76.0          8   \n",
       "1         29.08      3.58      6.81         0.77           NaN        NaN   \n",
       "2         15.68     12.76      3.79         3.29          82.0        8.3   \n",
       "3         15.61     10.93      3.28         2.95          80.0          8   \n",
       "4         11.27      8.89     10.22         1.00           NaN        NaN   \n",
       "...         ...       ...       ...          ...           ...        ...   \n",
       "16710      0.00      0.00      0.01         0.00           NaN        NaN   \n",
       "16711      0.00      0.01      0.00         0.00           NaN        NaN   \n",
       "16712      0.00      0.00      0.01         0.00           NaN        NaN   \n",
       "16713      0.01      0.00      0.00         0.00           NaN        NaN   \n",
       "16714      0.00      0.00      0.01         0.00           NaN        NaN   \n",
       "\n",
       "      Rating  \n",
       "0          E  \n",
       "1        NaN  \n",
       "2          E  \n",
       "3          E  \n",
       "4        NaN  \n",
       "...      ...  \n",
       "16710    NaN  \n",
       "16711    NaN  \n",
       "16712    NaN  \n",
       "16713    NaN  \n",
       "16714    NaN  \n",
       "\n",
       "[16715 rows x 11 columns]"
      ]
     },
     "execution_count": 3,
     "metadata": {},
     "output_type": "execute_result"
    }
   ],
   "source": [
    "#Выведу полностью датасет\n",
    "df"
   ]
  },
  {
   "cell_type": "code",
   "execution_count": 4,
   "metadata": {},
   "outputs": [
    {
     "name": "stdout",
     "output_type": "stream",
     "text": [
      "<class 'pandas.core.frame.DataFrame'>\n",
      "RangeIndex: 16715 entries, 0 to 16714\n",
      "Data columns (total 11 columns):\n",
      "Name               16713 non-null object\n",
      "Platform           16715 non-null object\n",
      "Year_of_Release    16446 non-null float64\n",
      "Genre              16713 non-null object\n",
      "NA_sales           16715 non-null float64\n",
      "EU_sales           16715 non-null float64\n",
      "JP_sales           16715 non-null float64\n",
      "Other_sales        16715 non-null float64\n",
      "Critic_Score       8137 non-null float64\n",
      "User_Score         10014 non-null object\n",
      "Rating             9949 non-null object\n",
      "dtypes: float64(6), object(5)\n",
      "memory usage: 1.4+ MB\n"
     ]
    }
   ],
   "source": [
    "# Посмотрю информацию о таблице\n",
    "df.info()"
   ]
  },
  {
   "cell_type": "code",
   "execution_count": 5,
   "metadata": {},
   "outputs": [
    {
     "data": {
      "text/plain": [
       "Index(['Name', 'Platform', 'Year_of_Release', 'Genre', 'NA_sales', 'EU_sales',\n",
       "       'JP_sales', 'Other_sales', 'Critic_Score', 'User_Score', 'Rating'],\n",
       "      dtype='object')"
      ]
     },
     "execution_count": 5,
     "metadata": {},
     "output_type": "execute_result"
    }
   ],
   "source": [
    "#Посмотрю какие столбцы у имеются и все ли с ними впорядке\n",
    "df.columns"
   ]
  },
  {
   "cell_type": "code",
   "execution_count": 6,
   "metadata": {},
   "outputs": [
    {
     "data": {
      "text/plain": [
       "Name                  2\n",
       "Platform              0\n",
       "Year_of_Release     269\n",
       "Genre                 2\n",
       "NA_sales              0\n",
       "EU_sales              0\n",
       "JP_sales              0\n",
       "Other_sales           0\n",
       "Critic_Score       8578\n",
       "User_Score         6701\n",
       "Rating             6766\n",
       "dtype: int64"
      ]
     },
     "execution_count": 6,
     "metadata": {},
     "output_type": "execute_result"
    }
   ],
   "source": [
    "#Посчитаю количество пустых значений\n",
    "df.isna().sum()"
   ]
  },
  {
   "cell_type": "code",
   "execution_count": 7,
   "metadata": {},
   "outputs": [
    {
     "data": {
      "text/html": [
       "<div>\n",
       "<style scoped>\n",
       "    .dataframe tbody tr th:only-of-type {\n",
       "        vertical-align: middle;\n",
       "    }\n",
       "\n",
       "    .dataframe tbody tr th {\n",
       "        vertical-align: top;\n",
       "    }\n",
       "\n",
       "    .dataframe thead th {\n",
       "        text-align: right;\n",
       "    }\n",
       "</style>\n",
       "<table border=\"1\" class=\"dataframe\">\n",
       "  <thead>\n",
       "    <tr style=\"text-align: right;\">\n",
       "      <th></th>\n",
       "      <th>Name</th>\n",
       "      <th>Platform</th>\n",
       "      <th>Year_of_Release</th>\n",
       "      <th>Genre</th>\n",
       "      <th>NA_sales</th>\n",
       "      <th>EU_sales</th>\n",
       "      <th>JP_sales</th>\n",
       "      <th>Other_sales</th>\n",
       "      <th>Critic_Score</th>\n",
       "      <th>User_Score</th>\n",
       "      <th>Rating</th>\n",
       "    </tr>\n",
       "  </thead>\n",
       "  <tbody>\n",
       "    <tr>\n",
       "      <td>1</td>\n",
       "      <td>Super Mario Bros.</td>\n",
       "      <td>NES</td>\n",
       "      <td>1985.0</td>\n",
       "      <td>Platform</td>\n",
       "      <td>29.08</td>\n",
       "      <td>3.58</td>\n",
       "      <td>6.81</td>\n",
       "      <td>0.77</td>\n",
       "      <td>NaN</td>\n",
       "      <td>NaN</td>\n",
       "      <td>NaN</td>\n",
       "    </tr>\n",
       "    <tr>\n",
       "      <td>4</td>\n",
       "      <td>Pokemon Red/Pokemon Blue</td>\n",
       "      <td>GB</td>\n",
       "      <td>1996.0</td>\n",
       "      <td>Role-Playing</td>\n",
       "      <td>11.27</td>\n",
       "      <td>8.89</td>\n",
       "      <td>10.22</td>\n",
       "      <td>1.00</td>\n",
       "      <td>NaN</td>\n",
       "      <td>NaN</td>\n",
       "      <td>NaN</td>\n",
       "    </tr>\n",
       "    <tr>\n",
       "      <td>5</td>\n",
       "      <td>Tetris</td>\n",
       "      <td>GB</td>\n",
       "      <td>1989.0</td>\n",
       "      <td>Puzzle</td>\n",
       "      <td>23.20</td>\n",
       "      <td>2.26</td>\n",
       "      <td>4.22</td>\n",
       "      <td>0.58</td>\n",
       "      <td>NaN</td>\n",
       "      <td>NaN</td>\n",
       "      <td>NaN</td>\n",
       "    </tr>\n",
       "    <tr>\n",
       "      <td>9</td>\n",
       "      <td>Duck Hunt</td>\n",
       "      <td>NES</td>\n",
       "      <td>1984.0</td>\n",
       "      <td>Shooter</td>\n",
       "      <td>26.93</td>\n",
       "      <td>0.63</td>\n",
       "      <td>0.28</td>\n",
       "      <td>0.47</td>\n",
       "      <td>NaN</td>\n",
       "      <td>NaN</td>\n",
       "      <td>NaN</td>\n",
       "    </tr>\n",
       "    <tr>\n",
       "      <td>10</td>\n",
       "      <td>Nintendogs</td>\n",
       "      <td>DS</td>\n",
       "      <td>2005.0</td>\n",
       "      <td>Simulation</td>\n",
       "      <td>9.05</td>\n",
       "      <td>10.95</td>\n",
       "      <td>1.93</td>\n",
       "      <td>2.74</td>\n",
       "      <td>NaN</td>\n",
       "      <td>NaN</td>\n",
       "      <td>NaN</td>\n",
       "    </tr>\n",
       "    <tr>\n",
       "      <td>...</td>\n",
       "      <td>...</td>\n",
       "      <td>...</td>\n",
       "      <td>...</td>\n",
       "      <td>...</td>\n",
       "      <td>...</td>\n",
       "      <td>...</td>\n",
       "      <td>...</td>\n",
       "      <td>...</td>\n",
       "      <td>...</td>\n",
       "      <td>...</td>\n",
       "      <td>...</td>\n",
       "    </tr>\n",
       "    <tr>\n",
       "      <td>16710</td>\n",
       "      <td>Samurai Warriors: Sanada Maru</td>\n",
       "      <td>PS3</td>\n",
       "      <td>2016.0</td>\n",
       "      <td>Action</td>\n",
       "      <td>0.00</td>\n",
       "      <td>0.00</td>\n",
       "      <td>0.01</td>\n",
       "      <td>0.00</td>\n",
       "      <td>NaN</td>\n",
       "      <td>NaN</td>\n",
       "      <td>NaN</td>\n",
       "    </tr>\n",
       "    <tr>\n",
       "      <td>16711</td>\n",
       "      <td>LMA Manager 2007</td>\n",
       "      <td>X360</td>\n",
       "      <td>2006.0</td>\n",
       "      <td>Sports</td>\n",
       "      <td>0.00</td>\n",
       "      <td>0.01</td>\n",
       "      <td>0.00</td>\n",
       "      <td>0.00</td>\n",
       "      <td>NaN</td>\n",
       "      <td>NaN</td>\n",
       "      <td>NaN</td>\n",
       "    </tr>\n",
       "    <tr>\n",
       "      <td>16712</td>\n",
       "      <td>Haitaka no Psychedelica</td>\n",
       "      <td>PSV</td>\n",
       "      <td>2016.0</td>\n",
       "      <td>Adventure</td>\n",
       "      <td>0.00</td>\n",
       "      <td>0.00</td>\n",
       "      <td>0.01</td>\n",
       "      <td>0.00</td>\n",
       "      <td>NaN</td>\n",
       "      <td>NaN</td>\n",
       "      <td>NaN</td>\n",
       "    </tr>\n",
       "    <tr>\n",
       "      <td>16713</td>\n",
       "      <td>Spirits &amp; Spells</td>\n",
       "      <td>GBA</td>\n",
       "      <td>2003.0</td>\n",
       "      <td>Platform</td>\n",
       "      <td>0.01</td>\n",
       "      <td>0.00</td>\n",
       "      <td>0.00</td>\n",
       "      <td>0.00</td>\n",
       "      <td>NaN</td>\n",
       "      <td>NaN</td>\n",
       "      <td>NaN</td>\n",
       "    </tr>\n",
       "    <tr>\n",
       "      <td>16714</td>\n",
       "      <td>Winning Post 8 2016</td>\n",
       "      <td>PSV</td>\n",
       "      <td>2016.0</td>\n",
       "      <td>Simulation</td>\n",
       "      <td>0.00</td>\n",
       "      <td>0.00</td>\n",
       "      <td>0.01</td>\n",
       "      <td>0.00</td>\n",
       "      <td>NaN</td>\n",
       "      <td>NaN</td>\n",
       "      <td>NaN</td>\n",
       "    </tr>\n",
       "  </tbody>\n",
       "</table>\n",
       "<p>8578 rows × 11 columns</p>\n",
       "</div>"
      ],
      "text/plain": [
       "                                Name Platform  Year_of_Release         Genre  \\\n",
       "1                  Super Mario Bros.      NES           1985.0      Platform   \n",
       "4           Pokemon Red/Pokemon Blue       GB           1996.0  Role-Playing   \n",
       "5                             Tetris       GB           1989.0        Puzzle   \n",
       "9                          Duck Hunt      NES           1984.0       Shooter   \n",
       "10                        Nintendogs       DS           2005.0    Simulation   \n",
       "...                              ...      ...              ...           ...   \n",
       "16710  Samurai Warriors: Sanada Maru      PS3           2016.0        Action   \n",
       "16711               LMA Manager 2007     X360           2006.0        Sports   \n",
       "16712        Haitaka no Psychedelica      PSV           2016.0     Adventure   \n",
       "16713               Spirits & Spells      GBA           2003.0      Platform   \n",
       "16714            Winning Post 8 2016      PSV           2016.0    Simulation   \n",
       "\n",
       "       NA_sales  EU_sales  JP_sales  Other_sales  Critic_Score User_Score  \\\n",
       "1         29.08      3.58      6.81         0.77           NaN        NaN   \n",
       "4         11.27      8.89     10.22         1.00           NaN        NaN   \n",
       "5         23.20      2.26      4.22         0.58           NaN        NaN   \n",
       "9         26.93      0.63      0.28         0.47           NaN        NaN   \n",
       "10         9.05     10.95      1.93         2.74           NaN        NaN   \n",
       "...         ...       ...       ...          ...           ...        ...   \n",
       "16710      0.00      0.00      0.01         0.00           NaN        NaN   \n",
       "16711      0.00      0.01      0.00         0.00           NaN        NaN   \n",
       "16712      0.00      0.00      0.01         0.00           NaN        NaN   \n",
       "16713      0.01      0.00      0.00         0.00           NaN        NaN   \n",
       "16714      0.00      0.00      0.01         0.00           NaN        NaN   \n",
       "\n",
       "      Rating  \n",
       "1        NaN  \n",
       "4        NaN  \n",
       "5        NaN  \n",
       "9        NaN  \n",
       "10       NaN  \n",
       "...      ...  \n",
       "16710    NaN  \n",
       "16711    NaN  \n",
       "16712    NaN  \n",
       "16713    NaN  \n",
       "16714    NaN  \n",
       "\n",
       "[8578 rows x 11 columns]"
      ]
     },
     "execution_count": 7,
     "metadata": {},
     "output_type": "execute_result"
    }
   ],
   "source": [
    "#Посмотрю на таблицу, где имеются пустые значения в столбце critic_score\n",
    "df[df['Critic_Score'].isna()]"
   ]
  },
  {
   "cell_type": "code",
   "execution_count": 8,
   "metadata": {},
   "outputs": [
    {
     "data": {
      "text/html": [
       "<div>\n",
       "<style scoped>\n",
       "    .dataframe tbody tr th:only-of-type {\n",
       "        vertical-align: middle;\n",
       "    }\n",
       "\n",
       "    .dataframe tbody tr th {\n",
       "        vertical-align: top;\n",
       "    }\n",
       "\n",
       "    .dataframe thead th {\n",
       "        text-align: right;\n",
       "    }\n",
       "</style>\n",
       "<table border=\"1\" class=\"dataframe\">\n",
       "  <thead>\n",
       "    <tr style=\"text-align: right;\">\n",
       "      <th></th>\n",
       "      <th>Name</th>\n",
       "      <th>Platform</th>\n",
       "      <th>Year_of_Release</th>\n",
       "      <th>Genre</th>\n",
       "      <th>NA_sales</th>\n",
       "      <th>EU_sales</th>\n",
       "      <th>JP_sales</th>\n",
       "      <th>Other_sales</th>\n",
       "      <th>Critic_Score</th>\n",
       "      <th>User_Score</th>\n",
       "      <th>Rating</th>\n",
       "    </tr>\n",
       "  </thead>\n",
       "  <tbody>\n",
       "    <tr>\n",
       "      <td>1</td>\n",
       "      <td>Super Mario Bros.</td>\n",
       "      <td>NES</td>\n",
       "      <td>1985.0</td>\n",
       "      <td>Platform</td>\n",
       "      <td>29.08</td>\n",
       "      <td>3.58</td>\n",
       "      <td>6.81</td>\n",
       "      <td>0.77</td>\n",
       "      <td>NaN</td>\n",
       "      <td>NaN</td>\n",
       "      <td>NaN</td>\n",
       "    </tr>\n",
       "    <tr>\n",
       "      <td>4</td>\n",
       "      <td>Pokemon Red/Pokemon Blue</td>\n",
       "      <td>GB</td>\n",
       "      <td>1996.0</td>\n",
       "      <td>Role-Playing</td>\n",
       "      <td>11.27</td>\n",
       "      <td>8.89</td>\n",
       "      <td>10.22</td>\n",
       "      <td>1.00</td>\n",
       "      <td>NaN</td>\n",
       "      <td>NaN</td>\n",
       "      <td>NaN</td>\n",
       "    </tr>\n",
       "    <tr>\n",
       "      <td>5</td>\n",
       "      <td>Tetris</td>\n",
       "      <td>GB</td>\n",
       "      <td>1989.0</td>\n",
       "      <td>Puzzle</td>\n",
       "      <td>23.20</td>\n",
       "      <td>2.26</td>\n",
       "      <td>4.22</td>\n",
       "      <td>0.58</td>\n",
       "      <td>NaN</td>\n",
       "      <td>NaN</td>\n",
       "      <td>NaN</td>\n",
       "    </tr>\n",
       "    <tr>\n",
       "      <td>9</td>\n",
       "      <td>Duck Hunt</td>\n",
       "      <td>NES</td>\n",
       "      <td>1984.0</td>\n",
       "      <td>Shooter</td>\n",
       "      <td>26.93</td>\n",
       "      <td>0.63</td>\n",
       "      <td>0.28</td>\n",
       "      <td>0.47</td>\n",
       "      <td>NaN</td>\n",
       "      <td>NaN</td>\n",
       "      <td>NaN</td>\n",
       "    </tr>\n",
       "    <tr>\n",
       "      <td>10</td>\n",
       "      <td>Nintendogs</td>\n",
       "      <td>DS</td>\n",
       "      <td>2005.0</td>\n",
       "      <td>Simulation</td>\n",
       "      <td>9.05</td>\n",
       "      <td>10.95</td>\n",
       "      <td>1.93</td>\n",
       "      <td>2.74</td>\n",
       "      <td>NaN</td>\n",
       "      <td>NaN</td>\n",
       "      <td>NaN</td>\n",
       "    </tr>\n",
       "    <tr>\n",
       "      <td>...</td>\n",
       "      <td>...</td>\n",
       "      <td>...</td>\n",
       "      <td>...</td>\n",
       "      <td>...</td>\n",
       "      <td>...</td>\n",
       "      <td>...</td>\n",
       "      <td>...</td>\n",
       "      <td>...</td>\n",
       "      <td>...</td>\n",
       "      <td>...</td>\n",
       "      <td>...</td>\n",
       "    </tr>\n",
       "    <tr>\n",
       "      <td>16710</td>\n",
       "      <td>Samurai Warriors: Sanada Maru</td>\n",
       "      <td>PS3</td>\n",
       "      <td>2016.0</td>\n",
       "      <td>Action</td>\n",
       "      <td>0.00</td>\n",
       "      <td>0.00</td>\n",
       "      <td>0.01</td>\n",
       "      <td>0.00</td>\n",
       "      <td>NaN</td>\n",
       "      <td>NaN</td>\n",
       "      <td>NaN</td>\n",
       "    </tr>\n",
       "    <tr>\n",
       "      <td>16711</td>\n",
       "      <td>LMA Manager 2007</td>\n",
       "      <td>X360</td>\n",
       "      <td>2006.0</td>\n",
       "      <td>Sports</td>\n",
       "      <td>0.00</td>\n",
       "      <td>0.01</td>\n",
       "      <td>0.00</td>\n",
       "      <td>0.00</td>\n",
       "      <td>NaN</td>\n",
       "      <td>NaN</td>\n",
       "      <td>NaN</td>\n",
       "    </tr>\n",
       "    <tr>\n",
       "      <td>16712</td>\n",
       "      <td>Haitaka no Psychedelica</td>\n",
       "      <td>PSV</td>\n",
       "      <td>2016.0</td>\n",
       "      <td>Adventure</td>\n",
       "      <td>0.00</td>\n",
       "      <td>0.00</td>\n",
       "      <td>0.01</td>\n",
       "      <td>0.00</td>\n",
       "      <td>NaN</td>\n",
       "      <td>NaN</td>\n",
       "      <td>NaN</td>\n",
       "    </tr>\n",
       "    <tr>\n",
       "      <td>16713</td>\n",
       "      <td>Spirits &amp; Spells</td>\n",
       "      <td>GBA</td>\n",
       "      <td>2003.0</td>\n",
       "      <td>Platform</td>\n",
       "      <td>0.01</td>\n",
       "      <td>0.00</td>\n",
       "      <td>0.00</td>\n",
       "      <td>0.00</td>\n",
       "      <td>NaN</td>\n",
       "      <td>NaN</td>\n",
       "      <td>NaN</td>\n",
       "    </tr>\n",
       "    <tr>\n",
       "      <td>16714</td>\n",
       "      <td>Winning Post 8 2016</td>\n",
       "      <td>PSV</td>\n",
       "      <td>2016.0</td>\n",
       "      <td>Simulation</td>\n",
       "      <td>0.00</td>\n",
       "      <td>0.00</td>\n",
       "      <td>0.01</td>\n",
       "      <td>0.00</td>\n",
       "      <td>NaN</td>\n",
       "      <td>NaN</td>\n",
       "      <td>NaN</td>\n",
       "    </tr>\n",
       "  </tbody>\n",
       "</table>\n",
       "<p>6701 rows × 11 columns</p>\n",
       "</div>"
      ],
      "text/plain": [
       "                                Name Platform  Year_of_Release         Genre  \\\n",
       "1                  Super Mario Bros.      NES           1985.0      Platform   \n",
       "4           Pokemon Red/Pokemon Blue       GB           1996.0  Role-Playing   \n",
       "5                             Tetris       GB           1989.0        Puzzle   \n",
       "9                          Duck Hunt      NES           1984.0       Shooter   \n",
       "10                        Nintendogs       DS           2005.0    Simulation   \n",
       "...                              ...      ...              ...           ...   \n",
       "16710  Samurai Warriors: Sanada Maru      PS3           2016.0        Action   \n",
       "16711               LMA Manager 2007     X360           2006.0        Sports   \n",
       "16712        Haitaka no Psychedelica      PSV           2016.0     Adventure   \n",
       "16713               Spirits & Spells      GBA           2003.0      Platform   \n",
       "16714            Winning Post 8 2016      PSV           2016.0    Simulation   \n",
       "\n",
       "       NA_sales  EU_sales  JP_sales  Other_sales  Critic_Score User_Score  \\\n",
       "1         29.08      3.58      6.81         0.77           NaN        NaN   \n",
       "4         11.27      8.89     10.22         1.00           NaN        NaN   \n",
       "5         23.20      2.26      4.22         0.58           NaN        NaN   \n",
       "9         26.93      0.63      0.28         0.47           NaN        NaN   \n",
       "10         9.05     10.95      1.93         2.74           NaN        NaN   \n",
       "...         ...       ...       ...          ...           ...        ...   \n",
       "16710      0.00      0.00      0.01         0.00           NaN        NaN   \n",
       "16711      0.00      0.01      0.00         0.00           NaN        NaN   \n",
       "16712      0.00      0.00      0.01         0.00           NaN        NaN   \n",
       "16713      0.01      0.00      0.00         0.00           NaN        NaN   \n",
       "16714      0.00      0.00      0.01         0.00           NaN        NaN   \n",
       "\n",
       "      Rating  \n",
       "1        NaN  \n",
       "4        NaN  \n",
       "5        NaN  \n",
       "9        NaN  \n",
       "10       NaN  \n",
       "...      ...  \n",
       "16710    NaN  \n",
       "16711    NaN  \n",
       "16712    NaN  \n",
       "16713    NaN  \n",
       "16714    NaN  \n",
       "\n",
       "[6701 rows x 11 columns]"
      ]
     },
     "execution_count": 8,
     "metadata": {},
     "output_type": "execute_result"
    }
   ],
   "source": [
    "#Посмотрю на таблицу, где имеются пустые значения в столбце user_score\n",
    "df[df['User_Score'].isna()]"
   ]
  },
  {
   "cell_type": "code",
   "execution_count": 9,
   "metadata": {},
   "outputs": [
    {
     "data": {
      "text/html": [
       "<div>\n",
       "<style scoped>\n",
       "    .dataframe tbody tr th:only-of-type {\n",
       "        vertical-align: middle;\n",
       "    }\n",
       "\n",
       "    .dataframe tbody tr th {\n",
       "        vertical-align: top;\n",
       "    }\n",
       "\n",
       "    .dataframe thead th {\n",
       "        text-align: right;\n",
       "    }\n",
       "</style>\n",
       "<table border=\"1\" class=\"dataframe\">\n",
       "  <thead>\n",
       "    <tr style=\"text-align: right;\">\n",
       "      <th></th>\n",
       "      <th>Name</th>\n",
       "      <th>Platform</th>\n",
       "      <th>Year_of_Release</th>\n",
       "      <th>Genre</th>\n",
       "      <th>NA_sales</th>\n",
       "      <th>EU_sales</th>\n",
       "      <th>JP_sales</th>\n",
       "      <th>Other_sales</th>\n",
       "      <th>Critic_Score</th>\n",
       "      <th>User_Score</th>\n",
       "      <th>Rating</th>\n",
       "    </tr>\n",
       "  </thead>\n",
       "  <tbody>\n",
       "    <tr>\n",
       "      <td>1</td>\n",
       "      <td>Super Mario Bros.</td>\n",
       "      <td>NES</td>\n",
       "      <td>1985.0</td>\n",
       "      <td>Platform</td>\n",
       "      <td>29.08</td>\n",
       "      <td>3.58</td>\n",
       "      <td>6.81</td>\n",
       "      <td>0.77</td>\n",
       "      <td>NaN</td>\n",
       "      <td>NaN</td>\n",
       "      <td>NaN</td>\n",
       "    </tr>\n",
       "    <tr>\n",
       "      <td>4</td>\n",
       "      <td>Pokemon Red/Pokemon Blue</td>\n",
       "      <td>GB</td>\n",
       "      <td>1996.0</td>\n",
       "      <td>Role-Playing</td>\n",
       "      <td>11.27</td>\n",
       "      <td>8.89</td>\n",
       "      <td>10.22</td>\n",
       "      <td>1.00</td>\n",
       "      <td>NaN</td>\n",
       "      <td>NaN</td>\n",
       "      <td>NaN</td>\n",
       "    </tr>\n",
       "    <tr>\n",
       "      <td>5</td>\n",
       "      <td>Tetris</td>\n",
       "      <td>GB</td>\n",
       "      <td>1989.0</td>\n",
       "      <td>Puzzle</td>\n",
       "      <td>23.20</td>\n",
       "      <td>2.26</td>\n",
       "      <td>4.22</td>\n",
       "      <td>0.58</td>\n",
       "      <td>NaN</td>\n",
       "      <td>NaN</td>\n",
       "      <td>NaN</td>\n",
       "    </tr>\n",
       "    <tr>\n",
       "      <td>9</td>\n",
       "      <td>Duck Hunt</td>\n",
       "      <td>NES</td>\n",
       "      <td>1984.0</td>\n",
       "      <td>Shooter</td>\n",
       "      <td>26.93</td>\n",
       "      <td>0.63</td>\n",
       "      <td>0.28</td>\n",
       "      <td>0.47</td>\n",
       "      <td>NaN</td>\n",
       "      <td>NaN</td>\n",
       "      <td>NaN</td>\n",
       "    </tr>\n",
       "    <tr>\n",
       "      <td>10</td>\n",
       "      <td>Nintendogs</td>\n",
       "      <td>DS</td>\n",
       "      <td>2005.0</td>\n",
       "      <td>Simulation</td>\n",
       "      <td>9.05</td>\n",
       "      <td>10.95</td>\n",
       "      <td>1.93</td>\n",
       "      <td>2.74</td>\n",
       "      <td>NaN</td>\n",
       "      <td>NaN</td>\n",
       "      <td>NaN</td>\n",
       "    </tr>\n",
       "    <tr>\n",
       "      <td>...</td>\n",
       "      <td>...</td>\n",
       "      <td>...</td>\n",
       "      <td>...</td>\n",
       "      <td>...</td>\n",
       "      <td>...</td>\n",
       "      <td>...</td>\n",
       "      <td>...</td>\n",
       "      <td>...</td>\n",
       "      <td>...</td>\n",
       "      <td>...</td>\n",
       "      <td>...</td>\n",
       "    </tr>\n",
       "    <tr>\n",
       "      <td>16710</td>\n",
       "      <td>Samurai Warriors: Sanada Maru</td>\n",
       "      <td>PS3</td>\n",
       "      <td>2016.0</td>\n",
       "      <td>Action</td>\n",
       "      <td>0.00</td>\n",
       "      <td>0.00</td>\n",
       "      <td>0.01</td>\n",
       "      <td>0.00</td>\n",
       "      <td>NaN</td>\n",
       "      <td>NaN</td>\n",
       "      <td>NaN</td>\n",
       "    </tr>\n",
       "    <tr>\n",
       "      <td>16711</td>\n",
       "      <td>LMA Manager 2007</td>\n",
       "      <td>X360</td>\n",
       "      <td>2006.0</td>\n",
       "      <td>Sports</td>\n",
       "      <td>0.00</td>\n",
       "      <td>0.01</td>\n",
       "      <td>0.00</td>\n",
       "      <td>0.00</td>\n",
       "      <td>NaN</td>\n",
       "      <td>NaN</td>\n",
       "      <td>NaN</td>\n",
       "    </tr>\n",
       "    <tr>\n",
       "      <td>16712</td>\n",
       "      <td>Haitaka no Psychedelica</td>\n",
       "      <td>PSV</td>\n",
       "      <td>2016.0</td>\n",
       "      <td>Adventure</td>\n",
       "      <td>0.00</td>\n",
       "      <td>0.00</td>\n",
       "      <td>0.01</td>\n",
       "      <td>0.00</td>\n",
       "      <td>NaN</td>\n",
       "      <td>NaN</td>\n",
       "      <td>NaN</td>\n",
       "    </tr>\n",
       "    <tr>\n",
       "      <td>16713</td>\n",
       "      <td>Spirits &amp; Spells</td>\n",
       "      <td>GBA</td>\n",
       "      <td>2003.0</td>\n",
       "      <td>Platform</td>\n",
       "      <td>0.01</td>\n",
       "      <td>0.00</td>\n",
       "      <td>0.00</td>\n",
       "      <td>0.00</td>\n",
       "      <td>NaN</td>\n",
       "      <td>NaN</td>\n",
       "      <td>NaN</td>\n",
       "    </tr>\n",
       "    <tr>\n",
       "      <td>16714</td>\n",
       "      <td>Winning Post 8 2016</td>\n",
       "      <td>PSV</td>\n",
       "      <td>2016.0</td>\n",
       "      <td>Simulation</td>\n",
       "      <td>0.00</td>\n",
       "      <td>0.00</td>\n",
       "      <td>0.01</td>\n",
       "      <td>0.00</td>\n",
       "      <td>NaN</td>\n",
       "      <td>NaN</td>\n",
       "      <td>NaN</td>\n",
       "    </tr>\n",
       "  </tbody>\n",
       "</table>\n",
       "<p>6766 rows × 11 columns</p>\n",
       "</div>"
      ],
      "text/plain": [
       "                                Name Platform  Year_of_Release         Genre  \\\n",
       "1                  Super Mario Bros.      NES           1985.0      Platform   \n",
       "4           Pokemon Red/Pokemon Blue       GB           1996.0  Role-Playing   \n",
       "5                             Tetris       GB           1989.0        Puzzle   \n",
       "9                          Duck Hunt      NES           1984.0       Shooter   \n",
       "10                        Nintendogs       DS           2005.0    Simulation   \n",
       "...                              ...      ...              ...           ...   \n",
       "16710  Samurai Warriors: Sanada Maru      PS3           2016.0        Action   \n",
       "16711               LMA Manager 2007     X360           2006.0        Sports   \n",
       "16712        Haitaka no Psychedelica      PSV           2016.0     Adventure   \n",
       "16713               Spirits & Spells      GBA           2003.0      Platform   \n",
       "16714            Winning Post 8 2016      PSV           2016.0    Simulation   \n",
       "\n",
       "       NA_sales  EU_sales  JP_sales  Other_sales  Critic_Score User_Score  \\\n",
       "1         29.08      3.58      6.81         0.77           NaN        NaN   \n",
       "4         11.27      8.89     10.22         1.00           NaN        NaN   \n",
       "5         23.20      2.26      4.22         0.58           NaN        NaN   \n",
       "9         26.93      0.63      0.28         0.47           NaN        NaN   \n",
       "10         9.05     10.95      1.93         2.74           NaN        NaN   \n",
       "...         ...       ...       ...          ...           ...        ...   \n",
       "16710      0.00      0.00      0.01         0.00           NaN        NaN   \n",
       "16711      0.00      0.01      0.00         0.00           NaN        NaN   \n",
       "16712      0.00      0.00      0.01         0.00           NaN        NaN   \n",
       "16713      0.01      0.00      0.00         0.00           NaN        NaN   \n",
       "16714      0.00      0.00      0.01         0.00           NaN        NaN   \n",
       "\n",
       "      Rating  \n",
       "1        NaN  \n",
       "4        NaN  \n",
       "5        NaN  \n",
       "9        NaN  \n",
       "10       NaN  \n",
       "...      ...  \n",
       "16710    NaN  \n",
       "16711    NaN  \n",
       "16712    NaN  \n",
       "16713    NaN  \n",
       "16714    NaN  \n",
       "\n",
       "[6766 rows x 11 columns]"
      ]
     },
     "execution_count": 9,
     "metadata": {},
     "output_type": "execute_result"
    }
   ],
   "source": [
    "#Посмотрю на таблицу, где имеются пустые значения в столбце rating\n",
    "df[df['Rating'].isna()]"
   ]
  },
  {
   "cell_type": "code",
   "execution_count": 10,
   "metadata": {},
   "outputs": [
    {
     "data": {
      "text/html": [
       "<div>\n",
       "<style scoped>\n",
       "    .dataframe tbody tr th:only-of-type {\n",
       "        vertical-align: middle;\n",
       "    }\n",
       "\n",
       "    .dataframe tbody tr th {\n",
       "        vertical-align: top;\n",
       "    }\n",
       "\n",
       "    .dataframe thead th {\n",
       "        text-align: right;\n",
       "    }\n",
       "</style>\n",
       "<table border=\"1\" class=\"dataframe\">\n",
       "  <thead>\n",
       "    <tr style=\"text-align: right;\">\n",
       "      <th></th>\n",
       "      <th>Name</th>\n",
       "      <th>Platform</th>\n",
       "      <th>Year_of_Release</th>\n",
       "      <th>Genre</th>\n",
       "      <th>NA_sales</th>\n",
       "      <th>EU_sales</th>\n",
       "      <th>JP_sales</th>\n",
       "      <th>Other_sales</th>\n",
       "      <th>Critic_Score</th>\n",
       "      <th>User_Score</th>\n",
       "      <th>Rating</th>\n",
       "    </tr>\n",
       "  </thead>\n",
       "  <tbody>\n",
       "    <tr>\n",
       "      <td>183</td>\n",
       "      <td>Madden NFL 2004</td>\n",
       "      <td>PS2</td>\n",
       "      <td>NaN</td>\n",
       "      <td>Sports</td>\n",
       "      <td>4.26</td>\n",
       "      <td>0.26</td>\n",
       "      <td>0.01</td>\n",
       "      <td>0.71</td>\n",
       "      <td>94.0</td>\n",
       "      <td>8.5</td>\n",
       "      <td>E</td>\n",
       "    </tr>\n",
       "    <tr>\n",
       "      <td>377</td>\n",
       "      <td>FIFA Soccer 2004</td>\n",
       "      <td>PS2</td>\n",
       "      <td>NaN</td>\n",
       "      <td>Sports</td>\n",
       "      <td>0.59</td>\n",
       "      <td>2.36</td>\n",
       "      <td>0.04</td>\n",
       "      <td>0.51</td>\n",
       "      <td>84.0</td>\n",
       "      <td>6.4</td>\n",
       "      <td>E</td>\n",
       "    </tr>\n",
       "    <tr>\n",
       "      <td>456</td>\n",
       "      <td>LEGO Batman: The Videogame</td>\n",
       "      <td>Wii</td>\n",
       "      <td>NaN</td>\n",
       "      <td>Action</td>\n",
       "      <td>1.80</td>\n",
       "      <td>0.97</td>\n",
       "      <td>0.00</td>\n",
       "      <td>0.29</td>\n",
       "      <td>74.0</td>\n",
       "      <td>7.9</td>\n",
       "      <td>E10+</td>\n",
       "    </tr>\n",
       "    <tr>\n",
       "      <td>475</td>\n",
       "      <td>wwe Smackdown vs. Raw 2006</td>\n",
       "      <td>PS2</td>\n",
       "      <td>NaN</td>\n",
       "      <td>Fighting</td>\n",
       "      <td>1.57</td>\n",
       "      <td>1.02</td>\n",
       "      <td>0.00</td>\n",
       "      <td>0.41</td>\n",
       "      <td>NaN</td>\n",
       "      <td>NaN</td>\n",
       "      <td>NaN</td>\n",
       "    </tr>\n",
       "    <tr>\n",
       "      <td>609</td>\n",
       "      <td>Space Invaders</td>\n",
       "      <td>2600</td>\n",
       "      <td>NaN</td>\n",
       "      <td>Shooter</td>\n",
       "      <td>2.36</td>\n",
       "      <td>0.14</td>\n",
       "      <td>0.00</td>\n",
       "      <td>0.03</td>\n",
       "      <td>NaN</td>\n",
       "      <td>NaN</td>\n",
       "      <td>NaN</td>\n",
       "    </tr>\n",
       "    <tr>\n",
       "      <td>...</td>\n",
       "      <td>...</td>\n",
       "      <td>...</td>\n",
       "      <td>...</td>\n",
       "      <td>...</td>\n",
       "      <td>...</td>\n",
       "      <td>...</td>\n",
       "      <td>...</td>\n",
       "      <td>...</td>\n",
       "      <td>...</td>\n",
       "      <td>...</td>\n",
       "      <td>...</td>\n",
       "    </tr>\n",
       "    <tr>\n",
       "      <td>16373</td>\n",
       "      <td>PDC World Championship Darts 2008</td>\n",
       "      <td>PSP</td>\n",
       "      <td>NaN</td>\n",
       "      <td>Sports</td>\n",
       "      <td>0.01</td>\n",
       "      <td>0.00</td>\n",
       "      <td>0.00</td>\n",
       "      <td>0.00</td>\n",
       "      <td>43.0</td>\n",
       "      <td>tbd</td>\n",
       "      <td>E10+</td>\n",
       "    </tr>\n",
       "    <tr>\n",
       "      <td>16405</td>\n",
       "      <td>Freaky Flyers</td>\n",
       "      <td>GC</td>\n",
       "      <td>NaN</td>\n",
       "      <td>Racing</td>\n",
       "      <td>0.01</td>\n",
       "      <td>0.00</td>\n",
       "      <td>0.00</td>\n",
       "      <td>0.00</td>\n",
       "      <td>69.0</td>\n",
       "      <td>6.5</td>\n",
       "      <td>T</td>\n",
       "    </tr>\n",
       "    <tr>\n",
       "      <td>16448</td>\n",
       "      <td>Inversion</td>\n",
       "      <td>PC</td>\n",
       "      <td>NaN</td>\n",
       "      <td>Shooter</td>\n",
       "      <td>0.01</td>\n",
       "      <td>0.00</td>\n",
       "      <td>0.00</td>\n",
       "      <td>0.00</td>\n",
       "      <td>59.0</td>\n",
       "      <td>6.7</td>\n",
       "      <td>M</td>\n",
       "    </tr>\n",
       "    <tr>\n",
       "      <td>16458</td>\n",
       "      <td>Hakuouki: Shinsengumi Kitan</td>\n",
       "      <td>PS3</td>\n",
       "      <td>NaN</td>\n",
       "      <td>Adventure</td>\n",
       "      <td>0.01</td>\n",
       "      <td>0.00</td>\n",
       "      <td>0.00</td>\n",
       "      <td>0.00</td>\n",
       "      <td>NaN</td>\n",
       "      <td>NaN</td>\n",
       "      <td>NaN</td>\n",
       "    </tr>\n",
       "    <tr>\n",
       "      <td>16522</td>\n",
       "      <td>Virtua Quest</td>\n",
       "      <td>GC</td>\n",
       "      <td>NaN</td>\n",
       "      <td>Role-Playing</td>\n",
       "      <td>0.01</td>\n",
       "      <td>0.00</td>\n",
       "      <td>0.00</td>\n",
       "      <td>0.00</td>\n",
       "      <td>55.0</td>\n",
       "      <td>5.5</td>\n",
       "      <td>T</td>\n",
       "    </tr>\n",
       "  </tbody>\n",
       "</table>\n",
       "<p>269 rows × 11 columns</p>\n",
       "</div>"
      ],
      "text/plain": [
       "                                    Name Platform  Year_of_Release  \\\n",
       "183                      Madden NFL 2004      PS2              NaN   \n",
       "377                     FIFA Soccer 2004      PS2              NaN   \n",
       "456           LEGO Batman: The Videogame      Wii              NaN   \n",
       "475           wwe Smackdown vs. Raw 2006      PS2              NaN   \n",
       "609                       Space Invaders     2600              NaN   \n",
       "...                                  ...      ...              ...   \n",
       "16373  PDC World Championship Darts 2008      PSP              NaN   \n",
       "16405                      Freaky Flyers       GC              NaN   \n",
       "16448                          Inversion       PC              NaN   \n",
       "16458        Hakuouki: Shinsengumi Kitan      PS3              NaN   \n",
       "16522                       Virtua Quest       GC              NaN   \n",
       "\n",
       "              Genre  NA_sales  EU_sales  JP_sales  Other_sales  Critic_Score  \\\n",
       "183          Sports      4.26      0.26      0.01         0.71          94.0   \n",
       "377          Sports      0.59      2.36      0.04         0.51          84.0   \n",
       "456          Action      1.80      0.97      0.00         0.29          74.0   \n",
       "475        Fighting      1.57      1.02      0.00         0.41           NaN   \n",
       "609         Shooter      2.36      0.14      0.00         0.03           NaN   \n",
       "...             ...       ...       ...       ...          ...           ...   \n",
       "16373        Sports      0.01      0.00      0.00         0.00          43.0   \n",
       "16405        Racing      0.01      0.00      0.00         0.00          69.0   \n",
       "16448       Shooter      0.01      0.00      0.00         0.00          59.0   \n",
       "16458     Adventure      0.01      0.00      0.00         0.00           NaN   \n",
       "16522  Role-Playing      0.01      0.00      0.00         0.00          55.0   \n",
       "\n",
       "      User_Score Rating  \n",
       "183          8.5      E  \n",
       "377          6.4      E  \n",
       "456          7.9   E10+  \n",
       "475          NaN    NaN  \n",
       "609          NaN    NaN  \n",
       "...          ...    ...  \n",
       "16373        tbd   E10+  \n",
       "16405        6.5      T  \n",
       "16448        6.7      M  \n",
       "16458        NaN    NaN  \n",
       "16522        5.5      T  \n",
       "\n",
       "[269 rows x 11 columns]"
      ]
     },
     "execution_count": 10,
     "metadata": {},
     "output_type": "execute_result"
    }
   ],
   "source": [
    "#Посмотрю на таблицу, где имеются пустые значения в столбце year_of_release\n",
    "df[df['Year_of_Release'].isna()]"
   ]
  },
  {
   "cell_type": "code",
   "execution_count": 11,
   "metadata": {},
   "outputs": [
    {
     "data": {
      "text/plain": [
       "PS2     2161\n",
       "DS      2151\n",
       "PS3     1331\n",
       "Wii     1320\n",
       "X360    1262\n",
       "PSP     1209\n",
       "PS      1197\n",
       "PC       974\n",
       "XB       824\n",
       "GBA      822\n",
       "GC       556\n",
       "3DS      520\n",
       "PSV      430\n",
       "PS4      392\n",
       "N64      319\n",
       "XOne     247\n",
       "SNES     239\n",
       "SAT      173\n",
       "WiiU     147\n",
       "2600     133\n",
       "NES       98\n",
       "GB        98\n",
       "DC        52\n",
       "GEN       29\n",
       "NG        12\n",
       "SCD        6\n",
       "WS         6\n",
       "3DO        3\n",
       "TG16       2\n",
       "PCFX       1\n",
       "GG         1\n",
       "Name: Platform, dtype: int64"
      ]
     },
     "execution_count": 11,
     "metadata": {},
     "output_type": "execute_result"
    }
   ],
   "source": [
    "#Посмотрю какие платформы для игры имеются\n",
    "df['Platform'].value_counts()"
   ]
  },
  {
   "cell_type": "code",
   "execution_count": 12,
   "metadata": {},
   "outputs": [
    {
     "data": {
      "text/plain": [
       "Action          3369\n",
       "Sports          2348\n",
       "Misc            1750\n",
       "Role-Playing    1498\n",
       "Shooter         1323\n",
       "Adventure       1303\n",
       "Racing          1249\n",
       "Platform         888\n",
       "Simulation       873\n",
       "Fighting         849\n",
       "Strategy         683\n",
       "Puzzle           580\n",
       "Name: Genre, dtype: int64"
      ]
     },
     "execution_count": 12,
     "metadata": {},
     "output_type": "execute_result"
    }
   ],
   "source": [
    "#Посмотрю какие жанры игр имеем и нет ли повторений\n",
    "df['Genre'].value_counts()"
   ]
  },
  {
   "cell_type": "code",
   "execution_count": 13,
   "metadata": {},
   "outputs": [
    {
     "data": {
      "text/plain": [
       "0"
      ]
     },
     "execution_count": 13,
     "metadata": {},
     "output_type": "execute_result"
    }
   ],
   "source": [
    "#Посчитаю количество дубликатов\n",
    "df.duplicated().sum()"
   ]
  },
  {
   "cell_type": "markdown",
   "metadata": {},
   "source": [
    "<div class=\"alert alert-info\"> <b>Вывод по изучению общей информации:</b> \n",
    "\n",
    "1) Необходимо привести к правильному типу столбец : Year of Release\n",
    "\n",
    "2) Также нужно привести к нижнему регистру столбцы нашей таблицы, а так же сами названия колонок\n",
    "\n",
    "3) Имеются пустые значения в столбцах rating, user_score, critic_score. Мы можем заменить имеющиеся пустые значения в таблице: year of release на года от той же игры только другой платформы, в остальных случаях решим в процессе предобработки\n",
    "    \n",
    "4) Дубликатов не имеется</div>"
   ]
  },
  {
   "cell_type": "markdown",
   "metadata": {},
   "source": [
    "<div class=\"alert alert-info\"> <b>2.Подготовка данных:</b> \n",
    "\n",
    "   1) Заменим названия столбцов (приведем к нижнему регистру);\n",
    "\n",
    "   2) Преобразуем данные в нужные типы. Опишем, в каких столбцах заменили тип данных и почему;\n",
    "    \n",
    "   3) Обработаем пропуски при необходимости;\n",
    "    \n",
    "   4) Объясним, почему заполнили пропуски определённым образом или почему не стали это делать;\n",
    "    \n",
    "   5) Опишем причины, которые могли привести к пропускам;\n",
    "    \n",
    "   6) Обратим внимание на аббревиатуру 'tbd' в столбцах с рейтингом. Отдельно разберем это значение и опишем, как его обработать;\n",
    "    \n",
    "   7)Посчитаем суммарные продажи во всех регионах и запишем их в отдельный столбец.</div>"
   ]
  },
  {
   "cell_type": "markdown",
   "metadata": {},
   "source": [
    "Заменим названия столбцов (приведем к нижнему регистру);"
   ]
  },
  {
   "cell_type": "code",
   "execution_count": 14,
   "metadata": {},
   "outputs": [
    {
     "data": {
      "text/plain": [
       "Index(['name', 'platform', 'year_of_release', 'genre', 'na_sales', 'eu_sales',\n",
       "       'jp_sales', 'other_sales', 'critic_score', 'user_score', 'rating'],\n",
       "      dtype='object')"
      ]
     },
     "execution_count": 14,
     "metadata": {},
     "output_type": "execute_result"
    }
   ],
   "source": [
    "# Заменю названия столбцов (приведу к нижнему регистру) \n",
    "df.columns = df.columns.str.lower()\n",
    "df.columns"
   ]
  },
  {
   "cell_type": "code",
   "execution_count": 15,
   "metadata": {},
   "outputs": [],
   "source": [
    "# Приведу к нижнему регистру следующие столбцы:\n",
    "for column in df[['name','platform','genre','rating']]:\n",
    "    df[column] = df[column].str.lower()"
   ]
  },
  {
   "cell_type": "markdown",
   "metadata": {},
   "source": [
    "Преобразуем данные в нужные типы. Опишем, в каких столбцах заменили тип данных и почему;"
   ]
  },
  {
   "cell_type": "code",
   "execution_count": 16,
   "metadata": {},
   "outputs": [],
   "source": [
    "# Изменю тип данных в столбце year_of_release \n",
    "df['year_of_release'] = df['year_of_release'].astype('Int64')"
   ]
  },
  {
   "cell_type": "code",
   "execution_count": 17,
   "metadata": {},
   "outputs": [
    {
     "data": {
      "text/html": [
       "<div>\n",
       "<style scoped>\n",
       "    .dataframe tbody tr th:only-of-type {\n",
       "        vertical-align: middle;\n",
       "    }\n",
       "\n",
       "    .dataframe tbody tr th {\n",
       "        vertical-align: top;\n",
       "    }\n",
       "\n",
       "    .dataframe thead th {\n",
       "        text-align: right;\n",
       "    }\n",
       "</style>\n",
       "<table border=\"1\" class=\"dataframe\">\n",
       "  <thead>\n",
       "    <tr style=\"text-align: right;\">\n",
       "      <th></th>\n",
       "      <th>name</th>\n",
       "      <th>platform</th>\n",
       "      <th>year_of_release</th>\n",
       "      <th>genre</th>\n",
       "      <th>na_sales</th>\n",
       "      <th>eu_sales</th>\n",
       "      <th>jp_sales</th>\n",
       "      <th>other_sales</th>\n",
       "      <th>critic_score</th>\n",
       "      <th>user_score</th>\n",
       "      <th>rating</th>\n",
       "    </tr>\n",
       "  </thead>\n",
       "  <tbody>\n",
       "    <tr>\n",
       "      <td>14582</td>\n",
       "      <td>hiiro no kakera: shin tamayori hime denshou - ...</td>\n",
       "      <td>psp</td>\n",
       "      <td>2011</td>\n",
       "      <td>adventure</td>\n",
       "      <td>0.00</td>\n",
       "      <td>0.00</td>\n",
       "      <td>0.03</td>\n",
       "      <td>0.00</td>\n",
       "      <td>NaN</td>\n",
       "      <td>NaN</td>\n",
       "      <td>NaN</td>\n",
       "    </tr>\n",
       "    <tr>\n",
       "      <td>16603</td>\n",
       "      <td>satomi hakkenden: hachi tamanoki</td>\n",
       "      <td>psp</td>\n",
       "      <td>2014</td>\n",
       "      <td>adventure</td>\n",
       "      <td>0.00</td>\n",
       "      <td>0.00</td>\n",
       "      <td>0.01</td>\n",
       "      <td>0.00</td>\n",
       "      <td>NaN</td>\n",
       "      <td>NaN</td>\n",
       "      <td>NaN</td>\n",
       "    </tr>\n",
       "    <tr>\n",
       "      <td>369</td>\n",
       "      <td>fifa soccer 11</td>\n",
       "      <td>x360</td>\n",
       "      <td>2010</td>\n",
       "      <td>sports</td>\n",
       "      <td>0.71</td>\n",
       "      <td>2.39</td>\n",
       "      <td>0.02</td>\n",
       "      <td>0.40</td>\n",
       "      <td>88.0</td>\n",
       "      <td>7.5</td>\n",
       "      <td>e</td>\n",
       "    </tr>\n",
       "    <tr>\n",
       "      <td>12291</td>\n",
       "      <td>world poker tour</td>\n",
       "      <td>xb</td>\n",
       "      <td>2005</td>\n",
       "      <td>misc</td>\n",
       "      <td>0.05</td>\n",
       "      <td>0.01</td>\n",
       "      <td>0.00</td>\n",
       "      <td>0.00</td>\n",
       "      <td>63.0</td>\n",
       "      <td>7.8</td>\n",
       "      <td>t</td>\n",
       "    </tr>\n",
       "    <tr>\n",
       "      <td>10032</td>\n",
       "      <td>nba jam 2002</td>\n",
       "      <td>gba</td>\n",
       "      <td>2002</td>\n",
       "      <td>sports</td>\n",
       "      <td>0.08</td>\n",
       "      <td>0.03</td>\n",
       "      <td>0.00</td>\n",
       "      <td>0.00</td>\n",
       "      <td>49.0</td>\n",
       "      <td>tbd</td>\n",
       "      <td>e</td>\n",
       "    </tr>\n",
       "    <tr>\n",
       "      <td>3753</td>\n",
       "      <td>rune factory: a fantasy harvest moon</td>\n",
       "      <td>ds</td>\n",
       "      <td>2006</td>\n",
       "      <td>role-playing</td>\n",
       "      <td>0.35</td>\n",
       "      <td>0.01</td>\n",
       "      <td>0.14</td>\n",
       "      <td>0.03</td>\n",
       "      <td>78.0</td>\n",
       "      <td>8.1</td>\n",
       "      <td>e</td>\n",
       "    </tr>\n",
       "    <tr>\n",
       "      <td>16220</td>\n",
       "      <td>1/2 summer +</td>\n",
       "      <td>psp</td>\n",
       "      <td>2013</td>\n",
       "      <td>adventure</td>\n",
       "      <td>0.00</td>\n",
       "      <td>0.00</td>\n",
       "      <td>0.01</td>\n",
       "      <td>0.00</td>\n",
       "      <td>NaN</td>\n",
       "      <td>NaN</td>\n",
       "      <td>NaN</td>\n",
       "    </tr>\n",
       "    <tr>\n",
       "      <td>9987</td>\n",
       "      <td>fifa soccer</td>\n",
       "      <td>psp</td>\n",
       "      <td>2005</td>\n",
       "      <td>sports</td>\n",
       "      <td>0.11</td>\n",
       "      <td>0.00</td>\n",
       "      <td>0.00</td>\n",
       "      <td>0.01</td>\n",
       "      <td>73.0</td>\n",
       "      <td>7.7</td>\n",
       "      <td>e</td>\n",
       "    </tr>\n",
       "    <tr>\n",
       "      <td>8408</td>\n",
       "      <td>time and eternity</td>\n",
       "      <td>ps3</td>\n",
       "      <td>2012</td>\n",
       "      <td>role-playing</td>\n",
       "      <td>0.06</td>\n",
       "      <td>0.03</td>\n",
       "      <td>0.06</td>\n",
       "      <td>0.02</td>\n",
       "      <td>42.0</td>\n",
       "      <td>5</td>\n",
       "      <td>t</td>\n",
       "    </tr>\n",
       "    <tr>\n",
       "      <td>1586</td>\n",
       "      <td>watch dogs</td>\n",
       "      <td>x360</td>\n",
       "      <td>2014</td>\n",
       "      <td>action</td>\n",
       "      <td>0.72</td>\n",
       "      <td>0.41</td>\n",
       "      <td>0.01</td>\n",
       "      <td>0.11</td>\n",
       "      <td>NaN</td>\n",
       "      <td>5</td>\n",
       "      <td>m</td>\n",
       "    </tr>\n",
       "    <tr>\n",
       "      <td>754</td>\n",
       "      <td>fifa 15</td>\n",
       "      <td>xone</td>\n",
       "      <td>2014</td>\n",
       "      <td>sports</td>\n",
       "      <td>0.60</td>\n",
       "      <td>1.42</td>\n",
       "      <td>0.00</td>\n",
       "      <td>0.16</td>\n",
       "      <td>82.0</td>\n",
       "      <td>5.4</td>\n",
       "      <td>e</td>\n",
       "    </tr>\n",
       "    <tr>\n",
       "      <td>10832</td>\n",
       "      <td>neo atlas</td>\n",
       "      <td>ps</td>\n",
       "      <td>1998</td>\n",
       "      <td>strategy</td>\n",
       "      <td>0.00</td>\n",
       "      <td>0.00</td>\n",
       "      <td>0.09</td>\n",
       "      <td>0.01</td>\n",
       "      <td>NaN</td>\n",
       "      <td>NaN</td>\n",
       "      <td>NaN</td>\n",
       "    </tr>\n",
       "    <tr>\n",
       "      <td>9613</td>\n",
       "      <td>aikatsu! 365 idol days</td>\n",
       "      <td>3ds</td>\n",
       "      <td>2014</td>\n",
       "      <td>adventure</td>\n",
       "      <td>0.00</td>\n",
       "      <td>0.00</td>\n",
       "      <td>0.13</td>\n",
       "      <td>0.00</td>\n",
       "      <td>NaN</td>\n",
       "      <td>NaN</td>\n",
       "      <td>NaN</td>\n",
       "    </tr>\n",
       "    <tr>\n",
       "      <td>10199</td>\n",
       "      <td>top gear rally 2</td>\n",
       "      <td>n64</td>\n",
       "      <td>1999</td>\n",
       "      <td>racing</td>\n",
       "      <td>0.09</td>\n",
       "      <td>0.02</td>\n",
       "      <td>0.00</td>\n",
       "      <td>0.00</td>\n",
       "      <td>NaN</td>\n",
       "      <td>NaN</td>\n",
       "      <td>NaN</td>\n",
       "    </tr>\n",
       "    <tr>\n",
       "      <td>9034</td>\n",
       "      <td>heroes of mana</td>\n",
       "      <td>ds</td>\n",
       "      <td>2007</td>\n",
       "      <td>strategy</td>\n",
       "      <td>0.07</td>\n",
       "      <td>0.01</td>\n",
       "      <td>0.05</td>\n",
       "      <td>0.01</td>\n",
       "      <td>66.0</td>\n",
       "      <td>tbd</td>\n",
       "      <td>e10+</td>\n",
       "    </tr>\n",
       "    <tr>\n",
       "      <td>311</td>\n",
       "      <td>tony hawk's underground</td>\n",
       "      <td>ps2</td>\n",
       "      <td>2003</td>\n",
       "      <td>sports</td>\n",
       "      <td>2.29</td>\n",
       "      <td>1.17</td>\n",
       "      <td>0.01</td>\n",
       "      <td>0.42</td>\n",
       "      <td>90.0</td>\n",
       "      <td>8.7</td>\n",
       "      <td>t</td>\n",
       "    </tr>\n",
       "    <tr>\n",
       "      <td>10461</td>\n",
       "      <td>etrian odyssey ii: heroes of lagaard</td>\n",
       "      <td>3ds</td>\n",
       "      <td>2014</td>\n",
       "      <td>role-playing</td>\n",
       "      <td>0.00</td>\n",
       "      <td>0.00</td>\n",
       "      <td>0.10</td>\n",
       "      <td>0.00</td>\n",
       "      <td>NaN</td>\n",
       "      <td>NaN</td>\n",
       "      <td>NaN</td>\n",
       "    </tr>\n",
       "    <tr>\n",
       "      <td>8208</td>\n",
       "      <td>yakuza zero: the place of oath</td>\n",
       "      <td>ps4</td>\n",
       "      <td>2015</td>\n",
       "      <td>action</td>\n",
       "      <td>0.00</td>\n",
       "      <td>0.00</td>\n",
       "      <td>0.17</td>\n",
       "      <td>0.00</td>\n",
       "      <td>NaN</td>\n",
       "      <td>NaN</td>\n",
       "      <td>NaN</td>\n",
       "    </tr>\n",
       "    <tr>\n",
       "      <td>11328</td>\n",
       "      <td>bomberman jetters</td>\n",
       "      <td>gc</td>\n",
       "      <td>2002</td>\n",
       "      <td>puzzle</td>\n",
       "      <td>0.06</td>\n",
       "      <td>0.02</td>\n",
       "      <td>0.00</td>\n",
       "      <td>0.00</td>\n",
       "      <td>70.0</td>\n",
       "      <td>7.9</td>\n",
       "      <td>e</td>\n",
       "    </tr>\n",
       "    <tr>\n",
       "      <td>5878</td>\n",
       "      <td>nounai aeshe: iq suppli ds</td>\n",
       "      <td>ds</td>\n",
       "      <td>2006</td>\n",
       "      <td>misc</td>\n",
       "      <td>0.00</td>\n",
       "      <td>0.00</td>\n",
       "      <td>0.30</td>\n",
       "      <td>0.00</td>\n",
       "      <td>NaN</td>\n",
       "      <td>NaN</td>\n",
       "      <td>NaN</td>\n",
       "    </tr>\n",
       "  </tbody>\n",
       "</table>\n",
       "</div>"
      ],
      "text/plain": [
       "                                                    name platform  \\\n",
       "14582  hiiro no kakera: shin tamayori hime denshou - ...      psp   \n",
       "16603                   satomi hakkenden: hachi tamanoki      psp   \n",
       "369                                       fifa soccer 11     x360   \n",
       "12291                                   world poker tour       xb   \n",
       "10032                                       nba jam 2002      gba   \n",
       "3753                rune factory: a fantasy harvest moon       ds   \n",
       "16220                                       1/2 summer +      psp   \n",
       "9987                                         fifa soccer      psp   \n",
       "8408                                   time and eternity      ps3   \n",
       "1586                                          watch dogs     x360   \n",
       "754                                              fifa 15     xone   \n",
       "10832                                          neo atlas       ps   \n",
       "9613                              aikatsu! 365 idol days      3ds   \n",
       "10199                                   top gear rally 2      n64   \n",
       "9034                                      heroes of mana       ds   \n",
       "311                              tony hawk's underground      ps2   \n",
       "10461               etrian odyssey ii: heroes of lagaard      3ds   \n",
       "8208                      yakuza zero: the place of oath      ps4   \n",
       "11328                                  bomberman jetters       gc   \n",
       "5878                          nounai aeshe: iq suppli ds       ds   \n",
       "\n",
       "       year_of_release         genre  na_sales  eu_sales  jp_sales  \\\n",
       "14582             2011     adventure      0.00      0.00      0.03   \n",
       "16603             2014     adventure      0.00      0.00      0.01   \n",
       "369               2010        sports      0.71      2.39      0.02   \n",
       "12291             2005          misc      0.05      0.01      0.00   \n",
       "10032             2002        sports      0.08      0.03      0.00   \n",
       "3753              2006  role-playing      0.35      0.01      0.14   \n",
       "16220             2013     adventure      0.00      0.00      0.01   \n",
       "9987              2005        sports      0.11      0.00      0.00   \n",
       "8408              2012  role-playing      0.06      0.03      0.06   \n",
       "1586              2014        action      0.72      0.41      0.01   \n",
       "754               2014        sports      0.60      1.42      0.00   \n",
       "10832             1998      strategy      0.00      0.00      0.09   \n",
       "9613              2014     adventure      0.00      0.00      0.13   \n",
       "10199             1999        racing      0.09      0.02      0.00   \n",
       "9034              2007      strategy      0.07      0.01      0.05   \n",
       "311               2003        sports      2.29      1.17      0.01   \n",
       "10461             2014  role-playing      0.00      0.00      0.10   \n",
       "8208              2015        action      0.00      0.00      0.17   \n",
       "11328             2002        puzzle      0.06      0.02      0.00   \n",
       "5878              2006          misc      0.00      0.00      0.30   \n",
       "\n",
       "       other_sales  critic_score user_score rating  \n",
       "14582         0.00           NaN        NaN    NaN  \n",
       "16603         0.00           NaN        NaN    NaN  \n",
       "369           0.40          88.0        7.5      e  \n",
       "12291         0.00          63.0        7.8      t  \n",
       "10032         0.00          49.0        tbd      e  \n",
       "3753          0.03          78.0        8.1      e  \n",
       "16220         0.00           NaN        NaN    NaN  \n",
       "9987          0.01          73.0        7.7      e  \n",
       "8408          0.02          42.0          5      t  \n",
       "1586          0.11           NaN          5      m  \n",
       "754           0.16          82.0        5.4      e  \n",
       "10832         0.01           NaN        NaN    NaN  \n",
       "9613          0.00           NaN        NaN    NaN  \n",
       "10199         0.00           NaN        NaN    NaN  \n",
       "9034          0.01          66.0        tbd   e10+  \n",
       "311           0.42          90.0        8.7      t  \n",
       "10461         0.00           NaN        NaN    NaN  \n",
       "8208          0.00           NaN        NaN    NaN  \n",
       "11328         0.00          70.0        7.9      e  \n",
       "5878          0.00           NaN        NaN    NaN  "
      ]
     },
     "execution_count": 17,
     "metadata": {},
     "output_type": "execute_result"
    }
   ],
   "source": [
    "#Посмотрю как выглядит теперь наша таблица\n",
    "df.sample(20)"
   ]
  },
  {
   "cell_type": "markdown",
   "metadata": {},
   "source": [
    "Обработаем пропуски при необходимости:"
   ]
  },
  {
   "cell_type": "code",
   "execution_count": 18,
   "metadata": {},
   "outputs": [
    {
     "data": {
      "text/plain": [
       "269"
      ]
     },
     "execution_count": 18,
     "metadata": {},
     "output_type": "execute_result"
    }
   ],
   "source": [
    "# Посчитаю количество пустых значений в столбце year_of_release\n",
    "df['year_of_release'].isna().sum()"
   ]
  },
  {
   "cell_type": "code",
   "execution_count": 19,
   "metadata": {},
   "outputs": [],
   "source": [
    "#Напишу цикл где будем делать замену на года тех у кого совпадает название с игрой но в графе year_of_release пусто\n",
    "for i in df[df['year_of_release'].isnull() == True].index:  \n",
    "    df['year_of_release'][i] = df.loc[df['name'] == df['name'][i], 'year_of_release'].max()"
   ]
  },
  {
   "cell_type": "code",
   "execution_count": 20,
   "metadata": {},
   "outputs": [
    {
     "data": {
      "text/plain": [
       "146"
      ]
     },
     "execution_count": 20,
     "metadata": {},
     "output_type": "execute_result"
    }
   ],
   "source": [
    "#Посмотрим сколько удалось заполнить пустых значений\n",
    "df['year_of_release'].isna().sum()"
   ]
  },
  {
   "cell_type": "markdown",
   "metadata": {},
   "source": [
    "Обратим внимание на аббревиатуру tbd в столбцах с рейтингом. Отдельно разберем это значение и опишем, как его обработать.\n",
    "\n",
    "\n",
    "Аббревиатура tbd значит to be determined, to be done. То есть, данные были нарочно не заполнены, так как не определились с рейтингом. Поэтому предлагаю заменить tbd на Nan"
   ]
  },
  {
   "cell_type": "code",
   "execution_count": 21,
   "metadata": {},
   "outputs": [],
   "source": [
    "#Заменю tbd на Nan\n",
    "df['user_score'] = df['user_score'].replace('tbd', np.nan, regex=True)"
   ]
  },
  {
   "cell_type": "code",
   "execution_count": 22,
   "metadata": {},
   "outputs": [
    {
     "data": {
      "text/plain": [
       "dtype('float64')"
      ]
     },
     "execution_count": 22,
     "metadata": {},
     "output_type": "execute_result"
    }
   ],
   "source": [
    "# Поменяю формат столбца user_score на float\n",
    "df['user_score'] = df['user_score'].astype(float)\n",
    "df['user_score'].dtype"
   ]
  },
  {
   "cell_type": "markdown",
   "metadata": {},
   "source": [
    "Посчитаем суммарные продажи во всех регионах и запишем их в отдельный столбец."
   ]
  },
  {
   "cell_type": "code",
   "execution_count": 23,
   "metadata": {},
   "outputs": [],
   "source": [
    "#Создам новый столбец total_sales и прибавлю продажи всех столбцов\n",
    "df['total_sales'] = df['na_sales'] + df['eu_sales'] + df['jp_sales'] + df['other_sales']"
   ]
  },
  {
   "cell_type": "code",
   "execution_count": 24,
   "metadata": {},
   "outputs": [
    {
     "data": {
      "text/html": [
       "<div>\n",
       "<style scoped>\n",
       "    .dataframe tbody tr th:only-of-type {\n",
       "        vertical-align: middle;\n",
       "    }\n",
       "\n",
       "    .dataframe tbody tr th {\n",
       "        vertical-align: top;\n",
       "    }\n",
       "\n",
       "    .dataframe thead th {\n",
       "        text-align: right;\n",
       "    }\n",
       "</style>\n",
       "<table border=\"1\" class=\"dataframe\">\n",
       "  <thead>\n",
       "    <tr style=\"text-align: right;\">\n",
       "      <th></th>\n",
       "      <th>name</th>\n",
       "      <th>platform</th>\n",
       "      <th>year_of_release</th>\n",
       "      <th>genre</th>\n",
       "      <th>na_sales</th>\n",
       "      <th>eu_sales</th>\n",
       "      <th>jp_sales</th>\n",
       "      <th>other_sales</th>\n",
       "      <th>critic_score</th>\n",
       "      <th>user_score</th>\n",
       "      <th>rating</th>\n",
       "      <th>total_sales</th>\n",
       "    </tr>\n",
       "  </thead>\n",
       "  <tbody>\n",
       "    <tr>\n",
       "      <td>0</td>\n",
       "      <td>wii sports</td>\n",
       "      <td>wii</td>\n",
       "      <td>2006</td>\n",
       "      <td>sports</td>\n",
       "      <td>41.36</td>\n",
       "      <td>28.96</td>\n",
       "      <td>3.77</td>\n",
       "      <td>8.45</td>\n",
       "      <td>76.0</td>\n",
       "      <td>8.0</td>\n",
       "      <td>e</td>\n",
       "      <td>82.54</td>\n",
       "    </tr>\n",
       "    <tr>\n",
       "      <td>1</td>\n",
       "      <td>super mario bros.</td>\n",
       "      <td>nes</td>\n",
       "      <td>1985</td>\n",
       "      <td>platform</td>\n",
       "      <td>29.08</td>\n",
       "      <td>3.58</td>\n",
       "      <td>6.81</td>\n",
       "      <td>0.77</td>\n",
       "      <td>NaN</td>\n",
       "      <td>NaN</td>\n",
       "      <td>NaN</td>\n",
       "      <td>40.24</td>\n",
       "    </tr>\n",
       "    <tr>\n",
       "      <td>2</td>\n",
       "      <td>mario kart wii</td>\n",
       "      <td>wii</td>\n",
       "      <td>2008</td>\n",
       "      <td>racing</td>\n",
       "      <td>15.68</td>\n",
       "      <td>12.76</td>\n",
       "      <td>3.79</td>\n",
       "      <td>3.29</td>\n",
       "      <td>82.0</td>\n",
       "      <td>8.3</td>\n",
       "      <td>e</td>\n",
       "      <td>35.52</td>\n",
       "    </tr>\n",
       "    <tr>\n",
       "      <td>3</td>\n",
       "      <td>wii sports resort</td>\n",
       "      <td>wii</td>\n",
       "      <td>2009</td>\n",
       "      <td>sports</td>\n",
       "      <td>15.61</td>\n",
       "      <td>10.93</td>\n",
       "      <td>3.28</td>\n",
       "      <td>2.95</td>\n",
       "      <td>80.0</td>\n",
       "      <td>8.0</td>\n",
       "      <td>e</td>\n",
       "      <td>32.77</td>\n",
       "    </tr>\n",
       "    <tr>\n",
       "      <td>4</td>\n",
       "      <td>pokemon red/pokemon blue</td>\n",
       "      <td>gb</td>\n",
       "      <td>1996</td>\n",
       "      <td>role-playing</td>\n",
       "      <td>11.27</td>\n",
       "      <td>8.89</td>\n",
       "      <td>10.22</td>\n",
       "      <td>1.00</td>\n",
       "      <td>NaN</td>\n",
       "      <td>NaN</td>\n",
       "      <td>NaN</td>\n",
       "      <td>31.38</td>\n",
       "    </tr>\n",
       "    <tr>\n",
       "      <td>...</td>\n",
       "      <td>...</td>\n",
       "      <td>...</td>\n",
       "      <td>...</td>\n",
       "      <td>...</td>\n",
       "      <td>...</td>\n",
       "      <td>...</td>\n",
       "      <td>...</td>\n",
       "      <td>...</td>\n",
       "      <td>...</td>\n",
       "      <td>...</td>\n",
       "      <td>...</td>\n",
       "      <td>...</td>\n",
       "    </tr>\n",
       "    <tr>\n",
       "      <td>16710</td>\n",
       "      <td>samurai warriors: sanada maru</td>\n",
       "      <td>ps3</td>\n",
       "      <td>2016</td>\n",
       "      <td>action</td>\n",
       "      <td>0.00</td>\n",
       "      <td>0.00</td>\n",
       "      <td>0.01</td>\n",
       "      <td>0.00</td>\n",
       "      <td>NaN</td>\n",
       "      <td>NaN</td>\n",
       "      <td>NaN</td>\n",
       "      <td>0.01</td>\n",
       "    </tr>\n",
       "    <tr>\n",
       "      <td>16711</td>\n",
       "      <td>lma manager 2007</td>\n",
       "      <td>x360</td>\n",
       "      <td>2006</td>\n",
       "      <td>sports</td>\n",
       "      <td>0.00</td>\n",
       "      <td>0.01</td>\n",
       "      <td>0.00</td>\n",
       "      <td>0.00</td>\n",
       "      <td>NaN</td>\n",
       "      <td>NaN</td>\n",
       "      <td>NaN</td>\n",
       "      <td>0.01</td>\n",
       "    </tr>\n",
       "    <tr>\n",
       "      <td>16712</td>\n",
       "      <td>haitaka no psychedelica</td>\n",
       "      <td>psv</td>\n",
       "      <td>2016</td>\n",
       "      <td>adventure</td>\n",
       "      <td>0.00</td>\n",
       "      <td>0.00</td>\n",
       "      <td>0.01</td>\n",
       "      <td>0.00</td>\n",
       "      <td>NaN</td>\n",
       "      <td>NaN</td>\n",
       "      <td>NaN</td>\n",
       "      <td>0.01</td>\n",
       "    </tr>\n",
       "    <tr>\n",
       "      <td>16713</td>\n",
       "      <td>spirits &amp; spells</td>\n",
       "      <td>gba</td>\n",
       "      <td>2003</td>\n",
       "      <td>platform</td>\n",
       "      <td>0.01</td>\n",
       "      <td>0.00</td>\n",
       "      <td>0.00</td>\n",
       "      <td>0.00</td>\n",
       "      <td>NaN</td>\n",
       "      <td>NaN</td>\n",
       "      <td>NaN</td>\n",
       "      <td>0.01</td>\n",
       "    </tr>\n",
       "    <tr>\n",
       "      <td>16714</td>\n",
       "      <td>winning post 8 2016</td>\n",
       "      <td>psv</td>\n",
       "      <td>2016</td>\n",
       "      <td>simulation</td>\n",
       "      <td>0.00</td>\n",
       "      <td>0.00</td>\n",
       "      <td>0.01</td>\n",
       "      <td>0.00</td>\n",
       "      <td>NaN</td>\n",
       "      <td>NaN</td>\n",
       "      <td>NaN</td>\n",
       "      <td>0.01</td>\n",
       "    </tr>\n",
       "  </tbody>\n",
       "</table>\n",
       "<p>16715 rows × 12 columns</p>\n",
       "</div>"
      ],
      "text/plain": [
       "                                name platform  year_of_release         genre  \\\n",
       "0                         wii sports      wii             2006        sports   \n",
       "1                  super mario bros.      nes             1985      platform   \n",
       "2                     mario kart wii      wii             2008        racing   \n",
       "3                  wii sports resort      wii             2009        sports   \n",
       "4           pokemon red/pokemon blue       gb             1996  role-playing   \n",
       "...                              ...      ...              ...           ...   \n",
       "16710  samurai warriors: sanada maru      ps3             2016        action   \n",
       "16711               lma manager 2007     x360             2006        sports   \n",
       "16712        haitaka no psychedelica      psv             2016     adventure   \n",
       "16713               spirits & spells      gba             2003      platform   \n",
       "16714            winning post 8 2016      psv             2016    simulation   \n",
       "\n",
       "       na_sales  eu_sales  jp_sales  other_sales  critic_score  user_score  \\\n",
       "0         41.36     28.96      3.77         8.45          76.0         8.0   \n",
       "1         29.08      3.58      6.81         0.77           NaN         NaN   \n",
       "2         15.68     12.76      3.79         3.29          82.0         8.3   \n",
       "3         15.61     10.93      3.28         2.95          80.0         8.0   \n",
       "4         11.27      8.89     10.22         1.00           NaN         NaN   \n",
       "...         ...       ...       ...          ...           ...         ...   \n",
       "16710      0.00      0.00      0.01         0.00           NaN         NaN   \n",
       "16711      0.00      0.01      0.00         0.00           NaN         NaN   \n",
       "16712      0.00      0.00      0.01         0.00           NaN         NaN   \n",
       "16713      0.01      0.00      0.00         0.00           NaN         NaN   \n",
       "16714      0.00      0.00      0.01         0.00           NaN         NaN   \n",
       "\n",
       "      rating  total_sales  \n",
       "0          e        82.54  \n",
       "1        NaN        40.24  \n",
       "2          e        35.52  \n",
       "3          e        32.77  \n",
       "4        NaN        31.38  \n",
       "...      ...          ...  \n",
       "16710    NaN         0.01  \n",
       "16711    NaN         0.01  \n",
       "16712    NaN         0.01  \n",
       "16713    NaN         0.01  \n",
       "16714    NaN         0.01  \n",
       "\n",
       "[16715 rows x 12 columns]"
      ]
     },
     "execution_count": 24,
     "metadata": {},
     "output_type": "execute_result"
    }
   ],
   "source": [
    "df"
   ]
  },
  {
   "cell_type": "markdown",
   "metadata": {},
   "source": [
    "<div class=\"alert alert-info\"> <b>Вывод по подготовке данных:</b> \n",
    "    \n",
    "   1) Необходимо привести к правильному типу столбец : Year of Release\n",
    "    \n",
    "   2)Также нужно привести к нижнему регистру столбцы нашей таблицы, а так же сами названия колонок\n",
    "    \n",
    "   3)Имеются пустые значения в столбцах rating, user_score, critic_score. Мы можем заменить имеющиеся пустые значения в таблице: year of release на года от той же игры только другой платформы, в остальных случаях решим в процессе предобработки\n",
    "    \n",
    "   4)Дубликатов не имеется</div>"
   ]
  },
  {
   "cell_type": "markdown",
   "metadata": {},
   "source": [
    "<div class=\"alert alert-info\"> <b>3.Проведем исследовательский анализ данных: </b> \n",
    "\n",
    "1) Посмотрим, сколько игр выпускалось в разные годы. Важны ли данные за все периоды?\n",
    "    \n",
    "2)Посмотрим, как менялись продажи по платформам. Выберем платформы с наибольшими суммарными продажами и построим распределение по годам. За какой характерный срок появляются новые и исчезают старые платформы?\n",
    "    \n",
    "3)Возьмем данные за соответствующий актуальный период. Актуальный период определим самостоятельно в результате исследования предыдущих вопросов. Основной фактор — эти данные помогут построить прогноз на 2017 год. Не будем учитывать в работе данные за предыдущие годы.\n",
    "    \n",
    "4)Какие платформы лидируют по продажам, растут или падают? Выберем несколько потенциально прибыльных платформ.\n",
    "    \n",
    "5)Построим график «ящик с усами» по глобальным продажам игр в разбивке по платформам. Опишем результат.\n",
    "    \n",
    "6)Посмотрим, как влияют на продажи внутри одной популярной платформы отзывы пользователей и критиков. Построем диаграмму рассеяния и посчитаем корреляцию между отзывами и продажами. Сформулируем выводы.\n",
    "    \n",
    "7)Соотнесем выводы с продажами игр на других платформах.\n",
    "    \n",
    "8)Посмотрим на общее распределение игр по жанрам. Что можно сказать о самых прибыльных жанрах? Выделяются ли жанры с высокими и низкими продажами?</div>"
   ]
  },
  {
   "cell_type": "markdown",
   "metadata": {},
   "source": [
    "Посмотрим, сколько игр выпускалось в разные годы. Важны ли данные за все периоды?"
   ]
  },
  {
   "cell_type": "code",
   "execution_count": 25,
   "metadata": {},
   "outputs": [
    {
     "data": {
      "text/plain": [
       "<matplotlib.legend.Legend at 0x7f95d0a8e0d0>"
      ]
     },
     "execution_count": 25,
     "metadata": {},
     "output_type": "execute_result"
    },
    {
     "data": {
      "image/png": "[encoded data removed]",
      "text/plain": [
       "<Figure size 864x432 with 1 Axes>"
      ]
     },
     "metadata": {
      "needs_background": "light"
     },
     "output_type": "display_data"
    }
   ],
   "source": [
    "# Методом pivot отсортирую таблицы и отрисую график, чтобы просмотреть как менялось количество выпускаемых игр\n",
    "games_on_period = df.pivot_table(index='year_of_release', values='name', aggfunc='count')\n",
    "plt.figure(figsize=(12,6))\n",
    "sns.lineplot(data=games_on_period)\n",
    "plt.title(\"Количество игр выпускаемые в разные года\")\n",
    "plt.xlabel(\"Год выпуска\")\n",
    "plt.ylabel(\"Количество выпущенных игр\")\n",
    "plt.legend('')"
   ]
  },
  {
   "cell_type": "markdown",
   "metadata": {},
   "source": [
    "<div class=\"alert alert-info\"> <b>Вывод по графику:</b> \n",
    "    \n",
    "    1) Из графика видно, что количество игр на игровые приставки и компьютеры начало расти с большой скоростью с 90х годов до 2008 года. \n",
    "    2) С 2008 года, после того как массово начали создавать мобильные приложения и мобильные игры, виден резкий спад консольных игр."
   ]
  },
  {
   "cell_type": "markdown",
   "metadata": {},
   "source": [
    "Посмотрим, как менялись продажи по платформам. Выберем платформы с наибольшими суммарными продажами и построим распределение по годам. За какой характерный срок появляются новые и исчезают старые платформы?\n",
    "\n",
    "Возьмем данные за соответствующий актуальный период. Актуальный период определим самостоятельно в результате исследования предыдущих вопросов. Основной фактор — эти данные помогут построить прогноз на 2017 год. Не будем учитывать в работе данные за предыдущие годы.\n",
    "\n",
    "Какие платформы лидируют по продажам, растут или падают? Выберем несколько потенциально прибыльных платформ."
   ]
  },
  {
   "cell_type": "code",
   "execution_count": 26,
   "metadata": {},
   "outputs": [
    {
     "data": {
      "text/plain": [
       "Text(0, 0.5, 'Количество продаж')"
      ]
     },
     "execution_count": 26,
     "metadata": {},
     "output_type": "execute_result"
    },
    {
     "data": {
      "image/png": "[encoded data removed]",
      "text/plain": [
       "<Figure size 936x432 with 1 Axes>"
      ]
     },
     "metadata": {
      "needs_background": "light"
     },
     "output_type": "display_data"
    }
   ],
   "source": [
    "platform_on_sales = df.pivot_table(\n",
    "    index='platform', values='total_sales', aggfunc='sum').sort_values(by='total_sales', ascending=False)\n",
    "\n",
    "plt.figure(figsize=(13,6))\n",
    "sns.barplot(x=platform_on_sales.index,y=platform_on_sales['total_sales'])\n",
    "plt.title(\"Продажи по платформам за весь период\")\n",
    "plt.xlabel(\"Название платформы\")\n",
    "plt.ylabel(\"Количество продаж\")"
   ]
  },
  {
   "cell_type": "markdown",
   "metadata": {},
   "source": [
    "<div class=\"alert alert-info\"> <b>Вывод по графику :</b> \n",
    "    \n",
    "    Из графика видно, что самые популярные игровые платформы за весь период это PS2, X360, PS3, WII, DS, PS</div>"
   ]
  },
  {
   "cell_type": "code",
   "execution_count": 27,
   "metadata": {},
   "outputs": [],
   "source": [
    "# Напишу функцию, которая будет возвращать нужную сводную таблицу и выводить данные с 2005 года\n",
    "def year_total_sale_for_platform(name, data):\n",
    "    return df[(data['platform']==name) & (data['year_of_release']>2005)].pivot_table(\n",
    "        index='year_of_release', values='total_sales', aggfunc='sum').sort_values('year_of_release', ascending=False)"
   ]
  },
  {
   "cell_type": "code",
   "execution_count": 28,
   "metadata": {},
   "outputs": [],
   "source": [
    "# Создам свою таблицу по платформам и их обшим продажам. отсортирую их по убыванию и оставлю только топ 5.\n",
    "top_5_platforms = df.pivot_table(\n",
    "    index='platform', values='total_sales', aggfunc='sum').sort_values(by='total_sales', ascending=False).head(5)\n",
    "top_5_platforms = top_5_platforms.reset_index().rename_axis(None, axis=1)"
   ]
  },
  {
   "cell_type": "code",
   "execution_count": 29,
   "metadata": {},
   "outputs": [
    {
     "data": {
      "text/html": [
       "<div>\n",
       "<style scoped>\n",
       "    .dataframe tbody tr th:only-of-type {\n",
       "        vertical-align: middle;\n",
       "    }\n",
       "\n",
       "    .dataframe tbody tr th {\n",
       "        vertical-align: top;\n",
       "    }\n",
       "\n",
       "    .dataframe thead th {\n",
       "        text-align: right;\n",
       "    }\n",
       "</style>\n",
       "<table border=\"1\" class=\"dataframe\">\n",
       "  <thead>\n",
       "    <tr style=\"text-align: right;\">\n",
       "      <th></th>\n",
       "      <th>platform</th>\n",
       "      <th>total_sales</th>\n",
       "    </tr>\n",
       "  </thead>\n",
       "  <tbody>\n",
       "    <tr>\n",
       "      <td>0</td>\n",
       "      <td>ps2</td>\n",
       "      <td>1255.77</td>\n",
       "    </tr>\n",
       "    <tr>\n",
       "      <td>1</td>\n",
       "      <td>x360</td>\n",
       "      <td>971.42</td>\n",
       "    </tr>\n",
       "    <tr>\n",
       "      <td>2</td>\n",
       "      <td>ps3</td>\n",
       "      <td>939.65</td>\n",
       "    </tr>\n",
       "    <tr>\n",
       "      <td>3</td>\n",
       "      <td>wii</td>\n",
       "      <td>907.51</td>\n",
       "    </tr>\n",
       "    <tr>\n",
       "      <td>4</td>\n",
       "      <td>ds</td>\n",
       "      <td>806.12</td>\n",
       "    </tr>\n",
       "  </tbody>\n",
       "</table>\n",
       "</div>"
      ],
      "text/plain": [
       "  platform  total_sales\n",
       "0      ps2      1255.77\n",
       "1     x360       971.42\n",
       "2      ps3       939.65\n",
       "3      wii       907.51\n",
       "4       ds       806.12"
      ]
     },
     "execution_count": 29,
     "metadata": {},
     "output_type": "execute_result"
    }
   ],
   "source": [
    "#Выведу топ 5 продаваемых платформ\n",
    "top_5_platforms"
   ]
  },
  {
   "cell_type": "code",
   "execution_count": 30,
   "metadata": {},
   "outputs": [
    {
     "data": {
      "image/png": "[encoded data removed]",
      "text/plain": [
       "<Figure size 1080x576 with 1 Axes>"
      ]
     },
     "metadata": {
      "needs_background": "light"
     },
     "output_type": "display_data"
    }
   ],
   "source": [
    "#Отрисую все игровые платформы и их поведение за последние 10 лет\n",
    "plt.figure(figsize=(15,8))\n",
    "plt.title('Количество продаж популярных игровых платформ')\n",
    "plt.xlabel('Годы игровых релизов')\n",
    "plt.ylabel('Продажи')\n",
    "\n",
    "for i in list(top_5_platforms['platform']):\n",
    "    sns.lineplot(data=year_total_sale_for_platform(i,df)['total_sales'], label=i)\n",
    "    plt.legend()"
   ]
  },
  {
   "cell_type": "markdown",
   "metadata": {},
   "source": [
    "<div class=\"alert alert-info\"> <b>Вывод по графику:</b> \n",
    "    \n",
    "    -Практически все игровые платформы в среднем существуют по 10 лет. \n",
    "    - Cамые продаваемые это Sony Play Station и XBOX \n",
    "    - Самый пик наступает примерно через 5 лет после выхода приставки\n",
    "    - у Nintento WII был быстрый скачок в 2009 году и такой же резкий провал"
   ]
  },
  {
   "cell_type": "code",
   "execution_count": 31,
   "metadata": {},
   "outputs": [],
   "source": [
    "def year_total_sale_for_platform(na, da):\n",
    "    return df[(da['platform']==na) & (da['year_of_release']>=2013)].pivot_table(\n",
    "        index='year_of_release', values='total_sales', aggfunc='sum').sort_values('year_of_release', ascending=False)"
   ]
  },
  {
   "cell_type": "code",
   "execution_count": 32,
   "metadata": {},
   "outputs": [],
   "source": [
    "actual_platforms = df.pivot_table(\n",
    "    index='platform', values='total_sales', aggfunc='sum').sort_values(by='total_sales', ascending=False).head(10)\n",
    "actual_platforms = actual_platforms.reset_index().rename_axis(None, axis=1)"
   ]
  },
  {
   "cell_type": "code",
   "execution_count": 33,
   "metadata": {},
   "outputs": [
    {
     "data": {
      "text/plain": [
       "<matplotlib.axes._subplots.AxesSubplot at 0x7f95c7c96ad0>"
      ]
     },
     "execution_count": 33,
     "metadata": {},
     "output_type": "execute_result"
    },
    {
     "data": {
      "image/png": "[encoded data removed]",
      "text/plain": [
       "<Figure size 720x288 with 1 Axes>"
      ]
     },
     "metadata": {
      "needs_background": "light"
     },
     "output_type": "display_data"
    }
   ],
   "source": [
    "actual_platforms.groupby('platform')['total_sales'].sum().sort_values(ascending=False).plot(figsize=(10,4),kind=\"bar\",title='Суммарные продажи по платформам с 2013 года')"
   ]
  },
  {
   "cell_type": "code",
   "execution_count": 34,
   "metadata": {},
   "outputs": [],
   "source": [
    "df = df[df['year_of_release'] >= 2013]\n",
    "data_plat=df.pivot_table(index=\"platform\",columns='year_of_release',values='total_sales',aggfunc=('sum'))"
   ]
  },
  {
   "cell_type": "code",
   "execution_count": 35,
   "metadata": {},
   "outputs": [
    {
     "data": {
      "text/plain": [
       "<matplotlib.axes._subplots.AxesSubplot at 0x7f95c7cd3510>"
      ]
     },
     "execution_count": 35,
     "metadata": {},
     "output_type": "execute_result"
    },
    {
     "data": {
      "image/png": "[encoded data removed]",
      "text/plain": [
       "<Figure size 576x504 with 2 Axes>"
      ]
     },
     "metadata": {
      "needs_background": "light"
     },
     "output_type": "display_data"
    }
   ],
   "source": [
    "plt.figure(figsize=(8,7))\n",
    "sns.heatmap(data_plat)"
   ]
  },
  {
   "cell_type": "markdown",
   "metadata": {},
   "source": [
    "<div class=\"alert alert-info\"> <b>Комментарий студента v_3:</b> Судя по тенденциям тепловой карты, я решил выбрать 5 платформ: xone, ps3, ps4, 3ds. ps2 я решил оставить \"за бортом\" , плюс уже имея платформы ps3,ps4. ps2 точно потеряет свою актуальность в 2017 году. </div>"
   ]
  },
  {
   "cell_type": "markdown",
   "metadata": {},
   "source": [
    "Построим график «ящик с усами» по глобальным продажам игр в разбивке по платформам. Опишем результат."
   ]
  },
  {
   "cell_type": "code",
   "execution_count": 36,
   "metadata": {},
   "outputs": [],
   "source": [
    "#Сохраню в переменной df_top_5_platforms топ 5 платформ и избавимся от выбросов\n",
    "list_of_top5 = ['3ds','ps3','ps4','x360','xone']\n",
    "df_top_5_platforms = df[df['platform'].isin(['3ds','ps3','ps4','x360','xone'])]\n",
    "df_top_5_platforms = df_top_5_platforms[df_top_5_platforms['total_sales']<1.5]"
   ]
  },
  {
   "cell_type": "code",
   "execution_count": 37,
   "metadata": {},
   "outputs": [
    {
     "data": {
      "text/plain": [
       "count    1313.000000\n",
       "mean        0.271538\n",
       "std         0.329016\n",
       "min         0.010000\n",
       "25%         0.040000\n",
       "50%         0.130000\n",
       "75%         0.370000\n",
       "max         1.490000\n",
       "Name: total_sales, dtype: float64"
      ]
     },
     "execution_count": 37,
     "metadata": {},
     "output_type": "execute_result"
    }
   ],
   "source": [
    "df_top_5_platforms['total_sales'].describe()"
   ]
  },
  {
   "cell_type": "code",
   "execution_count": 38,
   "metadata": {},
   "outputs": [
    {
     "data": {
      "text/plain": [
       "Text(0, 0.5, 'Глобальные продажи')"
      ]
     },
     "execution_count": 38,
     "metadata": {},
     "output_type": "execute_result"
    },
    {
     "data": {
      "image/png": "[encoded data removed]",
      "text/plain": [
       "<Figure size 864x432 with 1 Axes>"
      ]
     },
     "metadata": {
      "needs_background": "light"
     },
     "output_type": "display_data"
    }
   ],
   "source": [
    "#Отрисую ящики с усами \n",
    "plt.figure(figsize=(12,6))\n",
    "sns.boxplot(data=df_top_5_platforms, x='platform', y='total_sales')\n",
    "plt.title('Ящик с усами', fontsize=15)\n",
    "plt.xlabel('Платформа', fontsize=12)\n",
    "plt.ylabel('Глобальные продажи',fontsize=12)"
   ]
  },
  {
   "cell_type": "markdown",
   "metadata": {},
   "source": [
    "<div class=\"alert alert-info\"> <b>Комментарии студента v_3 Вывод по 'Ящик с усума':</b> Анализируя ящик с усами можно увидеть, что они похожи. за исключением платформы 3DS. У нее третий квартиль меньшем у остальных. Можно сказать, что медиана продаж у этих платформ почти одинакова. Они все скошены вправо.</div>"
   ]
  },
  {
   "cell_type": "markdown",
   "metadata": {},
   "source": [
    "<div class=\"alert alert-info\"> <b>Вывод по графику:</b> \n",
    "    \n",
    "    - Провели срез данных для того, чтоыб отрисовать ящики с усами. \n",
    "    - Исходя из графиков видно, что медиана протекает у всех по разному\n",
    "    - Больше всех продаж у PS3, затем X360, после xone, PS4 и 3DS на последнем месте."
   ]
  },
  {
   "cell_type": "markdown",
   "metadata": {},
   "source": [
    "Посмотрим, как влияют на продажи внутри одной популярной платформы отзывы пользователей и критиков. Построем диаграмму рассеяния и посчитаем корреляцию между отзывами и продажами. Сформулируем выводы."
   ]
  },
  {
   "cell_type": "code",
   "execution_count": 39,
   "metadata": {},
   "outputs": [
    {
     "data": {
      "text/plain": [
       "0.0023944027357566925"
      ]
     },
     "execution_count": 39,
     "metadata": {},
     "output_type": "execute_result"
    }
   ],
   "source": [
    "#Корреляция между оценками пользователей и продажами \n",
    "sony_play_station3 = df[df['platform']=='ps3']\n",
    "sony_play_station3['user_score'].corr(sony_play_station3['total_sales'])"
   ]
  },
  {
   "cell_type": "code",
   "execution_count": 40,
   "metadata": {},
   "outputs": [
    {
     "data": {
      "text/plain": [
       "Text(0.5, 1.0, 'test')"
      ]
     },
     "execution_count": 40,
     "metadata": {},
     "output_type": "execute_result"
    },
    {
     "data": {
      "image/png": "[encoded data removed]",
      "text/plain": [
       "<Figure size 864x432 with 1 Axes>"
      ]
     },
     "metadata": {
      "needs_background": "light"
     },
     "output_type": "display_data"
    }
   ],
   "source": [
    "#Построю диаграмму рассеяния\n",
    "plt.figure(figsize=(12,6))\n",
    "sns.scatterplot(x='user_score', y='total_sales', data=sony_play_station3)\n",
    "plt.title('test')"
   ]
  },
  {
   "cell_type": "code",
   "execution_count": 41,
   "metadata": {},
   "outputs": [
    {
     "data": {
      "text/plain": [
       "Text(0.5, 1.0, 'test')"
      ]
     },
     "execution_count": 41,
     "metadata": {},
     "output_type": "execute_result"
    },
    {
     "data": {
      "image/png": "[encoded data removed]",
      "text/plain": [
       "<Figure size 864x432 with 1 Axes>"
      ]
     },
     "metadata": {
      "needs_background": "light"
     },
     "output_type": "display_data"
    }
   ],
   "source": [
    "#Построю диаграмму рассеяния по оценкам критиков \n",
    "plt.figure(figsize=(12,6))\n",
    "sns.scatterplot(x='critic_score', y='total_sales', data=sony_play_station3)\n",
    "plt.title('test')"
   ]
  },
  {
   "cell_type": "code",
   "execution_count": 42,
   "metadata": {},
   "outputs": [
    {
     "data": {
      "text/plain": [
       "0.3342853393371919"
      ]
     },
     "execution_count": 42,
     "metadata": {},
     "output_type": "execute_result"
    }
   ],
   "source": [
    "#Корреляция между оценкой критиков и продажам\n",
    "sony_play_station3['critic_score'].corr(sony_play_station3['total_sales'])"
   ]
  },
  {
   "cell_type": "markdown",
   "metadata": {},
   "source": [
    "Соотнесем выводы с продажами игр на других платформах."
   ]
  },
  {
   "cell_type": "code",
   "execution_count": 43,
   "metadata": {},
   "outputs": [],
   "source": [
    "#Напишу функцию, которая будет отрисовывать графики рассеивания и считать корреляции\n",
    "def other_platform_matrix(name_of_platform):\n",
    "    platform = df[df['platform']==name_of_platform]\n",
    "    fig, ax = plt.subplots(1 ,2, figsize=(15,5))\n",
    "    sns.scatterplot(x='user_score', y='total_sales', data=platform, ax=ax[0])\n",
    "    sns.scatterplot(x='critic_score', y='total_sales', data=platform, ax=ax[1])\n",
    "    fig.suptitle(name_of_platform, fontsize=15)\n",
    "    ax[0].set(xlabel='Оценка пользователей')\n",
    "    ax[1].set(xlabel='Оценка критиков')\n",
    "    ax[0].set(ylabel='Количество продаж')\n",
    "    ax[1].set(ylabel='Количество продаж')\n",
    "    plt.show()\n",
    "    \n",
    "    correl = platform['user_score'].corr(platform['total_sales'])\n",
    "    critic_correl = platform['critic_score'].corr(platform['total_sales'])\n",
    "    \n",
    "    \n",
    "    if 0.3 >= critic_correl >= 0.1:\n",
    "        print('Корреляция между отзывами критиков и игровой платформой ', name_of_platform.upper(), ': Слабая', critic_correl)\n",
    "    if 0.5 >= critic_correl >= 0.3:\n",
    "        print('Корреляция между отзывами критиков и игровой платформой ', name_of_platform.upper(), ': Умеренная', critic_correl)\n",
    "    if 0.7 >= critic_correl >= 0.5:\n",
    "        print('Корреляция между отзывами критиков и игровой платформой ', name_of_platform.upper(), ': Высокая', critic_correl)\n",
    "    if 0.9 >= critic_correl >= 0.7:\n",
    "        print('Корреляция между отзывами критиков и игровой платформой ', name_of_platform.upper(), ': Весьма высокая', critic_correl)\n",
    "    if 1 >= critic_correl >= 0.9:\n",
    "        print('Корреляция между отзывами критиков и игровой платформой ', name_of_platform.upper(), ': Сильная', critic_correl)\n",
    "    \n",
    "    if 0.3 >= correl >= 0.1:\n",
    "        print('Корреляция между отзывами пользователей и продажами ', name_of_platform.upper(), ': Слабая', correl)\n",
    "    if 0.5 >= correl >= 0.3:\n",
    "        print('Корреляция между отзывами пользователей и продажами ', name_of_platform.upper(), ': Умеренная', correl)\n",
    "    if 0.7 >= correl >= 0.5:\n",
    "        print('Корреляция между отзывами пользователей и продажами ', name_of_platform.upper(), ': Высокая', correl)\n",
    "    if 0.9 >= correl >= 0.7:\n",
    "        print('Корреляция между отзывами пользователей и продажами ', name_of_platform.upper(), ': Весьма высокая', correl)\n",
    "    if 1 >= correl >= 0.9:\n",
    "        print('Корреляция между отзывами пользователей и продажами ', name_of_platform.upper(), ': Сильная', correl)\n",
    "    print('\\n')"
   ]
  },
  {
   "cell_type": "code",
   "execution_count": 44,
   "metadata": {},
   "outputs": [
    {
     "data": {
      "image/png": "[encoded data removed]",
      "text/plain": [
       "<Figure size 1080x360 with 2 Axes>"
      ]
     },
     "metadata": {
      "needs_background": "light"
     },
     "output_type": "display_data"
    },
    {
     "name": "stdout",
     "output_type": "stream",
     "text": [
      "Корреляция между отзывами критиков и игровой платформой  3DS : Умеренная 0.3570566142288103\n",
      "Корреляция между отзывами пользователей и продажами  3DS : Слабая 0.24150411773563016\n",
      "\n",
      "\n"
     ]
    },
    {
     "data": {
      "image/png": "[encoded data removed]",
      "text/plain": [
       "<Figure size 1080x360 with 2 Axes>"
      ]
     },
     "metadata": {
      "needs_background": "light"
     },
     "output_type": "display_data"
    },
    {
     "name": "stdout",
     "output_type": "stream",
     "text": [
      "Корреляция между отзывами критиков и игровой платформой  PS3 : Умеренная 0.3342853393371919\n",
      "\n",
      "\n"
     ]
    },
    {
     "data": {
      "image/png": "[encoded data removed]",
      "text/plain": [
       "<Figure size 1080x360 with 2 Axes>"
      ]
     },
     "metadata": {
      "needs_background": "light"
     },
     "output_type": "display_data"
    },
    {
     "name": "stdout",
     "output_type": "stream",
     "text": [
      "Корреляция между отзывами критиков и игровой платформой  PS4 : Умеренная 0.40656790206178095\n",
      "\n",
      "\n"
     ]
    },
    {
     "data": {
      "image/png": "[encoded data removed]",
      "text/plain": [
       "<Figure size 1080x360 with 2 Axes>"
      ]
     },
     "metadata": {
      "needs_background": "light"
     },
     "output_type": "display_data"
    },
    {
     "name": "stdout",
     "output_type": "stream",
     "text": [
      "Корреляция между отзывами критиков и игровой платформой  X360 : Умеренная 0.3503445460228664\n",
      "\n",
      "\n"
     ]
    },
    {
     "data": {
      "image/png": "[encoded data removed]",
      "text/plain": [
       "<Figure size 1080x360 with 2 Axes>"
      ]
     },
     "metadata": {
      "needs_background": "light"
     },
     "output_type": "display_data"
    },
    {
     "name": "stdout",
     "output_type": "stream",
     "text": [
      "Корреляция между отзывами критиков и игровой платформой  XONE : Умеренная 0.4169983280084017\n",
      "\n",
      "\n"
     ]
    }
   ],
   "source": [
    "#С помощью цикла выведу все 5 графиков\n",
    "for platform in list_of_top5:\n",
    "    other_platform_matrix(platform)"
   ]
  },
  {
   "cell_type": "code",
   "execution_count": 45,
   "metadata": {},
   "outputs": [
    {
     "name": "stdout",
     "output_type": "stream",
     "text": [
      "Дисперсия 3DS : 2.3385609375\n",
      "Стандартное отклонение 3DS : 1.5292354094448637\n",
      "Среднее 3DS : 6.9762499999999985\n",
      "Медиана 3DS : 7.300000000000001\n",
      "\n",
      "\n",
      "Дисперсия PS3 : 3.212067291016303\n",
      "Стандартное отклонение PS3 : 1.7922241185232115\n",
      "Среднее PS3 : 6.348387096774193\n",
      "Медиана PS3 : 6.9\n",
      "\n",
      "\n",
      "Дисперсия PS4 : 2.121796544989326\n",
      "Стандартное отклонение PS4 : 1.4566387832916319\n",
      "Среднее PS4 : 6.748249027237354\n",
      "Медиана PS4 : 7.0\n",
      "\n",
      "\n",
      "Дисперсия X360 : 2.5863846642867623\n",
      "Стандартное отклонение X360 : 1.6082240715418863\n",
      "Среднее X360 : 5.993006993006994\n",
      "Медиана X360 : 6.2\n",
      "\n",
      "\n",
      "Дисперсия XONE : 1.8965188383045526\n",
      "Стандартное отклонение XONE : 1.377141546212499\n",
      "Среднее XONE : 6.521428571428572\n",
      "Медиана XONE : 6.8\n",
      "\n",
      "\n"
     ]
    }
   ],
   "source": [
    "#Посчитаю дисперсию, стандартное отклонение, среднее и медиану у топ 5 платформ к оценкам пользователей\n",
    "for platform in list_of_top5:\n",
    "    print('Дисперсия', platform.upper(),':', np.var(df[df['platform']==platform]['user_score']))\n",
    "    print('Стандартное отклонение', platform.upper(),':', np.std(df[df['platform']==platform]['user_score']))\n",
    "    print('Среднее',platform.upper(),':',  df[df['platform']==platform]['user_score'].mean())\n",
    "    print('Медиана',platform.upper(),':',  df[df['platform']==platform]['user_score'].median())\n",
    "    print('\\n')"
   ]
  },
  {
   "cell_type": "code",
   "execution_count": 46,
   "metadata": {},
   "outputs": [
    {
     "name": "stdout",
     "output_type": "stream",
     "text": [
      "Дисперсия 3DS : 169.01249752033326\n",
      "Стандартное отклонение 3DS : 13.000480664972864\n",
      "Среднее 3DS : 68.33802816901408\n",
      "Медиана 3DS : 69.0\n",
      "\n",
      "\n",
      "Дисперсия PS3 : 203.63007991257427\n",
      "Стандартное отклонение PS3 : 14.269901187905061\n",
      "Среднее PS3 : 70.19834710743801\n",
      "Медиана PS3 : 73.0\n",
      "\n",
      "\n",
      "Дисперсия PS4 : 155.28135235575712\n",
      "Стандартное отклонение PS4 : 12.46119385756265\n",
      "Среднее PS4 : 72.09126984126983\n",
      "Медиана PS4 : 73.0\n",
      "\n",
      "\n",
      "Дисперсия X360 : 237.71040999847582\n",
      "Стандартное отклонение X360 : 15.417860097901908\n",
      "Среднее X360 : 69.23456790123457\n",
      "Медиана X360 : 74.0\n",
      "\n",
      "\n",
      "Дисперсия XONE : 166.7994117853016\n",
      "Стандартное отклонение XONE : 12.915084660400085\n",
      "Среднее XONE : 73.32544378698225\n",
      "Медиана XONE : 76.0\n",
      "\n",
      "\n"
     ]
    }
   ],
   "source": [
    "#Посчитаю дисперсию, стандартное отклонение, среднее и медиану у топ 5 платформ к оценкам критиков\n",
    "for platform in list_of_top5:\n",
    "    print('Дисперсия', platform.upper(),':', np.var(df[df['platform']==platform]['critic_score']))\n",
    "    print('Стандартное отклонение', platform.upper(),':', np.std(df[df['platform']==platform]['critic_score']))\n",
    "    print('Среднее',platform.upper(),':',  df[df['platform']==platform]['critic_score'].mean())\n",
    "    print('Медиана',platform.upper(),':',  df[df['platform']==platform]['critic_score'].median())\n",
    "    print('\\n')"
   ]
  },
  {
   "cell_type": "markdown",
   "metadata": {},
   "source": [
    "<div class=\"alert alert-info\"> <b>Комментарий студента:</b> Практически у всех платформ присутствуем корреляция, между оценками пользователей и критиков к продажам.\n",
    "Оценка пользователей слабо влияет на продажи, чего не скажешь о оценке критиков. Покупатели прислушиваются больше к критикам чем к оценкам других пользователей</div>"
   ]
  },
  {
   "cell_type": "markdown",
   "metadata": {},
   "source": [
    "Посмотрим на общее распределение игр по жанрам. Что можно сказать о самых прибыльных жанрах? Выделяются ли жанры с высокими и низкими продажами?"
   ]
  },
  {
   "cell_type": "code",
   "execution_count": 47,
   "metadata": {},
   "outputs": [
    {
     "data": {
      "text/html": [
       "<div>\n",
       "<style scoped>\n",
       "    .dataframe tbody tr th:only-of-type {\n",
       "        vertical-align: middle;\n",
       "    }\n",
       "\n",
       "    .dataframe tbody tr th {\n",
       "        vertical-align: top;\n",
       "    }\n",
       "\n",
       "    .dataframe thead th {\n",
       "        text-align: right;\n",
       "    }\n",
       "</style>\n",
       "<table border=\"1\" class=\"dataframe\">\n",
       "  <thead>\n",
       "    <tr style=\"text-align: right;\">\n",
       "      <th></th>\n",
       "      <th>genre</th>\n",
       "      <th>total_sales</th>\n",
       "    </tr>\n",
       "  </thead>\n",
       "  <tbody>\n",
       "    <tr>\n",
       "      <td>0</td>\n",
       "      <td>action</td>\n",
       "      <td>322.50</td>\n",
       "    </tr>\n",
       "    <tr>\n",
       "      <td>1</td>\n",
       "      <td>shooter</td>\n",
       "      <td>232.98</td>\n",
       "    </tr>\n",
       "    <tr>\n",
       "      <td>2</td>\n",
       "      <td>sports</td>\n",
       "      <td>150.65</td>\n",
       "    </tr>\n",
       "    <tr>\n",
       "      <td>3</td>\n",
       "      <td>role-playing</td>\n",
       "      <td>145.89</td>\n",
       "    </tr>\n",
       "    <tr>\n",
       "      <td>4</td>\n",
       "      <td>misc</td>\n",
       "      <td>63.06</td>\n",
       "    </tr>\n",
       "    <tr>\n",
       "      <td>5</td>\n",
       "      <td>platform</td>\n",
       "      <td>42.63</td>\n",
       "    </tr>\n",
       "    <tr>\n",
       "      <td>6</td>\n",
       "      <td>racing</td>\n",
       "      <td>39.89</td>\n",
       "    </tr>\n",
       "    <tr>\n",
       "      <td>7</td>\n",
       "      <td>fighting</td>\n",
       "      <td>35.31</td>\n",
       "    </tr>\n",
       "    <tr>\n",
       "      <td>8</td>\n",
       "      <td>adventure</td>\n",
       "      <td>23.64</td>\n",
       "    </tr>\n",
       "    <tr>\n",
       "      <td>9</td>\n",
       "      <td>simulation</td>\n",
       "      <td>21.76</td>\n",
       "    </tr>\n",
       "    <tr>\n",
       "      <td>10</td>\n",
       "      <td>strategy</td>\n",
       "      <td>10.08</td>\n",
       "    </tr>\n",
       "    <tr>\n",
       "      <td>11</td>\n",
       "      <td>puzzle</td>\n",
       "      <td>3.17</td>\n",
       "    </tr>\n",
       "  </tbody>\n",
       "</table>\n",
       "</div>"
      ],
      "text/plain": [
       "           genre  total_sales\n",
       "0         action       322.50\n",
       "1        shooter       232.98\n",
       "2         sports       150.65\n",
       "3   role-playing       145.89\n",
       "4           misc        63.06\n",
       "5       platform        42.63\n",
       "6         racing        39.89\n",
       "7       fighting        35.31\n",
       "8      adventure        23.64\n",
       "9     simulation        21.76\n",
       "10      strategy        10.08\n",
       "11        puzzle         3.17"
      ]
     },
     "execution_count": 47,
     "metadata": {},
     "output_type": "execute_result"
    }
   ],
   "source": [
    "# Методом сводных таблиц выведу жанры и их продажи.  отсортирую по убыванию. \n",
    "distr_genre = df.pivot_table(\n",
    "    index='genre', values='total_sales', aggfunc='sum').sort_values(by='total_sales', ascending=False)\n",
    "distr_genre = distr_genre.reset_index().rename_axis(None, axis=1)\n",
    "distr_genre"
   ]
  },
  {
   "cell_type": "code",
   "execution_count": 48,
   "metadata": {
    "scrolled": true
   },
   "outputs": [
    {
     "data": {
      "text/plain": [
       "Text(0, 0.5, 'Продажи')"
      ]
     },
     "execution_count": 48,
     "metadata": {},
     "output_type": "execute_result"
    },
    {
     "data": {
      "image/png": "[encoded data removed]",
      "text/plain": [
       "<Figure size 864x432 with 1 Axes>"
      ]
     },
     "metadata": {
      "needs_background": "light"
     },
     "output_type": "display_data"
    }
   ],
   "source": [
    "#Отрисую barplot чтобы наглядно посмотреть какие жанры лидирует, а какие остаются внизу\n",
    "plt.figure(figsize=(12,6))\n",
    "plt.title('Распределение игр по жанрам ',fontsize=15)\n",
    "sns.barplot(data=distr_genre, x='genre', y='total_sales')\n",
    "plt.xlabel('Жанры игр',fontsize=12)\n",
    "plt.ylabel('Продажи',fontsize=12)"
   ]
  },
  {
   "cell_type": "code",
   "execution_count": null,
   "metadata": {},
   "outputs": [],
   "source": []
  },
  {
   "cell_type": "markdown",
   "metadata": {},
   "source": [
    "<div class=\"alert alert-info\"> <b>Комментарий студента:</b>  Лучше всего продаются жанры Экшн. Стратегии как ни странно держутся на последнем месте.</div></div>"
   ]
  },
  {
   "cell_type": "code",
   "execution_count": 49,
   "metadata": {},
   "outputs": [
    {
     "data": {
      "text/html": [
       "<div>\n",
       "<style scoped>\n",
       "    .dataframe tbody tr th:only-of-type {\n",
       "        vertical-align: middle;\n",
       "    }\n",
       "\n",
       "    .dataframe tbody tr th {\n",
       "        vertical-align: top;\n",
       "    }\n",
       "\n",
       "    .dataframe thead th {\n",
       "        text-align: right;\n",
       "    }\n",
       "</style>\n",
       "<table border=\"1\" class=\"dataframe\">\n",
       "  <thead>\n",
       "    <tr style=\"text-align: right;\">\n",
       "      <th></th>\n",
       "      <th>genre</th>\n",
       "      <th>total_sales</th>\n",
       "    </tr>\n",
       "  </thead>\n",
       "  <tbody>\n",
       "    <tr>\n",
       "      <td>0</td>\n",
       "      <td>action</td>\n",
       "      <td>0.110</td>\n",
       "    </tr>\n",
       "    <tr>\n",
       "      <td>1</td>\n",
       "      <td>adventure</td>\n",
       "      <td>0.030</td>\n",
       "    </tr>\n",
       "    <tr>\n",
       "      <td>2</td>\n",
       "      <td>fighting</td>\n",
       "      <td>0.125</td>\n",
       "    </tr>\n",
       "    <tr>\n",
       "      <td>3</td>\n",
       "      <td>misc</td>\n",
       "      <td>0.105</td>\n",
       "    </tr>\n",
       "    <tr>\n",
       "      <td>4</td>\n",
       "      <td>platform</td>\n",
       "      <td>0.225</td>\n",
       "    </tr>\n",
       "    <tr>\n",
       "      <td>5</td>\n",
       "      <td>puzzle</td>\n",
       "      <td>0.060</td>\n",
       "    </tr>\n",
       "    <tr>\n",
       "      <td>6</td>\n",
       "      <td>racing</td>\n",
       "      <td>0.120</td>\n",
       "    </tr>\n",
       "    <tr>\n",
       "      <td>7</td>\n",
       "      <td>role-playing</td>\n",
       "      <td>0.125</td>\n",
       "    </tr>\n",
       "    <tr>\n",
       "      <td>8</td>\n",
       "      <td>shooter</td>\n",
       "      <td>0.450</td>\n",
       "    </tr>\n",
       "    <tr>\n",
       "      <td>9</td>\n",
       "      <td>simulation</td>\n",
       "      <td>0.100</td>\n",
       "    </tr>\n",
       "    <tr>\n",
       "      <td>10</td>\n",
       "      <td>sports</td>\n",
       "      <td>0.240</td>\n",
       "    </tr>\n",
       "    <tr>\n",
       "      <td>11</td>\n",
       "      <td>strategy</td>\n",
       "      <td>0.080</td>\n",
       "    </tr>\n",
       "  </tbody>\n",
       "</table>\n",
       "</div>"
      ],
      "text/plain": [
       "           genre  total_sales\n",
       "0         action        0.110\n",
       "1      adventure        0.030\n",
       "2       fighting        0.125\n",
       "3           misc        0.105\n",
       "4       platform        0.225\n",
       "5         puzzle        0.060\n",
       "6         racing        0.120\n",
       "7   role-playing        0.125\n",
       "8        shooter        0.450\n",
       "9     simulation        0.100\n",
       "10        sports        0.240\n",
       "11      strategy        0.080"
      ]
     },
     "execution_count": 49,
     "metadata": {},
     "output_type": "execute_result"
    }
   ],
   "source": [
    "median_genre = df.pivot_table(\n",
    "    index='genre', values='total_sales', aggfunc='median')\n",
    "median_genre = median_genre.reset_index().rename_axis(None, axis=1)\n",
    "median_genre"
   ]
  },
  {
   "cell_type": "code",
   "execution_count": 50,
   "metadata": {},
   "outputs": [
    {
     "data": {
      "text/plain": [
       "Text(0, 0.5, 'Продажи')"
      ]
     },
     "execution_count": 50,
     "metadata": {},
     "output_type": "execute_result"
    },
    {
     "data": {
      "image/png": "[encoded data removed]",
      "text/plain": [
       "<Figure size 864x432 with 1 Axes>"
      ]
     },
     "metadata": {
      "needs_background": "light"
     },
     "output_type": "display_data"
    }
   ],
   "source": [
    "plt.figure(figsize=(12,6))\n",
    "plt.title('Распределение игр по жанрам ',fontsize=15)\n",
    "sns.barplot(data=median_genre, x='genre', y='total_sales')\n",
    "plt.xlabel('Жанры игр',fontsize=12)\n",
    "plt.ylabel('Продажи',fontsize=12)"
   ]
  },
  {
   "cell_type": "markdown",
   "metadata": {},
   "source": [
    "<div class=\"alert alert-info\"> <b>Комментарий студента v_3:</b> Касаемо жанра где стабильно приносит доход попробывал методом median() но где то в кодедопустил ошибку, прошу помочь мне разобраться где я ошибся и как лучше сдлеать?</div>"
   ]
  },
  {
   "cell_type": "markdown",
   "metadata": {},
   "source": [
    "<div class=\"alert alert-info\"> <b>Вывод по исследовательскому анализу данных:</b> \n",
    "    \n",
    "1) Количество игр на игровые приставки и компьютеры начало расти с большой скоростью с 90х годов до 2008 года. С 2008 года, после того как массово начали создавать мобильные приложения и мобильные игры, произошел резкий спад разработок игр на игровые платформы.\n",
    "\n",
    "2) Самые популярные игровые платформы за весь период : Sony PlayStation 2, Xbox 360, Sony Playstation 3, Nintendo WII, Nintendo DS, Sony Playstation.\n",
    "    \n",
    "3) Средняя жизнь игровой платформы составляет 10 лет. Пик продаж наступает примерно через 5 лет после выхода приставки.\n",
    "\n",
    "4) Больше всего продаются игры на Sony Playstation и Xbox 360\n",
    "\n",
    "5) Nintendo WII как быстро появился также быстро и потух. Возможно потому что появился прям перед выходом мобильных приложений и игр.\n",
    "\n",
    "6)У всех платформ наблюдается взаимосвязь между продажами и оценками критиков и пользователей. Заметнее всего корреляция между оценками критиков и продажами. Это значит для людей мнение критиков важнее мнения других пользователей</div>"
   ]
  },
  {
   "cell_type": "markdown",
   "metadata": {},
   "source": [
    "<div class=\"alert alert-info\"> <b>4.Составим портрет пользователя каждого региона:</b> \n",
    "\n",
    "1) Определим для пользователя каждого региона (NA, EU, JP):\n",
    "    \n",
    "   a)Самые популярные платформы (топ-5). Опишем различия в долях продаж.\n",
    "    \n",
    "   b)Самые популярные жанры (топ-5). Поясним разницу.\n",
    "    \n",
    "   c)Влияет ли рейтинг ESRB на продажи в отдельном регионе?</div>"
   ]
  },
  {
   "cell_type": "code",
   "execution_count": 51,
   "metadata": {},
   "outputs": [],
   "source": [
    "#Напишe функции для создания сводных таблиц и отсривоки барплотов\n",
    "\n",
    "#Функция для создания сводбных таблиц за весь период\n",
    "def forpivot(row, title):\n",
    "    fig, axes = plt.subplots(1, 3, figsize=(20, 4))\n",
    "    for pivot, ax in zip(list(['platform','genre','rating']),axes.flatten()[:3]):\n",
    "        ppivot = df.pivot_table(index=pivot, values=row, aggfunc='sum'\n",
    "                  ).sort_values(by=row, ascending=False).reset_index().rename_axis(None, axis=1).head(5)\n",
    "        print(ppivot)\n",
    "        print('\\n\\n') \n",
    "        sns.set_palette(\"Blues\")\n",
    "        sns.barplot(data=ppivot, x=pivot, y=row, ax=ax)\n",
    "        fig.suptitle(title, fontsize=15)\n",
    "        \n",
    "\n",
    "plt.show()\n",
    "sns.set()\n",
    "\n",
    "#Функция для создания сводных таблиц за последний год\n",
    "def for_pivot_2016(row, title):\n",
    "    temp = df[df['year_of_release']>2015]\n",
    "    fig, axes = plt.subplots(1, 3, figsize=(20, 4))\n",
    "    for pivot, ax in zip(list(['platform','genre','rating']), axes.flatten()[:3]):\n",
    "        ppivot = temp.pivot_table(index=pivot, values=row, aggfunc='sum').sort_values(by=row, ascending=False).reset_index().rename_axis(None, axis=1).head(5)\n",
    "        print(ppivot)\n",
    "        print('\\n\\n')\n",
    "        sns.set_palette(\"BuGn_r\")\n",
    "        sns.barplot(data=ppivot, x=pivot, y=row, ax=ax)\n",
    "        fig.suptitle(title, fontsize=15)"
   ]
  },
  {
   "cell_type": "markdown",
   "metadata": {},
   "source": [
    "Портрет пользователя North America"
   ]
  },
  {
   "cell_type": "code",
   "execution_count": 52,
   "metadata": {},
   "outputs": [
    {
     "name": "stdout",
     "output_type": "stream",
     "text": [
      "  platform  na_sales\n",
      "0      ps4    108.74\n",
      "1     xone     93.12\n",
      "2     x360     81.66\n",
      "3      ps3     63.50\n",
      "4      3ds     38.20\n",
      "\n",
      "\n",
      "\n",
      "          genre  na_sales\n",
      "0        action    126.13\n",
      "1       shooter    109.74\n",
      "2        sports     65.27\n",
      "3  role-playing     46.40\n",
      "4          misc     27.49\n",
      "\n",
      "\n",
      "\n",
      "  rating  na_sales\n",
      "0      m    165.29\n",
      "1      e     79.05\n",
      "2   e10+     54.24\n",
      "3      t     49.79\n",
      "\n",
      "\n",
      "\n"
     ]
    },
    {
     "data": {
      "image/png": "[encoded data removed]",
      "text/plain": [
       "<Figure size 1440x288 with 3 Axes>"
      ]
     },
     "metadata": {},
     "output_type": "display_data"
    }
   ],
   "source": [
    "#Выведу топ 5 платформ, жанров и рейтингов за весь период\n",
    "forpivot('na_sales','Топ 5 платформ, жанров и рейтингов за весь период')"
   ]
  },
  {
   "cell_type": "code",
   "execution_count": 53,
   "metadata": {},
   "outputs": [
    {
     "name": "stdout",
     "output_type": "stream",
     "text": [
      "  platform  na_sales\n",
      "0      ps4     21.49\n",
      "1     xone     14.27\n",
      "2      3ds      4.14\n",
      "3     wiiu      2.10\n",
      "4       pc      1.36\n",
      "\n",
      "\n",
      "\n",
      "          genre  na_sales\n",
      "0       shooter     16.24\n",
      "1        action      9.29\n",
      "2        sports      7.54\n",
      "3  role-playing      5.89\n",
      "4      fighting      1.84\n",
      "\n",
      "\n",
      "\n",
      "  rating  na_sales\n",
      "0      m     15.67\n",
      "1      t      8.95\n",
      "2      e      7.97\n",
      "3   e10+      3.81\n",
      "\n",
      "\n",
      "\n"
     ]
    },
    {
     "data": {
      "image/png": "[encoded data removed]",
      "text/plain": [
       "<Figure size 1440x288 with 3 Axes>"
      ]
     },
     "metadata": {},
     "output_type": "display_data"
    }
   ],
   "source": [
    "#Выведу топ 5 платформ, жанров и рейтингов за год\n",
    "for_pivot_2016('na_sales','Топ 5 платформ, жанров и рейтингов за последний год')"
   ]
  },
  {
   "cell_type": "markdown",
   "metadata": {},
   "source": [
    "<div class=\"alert alert-info\"> <b>Вывод по пользавателям North America: </b> \n",
    "    \n",
    "Самые популярные игровые платформы в северной америке за все время это: XBOX, PS2, WII, PS3, DS\n",
    "    \n",
    "Топ 5 жанров в северной америке за все время: action, sports, shooter, platform, misc\n",
    "    \n",
    "По рейтингам видно, что больше всего продаж за все время у игр с рейтингом \"для всех\", на втором месте игры с рейтингом \"от 13 и выше\" и на третьем месте игры с рейтингом \"от 17 и выше\"\n",
    "    \n",
    "\n",
    "Если посмотреть с 2015 по 2016 года, то мы видим как интерес кардинально меняется:\n",
    "    \n",
    "Топ игровых приставок выглядит таким образом : PS4, Xone, DS3\n",
    "    \n",
    "Топ жанров игр: Shooter, Action, Sports\n",
    "    \n",
    "Топ рейтингов игр : \"От 17 и выше\" , \"от 13 и выше\" и \"для всех\"</div>"
   ]
  },
  {
   "cell_type": "markdown",
   "metadata": {},
   "source": [
    "Портрет пользователя European Union"
   ]
  },
  {
   "cell_type": "code",
   "execution_count": 54,
   "metadata": {},
   "outputs": [
    {
     "name": "stdout",
     "output_type": "stream",
     "text": [
      "  platform  eu_sales\n",
      "0      ps4    141.09\n",
      "1      ps3     67.81\n",
      "2     xone     51.59\n",
      "3     x360     42.52\n",
      "4      3ds     30.96\n",
      "\n",
      "\n",
      "\n",
      "          genre  eu_sales\n",
      "0        action    118.61\n",
      "1       shooter     87.86\n",
      "2        sports     60.52\n",
      "3  role-playing     36.97\n",
      "4        racing     20.19\n",
      "\n",
      "\n",
      "\n",
      "  rating  eu_sales\n",
      "0      m    145.80\n",
      "1      e     83.36\n",
      "2   e10+     42.69\n",
      "3      t     41.95\n",
      "\n",
      "\n",
      "\n"
     ]
    },
    {
     "data": {
      "image/png": "[encoded data removed]",
      "text/plain": [
       "<Figure size 1440x288 with 3 Axes>"
      ]
     },
     "metadata": {},
     "output_type": "display_data"
    }
   ],
   "source": [
    "#Выведe топ 5 платформ, жанров и рейтингов за весь период для Европейского союза\n",
    "forpivot('eu_sales','Топ 5 платформ, жанров и рейтингов за весь период для Европейского союза')"
   ]
  },
  {
   "cell_type": "code",
   "execution_count": 55,
   "metadata": {},
   "outputs": [
    {
     "name": "stdout",
     "output_type": "stream",
     "text": [
      "  platform  eu_sales\n",
      "0      ps4     31.78\n",
      "1     xone      9.63\n",
      "2       pc      3.53\n",
      "3      3ds      2.33\n",
      "4     wiiu      1.48\n",
      "\n",
      "\n",
      "\n",
      "          genre  eu_sales\n",
      "0       shooter     15.90\n",
      "1        sports     12.01\n",
      "2        action     10.68\n",
      "3  role-playing      4.28\n",
      "4        racing      1.77\n",
      "\n",
      "\n",
      "\n",
      "  rating  eu_sales\n",
      "0      m     16.54\n",
      "1      e     13.61\n",
      "2      t      9.79\n",
      "3   e10+      3.81\n",
      "\n",
      "\n",
      "\n"
     ]
    },
    {
     "data": {
      "image/png": "[encoded data removed]",
      "text/plain": [
       "<Figure size 1440x288 with 3 Axes>"
      ]
     },
     "metadata": {},
     "output_type": "display_data"
    }
   ],
   "source": [
    "#Выведем топ 5 платформ, жанров и рейтингов за год для европейского союза\n",
    "for_pivot_2016('eu_sales','Топ 5 платформ, жанров и рейтингов за последний год для европейского союза')"
   ]
  },
  {
   "cell_type": "markdown",
   "metadata": {},
   "source": [
    "<div class=\"alert alert-info\"> <b>Вывод по пользователям European union:</b> \n",
    "    \n",
    "Самые популярные игровые платформы в Европе это: PS2, PS3, X360, WII, PS\n",
    "    \n",
    "Топ 5 жанров в Европе : action, sports, shooter, racing, misc\n",
    "    \n",
    "По рейтингам видно, что больше всего продаж у игр с рейтингом \"для всех\", на втором месте игры с рейтингом \"от 17 и выше\" и на третьем месте игры с рейтингом \"от 13 и выше\"\n",
    "\n",
    "За последний год интерес у пользователя кардинально изменился:\n",
    "    \n",
    "Топ жанров стал: shooter, sports, action\n",
    "    \n",
    "Топ платформ: PS4, Xone, PC\n",
    "    \n",
    "Топ рейтингов: \"От 17 и выше\" , \"Для всех\" и \"от 13 и выше\"</div>"
   ]
  },
  {
   "cell_type": "markdown",
   "metadata": {},
   "source": [
    "Портрет пользователя Japanese"
   ]
  },
  {
   "cell_type": "code",
   "execution_count": 56,
   "metadata": {},
   "outputs": [
    {
     "name": "stdout",
     "output_type": "stream",
     "text": [
      "  platform  jp_sales\n",
      "0      3ds     67.81\n",
      "1      ps3     23.35\n",
      "2      psv     18.59\n",
      "3      ps4     15.96\n",
      "4     wiiu     10.88\n",
      "\n",
      "\n",
      "\n",
      "          genre  jp_sales\n",
      "0  role-playing     51.04\n",
      "1        action     40.49\n",
      "2          misc      9.44\n",
      "3      fighting      7.65\n",
      "4       shooter      6.61\n",
      "\n",
      "\n",
      "\n",
      "  rating  jp_sales\n",
      "0      t     20.59\n",
      "1      e     15.14\n",
      "2      m     14.11\n",
      "3   e10+      5.89\n",
      "\n",
      "\n",
      "\n"
     ]
    },
    {
     "data": {
      "image/png": "[encoded data removed]",
      "text/plain": [
       "<Figure size 1440x288 with 3 Axes>"
      ]
     },
     "metadata": {},
     "output_type": "display_data"
    }
   ],
   "source": [
    "#Выведe топ 5 платформ, жанров и рейтингов за весь период для Японии\n",
    "forpivot('jp_sales','Топ 5 платформ, жанров и рейтингов за весь период для Японии')"
   ]
  },
  {
   "cell_type": "code",
   "execution_count": 57,
   "metadata": {},
   "outputs": [
    {
     "name": "stdout",
     "output_type": "stream",
     "text": [
      "  platform  jp_sales\n",
      "0      3ds      8.03\n",
      "1      ps4      5.74\n",
      "2      psv      3.56\n",
      "3      ps3      1.30\n",
      "4     wiiu      0.67\n",
      "\n",
      "\n",
      "\n",
      "          genre  jp_sales\n",
      "0        action      7.07\n",
      "1  role-playing      6.61\n",
      "2     adventure      1.18\n",
      "3       shooter      1.06\n",
      "4          misc      1.04\n",
      "\n",
      "\n",
      "\n",
      "  rating  jp_sales\n",
      "0      t      2.27\n",
      "1      m      1.20\n",
      "2      e      1.07\n",
      "3   e10+      0.45\n",
      "\n",
      "\n",
      "\n"
     ]
    },
    {
     "data": {
      "image/png": "[encoded data removed]",
      "text/plain": [
       "<Figure size 1440x288 with 3 Axes>"
      ]
     },
     "metadata": {},
     "output_type": "display_data"
    }
   ],
   "source": [
    "#Выведу топ 5 платформ, жанров и рейтингов за последний год для японии\n",
    "for_pivot_2016('jp_sales','Топ 5 платформ, жанров и рейтингов за последний год для японии')"
   ]
  },
  {
   "cell_type": "code",
   "execution_count": 58,
   "metadata": {},
   "outputs": [],
   "source": [
    "na_sales_ESRB=df.pivot_table(index='rating',values=['na_sales'],aggfunc=('sum'))"
   ]
  },
  {
   "cell_type": "code",
   "execution_count": 59,
   "metadata": {},
   "outputs": [
    {
     "data": {
      "text/html": [
       "<div>\n",
       "<style scoped>\n",
       "    .dataframe tbody tr th:only-of-type {\n",
       "        vertical-align: middle;\n",
       "    }\n",
       "\n",
       "    .dataframe tbody tr th {\n",
       "        vertical-align: top;\n",
       "    }\n",
       "\n",
       "    .dataframe thead th {\n",
       "        text-align: right;\n",
       "    }\n",
       "</style>\n",
       "<table border=\"1\" class=\"dataframe\">\n",
       "  <thead>\n",
       "    <tr style=\"text-align: right;\">\n",
       "      <th></th>\n",
       "      <th>na_sales</th>\n",
       "    </tr>\n",
       "    <tr>\n",
       "      <th>rating</th>\n",
       "      <th></th>\n",
       "    </tr>\n",
       "  </thead>\n",
       "  <tbody>\n",
       "    <tr>\n",
       "      <td>m</td>\n",
       "      <td>165.29</td>\n",
       "    </tr>\n",
       "    <tr>\n",
       "      <td>e</td>\n",
       "      <td>79.05</td>\n",
       "    </tr>\n",
       "    <tr>\n",
       "      <td>e10+</td>\n",
       "      <td>54.24</td>\n",
       "    </tr>\n",
       "    <tr>\n",
       "      <td>t</td>\n",
       "      <td>49.79</td>\n",
       "    </tr>\n",
       "  </tbody>\n",
       "</table>\n",
       "</div>"
      ],
      "text/plain": [
       "        na_sales\n",
       "rating          \n",
       "m         165.29\n",
       "e          79.05\n",
       "e10+       54.24\n",
       "t          49.79"
      ]
     },
     "execution_count": 59,
     "metadata": {},
     "output_type": "execute_result"
    }
   ],
   "source": [
    "na_sales_ESRB=na_sales_ESRB.sort_values(by='na_sales',ascending=False)\n",
    "na_sales_ESRB"
   ]
  },
  {
   "cell_type": "code",
   "execution_count": 60,
   "metadata": {},
   "outputs": [],
   "source": [
    "eu_sales_ESRB=df.pivot_table(index='rating',values=['eu_sales'],aggfunc=('sum'))"
   ]
  },
  {
   "cell_type": "code",
   "execution_count": 61,
   "metadata": {},
   "outputs": [
    {
     "data": {
      "text/html": [
       "<div>\n",
       "<style scoped>\n",
       "    .dataframe tbody tr th:only-of-type {\n",
       "        vertical-align: middle;\n",
       "    }\n",
       "\n",
       "    .dataframe tbody tr th {\n",
       "        vertical-align: top;\n",
       "    }\n",
       "\n",
       "    .dataframe thead th {\n",
       "        text-align: right;\n",
       "    }\n",
       "</style>\n",
       "<table border=\"1\" class=\"dataframe\">\n",
       "  <thead>\n",
       "    <tr style=\"text-align: right;\">\n",
       "      <th></th>\n",
       "      <th>eu_sales</th>\n",
       "    </tr>\n",
       "    <tr>\n",
       "      <th>rating</th>\n",
       "      <th></th>\n",
       "    </tr>\n",
       "  </thead>\n",
       "  <tbody>\n",
       "    <tr>\n",
       "      <td>m</td>\n",
       "      <td>145.80</td>\n",
       "    </tr>\n",
       "    <tr>\n",
       "      <td>e</td>\n",
       "      <td>83.36</td>\n",
       "    </tr>\n",
       "    <tr>\n",
       "      <td>e10+</td>\n",
       "      <td>42.69</td>\n",
       "    </tr>\n",
       "    <tr>\n",
       "      <td>t</td>\n",
       "      <td>41.95</td>\n",
       "    </tr>\n",
       "  </tbody>\n",
       "</table>\n",
       "</div>"
      ],
      "text/plain": [
       "        eu_sales\n",
       "rating          \n",
       "m         145.80\n",
       "e          83.36\n",
       "e10+       42.69\n",
       "t          41.95"
      ]
     },
     "execution_count": 61,
     "metadata": {},
     "output_type": "execute_result"
    }
   ],
   "source": [
    "eu_sales_ESRB=eu_sales_ESRB.sort_values(by='eu_sales',ascending=False)\n",
    "eu_sales_ESRB"
   ]
  },
  {
   "cell_type": "code",
   "execution_count": 62,
   "metadata": {},
   "outputs": [],
   "source": [
    "jp_sales_ESRB=df.pivot_table(index='rating',values=['jp_sales'],aggfunc=('sum'))"
   ]
  },
  {
   "cell_type": "code",
   "execution_count": 63,
   "metadata": {},
   "outputs": [
    {
     "data": {
      "text/html": [
       "<div>\n",
       "<style scoped>\n",
       "    .dataframe tbody tr th:only-of-type {\n",
       "        vertical-align: middle;\n",
       "    }\n",
       "\n",
       "    .dataframe tbody tr th {\n",
       "        vertical-align: top;\n",
       "    }\n",
       "\n",
       "    .dataframe thead th {\n",
       "        text-align: right;\n",
       "    }\n",
       "</style>\n",
       "<table border=\"1\" class=\"dataframe\">\n",
       "  <thead>\n",
       "    <tr style=\"text-align: right;\">\n",
       "      <th></th>\n",
       "      <th>jp_sales</th>\n",
       "    </tr>\n",
       "    <tr>\n",
       "      <th>rating</th>\n",
       "      <th></th>\n",
       "    </tr>\n",
       "  </thead>\n",
       "  <tbody>\n",
       "    <tr>\n",
       "      <td>t</td>\n",
       "      <td>20.59</td>\n",
       "    </tr>\n",
       "    <tr>\n",
       "      <td>e</td>\n",
       "      <td>15.14</td>\n",
       "    </tr>\n",
       "    <tr>\n",
       "      <td>m</td>\n",
       "      <td>14.11</td>\n",
       "    </tr>\n",
       "    <tr>\n",
       "      <td>e10+</td>\n",
       "      <td>5.89</td>\n",
       "    </tr>\n",
       "  </tbody>\n",
       "</table>\n",
       "</div>"
      ],
      "text/plain": [
       "        jp_sales\n",
       "rating          \n",
       "t          20.59\n",
       "e          15.14\n",
       "m          14.11\n",
       "e10+        5.89"
      ]
     },
     "execution_count": 63,
     "metadata": {},
     "output_type": "execute_result"
    }
   ],
   "source": [
    "jp_sales_ESRB=jp_sales_ESRB.sort_values(by='jp_sales',ascending=False)\n",
    "jp_sales_ESRB"
   ]
  },
  {
   "cell_type": "code",
   "execution_count": 64,
   "metadata": {},
   "outputs": [
    {
     "data": {
      "text/plain": [
       "<matplotlib.axes._subplots.AxesSubplot at 0x7f95c5c94410>"
      ]
     },
     "execution_count": 64,
     "metadata": {},
     "output_type": "execute_result"
    },
    {
     "data": {
      "image/png": "[encoded data removed]",
      "text/plain": [
       "<Figure size 432x288 with 1 Axes>"
      ]
     },
     "metadata": {},
     "output_type": "display_data"
    },
    {
     "data": {
      "image/png": "[encoded data removed]",
      "text/plain": [
       "<Figure size 432x288 with 1 Axes>"
      ]
     },
     "metadata": {},
     "output_type": "display_data"
    },
    {
     "data": {
      "image/png": "[encoded data removed]",
      "text/plain": [
       "<Figure size 432x288 with 1 Axes>"
      ]
     },
     "metadata": {},
     "output_type": "display_data"
    }
   ],
   "source": [
    "na_sales_ESRB.plot(kind='bar') \n",
    "eu_sales_ESRB.plot(kind='bar') \n",
    "jp_sales_ESRB.plot(kind='bar') "
   ]
  },
  {
   "cell_type": "markdown",
   "metadata": {},
   "source": [
    "<div class=\"alert alert-info\"> <b>Комментарий студента v_4:</b> Самые популярные возрастные ограничения в С. Америке, Европе, Японии- E, T, M, E10+. Больше всего E (Для всех), затем T (для подростков 13-19 лет). Категории M (от 17) и Е+10 (10+) в Японии гораздо меньше чем в остальных регионах. Ну по сути это таже самая категория T. Остальных ограничения очень мало. Можно сделать вывод, что возрастное ограничение влияет на продажи. Т.е выпуская новый продукт нужно понимать, что большей популярностью пользуются продукты с возрастным ограничением во всех регионах E (Для всех) или T(для подростков 13-19 лет). По сути категория М и Е10+ это таже самая что и Т. Т.е можно считать, что категория Е и Т почти равны.\n",
    "\n",
    "Анализируя будующие продажи на 2017 год можнос уверенностью сказать, что хорошие продажи можно получить у платформ '3DS','PS3','PS4','X360','XOne'. Также обратить внимание на появление новой платформы PS. Что касается жанров, то тут самые продаваемые Action, Sport, Shooter с ориентацией для подростков от 13-19 лет. </div>"
   ]
  },
  {
   "cell_type": "markdown",
   "metadata": {},
   "source": [
    "<div class=\"alert alert-info\"> <b>Вывод по пользователям Japan:</b> \n",
    "    \n",
    "Cамые популярные игровые платформы в Японии это: DS, PS, PS2, SNES, 3DS\n",
    "    \n",
    "Топ 5 жанров в Японии : Role-Playing, action, sports, platform, misc\n",
    "    \n",
    "По рейтингам видно, что больше всего продаж у игр с рейтингом \"для всех\", на втором месте игры с рейтингом \"от 13 и выше\" и на третьем месте игры с рейтингом \"от 17 и выше\"\n",
    "\n",
    "За последний год интерес у пользователя кардинально изменился\n",
    "\n",
    "Топ Жанров: action, role-playing, adventure\n",
    "    \n",
    "топ платформ: 3ds, ps4, psv\n",
    "    \n",
    "топ рейтингов: \"от 13 и выше\", \"от 17 и выше\" и \"для всех</div>"
   ]
  },
  {
   "cell_type": "markdown",
   "metadata": {},
   "source": [
    "<div class=\"alert alert-info\"> <b>Вывод по составлению портрета пользователя каждого региона: </b> \n",
    "    \n",
    "1)Самые популярные игровые платформы в северной америке это: XBOX, PS2, WII, PS3, DS Топ 5 жанров в северной Америке : action, sports, shooter, platform, misc По рейтингам видно, что больше всего продаж у игр с рейтингом \"для всех\", на втором месте игры с рейтингом \"от 13 и выше\" и на третьем месте игры с рейтингом \"от 17 и выше\"\n",
    "\n",
    "2)Самые популярные игровые платформы в Европе это: PS2, PS3, XBOX, WII, PS Топ 5 жанров в Европе : action, sports, shooter, racing, misc По рейтингам видно, что больше всего продаж у игр с рейтингом \"для всех\", на втором месте игры с рейтингом \"от 17 и выше\" и на третьем месте игры с рейтингом \"от 13 и выше\"\n",
    "\n",
    "3)Самые популярные игровые платформы в Японии это: DS, PS, PS2, SNES, 3DS Топ 5 жанров в Японии : Role-Playing, action, sports, platform, misc По рейтингам видно, что больше всего продаж у игр с рейтингом \"для всех\", на втором месте игры с рейтингом \"от 13 и выше\" и на третьем месте игры с рейтингом \"от 17 и выше\"\n",
    "\n",
    "    \n",
    "    \n",
    "Если брать данные за последний год:\n",
    "    \n",
    "    \n",
    "1)То в Северной Америке:\n",
    "    \n",
    "топ игровых платформ выглядит так: PS4, Xone, DS3\n",
    "    \n",
    "Топ Жанров игр: Shooter, Action, Sports\n",
    "    \n",
    "Топ Рейтингов игр: \"От 17 и выше\" , \"от 13 и выше\" и \"для всех\"\n",
    "\n",
    "    \n",
    "    \n",
    "    \n",
    "    \n",
    "2) В Европейском союзе:\n",
    "    \n",
    "Топ игровых платформ : PS4, Xone, PC\n",
    "    \n",
    "Топ жанров: Shooter, Sports, Action\n",
    "    \n",
    "Топ рейтингов: \"От 17 и выше\", \"для всех\", \"от 13 и выше\"\n",
    "\n",
    "    \n",
    "    \n",
    "    \n",
    "    \n",
    "В Японии:\n",
    "    \n",
    "3) Топ игровых платформ : 3DS, PS4, PSV\n",
    "    \n",
    "Топ жанров: Action, Role-playing, Adventure\n",
    "    \n",
    "Топ рейтингов: \"От 13 и выше\", \"от 17 и выше\", \"для всех\"\n",
    "\n",
    "\n",
    "    \n",
    "    \n",
    "Для прогноза будущих продаж лучше брать данные за последний год, так как технологии меняются с оч быстрыми темпами, и вкусы людей также могут меняться оч быстро. Соответственно, для 2017 года большую часть прибыли будут приносить игры жанра Shooter, для платформы PS4 и с рейтингом от 17 и выше</div>"
   ]
  },
  {
   "cell_type": "markdown",
   "metadata": {},
   "source": [
    "<div class=\"alert alert-info\"> <b>5.Проверим гипотезы:</b> \n",
    "    \n",
    "1) Средние пользовательские рейтинги платформ Xbox One и PC одинаковые;\n",
    "    \n",
    "2) Средние пользовательские рейтинги жанров Action (англ. «действие», экшен-игры) и Sports (англ. «спортивные соревнования») разные.\n",
    "    \n",
    "3) Пороговое значение alpha зададим самостоятельно.\n",
    "    \n",
    "4) Поясним:\n",
    "    - Как мы сформулировали нулевую и альтернативную гипотезы;\n",
    "    - Какой критерий применили для проверки гипотез и почему.</div>"
   ]
  },
  {
   "cell_type": "markdown",
   "metadata": {},
   "source": [
    "<div class=\"alert alert-info\"> <b>Средние пользовательские рейтинги платформ Xbox One и PC одинаковые:</b> \n",
    "    \n",
    "Сформулируем нулевые гипотезы:\n",
    "\n",
    "1) Нулевая гипотеза H₀: Средние пользовательские рейтинги платформ Xbox One и PC одинаковые;\n",
    "    \n",
    "2)Альтернативная гипотеза H₁: Средние пользовательские рейтинги платформ Xbox One и PC различаются</div>"
   ]
  },
  {
   "cell_type": "code",
   "execution_count": 65,
   "metadata": {},
   "outputs": [
    {
     "data": {
      "text/plain": [
       "6.542148760330578"
      ]
     },
     "execution_count": 65,
     "metadata": {},
     "output_type": "execute_result"
    }
   ],
   "source": [
    "# Сохраню в переменных xbox_hyp и pc_hyp соответствующие данные (актуальные данные за последние 10 лет)\n",
    "xone_hyp = df[(df['platform']=='xone') & (df['year_of_release']>2014)]['user_score']\n",
    "pc_hyp = df[(df['platform']=='pc') & (df['year_of_release']>2014)]['user_score']\n",
    "\n",
    "#Посчитаю средний рейтинг пользователя для xbox платформ\n",
    "xone_hyp.mean()"
   ]
  },
  {
   "cell_type": "code",
   "execution_count": 66,
   "metadata": {},
   "outputs": [
    {
     "data": {
      "text/plain": [
       "6.296428571428573"
      ]
     },
     "execution_count": 66,
     "metadata": {},
     "output_type": "execute_result"
    }
   ],
   "source": [
    "#Посчитаю средний рейтинг пользователя для PC платформ\n",
    "pc_hyp.mean()"
   ]
  },
  {
   "cell_type": "code",
   "execution_count": 67,
   "metadata": {},
   "outputs": [
    {
     "name": "stdout",
     "output_type": "stream",
     "text": [
      "p-значение: 0.2946308864003345\n",
      "Не получилось отвергнуть нулевую гипотезу\n"
     ]
    }
   ],
   "source": [
    "#Выполню проверку гипотезы. Буду использовать метод ttest_ind\n",
    "\n",
    "alpha = .01\n",
    "\n",
    "results = st.ttest_ind(xone_hyp.dropna(), pc_hyp.dropna(), equal_var=False)\n",
    "\n",
    "print('p-значение:', results.pvalue)\n",
    "\n",
    "\n",
    "if (results.pvalue < alpha):\n",
    "    print(\"Отвергаем нулевую гипотезу\")\n",
    "else:\n",
    "    print(\"Не получилось отвергнуть нулевую гипотезу\")"
   ]
  },
  {
   "cell_type": "markdown",
   "metadata": {},
   "source": [
    "<div class=\"alert alert-info\"> <b>вывод:</b> \n",
    "    Значение p-value равно чуть меньше 4%. Таким образом, не получилось опровергнуть Нулевую гипотезу. То есть, с вероятностью в 4% можно получить различность рейтингов двух платформ"
   ]
  },
  {
   "cell_type": "markdown",
   "metadata": {},
   "source": [
    "<div class=\"alert alert-info\"> <b>Средние пользовательские рейтинги жанров Action (англ. «действие», экшен-игры) и Sports (англ. «спортивные соревнования») разные:</b> \n",
    "    \n",
    "Сформулируем нулевые гипотезы:\n",
    "\n",
    "Нулевая гипотеза H₀: Средние пользовательские рейтинги жанров Action и Sports одинаковые\n",
    "    \n",
    "Альтернативная гипотеза H₁: Средние пользовательские рейтинги жанров Action и Sports различаются</div>"
   ]
  },
  {
   "cell_type": "code",
   "execution_count": 68,
   "metadata": {},
   "outputs": [
    {
     "data": {
      "text/plain": [
       "6.808290155440415"
      ]
     },
     "execution_count": 68,
     "metadata": {},
     "output_type": "execute_result"
    }
   ],
   "source": [
    "# Сохраню в переменных genre_action_hyp и genre_sports_hyp соответствующие данные с пользовательскими оценками\n",
    "genre_action_hyp = df[(df['genre']=='action') & (df['year_of_release']>2014)]['user_score']\n",
    "genre_sports_hyp = df[(df['genre']=='sports') & (df['year_of_release']>2014)]['user_score']\n",
    "\n",
    "#выведу среднюю оценку по жанру экшн\n",
    "genre_action_hyp.mean()"
   ]
  },
  {
   "cell_type": "code",
   "execution_count": 69,
   "metadata": {},
   "outputs": [
    {
     "name": "stdout",
     "output_type": "stream",
     "text": [
      "p-значение: 5.97163549920592e-10\n",
      "Отвергаем нулевую гипотезу\n"
     ]
    }
   ],
   "source": [
    "#Выполню проверку гипотезы. Будем использовать метод ttest_ind\n",
    "\n",
    "alpha = .01\n",
    "\n",
    "results = st.ttest_ind(genre_action_hyp.dropna(), genre_sports_hyp.dropna(), equal_var=False)\n",
    "\n",
    "print('p-значение:', results.pvalue)\n",
    "\n",
    "\n",
    "if (results.pvalue < alpha):\n",
    "    print(\"Отвергаем нулевую гипотезу\")\n",
    "else:\n",
    "    print(\"Не получилось отвергнуть нулевую гипотезу\")"
   ]
  },
  {
   "cell_type": "markdown",
   "metadata": {},
   "source": [
    "<div class=\"alert alert-info\"> <b>вывод:</b> Получив p-value, мы отвергли Нулевую гипотезу. Таким образом, у нас практически нет вероятности получить одинакове средние рейнтинги по двум жанрам.</div>"
   ]
  },
  {
   "cell_type": "markdown",
   "metadata": {},
   "source": [
    "<div class=\"alert alert-info\"> <b>Вывод по проверке гипотез:</b> \n",
    "    \n",
    "1) Гипотеза: \"Средние пользовательские рейтинги платформ Xbox one и PC одинаковые\". Нулевую гипотезу не удалось опровергнуть.\n",
    "    \n",
    "2) Гипотеза: \"Средние пользовательские рейтинги жанров Action и Sports разные\". Отвергаем нулевую гипотезу.</div>"
   ]
  },
  {
   "cell_type": "markdown",
   "metadata": {},
   "source": [
    "<div class=\"alert alert-info\"> <b>Общий вывод:</b> \n",
    "    \n",
    "1)Перед анализом данных, мы подготовили наши данные, привели к правильным данным столбцы, привели к нижнему регистру таблицы и сами названия колонок и Привели к правильным типам данных необходимые столбцы.\n",
    "    \n",
    "2) Определили, что аббревиатура TBD значит to be determined, to be done. То есть данные были нарочно не заполнены. Поэтому заменили tbd на nan для проведения дальнейшего анализа\n",
    "    \n",
    "3) Проведя анализ, мы выявили, что количество игр на игровые приставки и компьютеры начало расти с большой скоростью с 90х до 2008 года. С 2008 года после того как массово начали создавать мобильные приложения и мобильные игры, произошел резкий спад разработок консольных игр\n",
    "    \n",
    "4) За весь период консольных приставок самые популярные оказались: PS2, X360, PS3, WII, DS, PS\n",
    "    \n",
    "4) Также мы выявили, что средняя продолжительность жизни игровой приставки составляет порядка 10 лет. Самый пик продаж наступает примерно через 5 лет после выпуска консоли\n",
    "    \n",
    "5) Исходя из анализа мы увидели, что у Nintendo WII был резкий скачок в 2009 году и такой же резкий провал. Скорее всего потому что у людей не было особого интереса к приставке, когда как под рукой всегда был смартфон с любыми играми на вкус\n",
    "    \n",
    "6) Проведя анализ оценок пользователей и критиков. Мы выявили, что оценки критиков и пользователей взаимосвязаны с продажами самих игр. То есть чем больше оценка критиков или пользователей, тем лучше продажа игры.\n",
    "    \n",
    "7) Так же определили, что самый популярный жанр за все время это Экшн. На последнем месте стратегии\n",
    "    \n",
    "    \n",
    "\n",
    "После мы составили портреты пользователей каждого региона.\n",
    "    \n",
    "    \n",
    "1) Выяснили, что в Северной америке самые популярные жанры это action, sports, shooter. Игровые приставки : XBOX, PS2 и WII. А по рейтингу игр люди предпочитают игры с рейтингами: \"для всех\", \"от 13 и выше\" и \"от 17 и выше\".\n",
    "    \n",
    "2) В Европе же, популярные жанры точно такие же как и в Северной Америке. Но приставки по предпочитают по следующей очередности: PS2, PS3, XBOX. Рейтинг игр отличается лишь вторым местом, на втором месте у них от 17 и выше, а на третьем 13 и выше.\n",
    "    \n",
    "3) В японии люди предпочитают игровые приставки: DS, PS, PS2. А жанры игры : Role-playing, action и sports. Рейтинг игр аналогичный Северной Америке.\n",
    "\n",
    "    \n",
    "    \n",
    "    \n",
    "        Исходя из всех данных предполагаем, что лучше всего продавать игры для таких приставок как Sony Playstation 4\n",
    "    \n",
    "        Жанр необходимо выбирать Shooter и выбирать игры с рейтингом \"от 17 и выше\", тогда продажи будут значительно больше, чем если продавать другие игры."
   ]
  }
 ],
 "metadata": {
  "ExecuteTimeLog": [
   {
    "duration": 1413,
    "start_time": "2022-02-28T07:37:28.150Z"
   },
   {
    "duration": 6268,
    "start_time": "2022-02-28T07:40:31.843Z"
   },
   {
    "duration": 4,
    "start_time": "2022-02-28T07:40:46.047Z"
   },
   {
    "duration": 970,
    "start_time": "2022-02-28T07:40:53.652Z"
   },
   {
    "duration": 2384,
    "start_time": "2022-02-28T07:40:54.624Z"
   },
   {
    "duration": 297,
    "start_time": "2022-02-28T07:41:24.694Z"
   },
   {
    "duration": 118,
    "start_time": "2022-02-28T07:41:45.518Z"
   },
   {
    "duration": 308,
    "start_time": "2022-02-28T07:43:21.990Z"
   },
   {
    "duration": 95,
    "start_time": "2022-02-28T07:45:19.152Z"
   },
   {
    "duration": 394,
    "start_time": "2022-02-28T07:45:26.129Z"
   },
   {
    "duration": 3,
    "start_time": "2022-02-28T07:49:25.746Z"
   },
   {
    "duration": 1051,
    "start_time": "2022-02-28T07:49:32.169Z"
   },
   {
    "duration": 2172,
    "start_time": "2022-02-28T07:50:28.434Z"
   },
   {
    "duration": 281,
    "start_time": "2022-02-28T07:52:09.362Z"
   },
   {
    "duration": 2704,
    "start_time": "2022-02-28T07:52:29.079Z"
   },
   {
    "duration": 4,
    "start_time": "2022-02-28T07:53:45.191Z"
   },
   {
    "duration": 98,
    "start_time": "2022-02-28T07:53:53.787Z"
   },
   {
    "duration": 1997,
    "start_time": "2022-02-28T07:54:03.111Z"
   },
   {
    "duration": 1107,
    "start_time": "2022-02-28T07:54:25.482Z"
   },
   {
    "duration": 2211,
    "start_time": "2022-02-28T07:54:26.590Z"
   },
   {
    "duration": 800,
    "start_time": "2022-02-28T07:55:13.419Z"
   },
   {
    "duration": 45,
    "start_time": "2022-02-28T07:58:13.445Z"
   },
   {
    "duration": 4,
    "start_time": "2022-02-28T07:58:25.156Z"
   },
   {
    "duration": 34,
    "start_time": "2022-02-28T07:58:27.628Z"
   },
   {
    "duration": 19,
    "start_time": "2022-02-28T07:58:41.172Z"
   },
   {
    "duration": 9,
    "start_time": "2022-02-28T07:58:51.756Z"
   },
   {
    "duration": 4,
    "start_time": "2022-02-28T07:59:00.781Z"
   },
   {
    "duration": 7,
    "start_time": "2022-02-28T07:59:07.837Z"
   },
   {
    "duration": 17,
    "start_time": "2022-02-28T07:59:19.262Z"
   },
   {
    "duration": 18,
    "start_time": "2022-02-28T07:59:27.503Z"
   },
   {
    "duration": 17,
    "start_time": "2022-02-28T07:59:35.677Z"
   },
   {
    "duration": 19,
    "start_time": "2022-02-28T07:59:46.046Z"
   },
   {
    "duration": 7,
    "start_time": "2022-02-28T07:59:53.509Z"
   },
   {
    "duration": 7,
    "start_time": "2022-02-28T08:00:03.669Z"
   },
   {
    "duration": 16,
    "start_time": "2022-02-28T08:00:10.637Z"
   },
   {
    "duration": 5,
    "start_time": "2022-02-28T08:00:18.629Z"
   },
   {
    "duration": 24,
    "start_time": "2022-02-28T08:00:25.429Z"
   },
   {
    "duration": 15,
    "start_time": "2022-02-28T08:00:31.414Z"
   },
   {
    "duration": 4,
    "start_time": "2022-02-28T08:00:44.862Z"
   },
   {
    "duration": 326,
    "start_time": "2022-02-28T08:00:51.093Z"
   },
   {
    "duration": 5,
    "start_time": "2022-02-28T08:02:38.430Z"
   },
   {
    "duration": 10,
    "start_time": "2022-02-28T08:02:57.678Z"
   },
   {
    "duration": 6,
    "start_time": "2022-02-28T08:03:04.518Z"
   },
   {
    "duration": 6,
    "start_time": "2022-02-28T08:03:11.390Z"
   },
   {
    "duration": 19,
    "start_time": "2022-02-28T08:03:18.326Z"
   },
   {
    "duration": 259,
    "start_time": "2022-02-28T08:03:32.030Z"
   },
   {
    "duration": 382,
    "start_time": "2022-02-28T08:03:41.078Z"
   },
   {
    "duration": 2,
    "start_time": "2022-02-28T08:04:11.095Z"
   },
   {
    "duration": 12,
    "start_time": "2022-02-28T08:04:21.393Z"
   },
   {
    "duration": 6,
    "start_time": "2022-02-28T08:04:26.438Z"
   },
   {
    "duration": 408,
    "start_time": "2022-02-28T08:04:34.199Z"
   },
   {
    "duration": 8,
    "start_time": "2022-02-28T08:04:41.791Z"
   },
   {
    "duration": 8,
    "start_time": "2022-02-28T08:04:47.319Z"
   },
   {
    "duration": 244,
    "start_time": "2022-02-28T08:04:54.543Z"
   },
   {
    "duration": 9,
    "start_time": "2022-02-28T08:05:03.223Z"
   },
   {
    "duration": 308,
    "start_time": "2022-02-28T08:05:08.262Z"
   },
   {
    "duration": 363,
    "start_time": "2022-02-28T08:05:15.990Z"
   },
   {
    "duration": 5,
    "start_time": "2022-02-28T08:05:23.343Z"
   },
   {
    "duration": 8,
    "start_time": "2022-02-28T08:05:30.363Z"
   },
   {
    "duration": 2544,
    "start_time": "2022-02-28T08:05:36.087Z"
   },
   {
    "duration": 52,
    "start_time": "2022-02-28T08:05:48.919Z"
   },
   {
    "duration": 54,
    "start_time": "2022-02-28T08:05:56.239Z"
   },
   {
    "duration": 17,
    "start_time": "2022-02-28T08:06:03.448Z"
   },
   {
    "duration": 259,
    "start_time": "2022-02-28T08:06:10.391Z"
   },
   {
    "duration": 76,
    "start_time": "2022-02-28T08:06:25.903Z"
   },
   {
    "duration": 495,
    "start_time": "2022-02-28T08:06:33.095Z"
   },
   {
    "duration": 494,
    "start_time": "2022-02-28T08:06:42.200Z"
   },
   {
    "duration": 500,
    "start_time": "2022-02-28T08:06:50.456Z"
   },
   {
    "duration": 504,
    "start_time": "2022-02-28T08:07:53.855Z"
   },
   {
    "duration": 513,
    "start_time": "2022-02-28T08:08:16.832Z"
   },
   {
    "duration": 574,
    "start_time": "2022-02-28T08:08:52.696Z"
   },
   {
    "duration": 10,
    "start_time": "2022-02-28T08:09:08.320Z"
   },
   {
    "duration": 4,
    "start_time": "2022-02-28T08:09:20.041Z"
   },
   {
    "duration": 6,
    "start_time": "2022-02-28T08:09:27.101Z"
   },
   {
    "duration": 11,
    "start_time": "2022-02-28T08:09:37.496Z"
   },
   {
    "duration": 4,
    "start_time": "2022-02-28T08:09:43.929Z"
   },
   {
    "duration": 7,
    "start_time": "2022-02-28T08:09:50.528Z"
   },
   {
    "duration": 279,
    "start_time": "2022-02-28T08:10:17.329Z"
   },
   {
    "duration": 324,
    "start_time": "2022-02-28T08:10:22.481Z"
   },
   {
    "duration": 512,
    "start_time": "2022-02-28T08:10:27.401Z"
   },
   {
    "duration": 1022,
    "start_time": "2022-02-28T08:11:22.399Z"
   },
   {
    "duration": 4,
    "start_time": "2022-02-28T08:11:28.990Z"
   },
   {
    "duration": 975,
    "start_time": "2022-02-28T08:11:38.360Z"
   },
   {
    "duration": 49,
    "start_time": "2022-02-28T08:12:54.810Z"
   },
   {
    "duration": 21,
    "start_time": "2022-02-28T08:13:16.530Z"
   },
   {
    "duration": 9,
    "start_time": "2022-02-28T08:13:46.339Z"
   },
   {
    "duration": 4,
    "start_time": "2022-02-28T08:14:01.851Z"
   },
   {
    "duration": 8,
    "start_time": "2022-02-28T08:14:12.003Z"
   },
   {
    "duration": 17,
    "start_time": "2022-02-28T08:14:23.786Z"
   },
   {
    "duration": 16,
    "start_time": "2022-02-28T08:14:37.163Z"
   },
   {
    "duration": 17,
    "start_time": "2022-02-28T08:14:49.986Z"
   },
   {
    "duration": 16,
    "start_time": "2022-02-28T08:15:00.561Z"
   },
   {
    "duration": 6,
    "start_time": "2022-02-28T08:15:18.963Z"
   },
   {
    "duration": 6,
    "start_time": "2022-02-28T08:15:37.866Z"
   },
   {
    "duration": 14,
    "start_time": "2022-02-28T08:15:49.499Z"
   },
   {
    "duration": 5,
    "start_time": "2022-02-28T08:21:14.748Z"
   },
   {
    "duration": 23,
    "start_time": "2022-02-28T08:21:25.372Z"
   },
   {
    "duration": 4,
    "start_time": "2022-02-28T08:21:45.172Z"
   },
   {
    "duration": 15,
    "start_time": "2022-02-28T08:21:55.069Z"
   },
   {
    "duration": 90,
    "start_time": "2022-02-28T08:22:16.565Z"
   },
   {
    "duration": 5,
    "start_time": "2022-02-28T08:22:36.877Z"
   },
   {
    "duration": 4,
    "start_time": "2022-02-28T08:23:09.085Z"
   },
   {
    "duration": 324,
    "start_time": "2022-02-28T08:23:23.821Z"
   },
   {
    "duration": 4,
    "start_time": "2022-02-28T08:23:34.359Z"
   },
   {
    "duration": 12,
    "start_time": "2022-02-28T08:25:15.310Z"
   },
   {
    "duration": 7,
    "start_time": "2022-02-28T08:25:24.934Z"
   },
   {
    "duration": 91,
    "start_time": "2022-02-28T08:25:30.766Z"
   },
   {
    "duration": 6,
    "start_time": "2022-02-28T08:25:54.998Z"
   },
   {
    "duration": 28,
    "start_time": "2022-02-28T08:26:00.342Z"
   },
   {
    "duration": 260,
    "start_time": "2022-02-28T08:31:07.359Z"
   },
   {
    "duration": 253,
    "start_time": "2022-02-28T08:32:07.807Z"
   },
   {
    "duration": 380,
    "start_time": "2022-02-28T08:32:48.480Z"
   },
   {
    "duration": 375,
    "start_time": "2022-02-28T08:33:23.281Z"
   },
   {
    "duration": 3,
    "start_time": "2022-02-28T08:35:32.625Z"
   },
   {
    "duration": 15,
    "start_time": "2022-02-28T08:36:01.769Z"
   },
   {
    "duration": 6,
    "start_time": "2022-02-28T08:36:13.281Z"
   },
   {
    "duration": 504,
    "start_time": "2022-02-28T08:36:28.803Z"
   },
   {
    "duration": 9,
    "start_time": "2022-02-28T08:37:53.273Z"
   },
   {
    "duration": 8,
    "start_time": "2022-02-28T08:38:00.540Z"
   },
   {
    "duration": 295,
    "start_time": "2022-02-28T08:38:12.034Z"
   },
   {
    "duration": 8,
    "start_time": "2022-02-28T08:40:20.330Z"
   },
   {
    "duration": 341,
    "start_time": "2022-02-28T08:40:26.404Z"
   },
   {
    "duration": 333,
    "start_time": "2022-02-28T08:40:46.315Z"
   },
   {
    "duration": 4,
    "start_time": "2022-02-28T08:40:55.803Z"
   },
   {
    "duration": 8,
    "start_time": "2022-02-28T08:41:22.564Z"
   },
   {
    "duration": 2340,
    "start_time": "2022-02-28T08:41:35.898Z"
   },
   {
    "duration": 61,
    "start_time": "2022-02-28T08:42:02.078Z"
   },
   {
    "duration": 129,
    "start_time": "2022-02-28T08:42:16.795Z"
   },
   {
    "duration": 16,
    "start_time": "2022-02-28T08:43:59.771Z"
   },
   {
    "duration": 250,
    "start_time": "2022-02-28T08:44:25.212Z"
   },
   {
    "duration": 7,
    "start_time": "2022-02-28T08:52:47.174Z"
   },
   {
    "duration": 507,
    "start_time": "2022-02-28T08:53:10.583Z"
   },
   {
    "duration": 485,
    "start_time": "2022-02-28T08:53:35.230Z"
   },
   {
    "duration": 505,
    "start_time": "2022-02-28T08:55:28.886Z"
   },
   {
    "duration": 507,
    "start_time": "2022-02-28T08:56:02.190Z"
   },
   {
    "duration": 93,
    "start_time": "2022-02-28T09:17:26.699Z"
   },
   {
    "duration": 521,
    "start_time": "2022-02-28T09:17:43.708Z"
   },
   {
    "duration": 598,
    "start_time": "2022-02-28T09:18:00.917Z"
   },
   {
    "duration": 11,
    "start_time": "2022-02-28T10:48:47.412Z"
   },
   {
    "duration": 4,
    "start_time": "2022-02-28T10:48:59.316Z"
   },
   {
    "duration": 7,
    "start_time": "2022-02-28T10:49:18.484Z"
   },
   {
    "duration": 11,
    "start_time": "2022-02-28T10:51:47.244Z"
   },
   {
    "duration": 6,
    "start_time": "2022-02-28T10:52:00.269Z"
   },
   {
    "duration": 98,
    "start_time": "2022-02-28T10:52:27.212Z"
   },
   {
    "duration": 988,
    "start_time": "2022-02-28T10:58:10.044Z"
   },
   {
    "duration": 35,
    "start_time": "2022-02-28T10:58:11.034Z"
   },
   {
    "duration": 18,
    "start_time": "2022-02-28T10:58:11.071Z"
   },
   {
    "duration": 15,
    "start_time": "2022-02-28T10:58:11.090Z"
   },
   {
    "duration": 4,
    "start_time": "2022-02-28T10:58:11.106Z"
   },
   {
    "duration": 12,
    "start_time": "2022-02-28T10:58:11.111Z"
   },
   {
    "duration": 17,
    "start_time": "2022-02-28T10:58:11.124Z"
   },
   {
    "duration": 16,
    "start_time": "2022-02-28T10:58:11.143Z"
   },
   {
    "duration": 18,
    "start_time": "2022-02-28T10:58:11.161Z"
   },
   {
    "duration": 32,
    "start_time": "2022-02-28T10:58:11.181Z"
   },
   {
    "duration": 7,
    "start_time": "2022-02-28T10:58:11.214Z"
   },
   {
    "duration": 7,
    "start_time": "2022-02-28T10:58:11.223Z"
   },
   {
    "duration": 18,
    "start_time": "2022-02-28T10:58:11.232Z"
   },
   {
    "duration": 4,
    "start_time": "2022-02-28T10:58:11.252Z"
   },
   {
    "duration": 24,
    "start_time": "2022-02-28T10:58:11.257Z"
   },
   {
    "duration": 25,
    "start_time": "2022-02-28T10:58:11.283Z"
   },
   {
    "duration": 16,
    "start_time": "2022-02-28T10:58:11.309Z"
   },
   {
    "duration": 5,
    "start_time": "2022-02-28T10:58:11.326Z"
   },
   {
    "duration": 339,
    "start_time": "2022-02-28T10:58:11.332Z"
   },
   {
    "duration": 4,
    "start_time": "2022-02-28T10:58:11.672Z"
   },
   {
    "duration": 14,
    "start_time": "2022-02-28T10:58:11.677Z"
   },
   {
    "duration": 16,
    "start_time": "2022-02-28T10:58:11.692Z"
   },
   {
    "duration": 5,
    "start_time": "2022-02-28T10:58:11.711Z"
   },
   {
    "duration": 18,
    "start_time": "2022-02-28T10:58:11.718Z"
   },
   {
    "duration": 270,
    "start_time": "2022-02-28T10:58:11.737Z"
   },
   {
    "duration": 408,
    "start_time": "2022-02-28T10:58:12.009Z"
   },
   {
    "duration": 2,
    "start_time": "2022-02-28T10:58:12.419Z"
   },
   {
    "duration": 16,
    "start_time": "2022-02-28T10:58:12.423Z"
   },
   {
    "duration": 5,
    "start_time": "2022-02-28T10:58:12.440Z"
   },
   {
    "duration": 361,
    "start_time": "2022-02-28T10:58:12.447Z"
   },
   {
    "duration": 8,
    "start_time": "2022-02-28T10:58:12.809Z"
   },
   {
    "duration": 17,
    "start_time": "2022-02-28T10:58:12.819Z"
   },
   {
    "duration": 266,
    "start_time": "2022-02-28T10:58:12.838Z"
   },
   {
    "duration": 8,
    "start_time": "2022-02-28T10:58:13.106Z"
   },
   {
    "duration": 429,
    "start_time": "2022-02-28T10:58:13.116Z"
   },
   {
    "duration": 320,
    "start_time": "2022-02-28T10:58:13.547Z"
   },
   {
    "duration": 5,
    "start_time": "2022-02-28T10:58:13.869Z"
   },
   {
    "duration": 8,
    "start_time": "2022-02-28T10:58:13.876Z"
   },
   {
    "duration": 2267,
    "start_time": "2022-02-28T10:58:13.886Z"
   },
   {
    "duration": 67,
    "start_time": "2022-02-28T10:58:16.155Z"
   },
   {
    "duration": 53,
    "start_time": "2022-02-28T10:58:16.224Z"
   },
   {
    "duration": 32,
    "start_time": "2022-02-28T10:58:16.278Z"
   },
   {
    "duration": 270,
    "start_time": "2022-02-28T10:58:16.311Z"
   },
   {
    "duration": 7,
    "start_time": "2022-02-28T10:58:16.582Z"
   },
   {
    "duration": 514,
    "start_time": "2022-02-28T10:58:16.591Z"
   },
   {
    "duration": 575,
    "start_time": "2022-02-28T10:58:17.106Z"
   },
   {
    "duration": 524,
    "start_time": "2022-02-28T10:58:17.683Z"
   },
   {
    "duration": 511,
    "start_time": "2022-02-28T10:58:18.209Z"
   },
   {
    "duration": 536,
    "start_time": "2022-02-28T10:58:18.722Z"
   },
   {
    "duration": 507,
    "start_time": "2022-02-28T10:58:19.260Z"
   },
   {
    "duration": 9,
    "start_time": "2022-02-28T10:58:19.768Z"
   },
   {
    "duration": 5,
    "start_time": "2022-02-28T10:58:19.779Z"
   },
   {
    "duration": 8,
    "start_time": "2022-02-28T10:58:19.785Z"
   },
   {
    "duration": 10,
    "start_time": "2022-02-28T10:58:19.805Z"
   },
   {
    "duration": 4,
    "start_time": "2022-02-28T10:58:19.817Z"
   },
   {
    "duration": 1158,
    "start_time": "2022-03-08T10:58:46.646Z"
   },
   {
    "duration": 33,
    "start_time": "2022-03-08T10:58:47.806Z"
   },
   {
    "duration": 32,
    "start_time": "2022-03-08T10:58:47.841Z"
   },
   {
    "duration": 9,
    "start_time": "2022-03-08T10:58:47.875Z"
   },
   {
    "duration": 4,
    "start_time": "2022-03-08T10:58:47.885Z"
   },
   {
    "duration": 9,
    "start_time": "2022-03-08T10:58:47.891Z"
   },
   {
    "duration": 23,
    "start_time": "2022-03-08T10:58:47.901Z"
   },
   {
    "duration": 48,
    "start_time": "2022-03-08T10:58:47.928Z"
   },
   {
    "duration": 19,
    "start_time": "2022-03-08T10:58:47.978Z"
   },
   {
    "duration": 19,
    "start_time": "2022-03-08T10:58:47.999Z"
   },
   {
    "duration": 6,
    "start_time": "2022-03-08T10:58:48.020Z"
   },
   {
    "duration": 8,
    "start_time": "2022-03-08T10:58:48.060Z"
   },
   {
    "duration": 21,
    "start_time": "2022-03-08T10:58:48.070Z"
   },
   {
    "duration": 5,
    "start_time": "2022-03-08T10:58:48.092Z"
   },
   {
    "duration": 26,
    "start_time": "2022-03-08T10:58:48.098Z"
   },
   {
    "duration": 35,
    "start_time": "2022-03-08T10:58:48.126Z"
   },
   {
    "duration": 19,
    "start_time": "2022-03-08T10:58:48.163Z"
   },
   {
    "duration": 5,
    "start_time": "2022-03-08T10:58:48.183Z"
   },
   {
    "duration": 392,
    "start_time": "2022-03-08T10:58:48.189Z"
   },
   {
    "duration": 4,
    "start_time": "2022-03-08T10:58:48.583Z"
   },
   {
    "duration": 10,
    "start_time": "2022-03-08T10:58:48.589Z"
   },
   {
    "duration": 8,
    "start_time": "2022-03-08T10:58:48.601Z"
   },
   {
    "duration": 6,
    "start_time": "2022-03-08T10:58:48.612Z"
   },
   {
    "duration": 56,
    "start_time": "2022-03-08T10:58:48.620Z"
   },
   {
    "duration": 335,
    "start_time": "2022-03-08T10:58:48.677Z"
   },
   {
    "duration": 481,
    "start_time": "2022-03-08T10:58:49.014Z"
   },
   {
    "duration": 3,
    "start_time": "2022-03-08T10:58:49.497Z"
   },
   {
    "duration": 15,
    "start_time": "2022-03-08T10:58:49.502Z"
   },
   {
    "duration": 6,
    "start_time": "2022-03-08T10:58:49.519Z"
   },
   {
    "duration": 475,
    "start_time": "2022-03-08T10:58:49.526Z"
   },
   {
    "duration": 9,
    "start_time": "2022-03-08T10:58:50.002Z"
   },
   {
    "duration": 12,
    "start_time": "2022-03-08T10:58:50.012Z"
   },
   {
    "duration": 332,
    "start_time": "2022-03-08T10:58:50.025Z"
   },
   {
    "duration": 8,
    "start_time": "2022-03-08T10:58:50.359Z"
   },
   {
    "duration": 499,
    "start_time": "2022-03-08T10:58:50.369Z"
   },
   {
    "duration": 402,
    "start_time": "2022-03-08T10:58:50.870Z"
   },
   {
    "duration": 5,
    "start_time": "2022-03-08T10:58:51.274Z"
   },
   {
    "duration": 9,
    "start_time": "2022-03-08T10:58:51.281Z"
   },
   {
    "duration": 2800,
    "start_time": "2022-03-08T10:58:51.292Z"
   },
   {
    "duration": 104,
    "start_time": "2022-03-08T10:58:54.093Z"
   },
   {
    "duration": 86,
    "start_time": "2022-03-08T10:58:54.199Z"
   },
   {
    "duration": 17,
    "start_time": "2022-03-08T10:58:54.287Z"
   },
   {
    "duration": 375,
    "start_time": "2022-03-08T10:58:54.306Z"
   },
   {
    "duration": 8,
    "start_time": "2022-03-08T10:58:54.683Z"
   },
   {
    "duration": 662,
    "start_time": "2022-03-08T10:58:54.693Z"
   },
   {
    "duration": 720,
    "start_time": "2022-03-08T10:58:55.359Z"
   },
   {
    "duration": 687,
    "start_time": "2022-03-08T10:58:56.080Z"
   },
   {
    "duration": 727,
    "start_time": "2022-03-08T10:58:56.769Z"
   },
   {
    "duration": 685,
    "start_time": "2022-03-08T10:58:57.498Z"
   },
   {
    "duration": 713,
    "start_time": "2022-03-08T10:58:58.185Z"
   },
   {
    "duration": 12,
    "start_time": "2022-03-08T10:58:58.900Z"
   },
   {
    "duration": 5,
    "start_time": "2022-03-08T10:58:58.914Z"
   },
   {
    "duration": 7,
    "start_time": "2022-03-08T10:58:58.921Z"
   },
   {
    "duration": 34,
    "start_time": "2022-03-08T10:58:58.930Z"
   },
   {
    "duration": 6,
    "start_time": "2022-03-08T10:58:58.966Z"
   },
   {
    "duration": 1188,
    "start_time": "2022-03-09T07:40:52.389Z"
   },
   {
    "duration": 35,
    "start_time": "2022-03-09T07:40:53.579Z"
   },
   {
    "duration": 23,
    "start_time": "2022-03-09T07:40:53.617Z"
   },
   {
    "duration": 11,
    "start_time": "2022-03-09T07:40:53.642Z"
   },
   {
    "duration": 5,
    "start_time": "2022-03-09T07:40:53.655Z"
   },
   {
    "duration": 40,
    "start_time": "2022-03-09T07:40:53.661Z"
   },
   {
    "duration": 20,
    "start_time": "2022-03-09T07:40:53.703Z"
   },
   {
    "duration": 19,
    "start_time": "2022-03-09T07:40:53.725Z"
   },
   {
    "duration": 21,
    "start_time": "2022-03-09T07:40:53.747Z"
   },
   {
    "duration": 48,
    "start_time": "2022-03-09T07:40:53.770Z"
   },
   {
    "duration": 7,
    "start_time": "2022-03-09T07:40:53.820Z"
   },
   {
    "duration": 12,
    "start_time": "2022-03-09T07:40:53.829Z"
   },
   {
    "duration": 19,
    "start_time": "2022-03-09T07:40:53.843Z"
   },
   {
    "duration": 4,
    "start_time": "2022-03-09T07:40:53.864Z"
   },
   {
    "duration": 57,
    "start_time": "2022-03-09T07:40:53.870Z"
   },
   {
    "duration": 4,
    "start_time": "2022-03-09T07:40:53.929Z"
   },
   {
    "duration": 26,
    "start_time": "2022-03-09T07:40:53.934Z"
   },
   {
    "duration": 16,
    "start_time": "2022-03-09T07:40:53.962Z"
   },
   {
    "duration": 388,
    "start_time": "2022-03-09T07:40:53.980Z"
   },
   {
    "duration": 5,
    "start_time": "2022-03-09T07:40:54.370Z"
   },
   {
    "duration": 24,
    "start_time": "2022-03-09T07:40:54.377Z"
   },
   {
    "duration": 10,
    "start_time": "2022-03-09T07:40:54.403Z"
   },
   {
    "duration": 13,
    "start_time": "2022-03-09T07:40:54.414Z"
   },
   {
    "duration": 23,
    "start_time": "2022-03-09T07:40:54.429Z"
   },
   {
    "duration": 342,
    "start_time": "2022-03-09T07:40:54.454Z"
   },
   {
    "duration": 477,
    "start_time": "2022-03-09T07:40:54.801Z"
   },
   {
    "duration": 3,
    "start_time": "2022-03-09T07:40:55.282Z"
   },
   {
    "duration": 25,
    "start_time": "2022-03-09T07:40:55.288Z"
   },
   {
    "duration": 8,
    "start_time": "2022-03-09T07:40:55.315Z"
   },
   {
    "duration": 491,
    "start_time": "2022-03-09T07:40:55.324Z"
   },
   {
    "duration": 10,
    "start_time": "2022-03-09T07:40:55.817Z"
   },
   {
    "duration": 8,
    "start_time": "2022-03-09T07:40:55.830Z"
   },
   {
    "duration": 331,
    "start_time": "2022-03-09T07:40:55.840Z"
   },
   {
    "duration": 8,
    "start_time": "2022-03-09T07:40:56.173Z"
   },
   {
    "duration": 446,
    "start_time": "2022-03-09T07:40:56.183Z"
   },
   {
    "duration": 376,
    "start_time": "2022-03-09T07:40:56.631Z"
   },
   {
    "duration": 5,
    "start_time": "2022-03-09T07:40:57.009Z"
   },
   {
    "duration": 10,
    "start_time": "2022-03-09T07:40:57.015Z"
   },
   {
    "duration": 2680,
    "start_time": "2022-03-09T07:40:57.027Z"
   },
   {
    "duration": 69,
    "start_time": "2022-03-09T07:40:59.709Z"
   },
   {
    "duration": 68,
    "start_time": "2022-03-09T07:40:59.800Z"
   },
   {
    "duration": 40,
    "start_time": "2022-03-09T07:40:59.870Z"
   },
   {
    "duration": 328,
    "start_time": "2022-03-09T07:40:59.911Z"
   },
   {
    "duration": 10,
    "start_time": "2022-03-09T07:41:00.241Z"
   },
   {
    "duration": 658,
    "start_time": "2022-03-09T07:41:00.252Z"
   },
   {
    "duration": 818,
    "start_time": "2022-03-09T07:41:00.912Z"
   },
   {
    "duration": 632,
    "start_time": "2022-03-09T07:41:01.733Z"
   },
   {
    "duration": 645,
    "start_time": "2022-03-09T07:41:02.367Z"
   },
   {
    "duration": 669,
    "start_time": "2022-03-09T07:41:03.013Z"
   },
   {
    "duration": 636,
    "start_time": "2022-03-09T07:41:03.684Z"
   },
   {
    "duration": 16,
    "start_time": "2022-03-09T07:41:04.322Z"
   },
   {
    "duration": 9,
    "start_time": "2022-03-09T07:41:04.340Z"
   },
   {
    "duration": 9,
    "start_time": "2022-03-09T07:41:04.351Z"
   },
   {
    "duration": 40,
    "start_time": "2022-03-09T07:41:04.362Z"
   },
   {
    "duration": 7,
    "start_time": "2022-03-09T07:41:04.405Z"
   },
   {
    "duration": 296,
    "start_time": "2022-03-09T14:07:40.306Z"
   },
   {
    "duration": 1268,
    "start_time": "2022-03-09T14:07:58.316Z"
   },
   {
    "duration": 41,
    "start_time": "2022-03-09T14:07:59.586Z"
   },
   {
    "duration": 23,
    "start_time": "2022-03-09T14:07:59.629Z"
   },
   {
    "duration": 40,
    "start_time": "2022-03-09T14:07:59.654Z"
   },
   {
    "duration": 19,
    "start_time": "2022-03-09T14:07:59.696Z"
   },
   {
    "duration": 39,
    "start_time": "2022-03-09T14:07:59.718Z"
   },
   {
    "duration": 43,
    "start_time": "2022-03-09T14:07:59.759Z"
   },
   {
    "duration": 22,
    "start_time": "2022-03-09T14:07:59.805Z"
   },
   {
    "duration": 39,
    "start_time": "2022-03-09T14:07:59.830Z"
   },
   {
    "duration": 38,
    "start_time": "2022-03-09T14:07:59.871Z"
   },
   {
    "duration": 14,
    "start_time": "2022-03-09T14:07:59.911Z"
   },
   {
    "duration": 42,
    "start_time": "2022-03-09T14:07:59.927Z"
   },
   {
    "duration": 40,
    "start_time": "2022-03-09T14:07:59.972Z"
   },
   {
    "duration": 23,
    "start_time": "2022-03-09T14:08:00.014Z"
   },
   {
    "duration": 47,
    "start_time": "2022-03-09T14:08:00.039Z"
   },
   {
    "duration": 7,
    "start_time": "2022-03-09T14:08:00.089Z"
   },
   {
    "duration": 50,
    "start_time": "2022-03-09T14:08:00.098Z"
   },
   {
    "duration": 22,
    "start_time": "2022-03-09T14:08:00.151Z"
   },
   {
    "duration": 419,
    "start_time": "2022-03-09T14:08:00.175Z"
   },
   {
    "duration": 5,
    "start_time": "2022-03-09T14:08:00.597Z"
   },
   {
    "duration": 46,
    "start_time": "2022-03-09T14:08:00.604Z"
   },
   {
    "duration": 30,
    "start_time": "2022-03-09T14:08:00.652Z"
   },
   {
    "duration": 28,
    "start_time": "2022-03-09T14:08:00.688Z"
   },
   {
    "duration": 43,
    "start_time": "2022-03-09T14:08:00.719Z"
   },
   {
    "duration": 359,
    "start_time": "2022-03-09T14:08:00.764Z"
   },
   {
    "duration": 548,
    "start_time": "2022-03-09T14:08:01.125Z"
   },
   {
    "duration": 4,
    "start_time": "2022-03-09T14:08:01.675Z"
   },
   {
    "duration": 32,
    "start_time": "2022-03-09T14:08:01.681Z"
   },
   {
    "duration": 22,
    "start_time": "2022-03-09T14:08:01.716Z"
   },
   {
    "duration": 519,
    "start_time": "2022-03-09T14:08:01.740Z"
   },
   {
    "duration": 10,
    "start_time": "2022-03-09T14:08:02.261Z"
   },
   {
    "duration": 31,
    "start_time": "2022-03-09T14:08:02.273Z"
   },
   {
    "duration": 307,
    "start_time": "2022-03-09T14:08:02.306Z"
   },
   {
    "duration": 9,
    "start_time": "2022-03-09T14:08:02.615Z"
   },
   {
    "duration": 491,
    "start_time": "2022-03-09T14:08:02.626Z"
   },
   {
    "duration": 404,
    "start_time": "2022-03-09T14:08:03.120Z"
   },
   {
    "duration": 6,
    "start_time": "2022-03-09T14:08:03.526Z"
   },
   {
    "duration": 22,
    "start_time": "2022-03-09T14:08:03.535Z"
   },
   {
    "duration": 2914,
    "start_time": "2022-03-09T14:08:03.559Z"
   },
   {
    "duration": 85,
    "start_time": "2022-03-09T14:08:06.475Z"
   },
   {
    "duration": 96,
    "start_time": "2022-03-09T14:08:06.562Z"
   },
   {
    "duration": 19,
    "start_time": "2022-03-09T14:08:06.660Z"
   },
   {
    "duration": 404,
    "start_time": "2022-03-09T14:08:06.681Z"
   },
   {
    "duration": 20,
    "start_time": "2022-03-09T14:08:07.087Z"
   },
   {
    "duration": 755,
    "start_time": "2022-03-09T14:08:07.109Z"
   },
   {
    "duration": 706,
    "start_time": "2022-03-09T14:08:07.866Z"
   },
   {
    "duration": 729,
    "start_time": "2022-03-09T14:08:08.574Z"
   },
   {
    "duration": 745,
    "start_time": "2022-03-09T14:08:09.306Z"
   },
   {
    "duration": 755,
    "start_time": "2022-03-09T14:08:10.053Z"
   },
   {
    "duration": 748,
    "start_time": "2022-03-09T14:08:10.810Z"
   },
   {
    "duration": 13,
    "start_time": "2022-03-09T14:08:11.560Z"
   },
   {
    "duration": 5,
    "start_time": "2022-03-09T14:08:11.575Z"
   },
   {
    "duration": 12,
    "start_time": "2022-03-09T14:08:11.602Z"
   },
   {
    "duration": 22,
    "start_time": "2022-03-09T14:08:11.617Z"
   },
   {
    "duration": 9,
    "start_time": "2022-03-09T14:08:11.641Z"
   },
   {
    "duration": 12,
    "start_time": "2022-03-09T14:08:38.055Z"
   },
   {
    "duration": 10,
    "start_time": "2022-03-09T14:08:38.655Z"
   },
   {
    "duration": 413,
    "start_time": "2022-03-09T14:08:42.207Z"
   },
   {
    "duration": 11,
    "start_time": "2022-03-09T14:09:09.639Z"
   },
   {
    "duration": 11,
    "start_time": "2022-03-09T14:09:10.286Z"
   },
   {
    "duration": 335,
    "start_time": "2022-03-09T14:09:11.089Z"
   },
   {
    "duration": 9,
    "start_time": "2022-03-09T14:10:26.856Z"
   },
   {
    "duration": 10,
    "start_time": "2022-03-09T14:10:28.321Z"
   },
   {
    "duration": 359,
    "start_time": "2022-03-09T14:10:31.008Z"
   },
   {
    "duration": 84,
    "start_time": "2022-03-09T15:53:50.608Z"
   },
   {
    "duration": 294,
    "start_time": "2022-03-09T15:58:03.609Z"
   },
   {
    "duration": 305,
    "start_time": "2022-03-09T15:58:10.605Z"
   },
   {
    "duration": 223,
    "start_time": "2022-03-09T15:58:26.998Z"
   },
   {
    "duration": 1221,
    "start_time": "2022-03-09T15:58:44.480Z"
   },
   {
    "duration": 37,
    "start_time": "2022-03-09T15:58:45.704Z"
   },
   {
    "duration": 25,
    "start_time": "2022-03-09T15:58:45.744Z"
   },
   {
    "duration": 38,
    "start_time": "2022-03-09T15:58:45.772Z"
   },
   {
    "duration": 18,
    "start_time": "2022-03-09T15:58:45.812Z"
   },
   {
    "duration": 14,
    "start_time": "2022-03-09T15:58:45.832Z"
   },
   {
    "duration": 22,
    "start_time": "2022-03-09T15:58:45.848Z"
   },
   {
    "duration": 42,
    "start_time": "2022-03-09T15:58:45.872Z"
   },
   {
    "duration": 28,
    "start_time": "2022-03-09T15:58:45.918Z"
   },
   {
    "duration": 22,
    "start_time": "2022-03-09T15:58:45.949Z"
   },
   {
    "duration": 35,
    "start_time": "2022-03-09T15:58:45.973Z"
   },
   {
    "duration": 34,
    "start_time": "2022-03-09T15:58:46.011Z"
   },
   {
    "duration": 46,
    "start_time": "2022-03-09T15:58:46.047Z"
   },
   {
    "duration": 7,
    "start_time": "2022-03-09T15:58:46.095Z"
   },
   {
    "duration": 40,
    "start_time": "2022-03-09T15:58:46.104Z"
   },
   {
    "duration": 5,
    "start_time": "2022-03-09T15:58:46.146Z"
   },
   {
    "duration": 23,
    "start_time": "2022-03-09T15:58:46.152Z"
   },
   {
    "duration": 26,
    "start_time": "2022-03-09T15:58:46.176Z"
   },
   {
    "duration": 425,
    "start_time": "2022-03-09T15:58:46.206Z"
   },
   {
    "duration": 5,
    "start_time": "2022-03-09T15:58:46.633Z"
   },
   {
    "duration": 17,
    "start_time": "2022-03-09T15:58:46.640Z"
   },
   {
    "duration": 11,
    "start_time": "2022-03-09T15:58:46.659Z"
   },
   {
    "duration": 11,
    "start_time": "2022-03-09T15:58:46.672Z"
   },
   {
    "duration": 29,
    "start_time": "2022-03-09T15:58:46.706Z"
   },
   {
    "duration": 357,
    "start_time": "2022-03-09T15:58:46.737Z"
   },
   {
    "duration": 509,
    "start_time": "2022-03-09T15:58:47.096Z"
   },
   {
    "duration": 4,
    "start_time": "2022-03-09T15:58:47.611Z"
   },
   {
    "duration": 17,
    "start_time": "2022-03-09T15:58:47.618Z"
   },
   {
    "duration": 7,
    "start_time": "2022-03-09T15:58:47.637Z"
   },
   {
    "duration": 585,
    "start_time": "2022-03-09T15:58:47.646Z"
   },
   {
    "duration": 1032,
    "start_time": "2022-03-09T15:58:48.233Z"
   },
   {
    "duration": 10,
    "start_time": "2022-03-09T15:58:49.267Z"
   },
   {
    "duration": 31,
    "start_time": "2022-03-09T15:58:49.279Z"
   },
   {
    "duration": 324,
    "start_time": "2022-03-09T15:58:49.312Z"
   },
   {
    "duration": 10,
    "start_time": "2022-03-09T15:58:49.638Z"
   },
   {
    "duration": 466,
    "start_time": "2022-03-09T15:58:49.651Z"
   },
   {
    "duration": 406,
    "start_time": "2022-03-09T15:58:50.120Z"
   },
   {
    "duration": 5,
    "start_time": "2022-03-09T15:58:50.528Z"
   },
   {
    "duration": 18,
    "start_time": "2022-03-09T15:58:50.535Z"
   },
   {
    "duration": 2613,
    "start_time": "2022-03-09T15:58:50.555Z"
   },
   {
    "duration": 82,
    "start_time": "2022-03-09T15:58:53.170Z"
   },
   {
    "duration": 90,
    "start_time": "2022-03-09T15:58:53.254Z"
   },
   {
    "duration": 20,
    "start_time": "2022-03-09T15:58:53.346Z"
   },
   {
    "duration": 361,
    "start_time": "2022-03-09T15:58:53.367Z"
   },
   {
    "duration": 10,
    "start_time": "2022-03-09T15:58:53.731Z"
   },
   {
    "duration": 678,
    "start_time": "2022-03-09T15:58:53.743Z"
   },
   {
    "duration": 685,
    "start_time": "2022-03-09T15:58:54.424Z"
   },
   {
    "duration": 800,
    "start_time": "2022-03-09T15:58:55.112Z"
   },
   {
    "duration": 770,
    "start_time": "2022-03-09T15:58:55.915Z"
   },
   {
    "duration": 827,
    "start_time": "2022-03-09T15:58:56.688Z"
   },
   {
    "duration": 657,
    "start_time": "2022-03-09T15:58:57.517Z"
   },
   {
    "duration": 25,
    "start_time": "2022-03-09T15:58:58.176Z"
   },
   {
    "duration": 6,
    "start_time": "2022-03-09T15:58:58.204Z"
   },
   {
    "duration": 30,
    "start_time": "2022-03-09T15:58:58.212Z"
   },
   {
    "duration": 24,
    "start_time": "2022-03-09T15:58:58.244Z"
   },
   {
    "duration": 7,
    "start_time": "2022-03-09T15:58:58.270Z"
   },
   {
    "duration": 943,
    "start_time": "2022-03-09T15:59:19.219Z"
   },
   {
    "duration": 11,
    "start_time": "2022-03-09T15:59:34.606Z"
   },
   {
    "duration": 11,
    "start_time": "2022-03-09T15:59:37.060Z"
   },
   {
    "duration": 458,
    "start_time": "2022-03-09T15:59:37.843Z"
   },
   {
    "duration": 11,
    "start_time": "2022-03-09T15:59:48.636Z"
   },
   {
    "duration": 9,
    "start_time": "2022-03-09T15:59:49.387Z"
   },
   {
    "duration": 430,
    "start_time": "2022-03-09T15:59:50.139Z"
   },
   {
    "duration": 10,
    "start_time": "2022-03-09T16:00:32.179Z"
   },
   {
    "duration": 8,
    "start_time": "2022-03-09T16:00:35.027Z"
   },
   {
    "duration": 10,
    "start_time": "2022-03-09T16:00:49.692Z"
   },
   {
    "duration": 11,
    "start_time": "2022-03-09T16:00:50.507Z"
   },
   {
    "duration": 351,
    "start_time": "2022-03-09T16:00:51.122Z"
   },
   {
    "duration": 73,
    "start_time": "2022-03-09T16:02:25.660Z"
   },
   {
    "duration": 84,
    "start_time": "2022-03-09T16:05:17.813Z"
   },
   {
    "duration": 89,
    "start_time": "2022-03-09T16:05:30.268Z"
   },
   {
    "duration": 9,
    "start_time": "2022-03-09T16:05:42.444Z"
   },
   {
    "duration": 507,
    "start_time": "2022-03-09T16:05:48.605Z"
   },
   {
    "duration": 508,
    "start_time": "2022-03-09T16:05:54.093Z"
   },
   {
    "duration": 7,
    "start_time": "2022-03-09T16:05:59.919Z"
   },
   {
    "duration": 6,
    "start_time": "2022-03-09T16:06:04.132Z"
   },
   {
    "duration": 3767,
    "start_time": "2022-03-09T16:06:25.054Z"
   },
   {
    "duration": 9,
    "start_time": "2022-03-09T16:07:12.846Z"
   },
   {
    "duration": 9,
    "start_time": "2022-03-09T16:07:13.925Z"
   },
   {
    "duration": 375,
    "start_time": "2022-03-09T16:07:14.813Z"
   },
   {
    "duration": 10,
    "start_time": "2022-03-09T16:07:28.893Z"
   },
   {
    "duration": 557,
    "start_time": "2022-03-09T16:07:29.573Z"
   },
   {
    "duration": 536,
    "start_time": "2022-03-09T16:07:30.293Z"
   },
   {
    "duration": 8,
    "start_time": "2022-03-09T16:07:33.413Z"
   },
   {
    "duration": 11,
    "start_time": "2022-03-09T16:07:36.822Z"
   },
   {
    "duration": 4407,
    "start_time": "2022-03-09T16:07:37.469Z"
   },
   {
    "duration": 78,
    "start_time": "2022-03-09T16:07:52.854Z"
   },
   {
    "duration": 69,
    "start_time": "2022-03-09T16:07:56.253Z"
   },
   {
    "duration": 77,
    "start_time": "2022-03-09T16:08:43.005Z"
   },
   {
    "duration": 86,
    "start_time": "2022-03-09T16:11:05.910Z"
   },
   {
    "duration": 22,
    "start_time": "2022-03-09T16:11:13.683Z"
   },
   {
    "duration": 399,
    "start_time": "2022-03-09T16:11:15.822Z"
   },
   {
    "duration": 94,
    "start_time": "2022-03-09T16:12:25.727Z"
   },
   {
    "duration": 1504,
    "start_time": "2022-03-10T13:00:55.766Z"
   },
   {
    "duration": 46,
    "start_time": "2022-03-10T13:00:57.273Z"
   },
   {
    "duration": 34,
    "start_time": "2022-03-10T13:00:57.323Z"
   },
   {
    "duration": 39,
    "start_time": "2022-03-10T13:00:57.361Z"
   },
   {
    "duration": 5,
    "start_time": "2022-03-10T13:00:57.404Z"
   },
   {
    "duration": 13,
    "start_time": "2022-03-10T13:00:57.411Z"
   },
   {
    "duration": 63,
    "start_time": "2022-03-10T13:00:57.426Z"
   },
   {
    "duration": 32,
    "start_time": "2022-03-10T13:00:57.491Z"
   },
   {
    "duration": 32,
    "start_time": "2022-03-10T13:00:57.527Z"
   },
   {
    "duration": 32,
    "start_time": "2022-03-10T13:00:57.589Z"
   },
   {
    "duration": 10,
    "start_time": "2022-03-10T13:00:57.623Z"
   },
   {
    "duration": 12,
    "start_time": "2022-03-10T13:00:57.635Z"
   },
   {
    "duration": 60,
    "start_time": "2022-03-10T13:00:57.649Z"
   },
   {
    "duration": 6,
    "start_time": "2022-03-10T13:00:57.712Z"
   },
   {
    "duration": 67,
    "start_time": "2022-03-10T13:00:57.720Z"
   },
   {
    "duration": 6,
    "start_time": "2022-03-10T13:00:57.789Z"
   },
   {
    "duration": 39,
    "start_time": "2022-03-10T13:00:57.797Z"
   },
   {
    "duration": 9,
    "start_time": "2022-03-10T13:00:57.838Z"
   },
   {
    "duration": 553,
    "start_time": "2022-03-10T13:00:57.849Z"
   },
   {
    "duration": 6,
    "start_time": "2022-03-10T13:00:58.405Z"
   },
   {
    "duration": 17,
    "start_time": "2022-03-10T13:00:58.413Z"
   },
   {
    "duration": 8,
    "start_time": "2022-03-10T13:00:58.432Z"
   },
   {
    "duration": 10,
    "start_time": "2022-03-10T13:00:58.442Z"
   },
   {
    "duration": 62,
    "start_time": "2022-03-10T13:00:58.454Z"
   },
   {
    "duration": 499,
    "start_time": "2022-03-10T13:00:58.518Z"
   },
   {
    "duration": 741,
    "start_time": "2022-03-10T13:00:59.020Z"
   },
   {
    "duration": 4,
    "start_time": "2022-03-10T13:00:59.767Z"
   },
   {
    "duration": 30,
    "start_time": "2022-03-10T13:00:59.774Z"
   },
   {
    "duration": 9,
    "start_time": "2022-03-10T13:00:59.807Z"
   },
   {
    "duration": 731,
    "start_time": "2022-03-10T13:00:59.818Z"
   },
   {
    "duration": 1894,
    "start_time": "2022-03-10T13:01:00.551Z"
   },
   {
    "duration": 15,
    "start_time": "2022-03-10T13:01:02.447Z"
   },
   {
    "duration": 47,
    "start_time": "2022-03-10T13:01:02.465Z"
   },
   {
    "duration": 895,
    "start_time": "2022-03-10T13:01:02.514Z"
   },
   {
    "duration": 10,
    "start_time": "2022-03-10T13:01:03.411Z"
   },
   {
    "duration": 673,
    "start_time": "2022-03-10T13:01:03.423Z"
   },
   {
    "duration": 842,
    "start_time": "2022-03-10T13:01:04.099Z"
   },
   {
    "duration": 6,
    "start_time": "2022-03-10T13:01:04.944Z"
   },
   {
    "duration": 40,
    "start_time": "2022-03-10T13:01:04.953Z"
   },
   {
    "duration": 4366,
    "start_time": "2022-03-10T13:01:04.996Z"
   },
   {
    "duration": 97,
    "start_time": "2022-03-10T13:01:09.365Z"
   },
   {
    "duration": 125,
    "start_time": "2022-03-10T13:01:09.465Z"
   },
   {
    "duration": 26,
    "start_time": "2022-03-10T13:01:09.592Z"
   },
   {
    "duration": 502,
    "start_time": "2022-03-10T13:01:09.620Z"
   },
   {
    "duration": 12,
    "start_time": "2022-03-10T13:01:10.125Z"
   },
   {
    "duration": 1076,
    "start_time": "2022-03-10T13:01:10.139Z"
   },
   {
    "duration": 958,
    "start_time": "2022-03-10T13:01:11.217Z"
   },
   {
    "duration": 1092,
    "start_time": "2022-03-10T13:01:12.177Z"
   },
   {
    "duration": 1250,
    "start_time": "2022-03-10T13:01:13.272Z"
   },
   {
    "duration": 1125,
    "start_time": "2022-03-10T13:01:14.525Z"
   },
   {
    "duration": 1136,
    "start_time": "2022-03-10T13:01:15.653Z"
   },
   {
    "duration": 16,
    "start_time": "2022-03-10T13:01:16.791Z"
   },
   {
    "duration": 7,
    "start_time": "2022-03-10T13:01:16.809Z"
   },
   {
    "duration": 10,
    "start_time": "2022-03-10T13:01:16.818Z"
   },
   {
    "duration": 23,
    "start_time": "2022-03-10T13:01:16.831Z"
   },
   {
    "duration": 9,
    "start_time": "2022-03-10T13:01:16.887Z"
   },
   {
    "duration": 38,
    "start_time": "2022-03-10T13:05:03.975Z"
   },
   {
    "duration": 5,
    "start_time": "2022-03-10T13:05:12.165Z"
   },
   {
    "duration": 4,
    "start_time": "2022-03-10T13:55:48.027Z"
   },
   {
    "duration": 3,
    "start_time": "2022-03-10T13:56:38.138Z"
   },
   {
    "duration": 329,
    "start_time": "2022-03-10T13:56:39.231Z"
   },
   {
    "duration": 329,
    "start_time": "2022-03-10T13:56:45.887Z"
   },
   {
    "duration": 1132,
    "start_time": "2022-03-10T13:56:53.524Z"
   },
   {
    "duration": 51,
    "start_time": "2022-03-10T13:56:54.658Z"
   },
   {
    "duration": 22,
    "start_time": "2022-03-10T13:56:54.712Z"
   },
   {
    "duration": 10,
    "start_time": "2022-03-10T13:56:54.736Z"
   },
   {
    "duration": 3,
    "start_time": "2022-03-10T13:56:54.748Z"
   },
   {
    "duration": 8,
    "start_time": "2022-03-10T13:56:54.753Z"
   },
   {
    "duration": 16,
    "start_time": "2022-03-10T13:56:54.762Z"
   },
   {
    "duration": 43,
    "start_time": "2022-03-10T13:56:54.779Z"
   },
   {
    "duration": 18,
    "start_time": "2022-03-10T13:56:54.825Z"
   },
   {
    "duration": 16,
    "start_time": "2022-03-10T13:56:54.845Z"
   },
   {
    "duration": 7,
    "start_time": "2022-03-10T13:56:54.862Z"
   },
   {
    "duration": 33,
    "start_time": "2022-03-10T13:56:54.871Z"
   },
   {
    "duration": 18,
    "start_time": "2022-03-10T13:56:54.907Z"
   },
   {
    "duration": 4,
    "start_time": "2022-03-10T13:56:54.927Z"
   },
   {
    "duration": 26,
    "start_time": "2022-03-10T13:56:54.932Z"
   },
   {
    "duration": 4,
    "start_time": "2022-03-10T13:56:54.959Z"
   },
   {
    "duration": 50,
    "start_time": "2022-03-10T13:56:54.964Z"
   },
   {
    "duration": 4,
    "start_time": "2022-03-10T13:56:55.017Z"
   },
   {
    "duration": 371,
    "start_time": "2022-03-10T13:56:55.022Z"
   },
   {
    "duration": 6,
    "start_time": "2022-03-10T13:56:55.395Z"
   },
   {
    "duration": 17,
    "start_time": "2022-03-10T13:56:55.404Z"
   },
   {
    "duration": 7,
    "start_time": "2022-03-10T13:56:55.422Z"
   },
   {
    "duration": 5,
    "start_time": "2022-03-10T13:56:55.431Z"
   },
   {
    "duration": 20,
    "start_time": "2022-03-10T13:56:55.438Z"
   },
   {
    "duration": 322,
    "start_time": "2022-03-10T13:56:55.459Z"
   },
   {
    "duration": 425,
    "start_time": "2022-03-10T13:56:55.782Z"
   },
   {
    "duration": 3,
    "start_time": "2022-03-10T13:56:56.214Z"
   },
   {
    "duration": 14,
    "start_time": "2022-03-10T13:56:56.219Z"
   },
   {
    "duration": 6,
    "start_time": "2022-03-10T13:56:56.234Z"
   },
   {
    "duration": 417,
    "start_time": "2022-03-10T13:56:56.241Z"
   },
   {
    "duration": 3,
    "start_time": "2022-03-10T13:56:56.660Z"
   },
   {
    "duration": 12,
    "start_time": "2022-03-10T13:56:56.664Z"
   },
   {
    "duration": 5,
    "start_time": "2022-03-10T13:56:56.678Z"
   },
   {
    "duration": 7907,
    "start_time": "2022-03-10T13:56:56.684Z"
   },
   {
    "duration": 1962623,
    "start_time": "2022-03-10T13:24:21.970Z"
   },
   {
    "duration": 1962614,
    "start_time": "2022-03-10T13:24:21.980Z"
   },
   {
    "duration": 1962602,
    "start_time": "2022-03-10T13:24:21.993Z"
   },
   {
    "duration": 1962590,
    "start_time": "2022-03-10T13:24:22.006Z"
   },
   {
    "duration": 1962577,
    "start_time": "2022-03-10T13:24:22.020Z"
   },
   {
    "duration": 1962570,
    "start_time": "2022-03-10T13:24:22.030Z"
   },
   {
    "duration": 1962562,
    "start_time": "2022-03-10T13:24:22.040Z"
   },
   {
    "duration": 1962547,
    "start_time": "2022-03-10T13:24:22.056Z"
   },
   {
    "duration": 1962534,
    "start_time": "2022-03-10T13:24:22.071Z"
   },
   {
    "duration": 1962524,
    "start_time": "2022-03-10T13:24:22.082Z"
   },
   {
    "duration": 1962512,
    "start_time": "2022-03-10T13:24:22.095Z"
   },
   {
    "duration": 1962508,
    "start_time": "2022-03-10T13:24:22.101Z"
   },
   {
    "duration": 1962504,
    "start_time": "2022-03-10T13:24:22.105Z"
   },
   {
    "duration": 1962499,
    "start_time": "2022-03-10T13:24:22.111Z"
   },
   {
    "duration": 1962497,
    "start_time": "2022-03-10T13:24:22.114Z"
   },
   {
    "duration": 1962494,
    "start_time": "2022-03-10T13:24:22.118Z"
   },
   {
    "duration": 1962492,
    "start_time": "2022-03-10T13:24:22.121Z"
   },
   {
    "duration": 1962489,
    "start_time": "2022-03-10T13:24:22.125Z"
   },
   {
    "duration": 1962488,
    "start_time": "2022-03-10T13:24:22.129Z"
   },
   {
    "duration": 1962487,
    "start_time": "2022-03-10T13:24:22.133Z"
   },
   {
    "duration": 1962486,
    "start_time": "2022-03-10T13:24:22.136Z"
   },
   {
    "duration": 1962483,
    "start_time": "2022-03-10T13:24:22.140Z"
   },
   {
    "duration": 1962480,
    "start_time": "2022-03-10T13:24:22.143Z"
   },
   {
    "duration": 1962477,
    "start_time": "2022-03-10T13:24:22.147Z"
   },
   {
    "duration": 1962474,
    "start_time": "2022-03-10T13:24:22.151Z"
   },
   {
    "duration": 1962471,
    "start_time": "2022-03-10T13:24:22.155Z"
   },
   {
    "duration": 11,
    "start_time": "2022-03-10T13:57:32.467Z"
   },
   {
    "duration": 7,
    "start_time": "2022-03-10T13:57:33.851Z"
   },
   {
    "duration": 3,
    "start_time": "2022-03-10T13:58:19.747Z"
   },
   {
    "duration": 12,
    "start_time": "2022-03-10T13:58:20.379Z"
   },
   {
    "duration": 6,
    "start_time": "2022-03-10T13:58:20.971Z"
   },
   {
    "duration": 8063,
    "start_time": "2022-03-10T13:58:23.412Z"
   },
   {
    "duration": 1093,
    "start_time": "2022-03-10T14:00:42.157Z"
   },
   {
    "duration": 37,
    "start_time": "2022-03-10T14:00:43.252Z"
   },
   {
    "duration": 27,
    "start_time": "2022-03-10T14:00:43.291Z"
   },
   {
    "duration": 9,
    "start_time": "2022-03-10T14:00:43.320Z"
   },
   {
    "duration": 4,
    "start_time": "2022-03-10T14:00:43.331Z"
   },
   {
    "duration": 8,
    "start_time": "2022-03-10T14:00:43.336Z"
   },
   {
    "duration": 16,
    "start_time": "2022-03-10T14:00:43.346Z"
   },
   {
    "duration": 58,
    "start_time": "2022-03-10T14:00:43.364Z"
   },
   {
    "duration": 21,
    "start_time": "2022-03-10T14:00:43.425Z"
   },
   {
    "duration": 18,
    "start_time": "2022-03-10T14:00:43.449Z"
   },
   {
    "duration": 34,
    "start_time": "2022-03-10T14:00:43.469Z"
   },
   {
    "duration": 12,
    "start_time": "2022-03-10T14:00:43.506Z"
   },
   {
    "duration": 16,
    "start_time": "2022-03-10T14:00:43.519Z"
   },
   {
    "duration": 4,
    "start_time": "2022-03-10T14:00:43.537Z"
   },
   {
    "duration": 26,
    "start_time": "2022-03-10T14:00:43.542Z"
   },
   {
    "duration": 5,
    "start_time": "2022-03-10T14:00:43.569Z"
   },
   {
    "duration": 21,
    "start_time": "2022-03-10T14:00:43.602Z"
   },
   {
    "duration": 4,
    "start_time": "2022-03-10T14:00:43.625Z"
   },
   {
    "duration": 385,
    "start_time": "2022-03-10T14:00:43.631Z"
   },
   {
    "duration": 4,
    "start_time": "2022-03-10T14:00:44.018Z"
   },
   {
    "duration": 10,
    "start_time": "2022-03-10T14:00:44.024Z"
   },
   {
    "duration": 6,
    "start_time": "2022-03-10T14:00:44.035Z"
   },
   {
    "duration": 4,
    "start_time": "2022-03-10T14:00:44.043Z"
   },
   {
    "duration": 18,
    "start_time": "2022-03-10T14:00:44.049Z"
   },
   {
    "duration": 437,
    "start_time": "2022-03-10T14:00:44.068Z"
   },
   {
    "duration": 424,
    "start_time": "2022-03-10T14:00:44.506Z"
   },
   {
    "duration": 3,
    "start_time": "2022-03-10T14:00:44.934Z"
   },
   {
    "duration": 12,
    "start_time": "2022-03-10T14:00:44.939Z"
   },
   {
    "duration": 5,
    "start_time": "2022-03-10T14:00:44.952Z"
   },
   {
    "duration": 8037,
    "start_time": "2022-03-10T14:00:44.959Z"
   },
   {
    "duration": 1962631,
    "start_time": "2022-03-10T13:28:10.371Z"
   },
   {
    "duration": 1962625,
    "start_time": "2022-03-10T13:28:10.378Z"
   },
   {
    "duration": 1962622,
    "start_time": "2022-03-10T13:28:10.382Z"
   },
   {
    "duration": 1962619,
    "start_time": "2022-03-10T13:28:10.387Z"
   },
   {
    "duration": 1962616,
    "start_time": "2022-03-10T13:28:10.391Z"
   },
   {
    "duration": 1962612,
    "start_time": "2022-03-10T13:28:10.396Z"
   },
   {
    "duration": 1962610,
    "start_time": "2022-03-10T13:28:10.400Z"
   },
   {
    "duration": 1962607,
    "start_time": "2022-03-10T13:28:10.405Z"
   },
   {
    "duration": 1962604,
    "start_time": "2022-03-10T13:28:10.409Z"
   },
   {
    "duration": 1962601,
    "start_time": "2022-03-10T13:28:10.414Z"
   },
   {
    "duration": 1962598,
    "start_time": "2022-03-10T13:28:10.418Z"
   },
   {
    "duration": 1962589,
    "start_time": "2022-03-10T13:28:10.428Z"
   },
   {
    "duration": 1962587,
    "start_time": "2022-03-10T13:28:10.431Z"
   },
   {
    "duration": 1962583,
    "start_time": "2022-03-10T13:28:10.436Z"
   },
   {
    "duration": 1962580,
    "start_time": "2022-03-10T13:28:10.440Z"
   },
   {
    "duration": 1962576,
    "start_time": "2022-03-10T13:28:10.445Z"
   },
   {
    "duration": 1962574,
    "start_time": "2022-03-10T13:28:10.448Z"
   },
   {
    "duration": 1962571,
    "start_time": "2022-03-10T13:28:10.452Z"
   },
   {
    "duration": 1962568,
    "start_time": "2022-03-10T13:28:10.456Z"
   },
   {
    "duration": 1962565,
    "start_time": "2022-03-10T13:28:10.460Z"
   },
   {
    "duration": 1962562,
    "start_time": "2022-03-10T13:28:10.464Z"
   },
   {
    "duration": 1962560,
    "start_time": "2022-03-10T13:28:10.468Z"
   },
   {
    "duration": 1962556,
    "start_time": "2022-03-10T13:28:10.473Z"
   },
   {
    "duration": 1962552,
    "start_time": "2022-03-10T13:28:10.478Z"
   },
   {
    "duration": 1962548,
    "start_time": "2022-03-10T13:28:10.483Z"
   },
   {
    "duration": 1962546,
    "start_time": "2022-03-10T13:28:10.486Z"
   },
   {
    "duration": 1962543,
    "start_time": "2022-03-10T13:28:10.490Z"
   },
   {
    "duration": 1962540,
    "start_time": "2022-03-10T13:28:10.494Z"
   },
   {
    "duration": 1962538,
    "start_time": "2022-03-10T13:28:10.497Z"
   },
   {
    "duration": 1962536,
    "start_time": "2022-03-10T13:28:10.500Z"
   },
   {
    "duration": 7849,
    "start_time": "2022-03-10T14:01:31.411Z"
   },
   {
    "duration": 4,
    "start_time": "2022-03-10T14:01:45.867Z"
   },
   {
    "duration": 13,
    "start_time": "2022-03-10T14:01:46.451Z"
   },
   {
    "duration": 6,
    "start_time": "2022-03-10T14:01:46.971Z"
   },
   {
    "duration": 390,
    "start_time": "2022-03-10T14:01:47.579Z"
   },
   {
    "duration": 811,
    "start_time": "2022-03-10T14:02:27.788Z"
   },
   {
    "duration": 9,
    "start_time": "2022-03-10T14:02:28.601Z"
   },
   {
    "duration": 4,
    "start_time": "2022-03-10T14:05:18.013Z"
   },
   {
    "duration": 12,
    "start_time": "2022-03-10T14:05:19.612Z"
   },
   {
    "duration": 11,
    "start_time": "2022-03-10T14:05:20.508Z"
   },
   {
    "duration": 12,
    "start_time": "2022-03-10T14:05:26.268Z"
   },
   {
    "duration": 6,
    "start_time": "2022-03-10T14:05:27.252Z"
   },
   {
    "duration": 8058,
    "start_time": "2022-03-10T14:05:33.724Z"
   },
   {
    "duration": 3,
    "start_time": "2022-03-10T14:07:42.444Z"
   },
   {
    "duration": 11,
    "start_time": "2022-03-10T14:07:42.940Z"
   },
   {
    "duration": 6,
    "start_time": "2022-03-10T14:07:43.422Z"
   },
   {
    "duration": 7686,
    "start_time": "2022-03-10T14:07:44.653Z"
   },
   {
    "duration": 8018,
    "start_time": "2022-03-10T14:08:13.574Z"
   },
   {
    "duration": 18,
    "start_time": "2022-03-10T14:09:22.430Z"
   },
   {
    "duration": 10,
    "start_time": "2022-03-10T14:09:23.437Z"
   },
   {
    "duration": 7774,
    "start_time": "2022-03-10T14:09:40.326Z"
   },
   {
    "duration": 5,
    "start_time": "2022-03-10T14:13:43.382Z"
   },
   {
    "duration": 17,
    "start_time": "2022-03-10T14:13:43.918Z"
   },
   {
    "duration": 9,
    "start_time": "2022-03-10T14:13:44.366Z"
   },
   {
    "duration": 12,
    "start_time": "2022-03-10T14:13:49.950Z"
   },
   {
    "duration": 7,
    "start_time": "2022-03-10T14:13:50.607Z"
   },
   {
    "duration": 460,
    "start_time": "2022-03-10T14:13:51.503Z"
   },
   {
    "duration": 5,
    "start_time": "2022-03-10T14:16:24.078Z"
   },
   {
    "duration": 14,
    "start_time": "2022-03-10T14:16:24.664Z"
   },
   {
    "duration": 6,
    "start_time": "2022-03-10T14:16:25.287Z"
   },
   {
    "duration": 893,
    "start_time": "2022-03-10T14:16:26.383Z"
   },
   {
    "duration": 926,
    "start_time": "2022-03-10T14:16:45.613Z"
   },
   {
    "duration": 5,
    "start_time": "2022-03-10T14:17:32.768Z"
   },
   {
    "duration": 13,
    "start_time": "2022-03-10T14:17:34.223Z"
   },
   {
    "duration": 6,
    "start_time": "2022-03-10T14:17:34.784Z"
   },
   {
    "duration": 707,
    "start_time": "2022-03-10T14:17:35.511Z"
   },
   {
    "duration": 787,
    "start_time": "2022-03-10T14:18:06.105Z"
   },
   {
    "duration": 300,
    "start_time": "2022-03-10T14:18:56.784Z"
   },
   {
    "duration": 355,
    "start_time": "2022-03-10T14:19:16.264Z"
   },
   {
    "duration": 3,
    "start_time": "2022-03-10T14:20:09.113Z"
   },
   {
    "duration": 11,
    "start_time": "2022-03-10T14:21:02.466Z"
   },
   {
    "duration": 7,
    "start_time": "2022-03-10T14:21:20.880Z"
   },
   {
    "duration": 3,
    "start_time": "2022-03-10T14:21:54.408Z"
   },
   {
    "duration": 11,
    "start_time": "2022-03-10T14:21:54.904Z"
   },
   {
    "duration": 6,
    "start_time": "2022-03-10T14:21:55.416Z"
   },
   {
    "duration": 162,
    "start_time": "2022-03-10T14:25:35.826Z"
   },
   {
    "duration": 11,
    "start_time": "2022-03-10T14:26:00.643Z"
   },
   {
    "duration": 190,
    "start_time": "2022-03-10T14:26:01.009Z"
   },
   {
    "duration": 8100,
    "start_time": "2022-03-10T14:27:28.026Z"
   },
   {
    "duration": 183,
    "start_time": "2022-03-10T14:28:56.987Z"
   },
   {
    "duration": 8477,
    "start_time": "2022-03-10T14:29:54.571Z"
   },
   {
    "duration": 7872,
    "start_time": "2022-03-10T14:30:17.539Z"
   },
   {
    "duration": 548,
    "start_time": "2022-03-10T14:30:37.845Z"
   },
   {
    "duration": 275,
    "start_time": "2022-03-10T14:30:55.995Z"
   },
   {
    "duration": 313,
    "start_time": "2022-03-10T14:34:16.451Z"
   },
   {
    "duration": 300,
    "start_time": "2022-03-10T14:34:30.299Z"
   },
   {
    "duration": 12,
    "start_time": "2022-03-10T14:39:21.340Z"
   },
   {
    "duration": 7,
    "start_time": "2022-03-10T14:39:22.020Z"
   },
   {
    "duration": 10553,
    "start_time": "2022-03-10T14:39:26.388Z"
   },
   {
    "duration": 11,
    "start_time": "2022-03-10T14:39:59.076Z"
   },
   {
    "duration": 6,
    "start_time": "2022-03-10T14:39:59.628Z"
   },
   {
    "duration": 8558,
    "start_time": "2022-03-10T14:40:00.045Z"
   },
   {
    "duration": 1962600,
    "start_time": "2022-03-10T14:07:26.005Z"
   },
   {
    "duration": 11,
    "start_time": "2022-03-10T14:40:09.548Z"
   },
   {
    "duration": 198,
    "start_time": "2022-03-10T14:40:10.684Z"
   },
   {
    "duration": 289,
    "start_time": "2022-03-10T14:41:10.469Z"
   },
   {
    "duration": 323,
    "start_time": "2022-03-10T14:41:25.413Z"
   },
   {
    "duration": 17,
    "start_time": "2022-03-10T14:41:35.197Z"
   },
   {
    "duration": 807,
    "start_time": "2022-03-10T14:42:08.551Z"
   },
   {
    "duration": 297,
    "start_time": "2022-03-10T14:42:51.485Z"
   },
   {
    "duration": 17,
    "start_time": "2022-03-10T14:42:59.247Z"
   },
   {
    "duration": 3,
    "start_time": "2022-03-10T14:46:02.534Z"
   },
   {
    "duration": 6,
    "start_time": "2022-03-10T14:46:52.511Z"
   },
   {
    "duration": 310,
    "start_time": "2022-03-10T14:47:08.414Z"
   },
   {
    "duration": 442,
    "start_time": "2022-03-10T14:47:19.383Z"
   },
   {
    "duration": 8,
    "start_time": "2022-03-10T14:55:33.200Z"
   },
   {
    "duration": 251,
    "start_time": "2022-03-10T14:55:35.112Z"
   },
   {
    "duration": 92,
    "start_time": "2022-03-10T14:59:25.977Z"
   },
   {
    "duration": 8,
    "start_time": "2022-03-10T15:02:15.713Z"
   },
   {
    "duration": 349,
    "start_time": "2022-03-10T15:02:18.513Z"
   },
   {
    "duration": 362,
    "start_time": "2022-03-10T15:02:22.194Z"
   },
   {
    "duration": 6,
    "start_time": "2022-03-10T15:02:25.483Z"
   },
   {
    "duration": 8,
    "start_time": "2022-03-10T15:02:29.306Z"
   },
   {
    "duration": 2592,
    "start_time": "2022-03-10T15:02:33.665Z"
   },
   {
    "duration": 55,
    "start_time": "2022-03-10T15:02:44.082Z"
   },
   {
    "duration": 53,
    "start_time": "2022-03-10T15:02:51.489Z"
   },
   {
    "duration": 18,
    "start_time": "2022-03-10T15:03:01.114Z"
   },
   {
    "duration": 259,
    "start_time": "2022-03-10T15:03:04.057Z"
   },
   {
    "duration": 1307,
    "start_time": "2022-03-10T15:03:50.603Z"
   },
   {
    "duration": 18,
    "start_time": "2022-03-10T15:03:55.715Z"
   },
   {
    "duration": 7665,
    "start_time": "2022-03-10T15:05:54.162Z"
   },
   {
    "duration": 3,
    "start_time": "2022-03-10T15:06:09.651Z"
   },
   {
    "duration": 11,
    "start_time": "2022-03-10T15:06:10.242Z"
   },
   {
    "duration": 6,
    "start_time": "2022-03-10T15:06:10.738Z"
   },
   {
    "duration": 412,
    "start_time": "2022-03-10T15:06:11.419Z"
   },
   {
    "duration": 3,
    "start_time": "2022-03-10T15:06:30.619Z"
   },
   {
    "duration": 12,
    "start_time": "2022-03-10T15:06:31.138Z"
   },
   {
    "duration": 199,
    "start_time": "2022-03-10T15:06:31.635Z"
   },
   {
    "duration": 16,
    "start_time": "2022-03-10T15:06:35.186Z"
   },
   {
    "duration": 644,
    "start_time": "2022-03-10T15:06:35.876Z"
   },
   {
    "duration": 174,
    "start_time": "2022-03-10T15:15:22.645Z"
   },
   {
    "duration": 275,
    "start_time": "2022-03-10T15:16:32.200Z"
   },
   {
    "duration": 310,
    "start_time": "2022-03-10T15:19:20.934Z"
   },
   {
    "duration": 312,
    "start_time": "2022-03-10T15:21:45.918Z"
   },
   {
    "duration": 317,
    "start_time": "2022-03-10T15:25:19.888Z"
   },
   {
    "duration": 441,
    "start_time": "2022-03-10T15:25:40.552Z"
   },
   {
    "duration": 16,
    "start_time": "2022-03-10T15:25:51.615Z"
   },
   {
    "duration": 1962656,
    "start_time": "2022-03-10T14:54:02.753Z"
   },
   {
    "duration": 17,
    "start_time": "2022-03-10T15:26:54.647Z"
   },
   {
    "duration": 7767,
    "start_time": "2022-03-10T15:26:55.704Z"
   },
   {
    "duration": 261,
    "start_time": "2022-03-10T15:28:08.368Z"
   },
   {
    "duration": 320,
    "start_time": "2022-03-10T15:28:50.040Z"
   },
   {
    "duration": 311,
    "start_time": "2022-03-10T15:29:08.986Z"
   },
   {
    "duration": 331,
    "start_time": "2022-03-10T15:29:25.161Z"
   },
   {
    "duration": 103,
    "start_time": "2022-03-10T15:30:21.713Z"
   },
   {
    "duration": 18,
    "start_time": "2022-03-10T15:30:25.688Z"
   },
   {
    "duration": 558,
    "start_time": "2022-03-10T15:30:56.689Z"
   },
   {
    "duration": 261,
    "start_time": "2022-03-10T15:31:04.224Z"
   },
   {
    "duration": 280,
    "start_time": "2022-03-10T15:31:09.745Z"
   },
   {
    "duration": 7801,
    "start_time": "2022-03-10T15:31:19.377Z"
   },
   {
    "duration": 8,
    "start_time": "2022-03-10T15:32:33.769Z"
   },
   {
    "duration": 615,
    "start_time": "2022-03-10T15:32:38.020Z"
   },
   {
    "duration": 139,
    "start_time": "2022-03-10T15:39:42.573Z"
   },
   {
    "duration": 12,
    "start_time": "2022-03-10T15:40:26.891Z"
   },
   {
    "duration": 4,
    "start_time": "2022-03-10T15:40:27.994Z"
   },
   {
    "duration": 6,
    "start_time": "2022-03-10T15:40:28.746Z"
   },
   {
    "duration": 11,
    "start_time": "2022-03-10T15:41:45.347Z"
   },
   {
    "duration": 4,
    "start_time": "2022-03-10T15:41:47.171Z"
   },
   {
    "duration": 11,
    "start_time": "2022-03-10T15:41:55.659Z"
   },
   {
    "duration": 4,
    "start_time": "2022-03-10T15:41:56.196Z"
   },
   {
    "duration": 7,
    "start_time": "2022-03-10T15:41:56.707Z"
   },
   {
    "duration": 11,
    "start_time": "2022-03-10T15:42:06.851Z"
   },
   {
    "duration": 4,
    "start_time": "2022-03-10T15:42:07.715Z"
   },
   {
    "duration": 6,
    "start_time": "2022-03-10T15:42:09.419Z"
   },
   {
    "duration": 12,
    "start_time": "2022-03-10T15:42:35.027Z"
   },
   {
    "duration": 7,
    "start_time": "2022-03-10T15:42:36.019Z"
   },
   {
    "duration": 1131,
    "start_time": "2022-03-10T15:45:48.603Z"
   },
   {
    "duration": 35,
    "start_time": "2022-03-10T15:45:49.736Z"
   },
   {
    "duration": 21,
    "start_time": "2022-03-10T15:45:49.773Z"
   },
   {
    "duration": 9,
    "start_time": "2022-03-10T15:45:49.795Z"
   },
   {
    "duration": 3,
    "start_time": "2022-03-10T15:45:49.806Z"
   },
   {
    "duration": 9,
    "start_time": "2022-03-10T15:45:49.810Z"
   },
   {
    "duration": 16,
    "start_time": "2022-03-10T15:45:49.820Z"
   },
   {
    "duration": 17,
    "start_time": "2022-03-10T15:45:49.838Z"
   },
   {
    "duration": 46,
    "start_time": "2022-03-10T15:45:49.856Z"
   },
   {
    "duration": 17,
    "start_time": "2022-03-10T15:45:49.904Z"
   },
   {
    "duration": 8,
    "start_time": "2022-03-10T15:45:49.923Z"
   },
   {
    "duration": 7,
    "start_time": "2022-03-10T15:45:49.932Z"
   },
   {
    "duration": 18,
    "start_time": "2022-03-10T15:45:49.940Z"
   },
   {
    "duration": 4,
    "start_time": "2022-03-10T15:45:49.959Z"
   },
   {
    "duration": 48,
    "start_time": "2022-03-10T15:45:49.965Z"
   },
   {
    "duration": 6,
    "start_time": "2022-03-10T15:45:50.015Z"
   },
   {
    "duration": 17,
    "start_time": "2022-03-10T15:45:50.023Z"
   },
   {
    "duration": 7,
    "start_time": "2022-03-10T15:45:50.041Z"
   },
   {
    "duration": 383,
    "start_time": "2022-03-10T15:45:50.049Z"
   },
   {
    "duration": 4,
    "start_time": "2022-03-10T15:45:50.434Z"
   },
   {
    "duration": 13,
    "start_time": "2022-03-10T15:45:50.440Z"
   },
   {
    "duration": 5,
    "start_time": "2022-03-10T15:45:50.455Z"
   },
   {
    "duration": 5,
    "start_time": "2022-03-10T15:45:50.463Z"
   },
   {
    "duration": 39,
    "start_time": "2022-03-10T15:45:50.470Z"
   },
   {
    "duration": 292,
    "start_time": "2022-03-10T15:45:50.511Z"
   },
   {
    "duration": 406,
    "start_time": "2022-03-10T15:45:50.805Z"
   },
   {
    "duration": 3,
    "start_time": "2022-03-10T15:45:51.213Z"
   },
   {
    "duration": 14,
    "start_time": "2022-03-10T15:45:51.218Z"
   },
   {
    "duration": 6,
    "start_time": "2022-03-10T15:45:51.233Z"
   },
   {
    "duration": 440,
    "start_time": "2022-03-10T15:45:51.240Z"
   },
   {
    "duration": 3,
    "start_time": "2022-03-10T15:45:51.681Z"
   },
   {
    "duration": 23,
    "start_time": "2022-03-10T15:45:51.686Z"
   },
   {
    "duration": 202,
    "start_time": "2022-03-10T15:45:51.711Z"
   },
   {
    "duration": 16,
    "start_time": "2022-03-10T15:45:51.914Z"
   },
   {
    "duration": 679,
    "start_time": "2022-03-10T15:45:51.932Z"
   },
   {
    "duration": 9,
    "start_time": "2022-03-10T15:45:52.613Z"
   },
   {
    "duration": 6,
    "start_time": "2022-03-10T15:45:52.624Z"
   },
   {
    "duration": 277,
    "start_time": "2022-03-10T15:45:52.632Z"
   },
   {
    "duration": 8,
    "start_time": "2022-03-10T15:45:52.910Z"
   },
   {
    "duration": 325,
    "start_time": "2022-03-10T15:45:52.919Z"
   },
   {
    "duration": 321,
    "start_time": "2022-03-10T15:45:53.246Z"
   },
   {
    "duration": 5,
    "start_time": "2022-03-10T15:45:53.568Z"
   },
   {
    "duration": 8,
    "start_time": "2022-03-10T15:45:53.574Z"
   },
   {
    "duration": 2480,
    "start_time": "2022-03-10T15:45:53.583Z"
   },
   {
    "duration": 64,
    "start_time": "2022-03-10T15:45:56.064Z"
   },
   {
    "duration": 141,
    "start_time": "2022-03-10T15:45:56.130Z"
   },
   {
    "duration": 15,
    "start_time": "2022-03-10T15:45:56.273Z"
   },
   {
    "duration": 271,
    "start_time": "2022-03-10T15:45:56.301Z"
   },
   {
    "duration": 16,
    "start_time": "2022-03-10T15:45:56.573Z"
   },
   {
    "duration": 7489,
    "start_time": "2022-03-10T15:45:56.591Z"
   },
   {
    "duration": 1962628,
    "start_time": "2022-03-10T15:13:21.454Z"
   },
   {
    "duration": 1962621,
    "start_time": "2022-03-10T15:13:21.462Z"
   },
   {
    "duration": 1962617,
    "start_time": "2022-03-10T15:13:21.467Z"
   },
   {
    "duration": 1962613,
    "start_time": "2022-03-10T15:13:21.472Z"
   },
   {
    "duration": 1962610,
    "start_time": "2022-03-10T15:13:21.476Z"
   },
   {
    "duration": 1962607,
    "start_time": "2022-03-10T15:13:21.480Z"
   },
   {
    "duration": 1962604,
    "start_time": "2022-03-10T15:13:21.484Z"
   },
   {
    "duration": 1962600,
    "start_time": "2022-03-10T15:13:21.489Z"
   },
   {
    "duration": 1962597,
    "start_time": "2022-03-10T15:13:21.493Z"
   },
   {
    "duration": 1962594,
    "start_time": "2022-03-10T15:13:21.497Z"
   },
   {
    "duration": 1962590,
    "start_time": "2022-03-10T15:13:21.501Z"
   },
   {
    "duration": 1962587,
    "start_time": "2022-03-10T15:13:21.505Z"
   },
   {
    "duration": 9,
    "start_time": "2022-03-10T15:46:16.788Z"
   },
   {
    "duration": 516,
    "start_time": "2022-03-10T15:46:18.939Z"
   },
   {
    "duration": 510,
    "start_time": "2022-03-10T15:46:22.621Z"
   },
   {
    "duration": 522,
    "start_time": "2022-03-10T15:46:27.012Z"
   },
   {
    "duration": 553,
    "start_time": "2022-03-10T15:46:27.536Z"
   },
   {
    "duration": 547,
    "start_time": "2022-03-10T15:46:28.611Z"
   },
   {
    "duration": 622,
    "start_time": "2022-03-10T15:46:29.159Z"
   },
   {
    "duration": 12,
    "start_time": "2022-03-10T15:46:34.907Z"
   },
   {
    "duration": 4,
    "start_time": "2022-03-10T15:46:35.492Z"
   },
   {
    "duration": 6,
    "start_time": "2022-03-10T15:46:36.028Z"
   },
   {
    "duration": 12,
    "start_time": "2022-03-10T15:46:38.332Z"
   },
   {
    "duration": 6,
    "start_time": "2022-03-10T15:46:38.788Z"
   },
   {
    "duration": 358,
    "start_time": "2022-03-11T13:14:36.915Z"
   },
   {
    "duration": 1612,
    "start_time": "2022-03-11T13:14:41.779Z"
   },
   {
    "duration": 45,
    "start_time": "2022-03-11T13:14:43.394Z"
   },
   {
    "duration": 46,
    "start_time": "2022-03-11T13:14:43.443Z"
   },
   {
    "duration": 14,
    "start_time": "2022-03-11T13:14:43.492Z"
   },
   {
    "duration": 6,
    "start_time": "2022-03-11T13:14:43.509Z"
   },
   {
    "duration": 16,
    "start_time": "2022-03-11T13:14:43.517Z"
   },
   {
    "duration": 35,
    "start_time": "2022-03-11T13:14:43.574Z"
   },
   {
    "duration": 32,
    "start_time": "2022-03-11T13:14:43.612Z"
   },
   {
    "duration": 34,
    "start_time": "2022-03-11T13:14:43.676Z"
   },
   {
    "duration": 30,
    "start_time": "2022-03-11T13:14:43.714Z"
   },
   {
    "duration": 10,
    "start_time": "2022-03-11T13:14:43.775Z"
   },
   {
    "duration": 12,
    "start_time": "2022-03-11T13:14:43.787Z"
   },
   {
    "duration": 25,
    "start_time": "2022-03-11T13:14:43.802Z"
   },
   {
    "duration": 46,
    "start_time": "2022-03-11T13:14:43.829Z"
   },
   {
    "duration": 39,
    "start_time": "2022-03-11T13:14:43.878Z"
   },
   {
    "duration": 6,
    "start_time": "2022-03-11T13:14:43.919Z"
   },
   {
    "duration": 61,
    "start_time": "2022-03-11T13:14:43.928Z"
   },
   {
    "duration": 10,
    "start_time": "2022-03-11T13:14:43.992Z"
   },
   {
    "duration": 568,
    "start_time": "2022-03-11T13:14:44.005Z"
   },
   {
    "duration": 6,
    "start_time": "2022-03-11T13:14:44.575Z"
   },
   {
    "duration": 17,
    "start_time": "2022-03-11T13:14:44.584Z"
   },
   {
    "duration": 9,
    "start_time": "2022-03-11T13:14:44.604Z"
   },
   {
    "duration": 10,
    "start_time": "2022-03-11T13:14:44.616Z"
   },
   {
    "duration": 74,
    "start_time": "2022-03-11T13:14:44.629Z"
   },
   {
    "duration": 680,
    "start_time": "2022-03-11T13:14:44.705Z"
   },
   {
    "duration": 1152,
    "start_time": "2022-03-11T13:14:45.388Z"
   },
   {
    "duration": 4,
    "start_time": "2022-03-11T13:14:46.546Z"
   },
   {
    "duration": 40,
    "start_time": "2022-03-11T13:14:46.554Z"
   },
   {
    "duration": 10,
    "start_time": "2022-03-11T13:14:46.596Z"
   },
   {
    "duration": 992,
    "start_time": "2022-03-11T13:14:46.609Z"
   },
   {
    "duration": 5,
    "start_time": "2022-03-11T13:14:47.604Z"
   },
   {
    "duration": 23,
    "start_time": "2022-03-11T13:14:47.611Z"
   },
   {
    "duration": 392,
    "start_time": "2022-03-11T13:14:47.637Z"
   },
   {
    "duration": 41,
    "start_time": "2022-03-11T13:14:48.032Z"
   },
   {
    "duration": 1089,
    "start_time": "2022-03-11T13:14:48.075Z"
   },
   {
    "duration": 13,
    "start_time": "2022-03-11T13:14:49.166Z"
   },
   {
    "duration": 14,
    "start_time": "2022-03-11T13:14:49.181Z"
   },
   {
    "duration": 506,
    "start_time": "2022-03-11T13:14:49.198Z"
   },
   {
    "duration": 12,
    "start_time": "2022-03-11T13:14:49.706Z"
   },
   {
    "duration": 657,
    "start_time": "2022-03-11T13:14:49.721Z"
   },
   {
    "duration": 549,
    "start_time": "2022-03-11T13:14:50.381Z"
   },
   {
    "duration": 7,
    "start_time": "2022-03-11T13:14:50.932Z"
   },
   {
    "duration": 32,
    "start_time": "2022-03-11T13:14:50.941Z"
   },
   {
    "duration": 4373,
    "start_time": "2022-03-11T13:14:50.977Z"
   },
   {
    "duration": 94,
    "start_time": "2022-03-11T13:14:55.353Z"
   },
   {
    "duration": 224,
    "start_time": "2022-03-11T13:14:55.449Z"
   },
   {
    "duration": 31,
    "start_time": "2022-03-11T13:14:55.676Z"
   },
   {
    "duration": 26,
    "start_time": "2022-03-11T13:14:55.709Z"
   },
   {
    "duration": 522,
    "start_time": "2022-03-11T13:14:55.737Z"
   },
   {
    "duration": 34,
    "start_time": "2022-03-11T13:14:56.262Z"
   },
   {
    "duration": 7673,
    "start_time": "2022-03-11T13:14:56.298Z"
   },
   {
    "duration": -1192,
    "start_time": "2022-03-11T13:15:05.165Z"
   },
   {
    "duration": -1206,
    "start_time": "2022-03-11T13:15:05.181Z"
   },
   {
    "duration": -1211,
    "start_time": "2022-03-11T13:15:05.188Z"
   },
   {
    "duration": -1213,
    "start_time": "2022-03-11T13:15:05.191Z"
   },
   {
    "duration": -1215,
    "start_time": "2022-03-11T13:15:05.195Z"
   },
   {
    "duration": -1217,
    "start_time": "2022-03-11T13:15:05.198Z"
   },
   {
    "duration": -1219,
    "start_time": "2022-03-11T13:15:05.202Z"
   },
   {
    "duration": -1221,
    "start_time": "2022-03-11T13:15:05.205Z"
   },
   {
    "duration": -1223,
    "start_time": "2022-03-11T13:15:05.209Z"
   },
   {
    "duration": -1225,
    "start_time": "2022-03-11T13:15:05.213Z"
   },
   {
    "duration": -1227,
    "start_time": "2022-03-11T13:15:05.216Z"
   },
   {
    "duration": -1229,
    "start_time": "2022-03-11T13:15:05.220Z"
   },
   {
    "duration": 345,
    "start_time": "2022-03-11T13:50:19.078Z"
   },
   {
    "duration": 315,
    "start_time": "2022-03-11T13:50:28.021Z"
   },
   {
    "duration": 288,
    "start_time": "2022-03-11T13:50:37.298Z"
   },
   {
    "duration": 1082,
    "start_time": "2022-03-11T13:53:15.039Z"
   },
   {
    "duration": 48,
    "start_time": "2022-03-11T13:53:16.123Z"
   },
   {
    "duration": 21,
    "start_time": "2022-03-11T13:53:16.172Z"
   },
   {
    "duration": 10,
    "start_time": "2022-03-11T13:53:16.195Z"
   },
   {
    "duration": 4,
    "start_time": "2022-03-11T13:53:16.206Z"
   },
   {
    "duration": 8,
    "start_time": "2022-03-11T13:53:16.212Z"
   },
   {
    "duration": 19,
    "start_time": "2022-03-11T13:53:16.221Z"
   },
   {
    "duration": 16,
    "start_time": "2022-03-11T13:53:16.241Z"
   },
   {
    "duration": 45,
    "start_time": "2022-03-11T13:53:16.259Z"
   },
   {
    "duration": 17,
    "start_time": "2022-03-11T13:53:16.306Z"
   },
   {
    "duration": 5,
    "start_time": "2022-03-11T13:53:16.326Z"
   },
   {
    "duration": 7,
    "start_time": "2022-03-11T13:53:16.333Z"
   },
   {
    "duration": 25,
    "start_time": "2022-03-11T13:53:16.341Z"
   },
   {
    "duration": 4,
    "start_time": "2022-03-11T13:53:16.367Z"
   },
   {
    "duration": 46,
    "start_time": "2022-03-11T13:53:16.372Z"
   },
   {
    "duration": 3,
    "start_time": "2022-03-11T13:53:16.420Z"
   },
   {
    "duration": 19,
    "start_time": "2022-03-11T13:53:16.425Z"
   },
   {
    "duration": 4,
    "start_time": "2022-03-11T13:53:16.446Z"
   },
   {
    "duration": 356,
    "start_time": "2022-03-11T13:53:16.452Z"
   },
   {
    "duration": 4,
    "start_time": "2022-03-11T13:53:16.809Z"
   },
   {
    "duration": 10,
    "start_time": "2022-03-11T13:53:16.814Z"
   },
   {
    "duration": 8,
    "start_time": "2022-03-11T13:53:16.825Z"
   },
   {
    "duration": 7,
    "start_time": "2022-03-11T13:53:16.835Z"
   },
   {
    "duration": 19,
    "start_time": "2022-03-11T13:53:16.844Z"
   },
   {
    "duration": 291,
    "start_time": "2022-03-11T13:53:16.864Z"
   },
   {
    "duration": 392,
    "start_time": "2022-03-11T13:53:17.157Z"
   },
   {
    "duration": 3,
    "start_time": "2022-03-11T13:53:17.552Z"
   },
   {
    "duration": 27,
    "start_time": "2022-03-11T13:53:17.557Z"
   },
   {
    "duration": 6,
    "start_time": "2022-03-11T13:53:17.585Z"
   },
   {
    "duration": 428,
    "start_time": "2022-03-11T13:53:17.592Z"
   },
   {
    "duration": 2,
    "start_time": "2022-03-11T13:53:18.022Z"
   },
   {
    "duration": 20,
    "start_time": "2022-03-11T13:53:18.026Z"
   },
   {
    "duration": 197,
    "start_time": "2022-03-11T13:53:18.048Z"
   },
   {
    "duration": 17,
    "start_time": "2022-03-11T13:53:18.247Z"
   },
   {
    "duration": 645,
    "start_time": "2022-03-11T13:53:18.266Z"
   },
   {
    "duration": 8,
    "start_time": "2022-03-11T13:53:18.913Z"
   },
   {
    "duration": 7,
    "start_time": "2022-03-11T13:53:18.923Z"
   },
   {
    "duration": 271,
    "start_time": "2022-03-11T13:53:18.932Z"
   },
   {
    "duration": 7,
    "start_time": "2022-03-11T13:53:19.204Z"
   },
   {
    "duration": 330,
    "start_time": "2022-03-11T13:53:19.213Z"
   },
   {
    "duration": 317,
    "start_time": "2022-03-11T13:53:19.544Z"
   },
   {
    "duration": 4,
    "start_time": "2022-03-11T13:53:19.863Z"
   },
   {
    "duration": 8,
    "start_time": "2022-03-11T13:53:19.869Z"
   },
   {
    "duration": 2577,
    "start_time": "2022-03-11T13:53:19.878Z"
   },
   {
    "duration": 65,
    "start_time": "2022-03-11T13:53:22.456Z"
   },
   {
    "duration": 129,
    "start_time": "2022-03-11T13:53:22.523Z"
   },
   {
    "duration": 15,
    "start_time": "2022-03-11T13:53:22.653Z"
   },
   {
    "duration": 277,
    "start_time": "2022-03-11T13:53:22.669Z"
   },
   {
    "duration": 15,
    "start_time": "2022-03-11T13:53:22.948Z"
   },
   {
    "duration": 7556,
    "start_time": "2022-03-11T13:53:22.964Z"
   },
   {
    "duration": 1964777,
    "start_time": "2022-03-11T13:20:45.745Z"
   },
   {
    "duration": 1964747,
    "start_time": "2022-03-11T13:20:45.776Z"
   },
   {
    "duration": 1964741,
    "start_time": "2022-03-11T13:20:45.783Z"
   },
   {
    "duration": 1964736,
    "start_time": "2022-03-11T13:20:45.789Z"
   },
   {
    "duration": 1964734,
    "start_time": "2022-03-11T13:20:45.792Z"
   },
   {
    "duration": 1964730,
    "start_time": "2022-03-11T13:20:45.797Z"
   },
   {
    "duration": 1964725,
    "start_time": "2022-03-11T13:20:45.803Z"
   },
   {
    "duration": 1964721,
    "start_time": "2022-03-11T13:20:45.808Z"
   },
   {
    "duration": 1964717,
    "start_time": "2022-03-11T13:20:45.812Z"
   },
   {
    "duration": 1964713,
    "start_time": "2022-03-11T13:20:45.817Z"
   },
   {
    "duration": 1964709,
    "start_time": "2022-03-11T13:20:45.822Z"
   },
   {
    "duration": 1964706,
    "start_time": "2022-03-11T13:20:45.826Z"
   },
   {
    "duration": 8271,
    "start_time": "2022-03-11T13:54:23.633Z"
   },
   {
    "duration": 1964828,
    "start_time": "2022-03-11T13:21:47.078Z"
   },
   {
    "duration": 1964825,
    "start_time": "2022-03-11T13:21:47.082Z"
   },
   {
    "duration": 1964820,
    "start_time": "2022-03-11T13:21:47.087Z"
   },
   {
    "duration": 3,
    "start_time": "2022-03-11T13:56:12.793Z"
   },
   {
    "duration": 347,
    "start_time": "2022-03-11T13:56:50.007Z"
   },
   {
    "duration": 1964828,
    "start_time": "2022-03-11T13:24:19.921Z"
   },
   {
    "duration": 1964803,
    "start_time": "2022-03-11T13:24:19.947Z"
   },
   {
    "duration": 1964796,
    "start_time": "2022-03-11T13:24:19.955Z"
   },
   {
    "duration": 1964790,
    "start_time": "2022-03-11T13:24:19.962Z"
   },
   {
    "duration": 1964784,
    "start_time": "2022-03-11T13:24:19.968Z"
   },
   {
    "duration": 3,
    "start_time": "2022-03-11T13:57:30.708Z"
   },
   {
    "duration": 7563,
    "start_time": "2022-03-11T13:57:31.198Z"
   },
   {
    "duration": 1964809,
    "start_time": "2022-03-11T13:24:53.954Z"
   },
   {
    "duration": 1964802,
    "start_time": "2022-03-11T13:24:53.962Z"
   },
   {
    "duration": 1964799,
    "start_time": "2022-03-11T13:24:53.966Z"
   },
   {
    "duration": 1964795,
    "start_time": "2022-03-11T13:24:53.971Z"
   },
   {
    "duration": 11,
    "start_time": "2022-03-11T13:57:44.016Z"
   },
   {
    "duration": 191,
    "start_time": "2022-03-11T13:57:44.631Z"
   },
   {
    "duration": 15,
    "start_time": "2022-03-11T13:57:46.159Z"
   },
   {
    "duration": 611,
    "start_time": "2022-03-11T13:57:46.655Z"
   },
   {
    "duration": 319,
    "start_time": "2022-03-11T13:58:36.704Z"
   },
   {
    "duration": 298,
    "start_time": "2022-03-12T17:04:56.092Z"
   },
   {
    "duration": 1251,
    "start_time": "2022-03-12T17:05:07.190Z"
   },
   {
    "duration": 51,
    "start_time": "2022-03-12T17:05:09.390Z"
   },
   {
    "duration": 25,
    "start_time": "2022-03-12T17:05:11.410Z"
   },
   {
    "duration": 316,
    "start_time": "2022-03-12T17:05:22.210Z"
   },
   {
    "duration": 303,
    "start_time": "2022-03-12T17:09:31.191Z"
   },
   {
    "duration": 267,
    "start_time": "2022-03-12T17:10:34.990Z"
   },
   {
    "duration": 270,
    "start_time": "2022-03-12T17:10:39.324Z"
   },
   {
    "duration": 273,
    "start_time": "2022-03-12T17:11:00.590Z"
   },
   {
    "duration": 283,
    "start_time": "2022-03-12T17:11:12.360Z"
   },
   {
    "duration": 302,
    "start_time": "2022-03-12T17:12:15.298Z"
   },
   {
    "duration": 250,
    "start_time": "2022-03-12T17:12:21.605Z"
   },
   {
    "duration": 20,
    "start_time": "2022-03-12T17:12:28.590Z"
   },
   {
    "duration": 297,
    "start_time": "2022-03-12T17:13:16.499Z"
   },
   {
    "duration": 283,
    "start_time": "2022-03-12T17:13:33.149Z"
   },
   {
    "duration": 272,
    "start_time": "2022-03-12T17:15:48.994Z"
   },
   {
    "duration": 1338,
    "start_time": "2022-03-12T17:16:07.390Z"
   },
   {
    "duration": 40,
    "start_time": "2022-03-12T17:16:08.730Z"
   },
   {
    "duration": 33,
    "start_time": "2022-03-12T17:16:08.772Z"
   },
   {
    "duration": 10,
    "start_time": "2022-03-12T17:16:08.807Z"
   },
   {
    "duration": 4,
    "start_time": "2022-03-12T17:16:08.819Z"
   },
   {
    "duration": 13,
    "start_time": "2022-03-12T17:16:08.824Z"
   },
   {
    "duration": 60,
    "start_time": "2022-03-12T17:16:08.838Z"
   },
   {
    "duration": 22,
    "start_time": "2022-03-12T17:16:08.901Z"
   },
   {
    "duration": 21,
    "start_time": "2022-03-12T17:16:08.925Z"
   },
   {
    "duration": 46,
    "start_time": "2022-03-12T17:16:08.948Z"
   },
   {
    "duration": 17,
    "start_time": "2022-03-12T17:16:08.996Z"
   },
   {
    "duration": 14,
    "start_time": "2022-03-12T17:16:09.015Z"
   },
   {
    "duration": 31,
    "start_time": "2022-03-12T17:16:09.030Z"
   },
   {
    "duration": 5,
    "start_time": "2022-03-12T17:16:09.063Z"
   },
   {
    "duration": 52,
    "start_time": "2022-03-12T17:16:09.069Z"
   },
   {
    "duration": 5,
    "start_time": "2022-03-12T17:16:09.123Z"
   },
   {
    "duration": 22,
    "start_time": "2022-03-12T17:16:09.130Z"
   },
   {
    "duration": 10,
    "start_time": "2022-03-12T17:16:09.154Z"
   },
   {
    "duration": 442,
    "start_time": "2022-03-12T17:16:09.166Z"
   },
   {
    "duration": 5,
    "start_time": "2022-03-12T17:16:09.609Z"
   },
   {
    "duration": 16,
    "start_time": "2022-03-12T17:16:09.615Z"
   },
   {
    "duration": 12,
    "start_time": "2022-03-12T17:16:09.632Z"
   },
   {
    "duration": 17,
    "start_time": "2022-03-12T17:16:09.647Z"
   },
   {
    "duration": 32,
    "start_time": "2022-03-12T17:16:09.667Z"
   },
   {
    "duration": 368,
    "start_time": "2022-03-12T17:16:09.700Z"
   },
   {
    "duration": 558,
    "start_time": "2022-03-12T17:16:10.070Z"
   },
   {
    "duration": 3,
    "start_time": "2022-03-12T17:16:10.630Z"
   },
   {
    "duration": 16,
    "start_time": "2022-03-12T17:16:10.635Z"
   },
   {
    "duration": 13,
    "start_time": "2022-03-12T17:16:10.652Z"
   },
   {
    "duration": 578,
    "start_time": "2022-03-12T17:16:10.678Z"
   },
   {
    "duration": 5,
    "start_time": "2022-03-12T17:16:11.258Z"
   },
   {
    "duration": 22,
    "start_time": "2022-03-12T17:16:11.277Z"
   },
   {
    "duration": 282,
    "start_time": "2022-03-12T17:16:11.301Z"
   },
   {
    "duration": 19,
    "start_time": "2022-03-12T17:16:11.586Z"
   },
   {
    "duration": 873,
    "start_time": "2022-03-12T17:16:11.607Z"
   },
   {
    "duration": 12,
    "start_time": "2022-03-12T17:16:12.482Z"
   },
   {
    "duration": 22,
    "start_time": "2022-03-12T17:16:12.496Z"
   },
   {
    "duration": 364,
    "start_time": "2022-03-12T17:16:12.519Z"
   },
   {
    "duration": 10,
    "start_time": "2022-03-12T17:16:12.886Z"
   },
   {
    "duration": 410,
    "start_time": "2022-03-12T17:16:12.898Z"
   },
   {
    "duration": 404,
    "start_time": "2022-03-12T17:16:13.310Z"
   },
   {
    "duration": 5,
    "start_time": "2022-03-12T17:16:13.716Z"
   },
   {
    "duration": 10,
    "start_time": "2022-03-12T17:16:13.722Z"
   },
   {
    "duration": 3087,
    "start_time": "2022-03-12T17:16:13.734Z"
   },
   {
    "duration": 88,
    "start_time": "2022-03-12T17:16:16.823Z"
   },
   {
    "duration": 193,
    "start_time": "2022-03-12T17:16:16.913Z"
   },
   {
    "duration": 20,
    "start_time": "2022-03-12T17:16:17.108Z"
   },
   {
    "duration": 403,
    "start_time": "2022-03-12T17:16:17.129Z"
   },
   {
    "duration": 18,
    "start_time": "2022-03-12T17:16:17.534Z"
   },
   {
    "duration": 404,
    "start_time": "2022-03-12T17:16:17.554Z"
   },
   {
    "duration": -187515,
    "start_time": "2022-03-12T17:19:25.475Z"
   },
   {
    "duration": -187527,
    "start_time": "2022-03-12T17:19:25.488Z"
   },
   {
    "duration": -187540,
    "start_time": "2022-03-12T17:19:25.502Z"
   },
   {
    "duration": -187551,
    "start_time": "2022-03-12T17:19:25.514Z"
   },
   {
    "duration": -187561,
    "start_time": "2022-03-12T17:19:25.525Z"
   },
   {
    "duration": -187572,
    "start_time": "2022-03-12T17:19:25.537Z"
   },
   {
    "duration": -187583,
    "start_time": "2022-03-12T17:19:25.550Z"
   },
   {
    "duration": -187593,
    "start_time": "2022-03-12T17:19:25.561Z"
   },
   {
    "duration": -187605,
    "start_time": "2022-03-12T17:19:25.574Z"
   },
   {
    "duration": -187617,
    "start_time": "2022-03-12T17:19:25.587Z"
   },
   {
    "duration": -187630,
    "start_time": "2022-03-12T17:19:25.601Z"
   },
   {
    "duration": -187639,
    "start_time": "2022-03-12T17:19:25.611Z"
   },
   {
    "duration": 340,
    "start_time": "2022-03-12T17:17:25.329Z"
   },
   {
    "duration": 9,
    "start_time": "2022-03-12T17:22:01.929Z"
   },
   {
    "duration": 733,
    "start_time": "2022-03-12T17:22:09.218Z"
   },
   {
    "duration": 740,
    "start_time": "2022-03-12T17:22:12.190Z"
   },
   {
    "duration": 741,
    "start_time": "2022-03-12T17:22:29.497Z"
   },
   {
    "duration": 731,
    "start_time": "2022-03-12T17:22:32.392Z"
   },
   {
    "duration": 863,
    "start_time": "2022-03-12T17:22:37.376Z"
   },
   {
    "duration": 713,
    "start_time": "2022-03-12T17:22:40.226Z"
   },
   {
    "duration": 95,
    "start_time": "2022-03-12T17:25:05.738Z"
   },
   {
    "duration": 259,
    "start_time": "2022-03-12T17:25:28.673Z"
   },
   {
    "duration": 304,
    "start_time": "2022-03-12T17:25:41.488Z"
   },
   {
    "duration": 12,
    "start_time": "2022-03-12T17:25:50.136Z"
   },
   {
    "duration": 13,
    "start_time": "2022-03-12T17:26:02.391Z"
   },
   {
    "duration": 8,
    "start_time": "2022-03-12T17:26:10.310Z"
   },
   {
    "duration": 265,
    "start_time": "2022-03-12T17:26:34.101Z"
   },
   {
    "duration": 11,
    "start_time": "2022-03-12T17:26:42.592Z"
   },
   {
    "duration": 9,
    "start_time": "2022-03-12T17:27:06.653Z"
   },
   {
    "duration": 12,
    "start_time": "2022-03-12T17:27:33.690Z"
   },
   {
    "duration": 8,
    "start_time": "2022-03-12T17:27:44.906Z"
   },
   {
    "duration": 853,
    "start_time": "2022-03-12T17:28:16.727Z"
   },
   {
    "duration": 97,
    "start_time": "2022-03-12T17:31:31.894Z"
   },
   {
    "duration": 105,
    "start_time": "2022-03-12T17:35:50.837Z"
   },
   {
    "duration": 343,
    "start_time": "2022-03-12T17:37:12.965Z"
   },
   {
    "duration": 808,
    "start_time": "2022-03-12T17:37:25.027Z"
   },
   {
    "duration": 6345,
    "start_time": "2022-03-12T17:37:45.979Z"
   },
   {
    "duration": 16,
    "start_time": "2022-03-12T17:38:08.365Z"
   },
   {
    "duration": 455,
    "start_time": "2022-03-12T17:38:10.960Z"
   },
   {
    "duration": 1215,
    "start_time": "2022-03-12T17:44:39.847Z"
   },
   {
    "duration": 51,
    "start_time": "2022-03-12T17:44:41.064Z"
   },
   {
    "duration": 26,
    "start_time": "2022-03-12T17:44:41.118Z"
   },
   {
    "duration": 12,
    "start_time": "2022-03-12T17:44:41.147Z"
   },
   {
    "duration": 17,
    "start_time": "2022-03-12T17:44:41.161Z"
   },
   {
    "duration": 10,
    "start_time": "2022-03-12T17:44:41.180Z"
   },
   {
    "duration": 23,
    "start_time": "2022-03-12T17:44:41.192Z"
   },
   {
    "duration": 21,
    "start_time": "2022-03-12T17:44:41.218Z"
   },
   {
    "duration": 50,
    "start_time": "2022-03-12T17:44:41.242Z"
   },
   {
    "duration": 21,
    "start_time": "2022-03-12T17:44:41.294Z"
   },
   {
    "duration": 11,
    "start_time": "2022-03-12T17:44:41.317Z"
   },
   {
    "duration": 9,
    "start_time": "2022-03-12T17:44:41.329Z"
   },
   {
    "duration": 49,
    "start_time": "2022-03-12T17:44:41.340Z"
   },
   {
    "duration": 4,
    "start_time": "2022-03-12T17:44:41.391Z"
   },
   {
    "duration": 28,
    "start_time": "2022-03-12T17:44:41.397Z"
   },
   {
    "duration": 5,
    "start_time": "2022-03-12T17:44:41.427Z"
   },
   {
    "duration": 21,
    "start_time": "2022-03-12T17:44:41.433Z"
   },
   {
    "duration": 23,
    "start_time": "2022-03-12T17:44:41.456Z"
   },
   {
    "duration": 397,
    "start_time": "2022-03-12T17:44:41.481Z"
   },
   {
    "duration": 5,
    "start_time": "2022-03-12T17:44:41.879Z"
   },
   {
    "duration": 18,
    "start_time": "2022-03-12T17:44:41.886Z"
   },
   {
    "duration": 27,
    "start_time": "2022-03-12T17:44:41.906Z"
   },
   {
    "duration": 6,
    "start_time": "2022-03-12T17:44:41.938Z"
   },
   {
    "duration": 31,
    "start_time": "2022-03-12T17:44:41.947Z"
   },
   {
    "duration": 359,
    "start_time": "2022-03-12T17:44:41.979Z"
   },
   {
    "duration": 545,
    "start_time": "2022-03-12T17:44:42.340Z"
   },
   {
    "duration": 3,
    "start_time": "2022-03-12T17:44:42.887Z"
   },
   {
    "duration": 15,
    "start_time": "2022-03-12T17:44:42.892Z"
   },
   {
    "duration": 7,
    "start_time": "2022-03-12T17:44:42.909Z"
   },
   {
    "duration": 546,
    "start_time": "2022-03-12T17:44:42.918Z"
   },
   {
    "duration": 12,
    "start_time": "2022-03-12T17:44:43.466Z"
   },
   {
    "duration": 16,
    "start_time": "2022-03-12T17:44:43.480Z"
   },
   {
    "duration": 279,
    "start_time": "2022-03-12T17:44:43.498Z"
   },
   {
    "duration": 17,
    "start_time": "2022-03-12T17:44:43.779Z"
   },
   {
    "duration": 493,
    "start_time": "2022-03-12T17:44:43.798Z"
   },
   {
    "duration": 7,
    "start_time": "2022-03-12T17:44:44.293Z"
   },
   {
    "duration": 10,
    "start_time": "2022-03-12T17:44:44.302Z"
   },
   {
    "duration": 363,
    "start_time": "2022-03-12T17:44:44.314Z"
   },
   {
    "duration": 12,
    "start_time": "2022-03-12T17:44:44.680Z"
   },
   {
    "duration": 388,
    "start_time": "2022-03-12T17:44:44.694Z"
   },
   {
    "duration": 396,
    "start_time": "2022-03-12T17:44:45.084Z"
   },
   {
    "duration": 5,
    "start_time": "2022-03-12T17:44:45.482Z"
   },
   {
    "duration": 12,
    "start_time": "2022-03-12T17:44:45.489Z"
   },
   {
    "duration": 3094,
    "start_time": "2022-03-12T17:44:45.502Z"
   },
   {
    "duration": 47,
    "start_time": "2022-03-12T17:44:48.598Z"
   },
   {
    "duration": 71,
    "start_time": "2022-03-12T17:44:48.646Z"
   },
   {
    "duration": 17,
    "start_time": "2022-03-12T17:44:48.718Z"
   },
   {
    "duration": 357,
    "start_time": "2022-03-12T17:44:48.737Z"
   },
   {
    "duration": 16,
    "start_time": "2022-03-12T17:44:49.096Z"
   },
   {
    "duration": 353,
    "start_time": "2022-03-12T17:44:49.113Z"
   },
   {
    "duration": 14,
    "start_time": "2022-03-12T17:44:49.467Z"
   },
   {
    "duration": 691,
    "start_time": "2022-03-12T17:44:49.482Z"
   },
   {
    "duration": 691,
    "start_time": "2022-03-12T17:44:50.176Z"
   },
   {
    "duration": 735,
    "start_time": "2022-03-12T17:44:50.870Z"
   },
   {
    "duration": 708,
    "start_time": "2022-03-12T17:44:51.607Z"
   },
   {
    "duration": 793,
    "start_time": "2022-03-12T17:44:52.317Z"
   },
   {
    "duration": 693,
    "start_time": "2022-03-12T17:44:53.113Z"
   },
   {
    "duration": 12,
    "start_time": "2022-03-12T17:44:53.808Z"
   },
   {
    "duration": 7,
    "start_time": "2022-03-12T17:44:53.822Z"
   },
   {
    "duration": 11,
    "start_time": "2022-03-12T17:44:53.832Z"
   },
   {
    "duration": 37,
    "start_time": "2022-03-12T17:44:53.845Z"
   },
   {
    "duration": 13,
    "start_time": "2022-03-12T17:44:53.884Z"
   },
   {
    "duration": 20,
    "start_time": "2022-03-12T17:44:53.898Z"
   },
   {
    "duration": 705,
    "start_time": "2022-03-12T17:44:53.920Z"
   },
   {
    "duration": 10,
    "start_time": "2022-03-12T17:44:54.627Z"
   },
   {
    "duration": 12,
    "start_time": "2022-03-12T17:44:54.639Z"
   },
   {
    "duration": 10,
    "start_time": "2022-03-12T17:44:54.653Z"
   },
   {
    "duration": 10,
    "start_time": "2022-03-12T17:44:54.681Z"
   },
   {
    "duration": 8,
    "start_time": "2022-03-12T17:44:54.693Z"
   },
   {
    "duration": 1461,
    "start_time": "2022-03-13T08:47:23.935Z"
   },
   {
    "duration": 41,
    "start_time": "2022-03-13T08:47:25.399Z"
   },
   {
    "duration": 38,
    "start_time": "2022-03-13T08:47:25.443Z"
   },
   {
    "duration": 14,
    "start_time": "2022-03-13T08:47:25.484Z"
   },
   {
    "duration": 6,
    "start_time": "2022-03-13T08:47:25.500Z"
   },
   {
    "duration": 49,
    "start_time": "2022-03-13T08:47:25.508Z"
   },
   {
    "duration": 28,
    "start_time": "2022-03-13T08:47:25.559Z"
   },
   {
    "duration": 30,
    "start_time": "2022-03-13T08:47:25.591Z"
   },
   {
    "duration": 55,
    "start_time": "2022-03-13T08:47:25.624Z"
   },
   {
    "duration": 29,
    "start_time": "2022-03-13T08:47:25.681Z"
   },
   {
    "duration": 43,
    "start_time": "2022-03-13T08:47:25.713Z"
   },
   {
    "duration": 12,
    "start_time": "2022-03-13T08:47:25.758Z"
   },
   {
    "duration": 22,
    "start_time": "2022-03-13T08:47:25.773Z"
   },
   {
    "duration": 7,
    "start_time": "2022-03-13T08:47:25.797Z"
   },
   {
    "duration": 73,
    "start_time": "2022-03-13T08:47:25.806Z"
   },
   {
    "duration": 7,
    "start_time": "2022-03-13T08:47:25.882Z"
   },
   {
    "duration": 30,
    "start_time": "2022-03-13T08:47:25.891Z"
   },
   {
    "duration": 31,
    "start_time": "2022-03-13T08:47:25.924Z"
   },
   {
    "duration": 538,
    "start_time": "2022-03-13T08:47:25.958Z"
   },
   {
    "duration": 8,
    "start_time": "2022-03-13T08:47:26.498Z"
   },
   {
    "duration": 17,
    "start_time": "2022-03-13T08:47:26.508Z"
   },
   {
    "duration": 29,
    "start_time": "2022-03-13T08:47:26.528Z"
   },
   {
    "duration": 11,
    "start_time": "2022-03-13T08:47:26.562Z"
   },
   {
    "duration": 32,
    "start_time": "2022-03-13T08:47:26.577Z"
   },
   {
    "duration": 498,
    "start_time": "2022-03-13T08:47:26.611Z"
   },
   {
    "duration": 713,
    "start_time": "2022-03-13T08:47:27.111Z"
   },
   {
    "duration": 5,
    "start_time": "2022-03-13T08:47:27.826Z"
   },
   {
    "duration": 27,
    "start_time": "2022-03-13T08:47:27.833Z"
   },
   {
    "duration": 10,
    "start_time": "2022-03-13T08:47:27.863Z"
   },
   {
    "duration": 761,
    "start_time": "2022-03-13T08:47:27.876Z"
   },
   {
    "duration": 14,
    "start_time": "2022-03-13T08:47:28.640Z"
   },
   {
    "duration": 26,
    "start_time": "2022-03-13T08:47:28.656Z"
   },
   {
    "duration": 351,
    "start_time": "2022-03-13T08:47:28.684Z"
   },
   {
    "duration": 34,
    "start_time": "2022-03-13T08:47:29.037Z"
   },
   {
    "duration": 556,
    "start_time": "2022-03-13T08:47:29.074Z"
   },
   {
    "duration": 21,
    "start_time": "2022-03-13T08:47:29.633Z"
   },
   {
    "duration": 14,
    "start_time": "2022-03-13T08:47:29.656Z"
   },
   {
    "duration": 487,
    "start_time": "2022-03-13T08:47:29.673Z"
   },
   {
    "duration": 10,
    "start_time": "2022-03-13T08:47:30.163Z"
   },
   {
    "duration": 466,
    "start_time": "2022-03-13T08:47:30.176Z"
   },
   {
    "duration": 491,
    "start_time": "2022-03-13T08:47:30.652Z"
   },
   {
    "duration": 9,
    "start_time": "2022-03-13T08:47:31.146Z"
   },
   {
    "duration": 16,
    "start_time": "2022-03-13T08:47:31.158Z"
   },
   {
    "duration": 3954,
    "start_time": "2022-03-13T08:47:31.177Z"
   },
   {
    "duration": 85,
    "start_time": "2022-03-13T08:47:35.133Z"
   },
   {
    "duration": 181,
    "start_time": "2022-03-13T08:47:35.221Z"
   },
   {
    "duration": 48,
    "start_time": "2022-03-13T08:47:35.405Z"
   },
   {
    "duration": 494,
    "start_time": "2022-03-13T08:47:35.457Z"
   },
   {
    "duration": 27,
    "start_time": "2022-03-13T08:47:35.954Z"
   },
   {
    "duration": 610,
    "start_time": "2022-03-13T08:47:35.983Z"
   },
   {
    "duration": 17,
    "start_time": "2022-03-13T08:47:36.595Z"
   },
   {
    "duration": 1307,
    "start_time": "2022-03-13T08:47:36.614Z"
   },
   {
    "duration": 1303,
    "start_time": "2022-03-13T08:47:37.923Z"
   },
   {
    "duration": 1326,
    "start_time": "2022-03-13T08:47:39.229Z"
   },
   {
    "duration": 1118,
    "start_time": "2022-03-13T08:47:40.558Z"
   },
   {
    "duration": 1222,
    "start_time": "2022-03-13T08:47:41.679Z"
   },
   {
    "duration": 1184,
    "start_time": "2022-03-13T08:47:42.904Z"
   },
   {
    "duration": 13,
    "start_time": "2022-03-13T08:47:44.091Z"
   },
   {
    "duration": 17,
    "start_time": "2022-03-13T08:47:44.106Z"
   },
   {
    "duration": 34,
    "start_time": "2022-03-13T08:47:44.126Z"
   },
   {
    "duration": 9,
    "start_time": "2022-03-13T08:47:44.163Z"
   },
   {
    "duration": 13,
    "start_time": "2022-03-13T08:47:44.175Z"
   },
   {
    "duration": 12,
    "start_time": "2022-03-13T08:47:44.191Z"
   },
   {
    "duration": 978,
    "start_time": "2022-03-13T08:47:44.205Z"
   },
   {
    "duration": 14,
    "start_time": "2022-03-13T08:47:45.187Z"
   },
   {
    "duration": 8,
    "start_time": "2022-03-13T08:47:45.204Z"
   },
   {
    "duration": 41,
    "start_time": "2022-03-13T08:47:45.214Z"
   },
   {
    "duration": 13,
    "start_time": "2022-03-13T08:47:45.264Z"
   },
   {
    "duration": 12,
    "start_time": "2022-03-13T08:47:45.281Z"
   }
  ],
  "kernelspec": {
   "display_name": "Python 3 (ipykernel)",
   "language": "python",
   "name": "python3"
  },
  "language_info": {
   "codemirror_mode": {
    "name": "ipython",
    "version": 3
   },
   "file_extension": ".py",
   "mimetype": "text/x-python",
   "name": "python",
   "nbconvert_exporter": "python",
   "pygments_lexer": "ipython3",
   "version": "3.9.5"
  },
  "toc": {
   "base_numbering": 1,
   "nav_menu": {},
   "number_sections": false,
   "sideBar": true,
   "skip_h1_title": false,
   "title_cell": "Table of Contents",
   "title_sidebar": "Contents",
   "toc_cell": false,
   "toc_position": {
    "height": "calc(100% - 180px)",
    "left": "10px",
    "top": "150px",
    "width": "348px"
   },
   "toc_section_display": true,
   "toc_window_display": true
  }
 },
 "nbformat": 4,
 "nbformat_minor": 2
}
