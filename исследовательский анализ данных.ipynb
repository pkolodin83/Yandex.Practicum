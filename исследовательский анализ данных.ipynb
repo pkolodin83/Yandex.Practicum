{
 "cells": [
  {
   "cell_type": "markdown",
   "metadata": {
    "toc": true
   },
   "source": [
    "<h1>Содержание<span class=\"tocSkip\"></span></h1>\n",
    "<div class=\"toc\"><ul class=\"toc-item\"><li><span><a href=\"#Изучение-данных-из-файла\" data-toc-modified-id=\"Изучение-данных-из-файла-1\"><span class=\"toc-item-num\">1&nbsp;&nbsp;</span>Изучение данных из файла</a></span><ul class=\"toc-item\"><li><span><a href=\"#Вывод\" data-toc-modified-id=\"Вывод-1.1\"><span class=\"toc-item-num\">1.1&nbsp;&nbsp;</span>Вывод</a></span></li></ul></li><li><span><a href=\"#Предобработка-данных\" data-toc-modified-id=\"Предобработка-данных-2\"><span class=\"toc-item-num\">2&nbsp;&nbsp;</span>Предобработка данных</a></span></li><li><span><a href=\"#Расчёты-и-добавление-результатов-в-таблицу\" data-toc-modified-id=\"Расчёты-и-добавление-результатов-в-таблицу-3\"><span class=\"toc-item-num\">3&nbsp;&nbsp;</span>Расчёты и добавление результатов в таблицу</a></span></li><li><span><a href=\"#Исследовательский-анализ-данных\" data-toc-modified-id=\"Исследовательский-анализ-данных-4\"><span class=\"toc-item-num\">4&nbsp;&nbsp;</span>Исследовательский анализ данных</a></span></li><li><span><a href=\"#Общий-вывод\" data-toc-modified-id=\"Общий-вывод-5\"><span class=\"toc-item-num\">5&nbsp;&nbsp;</span>Общий вывод</a></span></li><li><span><a href=\"#Чек-лист-готовности-проекта\" data-toc-modified-id=\"Чек-лист-готовности-проекта-6\"><span class=\"toc-item-num\">6&nbsp;&nbsp;</span>Чек-лист готовности проекта</a></span></li></ul></div>"
   ]
  },
  {
   "cell_type": "markdown",
   "metadata": {},
   "source": [
    "# Исследование объявлений о продаже квартир\n",
    "\n",
    "В вашем распоряжении данные сервиса Яндекс.Недвижимость — архив объявлений о продаже квартир в Санкт-Петербурге и соседних населённых пунктах за несколько лет. Нужно научиться определять рыночную стоимость объектов недвижимости. Ваша задача — установить параметры. Это позволит построить автоматизированную систему: она отследит аномалии и мошенническую деятельность. \n",
    "\n",
    "По каждой квартире на продажу доступны два вида данных. Первые вписаны пользователем, вторые получены автоматически на основе картографических данных. Например, расстояние до центра, аэропорта, ближайшего парка и водоёма."
   ]
  },
  {
   "cell_type": "markdown",
   "metadata": {},
   "source": [
    "## Изучение данных из файла"
   ]
  },
  {
   "cell_type": "code",
   "execution_count": 1,
   "metadata": {},
   "outputs": [],
   "source": [
    "#Подключим необходимые библиотеки для нашего анализа\n",
    "import pandas as pd\n",
    "%matplotlib inline\n",
    "import matplotlib.pyplot as plt\n",
    "import seaborn as sns"
   ]
  },
  {
   "cell_type": "code",
   "execution_count": 2,
   "metadata": {},
   "outputs": [],
   "source": [
    "df = pd.read_csv('/datasets/real_estate_data.csv', sep='\\t')"
   ]
  },
  {
   "cell_type": "code",
   "execution_count": 3,
   "metadata": {},
   "outputs": [
    {
     "name": "stdout",
     "output_type": "stream",
     "text": [
      "<class 'pandas.core.frame.DataFrame'>\n",
      "RangeIndex: 23699 entries, 0 to 23698\n",
      "Data columns (total 22 columns):\n",
      " #   Column                Non-Null Count  Dtype  \n",
      "---  ------                --------------  -----  \n",
      " 0   total_images          23699 non-null  int64  \n",
      " 1   last_price            23699 non-null  float64\n",
      " 2   total_area            23699 non-null  float64\n",
      " 3   first_day_exposition  23699 non-null  object \n",
      " 4   rooms                 23699 non-null  int64  \n",
      " 5   ceiling_height        14504 non-null  float64\n",
      " 6   floors_total          23613 non-null  float64\n",
      " 7   living_area           21796 non-null  float64\n",
      " 8   floor                 23699 non-null  int64  \n",
      " 9   is_apartment          2775 non-null   object \n",
      " 10  studio                23699 non-null  bool   \n",
      " 11  open_plan             23699 non-null  bool   \n",
      " 12  kitchen_area          21421 non-null  float64\n",
      " 13  balcony               12180 non-null  float64\n",
      " 14  locality_name         23650 non-null  object \n",
      " 15  airports_nearest      18157 non-null  float64\n",
      " 16  cityCenters_nearest   18180 non-null  float64\n",
      " 17  parks_around3000      18181 non-null  float64\n",
      " 18  parks_nearest         8079 non-null   float64\n",
      " 19  ponds_around3000      18181 non-null  float64\n",
      " 20  ponds_nearest         9110 non-null   float64\n",
      " 21  days_exposition       20518 non-null  float64\n",
      "dtypes: bool(2), float64(14), int64(3), object(3)\n",
      "memory usage: 3.7+ MB\n"
     ]
    }
   ],
   "source": [
    "#Попробуем еще раз просмотреть информацию о нашем датафрейме\n",
    "df.info()"
   ]
  },
  {
   "cell_type": "code",
   "execution_count": 4,
   "metadata": {},
   "outputs": [
    {
     "data": {
      "text/html": [
       "<div>\n",
       "<style scoped>\n",
       "    .dataframe tbody tr th:only-of-type {\n",
       "        vertical-align: middle;\n",
       "    }\n",
       "\n",
       "    .dataframe tbody tr th {\n",
       "        vertical-align: top;\n",
       "    }\n",
       "\n",
       "    .dataframe thead th {\n",
       "        text-align: right;\n",
       "    }\n",
       "</style>\n",
       "<table border=\"1\" class=\"dataframe\">\n",
       "  <thead>\n",
       "    <tr style=\"text-align: right;\">\n",
       "      <th></th>\n",
       "      <th>total_images</th>\n",
       "      <th>last_price</th>\n",
       "      <th>total_area</th>\n",
       "      <th>first_day_exposition</th>\n",
       "      <th>rooms</th>\n",
       "      <th>ceiling_height</th>\n",
       "      <th>floors_total</th>\n",
       "      <th>living_area</th>\n",
       "      <th>floor</th>\n",
       "      <th>is_apartment</th>\n",
       "      <th>...</th>\n",
       "      <th>kitchen_area</th>\n",
       "      <th>balcony</th>\n",
       "      <th>locality_name</th>\n",
       "      <th>airports_nearest</th>\n",
       "      <th>cityCenters_nearest</th>\n",
       "      <th>parks_around3000</th>\n",
       "      <th>parks_nearest</th>\n",
       "      <th>ponds_around3000</th>\n",
       "      <th>ponds_nearest</th>\n",
       "      <th>days_exposition</th>\n",
       "    </tr>\n",
       "  </thead>\n",
       "  <tbody>\n",
       "    <tr>\n",
       "      <th>0</th>\n",
       "      <td>20</td>\n",
       "      <td>13000000.0</td>\n",
       "      <td>108.0</td>\n",
       "      <td>2019-03-07T00:00:00</td>\n",
       "      <td>3</td>\n",
       "      <td>2.70</td>\n",
       "      <td>16.0</td>\n",
       "      <td>51.0</td>\n",
       "      <td>8</td>\n",
       "      <td>NaN</td>\n",
       "      <td>...</td>\n",
       "      <td>25.0</td>\n",
       "      <td>NaN</td>\n",
       "      <td>Санкт-Петербург</td>\n",
       "      <td>18863.0</td>\n",
       "      <td>16028.0</td>\n",
       "      <td>1.0</td>\n",
       "      <td>482.0</td>\n",
       "      <td>2.0</td>\n",
       "      <td>755.0</td>\n",
       "      <td>NaN</td>\n",
       "    </tr>\n",
       "    <tr>\n",
       "      <th>1</th>\n",
       "      <td>7</td>\n",
       "      <td>3350000.0</td>\n",
       "      <td>40.4</td>\n",
       "      <td>2018-12-04T00:00:00</td>\n",
       "      <td>1</td>\n",
       "      <td>NaN</td>\n",
       "      <td>11.0</td>\n",
       "      <td>18.6</td>\n",
       "      <td>1</td>\n",
       "      <td>NaN</td>\n",
       "      <td>...</td>\n",
       "      <td>11.0</td>\n",
       "      <td>2.0</td>\n",
       "      <td>посёлок Шушары</td>\n",
       "      <td>12817.0</td>\n",
       "      <td>18603.0</td>\n",
       "      <td>0.0</td>\n",
       "      <td>NaN</td>\n",
       "      <td>0.0</td>\n",
       "      <td>NaN</td>\n",
       "      <td>81.0</td>\n",
       "    </tr>\n",
       "    <tr>\n",
       "      <th>2</th>\n",
       "      <td>10</td>\n",
       "      <td>5196000.0</td>\n",
       "      <td>56.0</td>\n",
       "      <td>2015-08-20T00:00:00</td>\n",
       "      <td>2</td>\n",
       "      <td>NaN</td>\n",
       "      <td>5.0</td>\n",
       "      <td>34.3</td>\n",
       "      <td>4</td>\n",
       "      <td>NaN</td>\n",
       "      <td>...</td>\n",
       "      <td>8.3</td>\n",
       "      <td>0.0</td>\n",
       "      <td>Санкт-Петербург</td>\n",
       "      <td>21741.0</td>\n",
       "      <td>13933.0</td>\n",
       "      <td>1.0</td>\n",
       "      <td>90.0</td>\n",
       "      <td>2.0</td>\n",
       "      <td>574.0</td>\n",
       "      <td>558.0</td>\n",
       "    </tr>\n",
       "    <tr>\n",
       "      <th>3</th>\n",
       "      <td>0</td>\n",
       "      <td>64900000.0</td>\n",
       "      <td>159.0</td>\n",
       "      <td>2015-07-24T00:00:00</td>\n",
       "      <td>3</td>\n",
       "      <td>NaN</td>\n",
       "      <td>14.0</td>\n",
       "      <td>NaN</td>\n",
       "      <td>9</td>\n",
       "      <td>NaN</td>\n",
       "      <td>...</td>\n",
       "      <td>NaN</td>\n",
       "      <td>0.0</td>\n",
       "      <td>Санкт-Петербург</td>\n",
       "      <td>28098.0</td>\n",
       "      <td>6800.0</td>\n",
       "      <td>2.0</td>\n",
       "      <td>84.0</td>\n",
       "      <td>3.0</td>\n",
       "      <td>234.0</td>\n",
       "      <td>424.0</td>\n",
       "    </tr>\n",
       "    <tr>\n",
       "      <th>4</th>\n",
       "      <td>2</td>\n",
       "      <td>10000000.0</td>\n",
       "      <td>100.0</td>\n",
       "      <td>2018-06-19T00:00:00</td>\n",
       "      <td>2</td>\n",
       "      <td>3.03</td>\n",
       "      <td>14.0</td>\n",
       "      <td>32.0</td>\n",
       "      <td>13</td>\n",
       "      <td>NaN</td>\n",
       "      <td>...</td>\n",
       "      <td>41.0</td>\n",
       "      <td>NaN</td>\n",
       "      <td>Санкт-Петербург</td>\n",
       "      <td>31856.0</td>\n",
       "      <td>8098.0</td>\n",
       "      <td>2.0</td>\n",
       "      <td>112.0</td>\n",
       "      <td>1.0</td>\n",
       "      <td>48.0</td>\n",
       "      <td>121.0</td>\n",
       "    </tr>\n",
       "  </tbody>\n",
       "</table>\n",
       "<p>5 rows × 22 columns</p>\n",
       "</div>"
      ],
      "text/plain": [
       "   total_images  last_price  total_area first_day_exposition  rooms  \\\n",
       "0            20  13000000.0       108.0  2019-03-07T00:00:00      3   \n",
       "1             7   3350000.0        40.4  2018-12-04T00:00:00      1   \n",
       "2            10   5196000.0        56.0  2015-08-20T00:00:00      2   \n",
       "3             0  64900000.0       159.0  2015-07-24T00:00:00      3   \n",
       "4             2  10000000.0       100.0  2018-06-19T00:00:00      2   \n",
       "\n",
       "   ceiling_height  floors_total  living_area  floor is_apartment  ...  \\\n",
       "0            2.70          16.0         51.0      8          NaN  ...   \n",
       "1             NaN          11.0         18.6      1          NaN  ...   \n",
       "2             NaN           5.0         34.3      4          NaN  ...   \n",
       "3             NaN          14.0          NaN      9          NaN  ...   \n",
       "4            3.03          14.0         32.0     13          NaN  ...   \n",
       "\n",
       "   kitchen_area  balcony    locality_name  airports_nearest  \\\n",
       "0          25.0      NaN  Санкт-Петербург           18863.0   \n",
       "1          11.0      2.0   посёлок Шушары           12817.0   \n",
       "2           8.3      0.0  Санкт-Петербург           21741.0   \n",
       "3           NaN      0.0  Санкт-Петербург           28098.0   \n",
       "4          41.0      NaN  Санкт-Петербург           31856.0   \n",
       "\n",
       "  cityCenters_nearest  parks_around3000  parks_nearest  ponds_around3000  \\\n",
       "0             16028.0               1.0          482.0               2.0   \n",
       "1             18603.0               0.0            NaN               0.0   \n",
       "2             13933.0               1.0           90.0               2.0   \n",
       "3              6800.0               2.0           84.0               3.0   \n",
       "4              8098.0               2.0          112.0               1.0   \n",
       "\n",
       "   ponds_nearest  days_exposition  \n",
       "0          755.0              NaN  \n",
       "1            NaN             81.0  \n",
       "2          574.0            558.0  \n",
       "3          234.0            424.0  \n",
       "4           48.0            121.0  \n",
       "\n",
       "[5 rows x 22 columns]"
      ]
     },
     "execution_count": 4,
     "metadata": {},
     "output_type": "execute_result"
    }
   ],
   "source": [
    "#выведем 5 первых строчек\n",
    "df.head(5)"
   ]
  },
  {
   "cell_type": "code",
   "execution_count": 5,
   "metadata": {},
   "outputs": [
    {
     "data": {
      "text/html": [
       "<div>\n",
       "<style scoped>\n",
       "    .dataframe tbody tr th:only-of-type {\n",
       "        vertical-align: middle;\n",
       "    }\n",
       "\n",
       "    .dataframe tbody tr th {\n",
       "        vertical-align: top;\n",
       "    }\n",
       "\n",
       "    .dataframe thead th {\n",
       "        text-align: right;\n",
       "    }\n",
       "</style>\n",
       "<table border=\"1\" class=\"dataframe\">\n",
       "  <thead>\n",
       "    <tr style=\"text-align: right;\">\n",
       "      <th></th>\n",
       "      <th>total_images</th>\n",
       "      <th>last_price</th>\n",
       "      <th>total_area</th>\n",
       "      <th>rooms</th>\n",
       "      <th>ceiling_height</th>\n",
       "      <th>floors_total</th>\n",
       "      <th>living_area</th>\n",
       "      <th>floor</th>\n",
       "      <th>kitchen_area</th>\n",
       "      <th>balcony</th>\n",
       "      <th>airports_nearest</th>\n",
       "      <th>cityCenters_nearest</th>\n",
       "      <th>parks_around3000</th>\n",
       "      <th>parks_nearest</th>\n",
       "      <th>ponds_around3000</th>\n",
       "      <th>ponds_nearest</th>\n",
       "      <th>days_exposition</th>\n",
       "    </tr>\n",
       "  </thead>\n",
       "  <tbody>\n",
       "    <tr>\n",
       "      <th>count</th>\n",
       "      <td>23699.000000</td>\n",
       "      <td>2.369900e+04</td>\n",
       "      <td>23699.000000</td>\n",
       "      <td>23699.000000</td>\n",
       "      <td>14504.000000</td>\n",
       "      <td>23613.000000</td>\n",
       "      <td>21796.000000</td>\n",
       "      <td>23699.000000</td>\n",
       "      <td>21421.000000</td>\n",
       "      <td>12180.000000</td>\n",
       "      <td>18157.000000</td>\n",
       "      <td>18180.000000</td>\n",
       "      <td>18181.000000</td>\n",
       "      <td>8079.000000</td>\n",
       "      <td>18181.000000</td>\n",
       "      <td>9110.000000</td>\n",
       "      <td>20518.000000</td>\n",
       "    </tr>\n",
       "    <tr>\n",
       "      <th>mean</th>\n",
       "      <td>9.858475</td>\n",
       "      <td>6.541549e+06</td>\n",
       "      <td>60.348651</td>\n",
       "      <td>2.070636</td>\n",
       "      <td>2.771499</td>\n",
       "      <td>10.673824</td>\n",
       "      <td>34.457852</td>\n",
       "      <td>5.892358</td>\n",
       "      <td>10.569807</td>\n",
       "      <td>1.150082</td>\n",
       "      <td>28793.672193</td>\n",
       "      <td>14191.277833</td>\n",
       "      <td>0.611408</td>\n",
       "      <td>490.804555</td>\n",
       "      <td>0.770255</td>\n",
       "      <td>517.980900</td>\n",
       "      <td>180.888634</td>\n",
       "    </tr>\n",
       "    <tr>\n",
       "      <th>std</th>\n",
       "      <td>5.682529</td>\n",
       "      <td>1.088701e+07</td>\n",
       "      <td>35.654083</td>\n",
       "      <td>1.078405</td>\n",
       "      <td>1.261056</td>\n",
       "      <td>6.597173</td>\n",
       "      <td>22.030445</td>\n",
       "      <td>4.885249</td>\n",
       "      <td>5.905438</td>\n",
       "      <td>1.071300</td>\n",
       "      <td>12630.880622</td>\n",
       "      <td>8608.386210</td>\n",
       "      <td>0.802074</td>\n",
       "      <td>342.317995</td>\n",
       "      <td>0.938346</td>\n",
       "      <td>277.720643</td>\n",
       "      <td>219.727988</td>\n",
       "    </tr>\n",
       "    <tr>\n",
       "      <th>min</th>\n",
       "      <td>0.000000</td>\n",
       "      <td>1.219000e+04</td>\n",
       "      <td>12.000000</td>\n",
       "      <td>0.000000</td>\n",
       "      <td>1.000000</td>\n",
       "      <td>1.000000</td>\n",
       "      <td>2.000000</td>\n",
       "      <td>1.000000</td>\n",
       "      <td>1.300000</td>\n",
       "      <td>0.000000</td>\n",
       "      <td>0.000000</td>\n",
       "      <td>181.000000</td>\n",
       "      <td>0.000000</td>\n",
       "      <td>1.000000</td>\n",
       "      <td>0.000000</td>\n",
       "      <td>13.000000</td>\n",
       "      <td>1.000000</td>\n",
       "    </tr>\n",
       "    <tr>\n",
       "      <th>25%</th>\n",
       "      <td>6.000000</td>\n",
       "      <td>3.400000e+06</td>\n",
       "      <td>40.000000</td>\n",
       "      <td>1.000000</td>\n",
       "      <td>2.520000</td>\n",
       "      <td>5.000000</td>\n",
       "      <td>18.600000</td>\n",
       "      <td>2.000000</td>\n",
       "      <td>7.000000</td>\n",
       "      <td>0.000000</td>\n",
       "      <td>18585.000000</td>\n",
       "      <td>9238.000000</td>\n",
       "      <td>0.000000</td>\n",
       "      <td>288.000000</td>\n",
       "      <td>0.000000</td>\n",
       "      <td>294.000000</td>\n",
       "      <td>45.000000</td>\n",
       "    </tr>\n",
       "    <tr>\n",
       "      <th>50%</th>\n",
       "      <td>9.000000</td>\n",
       "      <td>4.650000e+06</td>\n",
       "      <td>52.000000</td>\n",
       "      <td>2.000000</td>\n",
       "      <td>2.650000</td>\n",
       "      <td>9.000000</td>\n",
       "      <td>30.000000</td>\n",
       "      <td>4.000000</td>\n",
       "      <td>9.100000</td>\n",
       "      <td>1.000000</td>\n",
       "      <td>26726.000000</td>\n",
       "      <td>13098.500000</td>\n",
       "      <td>0.000000</td>\n",
       "      <td>455.000000</td>\n",
       "      <td>1.000000</td>\n",
       "      <td>502.000000</td>\n",
       "      <td>95.000000</td>\n",
       "    </tr>\n",
       "    <tr>\n",
       "      <th>75%</th>\n",
       "      <td>14.000000</td>\n",
       "      <td>6.800000e+06</td>\n",
       "      <td>69.900000</td>\n",
       "      <td>3.000000</td>\n",
       "      <td>2.800000</td>\n",
       "      <td>16.000000</td>\n",
       "      <td>42.300000</td>\n",
       "      <td>8.000000</td>\n",
       "      <td>12.000000</td>\n",
       "      <td>2.000000</td>\n",
       "      <td>37273.000000</td>\n",
       "      <td>16293.000000</td>\n",
       "      <td>1.000000</td>\n",
       "      <td>612.000000</td>\n",
       "      <td>1.000000</td>\n",
       "      <td>729.000000</td>\n",
       "      <td>232.000000</td>\n",
       "    </tr>\n",
       "    <tr>\n",
       "      <th>max</th>\n",
       "      <td>50.000000</td>\n",
       "      <td>7.630000e+08</td>\n",
       "      <td>900.000000</td>\n",
       "      <td>19.000000</td>\n",
       "      <td>100.000000</td>\n",
       "      <td>60.000000</td>\n",
       "      <td>409.700000</td>\n",
       "      <td>33.000000</td>\n",
       "      <td>112.000000</td>\n",
       "      <td>5.000000</td>\n",
       "      <td>84869.000000</td>\n",
       "      <td>65968.000000</td>\n",
       "      <td>3.000000</td>\n",
       "      <td>3190.000000</td>\n",
       "      <td>3.000000</td>\n",
       "      <td>1344.000000</td>\n",
       "      <td>1580.000000</td>\n",
       "    </tr>\n",
       "  </tbody>\n",
       "</table>\n",
       "</div>"
      ],
      "text/plain": [
       "       total_images    last_price    total_area         rooms  ceiling_height  \\\n",
       "count  23699.000000  2.369900e+04  23699.000000  23699.000000    14504.000000   \n",
       "mean       9.858475  6.541549e+06     60.348651      2.070636        2.771499   \n",
       "std        5.682529  1.088701e+07     35.654083      1.078405        1.261056   \n",
       "min        0.000000  1.219000e+04     12.000000      0.000000        1.000000   \n",
       "25%        6.000000  3.400000e+06     40.000000      1.000000        2.520000   \n",
       "50%        9.000000  4.650000e+06     52.000000      2.000000        2.650000   \n",
       "75%       14.000000  6.800000e+06     69.900000      3.000000        2.800000   \n",
       "max       50.000000  7.630000e+08    900.000000     19.000000      100.000000   \n",
       "\n",
       "       floors_total   living_area         floor  kitchen_area       balcony  \\\n",
       "count  23613.000000  21796.000000  23699.000000  21421.000000  12180.000000   \n",
       "mean      10.673824     34.457852      5.892358     10.569807      1.150082   \n",
       "std        6.597173     22.030445      4.885249      5.905438      1.071300   \n",
       "min        1.000000      2.000000      1.000000      1.300000      0.000000   \n",
       "25%        5.000000     18.600000      2.000000      7.000000      0.000000   \n",
       "50%        9.000000     30.000000      4.000000      9.100000      1.000000   \n",
       "75%       16.000000     42.300000      8.000000     12.000000      2.000000   \n",
       "max       60.000000    409.700000     33.000000    112.000000      5.000000   \n",
       "\n",
       "       airports_nearest  cityCenters_nearest  parks_around3000  parks_nearest  \\\n",
       "count      18157.000000         18180.000000      18181.000000    8079.000000   \n",
       "mean       28793.672193         14191.277833          0.611408     490.804555   \n",
       "std        12630.880622          8608.386210          0.802074     342.317995   \n",
       "min            0.000000           181.000000          0.000000       1.000000   \n",
       "25%        18585.000000          9238.000000          0.000000     288.000000   \n",
       "50%        26726.000000         13098.500000          0.000000     455.000000   \n",
       "75%        37273.000000         16293.000000          1.000000     612.000000   \n",
       "max        84869.000000         65968.000000          3.000000    3190.000000   \n",
       "\n",
       "       ponds_around3000  ponds_nearest  days_exposition  \n",
       "count      18181.000000    9110.000000     20518.000000  \n",
       "mean           0.770255     517.980900       180.888634  \n",
       "std            0.938346     277.720643       219.727988  \n",
       "min            0.000000      13.000000         1.000000  \n",
       "25%            0.000000     294.000000        45.000000  \n",
       "50%            1.000000     502.000000        95.000000  \n",
       "75%            1.000000     729.000000       232.000000  \n",
       "max            3.000000    1344.000000      1580.000000  "
      ]
     },
     "execution_count": 5,
     "metadata": {},
     "output_type": "execute_result"
    }
   ],
   "source": [
    "#Изучим файл методом describe\n",
    "df.describe()"
   ]
  },
  {
   "cell_type": "code",
   "execution_count": 6,
   "metadata": {},
   "outputs": [
    {
     "data": {
      "text/plain": [
       "4500000.0     342\n",
       "3500000.0     291\n",
       "4000000.0     260\n",
       "4300000.0     260\n",
       "4200000.0     259\n",
       "             ... \n",
       "10430000.0      1\n",
       "9917600.0       1\n",
       "3180500.0       1\n",
       "7297000.0       1\n",
       "4386000.0       1\n",
       "Name: last_price, Length: 2978, dtype: int64"
      ]
     },
     "execution_count": 6,
     "metadata": {},
     "output_type": "execute_result"
    }
   ],
   "source": [
    "#Изучим столбец \"цена на момент снятия с публикации\"\n",
    "df.last_price.value_counts()"
   ]
  },
  {
   "cell_type": "code",
   "execution_count": 7,
   "metadata": {},
   "outputs": [
    {
     "data": {
      "text/plain": [
       "45.00     419\n",
       "42.00     383\n",
       "60.00     347\n",
       "31.00     346\n",
       "44.00     345\n",
       "         ... \n",
       "44.24       1\n",
       "56.85       1\n",
       "37.92       1\n",
       "115.60      1\n",
       "55.06       1\n",
       "Name: total_area, Length: 2182, dtype: int64"
      ]
     },
     "execution_count": 7,
     "metadata": {},
     "output_type": "execute_result"
    }
   ],
   "source": [
    "#Изучим столбец \"площадь квартиры в квадратных метрах\"\n",
    "df.total_area.value_counts()"
   ]
  },
  {
   "cell_type": "code",
   "execution_count": 8,
   "metadata": {},
   "outputs": [
    {
     "data": {
      "text/plain": [
       "2018-02-01T00:00:00    368\n",
       "2017-11-10T00:00:00    240\n",
       "2017-10-13T00:00:00    124\n",
       "2017-09-27T00:00:00    111\n",
       "2018-03-26T00:00:00     97\n",
       "                      ... \n",
       "2014-12-18T00:00:00      1\n",
       "2015-11-16T00:00:00      1\n",
       "2016-11-13T00:00:00      1\n",
       "2015-06-08T00:00:00      1\n",
       "2016-08-18T00:00:00      1\n",
       "Name: first_day_exposition, Length: 1491, dtype: int64"
      ]
     },
     "execution_count": 8,
     "metadata": {},
     "output_type": "execute_result"
    }
   ],
   "source": [
    "#Изучим столбец \"дата публикации\"\n",
    "df.first_day_exposition.value_counts()"
   ]
  },
  {
   "cell_type": "code",
   "execution_count": 9,
   "metadata": {},
   "outputs": [
    {
     "data": {
      "text/plain": [
       "1     8047\n",
       "2     7940\n",
       "3     5814\n",
       "4     1180\n",
       "5      326\n",
       "0      197\n",
       "6      105\n",
       "7       59\n",
       "8       12\n",
       "9        8\n",
       "10       3\n",
       "11       2\n",
       "14       2\n",
       "19       1\n",
       "16       1\n",
       "12       1\n",
       "15       1\n",
       "Name: rooms, dtype: int64"
      ]
     },
     "execution_count": 9,
     "metadata": {},
     "output_type": "execute_result"
    }
   ],
   "source": [
    "#столбец число комнат\n",
    "df.rooms.value_counts()"
   ]
  },
  {
   "cell_type": "code",
   "execution_count": 10,
   "metadata": {},
   "outputs": [
    {
     "data": {
      "text/plain": [
       "2.50     3515\n",
       "2.60     1646\n",
       "2.70     1574\n",
       "3.00     1112\n",
       "2.80      993\n",
       "         ... \n",
       "4.25        1\n",
       "3.39        1\n",
       "3.93        1\n",
       "10.30       1\n",
       "4.65        1\n",
       "Name: ceiling_height, Length: 183, dtype: int64"
      ]
     },
     "execution_count": 10,
     "metadata": {},
     "output_type": "execute_result"
    }
   ],
   "source": [
    "#Столбец \"Высота потолков\"\n",
    "df.ceiling_height.value_counts()"
   ]
  },
  {
   "cell_type": "code",
   "execution_count": 11,
   "metadata": {},
   "outputs": [
    {
     "data": {
      "text/plain": [
       "2     3368\n",
       "3     3073\n",
       "1     2917\n",
       "4     2804\n",
       "5     2621\n",
       "6     1305\n",
       "7     1218\n",
       "8     1083\n",
       "9     1051\n",
       "10     687\n",
       "12     526\n",
       "11     523\n",
       "13     379\n",
       "15     343\n",
       "14     337\n",
       "16     315\n",
       "17     227\n",
       "18     178\n",
       "19     147\n",
       "21     125\n",
       "22     113\n",
       "20     110\n",
       "23     100\n",
       "24      63\n",
       "25      46\n",
       "26      24\n",
       "27      10\n",
       "28       1\n",
       "29       1\n",
       "32       1\n",
       "30       1\n",
       "33       1\n",
       "31       1\n",
       "Name: floor, dtype: int64"
      ]
     },
     "execution_count": 11,
     "metadata": {},
     "output_type": "execute_result"
    }
   ],
   "source": [
    "#Столбец \"Этаж\"\n",
    "df.floor.value_counts()"
   ]
  },
  {
   "cell_type": "code",
   "execution_count": 12,
   "metadata": {},
   "outputs": [
    {
     "data": {
      "text/plain": [
       "5.0     5788\n",
       "9.0     3761\n",
       "16.0    1376\n",
       "12.0    1362\n",
       "4.0     1200\n",
       "10.0    1174\n",
       "25.0    1075\n",
       "6.0      914\n",
       "17.0     833\n",
       "3.0      668\n",
       "7.0      592\n",
       "14.0     553\n",
       "18.0     505\n",
       "24.0     469\n",
       "8.0      390\n",
       "2.0      383\n",
       "15.0     365\n",
       "23.0     352\n",
       "19.0     339\n",
       "22.0     286\n",
       "20.0     271\n",
       "13.0     229\n",
       "11.0     203\n",
       "27.0     164\n",
       "21.0     158\n",
       "26.0     124\n",
       "1.0       25\n",
       "35.0      24\n",
       "28.0      21\n",
       "36.0       3\n",
       "37.0       1\n",
       "34.0       1\n",
       "33.0       1\n",
       "60.0       1\n",
       "29.0       1\n",
       "52.0       1\n",
       "Name: floors_total, dtype: int64"
      ]
     },
     "execution_count": 12,
     "metadata": {},
     "output_type": "execute_result"
    }
   ],
   "source": [
    "#Столбец \"Всего этажей в доме\"\n",
    "df.floors_total.value_counts()    "
   ]
  },
  {
   "cell_type": "code",
   "execution_count": 13,
   "metadata": {},
   "outputs": [
    {
     "data": {
      "text/plain": [
       "18.00    882\n",
       "17.00    675\n",
       "30.00    598\n",
       "16.00    486\n",
       "20.00    481\n",
       "        ... \n",
       "96.40      1\n",
       "50.26      1\n",
       "43.81      1\n",
       "54.43      1\n",
       "16.74      1\n",
       "Name: living_area, Length: 1782, dtype: int64"
      ]
     },
     "execution_count": 13,
     "metadata": {},
     "output_type": "execute_result"
    }
   ],
   "source": [
    "#Столбец \"Жилая площадь м2\"\n",
    "df.living_area.value_counts()    "
   ]
  },
  {
   "cell_type": "code",
   "execution_count": 14,
   "metadata": {},
   "outputs": [
    {
     "data": {
      "text/plain": [
       "False    2725\n",
       "True       50\n",
       "Name: is_apartment, dtype: int64"
      ]
     },
     "execution_count": 14,
     "metadata": {},
     "output_type": "execute_result"
    }
   ],
   "source": [
    "#Столбец апартаменты (булев тип)\n",
    "df.is_apartment.value_counts()      "
   ]
  },
  {
   "cell_type": "code",
   "execution_count": 15,
   "metadata": {},
   "outputs": [
    {
     "data": {
      "text/plain": [
       "False    23550\n",
       "True       149\n",
       "Name: studio, dtype: int64"
      ]
     },
     "execution_count": 15,
     "metadata": {},
     "output_type": "execute_result"
    }
   ],
   "source": [
    "#Столбец \"Квартира - студия(булев тип)\"\n",
    "df.studio.value_counts()             "
   ]
  },
  {
   "cell_type": "code",
   "execution_count": 16,
   "metadata": {},
   "outputs": [
    {
     "data": {
      "text/plain": [
       "False    23632\n",
       "True        67\n",
       "Name: open_plan, dtype: int64"
      ]
     },
     "execution_count": 16,
     "metadata": {},
     "output_type": "execute_result"
    }
   ],
   "source": [
    "#столбец \"Свободная планировка (булев тип)\"\n",
    "df.open_plan.value_counts()      "
   ]
  },
  {
   "cell_type": "code",
   "execution_count": 17,
   "metadata": {},
   "outputs": [
    {
     "data": {
      "text/plain": [
       "6.00     1300\n",
       "10.00    1262\n",
       "8.00     1110\n",
       "9.00     1101\n",
       "7.00     1062\n",
       "         ... \n",
       "7.12        1\n",
       "13.73       1\n",
       "14.74       1\n",
       "53.10       1\n",
       "16.74       1\n",
       "Name: kitchen_area, Length: 971, dtype: int64"
      ]
     },
     "execution_count": 17,
     "metadata": {},
     "output_type": "execute_result"
    }
   ],
   "source": [
    "#Столбец \"Площадь кухни\"\n",
    "df.kitchen_area.value_counts()       "
   ]
  },
  {
   "cell_type": "code",
   "execution_count": 18,
   "metadata": {},
   "outputs": [
    {
     "data": {
      "text/plain": [
       "1.0    4195\n",
       "0.0    3758\n",
       "2.0    3659\n",
       "5.0     304\n",
       "4.0     183\n",
       "3.0      81\n",
       "Name: balcony, dtype: int64"
      ]
     },
     "execution_count": 18,
     "metadata": {},
     "output_type": "execute_result"
    }
   ],
   "source": [
    "#Столбец \"число балконов\"\n",
    "df.balcony.value_counts()"
   ]
  },
  {
   "cell_type": "code",
   "execution_count": 19,
   "metadata": {},
   "outputs": [
    {
     "data": {
      "text/plain": [
       "Санкт-Петербург            15721\n",
       "посёлок Мурино               522\n",
       "посёлок Шушары               440\n",
       "Всеволожск                   398\n",
       "Пушкин                       369\n",
       "                           ...  \n",
       "посёлок Коробицыно             1\n",
       "деревня Трубников Бор          1\n",
       "деревня Пчева                  1\n",
       "поселок станции Корнево        1\n",
       "поселок Жилпосёлок             1\n",
       "Name: locality_name, Length: 364, dtype: int64"
      ]
     },
     "execution_count": 19,
     "metadata": {},
     "output_type": "execute_result"
    }
   ],
   "source": [
    "#Столбец \"название населенного пункта\"\n",
    "df.locality_name.value_counts()    "
   ]
  },
  {
   "cell_type": "code",
   "execution_count": 20,
   "metadata": {},
   "outputs": [
    {
     "data": {
      "text/plain": [
       "37434.0    61\n",
       "21928.0    32\n",
       "39946.0    30\n",
       "44870.0    30\n",
       "18732.0    27\n",
       "           ..\n",
       "53478.0     1\n",
       "20335.0     1\n",
       "33699.0     1\n",
       "26945.0     1\n",
       "20875.0     1\n",
       "Name: airports_nearest, Length: 8275, dtype: int64"
      ]
     },
     "execution_count": 20,
     "metadata": {},
     "output_type": "execute_result"
    }
   ],
   "source": [
    "#Столбец \"расстояние до ближайшего аэропорта в метрах\"\n",
    "df.airports_nearest.value_counts()  "
   ]
  },
  {
   "cell_type": "code",
   "execution_count": 21,
   "metadata": {},
   "outputs": [
    {
     "data": {
      "text/plain": [
       "8460.0     61\n",
       "20802.0    32\n",
       "10720.0    30\n",
       "8434.0     27\n",
       "20444.0    27\n",
       "           ..\n",
       "5278.0      1\n",
       "11575.0     1\n",
       "3205.0      1\n",
       "12747.0     1\n",
       "4234.0      1\n",
       "Name: cityCenters_nearest, Length: 7642, dtype: int64"
      ]
     },
     "execution_count": 21,
     "metadata": {},
     "output_type": "execute_result"
    }
   ],
   "source": [
    "#Столбец \"расстояние до центра города в метрах\"\n",
    "df.cityCenters_nearest.value_counts()  "
   ]
  },
  {
   "cell_type": "code",
   "execution_count": 22,
   "metadata": {},
   "outputs": [
    {
     "data": {
      "text/plain": [
       "0.0    10106\n",
       "1.0     5681\n",
       "2.0     1747\n",
       "3.0      647\n",
       "Name: parks_around3000, dtype: int64"
      ]
     },
     "execution_count": 22,
     "metadata": {},
     "output_type": "execute_result"
    }
   ],
   "source": [
    "#Столбец \"число парков в радиусе 3км\"\n",
    "df.parks_around3000.value_counts()    "
   ]
  },
  {
   "cell_type": "code",
   "execution_count": 23,
   "metadata": {},
   "outputs": [
    {
     "data": {
      "text/plain": [
       "441.0     67\n",
       "392.0     41\n",
       "173.0     41\n",
       "456.0     40\n",
       "471.0     32\n",
       "          ..\n",
       "2489.0     1\n",
       "786.0      1\n",
       "793.0      1\n",
       "92.0       1\n",
       "929.0      1\n",
       "Name: parks_nearest, Length: 995, dtype: int64"
      ]
     },
     "execution_count": 23,
     "metadata": {},
     "output_type": "execute_result"
    }
   ],
   "source": [
    "#Столбец \"Расстояние до ближайшего парка в метрах\"\n",
    "df.parks_nearest.value_counts()    "
   ]
  },
  {
   "cell_type": "code",
   "execution_count": 24,
   "metadata": {},
   "outputs": [
    {
     "data": {
      "text/plain": [
       "0.0    9071\n",
       "1.0    5717\n",
       "2.0    1892\n",
       "3.0    1501\n",
       "Name: ponds_around3000, dtype: int64"
      ]
     },
     "execution_count": 24,
     "metadata": {},
     "output_type": "execute_result"
    }
   ],
   "source": [
    "#Столбец \"Число водоемов в радиусе 3км\"\n",
    "df.ponds_around3000.value_counts()      "
   ]
  },
  {
   "cell_type": "code",
   "execution_count": 25,
   "metadata": {},
   "outputs": [
    {
     "data": {
      "text/plain": [
       "427.0     70\n",
       "454.0     41\n",
       "153.0     40\n",
       "433.0     39\n",
       "564.0     37\n",
       "          ..\n",
       "1075.0     1\n",
       "74.0       1\n",
       "1236.0     1\n",
       "395.0      1\n",
       "995.0      1\n",
       "Name: ponds_nearest, Length: 1096, dtype: int64"
      ]
     },
     "execution_count": 25,
     "metadata": {},
     "output_type": "execute_result"
    }
   ],
   "source": [
    "#Столбец \"Расстояние до ближайшего водоема в метрах\"\n",
    "df.ponds_nearest.value_counts()    "
   ]
  },
  {
   "cell_type": "code",
   "execution_count": 26,
   "metadata": {},
   "outputs": [
    {
     "data": {
      "text/plain": [
       "45.0      880\n",
       "60.0      538\n",
       "7.0       234\n",
       "30.0      208\n",
       "90.0      204\n",
       "         ... \n",
       "969.0       1\n",
       "1.0         1\n",
       "1147.0      1\n",
       "1148.0      1\n",
       "1174.0      1\n",
       "Name: days_exposition, Length: 1141, dtype: int64"
      ]
     },
     "execution_count": 26,
     "metadata": {},
     "output_type": "execute_result"
    }
   ],
   "source": [
    "#Столбец \"Cколько дней было размещено объявление(от публикации до снятия)\"\n",
    "df.days_exposition.value_counts()   "
   ]
  },
  {
   "cell_type": "code",
   "execution_count": 27,
   "metadata": {},
   "outputs": [
    {
     "data": {
      "text/plain": [
       "total_images                0\n",
       "last_price                  0\n",
       "total_area                  0\n",
       "first_day_exposition        0\n",
       "rooms                       0\n",
       "ceiling_height           9195\n",
       "floors_total               86\n",
       "living_area              1903\n",
       "floor                       0\n",
       "is_apartment            20924\n",
       "studio                      0\n",
       "open_plan                   0\n",
       "kitchen_area             2278\n",
       "balcony                 11519\n",
       "locality_name              49\n",
       "airports_nearest         5542\n",
       "cityCenters_nearest      5519\n",
       "parks_around3000         5518\n",
       "parks_nearest           15620\n",
       "ponds_around3000         5518\n",
       "ponds_nearest           14589\n",
       "days_exposition          3181\n",
       "dtype: int64"
      ]
     },
     "execution_count": 27,
     "metadata": {},
     "output_type": "execute_result"
    }
   ],
   "source": [
    "#Посмотрим сколько у нас имеются пустых значений\n",
    "df.isna().sum()"
   ]
  },
  {
   "cell_type": "code",
   "execution_count": 28,
   "metadata": {},
   "outputs": [
    {
     "data": {
      "text/plain": [
       "0"
      ]
     },
     "execution_count": 28,
     "metadata": {},
     "output_type": "execute_result"
    }
   ],
   "source": [
    "#Посмотрим имеются ли в таблице повторяющиеся строки\n",
    "df.duplicated().sum()"
   ]
  },
  {
   "cell_type": "markdown",
   "metadata": {},
   "source": [
    "### Вывод"
   ]
  },
  {
   "cell_type": "markdown",
   "metadata": {},
   "source": [
    "<div class=\"alert alert-info\"> <b>Комментарий студента:</b> \n",
    "    \n",
    "- Изучив полученные данные, мы можем видеть, что наш датасет состоит из 23699 строк, имеются незаполненные строки.\n",
    "    \n",
    "- Имеются столбцы, где нужно будет исправить их типы данных для дальшейнего использования в нашем анализе\n",
    "Для удобства анализа сократим **['last_price']** до млн , чтобы удобно было проводить расчеты и исключить огромные цифры.\n",
    "    \n",
    "- Столбец **['first_day_exposition']** нужно будет перевести в правильный формат через to_datetime\n",
    "    \n",
    "- **['locality_name']** - привести к нижнему регистру и изучить на повторяющиеся по смыслу названия, чтобы исключить повторения\n",
    "    \n",
    "- Повторяющихся строк(дубликатов) в таблице нет\n",
    "    \n",
    "- Имеются пустые значения в столбцах, с которыми мы будем проводить анализ : ceiling_height, floors_total, living_area, kitchen_area и др. Поэтому нужно будет из заполнить методом fillna()</div>"
   ]
  },
  {
   "cell_type": "markdown",
   "metadata": {},
   "source": [
    "## Предобработка данных"
   ]
  },
  {
   "cell_type": "code",
   "execution_count": 29,
   "metadata": {},
   "outputs": [
    {
     "data": {
      "text/plain": [
       "0       2019-03-07\n",
       "1       2018-12-04\n",
       "2       2015-08-20\n",
       "3       2015-07-24\n",
       "4       2018-06-19\n",
       "           ...    \n",
       "23694   2017-03-21\n",
       "23695   2018-01-15\n",
       "23696   2018-02-11\n",
       "23697   2017-03-28\n",
       "23698   2017-07-21\n",
       "Name: first_day_exposition, Length: 23699, dtype: datetime64[ns]"
      ]
     },
     "execution_count": 29,
     "metadata": {},
     "output_type": "execute_result"
    }
   ],
   "source": [
    "#Переведем столбец first_day_exposition в тип данных datetime \n",
    "df['first_day_exposition'] = pd.to_datetime(df['first_day_exposition'])\n",
    "df['first_day_exposition']"
   ]
  },
  {
   "cell_type": "code",
   "execution_count": 30,
   "metadata": {},
   "outputs": [
    {
     "data": {
      "text/plain": [
       "санкт-петербург                   15721\n",
       "посёлок мурино                      522\n",
       "посёлок шушары                      440\n",
       "всеволожск                          398\n",
       "пушкин                              369\n",
       "                                  ...  \n",
       "деревня хапо-ое                       1\n",
       "поселок городского типа рябово        1\n",
       "посёлок форт красная горка            1\n",
       "городской посёлок свирьстрой          1\n",
       "коттеджный посёлок лесное             1\n",
       "Name: locality_name, Length: 364, dtype: int64"
      ]
     },
     "execution_count": 30,
     "metadata": {},
     "output_type": "execute_result"
    }
   ],
   "source": [
    "#Приведем к нижнему регистру столбец с названием поселков\n",
    "df.locality_name = df.locality_name.str.lower()\n",
    "df.locality_name.value_counts()"
   ]
  },
  {
   "cell_type": "code",
   "execution_count": 31,
   "metadata": {},
   "outputs": [
    {
     "data": {
      "text/plain": [
       "total_images                0\n",
       "last_price                  0\n",
       "total_area                  0\n",
       "first_day_exposition        0\n",
       "rooms                       0\n",
       "ceiling_height           9195\n",
       "floors_total               86\n",
       "living_area              1903\n",
       "floor                       0\n",
       "is_apartment            20924\n",
       "studio                      0\n",
       "open_plan                   0\n",
       "kitchen_area             2278\n",
       "balcony                 11519\n",
       "locality_name              49\n",
       "airports_nearest         5542\n",
       "cityCenters_nearest      5519\n",
       "parks_around3000         5518\n",
       "parks_nearest           15620\n",
       "ponds_around3000         5518\n",
       "ponds_nearest           14589\n",
       "days_exposition          3181\n",
       "dtype: int64"
      ]
     },
     "execution_count": 31,
     "metadata": {},
     "output_type": "execute_result"
    }
   ],
   "source": [
    "#Посчитаем количество пустых значений в столбцах\n",
    "df.isna().sum()"
   ]
  },
  {
   "cell_type": "code",
   "execution_count": 32,
   "metadata": {},
   "outputs": [],
   "source": [
    "#Заменим пустые значения в столбце is_apartment на False\n",
    "df['is_apartment']=df['is_apartment'].fillna(False)"
   ]
  },
  {
   "cell_type": "code",
   "execution_count": 33,
   "metadata": {},
   "outputs": [],
   "source": [
    "#Переведем сначала в numeric наши столбцы чтобы можно было их перевести в int \n",
    "for column in ['last_price','total_area','ceiling_height',\n",
    "              'floors_total','living_area','kitchen_area','balcony',\n",
    "              'airports_nearest','cityCenters_nearest', 'parks_around3000',\n",
    "              'parks_nearest','ponds_around3000','ponds_nearest',\n",
    "              'days_exposition']:\n",
    "    df[column] = pd.to_numeric(df[column], errors='coerce')"
   ]
  },
  {
   "cell_type": "code",
   "execution_count": 34,
   "metadata": {},
   "outputs": [
    {
     "data": {
      "text/plain": [
       "total_images                     int64\n",
       "last_price                     float64\n",
       "total_area                     float64\n",
       "first_day_exposition    datetime64[ns]\n",
       "rooms                            int64\n",
       "ceiling_height                 float64\n",
       "floors_total                   float64\n",
       "living_area                    float64\n",
       "floor                            int64\n",
       "is_apartment                      bool\n",
       "studio                            bool\n",
       "open_plan                         bool\n",
       "kitchen_area                   float64\n",
       "balcony                        float64\n",
       "locality_name                   object\n",
       "airports_nearest               float64\n",
       "cityCenters_nearest            float64\n",
       "parks_around3000               float64\n",
       "parks_nearest                  float64\n",
       "ponds_around3000               float64\n",
       "ponds_nearest                  float64\n",
       "days_exposition                float64\n",
       "dtype: object"
      ]
     },
     "execution_count": 34,
     "metadata": {},
     "output_type": "execute_result"
    }
   ],
   "source": [
    "#Проверим получилось ли у нас поменять типы данных \n",
    "df.dtypes"
   ]
  },
  {
   "cell_type": "code",
   "execution_count": 35,
   "metadata": {},
   "outputs": [
    {
     "data": {
      "text/plain": [
       "0.0    15277\n",
       "1.0     4195\n",
       "2.0     3659\n",
       "5.0      304\n",
       "4.0      183\n",
       "3.0       81\n",
       "Name: balcony, dtype: int64"
      ]
     },
     "execution_count": 35,
     "metadata": {},
     "output_type": "execute_result"
    }
   ],
   "source": [
    "#Заменим пустые значения в столбце количество балконов на 0\n",
    "df['balcony'] = df['balcony'].fillna(0)\n",
    "df['balcony'].value_counts()"
   ]
  },
  {
   "cell_type": "code",
   "execution_count": 36,
   "metadata": {},
   "outputs": [],
   "source": [
    "#в остальных случаях заменим пустые значения на -1, чтобы потом можно было их срезать или \n",
    "#замениь на другие значения для проведения нашего анализа\n",
    "for column in ['ceiling_height','floors_total','living_area',\n",
    "                'kitchen_area','airports_nearest','cityCenters_nearest',\n",
    "                'parks_around3000','parks_nearest','ponds_around3000',\n",
    "                 'ponds_nearest','days_exposition']:\n",
    "    df[column] = df[column].fillna(-1)"
   ]
  },
  {
   "cell_type": "code",
   "execution_count": 37,
   "metadata": {},
   "outputs": [
    {
     "data": {
      "text/plain": [
       "total_images             0\n",
       "last_price               0\n",
       "total_area               0\n",
       "first_day_exposition     0\n",
       "rooms                    0\n",
       "ceiling_height           0\n",
       "floors_total             0\n",
       "living_area              0\n",
       "floor                    0\n",
       "is_apartment             0\n",
       "studio                   0\n",
       "open_plan                0\n",
       "kitchen_area             0\n",
       "balcony                  0\n",
       "locality_name           49\n",
       "airports_nearest         0\n",
       "cityCenters_nearest      0\n",
       "parks_around3000         0\n",
       "parks_nearest            0\n",
       "ponds_around3000         0\n",
       "ponds_nearest            0\n",
       "days_exposition          0\n",
       "dtype: int64"
      ]
     },
     "execution_count": 37,
     "metadata": {},
     "output_type": "execute_result"
    }
   ],
   "source": [
    "#Проверим заполнились ли пустые значения\n",
    "df.isna().sum()"
   ]
  },
  {
   "cell_type": "code",
   "execution_count": 38,
   "metadata": {},
   "outputs": [],
   "source": [
    "#Изменим большие цифры в last_price на миллионы\n",
    "df['last_price'] = df['last_price']/1000000"
   ]
  },
  {
   "cell_type": "code",
   "execution_count": 39,
   "metadata": {},
   "outputs": [
    {
     "data": {
      "text/plain": [
       "23679    2.50\n",
       "23680    2.50\n",
       "23681    2.50\n",
       "23682    2.50\n",
       "23683    2.50\n",
       "23684    3.00\n",
       "23685    2.50\n",
       "23686    2.55\n",
       "23687    2.50\n",
       "23688    3.05\n",
       "23689    2.86\n",
       "23690    2.50\n",
       "23691    2.75\n",
       "23692    2.50\n",
       "23693    2.60\n",
       "23694    3.70\n",
       "23695    2.50\n",
       "23696    2.50\n",
       "23697    3.00\n",
       "23698    2.50\n",
       "Name: ceiling_height, dtype: float64"
      ]
     },
     "execution_count": 39,
     "metadata": {},
     "output_type": "execute_result"
    }
   ],
   "source": [
    "#заменим наши минусовые значения в столбце высота потолков на медиану \n",
    "#Посмотрим какая медианная высота потолков у нас получилась\n",
    "df['ceiling_height']=df['ceiling_height'].replace(-1, df['ceiling_height'].median())\n",
    "df.ceiling_height.tail(20)"
   ]
  },
  {
   "cell_type": "code",
   "execution_count": 40,
   "metadata": {},
   "outputs": [],
   "source": [
    "#Переведем все значения в int\n",
    "for column in ['last_price','is_apartment','total_area',\n",
    "         'floors_total','living_area','kitchen_area','days_exposition','balcony',\n",
    "         'airports_nearest','cityCenters_nearest','parks_around3000','parks_nearest',\n",
    "         'ponds_around3000','ponds_nearest']:\n",
    "    df[column] = df[column].astype(int, errors='ignore')"
   ]
  },
  {
   "cell_type": "code",
   "execution_count": 41,
   "metadata": {
    "scrolled": true
   },
   "outputs": [
    {
     "data": {
      "text/plain": [
       "total_images                     int64\n",
       "last_price                       int64\n",
       "total_area                       int64\n",
       "first_day_exposition    datetime64[ns]\n",
       "rooms                            int64\n",
       "ceiling_height                 float64\n",
       "floors_total                     int64\n",
       "living_area                      int64\n",
       "floor                            int64\n",
       "is_apartment                     int64\n",
       "studio                            bool\n",
       "open_plan                         bool\n",
       "kitchen_area                     int64\n",
       "balcony                          int64\n",
       "locality_name                   object\n",
       "airports_nearest                 int64\n",
       "cityCenters_nearest              int64\n",
       "parks_around3000                 int64\n",
       "parks_nearest                    int64\n",
       "ponds_around3000                 int64\n",
       "ponds_nearest                    int64\n",
       "days_exposition                  int64\n",
       "dtype: object"
      ]
     },
     "execution_count": 41,
     "metadata": {},
     "output_type": "execute_result"
    }
   ],
   "source": [
    "#Проверим получилось ли у нас поменять типы данных и заполнить пустые значения\n",
    "df.dtypes"
   ]
  },
  {
   "cell_type": "markdown",
   "metadata": {},
   "source": [
    " <div class=\"alert alert-info\"> <b>Комментарий студента:</b> \n",
    "Вывод: \n",
    "\n",
    "1)Перевели столбец first_day_exposition в тип данных datetime; \n",
    "    \n",
    "2)Привели к нижнему регистру столбец с названием поселков - locality_name; Так как наши столбцы с данными были многие типа *object* пришлось методом *to_numeric* первести в формат float заменив пустые значения на NaN;\n",
    "    \n",
    "3)Пустые значения в балконах заменили на 0; Так же в столбце is_apartment - добавили значение False; \n",
    "    \n",
    "4) Посчитали количество пустых значений и заменили их на -1 , чтобы в будущем анализе было легче провести срез;\n",
    "    \n",
    "5) Перевели наши столбцы в формат *int* и в столбце last_price данные разделили на 1 млн, чтобы избежать огромных чисел в наших расчетах. в будущем цены в столбце last_price указаны в млн.fillna()</div>"
   ]
  },
  {
   "cell_type": "markdown",
   "metadata": {},
   "source": [
    "## Расчёты и добавление результатов в таблицу"
   ]
  },
  {
   "cell_type": "code",
   "execution_count": 42,
   "metadata": {},
   "outputs": [],
   "source": [
    "#коментарии к нижеизложенному: Изучим следующие параметры : площадь, цена, число комнат, высота потолков"
   ]
  },
  {
   "cell_type": "code",
   "execution_count": 43,
   "metadata": {},
   "outputs": [],
   "source": [
    "#Добавим столбец с ценой за квадратный метр\n",
    "df['price_per_meter'] = (df['last_price']/df['total_area'])*1000000"
   ]
  },
  {
   "cell_type": "code",
   "execution_count": 44,
   "metadata": {},
   "outputs": [],
   "source": [
    "#Напишем функцию, которая будет определять этаж на котором расположена квартира (первый, последний, другой)\n",
    "def floor_table(floor,floors_total):\n",
    "    if floor == 1:\n",
    "        return 'первый'\n",
    "    if floor == floors_total:\n",
    "        return 'последний'\n",
    "    else:\n",
    "        return 'другой'"
   ]
  },
  {
   "cell_type": "code",
   "execution_count": 45,
   "metadata": {},
   "outputs": [],
   "source": [
    "#методом apply передадим данные столбцов в нашу функцию floor_table\n",
    "df['floor_is'] = df.apply(lambda x: floor_table(x.floor, x.floors_total), axis=1)"
   ]
  },
  {
   "cell_type": "code",
   "execution_count": 46,
   "metadata": {},
   "outputs": [],
   "source": [
    "#Создадим столбцы соотношения жилой площади к общей площади и площади кухни к общей площади\n",
    "df['ratio_area'] = df['living_area']/df['total_area']\n",
    "df['ratio_kitchen'] = df['kitchen_area']/df['total_area']"
   ]
  },
  {
   "cell_type": "code",
   "execution_count": 47,
   "metadata": {},
   "outputs": [],
   "source": [
    "#день недели, месяц и год публикации\n",
    "#df['published_day'] = pd.DatetimeIndex(df['first_day_exposition']).day\n",
    "df['published_day'] = df['first_day_exposition'].dt.weekday\n",
    "df['published_month'] = pd.DatetimeIndex(df['first_day_exposition']).month\n",
    "df['published_year'] = pd.DatetimeIndex(df['first_day_exposition']).year"
   ]
  },
  {
   "cell_type": "code",
   "execution_count": 48,
   "metadata": {},
   "outputs": [
    {
     "data": {
      "text/html": [
       "<div>\n",
       "<style scoped>\n",
       "    .dataframe tbody tr th:only-of-type {\n",
       "        vertical-align: middle;\n",
       "    }\n",
       "\n",
       "    .dataframe tbody tr th {\n",
       "        vertical-align: top;\n",
       "    }\n",
       "\n",
       "    .dataframe thead th {\n",
       "        text-align: right;\n",
       "    }\n",
       "</style>\n",
       "<table border=\"1\" class=\"dataframe\">\n",
       "  <thead>\n",
       "    <tr style=\"text-align: right;\">\n",
       "      <th></th>\n",
       "      <th>total_images</th>\n",
       "      <th>last_price</th>\n",
       "      <th>total_area</th>\n",
       "      <th>first_day_exposition</th>\n",
       "      <th>rooms</th>\n",
       "      <th>ceiling_height</th>\n",
       "      <th>floors_total</th>\n",
       "      <th>living_area</th>\n",
       "      <th>floor</th>\n",
       "      <th>is_apartment</th>\n",
       "      <th>...</th>\n",
       "      <th>ponds_around3000</th>\n",
       "      <th>ponds_nearest</th>\n",
       "      <th>days_exposition</th>\n",
       "      <th>price_per_meter</th>\n",
       "      <th>floor_is</th>\n",
       "      <th>ratio_area</th>\n",
       "      <th>ratio_kitchen</th>\n",
       "      <th>published_day</th>\n",
       "      <th>published_month</th>\n",
       "      <th>published_year</th>\n",
       "    </tr>\n",
       "  </thead>\n",
       "  <tbody>\n",
       "    <tr>\n",
       "      <th>0</th>\n",
       "      <td>20</td>\n",
       "      <td>13</td>\n",
       "      <td>108</td>\n",
       "      <td>2019-03-07</td>\n",
       "      <td>3</td>\n",
       "      <td>2.70</td>\n",
       "      <td>16</td>\n",
       "      <td>51</td>\n",
       "      <td>8</td>\n",
       "      <td>0</td>\n",
       "      <td>...</td>\n",
       "      <td>2</td>\n",
       "      <td>755</td>\n",
       "      <td>-1</td>\n",
       "      <td>120370.370370</td>\n",
       "      <td>другой</td>\n",
       "      <td>0.472222</td>\n",
       "      <td>0.231481</td>\n",
       "      <td>3</td>\n",
       "      <td>3</td>\n",
       "      <td>2019</td>\n",
       "    </tr>\n",
       "    <tr>\n",
       "      <th>1</th>\n",
       "      <td>7</td>\n",
       "      <td>3</td>\n",
       "      <td>40</td>\n",
       "      <td>2018-12-04</td>\n",
       "      <td>1</td>\n",
       "      <td>2.50</td>\n",
       "      <td>11</td>\n",
       "      <td>18</td>\n",
       "      <td>1</td>\n",
       "      <td>0</td>\n",
       "      <td>...</td>\n",
       "      <td>0</td>\n",
       "      <td>-1</td>\n",
       "      <td>81</td>\n",
       "      <td>75000.000000</td>\n",
       "      <td>первый</td>\n",
       "      <td>0.450000</td>\n",
       "      <td>0.275000</td>\n",
       "      <td>1</td>\n",
       "      <td>12</td>\n",
       "      <td>2018</td>\n",
       "    </tr>\n",
       "    <tr>\n",
       "      <th>2</th>\n",
       "      <td>10</td>\n",
       "      <td>5</td>\n",
       "      <td>56</td>\n",
       "      <td>2015-08-20</td>\n",
       "      <td>2</td>\n",
       "      <td>2.50</td>\n",
       "      <td>5</td>\n",
       "      <td>34</td>\n",
       "      <td>4</td>\n",
       "      <td>0</td>\n",
       "      <td>...</td>\n",
       "      <td>2</td>\n",
       "      <td>574</td>\n",
       "      <td>558</td>\n",
       "      <td>89285.714286</td>\n",
       "      <td>другой</td>\n",
       "      <td>0.607143</td>\n",
       "      <td>0.142857</td>\n",
       "      <td>3</td>\n",
       "      <td>8</td>\n",
       "      <td>2015</td>\n",
       "    </tr>\n",
       "    <tr>\n",
       "      <th>3</th>\n",
       "      <td>0</td>\n",
       "      <td>64</td>\n",
       "      <td>159</td>\n",
       "      <td>2015-07-24</td>\n",
       "      <td>3</td>\n",
       "      <td>2.50</td>\n",
       "      <td>14</td>\n",
       "      <td>-1</td>\n",
       "      <td>9</td>\n",
       "      <td>0</td>\n",
       "      <td>...</td>\n",
       "      <td>3</td>\n",
       "      <td>234</td>\n",
       "      <td>424</td>\n",
       "      <td>402515.723270</td>\n",
       "      <td>другой</td>\n",
       "      <td>-0.006289</td>\n",
       "      <td>-0.006289</td>\n",
       "      <td>4</td>\n",
       "      <td>7</td>\n",
       "      <td>2015</td>\n",
       "    </tr>\n",
       "    <tr>\n",
       "      <th>4</th>\n",
       "      <td>2</td>\n",
       "      <td>10</td>\n",
       "      <td>100</td>\n",
       "      <td>2018-06-19</td>\n",
       "      <td>2</td>\n",
       "      <td>3.03</td>\n",
       "      <td>14</td>\n",
       "      <td>32</td>\n",
       "      <td>13</td>\n",
       "      <td>0</td>\n",
       "      <td>...</td>\n",
       "      <td>1</td>\n",
       "      <td>48</td>\n",
       "      <td>121</td>\n",
       "      <td>100000.000000</td>\n",
       "      <td>другой</td>\n",
       "      <td>0.320000</td>\n",
       "      <td>0.410000</td>\n",
       "      <td>1</td>\n",
       "      <td>6</td>\n",
       "      <td>2018</td>\n",
       "    </tr>\n",
       "  </tbody>\n",
       "</table>\n",
       "<p>5 rows × 29 columns</p>\n",
       "</div>"
      ],
      "text/plain": [
       "   total_images  last_price  total_area first_day_exposition  rooms  \\\n",
       "0            20          13         108           2019-03-07      3   \n",
       "1             7           3          40           2018-12-04      1   \n",
       "2            10           5          56           2015-08-20      2   \n",
       "3             0          64         159           2015-07-24      3   \n",
       "4             2          10         100           2018-06-19      2   \n",
       "\n",
       "   ceiling_height  floors_total  living_area  floor  is_apartment  ...  \\\n",
       "0            2.70            16           51      8             0  ...   \n",
       "1            2.50            11           18      1             0  ...   \n",
       "2            2.50             5           34      4             0  ...   \n",
       "3            2.50            14           -1      9             0  ...   \n",
       "4            3.03            14           32     13             0  ...   \n",
       "\n",
       "   ponds_around3000  ponds_nearest  days_exposition  price_per_meter floor_is  \\\n",
       "0                 2            755               -1    120370.370370   другой   \n",
       "1                 0             -1               81     75000.000000   первый   \n",
       "2                 2            574              558     89285.714286   другой   \n",
       "3                 3            234              424    402515.723270   другой   \n",
       "4                 1             48              121    100000.000000   другой   \n",
       "\n",
       "   ratio_area  ratio_kitchen  published_day  published_month  published_year  \n",
       "0    0.472222       0.231481              3                3            2019  \n",
       "1    0.450000       0.275000              1               12            2018  \n",
       "2    0.607143       0.142857              3                8            2015  \n",
       "3   -0.006289      -0.006289              4                7            2015  \n",
       "4    0.320000       0.410000              1                6            2018  \n",
       "\n",
       "[5 rows x 29 columns]"
      ]
     },
     "execution_count": 48,
     "metadata": {},
     "output_type": "execute_result"
    }
   ],
   "source": [
    "df.head()"
   ]
  },
  {
   "cell_type": "markdown",
   "metadata": {},
   "source": [
    "<div class=\"alert alert-info\"> <b>Комментарий студента:</b> \n",
    "    \n",
    "Вывод : \n",
    "    \n",
    "1) Добавил необходимые столбцы такие как price_per_meter(цена за квадратный метр) ,ratio_area (соотношение жилой площади к общей площади), ration_kitchen(соотношение кухни на общую площадь) и добавили столбцы с днем, месяцем и годом публикации. fillna()</div>"
   ]
  },
  {
   "cell_type": "markdown",
   "metadata": {},
   "source": [
    "## Исследовательский анализ данных"
   ]
  },
  {
   "cell_type": "code",
   "execution_count": 49,
   "metadata": {
    "scrolled": true
   },
   "outputs": [
    {
     "data": {
      "image/png": "[encoded data removed]",
      "text/plain": [
       "<Figure size 720x360 with 1 Axes>"
      ]
     },
     "metadata": {
      "needs_background": "light"
     },
     "output_type": "display_data"
    },
    {
     "name": "stdout",
     "output_type": "stream",
     "text": [
      "count    23699.000000\n",
      "mean         6.053040\n",
      "std         10.914448\n",
      "min          0.000000\n",
      "25%          3.000000\n",
      "50%          4.000000\n",
      "75%          6.000000\n",
      "max        763.000000\n",
      "Name: last_price, dtype: float64\n"
     ]
    },
    {
     "data": {
      "image/png": "[encoded data removed]",
      "text/plain": [
       "<Figure size 720x360 with 1 Axes>"
      ]
     },
     "metadata": {
      "needs_background": "light"
     },
     "output_type": "display_data"
    },
    {
     "name": "stdout",
     "output_type": "stream",
     "text": [
      "count    23699.000000\n",
      "mean        60.120511\n",
      "std         35.665822\n",
      "min         12.000000\n",
      "25%         40.000000\n",
      "50%         52.000000\n",
      "75%         69.000000\n",
      "max        900.000000\n",
      "Name: total_area, dtype: float64\n"
     ]
    },
    {
     "data": {
      "image/png": "[encoded data removed]",
      "text/plain": [
       "<Figure size 720x360 with 1 Axes>"
      ]
     },
     "metadata": {
      "needs_background": "light"
     },
     "output_type": "display_data"
    },
    {
     "name": "stdout",
     "output_type": "stream",
     "text": [
      "count    23699.000000\n",
      "mean         2.070636\n",
      "std          1.078405\n",
      "min          0.000000\n",
      "25%          1.000000\n",
      "50%          2.000000\n",
      "75%          3.000000\n",
      "max         19.000000\n",
      "Name: rooms, dtype: float64\n"
     ]
    },
    {
     "data": {
      "image/png": "[encoded data removed]",
      "text/plain": [
       "<Figure size 720x360 with 1 Axes>"
      ]
     },
     "metadata": {
      "needs_background": "light"
     },
     "output_type": "display_data"
    },
    {
     "name": "stdout",
     "output_type": "stream",
     "text": [
      "count    23699.000000\n",
      "mean         2.666160\n",
      "std          0.995355\n",
      "min          1.000000\n",
      "25%          2.500000\n",
      "50%          2.500000\n",
      "75%          2.700000\n",
      "max        100.000000\n",
      "Name: ceiling_height, dtype: float64\n"
     ]
    },
    {
     "data": {
      "image/png": "[encoded data removed]",
      "text/plain": [
       "<Figure size 720x360 with 1 Axes>"
      ]
     },
     "metadata": {
      "needs_background": "light"
     },
     "output_type": "display_data"
    },
    {
     "name": "stdout",
     "output_type": "stream",
     "text": [
      "count    23699.000000\n",
      "mean       156.474619\n",
      "std        213.645563\n",
      "min         -1.000000\n",
      "25%         22.000000\n",
      "50%         74.000000\n",
      "75%        199.000000\n",
      "max       1580.000000\n",
      "Name: days_exposition, dtype: float64\n"
     ]
    }
   ],
   "source": [
    "#Построим наши гистограммы с помощью цикла, для гистограмм возьмем столбцы цену, площадь, \n",
    "#кол-во комнат, высоту потолков и время продажи\n",
    "for columns in df[['last_price','total_area','rooms','ceiling_height','days_exposition']]:\n",
    "    range_max = df[columns].max()\n",
    "    range_min = df[columns].min()\n",
    "    df[columns].hist(bins=30, range=(range_min, range_max), figsize=(10,5))\n",
    "    plt.title(columns, fontsize=15)\n",
    "    plt.show()\n",
    "    print(df[columns].describe())"
   ]
  },
  {
   "cell_type": "code",
   "execution_count": 50,
   "metadata": {},
   "outputs": [
    {
     "data": {
      "image/png": "[encoded data removed]",
      "text/plain": [
       "<Figure size 720x360 with 1 Axes>"
      ]
     },
     "metadata": {
      "needs_background": "light"
     },
     "output_type": "display_data"
    },
    {
     "name": "stdout",
     "output_type": "stream",
     "text": [
      "count    23699.000000\n",
      "mean         6.053040\n",
      "std         10.914448\n",
      "min          0.000000\n",
      "25%          3.000000\n",
      "50%          4.000000\n",
      "75%          6.000000\n",
      "max        763.000000\n",
      "Name: last_price, dtype: float64\n"
     ]
    },
    {
     "data": {
      "image/png": "[encoded data removed]",
      "text/plain": [
       "<Figure size 720x360 with 1 Axes>"
      ]
     },
     "metadata": {
      "needs_background": "light"
     },
     "output_type": "display_data"
    },
    {
     "name": "stdout",
     "output_type": "stream",
     "text": [
      "count    23699.000000\n",
      "mean        60.120511\n",
      "std         35.665822\n",
      "min         12.000000\n",
      "25%         40.000000\n",
      "50%         52.000000\n",
      "75%         69.000000\n",
      "max        900.000000\n",
      "Name: total_area, dtype: float64\n"
     ]
    },
    {
     "data": {
      "image/png": "[encoded data removed]",
      "text/plain": [
       "<Figure size 720x360 with 1 Axes>"
      ]
     },
     "metadata": {
      "needs_background": "light"
     },
     "output_type": "display_data"
    },
    {
     "name": "stdout",
     "output_type": "stream",
     "text": [
      "count    23699.000000\n",
      "mean         2.070636\n",
      "std          1.078405\n",
      "min          0.000000\n",
      "25%          1.000000\n",
      "50%          2.000000\n",
      "75%          3.000000\n",
      "max         19.000000\n",
      "Name: rooms, dtype: float64\n"
     ]
    },
    {
     "data": {
      "image/png": "[encoded data removed]",
      "text/plain": [
       "<Figure size 720x360 with 1 Axes>"
      ]
     },
     "metadata": {
      "needs_background": "light"
     },
     "output_type": "display_data"
    },
    {
     "name": "stdout",
     "output_type": "stream",
     "text": [
      "count    23699.000000\n",
      "mean         2.666160\n",
      "std          0.995355\n",
      "min          1.000000\n",
      "25%          2.500000\n",
      "50%          2.500000\n",
      "75%          2.700000\n",
      "max        100.000000\n",
      "Name: ceiling_height, dtype: float64\n"
     ]
    },
    {
     "data": {
      "image/png": "[encoded data removed]",
      "text/plain": [
       "<Figure size 720x360 with 1 Axes>"
      ]
     },
     "metadata": {
      "needs_background": "light"
     },
     "output_type": "display_data"
    },
    {
     "name": "stdout",
     "output_type": "stream",
     "text": [
      "count    23699.000000\n",
      "mean       156.474619\n",
      "std        213.645563\n",
      "min         -1.000000\n",
      "25%         22.000000\n",
      "50%         74.000000\n",
      "75%        199.000000\n",
      "max       1580.000000\n",
      "Name: days_exposition, dtype: float64\n"
     ]
    }
   ],
   "source": [
    "#Построим наши гистограммы с помощью цикла, для гистограмм возьмем столбцы цену, площадь, \n",
    "#кол-во комнат, высоту потолков и время продажи\n",
    "for columns in df[['last_price','total_area','rooms','ceiling_height','days_exposition']]:\n",
    "    range_max = df[columns].max()\n",
    "    range_min = df[columns].min()\n",
    "    df[columns].hist(bins=30, range=(range_min, range_max), figsize=(10,5))\n",
    "    plt.title(columns, fontsize=15)\n",
    "    plt.show()\n",
    "    print(df[columns].describe())"
   ]
  },
  {
   "cell_type": "code",
   "execution_count": 51,
   "metadata": {},
   "outputs": [
    {
     "data": {
      "image/png": "[encoded data removed]",
      "text/plain": [
       "<Figure size 576x360 with 1 Axes>"
      ]
     },
     "metadata": {
      "needs_background": "light"
     },
     "output_type": "display_data"
    }
   ],
   "source": [
    "#Поиск аномалий с boxplot в столбце total_area\n",
    "plt.figure(figsize=(8, 5))\n",
    "df.boxplot(column='total_area')\n",
    "plt.title('Поиск аномалий в total_area', fontsize=15)\n",
    "plt.ylim(0, 150)\n",
    "plt.show()      "
   ]
  },
  {
   "cell_type": "code",
   "execution_count": 52,
   "metadata": {},
   "outputs": [
    {
     "data": {
      "image/png": "[encoded data removed]",
      "text/plain": [
       "<Figure size 576x360 with 1 Axes>"
      ]
     },
     "metadata": {
      "needs_background": "light"
     },
     "output_type": "display_data"
    }
   ],
   "source": [
    "#Поиск аномалий с boxplot в столбце rooms\n",
    "plt.figure(figsize=(8, 5))\n",
    "df.boxplot(column='rooms')\n",
    "plt.title('Поиск аномалий в rooms', fontsize=15)\n",
    "plt.ylim(-1, 7)\n",
    "plt.show()      "
   ]
  },
  {
   "cell_type": "code",
   "execution_count": 53,
   "metadata": {},
   "outputs": [
    {
     "data": {
      "image/png": "[encoded data removed]",
      "text/plain": [
       "<Figure size 576x360 with 1 Axes>"
      ]
     },
     "metadata": {
      "needs_background": "light"
     },
     "output_type": "display_data"
    }
   ],
   "source": [
    "#Поиск аномалий с boxplot в столбце ceiling_height\n",
    "plt.figure(figsize=(8, 5))\n",
    "df.boxplot(column='ceiling_height')\n",
    "plt.title('Поиск аномалий в ceiling_height', fontsize=15)\n",
    "plt.ylim(0, 5)\n",
    "plt.show()    "
   ]
  },
  {
   "cell_type": "code",
   "execution_count": 54,
   "metadata": {},
   "outputs": [
    {
     "data": {
      "image/png": "[encoded data removed]",
      "text/plain": [
       "<Figure size 576x360 with 1 Axes>"
      ]
     },
     "metadata": {
      "needs_background": "light"
     },
     "output_type": "display_data"
    }
   ],
   "source": [
    "#Поиск аномалий с boxplot в столбце days_exposition\n",
    "plt.figure(figsize=(8, 5))\n",
    "df.boxplot(column='days_exposition')\n",
    "plt.title('Поиск аномалий в days_exposition', fontsize=15)\n",
    "plt.ylim(-10,500)\n",
    "plt.show()      "
   ]
  },
  {
   "cell_type": "code",
   "execution_count": 55,
   "metadata": {},
   "outputs": [],
   "source": [
    "#Проведем срезы по нашим таблицам исходя из аномалий и сразу\n",
    "#посчитаем процент данных, которые мы срезали\n",
    "\n",
    "last_price_slice = df.query('1 <= last_price <= 10')\n",
    "last_price_slice_percent = (last_price_slice.count() / df['last_price'].count())\n",
    "\n",
    "total_area_slice = df.query('10 <= total_area <= 110')\n",
    "total_area_slice_percent = (total_area_slice.count() / df['total_area'].count())\n",
    "\n",
    "rooms_slice = df.query('1 <= rooms <= 6')\n",
    "rooms_slice_percent = (rooms_slice.count() / df['rooms'].count())\n",
    "\n",
    "ceiling_height_slice = df.query('2 < ceiling_height < 3')\n",
    "ceiling_height_slice_percent = (ceiling_height_slice.count() / df['ceiling_height'].count())\n",
    "\n",
    "days_exposition_slice = df.query('22 <= days_exposition <= 450 ')\n",
    "days_exposition_slice_percent = (days_exposition_slice.count() / df['days_exposition'].count())"
   ]
  },
  {
   "cell_type": "code",
   "execution_count": 56,
   "metadata": {},
   "outputs": [
    {
     "name": "stdout",
     "output_type": "stream",
     "text": [
      "Под срез со столбца last_price ушло данных: 89%\n",
      "Под срез со столбца total_area ушло данных: 94%\n",
      "Под срез со столбца rooms ушло данных: 99%\n",
      "Под срез со столбца ceiling_height ушло данных: 89%\n",
      "Под срез со столбца days_exposition ушло данных: 67%\n"
     ]
    }
   ],
   "source": [
    "#Процент среза по столбцу last_price\n",
    "print('Под срез со столбца last_price ушло данных: {:.0%}'.format(last_price_slice_percent['last_price']))\n",
    "print('Под срез со столбца total_area ушло данных: {:.0%}'.format(total_area_slice_percent['total_area']))\n",
    "print('Под срез со столбца rooms ушло данных: {:.0%}'.format(rooms_slice_percent['rooms']))\n",
    "print('Под срез со столбца ceiling_height ушло данных: {:.0%}'.format(ceiling_height_slice_percent['ceiling_height']))\n",
    "print('Под срез со столбца days_exposition ушло данных: {:.0%}'.format(days_exposition_slice_percent['days_exposition']))"
   ]
  },
  {
   "cell_type": "markdown",
   "metadata": {},
   "source": [
    "<div class=\"alert alert-info\"> <b>Комментарий студента:</b> \n",
    "Вывод : В среднем квартиры продаются по цене 6 млн рублей, с площадью 60 кв. метров, с двумя комнатами и высотой полков 2.6 метров.; Быстрая продажа квартиры занимает до 22 дней. Средняя продажа занимает от 22 дней до 200 дней.; То что больше 200 дней попадает под долгую продажу квартиры; С помощью boxplot провели поиск аномалий и провели срез данных исходя из коробки и усов графика; Посчитали процент среза, который мы провели по столбцам.  fillna()</div>"
   ]
  },
  {
   "cell_type": "markdown",
   "metadata": {},
   "source": [
    "\n",
    "<div class=\"alert alert-info\"> <b>Комментарий студента:</b> коментарии к нижеизложенному : Изучим какие факторы больше всего влияют на стоимость квартиры.; Изучим зависит ли цена от квадратного метра, числа комнат, удаленности от центра. Изучим зависимость цены от того, на каком этаже расположена квартира. Также изучим зависимость от даты размещения. fillna()</div>"
   ]
  },
  {
   "cell_type": "code",
   "execution_count": 57,
   "metadata": {},
   "outputs": [
    {
     "data": {
      "text/plain": [
       "Text(0.5, 1.0, 'Как размер площади влияет на цену квартиры')"
      ]
     },
     "execution_count": 57,
     "metadata": {},
     "output_type": "execute_result"
    },
    {
     "data": {
      "image/png": "[encoded data removed]",
      "text/plain": [
       "<Figure size 864x432 with 1 Axes>"
      ]
     },
     "metadata": {
      "needs_background": "light"
     },
     "output_type": "display_data"
    }
   ],
   "source": [
    "#Посмотрим как влияет размер площади на цену квартиры\n",
    "df.plot(y='last_price',x='total_area',kind='scatter', figsize=(12,6))\n",
    "plt.title('Как размер площади влияет на цену квартиры', fontsize=15)"
   ]
  },
  {
   "cell_type": "code",
   "execution_count": 58,
   "metadata": {},
   "outputs": [
    {
     "data": {
      "text/plain": [
       "0.34778869385140154"
      ]
     },
     "execution_count": 58,
     "metadata": {},
     "output_type": "execute_result"
    }
   ],
   "source": [
    "#Посмотрим корреляцию между площадью и ценой\n",
    "df['total_area'].corr(df['price_per_meter'])"
   ]
  },
  {
   "cell_type": "code",
   "execution_count": 59,
   "metadata": {},
   "outputs": [],
   "source": [
    "# коментарий - Корелляция заметная, чем больше площадь, тем дороже цена"
   ]
  },
  {
   "cell_type": "code",
   "execution_count": 60,
   "metadata": {},
   "outputs": [
    {
     "data": {
      "text/plain": [
       "Text(0.5, 1.0, 'Как количество комнат влияет на цену квартиры')"
      ]
     },
     "execution_count": 60,
     "metadata": {},
     "output_type": "execute_result"
    },
    {
     "data": {
      "image/png": "[encoded data removed]",
      "text/plain": [
       "<Figure size 864x432 with 1 Axes>"
      ]
     },
     "metadata": {
      "needs_background": "light"
     },
     "output_type": "display_data"
    }
   ],
   "source": [
    "#Как количество комнат влияет на цену квартиры\n",
    "df.plot(y='last_price',x='rooms',kind='scatter', figsize=(12,6))\n",
    "plt.title('Как количество комнат влияет на цену квартиры', fontsize=15)"
   ]
  },
  {
   "cell_type": "code",
   "execution_count": 61,
   "metadata": {},
   "outputs": [
    {
     "data": {
      "text/plain": [
       "0.10883166023100684"
      ]
     },
     "execution_count": 61,
     "metadata": {},
     "output_type": "execute_result"
    }
   ],
   "source": [
    "#Посмотрим корелляцию между двумя столбцами\n",
    "df['rooms'].corr(df['price_per_meter'])"
   ]
  },
  {
   "cell_type": "code",
   "execution_count": 62,
   "metadata": {},
   "outputs": [],
   "source": [
    "# коментарий - Корелляция между количеством комнат и ценой умеренная"
   ]
  },
  {
   "cell_type": "code",
   "execution_count": 63,
   "metadata": {},
   "outputs": [
    {
     "data": {
      "text/plain": [
       "Text(0.5, 1.0, 'Как расстояние до центра влияет на цену квартиры')"
      ]
     },
     "execution_count": 63,
     "metadata": {},
     "output_type": "execute_result"
    },
    {
     "data": {
      "image/png": "[encoded data removed]",
      "text/plain": [
       "<Figure size 864x432 with 1 Axes>"
      ]
     },
     "metadata": {
      "needs_background": "light"
     },
     "output_type": "display_data"
    }
   ],
   "source": [
    "#Зависит ли цена квартиры от удаленности от центра\n",
    "df.plot(y='last_price',x='cityCenters_nearest',kind='scatter', figsize=(12,6))\n",
    "plt.title('Как расстояние до центра влияет на цену квартиры', fontsize=15)"
   ]
  },
  {
   "cell_type": "code",
   "execution_count": 64,
   "metadata": {},
   "outputs": [
    {
     "data": {
      "text/plain": [
       "0.031368783813449166"
      ]
     },
     "execution_count": 64,
     "metadata": {},
     "output_type": "execute_result"
    }
   ],
   "source": [
    "#Посмотрим корреляцию между ценой и расстоянием до центра\n",
    "df['cityCenters_nearest'].corr(df['price_per_meter'])"
   ]
  },
  {
   "cell_type": "markdown",
   "metadata": {},
   "source": [
    "<div class=\"alert alert-info\"> <b>Комментарий студента:</b> # коментарий - Чем дальше квартира от центра, тем она дешевле. Корреляция есть, но небольшая, так как большинство наших объявлений находится вдали от центра.  fillna()</div>"
   ]
  },
  {
   "cell_type": "code",
   "execution_count": 65,
   "metadata": {},
   "outputs": [],
   "source": [
    "#Попробуем посмотреть квартира какого этажа стоит дороже\n",
    "selling_floors=pd.pivot_table(df, index='floor_is', values='last_price', aggfunc='mean')"
   ]
  },
  {
   "cell_type": "code",
   "execution_count": 66,
   "metadata": {},
   "outputs": [
    {
     "data": {
      "text/html": [
       "<div>\n",
       "<style scoped>\n",
       "    .dataframe tbody tr th:only-of-type {\n",
       "        vertical-align: middle;\n",
       "    }\n",
       "\n",
       "    .dataframe tbody tr th {\n",
       "        vertical-align: top;\n",
       "    }\n",
       "\n",
       "    .dataframe thead th {\n",
       "        text-align: right;\n",
       "    }\n",
       "</style>\n",
       "<table border=\"1\" class=\"dataframe\">\n",
       "  <thead>\n",
       "    <tr style=\"text-align: right;\">\n",
       "      <th></th>\n",
       "      <th>last_price</th>\n",
       "    </tr>\n",
       "    <tr>\n",
       "      <th>floor_is</th>\n",
       "      <th></th>\n",
       "    </tr>\n",
       "  </thead>\n",
       "  <tbody>\n",
       "    <tr>\n",
       "      <th>другой</th>\n",
       "      <td>6.186117</td>\n",
       "    </tr>\n",
       "    <tr>\n",
       "      <th>первый</th>\n",
       "      <td>4.310936</td>\n",
       "    </tr>\n",
       "    <tr>\n",
       "      <th>последний</th>\n",
       "      <td>6.880396</td>\n",
       "    </tr>\n",
       "  </tbody>\n",
       "</table>\n",
       "</div>"
      ],
      "text/plain": [
       "           last_price\n",
       "floor_is             \n",
       "другой       6.186117\n",
       "первый       4.310936\n",
       "последний    6.880396"
      ]
     },
     "execution_count": 66,
     "metadata": {},
     "output_type": "execute_result"
    }
   ],
   "source": [
    "selling_floors"
   ]
  },
  {
   "cell_type": "code",
   "execution_count": 67,
   "metadata": {},
   "outputs": [
    {
     "data": {
      "text/plain": [
       "Text(0.5, 1.0, 'Квартира на каком этаже стоит дороже/дешевле')"
      ]
     },
     "execution_count": 67,
     "metadata": {},
     "output_type": "execute_result"
    },
    {
     "data": {
      "image/png": "[encoded data removed]",
      "text/plain": [
       "<Figure size 864x432 with 1 Axes>"
      ]
     },
     "metadata": {
      "needs_background": "light"
     },
     "output_type": "display_data"
    }
   ],
   "source": [
    "#Построим график методом plot\n",
    "selling_floors.plot(y='last_price',style='o-', grid=True, figsize=(12,6))\n",
    "plt.title('Квартира на каком этаже стоит дороже/дешевле', fontsize=15)"
   ]
  },
  {
   "cell_type": "code",
   "execution_count": 68,
   "metadata": {},
   "outputs": [
    {
     "data": {
      "text/plain": [
       "0.12302469999941994"
      ]
     },
     "execution_count": 68,
     "metadata": {},
     "output_type": "execute_result"
    }
   ],
   "source": [
    "#Посмотрим корреляцию между floor и price_per_meter\n",
    "df['floor'].corr(df['price_per_meter'])"
   ]
  },
  {
   "cell_type": "code",
   "execution_count": 69,
   "metadata": {},
   "outputs": [],
   "source": [
    "# коментарии - Квартиры расположенные последних этажах стоят дороже, чем квартиры расположенные на других этажах или на первом этаже"
   ]
  },
  {
   "cell_type": "code",
   "execution_count": 70,
   "metadata": {},
   "outputs": [
    {
     "data": {
      "text/html": [
       "<div>\n",
       "<style scoped>\n",
       "    .dataframe tbody tr th:only-of-type {\n",
       "        vertical-align: middle;\n",
       "    }\n",
       "\n",
       "    .dataframe tbody tr th {\n",
       "        vertical-align: top;\n",
       "    }\n",
       "\n",
       "    .dataframe thead th {\n",
       "        text-align: right;\n",
       "    }\n",
       "</style>\n",
       "<table border=\"1\" class=\"dataframe\">\n",
       "  <thead>\n",
       "    <tr style=\"text-align: right;\">\n",
       "      <th></th>\n",
       "      <th>last_price</th>\n",
       "    </tr>\n",
       "    <tr>\n",
       "      <th>published_day</th>\n",
       "      <th></th>\n",
       "    </tr>\n",
       "  </thead>\n",
       "  <tbody>\n",
       "    <tr>\n",
       "      <th>5</th>\n",
       "      <td>6.486054</td>\n",
       "    </tr>\n",
       "    <tr>\n",
       "      <th>3</th>\n",
       "      <td>6.216764</td>\n",
       "    </tr>\n",
       "    <tr>\n",
       "      <th>2</th>\n",
       "      <td>6.144942</td>\n",
       "    </tr>\n",
       "    <tr>\n",
       "      <th>0</th>\n",
       "      <td>6.022702</td>\n",
       "    </tr>\n",
       "    <tr>\n",
       "      <th>1</th>\n",
       "      <td>5.904136</td>\n",
       "    </tr>\n",
       "    <tr>\n",
       "      <th>4</th>\n",
       "      <td>5.877250</td>\n",
       "    </tr>\n",
       "    <tr>\n",
       "      <th>6</th>\n",
       "      <td>5.775750</td>\n",
       "    </tr>\n",
       "  </tbody>\n",
       "</table>\n",
       "</div>"
      ],
      "text/plain": [
       "               last_price\n",
       "published_day            \n",
       "5                6.486054\n",
       "3                6.216764\n",
       "2                6.144942\n",
       "0                6.022702\n",
       "1                5.904136\n",
       "4                5.877250\n",
       "6                5.775750"
      ]
     },
     "execution_count": 70,
     "metadata": {},
     "output_type": "execute_result"
    }
   ],
   "source": [
    "#Заивисит ли цена от дня публикации\n",
    "selling_day=pd.pivot_table(df, index='published_day', values='last_price',)\n",
    "selling_day.sort_values(by='last_price', ascending=False).reindex()"
   ]
  },
  {
   "cell_type": "code",
   "execution_count": 71,
   "metadata": {},
   "outputs": [
    {
     "data": {
      "text/plain": [
       "Text(0.5, 1.0, 'Влияние дня недели на цену квартиры')"
      ]
     },
     "execution_count": 71,
     "metadata": {},
     "output_type": "execute_result"
    },
    {
     "data": {
      "image/png": "[encoded data removed]",
      "text/plain": [
       "<Figure size 864x432 with 1 Axes>"
      ]
     },
     "metadata": {
      "needs_background": "light"
     },
     "output_type": "display_data"
    }
   ],
   "source": [
    "#Построим график \n",
    "selling_day.plot(y='last_price',style='o-', grid=True, figsize=(12,6))\n",
    "plt.title('Влияние дня недели на цену квартиры', fontsize=15)"
   ]
  },
  {
   "cell_type": "code",
   "execution_count": 72,
   "metadata": {},
   "outputs": [],
   "source": [
    "# коментарии - Из графика видно, что в воскресенье объявления выкладывают по более низкой цене"
   ]
  },
  {
   "cell_type": "code",
   "execution_count": 73,
   "metadata": {},
   "outputs": [
    {
     "data": {
      "text/plain": [
       "-0.0076264485590525665"
      ]
     },
     "execution_count": 73,
     "metadata": {},
     "output_type": "execute_result"
    }
   ],
   "source": [
    "#корреляция между днем публикации и ценой за кв. метр\n",
    "df['published_day'].corr(df['price_per_meter'])"
   ]
  },
  {
   "cell_type": "code",
   "execution_count": 74,
   "metadata": {},
   "outputs": [
    {
     "data": {
      "text/html": [
       "<div>\n",
       "<style scoped>\n",
       "    .dataframe tbody tr th:only-of-type {\n",
       "        vertical-align: middle;\n",
       "    }\n",
       "\n",
       "    .dataframe tbody tr th {\n",
       "        vertical-align: top;\n",
       "    }\n",
       "\n",
       "    .dataframe thead th {\n",
       "        text-align: right;\n",
       "    }\n",
       "</style>\n",
       "<table border=\"1\" class=\"dataframe\">\n",
       "  <thead>\n",
       "    <tr style=\"text-align: right;\">\n",
       "      <th></th>\n",
       "      <th>last_price</th>\n",
       "    </tr>\n",
       "    <tr>\n",
       "      <th>published_month</th>\n",
       "      <th></th>\n",
       "    </tr>\n",
       "  </thead>\n",
       "  <tbody>\n",
       "    <tr>\n",
       "      <th>12</th>\n",
       "      <td>6.520414</td>\n",
       "    </tr>\n",
       "    <tr>\n",
       "      <th>9</th>\n",
       "      <td>6.337708</td>\n",
       "    </tr>\n",
       "    <tr>\n",
       "      <th>4</th>\n",
       "      <td>6.256831</td>\n",
       "    </tr>\n",
       "    <tr>\n",
       "      <th>1</th>\n",
       "      <td>6.189333</td>\n",
       "    </tr>\n",
       "    <tr>\n",
       "      <th>7</th>\n",
       "      <td>6.163422</td>\n",
       "    </tr>\n",
       "    <tr>\n",
       "      <th>5</th>\n",
       "      <td>6.106750</td>\n",
       "    </tr>\n",
       "    <tr>\n",
       "      <th>2</th>\n",
       "      <td>5.983712</td>\n",
       "    </tr>\n",
       "    <tr>\n",
       "      <th>11</th>\n",
       "      <td>5.978490</td>\n",
       "    </tr>\n",
       "    <tr>\n",
       "      <th>3</th>\n",
       "      <td>5.870120</td>\n",
       "    </tr>\n",
       "    <tr>\n",
       "      <th>8</th>\n",
       "      <td>5.859518</td>\n",
       "    </tr>\n",
       "    <tr>\n",
       "      <th>6</th>\n",
       "      <td>5.817045</td>\n",
       "    </tr>\n",
       "    <tr>\n",
       "      <th>10</th>\n",
       "      <td>5.728726</td>\n",
       "    </tr>\n",
       "  </tbody>\n",
       "</table>\n",
       "</div>"
      ],
      "text/plain": [
       "                 last_price\n",
       "published_month            \n",
       "12                 6.520414\n",
       "9                  6.337708\n",
       "4                  6.256831\n",
       "1                  6.189333\n",
       "7                  6.163422\n",
       "5                  6.106750\n",
       "2                  5.983712\n",
       "11                 5.978490\n",
       "3                  5.870120\n",
       "8                  5.859518\n",
       "6                  5.817045\n",
       "10                 5.728726"
      ]
     },
     "execution_count": 74,
     "metadata": {},
     "output_type": "execute_result"
    }
   ],
   "source": [
    "#Как зависит цена от месяца публикации объявления\n",
    "selling_month=pd.pivot_table(df, index='published_month', values='last_price')\n",
    "selling_month.sort_values(by='last_price', ascending=False)"
   ]
  },
  {
   "cell_type": "code",
   "execution_count": 75,
   "metadata": {},
   "outputs": [
    {
     "data": {
      "text/plain": [
       "Text(0.5, 1.0, 'Зависимость от месяца размещения на цену квартиры')"
      ]
     },
     "execution_count": 75,
     "metadata": {},
     "output_type": "execute_result"
    },
    {
     "data": {
      "image/png": "[encoded data removed]",
      "text/plain": [
       "<Figure size 864x432 with 1 Axes>"
      ]
     },
     "metadata": {
      "needs_background": "light"
     },
     "output_type": "display_data"
    }
   ],
   "source": [
    "selling_month.plot(y='last_price',style='o-', grid=True, figsize=(12,6))\n",
    "plt.title('Зависимость от месяца размещения на цену квартиры', fontsize=15)"
   ]
  },
  {
   "cell_type": "code",
   "execution_count": 76,
   "metadata": {},
   "outputs": [],
   "source": [
    "# коментарий - Судя по графику в октябре цены на объявления были ниже, чем в другие месяцы"
   ]
  },
  {
   "cell_type": "code",
   "execution_count": 77,
   "metadata": {},
   "outputs": [
    {
     "data": {
      "text/html": [
       "<div>\n",
       "<style scoped>\n",
       "    .dataframe tbody tr th:only-of-type {\n",
       "        vertical-align: middle;\n",
       "    }\n",
       "\n",
       "    .dataframe tbody tr th {\n",
       "        vertical-align: top;\n",
       "    }\n",
       "\n",
       "    .dataframe thead th {\n",
       "        text-align: right;\n",
       "    }\n",
       "</style>\n",
       "<table border=\"1\" class=\"dataframe\">\n",
       "  <thead>\n",
       "    <tr style=\"text-align: right;\">\n",
       "      <th></th>\n",
       "      <th>price_per_meter</th>\n",
       "    </tr>\n",
       "    <tr>\n",
       "      <th>published_year</th>\n",
       "      <th></th>\n",
       "    </tr>\n",
       "  </thead>\n",
       "  <tbody>\n",
       "    <tr>\n",
       "      <th>2014</th>\n",
       "      <td>118589.159192</td>\n",
       "    </tr>\n",
       "    <tr>\n",
       "      <th>2019</th>\n",
       "      <td>97982.086429</td>\n",
       "    </tr>\n",
       "    <tr>\n",
       "      <th>2015</th>\n",
       "      <td>96058.856588</td>\n",
       "    </tr>\n",
       "    <tr>\n",
       "      <th>2016</th>\n",
       "      <td>88922.576852</td>\n",
       "    </tr>\n",
       "    <tr>\n",
       "      <th>2018</th>\n",
       "      <td>88179.101597</td>\n",
       "    </tr>\n",
       "    <tr>\n",
       "      <th>2017</th>\n",
       "      <td>88138.644157</td>\n",
       "    </tr>\n",
       "  </tbody>\n",
       "</table>\n",
       "</div>"
      ],
      "text/plain": [
       "                price_per_meter\n",
       "published_year                 \n",
       "2014              118589.159192\n",
       "2019               97982.086429\n",
       "2015               96058.856588\n",
       "2016               88922.576852\n",
       "2018               88179.101597\n",
       "2017               88138.644157"
      ]
     },
     "execution_count": 77,
     "metadata": {},
     "output_type": "execute_result"
    }
   ],
   "source": [
    "#Посмотрим как менялась цена в разные года\n",
    "selling_year=pd.pivot_table(df, index='published_year', values='price_per_meter')\n",
    "selling_year.sort_values(by='price_per_meter', ascending=False)"
   ]
  },
  {
   "cell_type": "code",
   "execution_count": 78,
   "metadata": {},
   "outputs": [
    {
     "data": {
      "text/plain": [
       "Text(0.5, 1.0, 'Зависимость от года размещения на цену квартиры')"
      ]
     },
     "execution_count": 78,
     "metadata": {},
     "output_type": "execute_result"
    },
    {
     "data": {
      "image/png": "[encoded data removed]",
      "text/plain": [
       "<Figure size 864x432 with 1 Axes>"
      ]
     },
     "metadata": {
      "needs_background": "light"
     },
     "output_type": "display_data"
    }
   ],
   "source": [
    "#Построим график со стилем o- для того чтобы отобразить линии с точками на графике\n",
    "selling_year.plot(y='price_per_meter',style='o-', grid=True, figsize=(12,6))\n",
    "plt.title('Зависимость от года размещения на цену квартиры', fontsize=15)"
   ]
  },
  {
   "cell_type": "code",
   "execution_count": 79,
   "metadata": {},
   "outputs": [
    {
     "name": "stdout",
     "output_type": "stream",
     "text": [
      "                last_price  ceiling_height     rooms  total_area     floor\n",
      "last_price        1.000000        0.066468  0.363404    0.653813  0.026201\n",
      "ceiling_height    0.066468        1.000000  0.053356    0.084107 -0.017792\n",
      "rooms             0.363404        0.053356  1.000000    0.758347 -0.150862\n",
      "total_area        0.653813        0.084107  0.758347    1.000000 -0.024955\n",
      "floor             0.026201       -0.017792 -0.150862   -0.024955  1.000000\n"
     ]
    },
    {
     "data": {
      "image/png": "[encoded data removed]",
      "text/plain": [
       "<Figure size 864x864 with 25 Axes>"
      ]
     },
     "metadata": {
      "needs_background": "light"
     },
     "output_type": "display_data"
    }
   ],
   "source": [
    "#Построим матрицу корреляций для столбцов влияющих на цену квартиры в общем\n",
    "corr_table = df[['last_price','ceiling_height','rooms','total_area','floor']]\n",
    "pd.plotting.scatter_matrix(corr_table, figsize=(12,12))\n",
    "print(corr_table.corr())"
   ]
  },
  {
   "cell_type": "markdown",
   "metadata": {},
   "source": [
    "<div class=\"alert alert-info\"> <b>Комментарий студента:</b> Выводы: 1) Практически во всех зависимостях присутствует корреляция. Это значит, что площадь, количество комнат, высота потолков влияет на цену квартиры.; 2)Квартиры на последних этажах стоят дороже, нежели квартиры расположенные на \"других\" этажах. Квартиры на первом этаже самые дешевые.; 3) Цены на объявления в воскресенье выкладывались дешевле, чем в другие дни.; 4) Цены в октябре на объявление были ниже, чем в остальные месяцы.  fillna()</div>"
   ]
  },
  {
   "cell_type": "markdown",
   "metadata": {},
   "source": [
    "\n",
    "<div class=\"alert alert-info\"> <b>Комментарий студента:</b> # коментарии к нижеизложенному-10 населенных пунктов с наибольшим количеством объявлений. Посчитаем среднюю цену квадратного метра в этих населенных пунктах. Выделим населенные пункты с самой высокой и низкой стоимостью жилья. fillna()</div>"
   ]
  },
  {
   "cell_type": "code",
   "execution_count": 80,
   "metadata": {},
   "outputs": [
    {
     "data": {
      "text/plain": [
       "санкт-петербург                   15721\n",
       "посёлок мурино                      522\n",
       "посёлок шушары                      440\n",
       "всеволожск                          398\n",
       "пушкин                              369\n",
       "                                  ...  \n",
       "деревня хапо-ое                       1\n",
       "поселок городского типа рябово        1\n",
       "посёлок форт красная горка            1\n",
       "городской посёлок свирьстрой          1\n",
       "коттеджный посёлок лесное             1\n",
       "Name: locality_name, Length: 364, dtype: int64"
      ]
     },
     "execution_count": 80,
     "metadata": {},
     "output_type": "execute_result"
    }
   ],
   "source": [
    "#Код ревьюера\n",
    "df['locality_name'].value_counts()"
   ]
  },
  {
   "cell_type": "code",
   "execution_count": 81,
   "metadata": {},
   "outputs": [
    {
     "data": {
      "text/plain": [
       "санкт-петербург      15721\n",
       "посёлок мурино         522\n",
       "посёлок шушары         440\n",
       "всеволожск             398\n",
       "пушкин                 369\n",
       "колпино                338\n",
       "посёлок парголово      327\n",
       "гатчина                307\n",
       "деревня кудрово        299\n",
       "выборг                 237\n",
       "петергоф               201\n",
       "Name: locality_name, dtype: int64"
      ]
     },
     "execution_count": 81,
     "metadata": {},
     "output_type": "execute_result"
    }
   ],
   "source": [
    "#Выведем топ 10 с наибольшим количеством объявлений методом value_counts\n",
    "df['locality_name'].value_counts()[:11]"
   ]
  },
  {
   "cell_type": "code",
   "execution_count": 82,
   "metadata": {},
   "outputs": [],
   "source": [
    "# Код ревьюера\n",
    "# префикс rev_ означает переменные ревьюера\n",
    "rev_df = df['locality_name'].value_counts()[:11]\n",
    "rev_df.index\n",
    "\n",
    "del rev_df"
   ]
  },
  {
   "cell_type": "code",
   "execution_count": 83,
   "metadata": {},
   "outputs": [],
   "source": [
    "#Создадим лист, который будем использовать при дальнейшем срезе\n",
    "village_list = [\n",
    "    'посёлок мурино',\n",
    "    'посёлок шушары',\n",
    "    'всеволожск',\n",
    "    'пушкин',\n",
    "    'колпино',\n",
    "    'посёлок парголово',\n",
    "    'гатчина',\n",
    "    'деревня кудрово',\n",
    "    'выборг',\n",
    "    'петергоф'\n",
    "]"
   ]
  },
  {
   "cell_type": "code",
   "execution_count": 84,
   "metadata": {},
   "outputs": [],
   "source": [
    "# С помощью среза оставим только нужные нам строки - содержащие в столбце locality_name нужные нам по листу населенные пункты\n",
    "villagetop10 = df.query('locality_name in @village_list')"
   ]
  },
  {
   "cell_type": "code",
   "execution_count": 85,
   "metadata": {},
   "outputs": [],
   "source": [
    "#Сохраним в переменную price_in_village среднюю цену за квадратный метр на населенный пункт\n",
    "price_in_village = villagetop10.pivot_table(index='locality_name', values='price_per_meter')"
   ]
  },
  {
   "cell_type": "code",
   "execution_count": 86,
   "metadata": {},
   "outputs": [
    {
     "data": {
      "text/html": [
       "<div>\n",
       "<style scoped>\n",
       "    .dataframe tbody tr th:only-of-type {\n",
       "        vertical-align: middle;\n",
       "    }\n",
       "\n",
       "    .dataframe tbody tr th {\n",
       "        vertical-align: top;\n",
       "    }\n",
       "\n",
       "    .dataframe thead th {\n",
       "        text-align: right;\n",
       "    }\n",
       "</style>\n",
       "<table border=\"1\" class=\"dataframe\">\n",
       "  <thead>\n",
       "    <tr style=\"text-align: right;\">\n",
       "      <th></th>\n",
       "      <th>price_per_meter</th>\n",
       "    </tr>\n",
       "    <tr>\n",
       "      <th>locality_name</th>\n",
       "      <th></th>\n",
       "    </tr>\n",
       "  </thead>\n",
       "  <tbody>\n",
       "    <tr>\n",
       "      <th>пушкин</th>\n",
       "      <td>94460.993533</td>\n",
       "    </tr>\n",
       "    <tr>\n",
       "      <th>деревня кудрово</th>\n",
       "      <td>81042.135455</td>\n",
       "    </tr>\n",
       "    <tr>\n",
       "      <th>посёлок парголово</th>\n",
       "      <td>79531.831867</td>\n",
       "    </tr>\n",
       "    <tr>\n",
       "      <th>петергоф</th>\n",
       "      <td>74727.372284</td>\n",
       "    </tr>\n",
       "    <tr>\n",
       "      <th>посёлок мурино</th>\n",
       "      <td>73685.037728</td>\n",
       "    </tr>\n",
       "    <tr>\n",
       "      <th>посёлок шушары</th>\n",
       "      <td>69077.847287</td>\n",
       "    </tr>\n",
       "    <tr>\n",
       "      <th>колпино</th>\n",
       "      <td>65467.188423</td>\n",
       "    </tr>\n",
       "    <tr>\n",
       "      <th>всеволожск</th>\n",
       "      <td>58814.993014</td>\n",
       "    </tr>\n",
       "    <tr>\n",
       "      <th>гатчина</th>\n",
       "      <td>58069.772209</td>\n",
       "    </tr>\n",
       "    <tr>\n",
       "      <th>выборг</th>\n",
       "      <td>48392.058298</td>\n",
       "    </tr>\n",
       "  </tbody>\n",
       "</table>\n",
       "</div>"
      ],
      "text/plain": [
       "                   price_per_meter\n",
       "locality_name                     \n",
       "пушкин                94460.993533\n",
       "деревня кудрово       81042.135455\n",
       "посёлок парголово     79531.831867\n",
       "петергоф              74727.372284\n",
       "посёлок мурино        73685.037728\n",
       "посёлок шушары        69077.847287\n",
       "колпино               65467.188423\n",
       "всеволожск            58814.993014\n",
       "гатчина               58069.772209\n",
       "выборг                48392.058298"
      ]
     },
     "execution_count": 86,
     "metadata": {},
     "output_type": "execute_result"
    }
   ],
   "source": [
    "#Выведем среднюю цену за квадратный метр, от наибольшего к меньшему\n",
    "price_in_village =price_in_village.sort_values(by='price_per_meter', ascending=False)\n",
    "price_in_village"
   ]
  },
  {
   "cell_type": "code",
   "execution_count": 87,
   "metadata": {},
   "outputs": [
    {
     "data": {
      "text/plain": [
       "Text(0.5, 1.0, 'Цена за кв.м. в топ 10 населенных пунктах с наибольшим числом объявлений')"
      ]
     },
     "execution_count": 87,
     "metadata": {},
     "output_type": "execute_result"
    },
    {
     "data": {
      "image/png": "[encoded data removed]",
      "text/plain": [
       "<Figure size 864x432 with 1 Axes>"
      ]
     },
     "metadata": {
      "needs_background": "light"
     },
     "output_type": "display_data"
    }
   ],
   "source": [
    "#Построим график \n",
    "price_in_village.plot(y='price_per_meter', grid=True, figsize=(12,6), kind='barh', stacked=True)\n",
    "plt.xlabel('цена за квадратный метр')\n",
    "plt.title('Цена за кв.м. в топ 10 населенных пунктах с наибольшим числом объявлений')"
   ]
  },
  {
   "cell_type": "markdown",
   "metadata": {},
   "source": [
    "<div class=\"alert alert-info\"> <b>Комментарий студента:</b>  # Вывод: Самая высокая стоимость жилья расположена в Пушкине - 103 611 рублей за квадратный метр. Город Пушкин славится на весь мир расположенным на его территории заповедником Царское село. Это место входит в состав Всемирного наследия, оно славится интересной историей создания, красивейшими дворцами и парками.; Самая низкая стоимость жилья расположена в Выборге - 58 296 рублей за квадратный метр, скорее всего потому что Выборг самый отдаленный населенный пункт - 121 км от Санкт-Петербурга.fillna()</div>"
   ]
  },
  {
   "cell_type": "markdown",
   "metadata": {},
   "source": [
    "\n",
    "<div class=\"alert alert-info\"> <b>Комментарий студента:</b> # коментарии для ниженаписанного - Выясним какая область Санкт-Петербурга входит в центр. Создадим столбец с расстоянием до центра в километрах (округлим до целых значений). Посчитаем среднюю цену для кажому километра. Построим график который покажет как цена зависит от удаленности от центра. Определим границу где график сильно меняется - это и будет центральная зона fillna()</div>"
   ]
  },
  {
   "cell_type": "code",
   "execution_count": 88,
   "metadata": {},
   "outputs": [],
   "source": [
    "#Создадим столбец distance_to_center(расстояние до центра) передадим столбец cityCenters_nearest и разделим на 1000,\n",
    "#чтобы получить километры. После округлим до целого значения и переведем в формат int\n",
    "df['distance_to_center'] = (df['cityCenters_nearest']/1000).round(0).astype(int)"
   ]
  },
  {
   "cell_type": "code",
   "execution_count": 89,
   "metadata": {},
   "outputs": [],
   "source": [
    "df['price_for_kilometer'] = df['last_price']/df['distance_to_center']"
   ]
  },
  {
   "cell_type": "code",
   "execution_count": 90,
   "metadata": {},
   "outputs": [],
   "source": [
    "#Сделаем срез по городу \"санкт-петербург\"\n",
    "spb = df.query('locality_name == \"санкт-петербург\"')"
   ]
  },
  {
   "cell_type": "code",
   "execution_count": 91,
   "metadata": {},
   "outputs": [
    {
     "data": {
      "text/html": [
       "<div>\n",
       "<style scoped>\n",
       "    .dataframe tbody tr th:only-of-type {\n",
       "        vertical-align: middle;\n",
       "    }\n",
       "\n",
       "    .dataframe tbody tr th {\n",
       "        vertical-align: top;\n",
       "    }\n",
       "\n",
       "    .dataframe thead th {\n",
       "        text-align: right;\n",
       "    }\n",
       "</style>\n",
       "<table border=\"1\" class=\"dataframe\">\n",
       "  <thead>\n",
       "    <tr style=\"text-align: right;\">\n",
       "      <th></th>\n",
       "      <th>total_images</th>\n",
       "      <th>last_price</th>\n",
       "      <th>total_area</th>\n",
       "      <th>first_day_exposition</th>\n",
       "      <th>rooms</th>\n",
       "      <th>ceiling_height</th>\n",
       "      <th>floors_total</th>\n",
       "      <th>living_area</th>\n",
       "      <th>floor</th>\n",
       "      <th>is_apartment</th>\n",
       "      <th>...</th>\n",
       "      <th>days_exposition</th>\n",
       "      <th>price_per_meter</th>\n",
       "      <th>floor_is</th>\n",
       "      <th>ratio_area</th>\n",
       "      <th>ratio_kitchen</th>\n",
       "      <th>published_day</th>\n",
       "      <th>published_month</th>\n",
       "      <th>published_year</th>\n",
       "      <th>distance_to_center</th>\n",
       "      <th>price_for_kilometer</th>\n",
       "    </tr>\n",
       "  </thead>\n",
       "  <tbody>\n",
       "    <tr>\n",
       "      <th>0</th>\n",
       "      <td>20</td>\n",
       "      <td>13</td>\n",
       "      <td>108</td>\n",
       "      <td>2019-03-07</td>\n",
       "      <td>3</td>\n",
       "      <td>2.70</td>\n",
       "      <td>16</td>\n",
       "      <td>51</td>\n",
       "      <td>8</td>\n",
       "      <td>0</td>\n",
       "      <td>...</td>\n",
       "      <td>-1</td>\n",
       "      <td>120370.370370</td>\n",
       "      <td>другой</td>\n",
       "      <td>0.472222</td>\n",
       "      <td>0.231481</td>\n",
       "      <td>3</td>\n",
       "      <td>3</td>\n",
       "      <td>2019</td>\n",
       "      <td>16</td>\n",
       "      <td>0.812500</td>\n",
       "    </tr>\n",
       "    <tr>\n",
       "      <th>2</th>\n",
       "      <td>10</td>\n",
       "      <td>5</td>\n",
       "      <td>56</td>\n",
       "      <td>2015-08-20</td>\n",
       "      <td>2</td>\n",
       "      <td>2.50</td>\n",
       "      <td>5</td>\n",
       "      <td>34</td>\n",
       "      <td>4</td>\n",
       "      <td>0</td>\n",
       "      <td>...</td>\n",
       "      <td>558</td>\n",
       "      <td>89285.714286</td>\n",
       "      <td>другой</td>\n",
       "      <td>0.607143</td>\n",
       "      <td>0.142857</td>\n",
       "      <td>3</td>\n",
       "      <td>8</td>\n",
       "      <td>2015</td>\n",
       "      <td>14</td>\n",
       "      <td>0.357143</td>\n",
       "    </tr>\n",
       "    <tr>\n",
       "      <th>3</th>\n",
       "      <td>0</td>\n",
       "      <td>64</td>\n",
       "      <td>159</td>\n",
       "      <td>2015-07-24</td>\n",
       "      <td>3</td>\n",
       "      <td>2.50</td>\n",
       "      <td>14</td>\n",
       "      <td>-1</td>\n",
       "      <td>9</td>\n",
       "      <td>0</td>\n",
       "      <td>...</td>\n",
       "      <td>424</td>\n",
       "      <td>402515.723270</td>\n",
       "      <td>другой</td>\n",
       "      <td>-0.006289</td>\n",
       "      <td>-0.006289</td>\n",
       "      <td>4</td>\n",
       "      <td>7</td>\n",
       "      <td>2015</td>\n",
       "      <td>7</td>\n",
       "      <td>9.142857</td>\n",
       "    </tr>\n",
       "    <tr>\n",
       "      <th>4</th>\n",
       "      <td>2</td>\n",
       "      <td>10</td>\n",
       "      <td>100</td>\n",
       "      <td>2018-06-19</td>\n",
       "      <td>2</td>\n",
       "      <td>3.03</td>\n",
       "      <td>14</td>\n",
       "      <td>32</td>\n",
       "      <td>13</td>\n",
       "      <td>0</td>\n",
       "      <td>...</td>\n",
       "      <td>121</td>\n",
       "      <td>100000.000000</td>\n",
       "      <td>другой</td>\n",
       "      <td>0.320000</td>\n",
       "      <td>0.410000</td>\n",
       "      <td>1</td>\n",
       "      <td>6</td>\n",
       "      <td>2018</td>\n",
       "      <td>8</td>\n",
       "      <td>1.250000</td>\n",
       "    </tr>\n",
       "    <tr>\n",
       "      <th>7</th>\n",
       "      <td>5</td>\n",
       "      <td>7</td>\n",
       "      <td>71</td>\n",
       "      <td>2019-04-18</td>\n",
       "      <td>2</td>\n",
       "      <td>2.50</td>\n",
       "      <td>24</td>\n",
       "      <td>-1</td>\n",
       "      <td>22</td>\n",
       "      <td>0</td>\n",
       "      <td>...</td>\n",
       "      <td>-1</td>\n",
       "      <td>98591.549296</td>\n",
       "      <td>другой</td>\n",
       "      <td>-0.014085</td>\n",
       "      <td>0.253521</td>\n",
       "      <td>3</td>\n",
       "      <td>4</td>\n",
       "      <td>2019</td>\n",
       "      <td>12</td>\n",
       "      <td>0.583333</td>\n",
       "    </tr>\n",
       "    <tr>\n",
       "      <th>...</th>\n",
       "      <td>...</td>\n",
       "      <td>...</td>\n",
       "      <td>...</td>\n",
       "      <td>...</td>\n",
       "      <td>...</td>\n",
       "      <td>...</td>\n",
       "      <td>...</td>\n",
       "      <td>...</td>\n",
       "      <td>...</td>\n",
       "      <td>...</td>\n",
       "      <td>...</td>\n",
       "      <td>...</td>\n",
       "      <td>...</td>\n",
       "      <td>...</td>\n",
       "      <td>...</td>\n",
       "      <td>...</td>\n",
       "      <td>...</td>\n",
       "      <td>...</td>\n",
       "      <td>...</td>\n",
       "      <td>...</td>\n",
       "      <td>...</td>\n",
       "    </tr>\n",
       "    <tr>\n",
       "      <th>23689</th>\n",
       "      <td>13</td>\n",
       "      <td>3</td>\n",
       "      <td>35</td>\n",
       "      <td>2018-02-28</td>\n",
       "      <td>1</td>\n",
       "      <td>2.86</td>\n",
       "      <td>15</td>\n",
       "      <td>16</td>\n",
       "      <td>4</td>\n",
       "      <td>0</td>\n",
       "      <td>...</td>\n",
       "      <td>29</td>\n",
       "      <td>85714.285714</td>\n",
       "      <td>другой</td>\n",
       "      <td>0.457143</td>\n",
       "      <td>0.257143</td>\n",
       "      <td>2</td>\n",
       "      <td>2</td>\n",
       "      <td>2018</td>\n",
       "      <td>16</td>\n",
       "      <td>0.187500</td>\n",
       "    </tr>\n",
       "    <tr>\n",
       "      <th>23690</th>\n",
       "      <td>3</td>\n",
       "      <td>5</td>\n",
       "      <td>52</td>\n",
       "      <td>2018-07-19</td>\n",
       "      <td>2</td>\n",
       "      <td>2.50</td>\n",
       "      <td>5</td>\n",
       "      <td>31</td>\n",
       "      <td>2</td>\n",
       "      <td>0</td>\n",
       "      <td>...</td>\n",
       "      <td>15</td>\n",
       "      <td>96153.846154</td>\n",
       "      <td>другой</td>\n",
       "      <td>0.596154</td>\n",
       "      <td>0.115385</td>\n",
       "      <td>3</td>\n",
       "      <td>7</td>\n",
       "      <td>2018</td>\n",
       "      <td>6</td>\n",
       "      <td>0.833333</td>\n",
       "    </tr>\n",
       "    <tr>\n",
       "      <th>23691</th>\n",
       "      <td>11</td>\n",
       "      <td>9</td>\n",
       "      <td>72</td>\n",
       "      <td>2016-10-13</td>\n",
       "      <td>2</td>\n",
       "      <td>2.75</td>\n",
       "      <td>25</td>\n",
       "      <td>40</td>\n",
       "      <td>7</td>\n",
       "      <td>0</td>\n",
       "      <td>...</td>\n",
       "      <td>519</td>\n",
       "      <td>125000.000000</td>\n",
       "      <td>другой</td>\n",
       "      <td>0.555556</td>\n",
       "      <td>0.138889</td>\n",
       "      <td>3</td>\n",
       "      <td>10</td>\n",
       "      <td>2016</td>\n",
       "      <td>4</td>\n",
       "      <td>2.250000</td>\n",
       "    </tr>\n",
       "    <tr>\n",
       "      <th>23694</th>\n",
       "      <td>9</td>\n",
       "      <td>9</td>\n",
       "      <td>133</td>\n",
       "      <td>2017-03-21</td>\n",
       "      <td>3</td>\n",
       "      <td>3.70</td>\n",
       "      <td>5</td>\n",
       "      <td>73</td>\n",
       "      <td>3</td>\n",
       "      <td>0</td>\n",
       "      <td>...</td>\n",
       "      <td>-1</td>\n",
       "      <td>67669.172932</td>\n",
       "      <td>другой</td>\n",
       "      <td>0.548872</td>\n",
       "      <td>0.097744</td>\n",
       "      <td>1</td>\n",
       "      <td>3</td>\n",
       "      <td>2017</td>\n",
       "      <td>4</td>\n",
       "      <td>2.250000</td>\n",
       "    </tr>\n",
       "    <tr>\n",
       "      <th>23697</th>\n",
       "      <td>13</td>\n",
       "      <td>11</td>\n",
       "      <td>76</td>\n",
       "      <td>2017-03-28</td>\n",
       "      <td>2</td>\n",
       "      <td>3.00</td>\n",
       "      <td>17</td>\n",
       "      <td>-1</td>\n",
       "      <td>12</td>\n",
       "      <td>0</td>\n",
       "      <td>...</td>\n",
       "      <td>602</td>\n",
       "      <td>144736.842105</td>\n",
       "      <td>другой</td>\n",
       "      <td>-0.013158</td>\n",
       "      <td>0.302632</td>\n",
       "      <td>1</td>\n",
       "      <td>3</td>\n",
       "      <td>2017</td>\n",
       "      <td>10</td>\n",
       "      <td>1.100000</td>\n",
       "    </tr>\n",
       "  </tbody>\n",
       "</table>\n",
       "<p>15721 rows × 31 columns</p>\n",
       "</div>"
      ],
      "text/plain": [
       "       total_images  last_price  total_area first_day_exposition  rooms  \\\n",
       "0                20          13         108           2019-03-07      3   \n",
       "2                10           5          56           2015-08-20      2   \n",
       "3                 0          64         159           2015-07-24      3   \n",
       "4                 2          10         100           2018-06-19      2   \n",
       "7                 5           7          71           2019-04-18      2   \n",
       "...             ...         ...         ...                  ...    ...   \n",
       "23689            13           3          35           2018-02-28      1   \n",
       "23690             3           5          52           2018-07-19      2   \n",
       "23691            11           9          72           2016-10-13      2   \n",
       "23694             9           9         133           2017-03-21      3   \n",
       "23697            13          11          76           2017-03-28      2   \n",
       "\n",
       "       ceiling_height  floors_total  living_area  floor  is_apartment  ...  \\\n",
       "0                2.70            16           51      8             0  ...   \n",
       "2                2.50             5           34      4             0  ...   \n",
       "3                2.50            14           -1      9             0  ...   \n",
       "4                3.03            14           32     13             0  ...   \n",
       "7                2.50            24           -1     22             0  ...   \n",
       "...               ...           ...          ...    ...           ...  ...   \n",
       "23689            2.86            15           16      4             0  ...   \n",
       "23690            2.50             5           31      2             0  ...   \n",
       "23691            2.75            25           40      7             0  ...   \n",
       "23694            3.70             5           73      3             0  ...   \n",
       "23697            3.00            17           -1     12             0  ...   \n",
       "\n",
       "       days_exposition  price_per_meter  floor_is  ratio_area ratio_kitchen  \\\n",
       "0                   -1    120370.370370    другой    0.472222      0.231481   \n",
       "2                  558     89285.714286    другой    0.607143      0.142857   \n",
       "3                  424    402515.723270    другой   -0.006289     -0.006289   \n",
       "4                  121    100000.000000    другой    0.320000      0.410000   \n",
       "7                   -1     98591.549296    другой   -0.014085      0.253521   \n",
       "...                ...              ...       ...         ...           ...   \n",
       "23689               29     85714.285714    другой    0.457143      0.257143   \n",
       "23690               15     96153.846154    другой    0.596154      0.115385   \n",
       "23691              519    125000.000000    другой    0.555556      0.138889   \n",
       "23694               -1     67669.172932    другой    0.548872      0.097744   \n",
       "23697              602    144736.842105    другой   -0.013158      0.302632   \n",
       "\n",
       "       published_day  published_month  published_year  distance_to_center  \\\n",
       "0                  3                3            2019                  16   \n",
       "2                  3                8            2015                  14   \n",
       "3                  4                7            2015                   7   \n",
       "4                  1                6            2018                   8   \n",
       "7                  3                4            2019                  12   \n",
       "...              ...              ...             ...                 ...   \n",
       "23689              2                2            2018                  16   \n",
       "23690              3                7            2018                   6   \n",
       "23691              3               10            2016                   4   \n",
       "23694              1                3            2017                   4   \n",
       "23697              1                3            2017                  10   \n",
       "\n",
       "       price_for_kilometer  \n",
       "0                 0.812500  \n",
       "2                 0.357143  \n",
       "3                 9.142857  \n",
       "4                 1.250000  \n",
       "7                 0.583333  \n",
       "...                    ...  \n",
       "23689             0.187500  \n",
       "23690             0.833333  \n",
       "23691             2.250000  \n",
       "23694             2.250000  \n",
       "23697             1.100000  \n",
       "\n",
       "[15721 rows x 31 columns]"
      ]
     },
     "execution_count": 91,
     "metadata": {},
     "output_type": "execute_result"
    }
   ],
   "source": [
    "#Проверим \n",
    "spb"
   ]
  },
  {
   "cell_type": "code",
   "execution_count": 92,
   "metadata": {},
   "outputs": [
    {
     "data": {
      "text/html": [
       "<div>\n",
       "<style scoped>\n",
       "    .dataframe tbody tr th:only-of-type {\n",
       "        vertical-align: middle;\n",
       "    }\n",
       "\n",
       "    .dataframe tbody tr th {\n",
       "        vertical-align: top;\n",
       "    }\n",
       "\n",
       "    .dataframe thead th {\n",
       "        text-align: right;\n",
       "    }\n",
       "</style>\n",
       "<table border=\"1\" class=\"dataframe\">\n",
       "  <thead>\n",
       "    <tr style=\"text-align: right;\">\n",
       "      <th></th>\n",
       "      <th>price_for_kilometer</th>\n",
       "    </tr>\n",
       "    <tr>\n",
       "      <th>distance_to_center</th>\n",
       "      <th></th>\n",
       "    </tr>\n",
       "  </thead>\n",
       "  <tbody>\n",
       "    <tr>\n",
       "      <th>0</th>\n",
       "      <td>inf</td>\n",
       "    </tr>\n",
       "    <tr>\n",
       "      <th>1</th>\n",
       "      <td>20.791667</td>\n",
       "    </tr>\n",
       "    <tr>\n",
       "      <th>2</th>\n",
       "      <td>8.675806</td>\n",
       "    </tr>\n",
       "    <tr>\n",
       "      <th>3</th>\n",
       "      <td>3.553333</td>\n",
       "    </tr>\n",
       "    <tr>\n",
       "      <th>4</th>\n",
       "      <td>3.200945</td>\n",
       "    </tr>\n",
       "    <tr>\n",
       "      <th>5</th>\n",
       "      <td>2.809783</td>\n",
       "    </tr>\n",
       "    <tr>\n",
       "      <th>6</th>\n",
       "      <td>2.478155</td>\n",
       "    </tr>\n",
       "    <tr>\n",
       "      <th>7</th>\n",
       "      <td>2.041497</td>\n",
       "    </tr>\n",
       "    <tr>\n",
       "      <th>8</th>\n",
       "      <td>1.184255</td>\n",
       "    </tr>\n",
       "    <tr>\n",
       "      <th>9</th>\n",
       "      <td>0.718381</td>\n",
       "    </tr>\n",
       "    <tr>\n",
       "      <th>10</th>\n",
       "      <td>0.602086</td>\n",
       "    </tr>\n",
       "    <tr>\n",
       "      <th>11</th>\n",
       "      <td>0.522457</td>\n",
       "    </tr>\n",
       "    <tr>\n",
       "      <th>12</th>\n",
       "      <td>0.445431</td>\n",
       "    </tr>\n",
       "    <tr>\n",
       "      <th>13</th>\n",
       "      <td>0.428700</td>\n",
       "    </tr>\n",
       "    <tr>\n",
       "      <th>14</th>\n",
       "      <td>0.367419</td>\n",
       "    </tr>\n",
       "    <tr>\n",
       "      <th>15</th>\n",
       "      <td>0.358673</td>\n",
       "    </tr>\n",
       "    <tr>\n",
       "      <th>16</th>\n",
       "      <td>0.304348</td>\n",
       "    </tr>\n",
       "    <tr>\n",
       "      <th>17</th>\n",
       "      <td>0.283126</td>\n",
       "    </tr>\n",
       "    <tr>\n",
       "      <th>18</th>\n",
       "      <td>0.257344</td>\n",
       "    </tr>\n",
       "    <tr>\n",
       "      <th>19</th>\n",
       "      <td>0.238686</td>\n",
       "    </tr>\n",
       "    <tr>\n",
       "      <th>20</th>\n",
       "      <td>0.268367</td>\n",
       "    </tr>\n",
       "    <tr>\n",
       "      <th>21</th>\n",
       "      <td>0.237281</td>\n",
       "    </tr>\n",
       "    <tr>\n",
       "      <th>22</th>\n",
       "      <td>0.227048</td>\n",
       "    </tr>\n",
       "    <tr>\n",
       "      <th>23</th>\n",
       "      <td>0.196931</td>\n",
       "    </tr>\n",
       "    <tr>\n",
       "      <th>24</th>\n",
       "      <td>0.137821</td>\n",
       "    </tr>\n",
       "    <tr>\n",
       "      <th>25</th>\n",
       "      <td>0.144615</td>\n",
       "    </tr>\n",
       "    <tr>\n",
       "      <th>26</th>\n",
       "      <td>0.137155</td>\n",
       "    </tr>\n",
       "    <tr>\n",
       "      <th>27</th>\n",
       "      <td>0.296296</td>\n",
       "    </tr>\n",
       "    <tr>\n",
       "      <th>28</th>\n",
       "      <td>0.163265</td>\n",
       "    </tr>\n",
       "    <tr>\n",
       "      <th>29</th>\n",
       "      <td>0.126437</td>\n",
       "    </tr>\n",
       "  </tbody>\n",
       "</table>\n",
       "</div>"
      ],
      "text/plain": [
       "                    price_for_kilometer\n",
       "distance_to_center                     \n",
       "0                                   inf\n",
       "1                             20.791667\n",
       "2                              8.675806\n",
       "3                              3.553333\n",
       "4                              3.200945\n",
       "5                              2.809783\n",
       "6                              2.478155\n",
       "7                              2.041497\n",
       "8                              1.184255\n",
       "9                              0.718381\n",
       "10                             0.602086\n",
       "11                             0.522457\n",
       "12                             0.445431\n",
       "13                             0.428700\n",
       "14                             0.367419\n",
       "15                             0.358673\n",
       "16                             0.304348\n",
       "17                             0.283126\n",
       "18                             0.257344\n",
       "19                             0.238686\n",
       "20                             0.268367\n",
       "21                             0.237281\n",
       "22                             0.227048\n",
       "23                             0.196931\n",
       "24                             0.137821\n",
       "25                             0.144615\n",
       "26                             0.137155\n",
       "27                             0.296296\n",
       "28                             0.163265\n",
       "29                             0.126437"
      ]
     },
     "execution_count": 92,
     "metadata": {},
     "output_type": "execute_result"
    }
   ],
   "source": [
    "#методом pivot_table посчитаем среднее\n",
    "spb_df=spb.pivot_table(index='distance_to_center', values='price_for_kilometer', aggfunc='mean')\n",
    "spb_df"
   ]
  },
  {
   "cell_type": "code",
   "execution_count": 93,
   "metadata": {},
   "outputs": [
    {
     "data": {
      "text/html": [
       "<div>\n",
       "<style scoped>\n",
       "    .dataframe tbody tr th:only-of-type {\n",
       "        vertical-align: middle;\n",
       "    }\n",
       "\n",
       "    .dataframe tbody tr th {\n",
       "        vertical-align: top;\n",
       "    }\n",
       "\n",
       "    .dataframe thead th {\n",
       "        text-align: right;\n",
       "    }\n",
       "</style>\n",
       "<table border=\"1\" class=\"dataframe\">\n",
       "  <thead>\n",
       "    <tr style=\"text-align: right;\">\n",
       "      <th></th>\n",
       "      <th>price_for_kilometer</th>\n",
       "    </tr>\n",
       "    <tr>\n",
       "      <th>distance_to_center</th>\n",
       "      <th></th>\n",
       "    </tr>\n",
       "  </thead>\n",
       "  <tbody>\n",
       "    <tr>\n",
       "      <th>0</th>\n",
       "      <td>inf</td>\n",
       "    </tr>\n",
       "    <tr>\n",
       "      <th>1</th>\n",
       "      <td>20.791667</td>\n",
       "    </tr>\n",
       "    <tr>\n",
       "      <th>2</th>\n",
       "      <td>8.675806</td>\n",
       "    </tr>\n",
       "    <tr>\n",
       "      <th>3</th>\n",
       "      <td>3.553333</td>\n",
       "    </tr>\n",
       "    <tr>\n",
       "      <th>4</th>\n",
       "      <td>3.200945</td>\n",
       "    </tr>\n",
       "    <tr>\n",
       "      <th>5</th>\n",
       "      <td>2.809783</td>\n",
       "    </tr>\n",
       "    <tr>\n",
       "      <th>6</th>\n",
       "      <td>2.478155</td>\n",
       "    </tr>\n",
       "    <tr>\n",
       "      <th>7</th>\n",
       "      <td>2.041497</td>\n",
       "    </tr>\n",
       "    <tr>\n",
       "      <th>8</th>\n",
       "      <td>1.184255</td>\n",
       "    </tr>\n",
       "    <tr>\n",
       "      <th>9</th>\n",
       "      <td>0.718381</td>\n",
       "    </tr>\n",
       "    <tr>\n",
       "      <th>10</th>\n",
       "      <td>0.602086</td>\n",
       "    </tr>\n",
       "    <tr>\n",
       "      <th>11</th>\n",
       "      <td>0.522457</td>\n",
       "    </tr>\n",
       "    <tr>\n",
       "      <th>12</th>\n",
       "      <td>0.445431</td>\n",
       "    </tr>\n",
       "    <tr>\n",
       "      <th>13</th>\n",
       "      <td>0.428700</td>\n",
       "    </tr>\n",
       "    <tr>\n",
       "      <th>14</th>\n",
       "      <td>0.367419</td>\n",
       "    </tr>\n",
       "    <tr>\n",
       "      <th>15</th>\n",
       "      <td>0.358673</td>\n",
       "    </tr>\n",
       "    <tr>\n",
       "      <th>16</th>\n",
       "      <td>0.304348</td>\n",
       "    </tr>\n",
       "    <tr>\n",
       "      <th>17</th>\n",
       "      <td>0.283126</td>\n",
       "    </tr>\n",
       "    <tr>\n",
       "      <th>18</th>\n",
       "      <td>0.257344</td>\n",
       "    </tr>\n",
       "    <tr>\n",
       "      <th>19</th>\n",
       "      <td>0.238686</td>\n",
       "    </tr>\n",
       "    <tr>\n",
       "      <th>20</th>\n",
       "      <td>0.268367</td>\n",
       "    </tr>\n",
       "    <tr>\n",
       "      <th>21</th>\n",
       "      <td>0.237281</td>\n",
       "    </tr>\n",
       "    <tr>\n",
       "      <th>22</th>\n",
       "      <td>0.227048</td>\n",
       "    </tr>\n",
       "    <tr>\n",
       "      <th>23</th>\n",
       "      <td>0.196931</td>\n",
       "    </tr>\n",
       "    <tr>\n",
       "      <th>24</th>\n",
       "      <td>0.137821</td>\n",
       "    </tr>\n",
       "    <tr>\n",
       "      <th>25</th>\n",
       "      <td>0.144615</td>\n",
       "    </tr>\n",
       "    <tr>\n",
       "      <th>26</th>\n",
       "      <td>0.137155</td>\n",
       "    </tr>\n",
       "    <tr>\n",
       "      <th>27</th>\n",
       "      <td>0.296296</td>\n",
       "    </tr>\n",
       "    <tr>\n",
       "      <th>28</th>\n",
       "      <td>0.163265</td>\n",
       "    </tr>\n",
       "    <tr>\n",
       "      <th>29</th>\n",
       "      <td>0.126437</td>\n",
       "    </tr>\n",
       "  </tbody>\n",
       "</table>\n",
       "</div>"
      ],
      "text/plain": [
       "                    price_for_kilometer\n",
       "distance_to_center                     \n",
       "0                                   inf\n",
       "1                             20.791667\n",
       "2                              8.675806\n",
       "3                              3.553333\n",
       "4                              3.200945\n",
       "5                              2.809783\n",
       "6                              2.478155\n",
       "7                              2.041497\n",
       "8                              1.184255\n",
       "9                              0.718381\n",
       "10                             0.602086\n",
       "11                             0.522457\n",
       "12                             0.445431\n",
       "13                             0.428700\n",
       "14                             0.367419\n",
       "15                             0.358673\n",
       "16                             0.304348\n",
       "17                             0.283126\n",
       "18                             0.257344\n",
       "19                             0.238686\n",
       "20                             0.268367\n",
       "21                             0.237281\n",
       "22                             0.227048\n",
       "23                             0.196931\n",
       "24                             0.137821\n",
       "25                             0.144615\n",
       "26                             0.137155\n",
       "27                             0.296296\n",
       "28                             0.163265\n",
       "29                             0.126437"
      ]
     },
     "execution_count": 93,
     "metadata": {},
     "output_type": "execute_result"
    }
   ],
   "source": [
    "#методом pivot_table посчитаем среднее\n",
    "spb_df=spb.pivot_table(index='distance_to_center', values='price_for_kilometer', aggfunc='mean')\n",
    "spb_df"
   ]
  },
  {
   "cell_type": "markdown",
   "metadata": {},
   "source": [
    "<div class=\"alert alert-info\"> <b>Комментарий студента:</b> коментарий - По графику видно, что резко обрывается на 5 километрах. Следовательно центром будет радиус 5 км. Также видно, как меняется цена взависимости от расстояния от центра, чем дальше от центра, тем дешевле квартира fillna()</div>"
   ]
  },
  {
   "cell_type": "markdown",
   "metadata": {},
   "source": [
    "<div class=\"alert alert-info\"> <b>Комментарий студента:</b> #коментарий по нижеследующему - Выделите сегмент квартир в центре. Проанализируйте эту территорию и изучите следующие параметры: площадь, цена, число комнат, высота потолков. Также выделите факторы, которые влияют на стоимость квартиры (число комнат, этаж, удалённость от центра, дата размещения объявления). Сделайте выводы. Отличаются ли они от общих выводов по всему городу? fillna()</div>"
   ]
  },
  {
   "cell_type": "code",
   "execution_count": 94,
   "metadata": {},
   "outputs": [],
   "source": [
    "#Проведем срез квартиры находящиеся в 5 километрах от центра\n",
    "center_apartments = df.query('distance_to_center <= 5')"
   ]
  },
  {
   "cell_type": "code",
   "execution_count": 95,
   "metadata": {},
   "outputs": [
    {
     "data": {
      "text/html": [
       "<div>\n",
       "<style scoped>\n",
       "    .dataframe tbody tr th:only-of-type {\n",
       "        vertical-align: middle;\n",
       "    }\n",
       "\n",
       "    .dataframe tbody tr th {\n",
       "        vertical-align: top;\n",
       "    }\n",
       "\n",
       "    .dataframe thead th {\n",
       "        text-align: right;\n",
       "    }\n",
       "</style>\n",
       "<table border=\"1\" class=\"dataframe\">\n",
       "  <thead>\n",
       "    <tr style=\"text-align: right;\">\n",
       "      <th></th>\n",
       "      <th>total_images</th>\n",
       "      <th>last_price</th>\n",
       "      <th>total_area</th>\n",
       "      <th>first_day_exposition</th>\n",
       "      <th>rooms</th>\n",
       "      <th>ceiling_height</th>\n",
       "      <th>floors_total</th>\n",
       "      <th>living_area</th>\n",
       "      <th>floor</th>\n",
       "      <th>is_apartment</th>\n",
       "      <th>...</th>\n",
       "      <th>days_exposition</th>\n",
       "      <th>price_per_meter</th>\n",
       "      <th>floor_is</th>\n",
       "      <th>ratio_area</th>\n",
       "      <th>ratio_kitchen</th>\n",
       "      <th>published_day</th>\n",
       "      <th>published_month</th>\n",
       "      <th>published_year</th>\n",
       "      <th>distance_to_center</th>\n",
       "      <th>price_for_kilometer</th>\n",
       "    </tr>\n",
       "  </thead>\n",
       "  <tbody>\n",
       "    <tr>\n",
       "      <th>5</th>\n",
       "      <td>10</td>\n",
       "      <td>2</td>\n",
       "      <td>30</td>\n",
       "      <td>2018-09-10</td>\n",
       "      <td>1</td>\n",
       "      <td>2.50</td>\n",
       "      <td>12</td>\n",
       "      <td>14</td>\n",
       "      <td>5</td>\n",
       "      <td>0</td>\n",
       "      <td>...</td>\n",
       "      <td>55</td>\n",
       "      <td>66666.666667</td>\n",
       "      <td>другой</td>\n",
       "      <td>0.466667</td>\n",
       "      <td>0.300000</td>\n",
       "      <td>0</td>\n",
       "      <td>9</td>\n",
       "      <td>2018</td>\n",
       "      <td>0</td>\n",
       "      <td>inf</td>\n",
       "    </tr>\n",
       "    <tr>\n",
       "      <th>8</th>\n",
       "      <td>20</td>\n",
       "      <td>2</td>\n",
       "      <td>33</td>\n",
       "      <td>2018-05-23</td>\n",
       "      <td>1</td>\n",
       "      <td>2.50</td>\n",
       "      <td>27</td>\n",
       "      <td>15</td>\n",
       "      <td>26</td>\n",
       "      <td>0</td>\n",
       "      <td>...</td>\n",
       "      <td>189</td>\n",
       "      <td>60606.060606</td>\n",
       "      <td>другой</td>\n",
       "      <td>0.454545</td>\n",
       "      <td>0.242424</td>\n",
       "      <td>2</td>\n",
       "      <td>5</td>\n",
       "      <td>2018</td>\n",
       "      <td>0</td>\n",
       "      <td>inf</td>\n",
       "    </tr>\n",
       "    <tr>\n",
       "      <th>12</th>\n",
       "      <td>10</td>\n",
       "      <td>3</td>\n",
       "      <td>54</td>\n",
       "      <td>2016-06-30</td>\n",
       "      <td>2</td>\n",
       "      <td>2.50</td>\n",
       "      <td>5</td>\n",
       "      <td>30</td>\n",
       "      <td>5</td>\n",
       "      <td>0</td>\n",
       "      <td>...</td>\n",
       "      <td>90</td>\n",
       "      <td>55555.555556</td>\n",
       "      <td>последний</td>\n",
       "      <td>0.555556</td>\n",
       "      <td>0.166667</td>\n",
       "      <td>3</td>\n",
       "      <td>6</td>\n",
       "      <td>2016</td>\n",
       "      <td>0</td>\n",
       "      <td>inf</td>\n",
       "    </tr>\n",
       "    <tr>\n",
       "      <th>22</th>\n",
       "      <td>20</td>\n",
       "      <td>5</td>\n",
       "      <td>58</td>\n",
       "      <td>2017-04-24</td>\n",
       "      <td>2</td>\n",
       "      <td>2.75</td>\n",
       "      <td>25</td>\n",
       "      <td>30</td>\n",
       "      <td>15</td>\n",
       "      <td>0</td>\n",
       "      <td>...</td>\n",
       "      <td>60</td>\n",
       "      <td>86206.896552</td>\n",
       "      <td>другой</td>\n",
       "      <td>0.517241</td>\n",
       "      <td>0.189655</td>\n",
       "      <td>0</td>\n",
       "      <td>4</td>\n",
       "      <td>2017</td>\n",
       "      <td>0</td>\n",
       "      <td>inf</td>\n",
       "    </tr>\n",
       "    <tr>\n",
       "      <th>24</th>\n",
       "      <td>8</td>\n",
       "      <td>6</td>\n",
       "      <td>97</td>\n",
       "      <td>2015-10-31</td>\n",
       "      <td>2</td>\n",
       "      <td>2.50</td>\n",
       "      <td>3</td>\n",
       "      <td>46</td>\n",
       "      <td>1</td>\n",
       "      <td>0</td>\n",
       "      <td>...</td>\n",
       "      <td>265</td>\n",
       "      <td>61855.670103</td>\n",
       "      <td>первый</td>\n",
       "      <td>0.474227</td>\n",
       "      <td>0.195876</td>\n",
       "      <td>5</td>\n",
       "      <td>10</td>\n",
       "      <td>2015</td>\n",
       "      <td>2</td>\n",
       "      <td>3.00</td>\n",
       "    </tr>\n",
       "    <tr>\n",
       "      <th>...</th>\n",
       "      <td>...</td>\n",
       "      <td>...</td>\n",
       "      <td>...</td>\n",
       "      <td>...</td>\n",
       "      <td>...</td>\n",
       "      <td>...</td>\n",
       "      <td>...</td>\n",
       "      <td>...</td>\n",
       "      <td>...</td>\n",
       "      <td>...</td>\n",
       "      <td>...</td>\n",
       "      <td>...</td>\n",
       "      <td>...</td>\n",
       "      <td>...</td>\n",
       "      <td>...</td>\n",
       "      <td>...</td>\n",
       "      <td>...</td>\n",
       "      <td>...</td>\n",
       "      <td>...</td>\n",
       "      <td>...</td>\n",
       "      <td>...</td>\n",
       "    </tr>\n",
       "    <tr>\n",
       "      <th>23692</th>\n",
       "      <td>2</td>\n",
       "      <td>1</td>\n",
       "      <td>30</td>\n",
       "      <td>2017-07-07</td>\n",
       "      <td>1</td>\n",
       "      <td>2.50</td>\n",
       "      <td>5</td>\n",
       "      <td>17</td>\n",
       "      <td>4</td>\n",
       "      <td>0</td>\n",
       "      <td>...</td>\n",
       "      <td>413</td>\n",
       "      <td>33333.333333</td>\n",
       "      <td>другой</td>\n",
       "      <td>0.566667</td>\n",
       "      <td>0.200000</td>\n",
       "      <td>4</td>\n",
       "      <td>7</td>\n",
       "      <td>2017</td>\n",
       "      <td>0</td>\n",
       "      <td>inf</td>\n",
       "    </tr>\n",
       "    <tr>\n",
       "      <th>23694</th>\n",
       "      <td>9</td>\n",
       "      <td>9</td>\n",
       "      <td>133</td>\n",
       "      <td>2017-03-21</td>\n",
       "      <td>3</td>\n",
       "      <td>3.70</td>\n",
       "      <td>5</td>\n",
       "      <td>73</td>\n",
       "      <td>3</td>\n",
       "      <td>0</td>\n",
       "      <td>...</td>\n",
       "      <td>-1</td>\n",
       "      <td>67669.172932</td>\n",
       "      <td>другой</td>\n",
       "      <td>0.548872</td>\n",
       "      <td>0.097744</td>\n",
       "      <td>1</td>\n",
       "      <td>3</td>\n",
       "      <td>2017</td>\n",
       "      <td>4</td>\n",
       "      <td>2.25</td>\n",
       "    </tr>\n",
       "    <tr>\n",
       "      <th>23695</th>\n",
       "      <td>14</td>\n",
       "      <td>3</td>\n",
       "      <td>59</td>\n",
       "      <td>2018-01-15</td>\n",
       "      <td>3</td>\n",
       "      <td>2.50</td>\n",
       "      <td>5</td>\n",
       "      <td>38</td>\n",
       "      <td>4</td>\n",
       "      <td>0</td>\n",
       "      <td>...</td>\n",
       "      <td>45</td>\n",
       "      <td>50847.457627</td>\n",
       "      <td>другой</td>\n",
       "      <td>0.644068</td>\n",
       "      <td>0.135593</td>\n",
       "      <td>0</td>\n",
       "      <td>1</td>\n",
       "      <td>2018</td>\n",
       "      <td>0</td>\n",
       "      <td>inf</td>\n",
       "    </tr>\n",
       "    <tr>\n",
       "      <th>23696</th>\n",
       "      <td>18</td>\n",
       "      <td>2</td>\n",
       "      <td>56</td>\n",
       "      <td>2018-02-11</td>\n",
       "      <td>2</td>\n",
       "      <td>2.50</td>\n",
       "      <td>3</td>\n",
       "      <td>29</td>\n",
       "      <td>1</td>\n",
       "      <td>0</td>\n",
       "      <td>...</td>\n",
       "      <td>-1</td>\n",
       "      <td>35714.285714</td>\n",
       "      <td>первый</td>\n",
       "      <td>0.517857</td>\n",
       "      <td>-0.017857</td>\n",
       "      <td>6</td>\n",
       "      <td>2</td>\n",
       "      <td>2018</td>\n",
       "      <td>0</td>\n",
       "      <td>inf</td>\n",
       "    </tr>\n",
       "    <tr>\n",
       "      <th>23698</th>\n",
       "      <td>4</td>\n",
       "      <td>1</td>\n",
       "      <td>32</td>\n",
       "      <td>2017-07-21</td>\n",
       "      <td>1</td>\n",
       "      <td>2.50</td>\n",
       "      <td>5</td>\n",
       "      <td>12</td>\n",
       "      <td>1</td>\n",
       "      <td>0</td>\n",
       "      <td>...</td>\n",
       "      <td>-1</td>\n",
       "      <td>31250.000000</td>\n",
       "      <td>первый</td>\n",
       "      <td>0.375000</td>\n",
       "      <td>0.281250</td>\n",
       "      <td>4</td>\n",
       "      <td>7</td>\n",
       "      <td>2017</td>\n",
       "      <td>0</td>\n",
       "      <td>inf</td>\n",
       "    </tr>\n",
       "  </tbody>\n",
       "</table>\n",
       "<p>8022 rows × 31 columns</p>\n",
       "</div>"
      ],
      "text/plain": [
       "       total_images  last_price  total_area first_day_exposition  rooms  \\\n",
       "5                10           2          30           2018-09-10      1   \n",
       "8                20           2          33           2018-05-23      1   \n",
       "12               10           3          54           2016-06-30      2   \n",
       "22               20           5          58           2017-04-24      2   \n",
       "24                8           6          97           2015-10-31      2   \n",
       "...             ...         ...         ...                  ...    ...   \n",
       "23692             2           1          30           2017-07-07      1   \n",
       "23694             9           9         133           2017-03-21      3   \n",
       "23695            14           3          59           2018-01-15      3   \n",
       "23696            18           2          56           2018-02-11      2   \n",
       "23698             4           1          32           2017-07-21      1   \n",
       "\n",
       "       ceiling_height  floors_total  living_area  floor  is_apartment  ...  \\\n",
       "5                2.50            12           14      5             0  ...   \n",
       "8                2.50            27           15     26             0  ...   \n",
       "12               2.50             5           30      5             0  ...   \n",
       "22               2.75            25           30     15             0  ...   \n",
       "24               2.50             3           46      1             0  ...   \n",
       "...               ...           ...          ...    ...           ...  ...   \n",
       "23692            2.50             5           17      4             0  ...   \n",
       "23694            3.70             5           73      3             0  ...   \n",
       "23695            2.50             5           38      4             0  ...   \n",
       "23696            2.50             3           29      1             0  ...   \n",
       "23698            2.50             5           12      1             0  ...   \n",
       "\n",
       "       days_exposition  price_per_meter   floor_is  ratio_area ratio_kitchen  \\\n",
       "5                   55     66666.666667     другой    0.466667      0.300000   \n",
       "8                  189     60606.060606     другой    0.454545      0.242424   \n",
       "12                  90     55555.555556  последний    0.555556      0.166667   \n",
       "22                  60     86206.896552     другой    0.517241      0.189655   \n",
       "24                 265     61855.670103     первый    0.474227      0.195876   \n",
       "...                ...              ...        ...         ...           ...   \n",
       "23692              413     33333.333333     другой    0.566667      0.200000   \n",
       "23694               -1     67669.172932     другой    0.548872      0.097744   \n",
       "23695               45     50847.457627     другой    0.644068      0.135593   \n",
       "23696               -1     35714.285714     первый    0.517857     -0.017857   \n",
       "23698               -1     31250.000000     первый    0.375000      0.281250   \n",
       "\n",
       "       published_day  published_month  published_year  distance_to_center  \\\n",
       "5                  0                9            2018                   0   \n",
       "8                  2                5            2018                   0   \n",
       "12                 3                6            2016                   0   \n",
       "22                 0                4            2017                   0   \n",
       "24                 5               10            2015                   2   \n",
       "...              ...              ...             ...                 ...   \n",
       "23692              4                7            2017                   0   \n",
       "23694              1                3            2017                   4   \n",
       "23695              0                1            2018                   0   \n",
       "23696              6                2            2018                   0   \n",
       "23698              4                7            2017                   0   \n",
       "\n",
       "       price_for_kilometer  \n",
       "5                      inf  \n",
       "8                      inf  \n",
       "12                     inf  \n",
       "22                     inf  \n",
       "24                    3.00  \n",
       "...                    ...  \n",
       "23692                  inf  \n",
       "23694                 2.25  \n",
       "23695                  inf  \n",
       "23696                  inf  \n",
       "23698                  inf  \n",
       "\n",
       "[8022 rows x 31 columns]"
      ]
     },
     "execution_count": 95,
     "metadata": {},
     "output_type": "execute_result"
    }
   ],
   "source": [
    "center_apartments"
   ]
  },
  {
   "cell_type": "code",
   "execution_count": 96,
   "metadata": {},
   "outputs": [
    {
     "data": {
      "image/png": "[encoded data removed]",
      "text/plain": [
       "<Figure size 432x288 with 1 Axes>"
      ]
     },
     "metadata": {
      "needs_background": "light"
     },
     "output_type": "display_data"
    },
    {
     "name": "stdout",
     "output_type": "stream",
     "text": [
      "Среднее значение: 64.28521565694341\n"
     ]
    },
    {
     "data": {
      "image/png": "[encoded data removed]",
      "text/plain": [
       "<Figure size 432x288 with 1 Axes>"
      ]
     },
     "metadata": {
      "needs_background": "light"
     },
     "output_type": "display_data"
    },
    {
     "name": "stdout",
     "output_type": "stream",
     "text": [
      "Среднее значение: 6.287334829219646\n"
     ]
    },
    {
     "data": {
      "image/png": "[encoded data removed]",
      "text/plain": [
       "<Figure size 432x288 with 1 Axes>"
      ]
     },
     "metadata": {
      "needs_background": "light"
     },
     "output_type": "display_data"
    },
    {
     "name": "stdout",
     "output_type": "stream",
     "text": [
      "Среднее значение: 2.194465220643231\n"
     ]
    },
    {
     "data": {
      "image/png": "[encoded data removed]",
      "text/plain": [
       "<Figure size 432x288 with 1 Axes>"
      ]
     },
     "metadata": {
      "needs_background": "light"
     },
     "output_type": "display_data"
    },
    {
     "name": "stdout",
     "output_type": "stream",
     "text": [
      "Среднее значение: 2.7175691847419596\n"
     ]
    },
    {
     "data": {
      "image/png": "[encoded data removed]",
      "text/plain": [
       "<Figure size 432x288 with 1 Axes>"
      ]
     },
     "metadata": {
      "needs_background": "light"
     },
     "output_type": "display_data"
    },
    {
     "name": "stdout",
     "output_type": "stream",
     "text": [
      "Среднее значение: 169.9675891298928\n"
     ]
    }
   ],
   "source": [
    "#С помощью цикла выведем гистограммы столбцов находящиеся в центре города. \n",
    "for column in center_apartments[['total_area','last_price','rooms','ceiling_height','days_exposition']]:\n",
    "    range_max = center_apartments[column].max()\n",
    "    range_min = center_apartments[column].min()\n",
    "    center_apartments[column].hist(bins=30, range=(range_min,range_max))\n",
    "    plt.title(column, fontsize=15)\n",
    "    plt.show()\n",
    "    print('Среднее значение:',center_apartments[column].mean())"
   ]
  },
  {
   "cell_type": "code",
   "execution_count": 97,
   "metadata": {},
   "outputs": [
    {
     "data": {
      "text/plain": [
       "count    8022.000000\n",
       "mean      169.967589\n",
       "std       230.098599\n",
       "min        -1.000000\n",
       "25%        23.000000\n",
       "50%        78.000000\n",
       "75%       222.000000\n",
       "max      1580.000000\n",
       "Name: days_exposition, dtype: float64"
      ]
     },
     "execution_count": 97,
     "metadata": {},
     "output_type": "execute_result"
    }
   ],
   "source": [
    "#Получим информацию о столбце \"время продажи\" методом describe\n",
    "center_apartments['days_exposition'].describe()"
   ]
  },
  {
   "cell_type": "code",
   "execution_count": 98,
   "metadata": {},
   "outputs": [],
   "source": [
    "# коментарий - Выделим факторы, которые влияют на стоимость квартиры(число комнат, этаж, удаленность от центра, дата размещения объявления)"
   ]
  },
  {
   "cell_type": "code",
   "execution_count": 99,
   "metadata": {},
   "outputs": [
    {
     "name": "stdout",
     "output_type": "stream",
     "text": [
      "                last_price  ceiling_height     rooms  total_area     floor\n",
      "last_price        1.000000        0.066468  0.363404    0.653813  0.026201\n",
      "ceiling_height    0.066468        1.000000  0.053356    0.084107 -0.017792\n",
      "rooms             0.363404        0.053356  1.000000    0.758347 -0.150862\n",
      "total_area        0.653813        0.084107  0.758347    1.000000 -0.024955\n",
      "floor             0.026201       -0.017792 -0.150862   -0.024955  1.000000\n"
     ]
    },
    {
     "data": {
      "image/png": "[encoded data removed]",
      "text/plain": [
       "<Figure size 864x864 with 25 Axes>"
      ]
     },
     "metadata": {
      "needs_background": "light"
     },
     "output_type": "display_data"
    }
   ],
   "source": [
    "#Рассчитаем матрицу корреляция в столбах которые влияют на стоимость квартиры\n",
    "corr_table_center = center_apartments[['last_price','ceiling_height','rooms','total_area','floor']]\n",
    "pd.plotting.scatter_matrix(corr_table_center, figsize=(12,12))\n",
    "print(corr_table.corr())"
   ]
  },
  {
   "cell_type": "code",
   "execution_count": 100,
   "metadata": {},
   "outputs": [
    {
     "data": {
      "text/html": [
       "<div>\n",
       "<style scoped>\n",
       "    .dataframe tbody tr th:only-of-type {\n",
       "        vertical-align: middle;\n",
       "    }\n",
       "\n",
       "    .dataframe tbody tr th {\n",
       "        vertical-align: top;\n",
       "    }\n",
       "\n",
       "    .dataframe thead th {\n",
       "        text-align: right;\n",
       "    }\n",
       "</style>\n",
       "<table border=\"1\" class=\"dataframe\">\n",
       "  <thead>\n",
       "    <tr style=\"text-align: right;\">\n",
       "      <th></th>\n",
       "      <th>last_price</th>\n",
       "      <th>total_area</th>\n",
       "      <th>rooms</th>\n",
       "      <th>ceiling_height</th>\n",
       "      <th>days_exposition</th>\n",
       "      <th>published_day</th>\n",
       "      <th>published_month</th>\n",
       "      <th>published_year</th>\n",
       "    </tr>\n",
       "  </thead>\n",
       "  <tbody>\n",
       "    <tr>\n",
       "      <th>last_price</th>\n",
       "      <td>1.000000</td>\n",
       "      <td>0.629040</td>\n",
       "      <td>0.348833</td>\n",
       "      <td>0.076147</td>\n",
       "      <td>0.059504</td>\n",
       "      <td>0.005739</td>\n",
       "      <td>-0.006356</td>\n",
       "      <td>-0.055105</td>\n",
       "    </tr>\n",
       "    <tr>\n",
       "      <th>total_area</th>\n",
       "      <td>0.629040</td>\n",
       "      <td>1.000000</td>\n",
       "      <td>0.780728</td>\n",
       "      <td>0.120047</td>\n",
       "      <td>0.105961</td>\n",
       "      <td>-0.012123</td>\n",
       "      <td>-0.015324</td>\n",
       "      <td>-0.092426</td>\n",
       "    </tr>\n",
       "    <tr>\n",
       "      <th>rooms</th>\n",
       "      <td>0.348833</td>\n",
       "      <td>0.780728</td>\n",
       "      <td>1.000000</td>\n",
       "      <td>0.089180</td>\n",
       "      <td>0.105613</td>\n",
       "      <td>-0.009838</td>\n",
       "      <td>-0.024156</td>\n",
       "      <td>-0.080434</td>\n",
       "    </tr>\n",
       "    <tr>\n",
       "      <th>ceiling_height</th>\n",
       "      <td>0.076147</td>\n",
       "      <td>0.120047</td>\n",
       "      <td>0.089180</td>\n",
       "      <td>1.000000</td>\n",
       "      <td>0.020665</td>\n",
       "      <td>-0.011071</td>\n",
       "      <td>0.001317</td>\n",
       "      <td>0.002590</td>\n",
       "    </tr>\n",
       "    <tr>\n",
       "      <th>days_exposition</th>\n",
       "      <td>0.059504</td>\n",
       "      <td>0.105961</td>\n",
       "      <td>0.105613</td>\n",
       "      <td>0.020665</td>\n",
       "      <td>1.000000</td>\n",
       "      <td>-0.017222</td>\n",
       "      <td>-0.002351</td>\n",
       "      <td>-0.630707</td>\n",
       "    </tr>\n",
       "    <tr>\n",
       "      <th>published_day</th>\n",
       "      <td>0.005739</td>\n",
       "      <td>-0.012123</td>\n",
       "      <td>-0.009838</td>\n",
       "      <td>-0.011071</td>\n",
       "      <td>-0.017222</td>\n",
       "      <td>1.000000</td>\n",
       "      <td>0.028468</td>\n",
       "      <td>0.001076</td>\n",
       "    </tr>\n",
       "    <tr>\n",
       "      <th>published_month</th>\n",
       "      <td>-0.006356</td>\n",
       "      <td>-0.015324</td>\n",
       "      <td>-0.024156</td>\n",
       "      <td>0.001317</td>\n",
       "      <td>-0.002351</td>\n",
       "      <td>0.028468</td>\n",
       "      <td>1.000000</td>\n",
       "      <td>-0.246904</td>\n",
       "    </tr>\n",
       "    <tr>\n",
       "      <th>published_year</th>\n",
       "      <td>-0.055105</td>\n",
       "      <td>-0.092426</td>\n",
       "      <td>-0.080434</td>\n",
       "      <td>0.002590</td>\n",
       "      <td>-0.630707</td>\n",
       "      <td>0.001076</td>\n",
       "      <td>-0.246904</td>\n",
       "      <td>1.000000</td>\n",
       "    </tr>\n",
       "  </tbody>\n",
       "</table>\n",
       "</div>"
      ],
      "text/plain": [
       "                 last_price  total_area     rooms  ceiling_height  \\\n",
       "last_price         1.000000    0.629040  0.348833        0.076147   \n",
       "total_area         0.629040    1.000000  0.780728        0.120047   \n",
       "rooms              0.348833    0.780728  1.000000        0.089180   \n",
       "ceiling_height     0.076147    0.120047  0.089180        1.000000   \n",
       "days_exposition    0.059504    0.105961  0.105613        0.020665   \n",
       "published_day      0.005739   -0.012123 -0.009838       -0.011071   \n",
       "published_month   -0.006356   -0.015324 -0.024156        0.001317   \n",
       "published_year    -0.055105   -0.092426 -0.080434        0.002590   \n",
       "\n",
       "                 days_exposition  published_day  published_month  \\\n",
       "last_price              0.059504       0.005739        -0.006356   \n",
       "total_area              0.105961      -0.012123        -0.015324   \n",
       "rooms                   0.105613      -0.009838        -0.024156   \n",
       "ceiling_height          0.020665      -0.011071         0.001317   \n",
       "days_exposition         1.000000      -0.017222        -0.002351   \n",
       "published_day          -0.017222       1.000000         0.028468   \n",
       "published_month        -0.002351       0.028468         1.000000   \n",
       "published_year         -0.630707       0.001076        -0.246904   \n",
       "\n",
       "                 published_year  \n",
       "last_price            -0.055105  \n",
       "total_area            -0.092426  \n",
       "rooms                 -0.080434  \n",
       "ceiling_height         0.002590  \n",
       "days_exposition       -0.630707  \n",
       "published_day          0.001076  \n",
       "published_month       -0.246904  \n",
       "published_year         1.000000  "
      ]
     },
     "execution_count": 100,
     "metadata": {},
     "output_type": "execute_result"
    }
   ],
   "source": [
    "#Сравним корреляции между квартирами в центре и квартирами в общей таблице\n",
    "center_apartments[['last_price','total_area','rooms','ceiling_height','days_exposition',\n",
    "                  'published_day','published_month','published_year']].corr().sort_values('last_price', ascending=False)"
   ]
  },
  {
   "cell_type": "code",
   "execution_count": 101,
   "metadata": {},
   "outputs": [
    {
     "data": {
      "text/html": [
       "<div>\n",
       "<style scoped>\n",
       "    .dataframe tbody tr th:only-of-type {\n",
       "        vertical-align: middle;\n",
       "    }\n",
       "\n",
       "    .dataframe tbody tr th {\n",
       "        vertical-align: top;\n",
       "    }\n",
       "\n",
       "    .dataframe thead th {\n",
       "        text-align: right;\n",
       "    }\n",
       "</style>\n",
       "<table border=\"1\" class=\"dataframe\">\n",
       "  <thead>\n",
       "    <tr style=\"text-align: right;\">\n",
       "      <th></th>\n",
       "      <th>last_price</th>\n",
       "      <th>total_area</th>\n",
       "      <th>rooms</th>\n",
       "      <th>ceiling_height</th>\n",
       "      <th>days_exposition</th>\n",
       "      <th>published_day</th>\n",
       "      <th>published_month</th>\n",
       "      <th>published_year</th>\n",
       "    </tr>\n",
       "  </thead>\n",
       "  <tbody>\n",
       "    <tr>\n",
       "      <th>last_price</th>\n",
       "      <td>1.000000</td>\n",
       "      <td>0.653813</td>\n",
       "      <td>0.363404</td>\n",
       "      <td>0.066468</td>\n",
       "      <td>0.052901</td>\n",
       "      <td>0.001663</td>\n",
       "      <td>0.002496</td>\n",
       "      <td>-0.042621</td>\n",
       "    </tr>\n",
       "    <tr>\n",
       "      <th>total_area</th>\n",
       "      <td>0.653813</td>\n",
       "      <td>1.000000</td>\n",
       "      <td>0.758347</td>\n",
       "      <td>0.084107</td>\n",
       "      <td>0.096975</td>\n",
       "      <td>-0.004639</td>\n",
       "      <td>0.004925</td>\n",
       "      <td>-0.080544</td>\n",
       "    </tr>\n",
       "    <tr>\n",
       "      <th>rooms</th>\n",
       "      <td>0.363404</td>\n",
       "      <td>0.758347</td>\n",
       "      <td>1.000000</td>\n",
       "      <td>0.053356</td>\n",
       "      <td>0.079083</td>\n",
       "      <td>-0.004134</td>\n",
       "      <td>-0.004469</td>\n",
       "      <td>-0.055418</td>\n",
       "    </tr>\n",
       "    <tr>\n",
       "      <th>ceiling_height</th>\n",
       "      <td>0.066468</td>\n",
       "      <td>0.084107</td>\n",
       "      <td>0.053356</td>\n",
       "      <td>1.000000</td>\n",
       "      <td>0.009989</td>\n",
       "      <td>-0.013381</td>\n",
       "      <td>-0.004655</td>\n",
       "      <td>0.012218</td>\n",
       "    </tr>\n",
       "    <tr>\n",
       "      <th>days_exposition</th>\n",
       "      <td>0.052901</td>\n",
       "      <td>0.096975</td>\n",
       "      <td>0.079083</td>\n",
       "      <td>0.009989</td>\n",
       "      <td>1.000000</td>\n",
       "      <td>-0.014994</td>\n",
       "      <td>0.012369</td>\n",
       "      <td>-0.614485</td>\n",
       "    </tr>\n",
       "    <tr>\n",
       "      <th>published_month</th>\n",
       "      <td>0.002496</td>\n",
       "      <td>0.004925</td>\n",
       "      <td>-0.004469</td>\n",
       "      <td>-0.004655</td>\n",
       "      <td>0.012369</td>\n",
       "      <td>0.011496</td>\n",
       "      <td>1.000000</td>\n",
       "      <td>-0.269642</td>\n",
       "    </tr>\n",
       "    <tr>\n",
       "      <th>published_day</th>\n",
       "      <td>0.001663</td>\n",
       "      <td>-0.004639</td>\n",
       "      <td>-0.004134</td>\n",
       "      <td>-0.013381</td>\n",
       "      <td>-0.014994</td>\n",
       "      <td>1.000000</td>\n",
       "      <td>0.011496</td>\n",
       "      <td>-0.004799</td>\n",
       "    </tr>\n",
       "    <tr>\n",
       "      <th>published_year</th>\n",
       "      <td>-0.042621</td>\n",
       "      <td>-0.080544</td>\n",
       "      <td>-0.055418</td>\n",
       "      <td>0.012218</td>\n",
       "      <td>-0.614485</td>\n",
       "      <td>-0.004799</td>\n",
       "      <td>-0.269642</td>\n",
       "      <td>1.000000</td>\n",
       "    </tr>\n",
       "  </tbody>\n",
       "</table>\n",
       "</div>"
      ],
      "text/plain": [
       "                 last_price  total_area     rooms  ceiling_height  \\\n",
       "last_price         1.000000    0.653813  0.363404        0.066468   \n",
       "total_area         0.653813    1.000000  0.758347        0.084107   \n",
       "rooms              0.363404    0.758347  1.000000        0.053356   \n",
       "ceiling_height     0.066468    0.084107  0.053356        1.000000   \n",
       "days_exposition    0.052901    0.096975  0.079083        0.009989   \n",
       "published_month    0.002496    0.004925 -0.004469       -0.004655   \n",
       "published_day      0.001663   -0.004639 -0.004134       -0.013381   \n",
       "published_year    -0.042621   -0.080544 -0.055418        0.012218   \n",
       "\n",
       "                 days_exposition  published_day  published_month  \\\n",
       "last_price              0.052901       0.001663         0.002496   \n",
       "total_area              0.096975      -0.004639         0.004925   \n",
       "rooms                   0.079083      -0.004134        -0.004469   \n",
       "ceiling_height          0.009989      -0.013381        -0.004655   \n",
       "days_exposition         1.000000      -0.014994         0.012369   \n",
       "published_month         0.012369       0.011496         1.000000   \n",
       "published_day          -0.014994       1.000000         0.011496   \n",
       "published_year         -0.614485      -0.004799        -0.269642   \n",
       "\n",
       "                 published_year  \n",
       "last_price            -0.042621  \n",
       "total_area            -0.080544  \n",
       "rooms                 -0.055418  \n",
       "ceiling_height         0.012218  \n",
       "days_exposition       -0.614485  \n",
       "published_month       -0.269642  \n",
       "published_day         -0.004799  \n",
       "published_year         1.000000  "
      ]
     },
     "execution_count": 101,
     "metadata": {},
     "output_type": "execute_result"
    }
   ],
   "source": [
    "df[['last_price','total_area','rooms','ceiling_height','days_exposition',\n",
    "                  'published_day','published_month','published_year']].corr().sort_values('last_price', ascending=False)"
   ]
  },
  {
   "cell_type": "markdown",
   "metadata": {},
   "source": [
    "<div class=\"alert alert-info\"> <b>Комментарий студента:</b> Вывод : 1) Квартиры в центре (среднее) : площадь: 64 кв. метра, цена : 6.2 млн рублей, комнаты : 2, высота потолков 2.7, средняя продажа: 169 дней,быстрая продажа: 23 дня. 2) Квартиры по всей таблице(среднее) : площадь: 60 кв. метров, цена: 6 млн рублей, комнаты: 2 комнаты,высота потолков: 2.6 метров, средняя продажа: 156 дней., быстрая продажа: 22 дня. fillna()</div>"
   ]
  },
  {
   "cell_type": "markdown",
   "metadata": {},
   "source": [
    "## Общий вывод"
   ]
  },
  {
   "cell_type": "markdown",
   "metadata": {},
   "source": [
    "<div class=\"alert alert-info\"> <b>Комментарий студента:</b> \n",
    "- Проанализировав датасет из 23699 строк, можно увидеть, что имеются незаполненные значения. Большая часть незаполненных полей была в столбцах parks_nearest и ponds nearest. В основном пустые значения были в строках с объявлениями квартир в селах. Где, возможно, не стали указывать расстояние до центральных парков и прудов. Также были пустые значения в столбце balcony, я думаю, что в графе количество балконов, владельцы квартир у которых нет балконов просто игнорировали данное поле и ничего не заполняли. Поэтому данное поле я заполнил методом fillna на 0. Остальные пустые значения я заполнил \"-1\" чтобы в дальнейшем было легче провести срез. Были так же незаполненные значения в столбце is_apartment, Я их заполнил на False. Также нашей таблицы были неверно выставлены типы данных, поэтому пришлось вручную сначала менять с to_numeric, чтобы получить float и уже после переводить в int. Столбец first_day_exposition перевел через to_datetime в правильный формат. Last_price(цены) я привел к миллионам. разделив все значения в столбце на 1 000 000.\n",
    "\n",
    "- Добавили необходимые столбцы такие как price_per_meter(цена за квадратный метр), ratio_area(соотношение жилой площади к общей площади), ratio_kitchen(соотношение кухни на общую площадь) и добавил столбцы с днем, месяцем и годом публикации. Используя функции я заменил цифры месяцев и дней недель на их соответствующие названия\n",
    "\n",
    "- Изучив параметры с помощью гистограмм, я выяснил, что средняя стоимость квартиры составляет 5 млн рублей. Средняя площадь квартир составляет 60 квадратных метров, с 3мя комнатами и высотой потолков в 2.5 метра. В среднем объявление были опубликовано на сайте 180 дней. Самое долгое объявление простояло на сайте 1580 дней. И самое короткое всего 1 день.\n",
    "\n",
    "- Изучив графики взаимосвязей я пришел к выводу, что корелляцию присутствует у взаимосвязей между ценой и площадью квартиры. Составляет она 0.65. А это значит, что, чем болльше площадь квартиры, тем дороже стоит сама квартира. Также заметная корелляцию у взаимосвязей между ценой и удаленностью от центра квартиры, от количества комнат и этажа на каком расположена квартира. Квартиры расположенные на последних этажах значительно дороже, чем другие квартиры или квартиры расположенные на 1 этаже.\n",
    "\n",
    "- Я вывел топ 10 населенных пунктов с наибольшим количеством объявлений. Вывел населенные пункты с самой высокой и низкой стоимостью жилья. Таким образом у меня получилось, что самая дорогая недвижимость стоит в Пушкине, что составляет 103 611 рублей. А самая дешевая в Выборге 58 296 рублей. Причина в том, что Пушкин является туристическим городом, имеет на своей территории знаменитые заповедники, славится своей интересной историей. А Выборг самое отдаленный населенный пункт, - 121 км от Санкт-Петербурга\n",
    "\n",
    "- Определил из графика что центром Питера является территория радиусом 5 км от нулевого километра. Сделав срез квартир с этим радиусом, проделал небольшой анализ и выяснил, что в центре в среднем по 2 комнаты, средняя цена 6.7 миллионов рублей, потолки высотов 2.7 метров и площадью 64 кв метра </div>"
   ]
  },
  {
   "cell_type": "markdown",
   "metadata": {},
   "source": [
    "<div class=\"alert alert-info\"> <b>Комментарий студента:</b> \n",
    "ФИНАЛЬНЫЙ ВЫВОД: \n",
    "1) По ходу анализа предоставленных данных, было выявлено , что в датасете имеются недочеты в виде незаполненных строк,столбцов где есть необходимость исправить типы данных и перевести в правильный формат,замены пустых значений и другие синтаксические неточности ;\n",
    "1.2) В ходе работы все вышеуказанные отметки были исправлены;\n",
    "       \n",
    "2) Касаемо части анализа рынка недвижимости, были изучены основные параметры и найдены основные показатели средней продажи квартиры, а также временные пороги скорости продажи квартиры исчесляемые в днях.\n",
    "    \n",
    "3) Были проанализированы и определены сигментарные факторы влияющие на спрос продажи и цену недвижимости.  fillna()</div>"
   ]
  },
  {
   "cell_type": "markdown",
   "metadata": {},
   "source": [
    "## Чек-лист готовности проекта\n",
    "\n",
    "Поставьте 'x' в выполненных пунктах. Далее нажмите Shift+Enter."
   ]
  },
  {
   "cell_type": "markdown",
   "metadata": {},
   "source": [
    "- [x]  открыт файл\n",
    "- [x] файлы изучены (выведены первые строки, метод info())\n",
    "- [x]  определены пропущенные значения\n",
    "- [x]  заполнены пропущенные значения\n",
    "- [x]  есть пояснение, какие пропущенные значения обнаружены\n",
    "- [x]  изменены типы данных\n",
    "- [x]  есть пояснение, в каких столбцах изменены типы и почему\n",
    "- [x]  посчитано и добавлено в таблицу: цена квадратного метра\n",
    "- [x]  посчитано и добавлено в таблицу: день недели, месяц и год публикации объявления\n",
    "- [x]  посчитано и добавлено в таблицу: этаж квартиры; варианты — первый, последний, другой\n",
    "- [x]  посчитано и добавлено в таблицу: соотношение жилой и общей площади, а также отношение площади кухни к общей\n",
    "- [x]  изучены следующие параметры: площадь, цена, число комнат, высота потолков\n",
    "- [x]  построены гистограммы для каждого параметра\n",
    "- [x]  выполнено задание: \"Изучите время продажи квартиры. Постройте гистограмму. Посчитайте среднее и медиану. Опишите, сколько обычно занимает продажа. Когда можно считать, что продажи прошли очень быстро, а когда необычно долго?\"\n",
    "- [x]  выполнено задание: \"Уберите редкие и выбивающиеся значения. Опишите, какие особенности обнаружили.\"\n",
    "- [x]  выполнено задание: \"Какие факторы больше всего влияют на стоимость квартиры? Изучите, зависит ли цена от квадратного метра, числа комнат, этажа (первого или последнего), удалённости от центра. Также изучите зависимость от даты размещения: дня недели, месяца и года. \"Выберите 10 населённых пунктов с наибольшим числом объявлений. Посчитайте среднюю цену квадратного метра в этих населённых пунктах. Выделите населённые пункты с самой высокой и низкой стоимостью жилья. Эти данные можно найти по имени в столбце '*locality_name'*. \"\n",
    "- [x]  выполнено задание: \"Изучите предложения квартир: для каждой квартиры есть информация о расстоянии до центра. Выделите квартиры в Санкт-Петербурге (*'locality_name'*). Ваша задача — выяснить, какая область входит в центр. Создайте столбец с расстоянием до центра в километрах: округлите до целых значений. После этого посчитайте среднюю цену для каждого километра. Постройте график: он должен показывать, как цена зависит от удалённости от центра. Определите границу, где график сильно меняется — это и будет центральная зона. \"\n",
    "- [x]  выполнено задание: \"Выделите сегмент квартир в центре. Проанализируйте эту территорию и изучите следующие параметры: площадь, цена, число комнат, высота потолков. Также выделите факторы, которые влияют на стоимость квартиры (число комнат, этаж, удалённость от центра, дата размещения объявления). Сделайте выводы. Отличаются ли они от общих выводов по всему городу?\"\n",
    "- [x]  в каждом этапе есть выводы\n",
    "- [x]  есть общий вывод"
   ]
  }
 ],
 "metadata": {
  "ExecuteTimeLog": [
   {
    "duration": 1158,
    "start_time": "2022-02-04T10:31:34.468Z"
   },
   {
    "duration": 5,
    "start_time": "2022-02-04T10:35:35.621Z"
   },
   {
    "duration": 5,
    "start_time": "2022-02-04T10:35:39.467Z"
   },
   {
    "duration": 5,
    "start_time": "2022-02-04T10:35:54.114Z"
   },
   {
    "duration": 4,
    "start_time": "2022-02-04T10:41:29.609Z"
   },
   {
    "duration": 4,
    "start_time": "2022-02-04T10:41:37.835Z"
   },
   {
    "duration": 1457,
    "start_time": "2022-02-04T10:41:38.915Z"
   },
   {
    "duration": 1879130,
    "start_time": "2022-02-04T10:10:21.244Z"
   },
   {
    "duration": 1879128,
    "start_time": "2022-02-04T10:10:21.247Z"
   },
   {
    "duration": 1879127,
    "start_time": "2022-02-04T10:10:21.249Z"
   },
   {
    "duration": 181,
    "start_time": "2022-02-04T10:41:40.468Z"
   },
   {
    "duration": 173,
    "start_time": "2022-02-04T10:41:40.731Z"
   },
   {
    "duration": 183,
    "start_time": "2022-02-04T10:41:41.013Z"
   },
   {
    "duration": 655,
    "start_time": "2022-02-04T10:41:45.539Z"
   },
   {
    "duration": 1879177,
    "start_time": "2022-02-04T10:10:27.019Z"
   },
   {
    "duration": 1879162,
    "start_time": "2022-02-04T10:10:27.036Z"
   },
   {
    "duration": 179,
    "start_time": "2022-02-04T10:41:46.451Z"
   },
   {
    "duration": 244,
    "start_time": "2022-02-04T10:41:46.675Z"
   },
   {
    "duration": 192,
    "start_time": "2022-02-04T10:41:46.947Z"
   },
   {
    "duration": 180,
    "start_time": "2022-02-04T10:41:47.171Z"
   },
   {
    "duration": 180,
    "start_time": "2022-02-04T10:41:47.430Z"
   },
   {
    "duration": 178,
    "start_time": "2022-02-04T10:41:47.716Z"
   },
   {
    "duration": 196,
    "start_time": "2022-02-04T10:41:48.019Z"
   },
   {
    "duration": 181,
    "start_time": "2022-02-04T10:41:48.339Z"
   },
   {
    "duration": 176,
    "start_time": "2022-02-04T10:41:48.643Z"
   },
   {
    "duration": 226,
    "start_time": "2022-02-04T10:41:49.436Z"
   },
   {
    "duration": 213,
    "start_time": "2022-02-04T10:41:49.851Z"
   },
   {
    "duration": 175,
    "start_time": "2022-02-04T10:41:50.283Z"
   },
   {
    "duration": 211,
    "start_time": "2022-02-04T10:41:50.603Z"
   },
   {
    "duration": 180,
    "start_time": "2022-02-04T10:41:50.940Z"
   },
   {
    "duration": 178,
    "start_time": "2022-02-04T10:41:51.235Z"
   },
   {
    "duration": 195,
    "start_time": "2022-02-04T10:41:54.755Z"
   },
   {
    "duration": 174,
    "start_time": "2022-02-04T10:41:55.563Z"
   },
   {
    "duration": 56,
    "start_time": "2022-02-04T11:10:35.091Z"
   },
   {
    "duration": 69,
    "start_time": "2022-02-04T11:10:59.315Z"
   },
   {
    "duration": 68,
    "start_time": "2022-02-04T11:11:01.968Z"
   },
   {
    "duration": 71,
    "start_time": "2022-02-04T11:11:04.538Z"
   },
   {
    "duration": 11,
    "start_time": "2022-02-04T11:11:07.663Z"
   },
   {
    "duration": 24,
    "start_time": "2022-02-04T11:11:11.214Z"
   },
   {
    "duration": 69,
    "start_time": "2022-02-04T11:11:17.198Z"
   },
   {
    "duration": 7,
    "start_time": "2022-02-04T11:11:20.162Z"
   },
   {
    "duration": 6,
    "start_time": "2022-02-04T11:11:22.476Z"
   },
   {
    "duration": 7,
    "start_time": "2022-02-04T11:11:24.398Z"
   },
   {
    "duration": 6,
    "start_time": "2022-02-04T11:11:26.034Z"
   },
   {
    "duration": 7,
    "start_time": "2022-02-04T11:11:27.827Z"
   },
   {
    "duration": 6,
    "start_time": "2022-02-04T11:11:29.132Z"
   },
   {
    "duration": 7,
    "start_time": "2022-02-04T11:11:55.318Z"
   },
   {
    "duration": 7,
    "start_time": "2022-02-04T11:12:01.318Z"
   },
   {
    "duration": 9,
    "start_time": "2022-02-04T11:12:04.692Z"
   },
   {
    "duration": 6,
    "start_time": "2022-02-04T11:12:07.873Z"
   },
   {
    "duration": 6,
    "start_time": "2022-02-04T11:12:11.371Z"
   },
   {
    "duration": 7,
    "start_time": "2022-02-04T11:12:14.575Z"
   },
   {
    "duration": 7,
    "start_time": "2022-02-04T11:12:19.487Z"
   },
   {
    "duration": 9,
    "start_time": "2022-02-04T11:12:22.948Z"
   },
   {
    "duration": 8,
    "start_time": "2022-02-04T11:12:25.615Z"
   },
   {
    "duration": 7,
    "start_time": "2022-02-04T11:12:31.098Z"
   },
   {
    "duration": 7,
    "start_time": "2022-02-04T11:12:40.173Z"
   },
   {
    "duration": 7,
    "start_time": "2022-02-04T11:12:43.225Z"
   },
   {
    "duration": 6,
    "start_time": "2022-02-04T11:12:45.166Z"
   },
   {
    "duration": 6,
    "start_time": "2022-02-04T11:12:49.226Z"
   },
   {
    "duration": 7,
    "start_time": "2022-02-04T11:12:57.144Z"
   },
   {
    "duration": 11,
    "start_time": "2022-02-04T11:13:00.846Z"
   },
   {
    "duration": 24,
    "start_time": "2022-02-04T11:13:04.721Z"
   },
   {
    "duration": 11,
    "start_time": "2022-02-04T11:18:05.953Z"
   },
   {
    "duration": 27,
    "start_time": "2022-02-04T11:18:57.417Z"
   },
   {
    "duration": 9,
    "start_time": "2022-02-04T11:19:05.480Z"
   },
   {
    "duration": 8,
    "start_time": "2022-02-04T11:19:13.809Z"
   },
   {
    "duration": 3,
    "start_time": "2022-02-04T11:19:16.800Z"
   },
   {
    "duration": 6,
    "start_time": "2022-02-04T11:19:24.985Z"
   },
   {
    "duration": 5,
    "start_time": "2022-02-04T11:19:33.928Z"
   },
   {
    "duration": 9,
    "start_time": "2022-02-04T11:19:42.928Z"
   },
   {
    "duration": 10,
    "start_time": "2022-02-04T11:19:50.625Z"
   },
   {
    "duration": 8,
    "start_time": "2022-02-04T11:19:58.872Z"
   },
   {
    "duration": 5,
    "start_time": "2022-02-04T11:20:07.105Z"
   },
   {
    "duration": 8,
    "start_time": "2022-02-04T11:20:13.217Z"
   },
   {
    "duration": 13,
    "start_time": "2022-02-04T11:20:21.946Z"
   },
   {
    "duration": 5,
    "start_time": "2022-02-04T11:20:34.424Z"
   },
   {
    "duration": 59,
    "start_time": "2022-02-04T11:22:03.745Z"
   },
   {
    "duration": 56,
    "start_time": "2022-02-04T11:22:10.159Z"
   },
   {
    "duration": 83,
    "start_time": "2022-02-04T11:23:31.473Z"
   },
   {
    "duration": 5,
    "start_time": "2022-02-04T11:24:30.865Z"
   },
   {
    "duration": 3,
    "start_time": "2022-02-04T11:24:38.657Z"
   },
   {
    "duration": 608,
    "start_time": "2022-02-04T11:25:42.471Z"
   },
   {
    "duration": 19,
    "start_time": "2022-02-04T11:26:24.445Z"
   },
   {
    "duration": 4,
    "start_time": "2022-02-04T11:26:29.360Z"
   },
   {
    "duration": 3,
    "start_time": "2022-02-04T11:26:30.434Z"
   },
   {
    "duration": 584,
    "start_time": "2022-02-04T11:26:31.274Z"
   },
   {
    "duration": 6,
    "start_time": "2022-02-04T11:26:31.970Z"
   },
   {
    "duration": 14,
    "start_time": "2022-02-04T11:26:32.777Z"
   },
   {
    "duration": 19,
    "start_time": "2022-02-04T11:26:34.368Z"
   },
   {
    "duration": 184,
    "start_time": "2022-02-04T11:28:15.697Z"
   },
   {
    "duration": 2,
    "start_time": "2022-02-04T11:28:38.282Z"
   },
   {
    "duration": 105,
    "start_time": "2022-02-04T11:34:39.979Z"
   },
   {
    "duration": 66,
    "start_time": "2022-02-04T11:35:30.250Z"
   },
   {
    "duration": 1427,
    "start_time": "2022-02-04T11:36:25.604Z"
   },
   {
    "duration": 70,
    "start_time": "2022-02-04T11:36:27.755Z"
   },
   {
    "duration": 174,
    "start_time": "2022-02-04T11:37:01.244Z"
   },
   {
    "duration": 2,
    "start_time": "2022-02-04T11:37:35.509Z"
   },
   {
    "duration": 60,
    "start_time": "2022-02-04T11:37:43.972Z"
   },
   {
    "duration": 3,
    "start_time": "2022-02-04T11:38:01.637Z"
   },
   {
    "duration": 3,
    "start_time": "2022-02-04T11:44:42.198Z"
   },
   {
    "duration": 60,
    "start_time": "2022-02-04T11:46:23.206Z"
   },
   {
    "duration": 3,
    "start_time": "2022-02-04T11:48:26.223Z"
   },
   {
    "duration": 1243,
    "start_time": "2022-02-04T11:49:14.623Z"
   },
   {
    "duration": 1341,
    "start_time": "2022-02-04T11:49:39.448Z"
   },
   {
    "duration": 173,
    "start_time": "2022-02-04T11:49:50.960Z"
   },
   {
    "duration": 162,
    "start_time": "2022-02-04T11:50:02.344Z"
   },
   {
    "duration": 141,
    "start_time": "2022-02-04T11:50:16.665Z"
   },
   {
    "duration": 155,
    "start_time": "2022-02-04T11:50:26.976Z"
   },
   {
    "duration": 58,
    "start_time": "2022-02-04T11:50:40.728Z"
   },
   {
    "duration": 63,
    "start_time": "2022-02-04T11:50:52.312Z"
   },
   {
    "duration": 5,
    "start_time": "2022-02-04T11:51:12.537Z"
   },
   {
    "duration": 3,
    "start_time": "2022-02-04T11:52:44.120Z"
   },
   {
    "duration": 3,
    "start_time": "2022-02-04T11:52:47.112Z"
   },
   {
    "duration": 3,
    "start_time": "2022-02-04T11:52:49.608Z"
   },
   {
    "duration": 3,
    "start_time": "2022-02-04T11:53:54.489Z"
   },
   {
    "duration": 5,
    "start_time": "2022-02-04T11:54:01.442Z"
   },
   {
    "duration": 4,
    "start_time": "2022-02-04T11:54:02.960Z"
   },
   {
    "duration": 611,
    "start_time": "2022-02-04T11:54:03.648Z"
   },
   {
    "duration": 5,
    "start_time": "2022-02-04T11:54:04.261Z"
   },
   {
    "duration": 12,
    "start_time": "2022-02-04T11:54:04.652Z"
   },
   {
    "duration": 22,
    "start_time": "2022-02-04T11:54:06.696Z"
   },
   {
    "duration": 2,
    "start_time": "2022-02-04T11:54:07.600Z"
   },
   {
    "duration": 1347,
    "start_time": "2022-02-04T11:54:10.521Z"
   },
   {
    "duration": 1277,
    "start_time": "2022-02-04T11:54:11.871Z"
   },
   {
    "duration": 166,
    "start_time": "2022-02-04T11:54:13.160Z"
   },
   {
    "duration": 154,
    "start_time": "2022-02-04T11:54:13.928Z"
   },
   {
    "duration": 253,
    "start_time": "2022-02-04T11:54:14.882Z"
   },
   {
    "duration": 149,
    "start_time": "2022-02-04T11:54:15.769Z"
   },
   {
    "duration": 50,
    "start_time": "2022-02-04T11:54:16.609Z"
   },
   {
    "duration": 5,
    "start_time": "2022-02-04T11:54:19.026Z"
   },
   {
    "duration": 3,
    "start_time": "2022-02-04T11:54:20.624Z"
   },
   {
    "duration": 2,
    "start_time": "2022-02-04T11:57:34.122Z"
   },
   {
    "duration": 602,
    "start_time": "2022-02-04T11:58:00.529Z"
   },
   {
    "duration": 6,
    "start_time": "2022-02-04T11:58:16.786Z"
   },
   {
    "duration": 611,
    "start_time": "2022-02-04T11:59:14.810Z"
   },
   {
    "duration": 5,
    "start_time": "2022-02-04T11:59:25.506Z"
   },
   {
    "duration": 3,
    "start_time": "2022-02-04T12:01:10.498Z"
   },
   {
    "duration": 604,
    "start_time": "2022-02-04T12:01:20.938Z"
   },
   {
    "duration": 6,
    "start_time": "2022-02-04T12:01:31.795Z"
   },
   {
    "duration": 3,
    "start_time": "2022-02-04T12:02:10.034Z"
   },
   {
    "duration": 11,
    "start_time": "2022-02-04T12:02:20.667Z"
   },
   {
    "duration": 11,
    "start_time": "2022-02-04T12:02:26.859Z"
   },
   {
    "duration": 7,
    "start_time": "2022-02-04T12:02:37.315Z"
   },
   {
    "duration": 231,
    "start_time": "2022-02-04T12:02:48.923Z"
   },
   {
    "duration": 5,
    "start_time": "2022-02-04T12:03:02.627Z"
   },
   {
    "duration": 2,
    "start_time": "2022-02-04T12:07:17.549Z"
   },
   {
    "duration": 15,
    "start_time": "2022-02-04T12:10:05.436Z"
   },
   {
    "duration": 272,
    "start_time": "2022-02-04T12:10:14.324Z"
   },
   {
    "duration": 3,
    "start_time": "2022-02-04T12:10:39.870Z"
   },
   {
    "duration": 5,
    "start_time": "2022-02-04T12:10:48.572Z"
   },
   {
    "duration": 15,
    "start_time": "2022-02-04T12:11:00.318Z"
   },
   {
    "duration": 285,
    "start_time": "2022-02-04T12:11:10.374Z"
   },
   {
    "duration": 2,
    "start_time": "2022-02-04T12:11:53.765Z"
   },
   {
    "duration": 12,
    "start_time": "2022-02-04T12:12:03.069Z"
   },
   {
    "duration": 266,
    "start_time": "2022-02-04T12:12:14.597Z"
   },
   {
    "duration": 252,
    "start_time": "2022-02-04T12:15:25.919Z"
   },
   {
    "duration": 10401,
    "start_time": "2022-02-04T12:18:44.286Z"
   },
   {
    "duration": 3,
    "start_time": "2022-02-04T12:21:04.831Z"
   },
   {
    "duration": 2,
    "start_time": "2022-02-04T12:22:28.551Z"
   },
   {
    "duration": 56,
    "start_time": "2022-02-04T12:22:37.768Z"
   },
   {
    "duration": 9,
    "start_time": "2022-02-04T12:22:50.096Z"
   },
   {
    "duration": 3,
    "start_time": "2022-02-04T12:23:06.529Z"
   },
   {
    "duration": 9,
    "start_time": "2022-02-04T12:23:22.912Z"
   },
   {
    "duration": 7,
    "start_time": "2022-02-04T12:23:30.391Z"
   },
   {
    "duration": 174,
    "start_time": "2022-02-04T12:23:37.703Z"
   },
   {
    "duration": 195,
    "start_time": "2022-02-04T12:24:01.407Z"
   },
   {
    "duration": 9,
    "start_time": "2022-02-04T12:24:13.207Z"
   },
   {
    "duration": 8,
    "start_time": "2022-02-04T12:24:15.351Z"
   },
   {
    "duration": 289,
    "start_time": "2022-02-04T12:24:36.543Z"
   },
   {
    "duration": 2,
    "start_time": "2022-02-04T12:25:20.708Z"
   },
   {
    "duration": 5,
    "start_time": "2022-02-04T12:26:34.288Z"
   },
   {
    "duration": 205,
    "start_time": "2022-02-04T12:26:44.448Z"
   },
   {
    "duration": 4,
    "start_time": "2022-02-04T12:26:55.408Z"
   },
   {
    "duration": 17,
    "start_time": "2022-02-04T12:27:01.920Z"
   },
   {
    "duration": 30,
    "start_time": "2022-02-04T12:27:11.132Z"
   },
   {
    "duration": 13,
    "start_time": "2022-02-04T12:27:22.113Z"
   },
   {
    "duration": 12,
    "start_time": "2022-02-04T12:27:31.040Z"
   },
   {
    "duration": 3,
    "start_time": "2022-02-04T12:28:11.007Z"
   },
   {
    "duration": 8,
    "start_time": "2022-02-04T12:31:33.025Z"
   },
   {
    "duration": 30,
    "start_time": "2022-02-04T12:31:42.264Z"
   },
   {
    "duration": 1091,
    "start_time": "2022-02-04T12:32:02.000Z"
   },
   {
    "duration": 1264,
    "start_time": "2022-02-04T12:32:14.305Z"
   },
   {
    "duration": 8,
    "start_time": "2022-02-04T12:32:24.930Z"
   },
   {
    "duration": 2,
    "start_time": "2022-02-04T12:32:53.897Z"
   },
   {
    "duration": 4711,
    "start_time": "2022-02-04T12:33:02.393Z"
   },
   {
    "duration": 16,
    "start_time": "2022-02-04T12:35:52.633Z"
   },
   {
    "duration": 18,
    "start_time": "2022-02-04T12:36:08.129Z"
   },
   {
    "duration": 4,
    "start_time": "2022-02-04T13:25:29.675Z"
   },
   {
    "duration": 211,
    "start_time": "2022-02-04T13:25:38.028Z"
   },
   {
    "duration": 1100,
    "start_time": "2022-02-04T13:25:55.524Z"
   },
   {
    "duration": 69,
    "start_time": "2022-02-04T13:25:56.626Z"
   },
   {
    "duration": 10,
    "start_time": "2022-02-04T13:25:56.697Z"
   },
   {
    "duration": 24,
    "start_time": "2022-02-04T13:25:56.709Z"
   },
   {
    "duration": 90,
    "start_time": "2022-02-04T13:25:56.734Z"
   },
   {
    "duration": 6,
    "start_time": "2022-02-04T13:25:56.825Z"
   },
   {
    "duration": 7,
    "start_time": "2022-02-04T13:25:56.833Z"
   },
   {
    "duration": 9,
    "start_time": "2022-02-04T13:25:56.860Z"
   },
   {
    "duration": 11,
    "start_time": "2022-02-04T13:25:56.871Z"
   },
   {
    "duration": 16,
    "start_time": "2022-02-04T13:25:56.884Z"
   },
   {
    "duration": 7,
    "start_time": "2022-02-04T13:25:56.902Z"
   },
   {
    "duration": 6,
    "start_time": "2022-02-04T13:25:56.911Z"
   },
   {
    "duration": 9,
    "start_time": "2022-02-04T13:25:56.919Z"
   },
   {
    "duration": 16,
    "start_time": "2022-02-04T13:25:56.959Z"
   },
   {
    "duration": 17,
    "start_time": "2022-02-04T13:25:56.977Z"
   },
   {
    "duration": 10,
    "start_time": "2022-02-04T13:25:56.996Z"
   },
   {
    "duration": 8,
    "start_time": "2022-02-04T13:25:57.008Z"
   },
   {
    "duration": 7,
    "start_time": "2022-02-04T13:25:57.018Z"
   },
   {
    "duration": 33,
    "start_time": "2022-02-04T13:25:57.027Z"
   },
   {
    "duration": 7,
    "start_time": "2022-02-04T13:25:57.061Z"
   },
   {
    "duration": 7,
    "start_time": "2022-02-04T13:25:57.070Z"
   },
   {
    "duration": 8,
    "start_time": "2022-02-04T13:25:57.078Z"
   },
   {
    "duration": 6,
    "start_time": "2022-02-04T13:25:57.090Z"
   },
   {
    "duration": 6,
    "start_time": "2022-02-04T13:25:57.098Z"
   },
   {
    "duration": 5,
    "start_time": "2022-02-04T13:25:57.105Z"
   },
   {
    "duration": 5,
    "start_time": "2022-02-04T13:25:57.112Z"
   },
   {
    "duration": 45,
    "start_time": "2022-02-04T13:25:57.118Z"
   },
   {
    "duration": 26,
    "start_time": "2022-02-04T13:25:57.164Z"
   },
   {
    "duration": 11,
    "start_time": "2022-02-04T13:25:57.191Z"
   },
   {
    "duration": 23,
    "start_time": "2022-02-04T13:25:57.203Z"
   },
   {
    "duration": 40,
    "start_time": "2022-02-04T13:25:57.227Z"
   },
   {
    "duration": 5,
    "start_time": "2022-02-04T13:25:57.269Z"
   },
   {
    "duration": 10,
    "start_time": "2022-02-04T13:25:57.276Z"
   },
   {
    "duration": 6,
    "start_time": "2022-02-04T13:25:57.287Z"
   },
   {
    "duration": 10,
    "start_time": "2022-02-04T13:25:57.294Z"
   },
   {
    "duration": 9,
    "start_time": "2022-02-04T13:25:57.306Z"
   },
   {
    "duration": 7,
    "start_time": "2022-02-04T13:25:57.317Z"
   },
   {
    "duration": 35,
    "start_time": "2022-02-04T13:25:57.326Z"
   },
   {
    "duration": 9,
    "start_time": "2022-02-04T13:25:57.363Z"
   },
   {
    "duration": 21,
    "start_time": "2022-02-04T13:25:57.373Z"
   },
   {
    "duration": 5,
    "start_time": "2022-02-04T13:25:57.395Z"
   },
   {
    "duration": 4,
    "start_time": "2022-02-04T13:25:57.402Z"
   },
   {
    "duration": 9,
    "start_time": "2022-02-04T13:25:57.407Z"
   },
   {
    "duration": 6,
    "start_time": "2022-02-04T13:25:57.417Z"
   },
   {
    "duration": 5,
    "start_time": "2022-02-04T13:25:57.425Z"
   },
   {
    "duration": 614,
    "start_time": "2022-02-04T13:25:57.432Z"
   },
   {
    "duration": 5,
    "start_time": "2022-02-04T13:25:58.048Z"
   },
   {
    "duration": 13,
    "start_time": "2022-02-04T13:25:58.059Z"
   },
   {
    "duration": 25,
    "start_time": "2022-02-04T13:25:58.074Z"
   },
   {
    "duration": 3,
    "start_time": "2022-02-04T13:25:58.100Z"
   },
   {
    "duration": 1369,
    "start_time": "2022-02-04T13:25:58.104Z"
   },
   {
    "duration": 1348,
    "start_time": "2022-02-04T13:25:59.476Z"
   },
   {
    "duration": 181,
    "start_time": "2022-02-04T13:26:00.826Z"
   },
   {
    "duration": 177,
    "start_time": "2022-02-04T13:26:01.008Z"
   },
   {
    "duration": 162,
    "start_time": "2022-02-04T13:26:01.187Z"
   },
   {
    "duration": 176,
    "start_time": "2022-02-04T13:26:01.351Z"
   },
   {
    "duration": 171,
    "start_time": "2022-02-04T13:26:01.528Z"
   },
   {
    "duration": 5,
    "start_time": "2022-02-04T13:26:01.701Z"
   },
   {
    "duration": 11,
    "start_time": "2022-02-04T13:26:01.708Z"
   },
   {
    "duration": 22,
    "start_time": "2022-02-04T13:26:01.721Z"
   },
   {
    "duration": 643,
    "start_time": "2022-02-04T13:26:01.745Z"
   },
   {
    "duration": 6,
    "start_time": "2022-02-04T13:26:02.390Z"
   },
   {
    "duration": 8,
    "start_time": "2022-02-04T13:26:02.397Z"
   },
   {
    "duration": 720,
    "start_time": "2022-02-04T13:26:02.406Z"
   },
   {
    "duration": 5,
    "start_time": "2022-02-04T13:26:03.128Z"
   },
   {
    "duration": 6,
    "start_time": "2022-02-04T13:26:03.135Z"
   },
   {
    "duration": 655,
    "start_time": "2022-02-04T13:26:03.143Z"
   },
   {
    "duration": 6,
    "start_time": "2022-02-04T13:26:03.803Z"
   },
   {
    "duration": 8,
    "start_time": "2022-02-04T13:26:03.812Z"
   },
   {
    "duration": 26,
    "start_time": "2022-02-04T13:26:03.822Z"
   },
   {
    "duration": 16,
    "start_time": "2022-02-04T13:26:03.850Z"
   },
   {
    "duration": 277,
    "start_time": "2022-02-04T13:26:03.868Z"
   },
   {
    "duration": 12,
    "start_time": "2022-02-04T13:26:04.147Z"
   },
   {
    "duration": 3,
    "start_time": "2022-02-04T13:26:04.161Z"
   },
   {
    "duration": 35,
    "start_time": "2022-02-04T13:26:04.165Z"
   },
   {
    "duration": 303,
    "start_time": "2022-02-04T13:26:04.202Z"
   },
   {
    "duration": 2,
    "start_time": "2022-02-04T13:26:04.506Z"
   },
   {
    "duration": 31,
    "start_time": "2022-02-04T13:26:04.510Z"
   },
   {
    "duration": 25,
    "start_time": "2022-02-04T13:26:04.543Z"
   },
   {
    "duration": 319,
    "start_time": "2022-02-04T13:26:04.571Z"
   },
   {
    "duration": 3,
    "start_time": "2022-02-04T13:26:04.892Z"
   },
   {
    "duration": 15,
    "start_time": "2022-02-04T13:26:04.897Z"
   },
   {
    "duration": 317,
    "start_time": "2022-02-04T13:26:04.914Z"
   },
   {
    "duration": 1099,
    "start_time": "2022-02-04T16:22:17.200Z"
   },
   {
    "duration": 62,
    "start_time": "2022-02-04T16:22:18.301Z"
   },
   {
    "duration": 10,
    "start_time": "2022-02-04T16:22:18.640Z"
   },
   {
    "duration": 22,
    "start_time": "2022-02-04T16:22:22.266Z"
   },
   {
    "duration": 62,
    "start_time": "2022-02-04T16:22:23.046Z"
   },
   {
    "duration": 6,
    "start_time": "2022-02-04T16:22:24.279Z"
   },
   {
    "duration": 6,
    "start_time": "2022-02-04T16:22:27.065Z"
   },
   {
    "duration": 8,
    "start_time": "2022-02-04T16:22:28.316Z"
   },
   {
    "duration": 6,
    "start_time": "2022-02-04T16:22:31.536Z"
   },
   {
    "duration": 6,
    "start_time": "2022-02-04T16:22:32.386Z"
   },
   {
    "duration": 6,
    "start_time": "2022-02-04T16:22:33.016Z"
   },
   {
    "duration": 6,
    "start_time": "2022-02-04T16:22:35.176Z"
   },
   {
    "duration": 6,
    "start_time": "2022-02-04T16:22:39.006Z"
   },
   {
    "duration": 6,
    "start_time": "2022-02-04T16:22:39.956Z"
   },
   {
    "duration": 6,
    "start_time": "2022-02-04T16:22:41.136Z"
   },
   {
    "duration": 7,
    "start_time": "2022-02-04T16:22:45.256Z"
   },
   {
    "duration": 7,
    "start_time": "2022-02-04T16:22:46.065Z"
   },
   {
    "duration": 6,
    "start_time": "2022-02-04T16:24:31.388Z"
   },
   {
    "duration": 9,
    "start_time": "2022-02-04T16:24:32.070Z"
   },
   {
    "duration": 6,
    "start_time": "2022-02-04T16:24:34.623Z"
   },
   {
    "duration": 8,
    "start_time": "2022-02-04T16:24:35.670Z"
   },
   {
    "duration": 5,
    "start_time": "2022-02-04T16:24:37.294Z"
   },
   {
    "duration": 7,
    "start_time": "2022-02-04T16:24:39.044Z"
   },
   {
    "duration": 6,
    "start_time": "2022-02-04T16:24:40.614Z"
   },
   {
    "duration": 6,
    "start_time": "2022-02-04T16:24:42.186Z"
   },
   {
    "duration": 6,
    "start_time": "2022-02-04T16:24:43.702Z"
   },
   {
    "duration": 8,
    "start_time": "2022-02-04T16:24:56.790Z"
   },
   {
    "duration": 24,
    "start_time": "2022-02-04T16:24:59.208Z"
   },
   {
    "duration": 10,
    "start_time": "2022-02-04T16:25:08.888Z"
   },
   {
    "duration": 19,
    "start_time": "2022-02-04T16:25:09.506Z"
   },
   {
    "duration": 9,
    "start_time": "2022-02-04T16:25:13.108Z"
   },
   {
    "duration": 5,
    "start_time": "2022-02-04T16:25:15.108Z"
   },
   {
    "duration": 6,
    "start_time": "2022-02-04T16:25:17.302Z"
   },
   {
    "duration": 5,
    "start_time": "2022-02-04T16:25:17.854Z"
   },
   {
    "duration": 8,
    "start_time": "2022-02-04T16:25:50.061Z"
   },
   {
    "duration": 8,
    "start_time": "2022-02-04T16:25:50.723Z"
   },
   {
    "duration": 8,
    "start_time": "2022-02-04T16:25:51.333Z"
   },
   {
    "duration": 7,
    "start_time": "2022-02-04T16:25:53.117Z"
   },
   {
    "duration": 7,
    "start_time": "2022-02-04T16:25:53.681Z"
   },
   {
    "duration": 12,
    "start_time": "2022-02-04T16:25:59.025Z"
   },
   {
    "duration": 5,
    "start_time": "2022-02-04T16:25:59.693Z"
   },
   {
    "duration": 2,
    "start_time": "2022-02-04T16:26:28.343Z"
   },
   {
    "duration": 2,
    "start_time": "2022-02-04T16:26:29.369Z"
   },
   {
    "duration": 4,
    "start_time": "2022-02-04T16:26:29.867Z"
   },
   {
    "duration": 3,
    "start_time": "2022-02-04T16:26:30.343Z"
   },
   {
    "duration": 572,
    "start_time": "2022-02-04T16:26:30.855Z"
   },
   {
    "duration": 5,
    "start_time": "2022-02-04T16:26:31.429Z"
   },
   {
    "duration": 12,
    "start_time": "2022-02-04T16:26:31.775Z"
   },
   {
    "duration": 18,
    "start_time": "2022-02-04T16:26:32.490Z"
   },
   {
    "duration": 2,
    "start_time": "2022-02-04T16:26:42.249Z"
   },
   {
    "duration": 1142,
    "start_time": "2022-02-04T16:26:45.108Z"
   },
   {
    "duration": 1057,
    "start_time": "2022-02-04T16:26:51.931Z"
   },
   {
    "duration": 143,
    "start_time": "2022-02-04T16:26:56.461Z"
   },
   {
    "duration": 139,
    "start_time": "2022-02-04T16:27:02.135Z"
   },
   {
    "duration": 146,
    "start_time": "2022-02-04T16:27:04.794Z"
   },
   {
    "duration": 139,
    "start_time": "2022-02-04T16:27:06.975Z"
   },
   {
    "duration": 53,
    "start_time": "2022-02-04T16:27:09.274Z"
   },
   {
    "duration": 5,
    "start_time": "2022-02-04T16:27:29.358Z"
   },
   {
    "duration": 2,
    "start_time": "2022-02-04T16:27:30.553Z"
   },
   {
    "duration": 2,
    "start_time": "2022-02-04T16:27:57.379Z"
   },
   {
    "duration": 591,
    "start_time": "2022-02-04T16:28:00.435Z"
   },
   {
    "duration": 4,
    "start_time": "2022-02-04T16:28:03.667Z"
   },
   {
    "duration": 2,
    "start_time": "2022-02-04T16:28:08.764Z"
   },
   {
    "duration": 645,
    "start_time": "2022-02-04T16:28:11.760Z"
   },
   {
    "duration": 6,
    "start_time": "2022-02-04T16:28:16.048Z"
   },
   {
    "duration": 2,
    "start_time": "2022-02-04T16:28:18.554Z"
   },
   {
    "duration": 574,
    "start_time": "2022-02-04T16:28:20.592Z"
   },
   {
    "duration": 5,
    "start_time": "2022-02-04T16:28:23.911Z"
   },
   {
    "duration": 3,
    "start_time": "2022-02-04T16:28:30.384Z"
   },
   {
    "duration": 10,
    "start_time": "2022-02-04T16:28:31.560Z"
   },
   {
    "duration": 6,
    "start_time": "2022-02-04T16:28:32.628Z"
   },
   {
    "duration": 232,
    "start_time": "2022-02-04T16:28:39.084Z"
   },
   {
    "duration": 5,
    "start_time": "2022-02-04T16:28:43.328Z"
   },
   {
    "duration": 3,
    "start_time": "2022-02-04T16:28:47.174Z"
   },
   {
    "duration": 13,
    "start_time": "2022-02-04T16:28:47.838Z"
   },
   {
    "duration": 242,
    "start_time": "2022-02-04T16:28:51.118Z"
   },
   {
    "duration": 2,
    "start_time": "2022-02-04T16:29:03.290Z"
   },
   {
    "duration": 5,
    "start_time": "2022-02-04T16:29:04.156Z"
   },
   {
    "duration": 13,
    "start_time": "2022-02-04T16:29:06.654Z"
   },
   {
    "duration": 250,
    "start_time": "2022-02-04T16:29:10.164Z"
   },
   {
    "duration": 2,
    "start_time": "2022-02-04T16:30:04.990Z"
   },
   {
    "duration": 13,
    "start_time": "2022-02-04T16:30:05.588Z"
   },
   {
    "duration": 245,
    "start_time": "2022-02-04T16:30:07.972Z"
   },
   {
    "duration": 10673,
    "start_time": "2022-02-04T16:30:11.710Z"
   },
   {
    "duration": 2,
    "start_time": "2022-02-04T16:30:54.472Z"
   },
   {
    "duration": 3,
    "start_time": "2022-02-04T16:30:55.086Z"
   },
   {
    "duration": 9,
    "start_time": "2022-02-04T16:30:55.554Z"
   },
   {
    "duration": 3,
    "start_time": "2022-02-04T16:30:58.624Z"
   },
   {
    "duration": 8,
    "start_time": "2022-02-04T16:31:01.454Z"
   },
   {
    "duration": 9,
    "start_time": "2022-02-04T16:31:02.134Z"
   },
   {
    "duration": 7,
    "start_time": "2022-02-04T16:31:02.655Z"
   },
   {
    "duration": 266,
    "start_time": "2022-02-04T16:31:05.736Z"
   },
   {
    "duration": 2,
    "start_time": "2022-02-04T16:31:28.850Z"
   },
   {
    "duration": 3,
    "start_time": "2022-02-04T16:31:39.740Z"
   },
   {
    "duration": 5,
    "start_time": "2022-02-04T16:31:51.807Z"
   },
   {
    "duration": 5,
    "start_time": "2022-02-04T16:31:52.418Z"
   },
   {
    "duration": 14,
    "start_time": "2022-02-04T16:31:54.041Z"
   },
   {
    "duration": 35,
    "start_time": "2022-02-04T16:31:54.057Z"
   },
   {
    "duration": 13,
    "start_time": "2022-02-04T16:31:54.404Z"
   },
   {
    "duration": 29,
    "start_time": "2022-02-04T16:32:06.166Z"
   },
   {
    "duration": 13,
    "start_time": "2022-02-04T16:32:11.274Z"
   },
   {
    "duration": 13,
    "start_time": "2022-02-04T16:32:15.163Z"
   },
   {
    "duration": 3,
    "start_time": "2022-02-04T16:32:19.454Z"
   },
   {
    "duration": 2,
    "start_time": "2022-02-04T16:32:42.162Z"
   },
   {
    "duration": 6,
    "start_time": "2022-02-04T16:32:44.512Z"
   },
   {
    "duration": 27,
    "start_time": "2022-02-04T16:32:46.214Z"
   },
   {
    "duration": 930,
    "start_time": "2022-02-04T16:32:48.786Z"
   },
   {
    "duration": 8,
    "start_time": "2022-02-04T16:32:59.165Z"
   },
   {
    "duration": 2,
    "start_time": "2022-02-04T16:33:01.056Z"
   },
   {
    "duration": 4465,
    "start_time": "2022-02-04T16:33:10.426Z"
   },
   {
    "duration": 13,
    "start_time": "2022-02-04T16:33:14.892Z"
   },
   {
    "duration": 14,
    "start_time": "2022-02-04T16:33:14.906Z"
   },
   {
    "duration": 3,
    "start_time": "2022-02-04T16:33:32.957Z"
   },
   {
    "duration": 1064,
    "start_time": "2022-02-04T16:38:58.134Z"
   },
   {
    "duration": 62,
    "start_time": "2022-02-04T16:38:59.200Z"
   },
   {
    "duration": 10,
    "start_time": "2022-02-04T16:38:59.264Z"
   },
   {
    "duration": 22,
    "start_time": "2022-02-04T16:38:59.276Z"
   },
   {
    "duration": 73,
    "start_time": "2022-02-04T16:38:59.299Z"
   },
   {
    "duration": 6,
    "start_time": "2022-02-04T16:38:59.373Z"
   },
   {
    "duration": 5,
    "start_time": "2022-02-04T16:38:59.380Z"
   },
   {
    "duration": 6,
    "start_time": "2022-02-04T16:38:59.388Z"
   },
   {
    "duration": 4,
    "start_time": "2022-02-04T16:38:59.396Z"
   },
   {
    "duration": 5,
    "start_time": "2022-02-04T16:38:59.402Z"
   },
   {
    "duration": 4,
    "start_time": "2022-02-04T16:38:59.408Z"
   },
   {
    "duration": 9,
    "start_time": "2022-02-04T16:38:59.414Z"
   },
   {
    "duration": 8,
    "start_time": "2022-02-04T16:38:59.425Z"
   },
   {
    "duration": 39,
    "start_time": "2022-02-04T16:38:59.435Z"
   },
   {
    "duration": 5,
    "start_time": "2022-02-04T16:38:59.475Z"
   },
   {
    "duration": 6,
    "start_time": "2022-02-04T16:38:59.481Z"
   },
   {
    "duration": 7,
    "start_time": "2022-02-04T16:38:59.488Z"
   },
   {
    "duration": 8,
    "start_time": "2022-02-04T16:38:59.497Z"
   },
   {
    "duration": 14,
    "start_time": "2022-02-04T16:38:59.506Z"
   },
   {
    "duration": 10,
    "start_time": "2022-02-04T16:38:59.521Z"
   },
   {
    "duration": 7,
    "start_time": "2022-02-04T16:38:59.533Z"
   },
   {
    "duration": 6,
    "start_time": "2022-02-04T16:38:59.542Z"
   },
   {
    "duration": 5,
    "start_time": "2022-02-04T16:38:59.574Z"
   },
   {
    "duration": 5,
    "start_time": "2022-02-04T16:38:59.581Z"
   },
   {
    "duration": 9,
    "start_time": "2022-02-04T16:38:59.587Z"
   },
   {
    "duration": 13,
    "start_time": "2022-02-04T16:38:59.597Z"
   },
   {
    "duration": 12,
    "start_time": "2022-02-04T16:38:59.611Z"
   },
   {
    "duration": 29,
    "start_time": "2022-02-04T16:38:59.625Z"
   },
   {
    "duration": 23,
    "start_time": "2022-02-04T16:38:59.656Z"
   },
   {
    "duration": 21,
    "start_time": "2022-02-04T16:38:59.681Z"
   },
   {
    "duration": 7,
    "start_time": "2022-02-04T16:38:59.704Z"
   },
   {
    "duration": 6,
    "start_time": "2022-02-04T16:38:59.713Z"
   },
   {
    "duration": 14,
    "start_time": "2022-02-04T16:38:59.720Z"
   },
   {
    "duration": 8,
    "start_time": "2022-02-04T16:38:59.736Z"
   },
   {
    "duration": 12,
    "start_time": "2022-02-04T16:38:59.745Z"
   },
   {
    "duration": 8,
    "start_time": "2022-02-04T16:38:59.772Z"
   },
   {
    "duration": 8,
    "start_time": "2022-02-04T16:38:59.782Z"
   },
   {
    "duration": 6,
    "start_time": "2022-02-04T16:38:59.792Z"
   },
   {
    "duration": 13,
    "start_time": "2022-02-04T16:38:59.799Z"
   },
   {
    "duration": 13,
    "start_time": "2022-02-04T16:38:59.814Z"
   },
   {
    "duration": 5,
    "start_time": "2022-02-04T16:38:59.828Z"
   },
   {
    "duration": 6,
    "start_time": "2022-02-04T16:38:59.835Z"
   },
   {
    "duration": 12,
    "start_time": "2022-02-04T16:38:59.842Z"
   },
   {
    "duration": 10,
    "start_time": "2022-02-04T16:38:59.872Z"
   },
   {
    "duration": 6,
    "start_time": "2022-02-04T16:38:59.884Z"
   },
   {
    "duration": 570,
    "start_time": "2022-02-04T16:38:59.892Z"
   },
   {
    "duration": 10,
    "start_time": "2022-02-04T16:39:00.464Z"
   },
   {
    "duration": 23,
    "start_time": "2022-02-04T16:39:00.476Z"
   },
   {
    "duration": 23,
    "start_time": "2022-02-04T16:39:00.501Z"
   },
   {
    "duration": 4,
    "start_time": "2022-02-04T16:39:00.526Z"
   },
   {
    "duration": 1159,
    "start_time": "2022-02-04T16:39:00.532Z"
   },
   {
    "duration": 1093,
    "start_time": "2022-02-04T16:39:01.693Z"
   },
   {
    "duration": 154,
    "start_time": "2022-02-04T16:39:02.787Z"
   },
   {
    "duration": 154,
    "start_time": "2022-02-04T16:39:02.942Z"
   },
   {
    "duration": 144,
    "start_time": "2022-02-04T16:39:03.097Z"
   },
   {
    "duration": 148,
    "start_time": "2022-02-04T16:39:03.243Z"
   },
   {
    "duration": 122,
    "start_time": "2022-02-04T16:39:03.393Z"
   },
   {
    "duration": 4,
    "start_time": "2022-02-04T16:39:03.516Z"
   },
   {
    "duration": 3,
    "start_time": "2022-02-04T16:39:03.522Z"
   },
   {
    "duration": 4,
    "start_time": "2022-02-04T16:39:03.527Z"
   },
   {
    "duration": 558,
    "start_time": "2022-02-04T16:39:03.533Z"
   },
   {
    "duration": 5,
    "start_time": "2022-02-04T16:39:04.093Z"
   },
   {
    "duration": 2,
    "start_time": "2022-02-04T16:39:04.100Z"
   },
   {
    "duration": 613,
    "start_time": "2022-02-04T16:39:04.104Z"
   },
   {
    "duration": 6,
    "start_time": "2022-02-04T16:39:04.719Z"
   },
   {
    "duration": 3,
    "start_time": "2022-02-04T16:39:04.727Z"
   },
   {
    "duration": 590,
    "start_time": "2022-02-04T16:39:04.731Z"
   },
   {
    "duration": 5,
    "start_time": "2022-02-04T16:39:05.328Z"
   },
   {
    "duration": 2,
    "start_time": "2022-02-04T16:39:05.336Z"
   },
   {
    "duration": 32,
    "start_time": "2022-02-04T16:39:05.340Z"
   },
   {
    "duration": 6,
    "start_time": "2022-02-04T16:39:05.373Z"
   },
   {
    "duration": 231,
    "start_time": "2022-02-04T16:39:05.381Z"
   },
   {
    "duration": 6,
    "start_time": "2022-02-04T16:39:05.614Z"
   },
   {
    "duration": 5,
    "start_time": "2022-02-04T16:39:05.621Z"
   },
   {
    "duration": 14,
    "start_time": "2022-02-04T16:39:05.627Z"
   },
   {
    "duration": 267,
    "start_time": "2022-02-04T16:39:05.643Z"
   },
   {
    "duration": 3,
    "start_time": "2022-02-04T16:39:05.912Z"
   },
   {
    "duration": 6,
    "start_time": "2022-02-04T16:39:05.916Z"
   },
   {
    "duration": 13,
    "start_time": "2022-02-04T16:39:05.924Z"
   },
   {
    "duration": 278,
    "start_time": "2022-02-04T16:39:05.939Z"
   },
   {
    "duration": 3,
    "start_time": "2022-02-04T16:39:06.218Z"
   },
   {
    "duration": 16,
    "start_time": "2022-02-04T16:39:06.222Z"
   },
   {
    "duration": 250,
    "start_time": "2022-02-04T16:39:06.240Z"
   },
   {
    "duration": 9680,
    "start_time": "2022-02-04T16:39:06.492Z"
   },
   {
    "duration": 3,
    "start_time": "2022-02-04T16:39:16.174Z"
   },
   {
    "duration": 6,
    "start_time": "2022-02-04T16:39:16.178Z"
   },
   {
    "duration": 10,
    "start_time": "2022-02-04T16:39:16.185Z"
   },
   {
    "duration": 3,
    "start_time": "2022-02-04T16:39:16.196Z"
   },
   {
    "duration": 13,
    "start_time": "2022-02-04T16:39:16.200Z"
   },
   {
    "duration": 10,
    "start_time": "2022-02-04T16:39:16.214Z"
   },
   {
    "duration": 7,
    "start_time": "2022-02-04T16:39:16.225Z"
   },
   {
    "duration": 291,
    "start_time": "2022-02-04T16:39:16.233Z"
   },
   {
    "duration": 2,
    "start_time": "2022-02-04T16:39:16.526Z"
   },
   {
    "duration": 6,
    "start_time": "2022-02-04T16:39:16.529Z"
   },
   {
    "duration": 6,
    "start_time": "2022-02-04T16:39:16.536Z"
   },
   {
    "duration": 4,
    "start_time": "2022-02-04T16:39:16.543Z"
   },
   {
    "duration": 28,
    "start_time": "2022-02-04T16:39:16.549Z"
   },
   {
    "duration": 28,
    "start_time": "2022-02-04T16:39:16.578Z"
   },
   {
    "duration": 13,
    "start_time": "2022-02-04T16:39:16.607Z"
   },
   {
    "duration": 12,
    "start_time": "2022-02-04T16:39:16.622Z"
   },
   {
    "duration": 2,
    "start_time": "2022-02-04T16:39:16.635Z"
   },
   {
    "duration": 6,
    "start_time": "2022-02-04T16:39:16.639Z"
   },
   {
    "duration": 7,
    "start_time": "2022-02-04T16:39:16.671Z"
   },
   {
    "duration": 27,
    "start_time": "2022-02-04T16:39:16.679Z"
   },
   {
    "duration": 1034,
    "start_time": "2022-02-04T16:39:16.708Z"
   },
   {
    "duration": 6,
    "start_time": "2022-02-04T16:39:17.744Z"
   },
   {
    "duration": 2,
    "start_time": "2022-02-04T16:39:17.752Z"
   },
   {
    "duration": 4393,
    "start_time": "2022-02-04T16:39:17.755Z"
   },
   {
    "duration": 25,
    "start_time": "2022-02-04T16:39:22.149Z"
   },
   {
    "duration": 14,
    "start_time": "2022-02-04T16:39:22.175Z"
   },
   {
    "duration": 2,
    "start_time": "2022-02-04T16:39:22.190Z"
   },
   {
    "duration": 29,
    "start_time": "2022-02-04T16:42:48.521Z"
   },
   {
    "duration": 18,
    "start_time": "2022-02-04T16:42:53.989Z"
   },
   {
    "duration": 13,
    "start_time": "2022-02-04T16:42:57.457Z"
   },
   {
    "duration": 3,
    "start_time": "2022-02-04T16:43:05.173Z"
   },
   {
    "duration": 3,
    "start_time": "2022-02-04T16:43:12.469Z"
   },
   {
    "duration": 7,
    "start_time": "2022-02-04T16:43:14.885Z"
   },
   {
    "duration": 28,
    "start_time": "2022-02-04T16:43:17.421Z"
   },
   {
    "duration": 1064,
    "start_time": "2022-02-04T16:43:21.512Z"
   },
   {
    "duration": 8,
    "start_time": "2022-02-04T16:43:25.285Z"
   },
   {
    "duration": 3,
    "start_time": "2022-02-04T16:43:29.433Z"
   },
   {
    "duration": 4368,
    "start_time": "2022-02-04T16:43:30.542Z"
   },
   {
    "duration": 14,
    "start_time": "2022-02-04T16:43:37.342Z"
   },
   {
    "duration": 15,
    "start_time": "2022-02-04T16:43:39.824Z"
   },
   {
    "duration": 3,
    "start_time": "2022-02-04T16:43:44.565Z"
   },
   {
    "duration": 2,
    "start_time": "2022-02-04T16:46:07.129Z"
   },
   {
    "duration": 1134,
    "start_time": "2022-02-04T16:46:51.483Z"
   },
   {
    "duration": 65,
    "start_time": "2022-02-04T16:46:52.618Z"
   },
   {
    "duration": 10,
    "start_time": "2022-02-04T16:46:52.685Z"
   },
   {
    "duration": 24,
    "start_time": "2022-02-04T16:46:52.697Z"
   },
   {
    "duration": 74,
    "start_time": "2022-02-04T16:46:52.722Z"
   },
   {
    "duration": 5,
    "start_time": "2022-02-04T16:46:52.798Z"
   },
   {
    "duration": 13,
    "start_time": "2022-02-04T16:46:52.804Z"
   },
   {
    "duration": 22,
    "start_time": "2022-02-04T16:46:52.819Z"
   },
   {
    "duration": 5,
    "start_time": "2022-02-04T16:46:52.843Z"
   },
   {
    "duration": 23,
    "start_time": "2022-02-04T16:46:52.849Z"
   },
   {
    "duration": 8,
    "start_time": "2022-02-04T16:46:52.874Z"
   },
   {
    "duration": 9,
    "start_time": "2022-02-04T16:46:52.884Z"
   },
   {
    "duration": 16,
    "start_time": "2022-02-04T16:46:52.895Z"
   },
   {
    "duration": 18,
    "start_time": "2022-02-04T16:46:52.912Z"
   },
   {
    "duration": 22,
    "start_time": "2022-02-04T16:46:52.932Z"
   },
   {
    "duration": 29,
    "start_time": "2022-02-04T16:46:52.955Z"
   },
   {
    "duration": 17,
    "start_time": "2022-02-04T16:46:52.985Z"
   },
   {
    "duration": 18,
    "start_time": "2022-02-04T16:46:53.004Z"
   },
   {
    "duration": 17,
    "start_time": "2022-02-04T16:46:53.024Z"
   },
   {
    "duration": 19,
    "start_time": "2022-02-04T16:46:53.043Z"
   },
   {
    "duration": 23,
    "start_time": "2022-02-04T16:46:53.063Z"
   },
   {
    "duration": 14,
    "start_time": "2022-02-04T16:46:53.088Z"
   },
   {
    "duration": 8,
    "start_time": "2022-02-04T16:46:53.106Z"
   },
   {
    "duration": 15,
    "start_time": "2022-02-04T16:46:53.116Z"
   },
   {
    "duration": 21,
    "start_time": "2022-02-04T16:46:53.132Z"
   },
   {
    "duration": 30,
    "start_time": "2022-02-04T16:46:53.155Z"
   },
   {
    "duration": 34,
    "start_time": "2022-02-04T16:46:53.187Z"
   },
   {
    "duration": 29,
    "start_time": "2022-02-04T16:46:53.223Z"
   },
   {
    "duration": 9,
    "start_time": "2022-02-04T16:46:53.254Z"
   },
   {
    "duration": 32,
    "start_time": "2022-02-04T16:46:53.264Z"
   },
   {
    "duration": 12,
    "start_time": "2022-02-04T16:46:53.297Z"
   },
   {
    "duration": 19,
    "start_time": "2022-02-04T16:46:53.310Z"
   },
   {
    "duration": 27,
    "start_time": "2022-02-04T16:46:53.330Z"
   },
   {
    "duration": 12,
    "start_time": "2022-02-04T16:46:53.358Z"
   },
   {
    "duration": 18,
    "start_time": "2022-02-04T16:46:53.371Z"
   },
   {
    "duration": 19,
    "start_time": "2022-02-04T16:46:53.390Z"
   },
   {
    "duration": 13,
    "start_time": "2022-02-04T16:46:53.410Z"
   },
   {
    "duration": 15,
    "start_time": "2022-02-04T16:46:53.425Z"
   },
   {
    "duration": 23,
    "start_time": "2022-02-04T16:46:53.441Z"
   },
   {
    "duration": 24,
    "start_time": "2022-02-04T16:46:53.466Z"
   },
   {
    "duration": 12,
    "start_time": "2022-02-04T16:46:53.491Z"
   },
   {
    "duration": 13,
    "start_time": "2022-02-04T16:46:53.505Z"
   },
   {
    "duration": 16,
    "start_time": "2022-02-04T16:46:53.519Z"
   },
   {
    "duration": 22,
    "start_time": "2022-02-04T16:46:53.537Z"
   },
   {
    "duration": 19,
    "start_time": "2022-02-04T16:46:53.561Z"
   },
   {
    "duration": 555,
    "start_time": "2022-02-04T16:46:53.581Z"
   },
   {
    "duration": 4,
    "start_time": "2022-02-04T16:46:54.138Z"
   },
   {
    "duration": 13,
    "start_time": "2022-02-04T16:46:54.143Z"
   },
   {
    "duration": 27,
    "start_time": "2022-02-04T16:46:54.157Z"
   },
   {
    "duration": 2,
    "start_time": "2022-02-04T16:46:54.185Z"
   },
   {
    "duration": 1106,
    "start_time": "2022-02-04T16:46:54.189Z"
   },
   {
    "duration": 1108,
    "start_time": "2022-02-04T16:46:55.297Z"
   },
   {
    "duration": 155,
    "start_time": "2022-02-04T16:46:56.406Z"
   },
   {
    "duration": 168,
    "start_time": "2022-02-04T16:46:56.563Z"
   },
   {
    "duration": 154,
    "start_time": "2022-02-04T16:46:56.732Z"
   },
   {
    "duration": 163,
    "start_time": "2022-02-04T16:46:56.888Z"
   },
   {
    "duration": 138,
    "start_time": "2022-02-04T16:46:57.053Z"
   },
   {
    "duration": 4,
    "start_time": "2022-02-04T16:46:57.192Z"
   },
   {
    "duration": 3,
    "start_time": "2022-02-04T16:46:57.198Z"
   },
   {
    "duration": 5,
    "start_time": "2022-02-04T16:46:57.203Z"
   },
   {
    "duration": 598,
    "start_time": "2022-02-04T16:46:57.209Z"
   },
   {
    "duration": 4,
    "start_time": "2022-02-04T16:46:57.809Z"
   },
   {
    "duration": 3,
    "start_time": "2022-02-04T16:46:57.815Z"
   },
   {
    "duration": 604,
    "start_time": "2022-02-04T16:46:57.819Z"
   },
   {
    "duration": 4,
    "start_time": "2022-02-04T16:46:58.425Z"
   },
   {
    "duration": 2,
    "start_time": "2022-02-04T16:46:58.430Z"
   },
   {
    "duration": 583,
    "start_time": "2022-02-04T16:46:58.433Z"
   },
   {
    "duration": 5,
    "start_time": "2022-02-04T16:46:59.020Z"
   },
   {
    "duration": 2,
    "start_time": "2022-02-04T16:46:59.027Z"
   },
   {
    "duration": 12,
    "start_time": "2022-02-04T16:46:59.030Z"
   },
   {
    "duration": 5,
    "start_time": "2022-02-04T16:46:59.043Z"
   },
   {
    "duration": 240,
    "start_time": "2022-02-04T16:46:59.050Z"
   },
   {
    "duration": 5,
    "start_time": "2022-02-04T16:46:59.291Z"
   },
   {
    "duration": 3,
    "start_time": "2022-02-04T16:46:59.297Z"
   },
   {
    "duration": 16,
    "start_time": "2022-02-04T16:46:59.301Z"
   },
   {
    "duration": 268,
    "start_time": "2022-02-04T16:46:59.319Z"
   },
   {
    "duration": 2,
    "start_time": "2022-02-04T16:46:59.589Z"
   },
   {
    "duration": 6,
    "start_time": "2022-02-04T16:46:59.593Z"
   },
   {
    "duration": 13,
    "start_time": "2022-02-04T16:46:59.601Z"
   },
   {
    "duration": 276,
    "start_time": "2022-02-04T16:46:59.616Z"
   },
   {
    "duration": 3,
    "start_time": "2022-02-04T16:46:59.893Z"
   },
   {
    "duration": 13,
    "start_time": "2022-02-04T16:46:59.898Z"
   },
   {
    "duration": 262,
    "start_time": "2022-02-04T16:46:59.912Z"
   },
   {
    "duration": 9957,
    "start_time": "2022-02-04T16:47:00.175Z"
   },
   {
    "duration": 2,
    "start_time": "2022-02-04T16:47:10.133Z"
   },
   {
    "duration": 4,
    "start_time": "2022-02-04T16:47:10.137Z"
   },
   {
    "duration": 9,
    "start_time": "2022-02-04T16:47:10.142Z"
   },
   {
    "duration": 3,
    "start_time": "2022-02-04T16:47:10.171Z"
   },
   {
    "duration": 9,
    "start_time": "2022-02-04T16:47:10.175Z"
   },
   {
    "duration": 10,
    "start_time": "2022-02-04T16:47:10.185Z"
   },
   {
    "duration": 12,
    "start_time": "2022-02-04T16:47:10.196Z"
   },
   {
    "duration": 288,
    "start_time": "2022-02-04T16:47:10.210Z"
   },
   {
    "duration": 11,
    "start_time": "2022-02-04T16:47:10.500Z"
   },
   {
    "duration": 6,
    "start_time": "2022-02-04T16:47:10.513Z"
   },
   {
    "duration": 6,
    "start_time": "2022-02-04T16:47:10.520Z"
   },
   {
    "duration": 4,
    "start_time": "2022-02-04T16:47:10.527Z"
   },
   {
    "duration": 17,
    "start_time": "2022-02-04T16:47:10.532Z"
   },
   {
    "duration": 40,
    "start_time": "2022-02-04T16:47:10.550Z"
   },
   {
    "duration": 10,
    "start_time": "2022-02-04T16:47:10.592Z"
   },
   {
    "duration": 10,
    "start_time": "2022-02-04T16:47:10.604Z"
   },
   {
    "duration": 2,
    "start_time": "2022-02-04T16:47:10.615Z"
   },
   {
    "duration": 7,
    "start_time": "2022-02-04T16:47:10.619Z"
   },
   {
    "duration": 11,
    "start_time": "2022-02-04T16:47:10.628Z"
   },
   {
    "duration": 53,
    "start_time": "2022-02-04T16:47:10.641Z"
   },
   {
    "duration": 1049,
    "start_time": "2022-02-04T16:47:10.696Z"
   },
   {
    "duration": 6,
    "start_time": "2022-02-04T16:47:11.746Z"
   },
   {
    "duration": 3,
    "start_time": "2022-02-04T16:47:11.754Z"
   },
   {
    "duration": 4534,
    "start_time": "2022-02-04T16:47:11.758Z"
   },
   {
    "duration": 17,
    "start_time": "2022-02-04T16:47:16.294Z"
   },
   {
    "duration": 16,
    "start_time": "2022-02-04T16:47:16.313Z"
   },
   {
    "duration": 2,
    "start_time": "2022-02-04T16:47:16.330Z"
   },
   {
    "duration": 1206,
    "start_time": "2022-02-12T12:27:05.583Z"
   },
   {
    "duration": 63,
    "start_time": "2022-02-12T12:27:06.791Z"
   },
   {
    "duration": 11,
    "start_time": "2022-02-12T12:27:06.857Z"
   },
   {
    "duration": 27,
    "start_time": "2022-02-12T12:27:06.870Z"
   },
   {
    "duration": 71,
    "start_time": "2022-02-12T12:27:06.919Z"
   },
   {
    "duration": 29,
    "start_time": "2022-02-12T12:27:06.992Z"
   },
   {
    "duration": 8,
    "start_time": "2022-02-12T12:27:07.024Z"
   },
   {
    "duration": 10,
    "start_time": "2022-02-12T12:27:07.035Z"
   },
   {
    "duration": 12,
    "start_time": "2022-02-12T12:27:07.047Z"
   },
   {
    "duration": 12,
    "start_time": "2022-02-12T12:27:07.061Z"
   },
   {
    "duration": 6,
    "start_time": "2022-02-12T12:27:07.075Z"
   },
   {
    "duration": 39,
    "start_time": "2022-02-12T12:27:07.082Z"
   },
   {
    "duration": 9,
    "start_time": "2022-02-12T12:27:07.123Z"
   },
   {
    "duration": 7,
    "start_time": "2022-02-12T12:27:07.134Z"
   },
   {
    "duration": 13,
    "start_time": "2022-02-12T12:27:07.143Z"
   },
   {
    "duration": 10,
    "start_time": "2022-02-12T12:27:07.158Z"
   },
   {
    "duration": 12,
    "start_time": "2022-02-12T12:27:07.170Z"
   },
   {
    "duration": 14,
    "start_time": "2022-02-12T12:27:07.184Z"
   },
   {
    "duration": 22,
    "start_time": "2022-02-12T12:27:07.200Z"
   },
   {
    "duration": 17,
    "start_time": "2022-02-12T12:27:07.224Z"
   },
   {
    "duration": 12,
    "start_time": "2022-02-12T12:27:07.243Z"
   },
   {
    "duration": 6,
    "start_time": "2022-02-12T12:27:07.257Z"
   },
   {
    "duration": 10,
    "start_time": "2022-02-12T12:27:07.267Z"
   },
   {
    "duration": 8,
    "start_time": "2022-02-12T12:27:07.280Z"
   },
   {
    "duration": 31,
    "start_time": "2022-02-12T12:27:07.290Z"
   },
   {
    "duration": 19,
    "start_time": "2022-02-12T12:27:07.323Z"
   },
   {
    "duration": 10,
    "start_time": "2022-02-12T12:27:07.343Z"
   },
   {
    "duration": 31,
    "start_time": "2022-02-12T12:27:07.355Z"
   },
   {
    "duration": 30,
    "start_time": "2022-02-12T12:27:07.388Z"
   },
   {
    "duration": 21,
    "start_time": "2022-02-12T12:27:07.420Z"
   },
   {
    "duration": 25,
    "start_time": "2022-02-12T12:27:07.443Z"
   },
   {
    "duration": 8,
    "start_time": "2022-02-12T12:27:07.470Z"
   },
   {
    "duration": 30,
    "start_time": "2022-02-12T12:27:07.480Z"
   },
   {
    "duration": 17,
    "start_time": "2022-02-12T12:27:07.512Z"
   },
   {
    "duration": 32,
    "start_time": "2022-02-12T12:27:07.531Z"
   },
   {
    "duration": 23,
    "start_time": "2022-02-12T12:27:07.565Z"
   },
   {
    "duration": 26,
    "start_time": "2022-02-12T12:27:07.590Z"
   },
   {
    "duration": 23,
    "start_time": "2022-02-12T12:27:07.618Z"
   },
   {
    "duration": 31,
    "start_time": "2022-02-12T12:27:07.643Z"
   },
   {
    "duration": 17,
    "start_time": "2022-02-12T12:27:07.675Z"
   },
   {
    "duration": 17,
    "start_time": "2022-02-12T12:27:07.694Z"
   },
   {
    "duration": 23,
    "start_time": "2022-02-12T12:27:07.712Z"
   },
   {
    "duration": 39,
    "start_time": "2022-02-12T12:27:07.737Z"
   },
   {
    "duration": 20,
    "start_time": "2022-02-12T12:27:07.779Z"
   },
   {
    "duration": 19,
    "start_time": "2022-02-12T12:27:07.801Z"
   },
   {
    "duration": 622,
    "start_time": "2022-02-12T12:27:07.822Z"
   },
   {
    "duration": 5,
    "start_time": "2022-02-12T12:27:08.446Z"
   },
   {
    "duration": 16,
    "start_time": "2022-02-12T12:27:08.453Z"
   },
   {
    "duration": 20,
    "start_time": "2022-02-12T12:27:08.471Z"
   },
   {
    "duration": 2,
    "start_time": "2022-02-12T12:27:08.493Z"
   },
   {
    "duration": 1364,
    "start_time": "2022-02-12T12:27:08.518Z"
   },
   {
    "duration": 1696,
    "start_time": "2022-02-12T12:27:09.883Z"
   },
   {
    "duration": 172,
    "start_time": "2022-02-12T12:27:11.580Z"
   },
   {
    "duration": 181,
    "start_time": "2022-02-12T12:27:11.754Z"
   },
   {
    "duration": 170,
    "start_time": "2022-02-12T12:27:11.938Z"
   },
   {
    "duration": 319,
    "start_time": "2022-02-12T12:27:12.110Z"
   },
   {
    "duration": 160,
    "start_time": "2022-02-12T12:27:12.431Z"
   },
   {
    "duration": 6,
    "start_time": "2022-02-12T12:27:12.593Z"
   },
   {
    "duration": 26,
    "start_time": "2022-02-12T12:27:12.601Z"
   },
   {
    "duration": 21,
    "start_time": "2022-02-12T12:27:12.630Z"
   },
   {
    "duration": 655,
    "start_time": "2022-02-12T12:27:12.654Z"
   },
   {
    "duration": 5,
    "start_time": "2022-02-12T12:27:13.318Z"
   },
   {
    "duration": 14,
    "start_time": "2022-02-12T12:27:13.324Z"
   },
   {
    "duration": 692,
    "start_time": "2022-02-12T12:27:13.340Z"
   },
   {
    "duration": 5,
    "start_time": "2022-02-12T12:27:14.034Z"
   },
   {
    "duration": 15,
    "start_time": "2022-02-12T12:27:14.041Z"
   },
   {
    "duration": 863,
    "start_time": "2022-02-12T12:27:14.058Z"
   },
   {
    "duration": 5,
    "start_time": "2022-02-12T12:27:14.926Z"
   },
   {
    "duration": 8,
    "start_time": "2022-02-12T12:27:14.933Z"
   },
   {
    "duration": 19,
    "start_time": "2022-02-12T12:27:14.943Z"
   },
   {
    "duration": 11,
    "start_time": "2022-02-12T12:27:14.964Z"
   },
   {
    "duration": 294,
    "start_time": "2022-02-12T12:27:14.977Z"
   },
   {
    "duration": 6,
    "start_time": "2022-02-12T12:27:15.274Z"
   },
   {
    "duration": 9,
    "start_time": "2022-02-12T12:27:15.282Z"
   },
   {
    "duration": 37,
    "start_time": "2022-02-12T12:27:15.293Z"
   },
   {
    "duration": 325,
    "start_time": "2022-02-12T12:27:15.332Z"
   },
   {
    "duration": 3,
    "start_time": "2022-02-12T12:27:15.659Z"
   },
   {
    "duration": 8,
    "start_time": "2022-02-12T12:27:15.663Z"
   },
   {
    "duration": 28,
    "start_time": "2022-02-12T12:27:15.673Z"
   },
   {
    "duration": 281,
    "start_time": "2022-02-12T12:27:15.702Z"
   },
   {
    "duration": 2,
    "start_time": "2022-02-12T12:27:15.985Z"
   },
   {
    "duration": 16,
    "start_time": "2022-02-12T12:27:15.989Z"
   },
   {
    "duration": 279,
    "start_time": "2022-02-12T12:27:16.019Z"
   },
   {
    "duration": 11674,
    "start_time": "2022-02-12T12:27:16.300Z"
   },
   {
    "duration": 3,
    "start_time": "2022-02-12T12:27:27.975Z"
   },
   {
    "duration": 5,
    "start_time": "2022-02-12T12:27:27.980Z"
   },
   {
    "duration": 10,
    "start_time": "2022-02-12T12:27:27.987Z"
   },
   {
    "duration": 20,
    "start_time": "2022-02-12T12:27:27.999Z"
   },
   {
    "duration": 15,
    "start_time": "2022-02-12T12:27:28.021Z"
   },
   {
    "duration": 10,
    "start_time": "2022-02-12T12:27:28.037Z"
   },
   {
    "duration": 10,
    "start_time": "2022-02-12T12:27:28.048Z"
   },
   {
    "duration": 300,
    "start_time": "2022-02-12T12:27:28.060Z"
   },
   {
    "duration": 2,
    "start_time": "2022-02-12T12:27:28.362Z"
   },
   {
    "duration": 7,
    "start_time": "2022-02-12T12:27:28.366Z"
   },
   {
    "duration": 7,
    "start_time": "2022-02-12T12:27:28.375Z"
   },
   {
    "duration": 4,
    "start_time": "2022-02-12T12:27:28.384Z"
   },
   {
    "duration": 41,
    "start_time": "2022-02-12T12:27:28.390Z"
   },
   {
    "duration": 33,
    "start_time": "2022-02-12T12:27:28.432Z"
   },
   {
    "duration": 13,
    "start_time": "2022-02-12T12:27:28.467Z"
   },
   {
    "duration": 37,
    "start_time": "2022-02-12T12:27:28.482Z"
   },
   {
    "duration": 3,
    "start_time": "2022-02-12T12:27:28.521Z"
   },
   {
    "duration": 6,
    "start_time": "2022-02-12T12:27:28.525Z"
   },
   {
    "duration": 12,
    "start_time": "2022-02-12T12:27:28.533Z"
   },
   {
    "duration": 34,
    "start_time": "2022-02-12T12:27:28.547Z"
   },
   {
    "duration": 1115,
    "start_time": "2022-02-12T12:27:28.583Z"
   },
   {
    "duration": 20,
    "start_time": "2022-02-12T12:27:29.699Z"
   },
   {
    "duration": 2,
    "start_time": "2022-02-12T12:27:29.721Z"
   },
   {
    "duration": 5066,
    "start_time": "2022-02-12T12:27:29.724Z"
   },
   {
    "duration": 27,
    "start_time": "2022-02-12T12:27:34.792Z"
   },
   {
    "duration": 16,
    "start_time": "2022-02-12T12:27:34.820Z"
   },
   {
    "duration": 2,
    "start_time": "2022-02-12T12:27:34.838Z"
   },
   {
    "duration": 88,
    "start_time": "2022-02-12T12:59:39.051Z"
   },
   {
    "duration": 170,
    "start_time": "2022-02-12T13:09:50.516Z"
   },
   {
    "duration": 110,
    "start_time": "2022-02-12T13:13:08.591Z"
   },
   {
    "duration": 2,
    "start_time": "2022-02-12T13:13:31.753Z"
   },
   {
    "duration": 10,
    "start_time": "2022-02-12T13:30:18.226Z"
   },
   {
    "duration": 89,
    "start_time": "2022-02-12T13:32:22.857Z"
   },
   {
    "duration": 653,
    "start_time": "2022-02-12T13:35:38.258Z"
   },
   {
    "duration": 1099,
    "start_time": "2022-02-12T13:35:39.240Z"
   },
   {
    "duration": 704,
    "start_time": "2022-02-12T13:35:41.473Z"
   },
   {
    "duration": 90,
    "start_time": "2022-02-12T13:37:24.085Z"
   },
   {
    "duration": 1111,
    "start_time": "2022-02-12T16:22:31.651Z"
   },
   {
    "duration": 63,
    "start_time": "2022-02-12T16:22:34.307Z"
   },
   {
    "duration": 11,
    "start_time": "2022-02-12T16:22:37.800Z"
   },
   {
    "duration": 28,
    "start_time": "2022-02-12T16:22:40.919Z"
   },
   {
    "duration": 73,
    "start_time": "2022-02-12T16:22:48.638Z"
   },
   {
    "duration": 6,
    "start_time": "2022-02-12T16:22:48.713Z"
   },
   {
    "duration": 7,
    "start_time": "2022-02-12T16:22:52.400Z"
   },
   {
    "duration": 8,
    "start_time": "2022-02-12T16:22:54.759Z"
   },
   {
    "duration": 6,
    "start_time": "2022-02-12T16:22:57.087Z"
   },
   {
    "duration": 7,
    "start_time": "2022-02-12T16:22:59.418Z"
   },
   {
    "duration": 6,
    "start_time": "2022-02-12T16:23:01.758Z"
   },
   {
    "duration": 8,
    "start_time": "2022-02-12T16:23:04.320Z"
   },
   {
    "duration": 6,
    "start_time": "2022-02-12T16:23:11.058Z"
   },
   {
    "duration": 8,
    "start_time": "2022-02-12T16:23:11.066Z"
   },
   {
    "duration": 6,
    "start_time": "2022-02-12T16:23:11.115Z"
   },
   {
    "duration": 6,
    "start_time": "2022-02-12T16:23:13.742Z"
   },
   {
    "duration": 7,
    "start_time": "2022-02-12T16:23:16.622Z"
   },
   {
    "duration": 6,
    "start_time": "2022-02-12T16:23:17.916Z"
   },
   {
    "duration": 8,
    "start_time": "2022-02-12T16:23:22.371Z"
   },
   {
    "duration": 8,
    "start_time": "2022-02-12T16:23:27.426Z"
   },
   {
    "duration": 7,
    "start_time": "2022-02-12T16:23:29.668Z"
   },
   {
    "duration": 7,
    "start_time": "2022-02-12T16:23:31.598Z"
   },
   {
    "duration": 8,
    "start_time": "2022-02-12T16:23:35.973Z"
   },
   {
    "duration": 206,
    "start_time": "2022-02-12T16:23:35.982Z"
   },
   {
    "duration": 7,
    "start_time": "2022-02-12T16:23:39.010Z"
   },
   {
    "duration": 7,
    "start_time": "2022-02-12T16:23:41.155Z"
   },
   {
    "duration": 9,
    "start_time": "2022-02-12T16:23:43.906Z"
   },
   {
    "duration": 28,
    "start_time": "2022-02-12T16:23:45.993Z"
   },
   {
    "duration": 11,
    "start_time": "2022-02-12T16:23:49.471Z"
   },
   {
    "duration": 20,
    "start_time": "2022-02-12T16:23:52.923Z"
   },
   {
    "duration": 9,
    "start_time": "2022-02-12T16:23:55.566Z"
   },
   {
    "duration": 6,
    "start_time": "2022-02-12T16:23:59.236Z"
   },
   {
    "duration": 7,
    "start_time": "2022-02-12T16:24:10.102Z"
   },
   {
    "duration": 5,
    "start_time": "2022-02-12T16:24:10.112Z"
   },
   {
    "duration": 7,
    "start_time": "2022-02-12T16:24:10.162Z"
   },
   {
    "duration": 8,
    "start_time": "2022-02-12T16:24:10.171Z"
   },
   {
    "duration": 8,
    "start_time": "2022-02-12T16:24:10.181Z"
   },
   {
    "duration": 5,
    "start_time": "2022-02-12T16:24:13.602Z"
   },
   {
    "duration": 8,
    "start_time": "2022-02-12T16:24:16.644Z"
   },
   {
    "duration": 24,
    "start_time": "2022-02-12T16:24:20.084Z"
   },
   {
    "duration": 5,
    "start_time": "2022-02-12T16:24:23.402Z"
   },
   {
    "duration": 5,
    "start_time": "2022-02-12T16:24:31.632Z"
   },
   {
    "duration": 3,
    "start_time": "2022-02-12T16:24:32.623Z"
   },
   {
    "duration": 613,
    "start_time": "2022-02-12T16:24:35.080Z"
   },
   {
    "duration": 6,
    "start_time": "2022-02-12T16:24:35.718Z"
   },
   {
    "duration": 14,
    "start_time": "2022-02-12T16:24:36.590Z"
   },
   {
    "duration": 22,
    "start_time": "2022-02-12T16:24:37.530Z"
   },
   {
    "duration": 1389,
    "start_time": "2022-02-12T16:24:42.603Z"
   },
   {
    "duration": 1295,
    "start_time": "2022-02-12T16:24:45.886Z"
   },
   {
    "duration": 169,
    "start_time": "2022-02-12T16:24:49.224Z"
   },
   {
    "duration": 165,
    "start_time": "2022-02-12T16:24:51.247Z"
   },
   {
    "duration": 161,
    "start_time": "2022-02-12T16:24:53.247Z"
   },
   {
    "duration": 159,
    "start_time": "2022-02-12T16:24:55.139Z"
   },
   {
    "duration": 58,
    "start_time": "2022-02-12T16:24:58.158Z"
   },
   {
    "duration": 5,
    "start_time": "2022-02-12T16:25:01.013Z"
   },
   {
    "duration": 621,
    "start_time": "2022-02-12T16:25:05.096Z"
   },
   {
    "duration": 5,
    "start_time": "2022-02-12T16:25:08.292Z"
   },
   {
    "duration": 725,
    "start_time": "2022-02-12T16:25:11.132Z"
   },
   {
    "duration": 5,
    "start_time": "2022-02-12T16:25:14.899Z"
   },
   {
    "duration": 634,
    "start_time": "2022-02-12T16:25:17.796Z"
   },
   {
    "duration": 5,
    "start_time": "2022-02-12T16:25:20.778Z"
   },
   {
    "duration": 11,
    "start_time": "2022-02-12T16:25:24.634Z"
   },
   {
    "duration": 7,
    "start_time": "2022-02-12T16:25:25.600Z"
   },
   {
    "duration": 266,
    "start_time": "2022-02-12T16:25:28.178Z"
   },
   {
    "duration": 6,
    "start_time": "2022-02-12T16:25:30.577Z"
   },
   {
    "duration": 16,
    "start_time": "2022-02-12T16:25:33.271Z"
   },
   {
    "duration": 291,
    "start_time": "2022-02-12T16:25:35.167Z"
   },
   {
    "duration": 5,
    "start_time": "2022-02-12T16:25:39.311Z"
   },
   {
    "duration": 16,
    "start_time": "2022-02-12T16:25:41.290Z"
   },
   {
    "duration": 292,
    "start_time": "2022-02-12T16:25:44.039Z"
   },
   {
    "duration": 13,
    "start_time": "2022-02-12T16:25:48.766Z"
   },
   {
    "duration": 284,
    "start_time": "2022-02-12T16:25:51.669Z"
   },
   {
    "duration": 11301,
    "start_time": "2022-02-12T16:25:54.573Z"
   },
   {
    "duration": 12,
    "start_time": "2022-02-12T16:26:05.876Z"
   },
   {
    "duration": 9,
    "start_time": "2022-02-12T16:26:09.574Z"
   },
   {
    "duration": 9,
    "start_time": "2022-02-12T16:26:15.877Z"
   },
   {
    "duration": 3,
    "start_time": "2022-02-12T16:26:57.662Z"
   },
   {
    "duration": 7,
    "start_time": "2022-02-12T16:26:58.393Z"
   },
   {
    "duration": 11,
    "start_time": "2022-02-12T16:26:58.989Z"
   },
   {
    "duration": 7,
    "start_time": "2022-02-12T16:26:59.797Z"
   },
   {
    "duration": 329,
    "start_time": "2022-02-12T16:27:02.190Z"
   },
   {
    "duration": 5,
    "start_time": "2022-02-12T16:27:09.604Z"
   },
   {
    "duration": 4,
    "start_time": "2022-02-12T16:27:10.341Z"
   },
   {
    "duration": 16,
    "start_time": "2022-02-12T16:27:10.859Z"
   },
   {
    "duration": 34,
    "start_time": "2022-02-12T16:27:12.486Z"
   },
   {
    "duration": 15,
    "start_time": "2022-02-12T16:27:14.308Z"
   },
   {
    "duration": 8,
    "start_time": "2022-02-12T16:27:23.553Z"
   },
   {
    "duration": 44,
    "start_time": "2022-02-12T16:27:24.309Z"
   },
   {
    "duration": 1238,
    "start_time": "2022-02-12T16:27:26.209Z"
   },
   {
    "duration": 8,
    "start_time": "2022-02-12T16:27:31.448Z"
   },
   {
    "duration": 5408,
    "start_time": "2022-02-12T16:27:34.313Z"
   },
   {
    "duration": 17,
    "start_time": "2022-02-12T16:27:39.723Z"
   },
   {
    "duration": 2,
    "start_time": "2022-02-12T16:30:12.798Z"
   },
   {
    "duration": 4,
    "start_time": "2022-02-12T16:30:13.319Z"
   },
   {
    "duration": 3,
    "start_time": "2022-02-12T16:30:14.069Z"
   },
   {
    "duration": 650,
    "start_time": "2022-02-12T16:30:15.939Z"
   },
   {
    "duration": 4,
    "start_time": "2022-02-12T16:30:16.591Z"
   },
   {
    "duration": 12,
    "start_time": "2022-02-12T16:30:16.973Z"
   },
   {
    "duration": 21,
    "start_time": "2022-02-12T16:30:17.632Z"
   },
   {
    "duration": 1426,
    "start_time": "2022-02-12T16:30:51.814Z"
   },
   {
    "duration": 1316,
    "start_time": "2022-02-12T16:30:53.801Z"
   },
   {
    "duration": 165,
    "start_time": "2022-02-12T16:30:58.253Z"
   },
   {
    "duration": 257,
    "start_time": "2022-02-12T16:30:59.119Z"
   },
   {
    "duration": 162,
    "start_time": "2022-02-12T16:31:01.359Z"
   },
   {
    "duration": 158,
    "start_time": "2022-02-12T16:31:03.800Z"
   },
   {
    "duration": 51,
    "start_time": "2022-02-12T16:32:03.468Z"
   },
   {
    "duration": 5,
    "start_time": "2022-02-12T16:32:06.285Z"
   },
   {
    "duration": 640,
    "start_time": "2022-02-12T16:33:08.753Z"
   },
   {
    "duration": 5,
    "start_time": "2022-02-12T16:33:09.394Z"
   },
   {
    "duration": 3,
    "start_time": "2022-02-12T16:33:31.426Z"
   },
   {
    "duration": 630,
    "start_time": "2022-02-12T16:33:32.286Z"
   },
   {
    "duration": 5,
    "start_time": "2022-02-12T16:33:33.324Z"
   },
   {
    "duration": 3,
    "start_time": "2022-02-12T16:33:35.241Z"
   },
   {
    "duration": 11,
    "start_time": "2022-02-12T16:34:14.343Z"
   },
   {
    "duration": 7,
    "start_time": "2022-02-12T16:34:15.002Z"
   },
   {
    "duration": 268,
    "start_time": "2022-02-12T16:34:15.790Z"
   },
   {
    "duration": 5,
    "start_time": "2022-02-12T16:34:18.971Z"
   },
   {
    "duration": 2,
    "start_time": "2022-02-12T16:34:19.493Z"
   },
   {
    "duration": 14,
    "start_time": "2022-02-12T16:34:21.104Z"
   },
   {
    "duration": 311,
    "start_time": "2022-02-12T16:34:21.708Z"
   },
   {
    "duration": 3,
    "start_time": "2022-02-12T16:34:22.467Z"
   },
   {
    "duration": 5,
    "start_time": "2022-02-12T16:34:24.239Z"
   },
   {
    "duration": 14,
    "start_time": "2022-02-12T16:34:24.917Z"
   },
   {
    "duration": 305,
    "start_time": "2022-02-12T16:34:26.621Z"
   },
   {
    "duration": 2,
    "start_time": "2022-02-12T16:34:29.452Z"
   },
   {
    "duration": 15,
    "start_time": "2022-02-12T16:34:30.005Z"
   },
   {
    "duration": 287,
    "start_time": "2022-02-12T16:34:30.658Z"
   },
   {
    "duration": 2,
    "start_time": "2022-02-12T16:37:04.134Z"
   },
   {
    "duration": 12,
    "start_time": "2022-02-12T16:37:04.881Z"
   },
   {
    "duration": 13,
    "start_time": "2022-02-12T16:37:05.597Z"
   },
   {
    "duration": 11,
    "start_time": "2022-02-12T16:37:06.810Z"
   },
   {
    "duration": 8990,
    "start_time": "2022-02-12T16:37:11.255Z"
   },
   {
    "duration": 3,
    "start_time": "2022-02-12T16:37:20.247Z"
   },
   {
    "duration": 5,
    "start_time": "2022-02-12T16:37:20.252Z"
   },
   {
    "duration": 7,
    "start_time": "2022-02-12T16:37:20.260Z"
   },
   {
    "duration": 4,
    "start_time": "2022-02-12T16:37:20.269Z"
   },
   {
    "duration": 11,
    "start_time": "2022-02-12T16:37:20.274Z"
   },
   {
    "duration": 55,
    "start_time": "2022-02-12T16:37:20.287Z"
   },
   {
    "duration": 13,
    "start_time": "2022-02-12T16:37:20.344Z"
   },
   {
    "duration": 13,
    "start_time": "2022-02-12T16:37:20.359Z"
   },
   {
    "duration": 7,
    "start_time": "2022-02-12T16:39:39.277Z"
   },
   {
    "duration": 6,
    "start_time": "2022-02-12T16:39:42.284Z"
   },
   {
    "duration": 8,
    "start_time": "2022-02-12T16:39:42.791Z"
   },
   {
    "duration": 272,
    "start_time": "2022-02-12T16:39:43.026Z"
   },
   {
    "duration": 66,
    "start_time": "2022-02-12T16:39:54.676Z"
   },
   {
    "duration": 208,
    "start_time": "2022-02-12T16:40:04.369Z"
   },
   {
    "duration": 6,
    "start_time": "2022-02-12T16:40:06.729Z"
   },
   {
    "duration": 3,
    "start_time": "2022-02-12T16:41:14.570Z"
   },
   {
    "duration": 10,
    "start_time": "2022-02-12T16:41:16.223Z"
   },
   {
    "duration": 13,
    "start_time": "2022-02-12T16:41:21.737Z"
   },
   {
    "duration": 10,
    "start_time": "2022-02-12T16:41:22.732Z"
   },
   {
    "duration": 8433,
    "start_time": "2022-02-12T16:41:39.620Z"
   },
   {
    "duration": 9,
    "start_time": "2022-02-12T16:41:48.055Z"
   },
   {
    "duration": 9,
    "start_time": "2022-02-12T16:43:55.799Z"
   },
   {
    "duration": 8,
    "start_time": "2022-02-12T16:44:21.920Z"
   },
   {
    "duration": 3,
    "start_time": "2022-02-12T16:44:58.011Z"
   },
   {
    "duration": 8,
    "start_time": "2022-02-12T16:44:58.572Z"
   },
   {
    "duration": 9,
    "start_time": "2022-02-12T16:44:58.991Z"
   },
   {
    "duration": 8,
    "start_time": "2022-02-12T16:44:59.323Z"
   },
   {
    "duration": 319,
    "start_time": "2022-02-12T16:45:02.609Z"
   },
   {
    "duration": 1298,
    "start_time": "2022-02-12T17:29:31.775Z"
   },
   {
    "duration": 72,
    "start_time": "2022-02-12T17:29:33.075Z"
   },
   {
    "duration": 13,
    "start_time": "2022-02-12T17:29:33.611Z"
   },
   {
    "duration": 29,
    "start_time": "2022-02-12T17:29:36.150Z"
   },
   {
    "duration": 81,
    "start_time": "2022-02-12T17:29:37.395Z"
   },
   {
    "duration": 8,
    "start_time": "2022-02-12T17:29:38.965Z"
   },
   {
    "duration": 7,
    "start_time": "2022-02-12T17:29:40.117Z"
   },
   {
    "duration": 10,
    "start_time": "2022-02-12T17:29:41.503Z"
   },
   {
    "duration": 8,
    "start_time": "2022-02-12T17:29:42.594Z"
   },
   {
    "duration": 7,
    "start_time": "2022-02-12T17:29:43.596Z"
   },
   {
    "duration": 7,
    "start_time": "2022-02-12T17:29:44.571Z"
   },
   {
    "duration": 7,
    "start_time": "2022-02-12T17:29:45.407Z"
   },
   {
    "duration": 8,
    "start_time": "2022-02-12T17:29:46.372Z"
   },
   {
    "duration": 8,
    "start_time": "2022-02-12T17:29:47.219Z"
   },
   {
    "duration": 6,
    "start_time": "2022-02-12T17:29:48.179Z"
   },
   {
    "duration": 8,
    "start_time": "2022-02-12T17:29:49.047Z"
   },
   {
    "duration": 10,
    "start_time": "2022-02-12T17:29:49.968Z"
   },
   {
    "duration": 7,
    "start_time": "2022-02-12T17:29:50.876Z"
   },
   {
    "duration": 10,
    "start_time": "2022-02-12T17:29:51.791Z"
   },
   {
    "duration": 8,
    "start_time": "2022-02-12T17:29:52.678Z"
   },
   {
    "duration": 8,
    "start_time": "2022-02-12T17:29:53.629Z"
   },
   {
    "duration": 8,
    "start_time": "2022-02-12T17:29:54.676Z"
   },
   {
    "duration": 8,
    "start_time": "2022-02-12T17:29:57.357Z"
   },
   {
    "duration": 7,
    "start_time": "2022-02-12T17:29:58.273Z"
   },
   {
    "duration": 8,
    "start_time": "2022-02-12T17:29:59.210Z"
   },
   {
    "duration": 9,
    "start_time": "2022-02-12T17:30:00.037Z"
   },
   {
    "duration": 11,
    "start_time": "2022-02-12T17:30:00.913Z"
   },
   {
    "duration": 34,
    "start_time": "2022-02-12T17:30:02.083Z"
   },
   {
    "duration": 13,
    "start_time": "2022-02-12T17:30:22.154Z"
   },
   {
    "duration": 25,
    "start_time": "2022-02-12T17:30:24.095Z"
   },
   {
    "duration": 12,
    "start_time": "2022-02-12T17:30:24.872Z"
   },
   {
    "duration": 7,
    "start_time": "2022-02-12T17:30:26.572Z"
   },
   {
    "duration": 9,
    "start_time": "2022-02-12T17:30:27.517Z"
   },
   {
    "duration": 6,
    "start_time": "2022-02-12T17:30:28.445Z"
   },
   {
    "duration": 8,
    "start_time": "2022-02-12T17:30:29.274Z"
   },
   {
    "duration": 11,
    "start_time": "2022-02-12T17:30:30.123Z"
   },
   {
    "duration": 9,
    "start_time": "2022-02-12T17:30:30.979Z"
   },
   {
    "duration": 9,
    "start_time": "2022-02-12T17:30:31.801Z"
   },
   {
    "duration": 9,
    "start_time": "2022-02-12T17:30:32.672Z"
   },
   {
    "duration": 15,
    "start_time": "2022-02-12T17:30:34.459Z"
   },
   {
    "duration": 6,
    "start_time": "2022-02-12T17:30:45.703Z"
   },
   {
    "duration": 3,
    "start_time": "2022-02-12T17:30:49.326Z"
   },
   {
    "duration": 5,
    "start_time": "2022-02-12T17:30:49.941Z"
   },
   {
    "duration": 3,
    "start_time": "2022-02-12T17:30:50.731Z"
   },
   {
    "duration": 632,
    "start_time": "2022-02-12T17:30:51.472Z"
   },
   {
    "duration": 7,
    "start_time": "2022-02-12T17:30:52.190Z"
   },
   {
    "duration": 15,
    "start_time": "2022-02-12T17:30:53.003Z"
   },
   {
    "duration": 23,
    "start_time": "2022-02-12T17:30:54.044Z"
   },
   {
    "duration": 1444,
    "start_time": "2022-02-12T17:30:57.580Z"
   },
   {
    "duration": 1319,
    "start_time": "2022-02-12T17:30:59.091Z"
   },
   {
    "duration": 188,
    "start_time": "2022-02-12T17:31:00.412Z"
   },
   {
    "duration": 174,
    "start_time": "2022-02-12T17:31:01.474Z"
   },
   {
    "duration": 182,
    "start_time": "2022-02-12T17:31:02.620Z"
   },
   {
    "duration": 168,
    "start_time": "2022-02-12T17:31:03.488Z"
   },
   {
    "duration": 69,
    "start_time": "2022-02-12T17:31:05.804Z"
   },
   {
    "duration": 6,
    "start_time": "2022-02-12T17:31:08.001Z"
   },
   {
    "duration": 657,
    "start_time": "2022-02-12T17:31:11.999Z"
   },
   {
    "duration": 6,
    "start_time": "2022-02-12T17:31:13.044Z"
   },
   {
    "duration": 3,
    "start_time": "2022-02-12T17:31:14.616Z"
   },
   {
    "duration": 868,
    "start_time": "2022-02-12T17:31:15.286Z"
   },
   {
    "duration": 6,
    "start_time": "2022-02-12T17:31:16.450Z"
   },
   {
    "duration": 2,
    "start_time": "2022-02-12T17:31:17.344Z"
   },
   {
    "duration": 673,
    "start_time": "2022-02-12T17:31:18.216Z"
   },
   {
    "duration": 6,
    "start_time": "2022-02-12T17:31:19.006Z"
   },
   {
    "duration": 13,
    "start_time": "2022-02-12T17:31:21.636Z"
   },
   {
    "duration": 11,
    "start_time": "2022-02-12T17:31:22.406Z"
   },
   {
    "duration": 296,
    "start_time": "2022-02-12T17:31:23.811Z"
   },
   {
    "duration": 6,
    "start_time": "2022-02-12T17:31:25.731Z"
   },
   {
    "duration": 7,
    "start_time": "2022-02-12T17:31:25.739Z"
   },
   {
    "duration": 16,
    "start_time": "2022-02-12T17:31:26.255Z"
   },
   {
    "duration": 323,
    "start_time": "2022-02-12T17:31:27.023Z"
   },
   {
    "duration": 2,
    "start_time": "2022-02-12T17:31:27.887Z"
   },
   {
    "duration": 6,
    "start_time": "2022-02-12T17:31:28.689Z"
   },
   {
    "duration": 15,
    "start_time": "2022-02-12T17:31:29.424Z"
   },
   {
    "duration": 324,
    "start_time": "2022-02-12T17:31:30.550Z"
   },
   {
    "duration": 3,
    "start_time": "2022-02-12T17:31:32.275Z"
   },
   {
    "duration": 16,
    "start_time": "2022-02-12T17:31:33.191Z"
   },
   {
    "duration": 285,
    "start_time": "2022-02-12T17:31:34.251Z"
   },
   {
    "duration": 11600,
    "start_time": "2022-02-12T17:31:35.303Z"
   },
   {
    "duration": 10,
    "start_time": "2022-02-12T17:31:46.907Z"
   },
   {
    "duration": 14,
    "start_time": "2022-02-12T17:31:46.919Z"
   },
   {
    "duration": 6,
    "start_time": "2022-02-12T17:31:46.935Z"
   },
   {
    "duration": 14,
    "start_time": "2022-02-12T17:31:46.944Z"
   },
   {
    "duration": 11,
    "start_time": "2022-02-12T17:31:47.504Z"
   },
   {
    "duration": 8,
    "start_time": "2022-02-12T17:31:47.798Z"
   },
   {
    "duration": 321,
    "start_time": "2022-02-12T17:31:48.785Z"
   },
   {
    "duration": 5,
    "start_time": "2022-02-12T17:31:51.805Z"
   },
   {
    "duration": 5,
    "start_time": "2022-02-12T17:31:52.500Z"
   },
   {
    "duration": 17,
    "start_time": "2022-02-12T17:31:52.867Z"
   },
   {
    "duration": 38,
    "start_time": "2022-02-12T17:31:53.240Z"
   },
   {
    "duration": 16,
    "start_time": "2022-02-12T17:31:53.574Z"
   },
   {
    "duration": 16,
    "start_time": "2022-02-12T17:31:53.921Z"
   },
   {
    "duration": 9,
    "start_time": "2022-02-12T17:31:55.654Z"
   },
   {
    "duration": 38,
    "start_time": "2022-02-12T17:31:56.241Z"
   },
   {
    "duration": 1571,
    "start_time": "2022-02-12T17:31:56.593Z"
   },
   {
    "duration": 9,
    "start_time": "2022-02-12T17:31:58.166Z"
   },
   {
    "duration": 6,
    "start_time": "2022-02-12T17:31:58.177Z"
   },
   {
    "duration": 6845,
    "start_time": "2022-02-12T17:31:58.185Z"
   },
   {
    "duration": 18,
    "start_time": "2022-02-12T17:32:05.032Z"
   },
   {
    "duration": 22,
    "start_time": "2022-02-12T17:32:05.053Z"
   },
   {
    "duration": 31,
    "start_time": "2022-02-12T17:32:05.077Z"
   },
   {
    "duration": 3,
    "start_time": "2022-02-12T18:07:07.747Z"
   },
   {
    "duration": 8,
    "start_time": "2022-02-12T18:07:08.583Z"
   },
   {
    "duration": 11,
    "start_time": "2022-02-12T18:07:09.515Z"
   },
   {
    "duration": 8,
    "start_time": "2022-02-12T18:07:10.418Z"
   },
   {
    "duration": 339,
    "start_time": "2022-02-12T18:07:11.392Z"
   },
   {
    "duration": 5,
    "start_time": "2022-02-12T18:07:13.984Z"
   },
   {
    "duration": 4,
    "start_time": "2022-02-12T18:07:14.303Z"
   },
   {
    "duration": 9,
    "start_time": "2022-02-12T18:07:14.635Z"
   },
   {
    "duration": 36,
    "start_time": "2022-02-12T18:07:14.976Z"
   },
   {
    "duration": 21,
    "start_time": "2022-02-12T18:07:15.286Z"
   },
   {
    "duration": 16,
    "start_time": "2022-02-12T18:07:15.593Z"
   },
   {
    "duration": 8,
    "start_time": "2022-02-12T18:07:17.284Z"
   },
   {
    "duration": 37,
    "start_time": "2022-02-12T18:07:17.607Z"
   },
   {
    "duration": 1338,
    "start_time": "2022-02-12T18:07:17.916Z"
   },
   {
    "duration": 8,
    "start_time": "2022-02-12T18:07:19.257Z"
   },
   {
    "duration": 6,
    "start_time": "2022-02-12T18:07:19.268Z"
   },
   {
    "duration": 5742,
    "start_time": "2022-02-12T18:07:19.276Z"
   },
   {
    "duration": 15,
    "start_time": "2022-02-12T18:07:25.020Z"
   },
   {
    "duration": 19,
    "start_time": "2022-02-12T18:07:25.037Z"
   },
   {
    "duration": 303,
    "start_time": "2022-02-13T08:26:36.088Z"
   },
   {
    "duration": 1257,
    "start_time": "2022-02-13T08:26:45.391Z"
   },
   {
    "duration": 64,
    "start_time": "2022-02-13T08:26:46.651Z"
   },
   {
    "duration": 10,
    "start_time": "2022-02-13T08:26:46.718Z"
   },
   {
    "duration": 25,
    "start_time": "2022-02-13T08:26:46.730Z"
   },
   {
    "duration": 94,
    "start_time": "2022-02-13T08:26:46.757Z"
   },
   {
    "duration": 7,
    "start_time": "2022-02-13T08:26:46.854Z"
   },
   {
    "duration": 8,
    "start_time": "2022-02-13T08:26:46.863Z"
   },
   {
    "duration": 8,
    "start_time": "2022-02-13T08:26:46.873Z"
   },
   {
    "duration": 35,
    "start_time": "2022-02-13T08:26:46.885Z"
   },
   {
    "duration": 10,
    "start_time": "2022-02-13T08:26:46.922Z"
   },
   {
    "duration": 8,
    "start_time": "2022-02-13T08:26:46.934Z"
   },
   {
    "duration": 9,
    "start_time": "2022-02-13T08:26:46.943Z"
   },
   {
    "duration": 7,
    "start_time": "2022-02-13T08:26:46.954Z"
   },
   {
    "duration": 7,
    "start_time": "2022-02-13T08:26:46.962Z"
   },
   {
    "duration": 8,
    "start_time": "2022-02-13T08:26:46.971Z"
   },
   {
    "duration": 6,
    "start_time": "2022-02-13T08:26:46.981Z"
   },
   {
    "duration": 7,
    "start_time": "2022-02-13T08:26:47.019Z"
   },
   {
    "duration": 5,
    "start_time": "2022-02-13T08:26:47.028Z"
   },
   {
    "duration": 10,
    "start_time": "2022-02-13T08:26:47.035Z"
   },
   {
    "duration": 9,
    "start_time": "2022-02-13T08:26:47.046Z"
   },
   {
    "duration": 7,
    "start_time": "2022-02-13T08:26:47.057Z"
   },
   {
    "duration": 5,
    "start_time": "2022-02-13T08:26:47.066Z"
   },
   {
    "duration": 8,
    "start_time": "2022-02-13T08:26:47.073Z"
   },
   {
    "duration": 41,
    "start_time": "2022-02-13T08:26:47.082Z"
   },
   {
    "duration": 8,
    "start_time": "2022-02-13T08:26:47.125Z"
   },
   {
    "duration": 7,
    "start_time": "2022-02-13T08:26:47.134Z"
   },
   {
    "duration": 10,
    "start_time": "2022-02-13T08:26:47.145Z"
   },
   {
    "duration": 61,
    "start_time": "2022-02-13T08:26:47.158Z"
   },
   {
    "duration": 11,
    "start_time": "2022-02-13T08:26:47.221Z"
   },
   {
    "duration": 19,
    "start_time": "2022-02-13T08:26:47.234Z"
   },
   {
    "duration": 11,
    "start_time": "2022-02-13T08:26:47.255Z"
   },
   {
    "duration": 5,
    "start_time": "2022-02-13T08:26:47.268Z"
   },
   {
    "duration": 8,
    "start_time": "2022-02-13T08:26:47.275Z"
   },
   {
    "duration": 35,
    "start_time": "2022-02-13T08:26:47.285Z"
   },
   {
    "duration": 15,
    "start_time": "2022-02-13T08:26:47.321Z"
   },
   {
    "duration": 18,
    "start_time": "2022-02-13T08:26:47.337Z"
   },
   {
    "duration": 7,
    "start_time": "2022-02-13T08:26:47.357Z"
   },
   {
    "duration": 4,
    "start_time": "2022-02-13T08:26:47.366Z"
   },
   {
    "duration": 10,
    "start_time": "2022-02-13T08:26:47.371Z"
   },
   {
    "duration": 12,
    "start_time": "2022-02-13T08:26:47.383Z"
   },
   {
    "duration": 23,
    "start_time": "2022-02-13T08:26:47.397Z"
   },
   {
    "duration": 6,
    "start_time": "2022-02-13T08:26:47.422Z"
   },
   {
    "duration": 6,
    "start_time": "2022-02-13T08:26:47.430Z"
   },
   {
    "duration": 7,
    "start_time": "2022-02-13T08:26:47.438Z"
   },
   {
    "duration": 617,
    "start_time": "2022-02-13T08:26:47.447Z"
   },
   {
    "duration": 6,
    "start_time": "2022-02-13T08:26:48.066Z"
   },
   {
    "duration": 19,
    "start_time": "2022-02-13T08:26:48.073Z"
   },
   {
    "duration": 37,
    "start_time": "2022-02-13T08:26:48.094Z"
   },
   {
    "duration": 1293,
    "start_time": "2022-02-13T08:26:48.132Z"
   },
   {
    "duration": 1240,
    "start_time": "2022-02-13T08:26:49.427Z"
   },
   {
    "duration": 172,
    "start_time": "2022-02-13T08:26:50.669Z"
   },
   {
    "duration": 162,
    "start_time": "2022-02-13T08:26:50.843Z"
   },
   {
    "duration": 171,
    "start_time": "2022-02-13T08:26:51.007Z"
   },
   {
    "duration": 163,
    "start_time": "2022-02-13T08:26:51.180Z"
   },
   {
    "duration": 152,
    "start_time": "2022-02-13T08:26:51.344Z"
   },
   {
    "duration": 4,
    "start_time": "2022-02-13T08:26:51.498Z"
   },
   {
    "duration": 614,
    "start_time": "2022-02-13T08:26:51.504Z"
   },
   {
    "duration": 5,
    "start_time": "2022-02-13T08:26:52.120Z"
   },
   {
    "duration": 11,
    "start_time": "2022-02-13T08:26:52.126Z"
   },
   {
    "duration": 682,
    "start_time": "2022-02-13T08:26:52.139Z"
   },
   {
    "duration": 4,
    "start_time": "2022-02-13T08:26:52.823Z"
   },
   {
    "duration": 10,
    "start_time": "2022-02-13T08:26:52.829Z"
   },
   {
    "duration": 683,
    "start_time": "2022-02-13T08:26:52.840Z"
   },
   {
    "duration": 5,
    "start_time": "2022-02-13T08:26:53.524Z"
   },
   {
    "duration": 12,
    "start_time": "2022-02-13T08:26:53.531Z"
   },
   {
    "duration": 7,
    "start_time": "2022-02-13T08:26:53.545Z"
   },
   {
    "duration": 274,
    "start_time": "2022-02-13T08:26:53.554Z"
   },
   {
    "duration": 5,
    "start_time": "2022-02-13T08:26:53.830Z"
   },
   {
    "duration": 3,
    "start_time": "2022-02-13T08:26:53.837Z"
   },
   {
    "duration": 17,
    "start_time": "2022-02-13T08:26:53.842Z"
   },
   {
    "duration": 307,
    "start_time": "2022-02-13T08:26:53.861Z"
   },
   {
    "duration": 3,
    "start_time": "2022-02-13T08:26:54.170Z"
   },
   {
    "duration": 10,
    "start_time": "2022-02-13T08:26:54.175Z"
   },
   {
    "duration": 35,
    "start_time": "2022-02-13T08:26:54.188Z"
   },
   {
    "duration": 297,
    "start_time": "2022-02-13T08:26:54.225Z"
   },
   {
    "duration": 2,
    "start_time": "2022-02-13T08:26:54.524Z"
   },
   {
    "duration": 16,
    "start_time": "2022-02-13T08:26:54.527Z"
   },
   {
    "duration": 286,
    "start_time": "2022-02-13T08:26:54.545Z"
   },
   {
    "duration": 12152,
    "start_time": "2022-02-13T08:26:54.832Z"
   },
   {
    "duration": 10,
    "start_time": "2022-02-13T08:27:06.985Z"
   },
   {
    "duration": 25,
    "start_time": "2022-02-13T08:27:07.000Z"
   },
   {
    "duration": 11,
    "start_time": "2022-02-13T08:27:07.027Z"
   },
   {
    "duration": 8,
    "start_time": "2022-02-13T08:27:07.040Z"
   },
   {
    "duration": 25,
    "start_time": "2022-02-13T08:27:07.049Z"
   },
   {
    "duration": 16,
    "start_time": "2022-02-13T08:27:07.076Z"
   },
   {
    "duration": 10,
    "start_time": "2022-02-13T08:27:07.094Z"
   },
   {
    "duration": 290,
    "start_time": "2022-02-13T08:27:07.106Z"
   },
   {
    "duration": 4,
    "start_time": "2022-02-13T08:27:07.398Z"
   },
   {
    "duration": 14,
    "start_time": "2022-02-13T08:27:07.404Z"
   },
   {
    "duration": 20,
    "start_time": "2022-02-13T08:27:07.420Z"
   },
   {
    "duration": 31,
    "start_time": "2022-02-13T08:27:07.442Z"
   },
   {
    "duration": 13,
    "start_time": "2022-02-13T08:27:07.474Z"
   },
   {
    "duration": 34,
    "start_time": "2022-02-13T08:27:07.489Z"
   },
   {
    "duration": 7,
    "start_time": "2022-02-13T08:27:07.524Z"
   },
   {
    "duration": 30,
    "start_time": "2022-02-13T08:27:07.532Z"
   },
   {
    "duration": 1087,
    "start_time": "2022-02-13T08:27:07.563Z"
   },
   {
    "duration": 7,
    "start_time": "2022-02-13T08:27:08.652Z"
   },
   {
    "duration": 4,
    "start_time": "2022-02-13T08:27:08.661Z"
   },
   {
    "duration": 5912,
    "start_time": "2022-02-13T08:27:08.666Z"
   },
   {
    "duration": 15,
    "start_time": "2022-02-13T08:27:14.580Z"
   },
   {
    "duration": 32,
    "start_time": "2022-02-13T08:27:14.596Z"
   },
   {
    "duration": 8,
    "start_time": "2022-02-13T08:27:14.630Z"
   },
   {
    "duration": 395,
    "start_time": "2022-02-13T08:28:39.425Z"
   },
   {
    "duration": 9,
    "start_time": "2022-02-13T08:28:42.129Z"
   },
   {
    "duration": 1324,
    "start_time": "2022-10-03T10:20:24.365Z"
   },
   {
    "duration": 307,
    "start_time": "2022-10-03T10:20:25.691Z"
   },
   {
    "duration": 14,
    "start_time": "2022-10-03T10:20:26.000Z"
   },
   {
    "duration": 24,
    "start_time": "2022-10-03T10:20:26.016Z"
   },
   {
    "duration": 71,
    "start_time": "2022-10-03T10:20:26.042Z"
   },
   {
    "duration": 6,
    "start_time": "2022-10-03T10:20:26.114Z"
   },
   {
    "duration": 6,
    "start_time": "2022-10-03T10:20:26.122Z"
   },
   {
    "duration": 10,
    "start_time": "2022-10-03T10:20:26.129Z"
   },
   {
    "duration": 6,
    "start_time": "2022-10-03T10:20:26.140Z"
   },
   {
    "duration": 6,
    "start_time": "2022-10-03T10:20:26.148Z"
   },
   {
    "duration": 5,
    "start_time": "2022-10-03T10:20:26.155Z"
   },
   {
    "duration": 6,
    "start_time": "2022-10-03T10:20:26.161Z"
   },
   {
    "duration": 40,
    "start_time": "2022-10-03T10:20:26.169Z"
   },
   {
    "duration": 6,
    "start_time": "2022-10-03T10:20:26.211Z"
   },
   {
    "duration": 6,
    "start_time": "2022-10-03T10:20:26.219Z"
   },
   {
    "duration": 5,
    "start_time": "2022-10-03T10:20:26.227Z"
   },
   {
    "duration": 9,
    "start_time": "2022-10-03T10:20:26.233Z"
   },
   {
    "duration": 10,
    "start_time": "2022-10-03T10:20:26.244Z"
   },
   {
    "duration": 12,
    "start_time": "2022-10-03T10:20:26.256Z"
   },
   {
    "duration": 12,
    "start_time": "2022-10-03T10:20:26.270Z"
   },
   {
    "duration": 27,
    "start_time": "2022-10-03T10:20:26.283Z"
   },
   {
    "duration": 4,
    "start_time": "2022-10-03T10:20:26.312Z"
   },
   {
    "duration": 7,
    "start_time": "2022-10-03T10:20:26.318Z"
   },
   {
    "duration": 4,
    "start_time": "2022-10-03T10:20:26.326Z"
   },
   {
    "duration": 7,
    "start_time": "2022-10-03T10:20:26.332Z"
   },
   {
    "duration": 5,
    "start_time": "2022-10-03T10:20:26.340Z"
   },
   {
    "duration": 8,
    "start_time": "2022-10-03T10:20:26.346Z"
   },
   {
    "duration": 54,
    "start_time": "2022-10-03T10:20:26.358Z"
   },
   {
    "duration": 10,
    "start_time": "2022-10-03T10:20:26.413Z"
   },
   {
    "duration": 20,
    "start_time": "2022-10-03T10:20:26.424Z"
   },
   {
    "duration": 7,
    "start_time": "2022-10-03T10:20:26.446Z"
   },
   {
    "duration": 6,
    "start_time": "2022-10-03T10:20:26.454Z"
   },
   {
    "duration": 8,
    "start_time": "2022-10-03T10:20:26.461Z"
   },
   {
    "duration": 5,
    "start_time": "2022-10-03T10:20:26.471Z"
   },
   {
    "duration": 39,
    "start_time": "2022-10-03T10:20:26.477Z"
   },
   {
    "duration": 6,
    "start_time": "2022-10-03T10:20:26.518Z"
   },
   {
    "duration": 8,
    "start_time": "2022-10-03T10:20:26.526Z"
   },
   {
    "duration": 3,
    "start_time": "2022-10-03T10:20:26.536Z"
   },
   {
    "duration": 12,
    "start_time": "2022-10-03T10:20:26.541Z"
   },
   {
    "duration": 15,
    "start_time": "2022-10-03T10:20:26.555Z"
   },
   {
    "duration": 7,
    "start_time": "2022-10-03T10:20:26.572Z"
   },
   {
    "duration": 30,
    "start_time": "2022-10-03T10:20:26.580Z"
   },
   {
    "duration": 15,
    "start_time": "2022-10-03T10:20:26.611Z"
   },
   {
    "duration": 11,
    "start_time": "2022-10-03T10:20:26.628Z"
   },
   {
    "duration": 402,
    "start_time": "2022-10-03T10:20:26.640Z"
   },
   {
    "duration": 4,
    "start_time": "2022-10-03T10:20:27.044Z"
   },
   {
    "duration": 18,
    "start_time": "2022-10-03T10:20:27.049Z"
   },
   {
    "duration": 18,
    "start_time": "2022-10-03T10:20:27.068Z"
   },
   {
    "duration": 825,
    "start_time": "2022-10-03T10:20:27.087Z"
   },
   {
    "duration": 770,
    "start_time": "2022-10-03T10:20:27.913Z"
   },
   {
    "duration": 118,
    "start_time": "2022-10-03T10:20:28.685Z"
   },
   {
    "duration": 114,
    "start_time": "2022-10-03T10:20:28.809Z"
   },
   {
    "duration": 118,
    "start_time": "2022-10-03T10:20:28.925Z"
   },
   {
    "duration": 113,
    "start_time": "2022-10-03T10:20:29.044Z"
   },
   {
    "duration": 113,
    "start_time": "2022-10-03T10:20:29.159Z"
   },
   {
    "duration": 5,
    "start_time": "2022-10-03T10:20:29.273Z"
   },
   {
    "duration": 257,
    "start_time": "2022-10-03T10:20:29.279Z"
   },
   {
    "duration": 5,
    "start_time": "2022-10-03T10:20:29.538Z"
   },
   {
    "duration": 5,
    "start_time": "2022-10-03T10:20:29.544Z"
   },
   {
    "duration": 266,
    "start_time": "2022-10-03T10:20:29.550Z"
   },
   {
    "duration": 5,
    "start_time": "2022-10-03T10:20:29.818Z"
   },
   {
    "duration": 3,
    "start_time": "2022-10-03T10:20:29.824Z"
   },
   {
    "duration": 269,
    "start_time": "2022-10-03T10:20:29.828Z"
   },
   {
    "duration": 10,
    "start_time": "2022-10-03T10:20:30.099Z"
   },
   {
    "duration": 35,
    "start_time": "2022-10-03T10:20:30.111Z"
   },
   {
    "duration": 15,
    "start_time": "2022-10-03T10:20:30.147Z"
   },
   {
    "duration": 213,
    "start_time": "2022-10-03T10:20:30.163Z"
   },
   {
    "duration": 5,
    "start_time": "2022-10-03T10:20:30.377Z"
   },
   {
    "duration": 20,
    "start_time": "2022-10-03T10:20:30.383Z"
   },
   {
    "duration": 27,
    "start_time": "2022-10-03T10:20:30.404Z"
   },
   {
    "duration": 193,
    "start_time": "2022-10-03T10:20:30.433Z"
   },
   {
    "duration": 2,
    "start_time": "2022-10-03T10:20:30.628Z"
   },
   {
    "duration": 19,
    "start_time": "2022-10-03T10:20:30.631Z"
   },
   {
    "duration": 37,
    "start_time": "2022-10-03T10:20:30.652Z"
   },
   {
    "duration": 206,
    "start_time": "2022-10-03T10:20:30.690Z"
   },
   {
    "duration": 2,
    "start_time": "2022-10-03T10:20:30.897Z"
   },
   {
    "duration": 25,
    "start_time": "2022-10-03T10:20:30.900Z"
   },
   {
    "duration": 186,
    "start_time": "2022-10-03T10:20:30.927Z"
   },
   {
    "duration": 4076,
    "start_time": "2022-10-03T10:20:31.114Z"
   },
   {
    "duration": 10,
    "start_time": "2022-10-03T10:20:35.192Z"
   },
   {
    "duration": 46,
    "start_time": "2022-10-03T10:20:35.208Z"
   },
   {
    "duration": 23,
    "start_time": "2022-10-03T10:20:35.259Z"
   },
   {
    "duration": 19,
    "start_time": "2022-10-03T10:20:35.284Z"
   },
   {
    "duration": 13,
    "start_time": "2022-10-03T10:20:35.305Z"
   },
   {
    "duration": 8,
    "start_time": "2022-10-03T10:20:35.320Z"
   },
   {
    "duration": 7,
    "start_time": "2022-10-03T10:20:35.330Z"
   },
   {
    "duration": 216,
    "start_time": "2022-10-03T10:20:35.338Z"
   },
   {
    "duration": 5,
    "start_time": "2022-10-03T10:20:35.555Z"
   },
   {
    "duration": 8,
    "start_time": "2022-10-03T10:20:35.561Z"
   },
   {
    "duration": 13,
    "start_time": "2022-10-03T10:20:35.570Z"
   },
   {
    "duration": 41,
    "start_time": "2022-10-03T10:20:35.584Z"
   },
   {
    "duration": 12,
    "start_time": "2022-10-03T10:20:35.626Z"
   },
   {
    "duration": 13,
    "start_time": "2022-10-03T10:20:35.640Z"
   },
   {
    "duration": 8,
    "start_time": "2022-10-03T10:20:35.655Z"
   },
   {
    "duration": 47,
    "start_time": "2022-10-03T10:20:35.664Z"
   },
   {
    "duration": 716,
    "start_time": "2022-10-03T10:20:35.712Z"
   },
   {
    "duration": 7,
    "start_time": "2022-10-03T10:20:36.429Z"
   },
   {
    "duration": 14,
    "start_time": "2022-10-03T10:20:36.437Z"
   },
   {
    "duration": 2130,
    "start_time": "2022-10-03T10:20:36.452Z"
   },
   {
    "duration": 14,
    "start_time": "2022-10-03T10:20:38.584Z"
   },
   {
    "duration": 17,
    "start_time": "2022-10-03T10:20:38.608Z"
   }
  ],
  "kernelspec": {
   "display_name": "Python 3 (ipykernel)",
   "language": "python",
   "name": "python3"
  },
  "language_info": {
   "codemirror_mode": {
    "name": "ipython",
    "version": 3
   },
   "file_extension": ".py",
   "mimetype": "text/x-python",
   "name": "python",
   "nbconvert_exporter": "python",
   "pygments_lexer": "ipython3",
   "version": "3.9.5"
  },
  "toc": {
   "base_numbering": 1,
   "nav_menu": {},
   "number_sections": true,
   "sideBar": false,
   "skip_h1_title": true,
   "title_cell": "Содержание",
   "title_sidebar": "Contents",
   "toc_cell": true,
   "toc_position": {
    "height": "587.2px",
    "left": "27px",
    "top": "135.562px",
    "width": "160.475px"
   },
   "toc_section_display": false,
   "toc_window_display": true
  }
 },
 "nbformat": 4,
 "nbformat_minor": 2
}
