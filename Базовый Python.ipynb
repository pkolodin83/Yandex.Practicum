{
 "cells": [
  {
   "cell_type": "markdown",
   "metadata": {
    "id": "E0vqbgi9ay0H"
   },
   "source": [
    "# Яндекс.Музыка"
   ]
  },
  {
   "cell_type": "markdown",
   "metadata": {
    "id": "VUC88oWjTJw2"
   },
   "source": [
    "Сравнение Москвы и Петербурга окружено мифами. Например:\n",
    " * Москва — мегаполис, подчинённый жёсткому ритму рабочей недели;\n",
    " * Петербург — культурная столица, со своими вкусами.\n",
    "\n",
    "На данных Яндекс.Музыки вы сравните поведение пользователей двух столиц.\n",
    "\n",
    "**Цель исследования** — проверьте три гипотезы:\n",
    "1. Активность пользователей зависит от дня недели. Причём в Москве и Петербурге это проявляется по-разному.\n",
    "2. В понедельник утром в Москве преобладают одни жанры, а в Петербурге — другие. Так же и вечером пятницы преобладают разные жанры — в зависимости от города. \n",
    "3. Москва и Петербург предпочитают разные жанры музыки. В Москве чаще слушают поп-музыку, в Петербурге — русский рэп.\n",
    "\n",
    "**Ход исследования**\n",
    "\n",
    "Данные о поведении пользователей вы получите из файла `yandex_music_project.csv`. О качестве данных ничего не известно. Поэтому перед проверкой гипотез понадобится обзор данных. \n",
    "\n",
    "Вы проверите данные на ошибки и оцените их влияние на исследование. Затем, на этапе предобработки вы поищете возможность исправить самые критичные ошибки данных.\n",
    " \n",
    "Таким образом, исследование пройдёт в три этапа:\n",
    " 1. Обзор данных.\n",
    " 2. Предобработка данных.\n",
    " 3. Проверка гипотез.\n",
    "\n"
   ]
  },
  {
   "cell_type": "markdown",
   "metadata": {
    "id": "Ml1hmfXC_Zcs"
   },
   "source": [
    "## Обзор данных\n",
    "\n",
    "Составьте первое представление о данных Яндекс.Музыки.\n",
    "\n",
    "\n"
   ]
  },
  {
   "cell_type": "markdown",
   "metadata": {
    "id": "57eAOGIz_Zcs"
   },
   "source": [
    "Основной инструмент аналитика — `pandas`. Импортируйте эту библиотеку."
   ]
  },
  {
   "cell_type": "code",
   "execution_count": 1,
   "metadata": {
    "id": "AXN7PHPN_Zcs"
   },
   "outputs": [],
   "source": [
    "import pandas as pd # импорт библиотеки pandas"
   ]
  },
  {
   "cell_type": "markdown",
   "metadata": {
    "id": "SG23P8tt_Zcs"
   },
   "source": [
    "Прочитайте файл `yandex_music_project.csv` из папки `/datasets` и сохраните его в переменной `df`:"
   ]
  },
  {
   "cell_type": "code",
   "execution_count": 2,
   "metadata": {
    "id": "fFVu7vqh_Zct"
   },
   "outputs": [],
   "source": [
    "df = pd.read_csv('/datasets/yandex_music_project.csv') # чтение файла с данными и сохранение в df"
   ]
  },
  {
   "cell_type": "markdown",
   "metadata": {
    "id": "rDoOMd3uTqnZ"
   },
   "source": [
    "Выведите на экран первые десять строк таблицы:"
   ]
  },
  {
   "cell_type": "code",
   "execution_count": 3,
   "metadata": {
    "id": "oWTVX3gW_Zct"
   },
   "outputs": [
    {
     "data": {
      "text/html": [
       "<div>\n",
       "<style scoped>\n",
       "    .dataframe tbody tr th:only-of-type {\n",
       "        vertical-align: middle;\n",
       "    }\n",
       "\n",
       "    .dataframe tbody tr th {\n",
       "        vertical-align: top;\n",
       "    }\n",
       "\n",
       "    .dataframe thead th {\n",
       "        text-align: right;\n",
       "    }\n",
       "</style>\n",
       "<table border=\"1\" class=\"dataframe\">\n",
       "  <thead>\n",
       "    <tr style=\"text-align: right;\">\n",
       "      <th></th>\n",
       "      <th>userID</th>\n",
       "      <th>Track</th>\n",
       "      <th>artist</th>\n",
       "      <th>genre</th>\n",
       "      <th>City</th>\n",
       "      <th>time</th>\n",
       "      <th>Day</th>\n",
       "    </tr>\n",
       "  </thead>\n",
       "  <tbody>\n",
       "    <tr>\n",
       "      <th>0</th>\n",
       "      <td>FFB692EC</td>\n",
       "      <td>Kamigata To Boots</td>\n",
       "      <td>The Mass Missile</td>\n",
       "      <td>rock</td>\n",
       "      <td>Saint-Petersburg</td>\n",
       "      <td>20:28:33</td>\n",
       "      <td>Wednesday</td>\n",
       "    </tr>\n",
       "    <tr>\n",
       "      <th>1</th>\n",
       "      <td>55204538</td>\n",
       "      <td>Delayed Because of Accident</td>\n",
       "      <td>Andreas Rönnberg</td>\n",
       "      <td>rock</td>\n",
       "      <td>Moscow</td>\n",
       "      <td>14:07:09</td>\n",
       "      <td>Friday</td>\n",
       "    </tr>\n",
       "    <tr>\n",
       "      <th>2</th>\n",
       "      <td>20EC38</td>\n",
       "      <td>Funiculì funiculà</td>\n",
       "      <td>Mario Lanza</td>\n",
       "      <td>pop</td>\n",
       "      <td>Saint-Petersburg</td>\n",
       "      <td>20:58:07</td>\n",
       "      <td>Wednesday</td>\n",
       "    </tr>\n",
       "    <tr>\n",
       "      <th>3</th>\n",
       "      <td>A3DD03C9</td>\n",
       "      <td>Dragons in the Sunset</td>\n",
       "      <td>Fire + Ice</td>\n",
       "      <td>folk</td>\n",
       "      <td>Saint-Petersburg</td>\n",
       "      <td>08:37:09</td>\n",
       "      <td>Monday</td>\n",
       "    </tr>\n",
       "    <tr>\n",
       "      <th>4</th>\n",
       "      <td>E2DC1FAE</td>\n",
       "      <td>Soul People</td>\n",
       "      <td>Space Echo</td>\n",
       "      <td>dance</td>\n",
       "      <td>Moscow</td>\n",
       "      <td>08:34:34</td>\n",
       "      <td>Monday</td>\n",
       "    </tr>\n",
       "    <tr>\n",
       "      <th>5</th>\n",
       "      <td>842029A1</td>\n",
       "      <td>Преданная</td>\n",
       "      <td>IMPERVTOR</td>\n",
       "      <td>rusrap</td>\n",
       "      <td>Saint-Petersburg</td>\n",
       "      <td>13:09:41</td>\n",
       "      <td>Friday</td>\n",
       "    </tr>\n",
       "    <tr>\n",
       "      <th>6</th>\n",
       "      <td>4CB90AA5</td>\n",
       "      <td>True</td>\n",
       "      <td>Roman Messer</td>\n",
       "      <td>dance</td>\n",
       "      <td>Moscow</td>\n",
       "      <td>13:00:07</td>\n",
       "      <td>Wednesday</td>\n",
       "    </tr>\n",
       "    <tr>\n",
       "      <th>7</th>\n",
       "      <td>F03E1C1F</td>\n",
       "      <td>Feeling This Way</td>\n",
       "      <td>Polina Griffith</td>\n",
       "      <td>dance</td>\n",
       "      <td>Moscow</td>\n",
       "      <td>20:47:49</td>\n",
       "      <td>Wednesday</td>\n",
       "    </tr>\n",
       "    <tr>\n",
       "      <th>8</th>\n",
       "      <td>8FA1D3BE</td>\n",
       "      <td>И вновь продолжается бой</td>\n",
       "      <td>NaN</td>\n",
       "      <td>ruspop</td>\n",
       "      <td>Moscow</td>\n",
       "      <td>09:17:40</td>\n",
       "      <td>Friday</td>\n",
       "    </tr>\n",
       "    <tr>\n",
       "      <th>9</th>\n",
       "      <td>E772D5C0</td>\n",
       "      <td>Pessimist</td>\n",
       "      <td>NaN</td>\n",
       "      <td>dance</td>\n",
       "      <td>Saint-Petersburg</td>\n",
       "      <td>21:20:49</td>\n",
       "      <td>Wednesday</td>\n",
       "    </tr>\n",
       "  </tbody>\n",
       "</table>\n",
       "</div>"
      ],
      "text/plain": [
       "     userID                        Track            artist   genre  \\\n",
       "0  FFB692EC            Kamigata To Boots  The Mass Missile    rock   \n",
       "1  55204538  Delayed Because of Accident  Andreas Rönnberg    rock   \n",
       "2    20EC38            Funiculì funiculà       Mario Lanza     pop   \n",
       "3  A3DD03C9        Dragons in the Sunset        Fire + Ice    folk   \n",
       "4  E2DC1FAE                  Soul People        Space Echo   dance   \n",
       "5  842029A1                    Преданная         IMPERVTOR  rusrap   \n",
       "6  4CB90AA5                         True      Roman Messer   dance   \n",
       "7  F03E1C1F             Feeling This Way   Polina Griffith   dance   \n",
       "8  8FA1D3BE     И вновь продолжается бой               NaN  ruspop   \n",
       "9  E772D5C0                    Pessimist               NaN   dance   \n",
       "\n",
       "             City        time        Day  \n",
       "0  Saint-Petersburg  20:28:33  Wednesday  \n",
       "1            Moscow  14:07:09     Friday  \n",
       "2  Saint-Petersburg  20:58:07  Wednesday  \n",
       "3  Saint-Petersburg  08:37:09     Monday  \n",
       "4            Moscow  08:34:34     Monday  \n",
       "5  Saint-Petersburg  13:09:41     Friday  \n",
       "6            Moscow  13:00:07  Wednesday  \n",
       "7            Moscow  20:47:49  Wednesday  \n",
       "8            Moscow  09:17:40     Friday  \n",
       "9  Saint-Petersburg  21:20:49  Wednesday  "
      ]
     },
     "execution_count": 3,
     "metadata": {},
     "output_type": "execute_result"
    }
   ],
   "source": [
    "df.head(10)# получение первых 10 строк таблицы df"
   ]
  },
  {
   "cell_type": "markdown",
   "metadata": {
    "id": "EO73Kwic_Zct"
   },
   "source": [
    "Одной командой получить общую информацию о таблице:"
   ]
  },
  {
   "cell_type": "code",
   "execution_count": 4,
   "metadata": {
    "id": "DSf2kIb-_Zct"
   },
   "outputs": [
    {
     "name": "stdout",
     "output_type": "stream",
     "text": [
      "<class 'pandas.core.frame.DataFrame'>\n",
      "RangeIndex: 65079 entries, 0 to 65078\n",
      "Data columns (total 7 columns):\n",
      " #   Column    Non-Null Count  Dtype \n",
      "---  ------    --------------  ----- \n",
      " 0     userID  65079 non-null  object\n",
      " 1   Track     63848 non-null  object\n",
      " 2   artist    57876 non-null  object\n",
      " 3   genre     63881 non-null  object\n",
      " 4     City    65079 non-null  object\n",
      " 5   time      65079 non-null  object\n",
      " 6   Day       65079 non-null  object\n",
      "dtypes: object(7)\n",
      "memory usage: 3.5+ MB\n"
     ]
    }
   ],
   "source": [
    "df.info()# получение общей информации о данных в таблице df"
   ]
  },
  {
   "cell_type": "markdown",
   "metadata": {
    "id": "TaQ2Iwbr_Zct"
   },
   "source": [
    "Итак, в таблице семь столбцов. Тип данных во всех столбцах — `object`.\n",
    "\n",
    "Согласно документации к данным:\n",
    "* `userID` — идентификатор пользователя;\n",
    "* `Track` — название трека;  \n",
    "* `artist` — имя исполнителя;\n",
    "* `genre` — название жанра;\n",
    "* `City` — город пользователя;\n",
    "* `time` — время начала прослушивания;\n",
    "* `Day` — день недели.\n",
    "\n",
    "В названиях колонок видны три нарушения стиля:\n",
    "1. Строчные буквы сочетаются с прописными.\n",
    "2. Встречаются пробелы.\n",
    "3. Название колонки 'userID' прописать в \"змеином регистре\" - 'user_id'.\n",
    "\n",
    "\n",
    "\n",
    "Количество значений в столбцах различается. Значит, в данных есть пропущенные значения.\n",
    "\n",
    "Хороший стиль нужен для того, чтобы ваша таблица была ясна и понятна, а также легко изменяемая, поэтому изменить названия таблицы, изменить . \n"
   ]
  },
  {
   "cell_type": "markdown",
   "metadata": {
    "id": "MCB6-dXG_Zct"
   },
   "source": [
    "**Выводы**\n",
    "\n",
    "В каждой строке таблицы — данные о прослушанном треке. Часть колонок описывает саму композицию: название, исполнителя и жанр. Остальные данные рассказывают о пользователе: из какого он города, когда он слушал музыку. \n",
    "\n",
    "Предварительно можно утверждать, что, данных достаточно для проверки гипотез. Но встречаются пропуски в данных, а в названиях колонок — расхождения с хорошим стилем.\n",
    "\n",
    "Чтобы двигаться дальше, нужно устранить проблемы в данных."
   ]
  },
  {
   "cell_type": "markdown",
   "metadata": {
    "id": "SjYF6Ub9_Zct"
   },
   "source": [
    "## Предобработка данных\n",
    "Исправьте стиль в заголовках столбцов, исключите пропуски. Затем проверьте данные на дубликаты."
   ]
  },
  {
   "cell_type": "markdown",
   "metadata": {
    "id": "dIaKXr29_Zct"
   },
   "source": [
    "### Стиль заголовков\n",
    "Выведите на экран названия столбцов:"
   ]
  },
  {
   "cell_type": "code",
   "execution_count": 5,
   "metadata": {
    "id": "oKOTdF_Q_Zct"
   },
   "outputs": [
    {
     "name": "stdout",
     "output_type": "stream",
     "text": [
      "Index(['  userID', 'Track', 'artist', 'genre', '  City  ', 'time', 'Day'], dtype='object')\n"
     ]
    }
   ],
   "source": [
    "print(df.columns)# перечень названий столбцов таблицы df"
   ]
  },
  {
   "cell_type": "markdown",
   "metadata": {
    "id": "zj5534cv_Zct"
   },
   "source": [
    "Приведите названия в соответствие с хорошим стилем:\n",
    "* несколько слов в названии запишите в «змеином_регистре»,\n",
    "* все символы сделайте строчными,\n",
    "* устраните пробелы.\n",
    "\n",
    "Для этого переименуйте колонки так:\n",
    "* `'  userID'` → `'user_id'`;\n",
    "* `'Track'` → `'track'`;\n",
    "* `'  City  '` → `'city'`;\n",
    "* `'Day'` → `'day'`."
   ]
  },
  {
   "cell_type": "code",
   "execution_count": 6,
   "metadata": {
    "id": "ISlFqs5y_Zct"
   },
   "outputs": [],
   "source": [
    "df = df.rename(columns={'  userID': 'user_id', 'Track': 'track', '  City  ': 'city','Day':'day'}) # переименование столбцов"
   ]
  },
  {
   "cell_type": "markdown",
   "metadata": {
    "id": "1dqbh00J_Zct"
   },
   "source": [
    "Проверьте результат. Для этого ещё раз выведите на экран названия столбцов:"
   ]
  },
  {
   "cell_type": "code",
   "execution_count": 7,
   "metadata": {
    "id": "d4NOAmTW_Zct"
   },
   "outputs": [
    {
     "name": "stdout",
     "output_type": "stream",
     "text": [
      "Index(['user_id', 'track', 'artist', 'genre', 'city', 'time', 'day'], dtype='object')\n"
     ]
    }
   ],
   "source": [
    "print(df.columns)# проверка результатов - перечень названий столбцов"
   ]
  },
  {
   "cell_type": "markdown",
   "metadata": {
    "id": "5ISfbcfY_Zct"
   },
   "source": [
    "### Пропуски значений\n",
    "Сначала посчитайте, сколько в таблице пропущенных значений. Для этого достаточно двух методов `pandas`:"
   ]
  },
  {
   "cell_type": "code",
   "execution_count": 8,
   "metadata": {
    "id": "RskX29qr_Zct"
   },
   "outputs": [
    {
     "name": "stdout",
     "output_type": "stream",
     "text": [
      "user_id       0\n",
      "track      1231\n",
      "artist     7203\n",
      "genre      1198\n",
      "city          0\n",
      "time          0\n",
      "day           0\n",
      "dtype: int64\n"
     ]
    }
   ],
   "source": [
    "print(df.isna().sum())# подсчёт пропусков"
   ]
  },
  {
   "cell_type": "markdown",
   "metadata": {
    "id": "qubhgnlO_Zct"
   },
   "source": [
    "Не все пропущенные значения влияют на исследование. Так в `track` и `artist` пропуски не важны для вашей работы. Достаточно заменить их явными обозначениями.\n",
    "\n",
    "Но пропуски в `genre` могут помешать сравнению музыкальных вкусов в Москве и Санкт-Петербурге. На практике было бы правильно установить причину пропусков и восстановить данные. Такой возможности нет в учебном проекте. Придётся:\n",
    "* заполнить и эти пропуски явными обозначениями,\n",
    "* оценить, насколько они повредят расчётам. "
   ]
  },
  {
   "cell_type": "markdown",
   "metadata": {
    "id": "fSv2laPA_Zct"
   },
   "source": [
    "Замените пропущенные значения в столбцах `track`, `artist` и `genre` на строку `'unknown'`. Для этого создайте список `columns_to_replace`, переберите его элементы циклом `for` и для каждого столбца выполните замену пропущенных значений:"
   ]
  },
  {
   "cell_type": "code",
   "execution_count": 9,
   "metadata": {
    "id": "KplB5qWs_Zct"
   },
   "outputs": [],
   "source": [
    "columns_to_replace=['track','artist','genre']\n",
    "for item in range(3):\n",
    "    df[columns_to_replace[item]] = df[columns_to_replace[item]].fillna('unknown') \n",
    "      \n",
    "    # перебор названий столбцов в цикле и замена пропущенных значений на 'unknown'"
   ]
  },
  {
   "cell_type": "markdown",
   "metadata": {
    "id": "Ilsm-MZo_Zct"
   },
   "source": [
    "Убедитесь, что в таблице не осталось пропусков. Для этого ещё раз посчитайте пропущенные значения."
   ]
  },
  {
   "cell_type": "code",
   "execution_count": 10,
   "metadata": {
    "id": "Tq4nYRX4_Zct"
   },
   "outputs": [
    {
     "name": "stdout",
     "output_type": "stream",
     "text": [
      "user_id    0\n",
      "track      0\n",
      "artist     0\n",
      "genre      0\n",
      "city       0\n",
      "time       0\n",
      "day        0\n",
      "dtype: int64\n"
     ]
    }
   ],
   "source": [
    "print(df.isna().sum())  # подсчёт пропусков"
   ]
  },
  {
   "cell_type": "markdown",
   "metadata": {
    "id": "BWKRtBJ3_Zct"
   },
   "source": [
    "### Дубликаты\n",
    "Посчитайте явные дубликаты в таблице одной командой:"
   ]
  },
  {
   "cell_type": "code",
   "execution_count": 11,
   "metadata": {
    "id": "36eES_S0_Zct"
   },
   "outputs": [
    {
     "name": "stdout",
     "output_type": "stream",
     "text": [
      "Количество явных дубликатов: 3826\n"
     ]
    }
   ],
   "source": [
    "print('Количество явных дубликатов:',df.duplicated().sum()) # подсчёт явных дубликатов"
   ]
  },
  {
   "cell_type": "markdown",
   "metadata": {
    "id": "Ot25h6XR_Zct"
   },
   "source": [
    "Вызовите специальный метод `pandas`, чтобы удалить явные дубликаты:"
   ]
  },
  {
   "cell_type": "code",
   "execution_count": 12,
   "metadata": {
    "id": "exFHq6tt_Zct"
   },
   "outputs": [],
   "source": [
    "df = df.drop_duplicates() # удаление явных дубликатов (с удалением старых индексов и формированием новых)"
   ]
  },
  {
   "cell_type": "markdown",
   "metadata": {
    "id": "Im2YwBEG_Zct"
   },
   "source": [
    "Ещё раз посчитайте явные дубликаты в таблице — убедитесь, что полностью от них избавились:"
   ]
  },
  {
   "cell_type": "code",
   "execution_count": 13,
   "metadata": {
    "id": "-8PuNWQ0_Zct"
   },
   "outputs": [
    {
     "name": "stdout",
     "output_type": "stream",
     "text": [
      "0\n"
     ]
    }
   ],
   "source": [
    "print(df.duplicated().sum())# проверка на отсутствие дубликатов"
   ]
  },
  {
   "cell_type": "markdown",
   "metadata": {
    "id": "QlFBsxAr_Zct"
   },
   "source": [
    "Теперь избавьтесь от неявных дубликатов в колонке `genre`. Например, название одного и того же жанра может быть записано немного по-разному. Такие ошибки тоже повлияют на результат исследования."
   ]
  },
  {
   "cell_type": "markdown",
   "metadata": {
    "id": "eSjWwsOh_Zct"
   },
   "source": [
    "Выведите на экран список уникальных названий жанров, отсортированный в алфавитном порядке. Для этого:\n",
    "* извлеките нужный столбец датафрейма, \n",
    "* примените к нему метод сортировки,\n",
    "* для отсортированного столбца вызовите метод, который вернёт уникальные значения из столбца."
   ]
  },
  {
   "cell_type": "code",
   "execution_count": 14,
   "metadata": {
    "id": "JIUcqzZN_Zct"
   },
   "outputs": [],
   "source": [
    "columns_to_replace=['track','artist','genre']\n",
    "for item in range(3):\n",
    "    df[columns_to_replace[item]] = df[columns_to_replace[item]].fillna('unknown')\n",
    "nujniy=df['genre']\n",
    "df1=nujniy.sort_values(ascending=True)\n"
   ]
  },
  {
   "cell_type": "code",
   "execution_count": 15,
   "metadata": {},
   "outputs": [
    {
     "name": "stdout",
     "output_type": "stream",
     "text": [
      "['acid' 'acoustic' 'action' 'adult' 'africa' 'afrikaans' 'alternative'\n",
      " 'alternativepunk' 'ambient' 'americana' 'animated' 'anime' 'arabesk'\n",
      " 'arabic' 'arena' 'argentinetango' 'art' 'audiobook' 'author' 'avantgarde'\n",
      " 'axé' 'baile' 'balkan' 'beats' 'bigroom' 'black' 'bluegrass' 'blues'\n",
      " 'bollywood' 'bossa' 'brazilian' 'breakbeat' 'breaks' 'broadway'\n",
      " 'cantautori' 'cantopop' 'canzone' 'caribbean' 'caucasian' 'celtic'\n",
      " 'chamber' 'chanson' 'children' 'chill' 'chinese' 'choral' 'christian'\n",
      " 'christmas' 'classical' 'classicmetal' 'club' 'colombian' 'comedy'\n",
      " 'conjazz' 'contemporary' 'country' 'cuban' 'dance' 'dancehall' 'dancepop'\n",
      " 'dark' 'death' 'deep' 'deutschrock' 'deutschspr' 'dirty' 'disco' 'dnb'\n",
      " 'documentary' 'downbeat' 'downtempo' 'drum' 'dub' 'dubstep' 'eastern'\n",
      " 'easy' 'electronic' 'electropop' 'emo' 'entehno' 'epicmetal' 'estrada'\n",
      " 'ethnic' 'eurofolk' 'european' 'experimental' 'extrememetal' 'fado'\n",
      " 'fairytail' 'film' 'fitness' 'flamenco' 'folk' 'folklore' 'folkmetal'\n",
      " 'folkrock' 'folktronica' 'forró' 'frankreich' 'französisch' 'french'\n",
      " 'funk' 'future' 'gangsta' 'garage' 'german' 'ghazal' 'gitarre' 'glitch'\n",
      " 'gospel' 'gothic' 'grime' 'grunge' 'gypsy' 'handsup' \"hard'n'heavy\"\n",
      " 'hardcore' 'hardstyle' 'hardtechno' 'hip' 'hip-hop' 'hiphop' 'historisch'\n",
      " 'holiday' 'hop' 'horror' 'house' 'hymn' 'idm' 'independent' 'indian'\n",
      " 'indie' 'indipop' 'industrial' 'inspirational' 'instrumental'\n",
      " 'international' 'irish' 'jam' 'japanese' 'jazz' 'jewish' 'jpop' 'jungle'\n",
      " 'k-pop' 'karadeniz' 'karaoke' 'kayokyoku' 'korean' 'laiko' 'latin'\n",
      " 'latino' 'leftfield' 'local' 'lounge' 'loungeelectronic' 'lovers'\n",
      " 'malaysian' 'mandopop' 'marschmusik' 'meditative' 'mediterranean'\n",
      " 'melodic' 'metal' 'metalcore' 'mexican' 'middle' 'minimal'\n",
      " 'miscellaneous' 'modern' 'mood' 'mpb' 'muslim' 'native' 'neoklassik'\n",
      " 'neue' 'new' 'newage' 'newwave' 'nu' 'nujazz' 'numetal' 'oceania' 'old'\n",
      " 'opera' 'orchestral' 'other' 'piano' 'podcasts' 'pop' 'popdance'\n",
      " 'popelectronic' 'popeurodance' 'poprussian' 'post' 'posthardcore'\n",
      " 'postrock' 'power' 'progmetal' 'progressive' 'psychedelic' 'punjabi'\n",
      " 'punk' 'quebecois' 'ragga' 'ram' 'rancheras' 'rap' 'rave' 'reggae'\n",
      " 'reggaeton' 'regional' 'relax' 'religious' 'retro' 'rhythm' 'rnb' 'rnr'\n",
      " 'rock' 'rockabilly' 'rockalternative' 'rockindie' 'rockother' 'romance'\n",
      " 'roots' 'ruspop' 'rusrap' 'rusrock' 'russian' 'salsa' 'samba' 'scenic'\n",
      " 'schlager' 'self' 'sertanejo' 'shanson' 'shoegazing' 'showtunes' 'singer'\n",
      " 'ska' 'skarock' 'slow' 'smooth' 'soft' 'soul' 'soulful' 'sound'\n",
      " 'soundtrack' 'southern' 'specialty' 'speech' 'spiritual' 'sport'\n",
      " 'stonerrock' 'surf' 'swing' 'synthpop' 'synthrock' 'sängerportrait'\n",
      " 'tango' 'tanzorchester' 'taraftar' 'tatar' 'tech' 'techno' 'teen'\n",
      " 'thrash' 'top' 'traditional' 'tradjazz' 'trance' 'tribal' 'trip'\n",
      " 'triphop' 'tropical' 'türk' 'türkçe' 'ukrrock' 'unknown' 'urban' 'uzbek'\n",
      " 'variété' 'vi' 'videogame' 'vocal' 'western' 'world' 'worldbeat' 'ïîï'\n",
      " 'электроника']\n"
     ]
    }
   ],
   "source": [
    "df1=df1.unique()\n",
    "print(df1)# Просмотр уникальных названий жанров"
   ]
  },
  {
   "cell_type": "markdown",
   "metadata": {
    "id": "qej-Qmuo_Zct"
   },
   "source": [
    "Просмотрите список и найдите неявные дубликаты названия `hiphop`. Это могут быть названия с ошибками или альтернативные названия того же жанра.\n",
    "\n",
    "Вы увидите следующие неявные дубликаты:\n",
    "* *hip*,\n",
    "* *hop*,\n",
    "* *hip-hop*.\n",
    "\n",
    "Чтобы очистить от них таблицу, напишите функцию `replace_wrong_genres()` с двумя параметрами: \n",
    "* `wrong_genres` — список дубликатов,\n",
    "* `correct_genre` — строка с правильным значением.\n",
    "\n",
    "Функция должна исправить колонку `genre` в таблице `df`: заменить каждое значение из списка `wrong_genres` на значение из `correct_genre`."
   ]
  },
  {
   "cell_type": "code",
   "execution_count": 16,
   "metadata": {
    "id": "ErNDkmns_Zct"
   },
   "outputs": [],
   "source": [
    "def replace_wrong_genres(wrong_genres, correct_genre): #создание функции с двумя параментрами\n",
    "    for index in wrong_genres: # перебираем список с неправильными значениями\n",
    "        df['genre'] = df['genre'].replace(index, correct_genre) # replace для каждого неправильного наименования"
   ]
  },
  {
   "cell_type": "markdown",
   "metadata": {
    "id": "aDoBJxbA_Zct"
   },
   "source": [
    "Вызовите `replace_wrong_genres()` и передайте ей такие аргументы, чтобы она устранила неявные дубликаты: вместо `hip`, `hop` и `hip-hop` в таблице должно быть значение `hiphop`:"
   ]
  },
  {
   "cell_type": "code",
   "execution_count": 17,
   "metadata": {
    "id": "YN5i2hpmSo09"
   },
   "outputs": [],
   "source": [
    "wrong_genres = ['hip', 'hop', 'hip-hop'] # переменная с неправильным списком\n",
    "correct_genre = 'hiphop' # переменная с правильным значением\n",
    "replace_wrong_genres(wrong_genres, correct_genre) # удаление неявных дубликатов"
   ]
  },
  {
   "cell_type": "markdown",
   "metadata": {
    "id": "zQKF16_RG15m"
   },
   "source": [
    "##### Проверьте, что заменили неправильные названия:\n",
    "\n",
    "*   hip\n",
    "*   hop\n",
    "*   hip-hop\n",
    "\n",
    "Выведите отсортированный список уникальных значений столбца `genre`:"
   ]
  },
  {
   "cell_type": "code",
   "execution_count": 18,
   "metadata": {
    "id": "wvixALnFG15m"
   },
   "outputs": [
    {
     "data": {
      "text/plain": [
       "array(['электроника', 'ïîï', 'worldbeat', 'world', 'western', 'vocal',\n",
       "       'videogame', 'vi', 'variété', 'uzbek', 'urban', 'unknown',\n",
       "       'ukrrock', 'türkçe', 'türk', 'tropical', 'triphop', 'trip',\n",
       "       'tribal', 'trance', 'tradjazz', 'traditional', 'top', 'thrash',\n",
       "       'teen', 'techno', 'tech', 'tatar', 'taraftar', 'tanzorchester',\n",
       "       'tango', 'sängerportrait', 'synthrock', 'synthpop', 'swing',\n",
       "       'surf', 'stonerrock', 'sport', 'spiritual', 'speech', 'specialty',\n",
       "       'southern', 'soundtrack', 'sound', 'soulful', 'soul', 'soft',\n",
       "       'smooth', 'slow', 'skarock', 'ska', 'singer', 'showtunes',\n",
       "       'shoegazing', 'shanson', 'sertanejo', 'self', 'schlager', 'scenic',\n",
       "       'samba', 'salsa', 'russian', 'rusrock', 'rusrap', 'ruspop',\n",
       "       'roots', 'romance', 'rockother', 'rockindie', 'rockalternative',\n",
       "       'rockabilly', 'rock', 'rnr', 'rnb', 'rhythm', 'retro', 'religious',\n",
       "       'relax', 'regional', 'reggaeton', 'reggae', 'rave', 'rap',\n",
       "       'rancheras', 'ram', 'ragga', 'quebecois', 'punk', 'punjabi',\n",
       "       'psychedelic', 'progressive', 'progmetal', 'power', 'postrock',\n",
       "       'posthardcore', 'post', 'poprussian', 'popeurodance',\n",
       "       'popelectronic', 'popdance', 'pop', 'podcasts', 'piano', 'other',\n",
       "       'orchestral', 'opera', 'old', 'oceania', 'numetal', 'nujazz', 'nu',\n",
       "       'newwave', 'newage', 'new', 'neue', 'neoklassik', 'native',\n",
       "       'muslim', 'mpb', 'mood', 'modern', 'miscellaneous', 'minimal',\n",
       "       'middle', 'mexican', 'metalcore', 'metal', 'melodic',\n",
       "       'mediterranean', 'meditative', 'marschmusik', 'mandopop',\n",
       "       'malaysian', 'lovers', 'loungeelectronic', 'lounge', 'local',\n",
       "       'leftfield', 'latino', 'latin', 'laiko', 'korean', 'kayokyoku',\n",
       "       'karaoke', 'karadeniz', 'k-pop', 'jungle', 'jpop', 'jewish',\n",
       "       'jazz', 'japanese', 'jam', 'irish', 'international',\n",
       "       'instrumental', 'inspirational', 'industrial', 'indipop', 'indie',\n",
       "       'indian', 'independent', 'idm', 'hymn', 'house', 'horror',\n",
       "       'holiday', 'historisch', 'hiphop', 'hardtechno', 'hardstyle',\n",
       "       'hardcore', \"hard'n'heavy\", 'handsup', 'gypsy', 'grunge', 'grime',\n",
       "       'gothic', 'gospel', 'glitch', 'gitarre', 'ghazal', 'german',\n",
       "       'garage', 'gangsta', 'future', 'funk', 'french', 'französisch',\n",
       "       'frankreich', 'forró', 'folktronica', 'folkrock', 'folkmetal',\n",
       "       'folklore', 'folk', 'flamenco', 'fitness', 'film', 'fairytail',\n",
       "       'fado', 'extrememetal', 'experimental', 'european', 'eurofolk',\n",
       "       'ethnic', 'estrada', 'epicmetal', 'entehno', 'emo', 'electropop',\n",
       "       'electronic', 'easy', 'eastern', 'dubstep', 'dub', 'drum',\n",
       "       'downtempo', 'downbeat', 'documentary', 'dnb', 'disco', 'dirty',\n",
       "       'deutschspr', 'deutschrock', 'deep', 'death', 'dark', 'dancepop',\n",
       "       'dancehall', 'dance', 'cuban', 'country', 'contemporary',\n",
       "       'conjazz', 'comedy', 'colombian', 'club', 'classicmetal',\n",
       "       'classical', 'christmas', 'christian', 'choral', 'chinese',\n",
       "       'chill', 'children', 'chanson', 'chamber', 'celtic', 'caucasian',\n",
       "       'caribbean', 'canzone', 'cantopop', 'cantautori', 'broadway',\n",
       "       'breaks', 'breakbeat', 'brazilian', 'bossa', 'bollywood', 'blues',\n",
       "       'bluegrass', 'black', 'bigroom', 'beats', 'balkan', 'baile', 'axé',\n",
       "       'avantgarde', 'author', 'audiobook', 'art', 'argentinetango',\n",
       "       'arena', 'arabic', 'arabesk', 'anime', 'animated', 'americana',\n",
       "       'ambient', 'alternativepunk', 'alternative', 'afrikaans', 'africa',\n",
       "       'adult', 'action', 'acoustic', 'acid'], dtype=object)"
      ]
     },
     "execution_count": 18,
     "metadata": {},
     "output_type": "execute_result"
    }
   ],
   "source": [
    "df['genre'].sort_values(ascending=False).unique()# Проверка на неявные дубликаты"
   ]
  },
  {
   "cell_type": "markdown",
   "metadata": {
    "id": "jz6a9-7HQUDd"
   },
   "source": [
    "**Выводы**\n",
    "\n",
    "Предобработка обнаружила три проблемы в данных:\n",
    "\n",
    "- нарушения в стиле заголовков,\n",
    "- пропущенные значения,\n",
    "- дубликаты — явные и неявные.\n",
    "\n",
    "Вы исправили заголовки, чтобы упростить работу с таблицей. Без дубликатов исследование станет более точным.\n",
    "\n",
    "Пропущенные значения вы заменили на `'unknown'`. Ещё предстоит увидеть, не повредят ли исследованию пропуски в колонке `genre`.\n",
    "\n",
    "Теперь можно перейти к проверке гипотез. "
   ]
  },
  {
   "cell_type": "markdown",
   "metadata": {
    "id": "WttZHXH0SqKk"
   },
   "source": [
    "## Проверка гипотез"
   ]
  },
  {
   "cell_type": "markdown",
   "metadata": {
    "id": "Im936VVi_Zcu"
   },
   "source": [
    "### Сравнение поведения пользователей двух столиц"
   ]
  },
  {
   "cell_type": "markdown",
   "metadata": {
    "id": "nwt_MuaL_Zcu"
   },
   "source": [
    "Первая гипотеза утверждает, что пользователи по-разному слушают музыку в Москве и Санкт-Петербурге. Проверьте это предположение по данным о трёх днях недели — понедельнике, среде и пятнице. Для этого:\n",
    "\n",
    "* Разделите пользователей Москвы и Санкт-Петербурга\n",
    "* Сравните, сколько треков послушала каждая группа пользователей в понедельник, среду и пятницу.\n"
   ]
  },
  {
   "cell_type": "markdown",
   "metadata": {
    "id": "8Dw_YMmT_Zcu"
   },
   "source": [
    "Для тренировки сначала выполните каждый из расчётов по отдельности. \n",
    "\n",
    "Оцените активность пользователей в каждом городе. Сгруппируйте данные по городу и посчитайте прослушивания в каждой группе.\n",
    "\n"
   ]
  },
  {
   "cell_type": "code",
   "execution_count": 19,
   "metadata": {
    "id": "0_Qs96oh_Zcu"
   },
   "outputs": [
    {
     "data": {
      "text/plain": [
       "city\n",
       "Moscow              42741\n",
       "Saint-Petersburg    18512\n",
       "Name: track, dtype: int64"
      ]
     },
     "execution_count": 19,
     "metadata": {},
     "output_type": "execute_result"
    }
   ],
   "source": [
    "df.groupby('city')['track'].count()"
   ]
  },
  {
   "cell_type": "markdown",
   "metadata": {
    "id": "dzli3w8o_Zcu"
   },
   "source": [
    "В Москве прослушиваний больше, чем в Петербурге. Из этого не следует, что московские пользователи чаще слушают музыку. Просто самих пользователей в Москве больше.\n",
    "\n",
    "Теперь сгруппируйте данные по дню недели и подсчитайте прослушивания в понедельник, среду и пятницу. Учтите, что в данных есть информация только о прослушиваниях только за эти дни.\n"
   ]
  },
  {
   "cell_type": "code",
   "execution_count": 20,
   "metadata": {
    "id": "uZMKjiJz_Zcu"
   },
   "outputs": [
    {
     "data": {
      "text/plain": [
       "day\n",
       "Friday       21840\n",
       "Monday       21354\n",
       "Wednesday    18059\n",
       "Name: track, dtype: int64"
      ]
     },
     "execution_count": 20,
     "metadata": {},
     "output_type": "execute_result"
    }
   ],
   "source": [
    "df.groupby('day')['track'].count()# Подсчёт прослушиваний в каждый из трёх дней"
   ]
  },
  {
   "cell_type": "markdown",
   "metadata": {
    "id": "cC2tNrlL_Zcu"
   },
   "source": [
    "В среднем пользователи из двух городов менее активны по средам. Но картина может измениться, если рассмотреть каждый город в отдельности."
   ]
  },
  {
   "cell_type": "markdown",
   "metadata": {
    "id": "POzs8bGa_Zcu"
   },
   "source": [
    "Вы видели, как работает группировка по городу и по дням недели. Теперь напишите функцию, которая объединит два эти расчёта.\n",
    "\n",
    "Создайте функцию `number_tracks()`, которая посчитает прослушивания для заданного дня и города. Ей понадобятся два параметра:\n",
    "* день недели,\n",
    "* название города.\n",
    "\n",
    "В функции сохраните в переменную строки исходной таблицы, у которых значение:\n",
    "  * в колонке `day` равно параметру `day`,\n",
    "  * в колонке `city` равно параметру `city`.\n",
    "\n",
    "Для этого примените последовательную фильтрацию с логической индексацией.\n",
    "\n",
    "Затем посчитайте значения в столбце `user_id` получившейся таблицы. Результат сохраните в новую переменную. Верните эту переменную из функции."
   ]
  },
  {
   "cell_type": "code",
   "execution_count": 21,
   "metadata": {
    "id": "Nz3GdQB1_Zcu"
   },
   "outputs": [],
   "source": [
    "def number_tracks(day,city):\n",
    "        track_list=df[(df['day']==day) & (df['city']==city)]\n",
    "        track_list_count=track_list['user_id'].count()\n",
    "        \n",
    "        return track_list_count\n",
    "\n",
    "#day_spisok=['Moday','Wedensday','Friday']\n",
    "#city_spisok=['Moscow','Saint-Petersburg']\n",
    "#number_tracks(day_spisok,city_spisok)\n",
    "\n",
    "\n",
    "# В переменной track_list сохраняются те строки таблицы df, для которых \n",
    "# значение в столбце 'day' равно параметру day и одновременно значение\n",
    "# в столбце 'city' равно параметру city (используйте последовательную фильтрацию\n",
    "# с помощью логической индексации).\n",
    "# В переменной track_list_count сохраняется число значений столбца 'user_id',\n",
    "# рассчитанное методом count() для таблицы track_list.\n",
    "# Функция возвращает число - значение track_list_count.\n",
    "\n",
    "# Функция для подсчёта прослушиваний для конкретного города и дня.\n",
    "# С помощью последовательной фильтрации с логической индексацией она \n",
    "# сначала получит из исходной таблицы строки с нужным днём,\n",
    "# затем из результата отфильтрует строки с нужным городом,\n",
    "# методом count() посчитает количество значений в колонке user_id. \n",
    "# Это количество функция вернёт в качестве результата"
   ]
  },
  {
   "cell_type": "markdown",
   "metadata": {
    "id": "ytf7xFrFJQ2r"
   },
   "source": [
    "Вызовите `number_tracks()` шесть раз, меняя значение параметров — так, чтобы получить данные для каждого города в каждый из трёх дней."
   ]
  },
  {
   "cell_type": "code",
   "execution_count": 22,
   "metadata": {
    "id": "rJcRATNQ_Zcu"
   },
   "outputs": [
    {
     "data": {
      "text/plain": [
       "15740"
      ]
     },
     "execution_count": 22,
     "metadata": {},
     "output_type": "execute_result"
    }
   ],
   "source": [
    "number_tracks('Monday','Moscow')# количество прослушиваний в Москве по понедельникам"
   ]
  },
  {
   "cell_type": "code",
   "execution_count": 23,
   "metadata": {
    "id": "hq_ncZ5T_Zcu"
   },
   "outputs": [
    {
     "data": {
      "text/plain": [
       "5614"
      ]
     },
     "execution_count": 23,
     "metadata": {},
     "output_type": "execute_result"
    }
   ],
   "source": [
    "number_tracks('Monday','Saint-Petersburg')# количество прослушиваний в Санкт-Петербурге по понедельникам"
   ]
  },
  {
   "cell_type": "code",
   "execution_count": 24,
   "metadata": {
    "id": "_NTy2VPU_Zcu"
   },
   "outputs": [
    {
     "data": {
      "text/plain": [
       "11056"
      ]
     },
     "execution_count": 24,
     "metadata": {},
     "output_type": "execute_result"
    }
   ],
   "source": [
    "number_tracks('Wednesday','Moscow')# количество прослушиваний в Москве по средам"
   ]
  },
  {
   "cell_type": "code",
   "execution_count": 25,
   "metadata": {
    "id": "j2y3TAwo_Zcu"
   },
   "outputs": [
    {
     "data": {
      "text/plain": [
       "7003"
      ]
     },
     "execution_count": 25,
     "metadata": {},
     "output_type": "execute_result"
    }
   ],
   "source": [
    "number_tracks('Wednesday','Saint-Petersburg')# количество прослушиваний в Санкт-Петербурге по средам"
   ]
  },
  {
   "cell_type": "code",
   "execution_count": 26,
   "metadata": {
    "id": "vYDw5u_K_Zcu"
   },
   "outputs": [
    {
     "data": {
      "text/plain": [
       "15945"
      ]
     },
     "execution_count": 26,
     "metadata": {},
     "output_type": "execute_result"
    }
   ],
   "source": [
    "number_tracks('Friday','Moscow')# количество прослушиваний в Москве по пятницам"
   ]
  },
  {
   "cell_type": "code",
   "execution_count": 27,
   "metadata": {
    "id": "8_yzFtW3_Zcu"
   },
   "outputs": [
    {
     "data": {
      "text/plain": [
       "5895"
      ]
     },
     "execution_count": 27,
     "metadata": {},
     "output_type": "execute_result"
    }
   ],
   "source": [
    "number_tracks('Friday','Saint-Petersburg')# количество прослушиваний в Санкт-Петербурге по пятницам"
   ]
  },
  {
   "cell_type": "markdown",
   "metadata": {
    "id": "7QXffbO-_Zcu"
   },
   "source": [
    "Создайте c помощью конструктора `pd.DataFrame` таблицу, где\n",
    "* названия колонок — `['city', 'monday', 'wednesday', 'friday']`;\n",
    "* данные — результаты, которые вы получили с помощью `number_tracks`."
   ]
  },
  {
   "cell_type": "code",
   "execution_count": 28,
   "metadata": {
    "id": "APAcLpOr_Zcu"
   },
   "outputs": [
    {
     "name": "stdout",
     "output_type": "stream",
     "text": [
      "       city  monday  wednesday  friday\n",
      "0    moscow   16715      11755   16890\n",
      "1  saint-pb    5982       7478    6259\n"
     ]
    }
   ],
   "source": [
    "\n",
    "    \n",
    "data = (['moscow',16715, 11755, 16890], ['saint-pb',5982 ,7478 , 6259] )\n",
    "\n",
    "columns = ['city','monday', 'wednesday', 'friday'] \n",
    "table = pd.DataFrame(data = data, columns = columns) \n",
    "\n",
    "#tablica=pd.DataFrame(data=number_tracks,columns=colonki)\n",
    "print(table)\n",
    "# Таблица с результатами"
   ]
  },
  {
   "cell_type": "markdown",
   "metadata": {
    "id": "-EgPIHYu_Zcu"
   },
   "source": [
    "**Выводы**\n",
    "\n",
    "Данные показывают разницу поведения пользователей:\n",
    "\n",
    "- В Москве пик прослушиваний приходится на понедельник и пятницу, а в среду заметен спад.\n",
    "- В Петербурге, наоборот, больше слушают музыку по средам. Активность в понедельник и пятницу здесь почти в равной мере уступает среде.\n",
    "\n",
    "Значит, данные говорят в пользу первой гипотезы."
   ]
  },
  {
   "cell_type": "markdown",
   "metadata": {
    "id": "atZAxtq4_Zcu"
   },
   "source": [
    "### Музыка в начале и в конце недели"
   ]
  },
  {
   "cell_type": "markdown",
   "metadata": {
    "id": "eXrQqXFH_Zcu"
   },
   "source": [
    "Согласно второй гипотезе, утром в понедельник в Москве преобладают одни жанры, а в Петербурге — другие. Так же и вечером пятницы преобладают разные жанры — в зависимости от города."
   ]
  },
  {
   "cell_type": "markdown",
   "metadata": {
    "id": "S8UcW6Hw_Zcu"
   },
   "source": [
    "Сохраните таблицы с данными в две переменные:\n",
    "* по Москве — в `moscow_general`;\n",
    "* по Санкт-Петербургу — в `spb_general`."
   ]
  },
  {
   "cell_type": "code",
   "execution_count": 29,
   "metadata": {
    "id": "qeaFfM_P_Zcu"
   },
   "outputs": [],
   "source": [
    "moscow_general=df[df['city']=='Moscow']\n",
    "# получение таблицы moscow_general из тех строк таблицы df, \n",
    "# для которых значение в столбце 'city' равно 'Moscow'\n"
   ]
  },
  {
   "cell_type": "code",
   "execution_count": 30,
   "metadata": {
    "id": "ORaVRKto_Zcu"
   },
   "outputs": [],
   "source": [
    "spb_general=df[df['city']=='Saint-Petersburg']\n",
    "# получение таблицы spb_general из тех строк таблицы df,\n",
    "# для которых значение в столбце 'city' равно 'Saint-Petersburg'\n"
   ]
  },
  {
   "cell_type": "markdown",
   "metadata": {
    "id": "MEJV-CX2_Zcu"
   },
   "source": [
    "Создайте функцию `genre_weekday()` с четырьмя параметрами:\n",
    "* таблица (датафрейм) с данными,\n",
    "* день недели,\n",
    "* начальная временная метка в формате 'hh:mm', \n",
    "* последняя временная метка в формате 'hh:mm'.\n",
    "\n",
    "Функция должна вернуть информацию о топ-10 жанров тех треков, которые прослушивали в указанный день, в промежутке между двумя отметками времени."
   ]
  },
  {
   "cell_type": "code",
   "execution_count": 31,
   "metadata": {
    "id": "laJT9BYl_Zcu"
   },
   "outputs": [
    {
     "name": "stdout",
     "output_type": "stream",
     "text": [
      "genre\n",
      "pop            781\n",
      "dance          549\n",
      "electronic     480\n",
      "rock           474\n",
      "hiphop         286\n",
      "ruspop         186\n",
      "world          181\n",
      "rusrap         175\n",
      "alternative    164\n",
      "unknown        161\n",
      "Name: track, dtype: int64\n"
     ]
    }
   ],
   "source": [
    "\n",
    "def genre_weekday(table,day,time1,time2):\n",
    "    \n",
    "        var=table[(table['day']==day)&(table['time']>=time1)&(table['time']<=time2)]   \n",
    "        genre_df_count=var.groupby('genre').count()\n",
    "        genre_df_sorted=genre_df_count.sort_values(by='user_id',ascending=False)\n",
    "        top_bot=genre_df_sorted.head(10)\n",
    "        top_bot=top_bot['track']\n",
    "        print(top_bot)\n",
    "\n",
    "      \n",
    "genre_weekday(moscow_general,'Monday','07:00','11:00')\n",
    "\n",
    "# вызов функции для утра понедельника в Петербурге (вместо df — таблица spb_general)"
   ]
  },
  {
   "cell_type": "code",
   "execution_count": 32,
   "metadata": {
    "id": "kwUcHPdy_Zcu"
   },
   "outputs": [
    {
     "name": "stdout",
     "output_type": "stream",
     "text": [
      "genre\n",
      "pop            218\n",
      "dance          182\n",
      "rock           162\n",
      "electronic     147\n",
      "hiphop          80\n",
      "ruspop          64\n",
      "alternative     58\n",
      "rusrap          55\n",
      "jazz            44\n",
      "classical       40\n",
      "Name: track, dtype: int64\n"
     ]
    }
   ],
   "source": [
    "\n",
    "genre_weekday(spb_general,'Monday','07:00','11:00')\n",
    "\n",
    "# вызов функции для утра понедельника в Петербурге (вместо df — таблица spb_general)"
   ]
  },
  {
   "cell_type": "code",
   "execution_count": 33,
   "metadata": {
    "id": "EzXVRE1o_Zcu"
   },
   "outputs": [
    {
     "name": "stdout",
     "output_type": "stream",
     "text": [
      "genre\n",
      "pop            365\n",
      "rock           287\n",
      "dance          259\n",
      "electronic     227\n",
      "hiphop         145\n",
      "world          112\n",
      "ruspop          90\n",
      "alternative     82\n",
      "rusrap          79\n",
      "classical       75\n",
      "Name: track, dtype: int64\n"
     ]
    }
   ],
   "source": [
    "    \n",
    "genre_weekday(moscow_general,'Friday','17:00','21:00')# вызов функции для вечера пятницы в Москве"
   ]
  },
  {
   "cell_type": "code",
   "execution_count": 34,
   "metadata": {
    "id": "JZaEKu5v_Zcu"
   },
   "outputs": [
    {
     "name": "stdout",
     "output_type": "stream",
     "text": [
      "genre\n",
      "rock           126\n",
      "pop            120\n",
      "dance          111\n",
      "electronic      94\n",
      "hiphop          50\n",
      "jazz            39\n",
      "unknown         33\n",
      "classical       32\n",
      "alternative     32\n",
      "world           29\n",
      "Name: track, dtype: int64\n"
     ]
    }
   ],
   "source": [
    "genre_weekday(spb_general,'Friday','17:00','21:00')# вызов функции для вечера пятницы в Петербурге"
   ]
  },
  {
   "cell_type": "markdown",
   "metadata": {
    "id": "wrCe4MNX_Zcu"
   },
   "source": [
    "**Выводы**\n",
    "\n",
    "Если сравнить топ-10 жанров в понедельник утром, можно сделать такие выводы:\n",
    "\n",
    "1. В Москве и Петербурге слушают похожую музыку. Единственное отличие — в московский рейтинг вошёл жанр “world”, а в петербургский — джаз и классика.\n",
    "\n",
    "2. В Москве пропущенных значений оказалось так много, что значение `'unknown'` заняло десятое место среди самых популярных жанров. Значит, пропущенные значения занимают существенную долю в данных и угрожают достоверности исследования.\n",
    "\n",
    "Вечер пятницы не меняет эту картину. Некоторые жанры поднимаются немного выше, другие спускаются, но в целом топ-10 остаётся тем же самым.\n",
    "\n",
    "Таким образом, вторая гипотеза подтвердилась лишь частично:\n",
    "* Пользователи слушают похожую музыку в начале недели и в конце.\n",
    "* Разница между Москвой и Петербургом не слишком выражена. В Москве чаще слушают русскую популярную музыку, в Петербурге — джаз.\n",
    "\n",
    "Однако пропуски в данных ставят под сомнение этот результат. В Москве их так много, что рейтинг топ-10 мог бы выглядеть иначе, если бы не утерянные  данные о жанрах."
   ]
  },
  {
   "cell_type": "markdown",
   "metadata": {
    "id": "JolODAqr_Zcu"
   },
   "source": [
    "### Жанровые предпочтения в Москве и Петербурге\n",
    "\n",
    "Гипотеза: Петербург — столица рэпа, музыку этого жанра там слушают чаще, чем в Москве.  А Москва — город контрастов, в котором, тем не менее, преобладает поп-музыка."
   ]
  },
  {
   "cell_type": "markdown",
   "metadata": {
    "id": "DlegSvaT_Zcu"
   },
   "source": [
    "Сгруппируйте таблицу `moscow_general` по жанру и посчитайте прослушивания треков каждого жанра методом `count()`. Затем отсортируйте результат в порядке убывания и сохраните его в таблице `moscow_genres`."
   ]
  },
  {
   "cell_type": "code",
   "execution_count": 35,
   "metadata": {},
   "outputs": [
    {
     "name": "stdout",
     "output_type": "stream",
     "text": [
      "genre\n",
      "pop            5892\n",
      "dance          4435\n",
      "rock           3965\n",
      "electronic     3786\n",
      "hiphop         2096\n",
      "               ... \n",
      "neoklassik        1\n",
      "mood              1\n",
      "metalcore         1\n",
      "marschmusik       1\n",
      "ïîï               1\n",
      "Name: genre, Length: 267, dtype: int64\n"
     ]
    }
   ],
   "source": [
    "moscow_general=df[df['city']=='Moscow']\n",
    "moscow_genres=moscow_general.groupby('genre')['genre'].count().sort_values(ascending = False)\n",
    "print(moscow_genres)"
   ]
  },
  {
   "cell_type": "code",
   "execution_count": 36,
   "metadata": {
    "id": "r19lIPke_Zcu"
   },
   "outputs": [
    {
     "name": "stdout",
     "output_type": "stream",
     "text": [
      "genre\n",
      "pop              2431\n",
      "dance            1932\n",
      "rock             1879\n",
      "electronic       1736\n",
      "hiphop            960\n",
      "                 ... \n",
      "international       1\n",
      "independent         1\n",
      "idm                 1\n",
      "gypsy               1\n",
      "электроника         1\n",
      "Name: genre, Length: 211, dtype: int64\n"
     ]
    }
   ],
   "source": [
    "spb_general=df[df['city']=='Saint-Petersburg']\n",
    "spb_genres=spb_general.groupby('genre')['genre'].count().sort_values(ascending = False)\n",
    "print(spb_genres)"
   ]
  },
  {
   "cell_type": "markdown",
   "metadata": {
    "id": "5Doha_ODgyQ8"
   },
   "source": [
    "Выведите на экран первые десять строк `spb_genres`:"
   ]
  },
  {
   "cell_type": "code",
   "execution_count": 40,
   "metadata": {
    "id": "uaGJHjVU_Zcv"
   },
   "outputs": [
    {
     "data": {
      "text/plain": [
       "14811    acoustic\n",
       "3650     acoustic\n",
       "35110       adult\n",
       "13576       adult\n",
       "39500       adult\n",
       "18559       adult\n",
       "49611       adult\n",
       "49271       adult\n",
       "1474        adult\n",
       "9482        adult\n",
       "Name: genre, dtype: object"
      ]
     },
     "execution_count": 40,
     "metadata": {},
     "output_type": "execute_result"
    }
   ],
   "source": [
    "spb_general['genre'].sort_values(ascending=True).head(10)"
   ]
  },
  {
   "cell_type": "markdown",
   "metadata": {
    "id": "RY51YJYu_Zcv"
   },
   "source": [
    "**Выводы**"
   ]
  },
  {
   "cell_type": "markdown",
   "metadata": {
    "id": "nVhnJEm__Zcv"
   },
   "source": [
    "Гипотеза частично подтвердилась:\n",
    "* Поп-музыка — самый популярный жанр в Москве, как и предполагала гипотеза. Более того, в топ-10 жанров встречается близкий жанр — русская популярная музыка.\n",
    "* Вопреки ожиданиям, рэп одинаково популярен в Москве и Петербурге. \n"
   ]
  },
  {
   "cell_type": "markdown",
   "metadata": {
    "id": "ykKQ0N65_Zcv"
   },
   "source": [
    "## Итоги исследования"
   ]
  },
  {
   "cell_type": "markdown",
   "metadata": {
    "id": "tjUwbHb3_Zcv"
   },
   "source": [
    "Вы проверили три гипотезы и установили:\n",
    "\n",
    "1. День недели по-разному влияет на активность пользователей в Москве и Петербурге. \n",
    "\n",
    "Первая гипотеза полностью подтвердилась.\n",
    "\n",
    "2. Музыкальные предпочтения не сильно меняются в течение недели — будь то Москва или Петербург. Небольшие различия заметны в начале недели, по понедельникам:\n",
    "* в Москве слушают музыку жанра “world”,\n",
    "* в Петербурге — джаз и классику.\n",
    "\n",
    "Таким образом, вторая гипотеза подтвердилась лишь отчасти. Этот результат мог оказаться иным, если бы не пропуски в данных.\n",
    "\n",
    "3. Во вкусах пользователей Москвы и Петербурга больше общего чем различий. Вопреки ожиданиям, предпочтения жанров в Петербурге напоминают московские.\n",
    "\n",
    "Третья гипотеза не подтвердилась. Если различия в предпочтениях и существуют, на основной массе пользователей они незаметны.\n",
    "\n",
    "**На практике исследования содержат проверки статистических гипотез.**\n",
    "Из данных одного сервиса не всегда можно сделать вывод о всех жителях города.\n",
    "Проверки статистических гипотез покажут, насколько они достоверны, исходя из имеющихся данных. \n",
    "С методами проверок гипотез вы ещё познакомитесь в следующих темах."
   ]
  }
 ],
 "metadata": {
  "ExecuteTimeLog": [
   {
    "duration": 627,
    "start_time": "2022-01-05T17:18:35.143Z"
   },
   {
    "duration": 2,
    "start_time": "2022-01-05T17:20:36.336Z"
   },
   {
    "duration": 354,
    "start_time": "2022-01-05T17:21:02.835Z"
   },
   {
    "duration": 387,
    "start_time": "2022-01-05T17:23:08.389Z"
   },
   {
    "duration": 250,
    "start_time": "2022-01-05T17:23:23.217Z"
   },
   {
    "duration": 237,
    "start_time": "2022-01-05T17:26:04.249Z"
   },
   {
    "duration": 286,
    "start_time": "2022-01-05T17:27:17.977Z"
   },
   {
    "duration": 247,
    "start_time": "2022-01-05T17:27:42.151Z"
   },
   {
    "duration": 758,
    "start_time": "2022-01-05T17:27:46.930Z"
   },
   {
    "duration": 248,
    "start_time": "2022-01-05T17:28:00.401Z"
   },
   {
    "duration": 821,
    "start_time": "2022-01-05T17:28:26.421Z"
   },
   {
    "duration": 151,
    "start_time": "2022-01-05T17:28:48.749Z"
   },
   {
    "duration": 25,
    "start_time": "2022-01-05T17:29:03.349Z"
   },
   {
    "duration": 80,
    "start_time": "2022-01-05T17:30:27.030Z"
   },
   {
    "duration": 7,
    "start_time": "2022-01-05T17:30:36.581Z"
   },
   {
    "duration": 8,
    "start_time": "2022-01-05T17:30:51.228Z"
   },
   {
    "duration": 11,
    "start_time": "2022-01-05T17:30:53.862Z"
   },
   {
    "duration": 102,
    "start_time": "2022-01-05T17:31:04.273Z"
   },
   {
    "duration": 126,
    "start_time": "2022-01-05T17:39:02.957Z"
   },
   {
    "duration": 80,
    "start_time": "2022-01-05T17:39:20.991Z"
   },
   {
    "duration": 292,
    "start_time": "2022-01-05T17:39:32.111Z"
   },
   {
    "duration": 81,
    "start_time": "2022-01-05T17:39:42.403Z"
   },
   {
    "duration": 90,
    "start_time": "2022-01-05T17:39:46.564Z"
   },
   {
    "duration": 370,
    "start_time": "2022-01-05T17:40:37.344Z"
   },
   {
    "duration": 459,
    "start_time": "2022-01-05T17:40:48.551Z"
   },
   {
    "duration": -1031,
    "start_time": "2022-01-05T17:41:30.632Z"
   },
   {
    "duration": 7968,
    "start_time": "2022-01-05T17:41:46.253Z"
   },
   {
    "duration": 7133,
    "start_time": "2022-01-05T17:42:11.023Z"
   },
   {
    "duration": 120,
    "start_time": "2022-01-05T17:43:08.685Z"
   },
   {
    "duration": 129,
    "start_time": "2022-01-05T17:43:27.243Z"
   },
   {
    "duration": 156,
    "start_time": "2022-01-05T17:43:37.479Z"
   },
   {
    "duration": 157,
    "start_time": "2022-01-05T17:43:41.476Z"
   },
   {
    "duration": 155,
    "start_time": "2022-01-05T17:43:44.443Z"
   },
   {
    "duration": 149,
    "start_time": "2022-01-05T17:43:49.223Z"
   },
   {
    "duration": 152,
    "start_time": "2022-01-05T17:43:52.482Z"
   },
   {
    "duration": 164,
    "start_time": "2022-01-05T17:43:55.315Z"
   },
   {
    "duration": 152,
    "start_time": "2022-01-05T17:44:05.235Z"
   },
   {
    "duration": 157,
    "start_time": "2022-01-05T17:44:09.351Z"
   },
   {
    "duration": 161,
    "start_time": "2022-01-05T17:44:11.743Z"
   },
   {
    "duration": 149,
    "start_time": "2022-01-05T17:44:17.543Z"
   },
   {
    "duration": 153,
    "start_time": "2022-01-05T17:45:20.927Z"
   },
   {
    "duration": 159,
    "start_time": "2022-01-05T17:45:31.227Z"
   },
   {
    "duration": 153,
    "start_time": "2022-01-05T17:45:48.855Z"
   },
   {
    "duration": 163,
    "start_time": "2022-01-05T17:45:57.144Z"
   },
   {
    "duration": 155,
    "start_time": "2022-01-05T17:46:00.084Z"
   },
   {
    "duration": 169,
    "start_time": "2022-01-05T17:46:03.163Z"
   },
   {
    "duration": 150,
    "start_time": "2022-01-05T17:46:07.716Z"
   },
   {
    "duration": 96,
    "start_time": "2022-01-05T17:46:11.591Z"
   },
   {
    "duration": 176,
    "start_time": "2022-01-05T17:46:19.447Z"
   },
   {
    "duration": 142,
    "start_time": "2022-01-05T17:46:25.899Z"
   },
   {
    "duration": 140,
    "start_time": "2022-01-05T17:46:29.763Z"
   },
   {
    "duration": 143,
    "start_time": "2022-01-05T17:46:36.483Z"
   },
   {
    "duration": 141,
    "start_time": "2022-01-05T17:46:41.719Z"
   },
   {
    "duration": 140,
    "start_time": "2022-01-05T17:46:45.044Z"
   },
   {
    "duration": 27,
    "start_time": "2022-01-05T17:48:58.944Z"
   },
   {
    "duration": 219,
    "start_time": "2022-01-05T17:49:12.863Z"
   },
   {
    "duration": 23,
    "start_time": "2022-01-05T17:49:43.897Z"
   },
   {
    "duration": 172,
    "start_time": "2022-01-05T17:49:56.876Z"
   },
   {
    "duration": 161,
    "start_time": "2022-01-05T17:50:00.336Z"
   },
   {
    "duration": 168,
    "start_time": "2022-01-05T17:50:31.004Z"
   },
   {
    "duration": 154,
    "start_time": "2022-01-05T17:50:40.536Z"
   },
   {
    "duration": 170,
    "start_time": "2022-01-05T17:50:48.415Z"
   },
   {
    "duration": 161,
    "start_time": "2022-01-05T17:50:49.716Z"
   },
   {
    "duration": 167,
    "start_time": "2022-01-05T17:51:42.456Z"
   },
   {
    "duration": 147,
    "start_time": "2022-01-05T17:51:46.137Z"
   },
   {
    "duration": 3,
    "start_time": "2022-01-05T17:52:04.536Z"
   },
   {
    "duration": 181,
    "start_time": "2022-01-05T17:52:31.968Z"
   },
   {
    "duration": 258,
    "start_time": "2022-01-05T17:54:06.468Z"
   },
   {
    "duration": 453,
    "start_time": "2022-01-05T17:54:24.476Z"
   },
   {
    "duration": 206,
    "start_time": "2022-01-05T17:54:29.444Z"
   },
   {
    "duration": 174,
    "start_time": "2022-01-05T17:54:35.856Z"
   },
   {
    "duration": 168,
    "start_time": "2022-01-05T17:57:08.055Z"
   },
   {
    "duration": 172,
    "start_time": "2022-01-05T17:57:20.336Z"
   },
   {
    "duration": 186,
    "start_time": "2022-01-05T17:59:42.015Z"
   },
   {
    "duration": 172,
    "start_time": "2022-01-05T18:01:33.135Z"
   },
   {
    "duration": 189,
    "start_time": "2022-01-05T18:01:51.847Z"
   },
   {
    "duration": 84,
    "start_time": "2022-01-05T18:04:00.703Z"
   },
   {
    "duration": 207,
    "start_time": "2022-01-05T18:04:06.894Z"
   },
   {
    "duration": 25,
    "start_time": "2022-01-05T18:04:24.454Z"
   },
   {
    "duration": 187,
    "start_time": "2022-01-05T18:04:29.215Z"
   },
   {
    "duration": 208,
    "start_time": "2022-01-05T18:14:15.283Z"
   },
   {
    "duration": 70,
    "start_time": "2022-01-05T18:14:45.823Z"
   },
   {
    "duration": 61,
    "start_time": "2022-01-05T18:15:05.315Z"
   },
   {
    "duration": 6,
    "start_time": "2022-01-05T18:17:06.901Z"
   },
   {
    "duration": 278,
    "start_time": "2022-01-05T18:17:45.222Z"
   },
   {
    "duration": 256,
    "start_time": "2022-01-05T18:18:00.922Z"
   },
   {
    "duration": 248,
    "start_time": "2022-01-05T18:18:09.223Z"
   },
   {
    "duration": 319,
    "start_time": "2022-01-05T18:19:47.023Z"
   },
   {
    "duration": 339,
    "start_time": "2022-01-05T18:19:54.482Z"
   },
   {
    "duration": 85,
    "start_time": "2022-01-05T18:20:05.380Z"
   },
   {
    "duration": 265,
    "start_time": "2022-01-05T18:20:11.563Z"
   },
   {
    "duration": 291,
    "start_time": "2022-01-05T18:21:30.043Z"
   },
   {
    "duration": 170,
    "start_time": "2022-01-05T18:22:05.013Z"
   },
   {
    "duration": 407,
    "start_time": "2022-01-05T18:23:13.079Z"
   },
   {
    "duration": 595,
    "start_time": "2022-01-05T18:23:52.922Z"
   },
   {
    "duration": 436,
    "start_time": "2022-01-05T18:24:02.162Z"
   },
   {
    "duration": 470,
    "start_time": "2022-01-05T18:24:46.335Z"
   },
   {
    "duration": 426,
    "start_time": "2022-01-05T18:25:37.932Z"
   },
   {
    "duration": 472,
    "start_time": "2022-01-05T18:25:48.231Z"
   },
   {
    "duration": 480,
    "start_time": "2022-01-05T18:26:10.883Z"
   },
   {
    "duration": 600,
    "start_time": "2022-01-05T18:26:34.382Z"
   },
   {
    "duration": 100,
    "start_time": "2022-01-05T18:26:43.058Z"
   },
   {
    "duration": 447,
    "start_time": "2022-01-05T18:26:46.263Z"
   },
   {
    "duration": 93,
    "start_time": "2022-01-05T18:27:14.582Z"
   },
   {
    "duration": 154,
    "start_time": "2022-01-05T18:27:17.691Z"
   },
   {
    "duration": 416,
    "start_time": "2022-01-05T18:29:27.823Z"
   },
   {
    "duration": 588,
    "start_time": "2022-01-05T18:29:32.462Z"
   },
   {
    "duration": 159,
    "start_time": "2022-01-05T18:31:11.404Z"
   },
   {
    "duration": 416,
    "start_time": "2022-01-05T18:31:48.204Z"
   },
   {
    "duration": 165,
    "start_time": "2022-01-05T18:32:10.003Z"
   },
   {
    "duration": 176,
    "start_time": "2022-01-05T18:32:21.210Z"
   },
   {
    "duration": 395,
    "start_time": "2022-01-05T18:34:18.419Z"
   },
   {
    "duration": 434,
    "start_time": "2022-01-05T18:34:55.525Z"
   },
   {
    "duration": 552,
    "start_time": "2022-01-05T18:35:00.224Z"
   },
   {
    "duration": 398,
    "start_time": "2022-01-05T18:35:03.183Z"
   },
   {
    "duration": 460,
    "start_time": "2022-01-05T18:35:11.964Z"
   },
   {
    "duration": 453,
    "start_time": "2022-01-05T18:35:26.471Z"
   },
   {
    "duration": 929,
    "start_time": "2022-01-05T18:35:36.963Z"
   },
   {
    "duration": 403,
    "start_time": "2022-01-05T18:36:07.932Z"
   },
   {
    "duration": 473,
    "start_time": "2022-01-05T18:37:31.474Z"
   },
   {
    "duration": 218,
    "start_time": "2022-01-05T18:37:37.942Z"
   },
   {
    "duration": 217,
    "start_time": "2022-01-05T18:37:54.712Z"
   },
   {
    "duration": 199,
    "start_time": "2022-01-05T18:38:16.123Z"
   },
   {
    "duration": 205,
    "start_time": "2022-01-05T18:39:20.099Z"
   },
   {
    "duration": 7,
    "start_time": "2022-01-05T18:39:22.814Z"
   },
   {
    "duration": 239,
    "start_time": "2022-01-05T18:53:08.053Z"
   },
   {
    "duration": 84,
    "start_time": "2022-01-05T18:53:27.974Z"
   },
   {
    "duration": 290,
    "start_time": "2022-01-05T18:53:36.374Z"
   },
   {
    "duration": 253,
    "start_time": "2022-01-05T18:54:01.221Z"
   },
   {
    "duration": 357,
    "start_time": "2022-01-05T18:54:19.036Z"
   },
   {
    "duration": 308,
    "start_time": "2022-01-05T18:54:30.654Z"
   },
   {
    "duration": 285,
    "start_time": "2022-01-05T18:54:34.701Z"
   },
   {
    "duration": 244,
    "start_time": "2022-01-05T18:55:09.392Z"
   },
   {
    "duration": 253,
    "start_time": "2022-01-05T18:55:24.510Z"
   },
   {
    "duration": 3,
    "start_time": "2022-01-05T18:55:47.681Z"
   },
   {
    "duration": 341,
    "start_time": "2022-01-05T18:55:49.293Z"
   },
   {
    "duration": 239,
    "start_time": "2022-01-05T18:56:21.532Z"
   },
   {
    "duration": 457,
    "start_time": "2022-01-05T18:56:28.053Z"
   },
   {
    "duration": 441,
    "start_time": "2022-01-05T18:57:06.790Z"
   },
   {
    "duration": 243,
    "start_time": "2022-01-05T19:00:48.229Z"
   },
   {
    "duration": 337,
    "start_time": "2022-01-05T19:01:30.629Z"
   },
   {
    "duration": 78,
    "start_time": "2022-01-05T19:01:53.821Z"
   },
   {
    "duration": 3588,
    "start_time": "2022-01-05T19:02:03.010Z"
   },
   {
    "duration": 3993,
    "start_time": "2022-01-05T19:03:26.169Z"
   },
   {
    "duration": 4,
    "start_time": "2022-01-05T19:09:06.229Z"
   },
   {
    "duration": 3,
    "start_time": "2022-01-05T19:09:09.509Z"
   },
   {
    "duration": 6729,
    "start_time": "2022-01-05T19:10:15.006Z"
   },
   {
    "duration": 3,
    "start_time": "2022-01-05T19:10:48.849Z"
   },
   {
    "duration": 14,
    "start_time": "2022-01-05T19:10:56.929Z"
   },
   {
    "duration": 12,
    "start_time": "2022-01-05T19:11:42.041Z"
   },
   {
    "duration": 398,
    "start_time": "2022-01-06T05:38:53.766Z"
   },
   {
    "duration": 1079,
    "start_time": "2022-01-06T05:39:44.490Z"
   },
   {
    "duration": 129,
    "start_time": "2022-01-06T05:40:07.874Z"
   },
   {
    "duration": 9077,
    "start_time": "2022-01-06T05:40:12.850Z"
   },
   {
    "duration": -216,
    "start_time": "2022-01-06T05:40:39.818Z"
   },
   {
    "duration": 1442,
    "start_time": "2022-01-06T05:40:59.940Z"
   },
   {
    "duration": 103,
    "start_time": "2022-01-06T05:41:11.140Z"
   },
   {
    "duration": 140,
    "start_time": "2022-01-06T05:41:15.250Z"
   },
   {
    "duration": 129,
    "start_time": "2022-01-06T05:41:19.671Z"
   },
   {
    "duration": 130,
    "start_time": "2022-01-06T05:41:26.025Z"
   },
   {
    "duration": 167,
    "start_time": "2022-01-06T05:41:29.090Z"
   },
   {
    "duration": 122,
    "start_time": "2022-01-06T05:41:39.558Z"
   },
   {
    "duration": 170,
    "start_time": "2022-01-06T05:41:55.310Z"
   },
   {
    "duration": -165,
    "start_time": "2022-01-06T05:42:06.967Z"
   },
   {
    "duration": 39,
    "start_time": "2022-01-06T05:42:45.370Z"
   },
   {
    "duration": -197,
    "start_time": "2022-01-06T05:43:36.957Z"
   },
   {
    "duration": 8793,
    "start_time": "2022-01-06T05:43:47.540Z"
   },
   {
    "duration": 8311,
    "start_time": "2022-01-06T05:44:15.271Z"
   },
   {
    "duration": 8138,
    "start_time": "2022-01-06T05:44:24.250Z"
   },
   {
    "duration": 8714,
    "start_time": "2022-01-06T05:45:07.390Z"
   },
   {
    "duration": 104,
    "start_time": "2022-01-06T05:45:37.740Z"
   },
   {
    "duration": 111,
    "start_time": "2022-01-06T05:45:43.610Z"
   },
   {
    "duration": 122,
    "start_time": "2022-01-06T05:45:49.578Z"
   },
   {
    "duration": 3,
    "start_time": "2022-01-06T05:45:53.450Z"
   },
   {
    "duration": 337,
    "start_time": "2022-01-06T05:45:58.650Z"
   },
   {
    "duration": 7,
    "start_time": "2022-01-06T05:46:56.078Z"
   },
   {
    "duration": 345,
    "start_time": "2022-01-06T05:51:06.110Z"
   },
   {
    "duration": 341,
    "start_time": "2022-01-06T05:51:13.522Z"
   },
   {
    "duration": 357,
    "start_time": "2022-01-06T05:51:32.401Z"
   },
   {
    "duration": 355,
    "start_time": "2022-01-06T05:51:38.793Z"
   },
   {
    "duration": 343,
    "start_time": "2022-01-06T05:51:41.342Z"
   },
   {
    "duration": 330,
    "start_time": "2022-01-06T05:51:53.474Z"
   },
   {
    "duration": 3,
    "start_time": "2022-01-06T05:52:02.809Z"
   },
   {
    "duration": 412,
    "start_time": "2022-01-06T05:52:12.713Z"
   },
   {
    "duration": 345,
    "start_time": "2022-01-06T05:52:22.041Z"
   },
   {
    "duration": 406,
    "start_time": "2022-01-06T05:52:30.998Z"
   },
   {
    "duration": 7,
    "start_time": "2022-01-06T05:52:35.953Z"
   },
   {
    "duration": 4,
    "start_time": "2022-01-06T05:52:47.241Z"
   },
   {
    "duration": 338,
    "start_time": "2022-01-06T05:52:57.641Z"
   },
   {
    "duration": 334,
    "start_time": "2022-01-06T05:53:02.261Z"
   },
   {
    "duration": 391,
    "start_time": "2022-01-06T05:53:06.954Z"
   },
   {
    "duration": 4,
    "start_time": "2022-01-06T05:53:13.754Z"
   },
   {
    "duration": 364,
    "start_time": "2022-01-06T05:53:36.713Z"
   },
   {
    "duration": 330,
    "start_time": "2022-01-06T05:53:40.773Z"
   },
   {
    "duration": 388,
    "start_time": "2022-01-06T05:53:44.340Z"
   },
   {
    "duration": 142,
    "start_time": "2022-01-06T05:54:21.401Z"
   },
   {
    "duration": 147,
    "start_time": "2022-01-06T05:54:35.844Z"
   },
   {
    "duration": 128,
    "start_time": "2022-01-06T05:54:47.061Z"
   },
   {
    "duration": 481,
    "start_time": "2022-01-06T05:54:58.704Z"
   },
   {
    "duration": 133,
    "start_time": "2022-01-06T05:55:14.440Z"
   },
   {
    "duration": 176,
    "start_time": "2022-01-06T05:56:23.701Z"
   },
   {
    "duration": 373,
    "start_time": "2022-01-06T05:57:38.141Z"
   },
   {
    "duration": 12,
    "start_time": "2022-01-06T05:57:46.641Z"
   },
   {
    "duration": 13,
    "start_time": "2022-01-06T05:58:07.317Z"
   },
   {
    "duration": 30,
    "start_time": "2022-01-06T05:58:27.637Z"
   },
   {
    "duration": 11,
    "start_time": "2022-01-06T05:58:48.873Z"
   },
   {
    "duration": 29,
    "start_time": "2022-01-06T05:58:54.374Z"
   },
   {
    "duration": 318,
    "start_time": "2022-01-06T06:03:49.667Z"
   },
   {
    "duration": 13,
    "start_time": "2022-01-06T06:05:01.873Z"
   },
   {
    "duration": 5,
    "start_time": "2022-01-06T06:05:11.293Z"
   },
   {
    "duration": 162,
    "start_time": "2022-01-06T06:06:00.381Z"
   },
   {
    "duration": 8502,
    "start_time": "2022-01-06T06:06:17.102Z"
   },
   {
    "duration": 149,
    "start_time": "2022-01-06T06:09:07.079Z"
   },
   {
    "duration": 185,
    "start_time": "2022-01-06T06:10:00.958Z"
   },
   {
    "duration": 153,
    "start_time": "2022-01-06T06:10:15.866Z"
   },
   {
    "duration": 117,
    "start_time": "2022-01-06T06:11:21.513Z"
   },
   {
    "duration": 627,
    "start_time": "2022-01-06T06:11:25.940Z"
   },
   {
    "duration": 495,
    "start_time": "2022-01-06T06:11:29.909Z"
   },
   {
    "duration": 113,
    "start_time": "2022-01-06T06:11:47.921Z"
   },
   {
    "duration": 1601,
    "start_time": "2022-01-06T06:11:51.781Z"
   },
   {
    "duration": 223,
    "start_time": "2022-01-06T06:12:03.981Z"
   },
   {
    "duration": 8615,
    "start_time": "2022-01-06T06:12:41.562Z"
   },
   {
    "duration": -91,
    "start_time": "2022-01-06T06:14:25.712Z"
   },
   {
    "duration": 140,
    "start_time": "2022-01-06T06:14:33.441Z"
   },
   {
    "duration": 155,
    "start_time": "2022-01-06T06:14:51.561Z"
   },
   {
    "duration": 171,
    "start_time": "2022-01-06T06:15:02.302Z"
   },
   {
    "duration": 165,
    "start_time": "2022-01-06T06:15:23.121Z"
   },
   {
    "duration": 115,
    "start_time": "2022-01-06T06:17:51.149Z"
   },
   {
    "duration": 550,
    "start_time": "2022-01-06T06:18:03.893Z"
   },
   {
    "duration": 118,
    "start_time": "2022-01-06T06:18:57.640Z"
   },
   {
    "duration": 494,
    "start_time": "2022-01-06T06:19:08.961Z"
   },
   {
    "duration": 515,
    "start_time": "2022-01-06T06:19:25.859Z"
   },
   {
    "duration": 208,
    "start_time": "2022-01-06T06:20:06.280Z"
   },
   {
    "duration": 204,
    "start_time": "2022-01-06T06:20:10.929Z"
   },
   {
    "duration": 102,
    "start_time": "2022-01-06T06:20:16.000Z"
   },
   {
    "duration": 205,
    "start_time": "2022-01-06T06:20:25.021Z"
   },
   {
    "duration": 2606,
    "start_time": "2022-01-06T06:20:40.380Z"
   },
   {
    "duration": 172,
    "start_time": "2022-01-06T06:28:44.093Z"
   },
   {
    "duration": 714,
    "start_time": "2022-01-06T06:29:12.924Z"
   },
   {
    "duration": 173,
    "start_time": "2022-01-06T06:29:32.801Z"
   },
   {
    "duration": 680,
    "start_time": "2022-01-06T06:37:38.881Z"
   },
   {
    "duration": 561,
    "start_time": "2022-01-06T06:38:40.764Z"
   },
   {
    "duration": 490,
    "start_time": "2022-01-06T06:40:38.612Z"
   },
   {
    "duration": 850,
    "start_time": "2022-01-06T06:41:00.293Z"
   },
   {
    "duration": 191,
    "start_time": "2022-01-06T06:41:51.384Z"
   },
   {
    "duration": 117,
    "start_time": "2022-01-06T06:46:51.661Z"
   },
   {
    "duration": 107,
    "start_time": "2022-01-06T06:47:04.525Z"
   },
   {
    "duration": 189,
    "start_time": "2022-01-06T06:47:09.682Z"
   },
   {
    "duration": 748,
    "start_time": "2022-01-06T06:48:16.925Z"
   },
   {
    "duration": 717,
    "start_time": "2022-01-06T06:49:23.260Z"
   },
   {
    "duration": 704,
    "start_time": "2022-01-06T06:50:44.421Z"
   },
   {
    "duration": 156,
    "start_time": "2022-01-06T06:51:18.622Z"
   },
   {
    "duration": 152,
    "start_time": "2022-01-06T06:53:22.722Z"
   },
   {
    "duration": 149,
    "start_time": "2022-01-06T06:54:28.523Z"
   },
   {
    "duration": 152,
    "start_time": "2022-01-06T06:54:58.882Z"
   },
   {
    "duration": 157,
    "start_time": "2022-01-06T06:56:12.114Z"
   },
   {
    "duration": 3,
    "start_time": "2022-01-06T06:56:32.362Z"
   },
   {
    "duration": 341,
    "start_time": "2022-01-06T06:56:34.383Z"
   },
   {
    "duration": 331,
    "start_time": "2022-01-06T06:56:41.722Z"
   },
   {
    "duration": 12,
    "start_time": "2022-01-06T06:56:51.474Z"
   },
   {
    "duration": 15,
    "start_time": "2022-01-06T06:57:03.482Z"
   },
   {
    "duration": 12,
    "start_time": "2022-01-06T06:57:32.301Z"
   },
   {
    "duration": 17,
    "start_time": "2022-01-06T06:58:26.040Z"
   },
   {
    "duration": 16,
    "start_time": "2022-01-06T06:59:07.242Z"
   },
   {
    "duration": 21,
    "start_time": "2022-01-06T06:59:33.282Z"
   },
   {
    "duration": -15,
    "start_time": "2022-01-06T06:59:46.374Z"
   },
   {
    "duration": 9384,
    "start_time": "2022-01-06T06:59:52.742Z"
   },
   {
    "duration": 9957,
    "start_time": "2022-01-06T07:00:05.903Z"
   },
   {
    "duration": 3,
    "start_time": "2022-01-06T07:00:17.323Z"
   },
   {
    "duration": 17,
    "start_time": "2022-01-06T07:00:20.442Z"
   },
   {
    "duration": 14,
    "start_time": "2022-01-06T07:00:26.640Z"
   },
   {
    "duration": 16,
    "start_time": "2022-01-06T07:01:18.074Z"
   },
   {
    "duration": 17,
    "start_time": "2022-01-06T07:02:10.542Z"
   },
   {
    "duration": 143,
    "start_time": "2022-01-06T07:02:33.951Z"
   },
   {
    "duration": 16,
    "start_time": "2022-01-06T07:02:35.451Z"
   },
   {
    "duration": 11,
    "start_time": "2022-01-06T07:02:37.756Z"
   },
   {
    "duration": 14,
    "start_time": "2022-01-06T07:02:42.940Z"
   },
   {
    "duration": 14,
    "start_time": "2022-01-06T07:03:27.305Z"
   },
   {
    "duration": 25,
    "start_time": "2022-01-06T07:03:50.013Z"
   },
   {
    "duration": 14,
    "start_time": "2022-01-06T07:04:19.553Z"
   },
   {
    "duration": 13,
    "start_time": "2022-01-06T07:04:22.966Z"
   },
   {
    "duration": 444,
    "start_time": "2022-01-06T07:06:24.194Z"
   },
   {
    "duration": 335,
    "start_time": "2022-01-06T07:07:37.345Z"
   },
   {
    "duration": 631,
    "start_time": "2022-01-06T07:09:07.294Z"
   },
   {
    "duration": 505,
    "start_time": "2022-01-06T07:09:50.840Z"
   },
   {
    "duration": 136,
    "start_time": "2022-01-06T07:09:58.786Z"
   },
   {
    "duration": 8,
    "start_time": "2022-01-06T07:11:49.753Z"
   },
   {
    "duration": 24,
    "start_time": "2022-01-06T07:13:03.914Z"
   },
   {
    "duration": 17,
    "start_time": "2022-01-06T07:14:12.773Z"
   },
   {
    "duration": 126,
    "start_time": "2022-01-06T07:55:59.679Z"
   },
   {
    "duration": 114,
    "start_time": "2022-01-06T07:56:15.367Z"
   },
   {
    "duration": 628,
    "start_time": "2022-01-06T07:56:28.505Z"
   },
   {
    "duration": 134,
    "start_time": "2022-01-06T07:57:08.222Z"
   },
   {
    "duration": 569,
    "start_time": "2022-01-06T07:57:28.205Z"
   },
   {
    "duration": 601,
    "start_time": "2022-01-06T07:57:58.425Z"
   },
   {
    "duration": 565,
    "start_time": "2022-01-06T07:59:03.618Z"
   },
   {
    "duration": 590,
    "start_time": "2022-01-06T07:59:47.152Z"
   },
   {
    "duration": 1171,
    "start_time": "2022-01-06T08:00:20.485Z"
   },
   {
    "duration": 640,
    "start_time": "2022-01-06T08:01:21.840Z"
   },
   {
    "duration": 133,
    "start_time": "2022-01-06T08:05:03.646Z"
   },
   {
    "duration": 354,
    "start_time": "2022-01-06T08:05:27.242Z"
   },
   {
    "duration": 581,
    "start_time": "2022-01-06T08:05:37.721Z"
   },
   {
    "duration": 625,
    "start_time": "2022-01-06T08:06:04.305Z"
   },
   {
    "duration": 112,
    "start_time": "2022-01-06T08:06:54.492Z"
   },
   {
    "duration": 574,
    "start_time": "2022-01-06T08:07:10.527Z"
   },
   {
    "duration": 575,
    "start_time": "2022-01-06T08:07:38.202Z"
   },
   {
    "duration": 17,
    "start_time": "2022-01-06T08:08:49.259Z"
   },
   {
    "duration": 21,
    "start_time": "2022-01-06T08:09:13.019Z"
   },
   {
    "duration": 181,
    "start_time": "2022-01-06T08:11:10.940Z"
   },
   {
    "duration": 360,
    "start_time": "2022-01-06T08:11:26.000Z"
   },
   {
    "duration": 602,
    "start_time": "2022-01-06T08:11:35.159Z"
   },
   {
    "duration": 19,
    "start_time": "2022-01-06T08:11:52.754Z"
   },
   {
    "duration": 112,
    "start_time": "2022-01-06T08:12:10.142Z"
   },
   {
    "duration": 18,
    "start_time": "2022-01-06T08:12:14.244Z"
   },
   {
    "duration": 25,
    "start_time": "2022-01-06T08:12:35.112Z"
   },
   {
    "duration": 3,
    "start_time": "2022-01-06T08:12:58.012Z"
   },
   {
    "duration": 21,
    "start_time": "2022-01-06T08:13:08.679Z"
   },
   {
    "duration": 601,
    "start_time": "2022-01-06T08:13:57.207Z"
   },
   {
    "duration": 602,
    "start_time": "2022-01-06T08:14:41.787Z"
   },
   {
    "duration": 24,
    "start_time": "2022-01-06T08:15:23.771Z"
   },
   {
    "duration": 25,
    "start_time": "2022-01-06T08:15:37.988Z"
   },
   {
    "duration": 371,
    "start_time": "2022-01-06T08:16:24.652Z"
   },
   {
    "duration": 30,
    "start_time": "2022-01-06T08:16:33.293Z"
   },
   {
    "duration": 581,
    "start_time": "2022-01-06T08:18:17.151Z"
   },
   {
    "duration": 26,
    "start_time": "2022-01-06T08:18:29.853Z"
   },
   {
    "duration": 32,
    "start_time": "2022-01-06T08:35:44.715Z"
   },
   {
    "duration": 29,
    "start_time": "2022-01-06T08:36:30.347Z"
   },
   {
    "duration": 33,
    "start_time": "2022-01-06T08:36:49.527Z"
   },
   {
    "duration": 30,
    "start_time": "2022-01-06T08:38:01.392Z"
   },
   {
    "duration": 25,
    "start_time": "2022-01-06T08:38:07.856Z"
   },
   {
    "duration": 32,
    "start_time": "2022-01-06T08:38:32.759Z"
   },
   {
    "duration": 30,
    "start_time": "2022-01-06T08:40:13.991Z"
   },
   {
    "duration": 34,
    "start_time": "2022-01-06T08:40:29.327Z"
   },
   {
    "duration": 30,
    "start_time": "2022-01-06T08:40:40.369Z"
   },
   {
    "duration": 639,
    "start_time": "2022-01-06T08:41:55.380Z"
   },
   {
    "duration": 641,
    "start_time": "2022-01-06T08:42:19.528Z"
   },
   {
    "duration": 598,
    "start_time": "2022-01-06T08:42:20.802Z"
   },
   {
    "duration": 580,
    "start_time": "2022-01-06T08:42:43.928Z"
   },
   {
    "duration": 623,
    "start_time": "2022-01-06T08:43:16.220Z"
   },
   {
    "duration": 35,
    "start_time": "2022-01-06T08:43:23.665Z"
   },
   {
    "duration": 30,
    "start_time": "2022-01-06T08:43:36.956Z"
   },
   {
    "duration": 39,
    "start_time": "2022-01-06T08:43:45.800Z"
   },
   {
    "duration": 581,
    "start_time": "2022-01-06T08:44:07.680Z"
   },
   {
    "duration": 29,
    "start_time": "2022-01-06T08:44:16.561Z"
   },
   {
    "duration": 41,
    "start_time": "2022-01-06T08:44:24.422Z"
   },
   {
    "duration": 44,
    "start_time": "2022-01-06T08:45:14.526Z"
   },
   {
    "duration": 31,
    "start_time": "2022-01-06T08:45:30.698Z"
   },
   {
    "duration": 34,
    "start_time": "2022-01-06T08:46:40.706Z"
   },
   {
    "duration": 29,
    "start_time": "2022-01-06T08:46:54.640Z"
   },
   {
    "duration": 125,
    "start_time": "2022-01-06T08:52:42.199Z"
   },
   {
    "duration": 125,
    "start_time": "2022-01-06T08:52:59.385Z"
   },
   {
    "duration": 120,
    "start_time": "2022-01-06T08:53:16.658Z"
   },
   {
    "duration": 107,
    "start_time": "2022-01-06T08:53:28.076Z"
   },
   {
    "duration": 117,
    "start_time": "2022-01-06T08:53:55.898Z"
   },
   {
    "duration": 156,
    "start_time": "2022-01-06T08:54:02.779Z"
   },
   {
    "duration": 580,
    "start_time": "2022-01-06T08:54:12.399Z"
   },
   {
    "duration": 115,
    "start_time": "2022-01-06T08:54:24.498Z"
   },
   {
    "duration": 116,
    "start_time": "2022-01-06T08:55:25.498Z"
   },
   {
    "duration": 618,
    "start_time": "2022-01-06T08:55:29.439Z"
   },
   {
    "duration": 27,
    "start_time": "2022-01-06T08:59:03.868Z"
   },
   {
    "duration": 30,
    "start_time": "2022-01-06T08:59:18.196Z"
   },
   {
    "duration": 17,
    "start_time": "2022-01-06T09:01:50.215Z"
   },
   {
    "duration": 132,
    "start_time": "2022-01-06T09:03:05.792Z"
   },
   {
    "duration": 20,
    "start_time": "2022-01-06T09:03:11.240Z"
   },
   {
    "duration": 14,
    "start_time": "2022-01-06T09:03:47.844Z"
   },
   {
    "duration": 5,
    "start_time": "2022-01-06T09:05:59.179Z"
   },
   {
    "duration": 5,
    "start_time": "2022-01-06T09:06:26.412Z"
   },
   {
    "duration": 343,
    "start_time": "2022-01-06T09:07:30.659Z"
   },
   {
    "duration": 356,
    "start_time": "2022-01-06T09:07:37.543Z"
   },
   {
    "duration": 35,
    "start_time": "2022-01-06T09:08:26.724Z"
   },
   {
    "duration": 409,
    "start_time": "2022-01-06T09:09:11.917Z"
   },
   {
    "duration": 30,
    "start_time": "2022-01-06T09:09:21.404Z"
   },
   {
    "duration": 117,
    "start_time": "2022-01-06T09:10:15.744Z"
   },
   {
    "duration": 116,
    "start_time": "2022-01-06T09:10:34.093Z"
   },
   {
    "duration": 112,
    "start_time": "2022-01-06T09:10:58.064Z"
   },
   {
    "duration": 117,
    "start_time": "2022-01-06T09:11:16.092Z"
   },
   {
    "duration": 380,
    "start_time": "2022-01-06T09:11:31.065Z"
   },
   {
    "duration": 341,
    "start_time": "2022-01-06T09:11:36.144Z"
   },
   {
    "duration": 454,
    "start_time": "2022-01-06T09:12:32.812Z"
   },
   {
    "duration": 34,
    "start_time": "2022-01-06T09:13:04.212Z"
   },
   {
    "duration": 26,
    "start_time": "2022-01-06T09:13:16.464Z"
   },
   {
    "duration": 14,
    "start_time": "2022-01-06T09:13:36.584Z"
   },
   {
    "duration": 180,
    "start_time": "2022-01-06T09:23:47.462Z"
   },
   {
    "duration": 169,
    "start_time": "2022-01-06T09:23:53.651Z"
   },
   {
    "duration": 181,
    "start_time": "2022-01-06T09:24:07.562Z"
   },
   {
    "duration": 210,
    "start_time": "2022-01-06T09:24:34.910Z"
   },
   {
    "duration": 183,
    "start_time": "2022-01-06T09:26:30.342Z"
   },
   {
    "duration": 172,
    "start_time": "2022-01-06T09:26:37.369Z"
   },
   {
    "duration": 529,
    "start_time": "2022-01-06T09:26:47.750Z"
   },
   {
    "duration": 188,
    "start_time": "2022-01-06T09:26:52.182Z"
   },
   {
    "duration": 179,
    "start_time": "2022-01-06T09:28:50.002Z"
   },
   {
    "duration": 193,
    "start_time": "2022-01-06T09:28:57.972Z"
   },
   {
    "duration": 287,
    "start_time": "2022-01-08T18:18:48.432Z"
   },
   {
    "duration": 403,
    "start_time": "2022-01-08T18:19:02.293Z"
   },
   {
    "duration": 754,
    "start_time": "2022-01-08T18:19:22.366Z"
   },
   {
    "duration": 79,
    "start_time": "2022-01-09T12:07:29.341Z"
   },
   {
    "duration": 398,
    "start_time": "2022-01-09T12:07:36.905Z"
   },
   {
    "duration": 273,
    "start_time": "2022-01-09T12:07:43.165Z"
   },
   {
    "duration": 770,
    "start_time": "2022-01-09T12:08:03.646Z"
   },
   {
    "duration": 80,
    "start_time": "2022-01-09T12:08:16.803Z"
   },
   {
    "duration": 79,
    "start_time": "2022-01-09T12:08:23.109Z"
   },
   {
    "duration": 80,
    "start_time": "2022-01-09T12:08:39.520Z"
   },
   {
    "duration": 165,
    "start_time": "2022-01-09T12:08:43.660Z"
   },
   {
    "duration": 159,
    "start_time": "2022-01-09T12:09:09.200Z"
   },
   {
    "duration": 7,
    "start_time": "2022-01-09T12:09:28.457Z"
   },
   {
    "duration": 377,
    "start_time": "2022-01-09T12:11:17.257Z"
   },
   {
    "duration": 323,
    "start_time": "2022-01-09T12:11:23.344Z"
   },
   {
    "duration": 240,
    "start_time": "2022-01-09T12:11:38.976Z"
   },
   {
    "duration": 284,
    "start_time": "2022-01-09T12:11:48.957Z"
   },
   {
    "duration": 238,
    "start_time": "2022-01-09T12:12:02.625Z"
   },
   {
    "duration": 442,
    "start_time": "2022-01-09T12:12:21.884Z"
   },
   {
    "duration": 30,
    "start_time": "2022-01-09T12:12:37.291Z"
   },
   {
    "duration": 29,
    "start_time": "2022-01-09T12:13:00.384Z"
   },
   {
    "duration": 28,
    "start_time": "2022-01-09T12:13:15.082Z"
   },
   {
    "duration": 235,
    "start_time": "2022-01-09T12:13:29.731Z"
   },
   {
    "duration": 23,
    "start_time": "2022-01-09T12:13:39.841Z"
   },
   {
    "duration": 31,
    "start_time": "2022-01-09T12:15:02.220Z"
   },
   {
    "duration": 23,
    "start_time": "2022-01-09T12:15:28.971Z"
   },
   {
    "duration": 755,
    "start_time": "2022-01-10T06:10:49.979Z"
   },
   {
    "duration": 186,
    "start_time": "2022-01-10T06:10:50.933Z"
   },
   {
    "duration": 28,
    "start_time": "2022-01-10T06:10:51.778Z"
   },
   {
    "duration": 35,
    "start_time": "2022-01-10T06:10:52.097Z"
   },
   {
    "duration": 5,
    "start_time": "2022-01-10T06:10:53.584Z"
   },
   {
    "duration": 44,
    "start_time": "2022-01-10T06:10:53.592Z"
   },
   {
    "duration": 4,
    "start_time": "2022-01-10T06:10:53.938Z"
   },
   {
    "duration": 29,
    "start_time": "2022-01-10T06:10:54.457Z"
   },
   {
    "duration": 22,
    "start_time": "2022-01-10T06:10:54.970Z"
   },
   {
    "duration": 29,
    "start_time": "2022-01-10T06:10:55.346Z"
   },
   {
    "duration": 82,
    "start_time": "2022-01-10T06:10:55.873Z"
   },
   {
    "duration": 89,
    "start_time": "2022-01-10T06:10:56.306Z"
   },
   {
    "duration": 80,
    "start_time": "2022-01-10T06:10:57.506Z"
   },
   {
    "duration": 71,
    "start_time": "2022-01-10T06:10:58.418Z"
   },
   {
    "duration": 8,
    "start_time": "2022-01-10T06:10:58.596Z"
   },
   {
    "duration": 5,
    "start_time": "2022-01-10T06:11:00.889Z"
   },
   {
    "duration": 20,
    "start_time": "2022-01-10T06:11:01.996Z"
   },
   {
    "duration": 9,
    "start_time": "2022-01-10T06:11:03.489Z"
   },
   {
    "duration": 3,
    "start_time": "2022-01-10T06:12:05.000Z"
   },
   {
    "duration": 192,
    "start_time": "2022-01-10T06:12:05.409Z"
   },
   {
    "duration": 16,
    "start_time": "2022-01-10T06:12:05.900Z"
   },
   {
    "duration": 32,
    "start_time": "2022-01-10T06:12:06.233Z"
   },
   {
    "duration": 6,
    "start_time": "2022-01-10T06:12:07.218Z"
   },
   {
    "duration": 27,
    "start_time": "2022-01-10T06:12:10.427Z"
   },
   {
    "duration": 5,
    "start_time": "2022-01-10T06:12:10.457Z"
   },
   {
    "duration": 32,
    "start_time": "2022-01-10T06:12:10.465Z"
   },
   {
    "duration": 29,
    "start_time": "2022-01-10T06:12:10.500Z"
   },
   {
    "duration": 50,
    "start_time": "2022-01-10T06:12:10.531Z"
   },
   {
    "duration": 99,
    "start_time": "2022-01-10T06:12:10.584Z"
   },
   {
    "duration": 101,
    "start_time": "2022-01-10T06:12:10.685Z"
   },
   {
    "duration": 79,
    "start_time": "2022-01-10T06:12:11.498Z"
   },
   {
    "duration": 74,
    "start_time": "2022-01-10T06:12:12.186Z"
   },
   {
    "duration": 8,
    "start_time": "2022-01-10T06:12:12.354Z"
   },
   {
    "duration": 71,
    "start_time": "2022-01-10T06:12:20.289Z"
   },
   {
    "duration": 16,
    "start_time": "2022-01-10T06:12:25.746Z"
   },
   {
    "duration": 16,
    "start_time": "2022-01-10T06:12:26.892Z"
   },
   {
    "duration": 5,
    "start_time": "2022-01-10T06:12:30.467Z"
   },
   {
    "duration": 22,
    "start_time": "2022-01-10T06:12:31.123Z"
   },
   {
    "duration": 553,
    "start_time": "2022-01-10T06:31:13.326Z"
   },
   {
    "duration": 18,
    "start_time": "2022-01-10T06:31:19.573Z"
   },
   {
    "duration": 15,
    "start_time": "2022-01-10T06:31:20.910Z"
   },
   {
    "duration": 5,
    "start_time": "2022-01-10T06:31:21.567Z"
   },
   {
    "duration": 22,
    "start_time": "2022-01-10T06:31:21.917Z"
   },
   {
    "duration": 18,
    "start_time": "2022-01-10T06:31:22.376Z"
   },
   {
    "duration": 19,
    "start_time": "2022-01-10T06:31:22.564Z"
   },
   {
    "duration": 20,
    "start_time": "2022-01-10T06:31:22.733Z"
   },
   {
    "duration": 21,
    "start_time": "2022-01-10T06:31:22.909Z"
   },
   {
    "duration": 19,
    "start_time": "2022-01-10T06:31:23.084Z"
   },
   {
    "duration": 17,
    "start_time": "2022-01-10T06:31:28.285Z"
   },
   {
    "duration": 14,
    "start_time": "2022-01-10T06:31:28.893Z"
   },
   {
    "duration": 31,
    "start_time": "2022-01-10T06:31:29.504Z"
   },
   {
    "duration": 19,
    "start_time": "2022-01-10T06:31:30.334Z"
   },
   {
    "duration": 25,
    "start_time": "2022-01-10T06:31:30.511Z"
   },
   {
    "duration": 19,
    "start_time": "2022-01-10T06:31:30.957Z"
   },
   {
    "duration": 11,
    "start_time": "2022-01-10T06:31:32.349Z"
   },
   {
    "duration": 6,
    "start_time": "2022-01-10T06:31:43.109Z"
   },
   {
    "duration": 56,
    "start_time": "2022-01-10T06:32:00.637Z"
   },
   {
    "duration": 666,
    "start_time": "2022-01-10T10:22:43.565Z"
   },
   {
    "duration": 3,
    "start_time": "2022-01-10T10:23:11.793Z"
   },
   {
    "duration": 3,
    "start_time": "2022-01-10T10:23:14.825Z"
   },
   {
    "duration": 643,
    "start_time": "2022-01-10T10:23:17.567Z"
   },
   {
    "duration": 376,
    "start_time": "2022-01-10T10:23:21.290Z"
   },
   {
    "duration": 3,
    "start_time": "2022-01-10T10:24:31.840Z"
   },
   {
    "duration": 3,
    "start_time": "2022-01-10T10:24:35.019Z"
   },
   {
    "duration": 730,
    "start_time": "2022-01-10T10:25:51.320Z"
   },
   {
    "duration": 326,
    "start_time": "2022-01-10T10:28:58.552Z"
   },
   {
    "duration": 316,
    "start_time": "2022-01-10T10:29:10.721Z"
   },
   {
    "duration": 340,
    "start_time": "2022-01-10T10:29:40.068Z"
   },
   {
    "duration": 3,
    "start_time": "2022-01-10T10:33:13.524Z"
   },
   {
    "duration": 3,
    "start_time": "2022-01-10T10:33:16.004Z"
   },
   {
    "duration": 2,
    "start_time": "2022-01-10T10:36:06.512Z"
   },
   {
    "duration": 768,
    "start_time": "2022-01-10T10:36:10.839Z"
   },
   {
    "duration": 322,
    "start_time": "2022-01-10T10:37:57.671Z"
   },
   {
    "duration": 337,
    "start_time": "2022-01-10T10:38:32.221Z"
   },
   {
    "duration": 833,
    "start_time": "2022-01-10T10:38:40.465Z"
   },
   {
    "duration": 135,
    "start_time": "2022-01-10T10:40:33.670Z"
   },
   {
    "duration": 650,
    "start_time": "2022-01-10T10:40:45.987Z"
   },
   {
    "duration": 383,
    "start_time": "2022-01-10T10:41:31.471Z"
   },
   {
    "duration": 138,
    "start_time": "2022-01-10T10:41:52.672Z"
   },
   {
    "duration": 329,
    "start_time": "2022-01-10T10:41:55.792Z"
   },
   {
    "duration": 333,
    "start_time": "2022-01-10T10:42:00.992Z"
   },
   {
    "duration": 352,
    "start_time": "2022-01-10T10:42:10.911Z"
   },
   {
    "duration": 329,
    "start_time": "2022-01-10T10:42:32.903Z"
   },
   {
    "duration": 369,
    "start_time": "2022-01-10T10:42:38.271Z"
   },
   {
    "duration": 340,
    "start_time": "2022-01-10T10:43:56.902Z"
   },
   {
    "duration": 406,
    "start_time": "2022-01-10T10:44:08.735Z"
   },
   {
    "duration": 334,
    "start_time": "2022-01-10T10:44:29.063Z"
   },
   {
    "duration": 5,
    "start_time": "2022-01-10T10:44:46.023Z"
   },
   {
    "duration": 344,
    "start_time": "2022-01-10T10:44:57.784Z"
   },
   {
    "duration": 357,
    "start_time": "2022-01-10T10:45:02.983Z"
   },
   {
    "duration": 350,
    "start_time": "2022-01-10T10:45:10.510Z"
   },
   {
    "duration": 353,
    "start_time": "2022-01-10T10:45:14.582Z"
   },
   {
    "duration": 336,
    "start_time": "2022-01-10T10:45:23.454Z"
   },
   {
    "duration": 5,
    "start_time": "2022-01-10T10:45:28.658Z"
   },
   {
    "duration": 337,
    "start_time": "2022-01-10T10:45:52.711Z"
   },
   {
    "duration": 7,
    "start_time": "2022-01-10T10:45:57.591Z"
   },
   {
    "duration": 6,
    "start_time": "2022-01-10T10:46:10.472Z"
   },
   {
    "duration": 52,
    "start_time": "2022-01-10T10:53:33.333Z"
   },
   {
    "duration": 58,
    "start_time": "2022-01-10T11:00:22.418Z"
   },
   {
    "duration": 9,
    "start_time": "2022-01-10T11:04:18.285Z"
   },
   {
    "duration": 40,
    "start_time": "2022-01-10T11:13:40.073Z"
   },
   {
    "duration": 42,
    "start_time": "2022-01-10T11:14:25.882Z"
   },
   {
    "duration": 43,
    "start_time": "2022-01-10T11:14:35.654Z"
   },
   {
    "duration": 370,
    "start_time": "2022-01-10T11:29:12.040Z"
   },
   {
    "duration": 17,
    "start_time": "2022-01-10T11:29:21.340Z"
   },
   {
    "duration": 18,
    "start_time": "2022-01-10T11:29:25.850Z"
   },
   {
    "duration": 22,
    "start_time": "2022-01-10T11:29:35.143Z"
   },
   {
    "duration": 14,
    "start_time": "2022-01-10T11:31:28.793Z"
   },
   {
    "duration": 58,
    "start_time": "2022-01-10T13:13:47.167Z"
   },
   {
    "duration": 55,
    "start_time": "2022-10-03T09:40:42.629Z"
   },
   {
    "duration": 422,
    "start_time": "2022-10-03T09:40:53.307Z"
   },
   {
    "duration": 209,
    "start_time": "2022-10-03T09:40:53.731Z"
   },
   {
    "duration": 17,
    "start_time": "2022-10-03T09:40:53.942Z"
   },
   {
    "duration": 24,
    "start_time": "2022-10-03T09:40:53.962Z"
   },
   {
    "duration": 3,
    "start_time": "2022-10-03T09:40:53.987Z"
   },
   {
    "duration": 19,
    "start_time": "2022-10-03T09:40:53.991Z"
   },
   {
    "duration": 3,
    "start_time": "2022-10-03T09:40:54.011Z"
   },
   {
    "duration": 21,
    "start_time": "2022-10-03T09:40:54.015Z"
   },
   {
    "duration": 28,
    "start_time": "2022-10-03T09:40:54.037Z"
   },
   {
    "duration": 18,
    "start_time": "2022-10-03T09:40:54.067Z"
   },
   {
    "duration": 71,
    "start_time": "2022-10-03T09:40:54.086Z"
   },
   {
    "duration": 74,
    "start_time": "2022-10-03T09:40:54.158Z"
   },
   {
    "duration": 58,
    "start_time": "2022-10-03T09:40:54.234Z"
   },
   {
    "duration": 53,
    "start_time": "2022-10-03T09:40:54.293Z"
   },
   {
    "duration": 6,
    "start_time": "2022-10-03T09:40:54.347Z"
   },
   {
    "duration": 5,
    "start_time": "2022-10-03T09:40:54.355Z"
   },
   {
    "duration": 10,
    "start_time": "2022-10-03T09:40:54.361Z"
   },
   {
    "duration": 62,
    "start_time": "2022-10-03T09:40:54.372Z"
   },
   {
    "duration": 15,
    "start_time": "2022-10-03T09:40:54.436Z"
   },
   {
    "duration": 34,
    "start_time": "2022-10-03T09:40:54.452Z"
   },
   {
    "duration": 5,
    "start_time": "2022-10-03T09:40:54.488Z"
   },
   {
    "duration": 25,
    "start_time": "2022-10-03T09:40:54.494Z"
   },
   {
    "duration": 12,
    "start_time": "2022-10-03T09:40:54.520Z"
   },
   {
    "duration": 12,
    "start_time": "2022-10-03T09:40:54.534Z"
   },
   {
    "duration": 12,
    "start_time": "2022-10-03T09:40:54.547Z"
   },
   {
    "duration": 13,
    "start_time": "2022-10-03T09:40:54.561Z"
   },
   {
    "duration": 38,
    "start_time": "2022-10-03T09:40:54.576Z"
   },
   {
    "duration": 6,
    "start_time": "2022-10-03T09:40:54.617Z"
   },
   {
    "duration": 11,
    "start_time": "2022-10-03T09:40:54.624Z"
   },
   {
    "duration": 8,
    "start_time": "2022-10-03T09:40:54.636Z"
   },
   {
    "duration": 17,
    "start_time": "2022-10-03T09:40:54.645Z"
   },
   {
    "duration": 10,
    "start_time": "2022-10-03T09:40:54.664Z"
   },
   {
    "duration": 45,
    "start_time": "2022-10-03T09:40:54.675Z"
   },
   {
    "duration": 9,
    "start_time": "2022-10-03T09:40:54.721Z"
   },
   {
    "duration": 19,
    "start_time": "2022-10-03T09:40:54.732Z"
   },
   {
    "duration": 12,
    "start_time": "2022-10-03T09:40:54.752Z"
   },
   {
    "duration": 93,
    "start_time": "2022-10-03T09:40:54.766Z"
   },
   {
    "duration": 0,
    "start_time": "2022-10-03T09:40:54.860Z"
   },
   {
    "duration": 0,
    "start_time": "2022-10-03T09:40:54.861Z"
   },
   {
    "duration": 8,
    "start_time": "2022-10-03T09:43:11.011Z"
   },
   {
    "duration": 16,
    "start_time": "2022-10-03T09:43:22.083Z"
   },
   {
    "duration": 14,
    "start_time": "2022-10-03T09:43:23.378Z"
   },
   {
    "duration": 376,
    "start_time": "2022-10-03T09:43:28.731Z"
   },
   {
    "duration": 148,
    "start_time": "2022-10-03T09:43:29.109Z"
   },
   {
    "duration": 15,
    "start_time": "2022-10-03T09:43:29.258Z"
   },
   {
    "duration": 23,
    "start_time": "2022-10-03T09:43:29.275Z"
   },
   {
    "duration": 3,
    "start_time": "2022-10-03T09:43:29.309Z"
   },
   {
    "duration": 15,
    "start_time": "2022-10-03T09:43:29.313Z"
   },
   {
    "duration": 5,
    "start_time": "2022-10-03T09:43:29.329Z"
   },
   {
    "duration": 26,
    "start_time": "2022-10-03T09:43:29.336Z"
   },
   {
    "duration": 15,
    "start_time": "2022-10-03T09:43:29.363Z"
   },
   {
    "duration": 30,
    "start_time": "2022-10-03T09:43:29.380Z"
   },
   {
    "duration": 60,
    "start_time": "2022-10-03T09:43:29.411Z"
   },
   {
    "duration": 74,
    "start_time": "2022-10-03T09:43:29.472Z"
   },
   {
    "duration": 53,
    "start_time": "2022-10-03T09:43:29.548Z"
   },
   {
    "duration": 42,
    "start_time": "2022-10-03T09:43:29.610Z"
   },
   {
    "duration": 6,
    "start_time": "2022-10-03T09:43:29.654Z"
   },
   {
    "duration": 3,
    "start_time": "2022-10-03T09:43:29.661Z"
   },
   {
    "duration": 13,
    "start_time": "2022-10-03T09:43:29.665Z"
   },
   {
    "duration": 54,
    "start_time": "2022-10-03T09:43:29.679Z"
   },
   {
    "duration": 10,
    "start_time": "2022-10-03T09:43:29.735Z"
   },
   {
    "duration": 9,
    "start_time": "2022-10-03T09:43:29.747Z"
   },
   {
    "duration": 4,
    "start_time": "2022-10-03T09:43:29.757Z"
   },
   {
    "duration": 18,
    "start_time": "2022-10-03T09:43:29.762Z"
   },
   {
    "duration": 34,
    "start_time": "2022-10-03T09:43:29.781Z"
   },
   {
    "duration": 12,
    "start_time": "2022-10-03T09:43:29.817Z"
   },
   {
    "duration": 11,
    "start_time": "2022-10-03T09:43:29.831Z"
   },
   {
    "duration": 13,
    "start_time": "2022-10-03T09:43:29.843Z"
   },
   {
    "duration": 11,
    "start_time": "2022-10-03T09:43:29.858Z"
   },
   {
    "duration": 6,
    "start_time": "2022-10-03T09:43:29.870Z"
   },
   {
    "duration": 40,
    "start_time": "2022-10-03T09:43:29.877Z"
   },
   {
    "duration": 10,
    "start_time": "2022-10-03T09:43:29.918Z"
   },
   {
    "duration": 16,
    "start_time": "2022-10-03T09:43:29.929Z"
   },
   {
    "duration": 10,
    "start_time": "2022-10-03T09:43:29.946Z"
   },
   {
    "duration": 13,
    "start_time": "2022-10-03T09:43:29.957Z"
   },
   {
    "duration": 9,
    "start_time": "2022-10-03T09:43:29.972Z"
   },
   {
    "duration": 17,
    "start_time": "2022-10-03T09:43:30.009Z"
   },
   {
    "duration": 13,
    "start_time": "2022-10-03T09:43:30.028Z"
   },
   {
    "duration": 85,
    "start_time": "2022-10-03T09:43:30.042Z"
   },
   {
    "duration": 0,
    "start_time": "2022-10-03T09:43:30.128Z"
   },
   {
    "duration": 0,
    "start_time": "2022-10-03T09:43:30.129Z"
   },
   {
    "duration": 16,
    "start_time": "2022-10-03T09:44:18.342Z"
   },
   {
    "duration": 13,
    "start_time": "2022-10-03T09:44:19.598Z"
   },
   {
    "duration": 13,
    "start_time": "2022-10-03T09:44:32.847Z"
   }
  ],
  "colab": {
   "collapsed_sections": [
    "E0vqbgi9ay0H",
    "VUC88oWjTJw2"
   ],
   "name": "yandex_music_project_2021.2.ipynb",
   "provenance": []
  },
  "kernelspec": {
   "display_name": "Python 3 (ipykernel)",
   "language": "python",
   "name": "python3"
  },
  "language_info": {
   "codemirror_mode": {
    "name": "ipython",
    "version": 3
   },
   "file_extension": ".py",
   "mimetype": "text/x-python",
   "name": "python",
   "nbconvert_exporter": "python",
   "pygments_lexer": "ipython3",
   "version": "3.9.5"
  },
  "toc": {
   "base_numbering": 1,
   "nav_menu": {},
   "number_sections": true,
   "sideBar": true,
   "skip_h1_title": true,
   "title_cell": "Table of Contents",
   "title_sidebar": "Contents",
   "toc_cell": false,
   "toc_position": {},
   "toc_section_display": true,
   "toc_window_display": true
  }
 },
 "nbformat": 4,
 "nbformat_minor": 1
}
