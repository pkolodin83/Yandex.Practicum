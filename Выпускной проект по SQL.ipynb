{
 "cells": [
  {
   "cell_type": "markdown",
   "id": "3ee29936",
   "metadata": {},
   "source": [
    "# Коронавирус застал мир врасплох, изменив привычный порядок вещей. В свободное время жители городов больше не выходят на улицу, не посещают кафе и торговые центры. Зато стало больше времени для книг. Это заметили стартаперы — и бросились создавать приложения для тех, кто любит читать.\n",
    "\n",
    "Моя компания решила быть на волне и купила крупный сервис для чтения книг по подписке. Моя первая задача как аналитика — проанализировать базу данных.\n",
    "В ней — информация о книгах, издательствах, авторах, а также пользовательские обзоры книг. Эти данные помогут сформулировать ценностное предложение для нового продукта."
   ]
  },
  {
   "cell_type": "markdown",
   "id": "28926d8a",
   "metadata": {},
   "source": [
    "## Исследую таблицы"
   ]
  },
  {
   "cell_type": "code",
   "execution_count": 1,
   "id": "16037218",
   "metadata": {},
   "outputs": [],
   "source": [
    "# импортирую библиотеки,установлю параметры и сохраню коннекторы\n",
    "import pandas as pd\n",
    "from sqlalchemy import create_engine\n",
    "\n",
    "db_config = {'user': 'praktikum_student', \n",
    " 'pwd': 'Sdf4$2;d-d30pp', \n",
    " 'host': 'rc1b-wcoijxj3yxfsf3fs.mdb.yandexcloud.net',\n",
    " 'port': 6432, \n",
    " 'db': 'data-analyst-final-project-db'} \n",
    "connection_string = 'postgresql://{}:{}@{}:{}/{}'.format(db_config['user'],\n",
    " db_config['pwd'],\n",
    " db_config['host'],\n",
    " db_config['port'],\n",
    " db_config['db'])\n",
    "\n",
    "engine = create_engine(connection_string, connect_args={'sslmode':'require'})"
   ]
  },
  {
   "cell_type": "markdown",
   "id": "0cb2cf65",
   "metadata": {},
   "source": [
    "### Таблица books"
   ]
  },
  {
   "cell_type": "code",
   "execution_count": 2,
   "id": "957a49d0",
   "metadata": {},
   "outputs": [
    {
     "data": {
      "text/html": [
       "<div>\n",
       "<style scoped>\n",
       "    .dataframe tbody tr th:only-of-type {\n",
       "        vertical-align: middle;\n",
       "    }\n",
       "\n",
       "    .dataframe tbody tr th {\n",
       "        vertical-align: top;\n",
       "    }\n",
       "\n",
       "    .dataframe thead th {\n",
       "        text-align: right;\n",
       "    }\n",
       "</style>\n",
       "<table border=\"1\" class=\"dataframe\">\n",
       "  <thead>\n",
       "    <tr style=\"text-align: right;\">\n",
       "      <th></th>\n",
       "      <th>book_id</th>\n",
       "      <th>author_id</th>\n",
       "      <th>title</th>\n",
       "      <th>num_pages</th>\n",
       "      <th>publication_date</th>\n",
       "      <th>publisher_id</th>\n",
       "    </tr>\n",
       "  </thead>\n",
       "  <tbody>\n",
       "    <tr>\n",
       "      <th>0</th>\n",
       "      <td>1</td>\n",
       "      <td>546</td>\n",
       "      <td>'Salem's Lot</td>\n",
       "      <td>594</td>\n",
       "      <td>2005-11-01</td>\n",
       "      <td>93</td>\n",
       "    </tr>\n",
       "    <tr>\n",
       "      <th>1</th>\n",
       "      <td>2</td>\n",
       "      <td>465</td>\n",
       "      <td>1 000 Places to See Before You Die</td>\n",
       "      <td>992</td>\n",
       "      <td>2003-05-22</td>\n",
       "      <td>336</td>\n",
       "    </tr>\n",
       "    <tr>\n",
       "      <th>2</th>\n",
       "      <td>3</td>\n",
       "      <td>407</td>\n",
       "      <td>13 Little Blue Envelopes (Little Blue Envelope...</td>\n",
       "      <td>322</td>\n",
       "      <td>2010-12-21</td>\n",
       "      <td>135</td>\n",
       "    </tr>\n",
       "    <tr>\n",
       "      <th>3</th>\n",
       "      <td>4</td>\n",
       "      <td>82</td>\n",
       "      <td>1491: New Revelations of the Americas Before C...</td>\n",
       "      <td>541</td>\n",
       "      <td>2006-10-10</td>\n",
       "      <td>309</td>\n",
       "    </tr>\n",
       "    <tr>\n",
       "      <th>4</th>\n",
       "      <td>5</td>\n",
       "      <td>125</td>\n",
       "      <td>1776</td>\n",
       "      <td>386</td>\n",
       "      <td>2006-07-04</td>\n",
       "      <td>268</td>\n",
       "    </tr>\n",
       "    <tr>\n",
       "      <th>5</th>\n",
       "      <td>6</td>\n",
       "      <td>257</td>\n",
       "      <td>1st to Die (Women's Murder Club  #1)</td>\n",
       "      <td>424</td>\n",
       "      <td>2005-05-20</td>\n",
       "      <td>116</td>\n",
       "    </tr>\n",
       "    <tr>\n",
       "      <th>6</th>\n",
       "      <td>7</td>\n",
       "      <td>258</td>\n",
       "      <td>2nd Chance (Women's Murder Club  #2)</td>\n",
       "      <td>400</td>\n",
       "      <td>2005-05-20</td>\n",
       "      <td>116</td>\n",
       "    </tr>\n",
       "    <tr>\n",
       "      <th>7</th>\n",
       "      <td>8</td>\n",
       "      <td>260</td>\n",
       "      <td>4th of July (Women's Murder Club  #4)</td>\n",
       "      <td>448</td>\n",
       "      <td>2006-06-01</td>\n",
       "      <td>318</td>\n",
       "    </tr>\n",
       "    <tr>\n",
       "      <th>8</th>\n",
       "      <td>9</td>\n",
       "      <td>563</td>\n",
       "      <td>A Beautiful Mind</td>\n",
       "      <td>461</td>\n",
       "      <td>2002-02-04</td>\n",
       "      <td>104</td>\n",
       "    </tr>\n",
       "    <tr>\n",
       "      <th>9</th>\n",
       "      <td>10</td>\n",
       "      <td>445</td>\n",
       "      <td>A Bend in the Road</td>\n",
       "      <td>341</td>\n",
       "      <td>2005-04-01</td>\n",
       "      <td>116</td>\n",
       "    </tr>\n",
       "  </tbody>\n",
       "</table>\n",
       "</div>"
      ],
      "text/plain": [
       "   book_id  author_id                                              title  \\\n",
       "0        1        546                                       'Salem's Lot   \n",
       "1        2        465                 1 000 Places to See Before You Die   \n",
       "2        3        407  13 Little Blue Envelopes (Little Blue Envelope...   \n",
       "3        4         82  1491: New Revelations of the Americas Before C...   \n",
       "4        5        125                                               1776   \n",
       "5        6        257               1st to Die (Women's Murder Club  #1)   \n",
       "6        7        258               2nd Chance (Women's Murder Club  #2)   \n",
       "7        8        260              4th of July (Women's Murder Club  #4)   \n",
       "8        9        563                                   A Beautiful Mind   \n",
       "9       10        445                                 A Bend in the Road   \n",
       "\n",
       "   num_pages publication_date  publisher_id  \n",
       "0        594       2005-11-01            93  \n",
       "1        992       2003-05-22           336  \n",
       "2        322       2010-12-21           135  \n",
       "3        541       2006-10-10           309  \n",
       "4        386       2006-07-04           268  \n",
       "5        424       2005-05-20           116  \n",
       "6        400       2005-05-20           116  \n",
       "7        448       2006-06-01           318  \n",
       "8        461       2002-02-04           104  \n",
       "9        341       2005-04-01           116  "
      ]
     },
     "execution_count": 2,
     "metadata": {},
     "output_type": "execute_result"
    }
   ],
   "source": [
    "# выведу содержимое таблицы books\n",
    "query = '''\n",
    "            SELECT * \n",
    "            FROM books\n",
    "        '''\n",
    "books = pd.io.sql.read_sql(query, con = engine)\n",
    "books.head(10)"
   ]
  },
  {
   "cell_type": "markdown",
   "id": "c1bc5eba",
   "metadata": {},
   "source": [
    "### Таблица authors"
   ]
  },
  {
   "cell_type": "code",
   "execution_count": 3,
   "id": "62dd9a4c",
   "metadata": {},
   "outputs": [
    {
     "data": {
      "text/html": [
       "<div>\n",
       "<style scoped>\n",
       "    .dataframe tbody tr th:only-of-type {\n",
       "        vertical-align: middle;\n",
       "    }\n",
       "\n",
       "    .dataframe tbody tr th {\n",
       "        vertical-align: top;\n",
       "    }\n",
       "\n",
       "    .dataframe thead th {\n",
       "        text-align: right;\n",
       "    }\n",
       "</style>\n",
       "<table border=\"1\" class=\"dataframe\">\n",
       "  <thead>\n",
       "    <tr style=\"text-align: right;\">\n",
       "      <th></th>\n",
       "      <th>author_id</th>\n",
       "      <th>author</th>\n",
       "    </tr>\n",
       "  </thead>\n",
       "  <tbody>\n",
       "    <tr>\n",
       "      <th>0</th>\n",
       "      <td>1</td>\n",
       "      <td>A.S. Byatt</td>\n",
       "    </tr>\n",
       "    <tr>\n",
       "      <th>1</th>\n",
       "      <td>2</td>\n",
       "      <td>Aesop/Laura Harris/Laura Gibbs</td>\n",
       "    </tr>\n",
       "    <tr>\n",
       "      <th>2</th>\n",
       "      <td>3</td>\n",
       "      <td>Agatha Christie</td>\n",
       "    </tr>\n",
       "    <tr>\n",
       "      <th>3</th>\n",
       "      <td>4</td>\n",
       "      <td>Alan Brennert</td>\n",
       "    </tr>\n",
       "    <tr>\n",
       "      <th>4</th>\n",
       "      <td>5</td>\n",
       "      <td>Alan Moore/David   Lloyd</td>\n",
       "    </tr>\n",
       "    <tr>\n",
       "      <th>5</th>\n",
       "      <td>6</td>\n",
       "      <td>Alan Paton</td>\n",
       "    </tr>\n",
       "    <tr>\n",
       "      <th>6</th>\n",
       "      <td>7</td>\n",
       "      <td>Albert Camus/Justin O'Brien</td>\n",
       "    </tr>\n",
       "    <tr>\n",
       "      <th>7</th>\n",
       "      <td>8</td>\n",
       "      <td>Aldous Huxley</td>\n",
       "    </tr>\n",
       "    <tr>\n",
       "      <th>8</th>\n",
       "      <td>9</td>\n",
       "      <td>Aldous Huxley/Christopher Hitchens</td>\n",
       "    </tr>\n",
       "    <tr>\n",
       "      <th>9</th>\n",
       "      <td>10</td>\n",
       "      <td>Aleksandr Solzhenitsyn/H.T. Willetts</td>\n",
       "    </tr>\n",
       "  </tbody>\n",
       "</table>\n",
       "</div>"
      ],
      "text/plain": [
       "   author_id                                author\n",
       "0          1                            A.S. Byatt\n",
       "1          2        Aesop/Laura Harris/Laura Gibbs\n",
       "2          3                       Agatha Christie\n",
       "3          4                         Alan Brennert\n",
       "4          5              Alan Moore/David   Lloyd\n",
       "5          6                            Alan Paton\n",
       "6          7           Albert Camus/Justin O'Brien\n",
       "7          8                         Aldous Huxley\n",
       "8          9    Aldous Huxley/Christopher Hitchens\n",
       "9         10  Aleksandr Solzhenitsyn/H.T. Willetts"
      ]
     },
     "execution_count": 3,
     "metadata": {},
     "output_type": "execute_result"
    }
   ],
   "source": [
    "# выведу содержимое таблицы authors\n",
    "query = '''\n",
    "            SELECT * \n",
    "            FROM authors\n",
    "        '''\n",
    "authors = pd.io.sql.read_sql(query, con = engine)\n",
    "authors.head(10)"
   ]
  },
  {
   "cell_type": "markdown",
   "id": "360f70e2",
   "metadata": {},
   "source": [
    "### Таблица publishers"
   ]
  },
  {
   "cell_type": "code",
   "execution_count": 4,
   "id": "ab3c7a85",
   "metadata": {},
   "outputs": [
    {
     "data": {
      "text/html": [
       "<div>\n",
       "<style scoped>\n",
       "    .dataframe tbody tr th:only-of-type {\n",
       "        vertical-align: middle;\n",
       "    }\n",
       "\n",
       "    .dataframe tbody tr th {\n",
       "        vertical-align: top;\n",
       "    }\n",
       "\n",
       "    .dataframe thead th {\n",
       "        text-align: right;\n",
       "    }\n",
       "</style>\n",
       "<table border=\"1\" class=\"dataframe\">\n",
       "  <thead>\n",
       "    <tr style=\"text-align: right;\">\n",
       "      <th></th>\n",
       "      <th>publisher_id</th>\n",
       "      <th>publisher</th>\n",
       "    </tr>\n",
       "  </thead>\n",
       "  <tbody>\n",
       "    <tr>\n",
       "      <th>0</th>\n",
       "      <td>1</td>\n",
       "      <td>Ace</td>\n",
       "    </tr>\n",
       "    <tr>\n",
       "      <th>1</th>\n",
       "      <td>2</td>\n",
       "      <td>Ace Book</td>\n",
       "    </tr>\n",
       "    <tr>\n",
       "      <th>2</th>\n",
       "      <td>3</td>\n",
       "      <td>Ace Books</td>\n",
       "    </tr>\n",
       "    <tr>\n",
       "      <th>3</th>\n",
       "      <td>4</td>\n",
       "      <td>Ace Hardcover</td>\n",
       "    </tr>\n",
       "    <tr>\n",
       "      <th>4</th>\n",
       "      <td>5</td>\n",
       "      <td>Addison Wesley Publishing Company</td>\n",
       "    </tr>\n",
       "    <tr>\n",
       "      <th>5</th>\n",
       "      <td>6</td>\n",
       "      <td>Aladdin</td>\n",
       "    </tr>\n",
       "    <tr>\n",
       "      <th>6</th>\n",
       "      <td>7</td>\n",
       "      <td>Aladdin Paperbacks</td>\n",
       "    </tr>\n",
       "    <tr>\n",
       "      <th>7</th>\n",
       "      <td>8</td>\n",
       "      <td>Albin Michel</td>\n",
       "    </tr>\n",
       "    <tr>\n",
       "      <th>8</th>\n",
       "      <td>9</td>\n",
       "      <td>Alfred A. Knopf</td>\n",
       "    </tr>\n",
       "    <tr>\n",
       "      <th>9</th>\n",
       "      <td>10</td>\n",
       "      <td>Alfred A. Knopf Books for Young Readers</td>\n",
       "    </tr>\n",
       "  </tbody>\n",
       "</table>\n",
       "</div>"
      ],
      "text/plain": [
       "   publisher_id                                publisher\n",
       "0             1                                      Ace\n",
       "1             2                                 Ace Book\n",
       "2             3                                Ace Books\n",
       "3             4                            Ace Hardcover\n",
       "4             5        Addison Wesley Publishing Company\n",
       "5             6                                  Aladdin\n",
       "6             7                       Aladdin Paperbacks\n",
       "7             8                             Albin Michel\n",
       "8             9                          Alfred A. Knopf\n",
       "9            10  Alfred A. Knopf Books for Young Readers"
      ]
     },
     "execution_count": 4,
     "metadata": {},
     "output_type": "execute_result"
    }
   ],
   "source": [
    "# выведу содержимое таблицы publishers\n",
    "query = '''\n",
    "            SELECT * \n",
    "            FROM publishers\n",
    "        '''\n",
    "publishers = pd.io.sql.read_sql(query, con = engine)\n",
    "publishers.head(10)"
   ]
  },
  {
   "cell_type": "markdown",
   "id": "2131f148",
   "metadata": {},
   "source": [
    "### Таблица ratings"
   ]
  },
  {
   "cell_type": "code",
   "execution_count": 5,
   "id": "19f2803e",
   "metadata": {},
   "outputs": [
    {
     "data": {
      "text/html": [
       "<div>\n",
       "<style scoped>\n",
       "    .dataframe tbody tr th:only-of-type {\n",
       "        vertical-align: middle;\n",
       "    }\n",
       "\n",
       "    .dataframe tbody tr th {\n",
       "        vertical-align: top;\n",
       "    }\n",
       "\n",
       "    .dataframe thead th {\n",
       "        text-align: right;\n",
       "    }\n",
       "</style>\n",
       "<table border=\"1\" class=\"dataframe\">\n",
       "  <thead>\n",
       "    <tr style=\"text-align: right;\">\n",
       "      <th></th>\n",
       "      <th>rating_id</th>\n",
       "      <th>book_id</th>\n",
       "      <th>username</th>\n",
       "      <th>rating</th>\n",
       "    </tr>\n",
       "  </thead>\n",
       "  <tbody>\n",
       "    <tr>\n",
       "      <th>0</th>\n",
       "      <td>1</td>\n",
       "      <td>1</td>\n",
       "      <td>ryanfranco</td>\n",
       "      <td>4</td>\n",
       "    </tr>\n",
       "    <tr>\n",
       "      <th>1</th>\n",
       "      <td>2</td>\n",
       "      <td>1</td>\n",
       "      <td>grantpatricia</td>\n",
       "      <td>2</td>\n",
       "    </tr>\n",
       "    <tr>\n",
       "      <th>2</th>\n",
       "      <td>3</td>\n",
       "      <td>1</td>\n",
       "      <td>brandtandrea</td>\n",
       "      <td>5</td>\n",
       "    </tr>\n",
       "    <tr>\n",
       "      <th>3</th>\n",
       "      <td>4</td>\n",
       "      <td>2</td>\n",
       "      <td>lorichen</td>\n",
       "      <td>3</td>\n",
       "    </tr>\n",
       "    <tr>\n",
       "      <th>4</th>\n",
       "      <td>5</td>\n",
       "      <td>2</td>\n",
       "      <td>mariokeller</td>\n",
       "      <td>2</td>\n",
       "    </tr>\n",
       "    <tr>\n",
       "      <th>5</th>\n",
       "      <td>6</td>\n",
       "      <td>3</td>\n",
       "      <td>johnsonamanda</td>\n",
       "      <td>4</td>\n",
       "    </tr>\n",
       "    <tr>\n",
       "      <th>6</th>\n",
       "      <td>7</td>\n",
       "      <td>3</td>\n",
       "      <td>scotttamara</td>\n",
       "      <td>5</td>\n",
       "    </tr>\n",
       "    <tr>\n",
       "      <th>7</th>\n",
       "      <td>8</td>\n",
       "      <td>3</td>\n",
       "      <td>lesliegibbs</td>\n",
       "      <td>5</td>\n",
       "    </tr>\n",
       "    <tr>\n",
       "      <th>8</th>\n",
       "      <td>9</td>\n",
       "      <td>4</td>\n",
       "      <td>abbottjames</td>\n",
       "      <td>5</td>\n",
       "    </tr>\n",
       "    <tr>\n",
       "      <th>9</th>\n",
       "      <td>10</td>\n",
       "      <td>4</td>\n",
       "      <td>valenciaanne</td>\n",
       "      <td>4</td>\n",
       "    </tr>\n",
       "  </tbody>\n",
       "</table>\n",
       "</div>"
      ],
      "text/plain": [
       "   rating_id  book_id       username  rating\n",
       "0          1        1     ryanfranco       4\n",
       "1          2        1  grantpatricia       2\n",
       "2          3        1   brandtandrea       5\n",
       "3          4        2       lorichen       3\n",
       "4          5        2    mariokeller       2\n",
       "5          6        3  johnsonamanda       4\n",
       "6          7        3    scotttamara       5\n",
       "7          8        3    lesliegibbs       5\n",
       "8          9        4    abbottjames       5\n",
       "9         10        4   valenciaanne       4"
      ]
     },
     "execution_count": 5,
     "metadata": {},
     "output_type": "execute_result"
    }
   ],
   "source": [
    "# Выведу содержимое таблицы ratings\n",
    "query = '''\n",
    "            SELECT * \n",
    "            FROM ratings\n",
    "        '''\n",
    "ratings = pd.io.sql.read_sql(query, con = engine)\n",
    "ratings.head(10)"
   ]
  },
  {
   "cell_type": "markdown",
   "id": "65d1fcd9",
   "metadata": {},
   "source": [
    "### Таблица reviews"
   ]
  },
  {
   "cell_type": "code",
   "execution_count": 6,
   "id": "2fd7c315",
   "metadata": {},
   "outputs": [
    {
     "data": {
      "text/html": [
       "<div>\n",
       "<style scoped>\n",
       "    .dataframe tbody tr th:only-of-type {\n",
       "        vertical-align: middle;\n",
       "    }\n",
       "\n",
       "    .dataframe tbody tr th {\n",
       "        vertical-align: top;\n",
       "    }\n",
       "\n",
       "    .dataframe thead th {\n",
       "        text-align: right;\n",
       "    }\n",
       "</style>\n",
       "<table border=\"1\" class=\"dataframe\">\n",
       "  <thead>\n",
       "    <tr style=\"text-align: right;\">\n",
       "      <th></th>\n",
       "      <th>review_id</th>\n",
       "      <th>book_id</th>\n",
       "      <th>username</th>\n",
       "      <th>text</th>\n",
       "    </tr>\n",
       "  </thead>\n",
       "  <tbody>\n",
       "    <tr>\n",
       "      <th>0</th>\n",
       "      <td>1</td>\n",
       "      <td>1</td>\n",
       "      <td>brandtandrea</td>\n",
       "      <td>Mention society tell send professor analysis. ...</td>\n",
       "    </tr>\n",
       "    <tr>\n",
       "      <th>1</th>\n",
       "      <td>2</td>\n",
       "      <td>1</td>\n",
       "      <td>ryanfranco</td>\n",
       "      <td>Foot glass pretty audience hit themselves. Amo...</td>\n",
       "    </tr>\n",
       "    <tr>\n",
       "      <th>2</th>\n",
       "      <td>3</td>\n",
       "      <td>2</td>\n",
       "      <td>lorichen</td>\n",
       "      <td>Listen treat keep worry. Miss husband tax but ...</td>\n",
       "    </tr>\n",
       "    <tr>\n",
       "      <th>3</th>\n",
       "      <td>4</td>\n",
       "      <td>3</td>\n",
       "      <td>johnsonamanda</td>\n",
       "      <td>Finally month interesting blue could nature cu...</td>\n",
       "    </tr>\n",
       "    <tr>\n",
       "      <th>4</th>\n",
       "      <td>5</td>\n",
       "      <td>3</td>\n",
       "      <td>scotttamara</td>\n",
       "      <td>Nation purpose heavy give wait song will. List...</td>\n",
       "    </tr>\n",
       "    <tr>\n",
       "      <th>5</th>\n",
       "      <td>6</td>\n",
       "      <td>3</td>\n",
       "      <td>lesliegibbs</td>\n",
       "      <td>Analysis no several cause international.</td>\n",
       "    </tr>\n",
       "    <tr>\n",
       "      <th>6</th>\n",
       "      <td>7</td>\n",
       "      <td>4</td>\n",
       "      <td>valenciaanne</td>\n",
       "      <td>One there cost another. Say type save. With pe...</td>\n",
       "    </tr>\n",
       "    <tr>\n",
       "      <th>7</th>\n",
       "      <td>8</td>\n",
       "      <td>4</td>\n",
       "      <td>abbottjames</td>\n",
       "      <td>Within enough mother. There at system full rec...</td>\n",
       "    </tr>\n",
       "    <tr>\n",
       "      <th>8</th>\n",
       "      <td>9</td>\n",
       "      <td>5</td>\n",
       "      <td>npowers</td>\n",
       "      <td>Thank now focus realize economy focus fly. Ite...</td>\n",
       "    </tr>\n",
       "    <tr>\n",
       "      <th>9</th>\n",
       "      <td>10</td>\n",
       "      <td>5</td>\n",
       "      <td>staylor</td>\n",
       "      <td>Game push lot reduce where remember. Including...</td>\n",
       "    </tr>\n",
       "  </tbody>\n",
       "</table>\n",
       "</div>"
      ],
      "text/plain": [
       "   review_id  book_id       username  \\\n",
       "0          1        1   brandtandrea   \n",
       "1          2        1     ryanfranco   \n",
       "2          3        2       lorichen   \n",
       "3          4        3  johnsonamanda   \n",
       "4          5        3    scotttamara   \n",
       "5          6        3    lesliegibbs   \n",
       "6          7        4   valenciaanne   \n",
       "7          8        4    abbottjames   \n",
       "8          9        5        npowers   \n",
       "9         10        5        staylor   \n",
       "\n",
       "                                                text  \n",
       "0  Mention society tell send professor analysis. ...  \n",
       "1  Foot glass pretty audience hit themselves. Amo...  \n",
       "2  Listen treat keep worry. Miss husband tax but ...  \n",
       "3  Finally month interesting blue could nature cu...  \n",
       "4  Nation purpose heavy give wait song will. List...  \n",
       "5           Analysis no several cause international.  \n",
       "6  One there cost another. Say type save. With pe...  \n",
       "7  Within enough mother. There at system full rec...  \n",
       "8  Thank now focus realize economy focus fly. Ite...  \n",
       "9  Game push lot reduce where remember. Including...  "
      ]
     },
     "execution_count": 6,
     "metadata": {},
     "output_type": "execute_result"
    }
   ],
   "source": [
    "# выведу содержимое таблицы reviews\n",
    "query = '''\n",
    "            SELECT * \n",
    "            FROM reviews\n",
    "        '''\n",
    "reviews = pd.io.sql.read_sql(query, con = engine)\n",
    "reviews.head(10)"
   ]
  },
  {
   "cell_type": "code",
   "execution_count": 7,
   "id": "4e75c77c",
   "metadata": {},
   "outputs": [
    {
     "name": "stdout",
     "output_type": "stream",
     "text": [
      "<class 'pandas.core.frame.DataFrame'>\n",
      "RangeIndex: 1000 entries, 0 to 999\n",
      "Data columns (total 6 columns):\n",
      " #   Column            Non-Null Count  Dtype \n",
      "---  ------            --------------  ----- \n",
      " 0   book_id           1000 non-null   int64 \n",
      " 1   author_id         1000 non-null   int64 \n",
      " 2   title             1000 non-null   object\n",
      " 3   num_pages         1000 non-null   int64 \n",
      " 4   publication_date  1000 non-null   object\n",
      " 5   publisher_id      1000 non-null   int64 \n",
      "dtypes: int64(4), object(2)\n",
      "memory usage: 47.0+ KB\n",
      "<class 'pandas.core.frame.DataFrame'>\n",
      "RangeIndex: 636 entries, 0 to 635\n",
      "Data columns (total 2 columns):\n",
      " #   Column     Non-Null Count  Dtype \n",
      "---  ------     --------------  ----- \n",
      " 0   author_id  636 non-null    int64 \n",
      " 1   author     636 non-null    object\n",
      "dtypes: int64(1), object(1)\n",
      "memory usage: 10.1+ KB\n",
      "<class 'pandas.core.frame.DataFrame'>\n",
      "RangeIndex: 340 entries, 0 to 339\n",
      "Data columns (total 2 columns):\n",
      " #   Column        Non-Null Count  Dtype \n",
      "---  ------        --------------  ----- \n",
      " 0   publisher_id  340 non-null    int64 \n",
      " 1   publisher     340 non-null    object\n",
      "dtypes: int64(1), object(1)\n",
      "memory usage: 5.4+ KB\n",
      "<class 'pandas.core.frame.DataFrame'>\n",
      "RangeIndex: 6456 entries, 0 to 6455\n",
      "Data columns (total 4 columns):\n",
      " #   Column     Non-Null Count  Dtype \n",
      "---  ------     --------------  ----- \n",
      " 0   rating_id  6456 non-null   int64 \n",
      " 1   book_id    6456 non-null   int64 \n",
      " 2   username   6456 non-null   object\n",
      " 3   rating     6456 non-null   int64 \n",
      "dtypes: int64(3), object(1)\n",
      "memory usage: 201.9+ KB\n",
      "<class 'pandas.core.frame.DataFrame'>\n",
      "RangeIndex: 2793 entries, 0 to 2792\n",
      "Data columns (total 4 columns):\n",
      " #   Column     Non-Null Count  Dtype \n",
      "---  ------     --------------  ----- \n",
      " 0   review_id  2793 non-null   int64 \n",
      " 1   book_id    2793 non-null   int64 \n",
      " 2   username   2793 non-null   object\n",
      " 3   text       2793 non-null   object\n",
      "dtypes: int64(2), object(2)\n",
      "memory usage: 87.4+ KB\n"
     ]
    },
    {
     "data": {
      "text/plain": [
       "(None, None, None, None, None)"
      ]
     },
     "execution_count": 7,
     "metadata": {},
     "output_type": "execute_result"
    }
   ],
   "source": [
    "books.info(), authors.info(), publishers.info(), ratings.info(), reviews.info()"
   ]
  },
  {
   "cell_type": "markdown",
   "id": "56d3cbda",
   "metadata": {},
   "source": [
    "<div class=\"alert alert-info\"> <b>Коментарии студента :</b> В таблицах представлено следующие: 1) books- сожержится информация о 1000 книг, 2) authors- содержится информация о 636 авторах, 3) publishers - содержится информация о 340 издательствах, 4) ratings - содержится информация о 6456 оценок книг, 5) reviews - содержится информация о 2793 обзорах на книги"
   ]
  },
  {
   "cell_type": "markdown",
   "id": "f26a3bb1",
   "metadata": {},
   "source": [
    "## Задания"
   ]
  },
  {
   "cell_type": "markdown",
   "id": "3236e033",
   "metadata": {},
   "source": [
    "### Посчитайте, сколько книг вышло после 1 января 2000 года"
   ]
  },
  {
   "cell_type": "code",
   "execution_count": 8,
   "id": "9c67a6ff",
   "metadata": {},
   "outputs": [
    {
     "data": {
      "text/html": [
       "<div>\n",
       "<style scoped>\n",
       "    .dataframe tbody tr th:only-of-type {\n",
       "        vertical-align: middle;\n",
       "    }\n",
       "\n",
       "    .dataframe tbody tr th {\n",
       "        vertical-align: top;\n",
       "    }\n",
       "\n",
       "    .dataframe thead th {\n",
       "        text-align: right;\n",
       "    }\n",
       "</style>\n",
       "<table border=\"1\" class=\"dataframe\">\n",
       "  <thead>\n",
       "    <tr style=\"text-align: right;\">\n",
       "      <th></th>\n",
       "      <th>cnt</th>\n",
       "    </tr>\n",
       "  </thead>\n",
       "  <tbody>\n",
       "    <tr>\n",
       "      <th>0</th>\n",
       "      <td>819</td>\n",
       "    </tr>\n",
       "  </tbody>\n",
       "</table>\n",
       "</div>"
      ],
      "text/plain": [
       "   cnt\n",
       "0  819"
      ]
     },
     "execution_count": 8,
     "metadata": {},
     "output_type": "execute_result"
    }
   ],
   "source": [
    "pd.io.sql.read_sql('''\n",
    "SELECT \n",
    "    COUNT(DISTINCT book_id) AS cnt\n",
    "FROM \n",
    "    books\n",
    "WHERE\n",
    "    publication_date > '2000-01-01'\n",
    "''', con = engine)"
   ]
  },
  {
   "cell_type": "markdown",
   "id": "ed12d8d6",
   "metadata": {},
   "source": [
    "<div class=\"alert alert-info\"> <b>Коментарии студента :</b>после 01.01.2000 было выпущено 819 книг"
   ]
  },
  {
   "cell_type": "markdown",
   "id": "d2cd14f7",
   "metadata": {},
   "source": [
    "### Для каждой книги посчитайте количество обзоров и среднюю оценку"
   ]
  },
  {
   "cell_type": "code",
   "execution_count": 9,
   "id": "5a0a165b",
   "metadata": {},
   "outputs": [
    {
     "data": {
      "text/html": [
       "<div>\n",
       "<style scoped>\n",
       "    .dataframe tbody tr th:only-of-type {\n",
       "        vertical-align: middle;\n",
       "    }\n",
       "\n",
       "    .dataframe tbody tr th {\n",
       "        vertical-align: top;\n",
       "    }\n",
       "\n",
       "    .dataframe thead th {\n",
       "        text-align: right;\n",
       "    }\n",
       "</style>\n",
       "<table border=\"1\" class=\"dataframe\">\n",
       "  <thead>\n",
       "    <tr style=\"text-align: right;\">\n",
       "      <th></th>\n",
       "      <th>name</th>\n",
       "      <th>reviews_cnt</th>\n",
       "      <th>avg_rating</th>\n",
       "    </tr>\n",
       "  </thead>\n",
       "  <tbody>\n",
       "    <tr>\n",
       "      <th>0</th>\n",
       "      <td>Homage to Catalonia</td>\n",
       "      <td>2.0</td>\n",
       "      <td>5.00</td>\n",
       "    </tr>\n",
       "    <tr>\n",
       "      <th>1</th>\n",
       "      <td>March</td>\n",
       "      <td>2.0</td>\n",
       "      <td>5.00</td>\n",
       "    </tr>\n",
       "    <tr>\n",
       "      <th>2</th>\n",
       "      <td>In the Hand of the Goddess (Song of the Liones...</td>\n",
       "      <td>2.0</td>\n",
       "      <td>5.00</td>\n",
       "    </tr>\n",
       "    <tr>\n",
       "      <th>3</th>\n",
       "      <td>Welcome to Temptation (Dempseys  #1)</td>\n",
       "      <td>2.0</td>\n",
       "      <td>5.00</td>\n",
       "    </tr>\n",
       "    <tr>\n",
       "      <th>4</th>\n",
       "      <td>Stone of Farewell (Memory  Sorrow  and Thorn  #2)</td>\n",
       "      <td>1.0</td>\n",
       "      <td>5.00</td>\n",
       "    </tr>\n",
       "    <tr>\n",
       "      <th>...</th>\n",
       "      <td>...</td>\n",
       "      <td>...</td>\n",
       "      <td>...</td>\n",
       "    </tr>\n",
       "    <tr>\n",
       "      <th>995</th>\n",
       "      <td>The World Is Flat: A Brief History of the Twen...</td>\n",
       "      <td>3.0</td>\n",
       "      <td>2.25</td>\n",
       "    </tr>\n",
       "    <tr>\n",
       "      <th>996</th>\n",
       "      <td>Junky</td>\n",
       "      <td>2.0</td>\n",
       "      <td>2.00</td>\n",
       "    </tr>\n",
       "    <tr>\n",
       "      <th>997</th>\n",
       "      <td>His Excellency: George Washington</td>\n",
       "      <td>2.0</td>\n",
       "      <td>2.00</td>\n",
       "    </tr>\n",
       "    <tr>\n",
       "      <th>998</th>\n",
       "      <td>Drowning Ruth</td>\n",
       "      <td>3.0</td>\n",
       "      <td>2.00</td>\n",
       "    </tr>\n",
       "    <tr>\n",
       "      <th>999</th>\n",
       "      <td>Harvesting the Heart</td>\n",
       "      <td>2.0</td>\n",
       "      <td>1.50</td>\n",
       "    </tr>\n",
       "  </tbody>\n",
       "</table>\n",
       "<p>1000 rows × 3 columns</p>\n",
       "</div>"
      ],
      "text/plain": [
       "                                                  name  reviews_cnt  \\\n",
       "0                                  Homage to Catalonia          2.0   \n",
       "1                                                March          2.0   \n",
       "2    In the Hand of the Goddess (Song of the Liones...          2.0   \n",
       "3                 Welcome to Temptation (Dempseys  #1)          2.0   \n",
       "4    Stone of Farewell (Memory  Sorrow  and Thorn  #2)          1.0   \n",
       "..                                                 ...          ...   \n",
       "995  The World Is Flat: A Brief History of the Twen...          3.0   \n",
       "996                                              Junky          2.0   \n",
       "997                  His Excellency: George Washington          2.0   \n",
       "998                                      Drowning Ruth          3.0   \n",
       "999                               Harvesting the Heart          2.0   \n",
       "\n",
       "     avg_rating  \n",
       "0          5.00  \n",
       "1          5.00  \n",
       "2          5.00  \n",
       "3          5.00  \n",
       "4          5.00  \n",
       "..          ...  \n",
       "995        2.25  \n",
       "996        2.00  \n",
       "997        2.00  \n",
       "998        2.00  \n",
       "999        1.50  \n",
       "\n",
       "[1000 rows x 3 columns]"
      ]
     },
     "execution_count": 9,
     "metadata": {},
     "output_type": "execute_result"
    }
   ],
   "source": [
    "query = '''\n",
    "SELECT\n",
    "    books.title AS name, reviews_cnt AS reviews_cnt,AVG (rating) AS avg_rating\n",
    "FROM \n",
    "    books LEFT JOIN (SELECT book_id, COUNT(review_id) AS reviews_cnt FROM  reviews GROUP BY  book_id) AS reviews ON reviews.book_id = books.book_id RIGHT JOIN ratings ON ratings.book_id = books.book_id GROUP BY books.title, reviews_cnt\n",
    "ORDER BY avg_rating DESC\n",
    "'''\n",
    "pd.io.sql.read_sql(query, con = engine)"
   ]
  },
  {
   "cell_type": "markdown",
   "id": "eb056b98",
   "metadata": {},
   "source": [
    "<div class=\"alert alert-info\"> <b>Коментарии студента :</b> В основном написано несколько обзоров и средний_рейтинг варьируется"
   ]
  },
  {
   "cell_type": "markdown",
   "id": "71548631",
   "metadata": {},
   "source": [
    "### Определите издательство, которое выпустило наибольшее число книг толще 50 страниц — так вы исключите из анализа брошюры"
   ]
  },
  {
   "cell_type": "code",
   "execution_count": 10,
   "id": "8f8b6471",
   "metadata": {},
   "outputs": [
    {
     "data": {
      "text/html": [
       "<div>\n",
       "<style scoped>\n",
       "    .dataframe tbody tr th:only-of-type {\n",
       "        vertical-align: middle;\n",
       "    }\n",
       "\n",
       "    .dataframe tbody tr th {\n",
       "        vertical-align: top;\n",
       "    }\n",
       "\n",
       "    .dataframe thead th {\n",
       "        text-align: right;\n",
       "    }\n",
       "</style>\n",
       "<table border=\"1\" class=\"dataframe\">\n",
       "  <thead>\n",
       "    <tr style=\"text-align: right;\">\n",
       "      <th></th>\n",
       "      <th>publisher_id</th>\n",
       "      <th>publisher</th>\n",
       "      <th>count_books</th>\n",
       "    </tr>\n",
       "  </thead>\n",
       "  <tbody>\n",
       "    <tr>\n",
       "      <th>0</th>\n",
       "      <td>212</td>\n",
       "      <td>Penguin Books</td>\n",
       "      <td>42</td>\n",
       "    </tr>\n",
       "  </tbody>\n",
       "</table>\n",
       "</div>"
      ],
      "text/plain": [
       "   publisher_id      publisher  count_books\n",
       "0           212  Penguin Books           42"
      ]
     },
     "execution_count": 10,
     "metadata": {},
     "output_type": "execute_result"
    }
   ],
   "source": [
    "query = '''\n",
    "            SELECT b.publisher_id, p.publisher, COUNT(*) count_books\n",
    "            FROM books b\n",
    "            LEFT JOIN publishers p ON b.publisher_id = p.publisher_id\n",
    "            WHERE num_pages > 50\n",
    "            GROUP BY b.publisher_id, p.publisher\n",
    "            ORDER BY COUNT(*) DESC\n",
    "            LIMIT 1\n",
    "        '''\n",
    "pd.io.sql.read_sql(query, con = engine)"
   ]
  },
  {
   "cell_type": "markdown",
   "id": "dfd3c49f",
   "metadata": {},
   "source": [
    "<div class=\"alert alert-info\"> <b>Коментарии студента :</b> Толще 50 страниц выпустило Пингвин Букс - 42 книги"
   ]
  },
  {
   "cell_type": "markdown",
   "id": "fe086974",
   "metadata": {},
   "source": [
    "### Определите автора с самой высокой средней оценкой книг — учитывайте только книги с 50 и более оценками"
   ]
  },
  {
   "cell_type": "code",
   "execution_count": 11,
   "id": "984f9d3a",
   "metadata": {},
   "outputs": [
    {
     "data": {
      "text/html": [
       "<div>\n",
       "<style scoped>\n",
       "    .dataframe tbody tr th:only-of-type {\n",
       "        vertical-align: middle;\n",
       "    }\n",
       "\n",
       "    .dataframe tbody tr th {\n",
       "        vertical-align: top;\n",
       "    }\n",
       "\n",
       "    .dataframe thead th {\n",
       "        text-align: right;\n",
       "    }\n",
       "</style>\n",
       "<table border=\"1\" class=\"dataframe\">\n",
       "  <thead>\n",
       "    <tr style=\"text-align: right;\">\n",
       "      <th></th>\n",
       "      <th>author</th>\n",
       "      <th>author_id</th>\n",
       "      <th>avg_rating</th>\n",
       "    </tr>\n",
       "  </thead>\n",
       "  <tbody>\n",
       "    <tr>\n",
       "      <th>0</th>\n",
       "      <td>J.K. Rowling/Mary GrandPré</td>\n",
       "      <td>236</td>\n",
       "      <td>4.293466</td>\n",
       "    </tr>\n",
       "    <tr>\n",
       "      <th>1</th>\n",
       "      <td>Markus Zusak/Cao Xuân Việt Khương</td>\n",
       "      <td>402</td>\n",
       "      <td>4.264151</td>\n",
       "    </tr>\n",
       "    <tr>\n",
       "      <th>2</th>\n",
       "      <td>J.R.R. Tolkien</td>\n",
       "      <td>240</td>\n",
       "      <td>4.232892</td>\n",
       "    </tr>\n",
       "    <tr>\n",
       "      <th>3</th>\n",
       "      <td>Louisa May Alcott</td>\n",
       "      <td>376</td>\n",
       "      <td>4.196970</td>\n",
       "    </tr>\n",
       "    <tr>\n",
       "      <th>4</th>\n",
       "      <td>Rick Riordan</td>\n",
       "      <td>498</td>\n",
       "      <td>4.124481</td>\n",
       "    </tr>\n",
       "    <tr>\n",
       "      <th>5</th>\n",
       "      <td>William Golding</td>\n",
       "      <td>621</td>\n",
       "      <td>3.901408</td>\n",
       "    </tr>\n",
       "    <tr>\n",
       "      <th>6</th>\n",
       "      <td>J.D. Salinger</td>\n",
       "      <td>235</td>\n",
       "      <td>3.841727</td>\n",
       "    </tr>\n",
       "    <tr>\n",
       "      <th>7</th>\n",
       "      <td>Paulo Coelho/Alan R. Clarke/Özdemir İnce</td>\n",
       "      <td>469</td>\n",
       "      <td>3.789474</td>\n",
       "    </tr>\n",
       "    <tr>\n",
       "      <th>8</th>\n",
       "      <td>William Shakespeare/Paul Werstine/Barbara A. M...</td>\n",
       "      <td>630</td>\n",
       "      <td>3.787879</td>\n",
       "    </tr>\n",
       "    <tr>\n",
       "      <th>9</th>\n",
       "      <td>Dan Brown</td>\n",
       "      <td>106</td>\n",
       "      <td>3.748062</td>\n",
       "    </tr>\n",
       "    <tr>\n",
       "      <th>10</th>\n",
       "      <td>Lois Lowry</td>\n",
       "      <td>372</td>\n",
       "      <td>3.741935</td>\n",
       "    </tr>\n",
       "    <tr>\n",
       "      <th>11</th>\n",
       "      <td>George Orwell/Boris Grabnar/Peter Škerl</td>\n",
       "      <td>195</td>\n",
       "      <td>3.729730</td>\n",
       "    </tr>\n",
       "    <tr>\n",
       "      <th>12</th>\n",
       "      <td>Stephenie Meyer</td>\n",
       "      <td>554</td>\n",
       "      <td>3.662500</td>\n",
       "    </tr>\n",
       "    <tr>\n",
       "      <th>13</th>\n",
       "      <td>John Steinbeck</td>\n",
       "      <td>311</td>\n",
       "      <td>3.628986</td>\n",
       "    </tr>\n",
       "  </tbody>\n",
       "</table>\n",
       "</div>"
      ],
      "text/plain": [
       "                                               author  author_id  avg_rating\n",
       "0                          J.K. Rowling/Mary GrandPré        236    4.293466\n",
       "1                   Markus Zusak/Cao Xuân Việt Khương        402    4.264151\n",
       "2                                      J.R.R. Tolkien        240    4.232892\n",
       "3                                   Louisa May Alcott        376    4.196970\n",
       "4                                        Rick Riordan        498    4.124481\n",
       "5                                     William Golding        621    3.901408\n",
       "6                                       J.D. Salinger        235    3.841727\n",
       "7            Paulo Coelho/Alan R. Clarke/Özdemir İnce        469    3.789474\n",
       "8   William Shakespeare/Paul Werstine/Barbara A. M...        630    3.787879\n",
       "9                                           Dan Brown        106    3.748062\n",
       "10                                         Lois Lowry        372    3.741935\n",
       "11            George Orwell/Boris Grabnar/Peter Škerl        195    3.729730\n",
       "12                                    Stephenie Meyer        554    3.662500\n",
       "13                                     John Steinbeck        311    3.628986"
      ]
     },
     "execution_count": 11,
     "metadata": {},
     "output_type": "execute_result"
    }
   ],
   "source": [
    "query = '''\n",
    "select \n",
    "       authors.author,\n",
    "       authors.author_id,\n",
    "       avg(ratings.rating) as avg_rating\n",
    "       \n",
    "FROM\n",
    "    books\n",
    "    INNER JOIN reviews ON reviews.book_id = books.book_id\n",
    "    INNER JOIN ratings ON ratings.book_id = books.book_id\n",
    "    INNER JOIN authors ON authors.author_id = books.author_id\n",
    "\n",
    "where authors.author_id in (select \n",
    "       books.author_id\n",
    "       \n",
    "from books\n",
    "\n",
    "where books.book_id in (select \n",
    "            ratings.book_id \n",
    "            \n",
    "    from ratings\n",
    "    group by ratings.book_id\n",
    "    having count(ratings.rating_id) > 50\n",
    "    ))\n",
    "group by authors.author, authors.author_id     \n",
    "order by avg_rating DESC    \n",
    "\n",
    "'''\n",
    "pd.io.sql.read_sql(query, con = engine) "
   ]
  },
  {
   "cell_type": "markdown",
   "id": "af151ef9",
   "metadata": {},
   "source": [
    "<div class=\"alert alert-info\"> <b>Коментарии студента :</b> J.K. Rowling/Mary GrandPré - автор с самой высокой оценкой"
   ]
  },
  {
   "cell_type": "markdown",
   "id": "164c5c40",
   "metadata": {},
   "source": [
    "### Посчитайте среднее количество обзоров от пользователей, которые поставили больше 50 оценок"
   ]
  },
  {
   "cell_type": "code",
   "execution_count": 12,
   "id": "14717d51",
   "metadata": {},
   "outputs": [
    {
     "data": {
      "text/html": [
       "<div>\n",
       "<style scoped>\n",
       "    .dataframe tbody tr th:only-of-type {\n",
       "        vertical-align: middle;\n",
       "    }\n",
       "\n",
       "    .dataframe tbody tr th {\n",
       "        vertical-align: top;\n",
       "    }\n",
       "\n",
       "    .dataframe thead th {\n",
       "        text-align: right;\n",
       "    }\n",
       "</style>\n",
       "<table border=\"1\" class=\"dataframe\">\n",
       "  <thead>\n",
       "    <tr style=\"text-align: right;\">\n",
       "      <th></th>\n",
       "      <th>avg</th>\n",
       "    </tr>\n",
       "  </thead>\n",
       "  <tbody>\n",
       "    <tr>\n",
       "      <th>0</th>\n",
       "      <td>24.333333</td>\n",
       "    </tr>\n",
       "  </tbody>\n",
       "</table>\n",
       "</div>"
      ],
      "text/plain": [
       "         avg\n",
       "0  24.333333"
      ]
     },
     "execution_count": 12,
     "metadata": {},
     "output_type": "execute_result"
    }
   ],
   "source": [
    "query = '''\n",
    "            SELECT AVG(count_reviews)\n",
    "            FROM (\n",
    "            SELECT username, COUNT(*) count_reviews\n",
    "            FROM reviews\n",
    "            WHERE username IN\n",
    "            (\n",
    "            SELECT username--, COUNT(*)\n",
    "            FROM ratings\n",
    "            GROUP BY username\n",
    "            HAVING COUNT(*) > 50\n",
    "            )\n",
    "            GROUP BY username) rev\n",
    "        \n",
    "\n",
    "        '''\n",
    "pd.io.sql.read_sql(query, con = engine)"
   ]
  },
  {
   "cell_type": "markdown",
   "id": "a34341b2",
   "metadata": {},
   "source": [
    "<div class=\"alert alert-info\"> <b>Коментарии студента :</b> среднее количество обзоров от пользователей ставивших много оценок - 24 "
   ]
  },
  {
   "cell_type": "markdown",
   "id": "eaaf1d2c",
   "metadata": {},
   "source": [
    "<div class=\"alert alert-info\"> <b>Вывод :</b> из данного проекта можно сделать следующие заключения:\n",
    "    1) В таблицах  1) books- сожержится информация о 1000 книг, 2) authors- содержится информация о 636 авторах, 3) publishers - содержится информация о 340 издательствах, 4) ratings - содержится информация о 6456 оценок книг, 5) reviews - содержится информация о 2793 обзорах на книги\n",
    "    2) после 01.01.2000 было выпущено 819 книг\n",
    "    3) В основном написано несколько обзоров и средний_рейтинг варьируется\n",
    "    4) Толще 50 страниц выпустило Пингвин Букс - 42 книги\n",
    "    5) J.K. Rowling/Mary GrandPré - автор с самой высокой оценкой\n",
    "    6) среднее количество обзоров от пользователей ставивших много оценок - 24 "
   ]
  }
 ],
 "metadata": {
  "ExecuteTimeLog": [
   {
    "duration": 3647,
    "start_time": "2022-06-09T09:17:37.092Z"
   },
   {
    "duration": 758,
    "start_time": "2022-06-09T09:36:17.503Z"
   },
   {
    "duration": 302,
    "start_time": "2022-06-09T09:39:47.466Z"
   },
   {
    "duration": 110,
    "start_time": "2022-06-09T09:39:56.359Z"
   },
   {
    "duration": 96,
    "start_time": "2022-06-09T09:40:22.515Z"
   },
   {
    "duration": 30,
    "start_time": "2022-06-09T09:40:30.074Z"
   },
   {
    "duration": 87,
    "start_time": "2022-06-09T09:40:51.199Z"
   },
   {
    "duration": 75,
    "start_time": "2022-06-09T09:41:23.146Z"
   },
   {
    "duration": 131,
    "start_time": "2022-06-09T09:41:47.677Z"
   },
   {
    "duration": 124,
    "start_time": "2022-06-09T09:42:05.301Z"
   },
   {
    "duration": 132,
    "start_time": "2022-06-09T09:42:38.485Z"
   },
   {
    "duration": 87,
    "start_time": "2022-06-09T09:43:42.005Z"
   },
   {
    "duration": 105,
    "start_time": "2022-06-09T09:44:03.159Z"
   },
   {
    "duration": 84,
    "start_time": "2022-06-09T09:45:49.225Z"
   },
   {
    "duration": 124,
    "start_time": "2022-06-09T09:46:04.447Z"
   },
   {
    "duration": 71,
    "start_time": "2022-06-09T09:47:10.444Z"
   },
   {
    "duration": 94,
    "start_time": "2022-06-09T09:47:33.024Z"
   },
   {
    "duration": 11,
    "start_time": "2022-06-09T09:47:56.207Z"
   },
   {
    "duration": 77,
    "start_time": "2022-06-09T09:48:17.577Z"
   },
   {
    "duration": 92,
    "start_time": "2022-06-09T09:50:03.756Z"
   },
   {
    "duration": 10,
    "start_time": "2022-06-09T09:51:06.950Z"
   },
   {
    "duration": 76,
    "start_time": "2022-06-09T09:51:33.292Z"
   },
   {
    "duration": 57,
    "start_time": "2022-06-10T08:32:07.946Z"
   },
   {
    "duration": 6,
    "start_time": "2022-06-10T08:32:29.545Z"
   },
   {
    "duration": 8,
    "start_time": "2022-06-10T08:32:59.730Z"
   },
   {
    "duration": 654,
    "start_time": "2022-06-10T08:33:05.906Z"
   },
   {
    "duration": 104,
    "start_time": "2022-06-10T08:33:06.561Z"
   },
   {
    "duration": 12,
    "start_time": "2022-06-10T08:33:06.667Z"
   },
   {
    "duration": 13,
    "start_time": "2022-06-10T08:33:06.681Z"
   },
   {
    "duration": 26,
    "start_time": "2022-06-10T08:33:06.695Z"
   },
   {
    "duration": 30,
    "start_time": "2022-06-10T08:33:06.723Z"
   },
   {
    "duration": 49,
    "start_time": "2022-06-10T08:33:06.755Z"
   },
   {
    "duration": 29,
    "start_time": "2022-06-10T08:33:06.806Z"
   },
   {
    "duration": 17,
    "start_time": "2022-06-10T08:33:06.839Z"
   },
   {
    "duration": 27,
    "start_time": "2022-06-10T08:33:06.859Z"
   },
   {
    "duration": 12,
    "start_time": "2022-06-10T08:33:06.888Z"
   },
   {
    "duration": 19,
    "start_time": "2022-06-10T08:33:06.903Z"
   },
   {
    "duration": 30,
    "start_time": "2022-06-10T08:33:06.924Z"
   },
   {
    "duration": 36,
    "start_time": "2022-06-10T08:33:46.841Z"
   },
   {
    "duration": 50,
    "start_time": "2022-06-27T13:24:32.038Z"
   },
   {
    "duration": 7,
    "start_time": "2022-06-27T13:24:37.548Z"
   },
   {
    "duration": 6052,
    "start_time": "2022-06-27T13:24:43.813Z"
   },
   {
    "duration": 285,
    "start_time": "2022-06-27T13:24:49.867Z"
   },
   {
    "duration": 77,
    "start_time": "2022-06-27T13:24:50.154Z"
   },
   {
    "duration": 75,
    "start_time": "2022-06-27T13:24:50.234Z"
   },
   {
    "duration": 97,
    "start_time": "2022-06-27T13:24:50.311Z"
   },
   {
    "duration": 93,
    "start_time": "2022-06-27T13:24:50.409Z"
   },
   {
    "duration": 35,
    "start_time": "2022-06-27T13:24:50.504Z"
   },
   {
    "duration": 85,
    "start_time": "2022-06-27T13:24:50.541Z"
   },
   {
    "duration": 89,
    "start_time": "2022-06-27T13:24:50.628Z"
   },
   {
    "duration": 75,
    "start_time": "2022-06-27T13:24:50.720Z"
   },
   {
    "duration": 81,
    "start_time": "2022-06-27T13:24:50.797Z"
   },
   {
    "duration": 77,
    "start_time": "2022-06-27T13:24:50.880Z"
   },
   {
    "duration": 77,
    "start_time": "2022-06-27T13:25:17.937Z"
   },
   {
    "duration": 82,
    "start_time": "2022-06-27T13:25:32.973Z"
   },
   {
    "duration": 76,
    "start_time": "2022-06-27T13:26:14.554Z"
   },
   {
    "duration": 6089,
    "start_time": "2022-06-27T13:26:40.963Z"
   },
   {
    "duration": 286,
    "start_time": "2022-06-27T13:26:47.055Z"
   },
   {
    "duration": 82,
    "start_time": "2022-06-27T13:26:47.343Z"
   },
   {
    "duration": 78,
    "start_time": "2022-06-27T13:26:47.427Z"
   },
   {
    "duration": 112,
    "start_time": "2022-06-27T13:26:47.506Z"
   },
   {
    "duration": 93,
    "start_time": "2022-06-27T13:26:47.621Z"
   },
   {
    "duration": 36,
    "start_time": "2022-06-27T13:26:47.716Z"
   },
   {
    "duration": 80,
    "start_time": "2022-06-27T13:26:47.754Z"
   },
   {
    "duration": 90,
    "start_time": "2022-06-27T13:26:47.836Z"
   },
   {
    "duration": 78,
    "start_time": "2022-06-27T13:26:47.930Z"
   },
   {
    "duration": 85,
    "start_time": "2022-06-27T13:26:48.009Z"
   },
   {
    "duration": 79,
    "start_time": "2022-06-27T13:26:48.095Z"
   },
   {
    "duration": 5984,
    "start_time": "2022-06-27T13:28:59.098Z"
   },
   {
    "duration": 259,
    "start_time": "2022-06-27T13:29:05.084Z"
   },
   {
    "duration": 71,
    "start_time": "2022-06-27T13:29:05.345Z"
   },
   {
    "duration": 70,
    "start_time": "2022-06-27T13:29:05.418Z"
   },
   {
    "duration": 97,
    "start_time": "2022-06-27T13:29:05.490Z"
   },
   {
    "duration": 89,
    "start_time": "2022-06-27T13:29:05.589Z"
   },
   {
    "duration": 46,
    "start_time": "2022-06-27T13:29:05.679Z"
   },
   {
    "duration": 79,
    "start_time": "2022-06-27T13:29:05.727Z"
   },
   {
    "duration": 86,
    "start_time": "2022-06-27T13:29:05.808Z"
   },
   {
    "duration": 79,
    "start_time": "2022-06-27T13:29:05.897Z"
   },
   {
    "duration": 84,
    "start_time": "2022-06-27T13:29:05.978Z"
   },
   {
    "duration": 76,
    "start_time": "2022-06-27T13:29:06.064Z"
   },
   {
    "duration": 10264,
    "start_time": "2022-07-05T17:18:10.199Z"
   },
   {
    "duration": 282,
    "start_time": "2022-07-05T17:18:20.465Z"
   },
   {
    "duration": 72,
    "start_time": "2022-07-05T17:18:20.754Z"
   },
   {
    "duration": 75,
    "start_time": "2022-07-05T17:18:20.829Z"
   },
   {
    "duration": 102,
    "start_time": "2022-07-05T17:18:20.906Z"
   },
   {
    "duration": 91,
    "start_time": "2022-07-05T17:18:21.010Z"
   },
   {
    "duration": 34,
    "start_time": "2022-07-05T17:18:21.103Z"
   },
   {
    "duration": 73,
    "start_time": "2022-07-05T17:18:21.139Z"
   },
   {
    "duration": 84,
    "start_time": "2022-07-05T17:18:21.213Z"
   },
   {
    "duration": 73,
    "start_time": "2022-07-05T17:18:21.300Z"
   },
   {
    "duration": 81,
    "start_time": "2022-07-05T17:18:21.375Z"
   },
   {
    "duration": 72,
    "start_time": "2022-07-05T17:18:21.460Z"
   },
   {
    "duration": 108,
    "start_time": "2022-07-05T17:19:00.370Z"
   },
   {
    "duration": 91,
    "start_time": "2022-07-05T17:19:06.645Z"
   },
   {
    "duration": 85,
    "start_time": "2022-07-05T17:19:58.406Z"
   },
   {
    "duration": 77,
    "start_time": "2022-07-05T17:20:03.898Z"
   },
   {
    "duration": 49,
    "start_time": "2022-07-05T17:53:58.075Z"
   },
   {
    "duration": 6135,
    "start_time": "2022-07-05T17:54:07.504Z"
   },
   {
    "duration": 299,
    "start_time": "2022-07-05T17:54:13.641Z"
   },
   {
    "duration": 75,
    "start_time": "2022-07-05T17:54:13.941Z"
   },
   {
    "duration": 88,
    "start_time": "2022-07-05T17:54:14.018Z"
   },
   {
    "duration": 110,
    "start_time": "2022-07-05T17:54:14.109Z"
   },
   {
    "duration": 106,
    "start_time": "2022-07-05T17:54:14.221Z"
   },
   {
    "duration": 42,
    "start_time": "2022-07-05T17:54:14.329Z"
   },
   {
    "duration": 110,
    "start_time": "2022-07-05T17:54:14.378Z"
   },
   {
    "duration": 107,
    "start_time": "2022-07-05T17:54:14.491Z"
   },
   {
    "duration": 93,
    "start_time": "2022-07-05T17:54:14.600Z"
   },
   {
    "duration": 108,
    "start_time": "2022-07-05T17:54:14.695Z"
   },
   {
    "duration": 88,
    "start_time": "2022-07-05T17:54:14.805Z"
   },
   {
    "duration": 109,
    "start_time": "2022-07-05T17:54:59.225Z"
   },
   {
    "duration": 138,
    "start_time": "2022-07-05T17:55:41.727Z"
   },
   {
    "duration": 124,
    "start_time": "2022-07-05T17:57:04.566Z"
   },
   {
    "duration": 106,
    "start_time": "2022-07-05T17:57:20.002Z"
   },
   {
    "duration": 130,
    "start_time": "2022-07-05T17:57:47.644Z"
   },
   {
    "duration": 115,
    "start_time": "2022-07-05T17:58:05.900Z"
   },
   {
    "duration": 113,
    "start_time": "2022-07-05T17:58:17.894Z"
   },
   {
    "duration": 115,
    "start_time": "2022-07-05T17:58:29.175Z"
   },
   {
    "duration": 126,
    "start_time": "2022-07-05T17:59:07.722Z"
   },
   {
    "duration": 56,
    "start_time": "2022-07-05T18:01:00.269Z"
   },
   {
    "duration": 52,
    "start_time": "2022-07-05T18:01:09.392Z"
   },
   {
    "duration": 84,
    "start_time": "2022-07-05T18:01:28.253Z"
   },
   {
    "duration": 8,
    "start_time": "2022-07-05T18:01:42.313Z"
   },
   {
    "duration": 10,
    "start_time": "2022-07-05T18:02:00.167Z"
   },
   {
    "duration": 151,
    "start_time": "2022-07-05T18:09:05.918Z"
   },
   {
    "duration": 132,
    "start_time": "2022-07-05T18:09:36.467Z"
   },
   {
    "duration": 141,
    "start_time": "2022-07-05T18:09:48.467Z"
   },
   {
    "duration": 218,
    "start_time": "2022-07-05T18:09:59.584Z"
   },
   {
    "duration": 187,
    "start_time": "2022-07-05T18:10:15.052Z"
   },
   {
    "duration": 163,
    "start_time": "2022-07-05T18:10:32.378Z"
   },
   {
    "duration": 139,
    "start_time": "2022-07-05T18:10:36.469Z"
   },
   {
    "duration": 245,
    "start_time": "2022-07-05T18:10:53.345Z"
   },
   {
    "duration": 225,
    "start_time": "2022-07-05T18:11:01.497Z"
   },
   {
    "duration": 190,
    "start_time": "2022-07-05T18:11:43.416Z"
   },
   {
    "duration": 8824,
    "start_time": "2022-07-05T18:12:04.579Z"
   },
   {
    "duration": 386,
    "start_time": "2022-07-05T18:12:13.405Z"
   },
   {
    "duration": 99,
    "start_time": "2022-07-05T18:12:13.793Z"
   },
   {
    "duration": 99,
    "start_time": "2022-07-05T18:12:13.894Z"
   },
   {
    "duration": 128,
    "start_time": "2022-07-05T18:12:13.996Z"
   },
   {
    "duration": 113,
    "start_time": "2022-07-05T18:12:14.126Z"
   },
   {
    "duration": 62,
    "start_time": "2022-07-05T18:12:14.240Z"
   },
   {
    "duration": 107,
    "start_time": "2022-07-05T18:12:14.304Z"
   },
   {
    "duration": 316,
    "start_time": "2022-07-05T18:12:14.413Z"
   },
   {
    "duration": 0,
    "start_time": "2022-07-05T18:12:14.731Z"
   },
   {
    "duration": 0,
    "start_time": "2022-07-05T18:12:14.733Z"
   },
   {
    "duration": 0,
    "start_time": "2022-07-05T18:12:14.735Z"
   },
   {
    "duration": 0,
    "start_time": "2022-07-05T18:12:14.736Z"
   },
   {
    "duration": 138,
    "start_time": "2022-07-05T18:12:33.074Z"
   },
   {
    "duration": 147,
    "start_time": "2022-07-05T18:12:43.167Z"
   },
   {
    "duration": 144,
    "start_time": "2022-07-05T18:12:49.863Z"
   },
   {
    "duration": 9939,
    "start_time": "2022-07-05T18:21:23.263Z"
   },
   {
    "duration": 439,
    "start_time": "2022-07-05T18:21:33.216Z"
   },
   {
    "duration": 99,
    "start_time": "2022-07-05T18:21:33.663Z"
   },
   {
    "duration": 119,
    "start_time": "2022-07-05T18:21:33.768Z"
   },
   {
    "duration": 121,
    "start_time": "2022-07-05T18:21:33.890Z"
   },
   {
    "duration": 123,
    "start_time": "2022-07-05T18:21:34.013Z"
   },
   {
    "duration": 65,
    "start_time": "2022-07-05T18:21:34.138Z"
   },
   {
    "duration": 114,
    "start_time": "2022-07-05T18:21:34.209Z"
   },
   {
    "duration": 113,
    "start_time": "2022-07-05T18:21:34.326Z"
   },
   {
    "duration": 148,
    "start_time": "2022-07-05T18:21:34.441Z"
   },
   {
    "duration": 105,
    "start_time": "2022-07-05T18:21:34.591Z"
   },
   {
    "duration": 109,
    "start_time": "2022-07-05T18:21:34.698Z"
   }
  ],
  "kernelspec": {
   "display_name": "Python 3 (ipykernel)",
   "language": "python",
   "name": "python3"
  },
  "language_info": {
   "codemirror_mode": {
    "name": "ipython",
    "version": 3
   },
   "file_extension": ".py",
   "mimetype": "text/x-python",
   "name": "python",
   "nbconvert_exporter": "python",
   "pygments_lexer": "ipython3",
   "version": "3.9.5"
  },
  "toc": {
   "base_numbering": 1,
   "nav_menu": {},
   "number_sections": true,
   "sideBar": true,
   "skip_h1_title": true,
   "title_cell": "Table of Contents",
   "title_sidebar": "Contents",
   "toc_cell": false,
   "toc_position": {},
   "toc_section_display": true,
   "toc_window_display": false
  }
 },
 "nbformat": 4,
 "nbformat_minor": 5
}
