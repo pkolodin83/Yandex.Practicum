{
 "cells": [
  {
   "cell_type": "markdown",
   "id": "2eedf419",
   "metadata": {},
   "source": [
    "Основные шаги исследования:"
   ]
  },
  {
   "cell_type": "markdown",
   "id": "9eddb872",
   "metadata": {},
   "source": [
    "## Загрузка данных и проверка основной информации у анализированных данных\n",
    "- исследую пропущенные значения, дубликаты, соответствие типов, корректность наименование колонок."
   ]
  },
  {
   "cell_type": "markdown",
   "id": "6d47b9c3",
   "metadata": {},
   "source": [
    "## Предобработка данных \n",
    "- если будет необходимость в этом : удалю дубликаты, переменую колонки, заменю пропущенные значения итд"
   ]
  },
  {
   "cell_type": "markdown",
   "id": "55e54760",
   "metadata": {},
   "source": [
    "## Исследовательский анализ\n",
    "- Категоризирую основные данные\n",
    "- Проанализирую среднее значение признаков клиента\n",
    "- Изучу признаки сегментации по оттоку клиентов (визуализирую графики)\n",
    "- Проверрю корреляционный анализ (визуализирую график)\n",
    "- Изучу признаки сегментации по количеству услуг/продуктов (визуализирую графики)"
   ]
  },
  {
   "cell_type": "markdown",
   "id": "4101892e",
   "metadata": {},
   "source": [
    "## Проведу анализ кластеризации клиентов\n",
    "- Определю количество кластеров и разделю клиентов по данным кластерам"
   ]
  },
  {
   "cell_type": "markdown",
   "id": "3fd0217d",
   "metadata": {},
   "source": [
    "## Проверю гипотезу \n",
    "- различия дохода между теми клиентами, которые пользуются двумя продуктами банка, и теми, которые пользуются одним (визуализирую график)\n",
    "- по данным проведу статгипотезу и сформулирую ее"
   ]
  },
  {
   "cell_type": "markdown",
   "id": "f79be0df",
   "metadata": {},
   "source": [
    "## Напишу Вывод и напишу рекомендации"
   ]
  },
  {
   "cell_type": "markdown",
   "id": "8af45dbe",
   "metadata": {},
   "source": [
    "## Подготовлю презентацию и Дашборд №2"
   ]
  }
 ],
 "metadata": {
  "ExecuteTimeLog": [
   {
    "duration": 92,
    "start_time": "2022-06-25T14:18:18.966Z"
   },
   {
    "duration": 115,
    "start_time": "2022-06-25T14:25:10.983Z"
   },
   {
    "duration": 3,
    "start_time": "2022-06-25T14:26:05.495Z"
   },
   {
    "duration": 3,
    "start_time": "2022-06-25T14:31:23.807Z"
   },
   {
    "duration": 2,
    "start_time": "2022-06-25T14:32:24.288Z"
   }
  ],
  "kernelspec": {
   "display_name": "Python 3 (ipykernel)",
   "language": "python",
   "name": "python3"
  },
  "language_info": {
   "codemirror_mode": {
    "name": "ipython",
    "version": 3
   },
   "file_extension": ".py",
   "mimetype": "text/x-python",
   "name": "python",
   "nbconvert_exporter": "python",
   "pygments_lexer": "ipython3",
   "version": "3.9.5"
  },
  "toc": {
   "base_numbering": 1,
   "nav_menu": {},
   "number_sections": true,
   "sideBar": true,
   "skip_h1_title": true,
   "title_cell": "Table of Contents",
   "title_sidebar": "Contents",
   "toc_cell": false,
   "toc_position": {},
   "toc_section_display": true,
   "toc_window_display": false
  }
 },
 "nbformat": 4,
 "nbformat_minor": 5
}
