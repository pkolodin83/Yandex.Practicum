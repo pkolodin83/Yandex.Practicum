{
 "cells": [
  {
   "cell_type": "markdown",
   "metadata": {},
   "source": [
    "# Исследование надёжности заёмщиков\n",
    "\n",
    "Заказчик — кредитный отдел банка. Нужно разобраться, влияет ли семейное положение и количество детей клиента на факт погашения кредита в срок. Входные данные от банка — статистика о платёжеспособности клиентов.\n",
    "\n",
    "Результаты исследования будут учтены при построении модели **кредитного скоринга** — специальной системы, которая оценивает способность потенциального заёмщика вернуть кредит банку."
   ]
  },
  {
   "cell_type": "markdown",
   "metadata": {},
   "source": [
    "## Шаг 1. Откройте файл с данными и изучите общую информацию"
   ]
  },
  {
   "cell_type": "code",
   "execution_count": 1,
   "metadata": {},
   "outputs": [
    {
     "name": "stdout",
     "output_type": "stream",
     "text": [
      "<class 'pandas.core.frame.DataFrame'>\n",
      "RangeIndex: 21525 entries, 0 to 21524\n",
      "Data columns (total 12 columns):\n",
      " #   Column            Non-Null Count  Dtype  \n",
      "---  ------            --------------  -----  \n",
      " 0   children          21525 non-null  int64  \n",
      " 1   days_employed     19351 non-null  float64\n",
      " 2   dob_years         21525 non-null  int64  \n",
      " 3   education         21525 non-null  object \n",
      " 4   education_id      21525 non-null  int64  \n",
      " 5   family_status     21525 non-null  object \n",
      " 6   family_status_id  21525 non-null  int64  \n",
      " 7   gender            21525 non-null  object \n",
      " 8   income_type       21525 non-null  object \n",
      " 9   debt              21525 non-null  int64  \n",
      " 10  total_income      19351 non-null  float64\n",
      " 11  purpose           21525 non-null  object \n",
      "dtypes: float64(2), int64(5), object(5)\n",
      "memory usage: 2.0+ MB\n"
     ]
    }
   ],
   "source": [
    "import pandas as pd\n",
    "from pymystem3 import Mystem\n",
    "m = Mystem()\n",
    "df = pd.read_csv('/datasets/data.csv')\n",
    "df.info()"
   ]
  },
  {
   "cell_type": "code",
   "execution_count": 2,
   "metadata": {},
   "outputs": [
    {
     "data": {
      "text/plain": [
       " 0     14149\n",
       " 1      4818\n",
       " 2      2055\n",
       " 3       330\n",
       " 20       76\n",
       "-1        47\n",
       " 4        41\n",
       " 5         9\n",
       "Name: children, dtype: int64"
      ]
     },
     "execution_count": 2,
     "metadata": {},
     "output_type": "execute_result"
    }
   ],
   "source": [
    "df['children'].value_counts()"
   ]
  },
  {
   "cell_type": "code",
   "execution_count": 3,
   "metadata": {},
   "outputs": [
    {
     "data": {
      "text/plain": [
       "ВЫСШЕЕ                   274\n",
       "Высшее                   268\n",
       "НАЧАЛЬНОЕ                 17\n",
       "НЕОКОНЧЕННОЕ ВЫСШЕЕ       29\n",
       "Начальное                 15\n",
       "Неоконченное высшее       47\n",
       "СРЕДНЕЕ                  772\n",
       "Среднее                  711\n",
       "УЧЕНАЯ СТЕПЕНЬ             1\n",
       "Ученая степень             1\n",
       "высшее                  4718\n",
       "начальное                250\n",
       "неоконченное высшее      668\n",
       "среднее                13750\n",
       "ученая степень             4\n",
       "Name: education, dtype: int64"
      ]
     },
     "execution_count": 3,
     "metadata": {},
     "output_type": "execute_result"
    }
   ],
   "source": [
    "df['education'].value_counts().sort_index()"
   ]
  },
  {
   "cell_type": "code",
   "execution_count": 4,
   "metadata": {},
   "outputs": [
    {
     "data": {
      "text/plain": [
       "женат / замужем          12380\n",
       "гражданский брак          4177\n",
       "Не женат / не замужем     2813\n",
       "в разводе                 1195\n",
       "вдовец / вдова             960\n",
       "Name: family_status, dtype: int64"
      ]
     },
     "execution_count": 4,
     "metadata": {},
     "output_type": "execute_result"
    }
   ],
   "source": [
    "df['family_status'].value_counts()"
   ]
  },
  {
   "cell_type": "code",
   "execution_count": 5,
   "metadata": {},
   "outputs": [
    {
     "data": {
      "text/plain": [
       "женат / замужем          12380\n",
       "гражданский брак          4177\n",
       "Не женат / не замужем     2813\n",
       "в разводе                 1195\n",
       "вдовец / вдова             960\n",
       "Name: family_status, dtype: int64"
      ]
     },
     "execution_count": 5,
     "metadata": {},
     "output_type": "execute_result"
    }
   ],
   "source": [
    "df['family_status'].value_counts()"
   ]
  },
  {
   "cell_type": "markdown",
   "metadata": {},
   "source": [
    "**Вывод**\n",
    "\n",
    "<div class=\"alert alert-info\"> <b>Комментарий студента:</b>#подключил необходимые библитоеки и методом .info() вывел информацию о DataFrame ; # посчитал категории в столбце дети; # посчитал категории в столбце образование; #посчитал категории в столбце семейный статус\n",
    "# OFF TOP: плохо разбираюсь пока в ЮпитерХаб и его навигации, изначальый вариант тоже был с хэштегами и выводами, не могу понять почему файл самый первый на первую проверку отправлялся без выводов и хэштегов!</div>"
   ]
  },
  {
   "cell_type": "markdown",
   "metadata": {},
   "source": [
    "<div class=\"alert alert-info\"> <b>Комментарий студента:</b> а) методом info() увидел, что в DataFrame есть пустые значения б) в столбце children увидел отрицательные значения, странно что у некоторых семей по 20 детей, возможно это оишбки при вводе данных в)в столбце education, больше всего получили кредит люди имеющие среднее образование. В столбце проблемы с регистром надо перевести в нижний регистр г) в столбце family_status больше всего получили женатые. Так же нижний регистр необходим. д)в столбце purpose похожие цели по смыслу на получение кредита.</div>"
   ]
  },
  {
   "cell_type": "markdown",
   "metadata": {},
   "source": [
    "## Шаг 2. Предобработка данных"
   ]
  },
  {
   "cell_type": "markdown",
   "metadata": {},
   "source": [
    "### Обработка пропусков"
   ]
  },
  {
   "cell_type": "code",
   "execution_count": 6,
   "metadata": {},
   "outputs": [
    {
     "data": {
      "text/plain": [
       "children               0\n",
       "days_employed       2174\n",
       "dob_years              0\n",
       "education              0\n",
       "education_id           0\n",
       "family_status          0\n",
       "family_status_id       0\n",
       "gender                 0\n",
       "income_type            0\n",
       "debt                   0\n",
       "total_income        2174\n",
       "purpose                0\n",
       "dtype: int64"
      ]
     },
     "execution_count": 6,
     "metadata": {},
     "output_type": "execute_result"
    }
   ],
   "source": [
    "df.isnull().sum()"
   ]
  },
  {
   "cell_type": "code",
   "execution_count": 7,
   "metadata": {},
   "outputs": [],
   "source": [
    "df=df.fillna(0)"
   ]
  },
  {
   "cell_type": "code",
   "execution_count": 8,
   "metadata": {},
   "outputs": [
    {
     "data": {
      "text/plain": [
       "children            0\n",
       "days_employed       0\n",
       "dob_years           0\n",
       "education           0\n",
       "education_id        0\n",
       "family_status       0\n",
       "family_status_id    0\n",
       "gender              0\n",
       "income_type         0\n",
       "debt                0\n",
       "total_income        0\n",
       "purpose             0\n",
       "dtype: int64"
      ]
     },
     "execution_count": 8,
     "metadata": {},
     "output_type": "execute_result"
    }
   ],
   "source": [
    "df.isnull().sum()"
   ]
  },
  {
   "cell_type": "code",
   "execution_count": 9,
   "metadata": {},
   "outputs": [
    {
     "data": {
      "text/plain": [
       "0     14149\n",
       "1      4818\n",
       "2      2055\n",
       "3       330\n",
       "20       76\n",
       "4        41\n",
       "5         9\n",
       "Name: children, dtype: int64"
      ]
     },
     "execution_count": 9,
     "metadata": {},
     "output_type": "execute_result"
    }
   ],
   "source": [
    "df = df[(df['children'] >= 0) & (df['children'] <= 20)]\n",
    "df['children'].value_counts() "
   ]
  },
  {
   "cell_type": "code",
   "execution_count": 10,
   "metadata": {},
   "outputs": [
    {
     "name": "stdout",
     "output_type": "stream",
     "text": [
      "<class 'pandas.core.frame.DataFrame'>\n",
      "Int64Index: 21478 entries, 0 to 21524\n",
      "Data columns (total 12 columns):\n",
      " #   Column            Non-Null Count  Dtype  \n",
      "---  ------            --------------  -----  \n",
      " 0   children          21478 non-null  int64  \n",
      " 1   days_employed     21478 non-null  float64\n",
      " 2   dob_years         21478 non-null  int64  \n",
      " 3   education         21478 non-null  object \n",
      " 4   education_id      21478 non-null  int64  \n",
      " 5   family_status     21478 non-null  object \n",
      " 6   family_status_id  21478 non-null  int64  \n",
      " 7   gender            21478 non-null  object \n",
      " 8   income_type       21478 non-null  object \n",
      " 9   debt              21478 non-null  int64  \n",
      " 10  total_income      21478 non-null  float64\n",
      " 11  purpose           21478 non-null  object \n",
      "dtypes: float64(2), int64(5), object(5)\n",
      "memory usage: 2.1+ MB\n"
     ]
    }
   ],
   "source": [
    "df.info()"
   ]
  },
  {
   "cell_type": "markdown",
   "metadata": {},
   "source": [
    "**Вывод**\n",
    "<div class=\"alert alert-info\"> <b>Комментарий студента:</b> #проверил DataFrame на пустые значения; # заменил пустые значение на 0; # еще раз проверил DataFrame на пустые значения; # у детей надо убрать, отрицательные значения; # проверил, ушли отрицательные значения; # проверил на пустые значения<div>"
   ]
  },
  {
   "cell_type": "markdown",
   "metadata": {},
   "source": [
    "<div class=\"alert alert-info\"> <b>Комментарий студента:</b> а) Были пустые значения в столбцах: 1)days_employed, 2)total_income. б) Методом fillna() заполнил нулем все пустые значения </div>"
   ]
  },
  {
   "cell_type": "markdown",
   "metadata": {},
   "source": [
    "### Замена типа данных"
   ]
  },
  {
   "cell_type": "code",
   "execution_count": 11,
   "metadata": {},
   "outputs": [
    {
     "data": {
      "text/plain": [
       "женат / замужем          12351\n",
       "гражданский брак          4172\n",
       "не женат / не замужем     2808\n",
       "в разводе                 1191\n",
       "вдовец / вдова             956\n",
       "Name: family_status, dtype: int64"
      ]
     },
     "execution_count": 11,
     "metadata": {},
     "output_type": "execute_result"
    }
   ],
   "source": [
    " df['education']=df['education'].str.lower()\n",
    "df['family_status']=df['family_status'].str.lower()\n",
    "df['family_status'].value_counts()"
   ]
  },
  {
   "cell_type": "code",
   "execution_count": 12,
   "metadata": {},
   "outputs": [
    {
     "data": {
      "text/plain": [
       "среднее                15196\n",
       "высшее                  5251\n",
       "неоконченное высшее      743\n",
       "начальное                282\n",
       "ученая степень             6\n",
       "Name: education, dtype: int64"
      ]
     },
     "execution_count": 12,
     "metadata": {},
     "output_type": "execute_result"
    }
   ],
   "source": [
    "df['education'].value_counts()"
   ]
  },
  {
   "cell_type": "code",
   "execution_count": 13,
   "metadata": {},
   "outputs": [],
   "source": [
    "df['days_employed'] = df['days_employed'].astype(int)\n",
    "df['total_income'] = df['total_income'].astype(int)"
   ]
  },
  {
   "cell_type": "code",
   "execution_count": 14,
   "metadata": {},
   "outputs": [
    {
     "name": "stdout",
     "output_type": "stream",
     "text": [
      "<class 'pandas.core.frame.DataFrame'>\n",
      "Int64Index: 21478 entries, 0 to 21524\n",
      "Data columns (total 12 columns):\n",
      " #   Column            Non-Null Count  Dtype \n",
      "---  ------            --------------  ----- \n",
      " 0   children          21478 non-null  int64 \n",
      " 1   days_employed     21478 non-null  int64 \n",
      " 2   dob_years         21478 non-null  int64 \n",
      " 3   education         21478 non-null  object\n",
      " 4   education_id      21478 non-null  int64 \n",
      " 5   family_status     21478 non-null  object\n",
      " 6   family_status_id  21478 non-null  int64 \n",
      " 7   gender            21478 non-null  object\n",
      " 8   income_type       21478 non-null  object\n",
      " 9   debt              21478 non-null  int64 \n",
      " 10  total_income      21478 non-null  int64 \n",
      " 11  purpose           21478 non-null  object\n",
      "dtypes: int64(7), object(5)\n",
      "memory usage: 2.1+ MB\n"
     ]
    }
   ],
   "source": [
    "df.info()"
   ]
  },
  {
   "cell_type": "markdown",
   "metadata": {},
   "source": [
    "**Вывод**\n",
    "<div class=\"alert alert-info\"> <b>Комментарий студента:</b> #нижний регистр; #нижний регистр; #методом astype(int) изменил тип данных на int ; #методом astype(int) изменил тип данных на int; #проверил изменение типа данных;</div>"
   ]
  },
  {
   "cell_type": "markdown",
   "metadata": {},
   "source": [
    "<div class=\"alert alert-info\"> <b>Комментарий студента:</b>а) перевел в нижний регистр столбец education. family_status б)методом astype(int) изменил у столбцов days_employed, total_income c float на int </div>"
   ]
  },
  {
   "cell_type": "markdown",
   "metadata": {},
   "source": [
    "### Обработка дубликатов"
   ]
  },
  {
   "cell_type": "code",
   "execution_count": 15,
   "metadata": {},
   "outputs": [
    {
     "data": {
      "text/plain": [
       "71"
      ]
     },
     "execution_count": 15,
     "metadata": {},
     "output_type": "execute_result"
    }
   ],
   "source": [
    "df.duplicated().sum()"
   ]
  },
  {
   "cell_type": "code",
   "execution_count": 16,
   "metadata": {},
   "outputs": [],
   "source": [
    "df = df.drop_duplicates().reset_index(drop=True)"
   ]
  },
  {
   "cell_type": "code",
   "execution_count": 17,
   "metadata": {},
   "outputs": [
    {
     "data": {
      "text/plain": [
       "0"
      ]
     },
     "execution_count": 17,
     "metadata": {},
     "output_type": "execute_result"
    }
   ],
   "source": [
    "df.duplicated().sum()"
   ]
  },
  {
   "cell_type": "code",
   "execution_count": 18,
   "metadata": {
    "scrolled": true
   },
   "outputs": [
    {
     "data": {
      "text/plain": [
       "автомобили                                477\n",
       "автомобиль                                492\n",
       "высшее образование                        451\n",
       "дополнительное образование                458\n",
       "жилье                                     645\n",
       "заняться высшим образованием              496\n",
       "заняться образованием                     408\n",
       "на покупку автомобиля                     470\n",
       "на покупку подержанного автомобиля        477\n",
       "на покупку своего автомобиля              504\n",
       "на проведение свадьбы                     767\n",
       "недвижимость                              632\n",
       "образование                               444\n",
       "операции с жильем                         651\n",
       "операции с коммерческой недвижимостью     649\n",
       "операции с недвижимостью                  673\n",
       "операции со своей недвижимостью           624\n",
       "покупка жилой недвижимости                604\n",
       "покупка жилья                             643\n",
       "покупка жилья для сдачи                   650\n",
       "покупка жилья для семьи                   638\n",
       "покупка коммерческой недвижимости         661\n",
       "покупка недвижимости                      618\n",
       "покупка своего жилья                      619\n",
       "получение высшего образования             426\n",
       "получение дополнительного образования     445\n",
       "получение образования                     441\n",
       "приобретение автомобиля                   459\n",
       "профильное образование                    434\n",
       "ремонт жилью                              606\n",
       "свадьба                                   791\n",
       "свой автомобиль                           476\n",
       "сделка с автомобилем                      455\n",
       "сделка с подержанным автомобилем          485\n",
       "строительство жилой недвижимости          621\n",
       "строительство недвижимости                619\n",
       "строительство собственной недвижимости    634\n",
       "сыграть свадьбу                           764\n",
       "Name: purpose, dtype: int64"
      ]
     },
     "execution_count": 18,
     "metadata": {},
     "output_type": "execute_result"
    }
   ],
   "source": [
    "df['purpose'].value_counts().sort_index()"
   ]
  },
  {
   "cell_type": "markdown",
   "metadata": {},
   "source": [
    "**Вывод**\n",
    "<div class=\"alert alert-info\"> <b>Комментарий студента:</b>#проверил наличие дубликатов; #удалил дубликаты; #еще раз проверил; # в ручном поиске проверил наличие дубликатов в стоблбце purpose </div>"
   ]
  },
  {
   "cell_type": "markdown",
   "metadata": {},
   "source": [
    "<div class=\"alert alert-info\"> <b>Комментарий студента:</b>а) методом duplicates() нашел дубликаты в DataFrame б) Удалил дубликаты в) ручным поиском дубликатов нашел одинаковые по смыслу цели, их надо перевести к одной категории </div>"
   ]
  },
  {
   "cell_type": "markdown",
   "metadata": {},
   "source": [
    "### Лемматизация"
   ]
  },
  {
   "cell_type": "code",
   "execution_count": 19,
   "metadata": {},
   "outputs": [],
   "source": [
    "def purpose_lemma(row):\n",
    "    lemmas = m.lemmatize(row)\n",
    "    for word in lemmas:\n",
    "        try:\n",
    "            if 'свадьба' in word:\n",
    "                return 'свадьба'\n",
    "        \n",
    "            if 'недвижимость' in word:\n",
    "                return 'недвижимость'\n",
    "        \n",
    "            if 'жилье' in word:\n",
    "                return 'недвижимость'\n",
    "        \n",
    "            if 'автомобиль' in word:\n",
    "                return 'автомобиль'\n",
    "        \n",
    "            if 'образование' in word:\n",
    "                return 'образование'\n",
    "            \n",
    "        except:\n",
    "            print('Error in lemmatization')"
   ]
  },
  {
   "cell_type": "code",
   "execution_count": 20,
   "metadata": {},
   "outputs": [],
   "source": [
    "df['grouped_purpose'] = df['purpose'].apply(purpose_lemma)"
   ]
  },
  {
   "cell_type": "code",
   "execution_count": 21,
   "metadata": {},
   "outputs": [
    {
     "data": {
      "text/plain": [
       "недвижимость    10787\n",
       "автомобиль       4295\n",
       "образование      4003\n",
       "свадьба          2322\n",
       "Name: grouped_purpose, dtype: int64"
      ]
     },
     "execution_count": 21,
     "metadata": {},
     "output_type": "execute_result"
    }
   ],
   "source": [
    "df['grouped_purpose'].value_counts()"
   ]
  },
  {
   "cell_type": "markdown",
   "metadata": {},
   "source": [
    "**Вывод**\n",
    "<div class=\"alert alert-info\"> <b>Комментарий студента:</b> #добавил в толбце данные по категориям; # проверил категории </div>"
   ]
  },
  {
   "cell_type": "markdown",
   "metadata": {},
   "source": [
    "<div class=\"alert alert-info\"> <b>Комментарий студента:</b> а) определил цели по четырем категориям: свадьба, автомобиль недвижимость, образование </div>"
   ]
  },
  {
   "cell_type": "markdown",
   "metadata": {},
   "source": [
    "### Категоризация данных"
   ]
  },
  {
   "cell_type": "code",
   "execution_count": 22,
   "metadata": {},
   "outputs": [
    {
     "data": {
      "text/plain": [
       "135760.0"
      ]
     },
     "execution_count": 22,
     "metadata": {},
     "output_type": "execute_result"
    }
   ],
   "source": [
    "total_income_median = df['total_income'].median() \n",
    "total_income_median"
   ]
  },
  {
   "cell_type": "code",
   "execution_count": 23,
   "metadata": {},
   "outputs": [],
   "source": [
    "def group_total_income(total_income):\n",
    "    if total_income < 37900:\n",
    "        return 'низкий доход'\n",
    "    if 37900 < total_income < total_income_median:\n",
    "        return 'средний доход'\n",
    "    if  total_income_median < total_income < 200000:\n",
    "        return 'доход выше среднего'\n",
    "    else:\n",
    "        return 'высокий доход'"
   ]
  },
  {
   "cell_type": "code",
   "execution_count": 24,
   "metadata": {},
   "outputs": [],
   "source": [
    "df['grouped_total_income'] = df['total_income'].apply(group_total_income)"
   ]
  },
  {
   "cell_type": "code",
   "execution_count": 25,
   "metadata": {},
   "outputs": [
    {
     "data": {
      "text/plain": [
       "средний доход          8508\n",
       "доход выше среднего    5645\n",
       "высокий доход          5059\n",
       "низкий доход           2195\n",
       "Name: grouped_total_income, dtype: int64"
      ]
     },
     "execution_count": 25,
     "metadata": {},
     "output_type": "execute_result"
    }
   ],
   "source": [
    "df['grouped_total_income'].value_counts()"
   ]
  },
  {
   "cell_type": "code",
   "execution_count": 26,
   "metadata": {
    "scrolled": true
   },
   "outputs": [
    {
     "data": {
      "text/html": [
       "<div>\n",
       "<style scoped>\n",
       "    .dataframe tbody tr th:only-of-type {\n",
       "        vertical-align: middle;\n",
       "    }\n",
       "\n",
       "    .dataframe tbody tr th {\n",
       "        vertical-align: top;\n",
       "    }\n",
       "\n",
       "    .dataframe thead th {\n",
       "        text-align: right;\n",
       "    }\n",
       "</style>\n",
       "<table border=\"1\" class=\"dataframe\">\n",
       "  <thead>\n",
       "    <tr style=\"text-align: right;\">\n",
       "      <th></th>\n",
       "      <th>children</th>\n",
       "      <th>days_employed</th>\n",
       "      <th>dob_years</th>\n",
       "      <th>education</th>\n",
       "      <th>education_id</th>\n",
       "      <th>family_status</th>\n",
       "      <th>family_status_id</th>\n",
       "      <th>gender</th>\n",
       "      <th>income_type</th>\n",
       "      <th>debt</th>\n",
       "      <th>total_income</th>\n",
       "      <th>purpose</th>\n",
       "      <th>grouped_purpose</th>\n",
       "      <th>grouped_total_income</th>\n",
       "    </tr>\n",
       "  </thead>\n",
       "  <tbody>\n",
       "    <tr>\n",
       "      <th>0</th>\n",
       "      <td>1</td>\n",
       "      <td>-8437</td>\n",
       "      <td>42</td>\n",
       "      <td>высшее</td>\n",
       "      <td>0</td>\n",
       "      <td>женат / замужем</td>\n",
       "      <td>0</td>\n",
       "      <td>F</td>\n",
       "      <td>сотрудник</td>\n",
       "      <td>0</td>\n",
       "      <td>253875</td>\n",
       "      <td>покупка жилья</td>\n",
       "      <td>недвижимость</td>\n",
       "      <td>высокий доход</td>\n",
       "    </tr>\n",
       "    <tr>\n",
       "      <th>1</th>\n",
       "      <td>1</td>\n",
       "      <td>-4024</td>\n",
       "      <td>36</td>\n",
       "      <td>среднее</td>\n",
       "      <td>1</td>\n",
       "      <td>женат / замужем</td>\n",
       "      <td>0</td>\n",
       "      <td>F</td>\n",
       "      <td>сотрудник</td>\n",
       "      <td>0</td>\n",
       "      <td>112080</td>\n",
       "      <td>приобретение автомобиля</td>\n",
       "      <td>автомобиль</td>\n",
       "      <td>средний доход</td>\n",
       "    </tr>\n",
       "    <tr>\n",
       "      <th>2</th>\n",
       "      <td>0</td>\n",
       "      <td>-5623</td>\n",
       "      <td>33</td>\n",
       "      <td>среднее</td>\n",
       "      <td>1</td>\n",
       "      <td>женат / замужем</td>\n",
       "      <td>0</td>\n",
       "      <td>M</td>\n",
       "      <td>сотрудник</td>\n",
       "      <td>0</td>\n",
       "      <td>145885</td>\n",
       "      <td>покупка жилья</td>\n",
       "      <td>недвижимость</td>\n",
       "      <td>доход выше среднего</td>\n",
       "    </tr>\n",
       "    <tr>\n",
       "      <th>3</th>\n",
       "      <td>3</td>\n",
       "      <td>-4124</td>\n",
       "      <td>32</td>\n",
       "      <td>среднее</td>\n",
       "      <td>1</td>\n",
       "      <td>женат / замужем</td>\n",
       "      <td>0</td>\n",
       "      <td>M</td>\n",
       "      <td>сотрудник</td>\n",
       "      <td>0</td>\n",
       "      <td>267628</td>\n",
       "      <td>дополнительное образование</td>\n",
       "      <td>образование</td>\n",
       "      <td>высокий доход</td>\n",
       "    </tr>\n",
       "    <tr>\n",
       "      <th>4</th>\n",
       "      <td>0</td>\n",
       "      <td>340266</td>\n",
       "      <td>53</td>\n",
       "      <td>среднее</td>\n",
       "      <td>1</td>\n",
       "      <td>гражданский брак</td>\n",
       "      <td>1</td>\n",
       "      <td>F</td>\n",
       "      <td>пенсионер</td>\n",
       "      <td>0</td>\n",
       "      <td>158616</td>\n",
       "      <td>сыграть свадьбу</td>\n",
       "      <td>свадьба</td>\n",
       "      <td>доход выше среднего</td>\n",
       "    </tr>\n",
       "    <tr>\n",
       "      <th>5</th>\n",
       "      <td>0</td>\n",
       "      <td>-926</td>\n",
       "      <td>27</td>\n",
       "      <td>высшее</td>\n",
       "      <td>0</td>\n",
       "      <td>гражданский брак</td>\n",
       "      <td>1</td>\n",
       "      <td>M</td>\n",
       "      <td>компаньон</td>\n",
       "      <td>0</td>\n",
       "      <td>255763</td>\n",
       "      <td>покупка жилья</td>\n",
       "      <td>недвижимость</td>\n",
       "      <td>высокий доход</td>\n",
       "    </tr>\n",
       "    <tr>\n",
       "      <th>6</th>\n",
       "      <td>0</td>\n",
       "      <td>-2879</td>\n",
       "      <td>43</td>\n",
       "      <td>высшее</td>\n",
       "      <td>0</td>\n",
       "      <td>женат / замужем</td>\n",
       "      <td>0</td>\n",
       "      <td>F</td>\n",
       "      <td>компаньон</td>\n",
       "      <td>0</td>\n",
       "      <td>240525</td>\n",
       "      <td>операции с жильем</td>\n",
       "      <td>недвижимость</td>\n",
       "      <td>высокий доход</td>\n",
       "    </tr>\n",
       "    <tr>\n",
       "      <th>7</th>\n",
       "      <td>0</td>\n",
       "      <td>-152</td>\n",
       "      <td>50</td>\n",
       "      <td>среднее</td>\n",
       "      <td>1</td>\n",
       "      <td>женат / замужем</td>\n",
       "      <td>0</td>\n",
       "      <td>M</td>\n",
       "      <td>сотрудник</td>\n",
       "      <td>0</td>\n",
       "      <td>135823</td>\n",
       "      <td>образование</td>\n",
       "      <td>образование</td>\n",
       "      <td>доход выше среднего</td>\n",
       "    </tr>\n",
       "    <tr>\n",
       "      <th>8</th>\n",
       "      <td>2</td>\n",
       "      <td>-6929</td>\n",
       "      <td>35</td>\n",
       "      <td>высшее</td>\n",
       "      <td>0</td>\n",
       "      <td>гражданский брак</td>\n",
       "      <td>1</td>\n",
       "      <td>F</td>\n",
       "      <td>сотрудник</td>\n",
       "      <td>0</td>\n",
       "      <td>95856</td>\n",
       "      <td>на проведение свадьбы</td>\n",
       "      <td>свадьба</td>\n",
       "      <td>средний доход</td>\n",
       "    </tr>\n",
       "    <tr>\n",
       "      <th>9</th>\n",
       "      <td>0</td>\n",
       "      <td>-2188</td>\n",
       "      <td>41</td>\n",
       "      <td>среднее</td>\n",
       "      <td>1</td>\n",
       "      <td>женат / замужем</td>\n",
       "      <td>0</td>\n",
       "      <td>M</td>\n",
       "      <td>сотрудник</td>\n",
       "      <td>0</td>\n",
       "      <td>144425</td>\n",
       "      <td>покупка жилья для семьи</td>\n",
       "      <td>недвижимость</td>\n",
       "      <td>доход выше среднего</td>\n",
       "    </tr>\n",
       "  </tbody>\n",
       "</table>\n",
       "</div>"
      ],
      "text/plain": [
       "   children  days_employed  dob_years education  education_id  \\\n",
       "0         1          -8437         42    высшее             0   \n",
       "1         1          -4024         36   среднее             1   \n",
       "2         0          -5623         33   среднее             1   \n",
       "3         3          -4124         32   среднее             1   \n",
       "4         0         340266         53   среднее             1   \n",
       "5         0           -926         27    высшее             0   \n",
       "6         0          -2879         43    высшее             0   \n",
       "7         0           -152         50   среднее             1   \n",
       "8         2          -6929         35    высшее             0   \n",
       "9         0          -2188         41   среднее             1   \n",
       "\n",
       "      family_status  family_status_id gender income_type  debt  total_income  \\\n",
       "0   женат / замужем                 0      F   сотрудник     0        253875   \n",
       "1   женат / замужем                 0      F   сотрудник     0        112080   \n",
       "2   женат / замужем                 0      M   сотрудник     0        145885   \n",
       "3   женат / замужем                 0      M   сотрудник     0        267628   \n",
       "4  гражданский брак                 1      F   пенсионер     0        158616   \n",
       "5  гражданский брак                 1      M   компаньон     0        255763   \n",
       "6   женат / замужем                 0      F   компаньон     0        240525   \n",
       "7   женат / замужем                 0      M   сотрудник     0        135823   \n",
       "8  гражданский брак                 1      F   сотрудник     0         95856   \n",
       "9   женат / замужем                 0      M   сотрудник     0        144425   \n",
       "\n",
       "                      purpose grouped_purpose grouped_total_income  \n",
       "0               покупка жилья    недвижимость        высокий доход  \n",
       "1     приобретение автомобиля      автомобиль        средний доход  \n",
       "2               покупка жилья    недвижимость  доход выше среднего  \n",
       "3  дополнительное образование     образование        высокий доход  \n",
       "4             сыграть свадьбу         свадьба  доход выше среднего  \n",
       "5               покупка жилья    недвижимость        высокий доход  \n",
       "6           операции с жильем    недвижимость        высокий доход  \n",
       "7                 образование     образование  доход выше среднего  \n",
       "8       на проведение свадьбы         свадьба        средний доход  \n",
       "9     покупка жилья для семьи    недвижимость  доход выше среднего  "
      ]
     },
     "execution_count": 26,
     "metadata": {},
     "output_type": "execute_result"
    }
   ],
   "source": [
    "df.head(10)"
   ]
  },
  {
   "cell_type": "markdown",
   "metadata": {},
   "source": [
    "**Вывод** <div class=\"alert alert-info\"> <b>Комментарий студента:</b> # в total_income_median назначил медиану total_income; #написал функцию для распределения total_income по категориям с ипользованием медианы, инфу зарплаты взял предположительную </div>"
   ]
  },
  {
   "cell_type": "markdown",
   "metadata": {},
   "source": [
    "<div class=\"alert alert-info\"> <b>Комментарий студента:</b> а) Медиану по столбцу total_income для использования категоризации по зарплатам б) group_total_income по столбцу total_income в) с помощью apply применил функцию к столбцу </div>"
   ]
  },
  {
   "cell_type": "markdown",
   "metadata": {},
   "source": [
    "## Шаг 3. Ответьте на вопросы"
   ]
  },
  {
   "cell_type": "markdown",
   "metadata": {},
   "source": [
    "- Есть ли зависимость между наличием детей и возвратом кредита в срок?"
   ]
  },
  {
   "cell_type": "code",
   "execution_count": 27,
   "metadata": {},
   "outputs": [
    {
     "data": {
      "text/html": [
       "<div>\n",
       "<style scoped>\n",
       "    .dataframe tbody tr th:only-of-type {\n",
       "        vertical-align: middle;\n",
       "    }\n",
       "\n",
       "    .dataframe tbody tr th {\n",
       "        vertical-align: top;\n",
       "    }\n",
       "\n",
       "    .dataframe thead th {\n",
       "        text-align: right;\n",
       "    }\n",
       "</style>\n",
       "<table border=\"1\" class=\"dataframe\">\n",
       "  <thead>\n",
       "    <tr style=\"text-align: right;\">\n",
       "      <th></th>\n",
       "      <th>debt</th>\n",
       "    </tr>\n",
       "    <tr>\n",
       "      <th>children</th>\n",
       "      <th></th>\n",
       "    </tr>\n",
       "  </thead>\n",
       "  <tbody>\n",
       "    <tr>\n",
       "      <th>0</th>\n",
       "      <td>0.075438</td>\n",
       "    </tr>\n",
       "    <tr>\n",
       "      <th>1</th>\n",
       "      <td>0.092346</td>\n",
       "    </tr>\n",
       "    <tr>\n",
       "      <th>2</th>\n",
       "      <td>0.094542</td>\n",
       "    </tr>\n",
       "    <tr>\n",
       "      <th>3</th>\n",
       "      <td>0.081818</td>\n",
       "    </tr>\n",
       "    <tr>\n",
       "      <th>4</th>\n",
       "      <td>0.097561</td>\n",
       "    </tr>\n",
       "    <tr>\n",
       "      <th>5</th>\n",
       "      <td>0.000000</td>\n",
       "    </tr>\n",
       "    <tr>\n",
       "      <th>20</th>\n",
       "      <td>0.105263</td>\n",
       "    </tr>\n",
       "  </tbody>\n",
       "</table>\n",
       "</div>"
      ],
      "text/plain": [
       "              debt\n",
       "children          \n",
       "0         0.075438\n",
       "1         0.092346\n",
       "2         0.094542\n",
       "3         0.081818\n",
       "4         0.097561\n",
       "5         0.000000\n",
       "20        0.105263"
      ]
     },
     "execution_count": 27,
     "metadata": {},
     "output_type": "execute_result"
    }
   ],
   "source": [
    "pd.pivot_table(df, index='children', values='debt')"
   ]
  },
  {
   "cell_type": "markdown",
   "metadata": {},
   "source": [
    "**Вывод**"
   ]
  },
  {
   "cell_type": "markdown",
   "metadata": {},
   "source": [
    "<div class=\"alert alert-info\"> <b>Комментарий студента:</b> Бездетные кредиторы чаще закрывают ккредиты , чем кредиторы с детьми. </div>"
   ]
  },
  {
   "cell_type": "markdown",
   "metadata": {},
   "source": [
    "- Есть ли зависимость между семейным положением и возвратом кредита в срок?"
   ]
  },
  {
   "cell_type": "code",
   "execution_count": 28,
   "metadata": {},
   "outputs": [
    {
     "data": {
      "text/html": [
       "<div>\n",
       "<style scoped>\n",
       "    .dataframe tbody tr th:only-of-type {\n",
       "        vertical-align: middle;\n",
       "    }\n",
       "\n",
       "    .dataframe tbody tr th {\n",
       "        vertical-align: top;\n",
       "    }\n",
       "\n",
       "    .dataframe thead th {\n",
       "        text-align: right;\n",
       "    }\n",
       "</style>\n",
       "<table border=\"1\" class=\"dataframe\">\n",
       "  <thead>\n",
       "    <tr style=\"text-align: right;\">\n",
       "      <th></th>\n",
       "      <th>debt</th>\n",
       "    </tr>\n",
       "    <tr>\n",
       "      <th>children</th>\n",
       "      <th></th>\n",
       "    </tr>\n",
       "  </thead>\n",
       "  <tbody>\n",
       "    <tr>\n",
       "      <th>0</th>\n",
       "      <td>0.075438</td>\n",
       "    </tr>\n",
       "    <tr>\n",
       "      <th>1</th>\n",
       "      <td>0.092346</td>\n",
       "    </tr>\n",
       "    <tr>\n",
       "      <th>2</th>\n",
       "      <td>0.094542</td>\n",
       "    </tr>\n",
       "    <tr>\n",
       "      <th>3</th>\n",
       "      <td>0.081818</td>\n",
       "    </tr>\n",
       "    <tr>\n",
       "      <th>4</th>\n",
       "      <td>0.097561</td>\n",
       "    </tr>\n",
       "    <tr>\n",
       "      <th>5</th>\n",
       "      <td>0.000000</td>\n",
       "    </tr>\n",
       "    <tr>\n",
       "      <th>20</th>\n",
       "      <td>0.105263</td>\n",
       "    </tr>\n",
       "  </tbody>\n",
       "</table>\n",
       "</div>"
      ],
      "text/plain": [
       "              debt\n",
       "children          \n",
       "0         0.075438\n",
       "1         0.092346\n",
       "2         0.094542\n",
       "3         0.081818\n",
       "4         0.097561\n",
       "5         0.000000\n",
       "20        0.105263"
      ]
     },
     "execution_count": 28,
     "metadata": {},
     "output_type": "execute_result"
    }
   ],
   "source": [
    "pd.pivot_table(df, index='children', values='debt')"
   ]
  },
  {
   "cell_type": "markdown",
   "metadata": {},
   "source": [
    "**Вывод**"
   ]
  },
  {
   "cell_type": "markdown",
   "metadata": {},
   "source": [
    "<div class=\"alert alert-info\"> <b>Комментарий студента:</b> Семейное положение влияет на вовремя погашеные кредиты. а) вдовец/вдова чаще вовремя погашают кредиты чем остальные б) следующие в разводе в) Чаще задолженность у не жинатых / не замужем </div>"
   ]
  },
  {
   "cell_type": "markdown",
   "metadata": {},
   "source": [
    "- Есть ли зависимость между уровнем дохода и возвратом кредита в срок?"
   ]
  },
  {
   "cell_type": "code",
   "execution_count": 29,
   "metadata": {},
   "outputs": [
    {
     "data": {
      "text/html": [
       "<div>\n",
       "<style scoped>\n",
       "    .dataframe tbody tr th:only-of-type {\n",
       "        vertical-align: middle;\n",
       "    }\n",
       "\n",
       "    .dataframe tbody tr th {\n",
       "        vertical-align: top;\n",
       "    }\n",
       "\n",
       "    .dataframe thead th {\n",
       "        text-align: right;\n",
       "    }\n",
       "</style>\n",
       "<table border=\"1\" class=\"dataframe\">\n",
       "  <thead>\n",
       "    <tr style=\"text-align: right;\">\n",
       "      <th></th>\n",
       "      <th>debt</th>\n",
       "    </tr>\n",
       "    <tr>\n",
       "      <th>grouped_total_income</th>\n",
       "      <th></th>\n",
       "    </tr>\n",
       "  </thead>\n",
       "  <tbody>\n",
       "    <tr>\n",
       "      <th>высокий доход</th>\n",
       "      <td>0.070765</td>\n",
       "    </tr>\n",
       "    <tr>\n",
       "      <th>низкий доход</th>\n",
       "      <td>0.079727</td>\n",
       "    </tr>\n",
       "    <tr>\n",
       "      <th>средний доход</th>\n",
       "      <td>0.082393</td>\n",
       "    </tr>\n",
       "    <tr>\n",
       "      <th>доход выше среднего</th>\n",
       "      <td>0.089637</td>\n",
       "    </tr>\n",
       "  </tbody>\n",
       "</table>\n",
       "</div>"
      ],
      "text/plain": [
       "                          debt\n",
       "grouped_total_income          \n",
       "высокий доход         0.070765\n",
       "низкий доход          0.079727\n",
       "средний доход         0.082393\n",
       "доход выше среднего   0.089637"
      ]
     },
     "execution_count": 29,
     "metadata": {},
     "output_type": "execute_result"
    }
   ],
   "source": [
    "pd.pivot_table(df,index='grouped_total_income', values='debt').sort_values(by='debt',ascending=True)"
   ]
  },
  {
   "cell_type": "markdown",
   "metadata": {},
   "source": [
    "**Вывод**"
   ]
  },
  {
   "cell_type": "markdown",
   "metadata": {},
   "source": [
    "<div class=\"alert alert-info\"> <b>Комментарий студента:</b>Лучше кредитная история у людей с высоким доходом чем у остальных</div>"
   ]
  },
  {
   "cell_type": "markdown",
   "metadata": {},
   "source": [
    "- Как разные цели кредита влияют на его возврат в срок?"
   ]
  },
  {
   "cell_type": "code",
   "execution_count": 30,
   "metadata": {},
   "outputs": [
    {
     "data": {
      "text/html": [
       "<div>\n",
       "<style scoped>\n",
       "    .dataframe tbody tr th:only-of-type {\n",
       "        vertical-align: middle;\n",
       "    }\n",
       "\n",
       "    .dataframe tbody tr th {\n",
       "        vertical-align: top;\n",
       "    }\n",
       "\n",
       "    .dataframe thead th {\n",
       "        text-align: right;\n",
       "    }\n",
       "</style>\n",
       "<table border=\"1\" class=\"dataframe\">\n",
       "  <thead>\n",
       "    <tr style=\"text-align: right;\">\n",
       "      <th></th>\n",
       "      <th>debt</th>\n",
       "    </tr>\n",
       "    <tr>\n",
       "      <th>grouped_purpose</th>\n",
       "      <th></th>\n",
       "    </tr>\n",
       "  </thead>\n",
       "  <tbody>\n",
       "    <tr>\n",
       "      <th>недвижимость</th>\n",
       "      <td>0.072495</td>\n",
       "    </tr>\n",
       "    <tr>\n",
       "      <th>свадьба</th>\n",
       "      <td>0.080103</td>\n",
       "    </tr>\n",
       "    <tr>\n",
       "      <th>образование</th>\n",
       "      <td>0.092431</td>\n",
       "    </tr>\n",
       "    <tr>\n",
       "      <th>автомобиль</th>\n",
       "      <td>0.093597</td>\n",
       "    </tr>\n",
       "  </tbody>\n",
       "</table>\n",
       "</div>"
      ],
      "text/plain": [
       "                     debt\n",
       "grouped_purpose          \n",
       "недвижимость     0.072495\n",
       "свадьба          0.080103\n",
       "образование      0.092431\n",
       "автомобиль       0.093597"
      ]
     },
     "execution_count": 30,
     "metadata": {},
     "output_type": "execute_result"
    }
   ],
   "source": [
    "pd.pivot_table(df, index='grouped_purpose', values='debt').sort_values(by='debt',ascending=True)"
   ]
  },
  {
   "cell_type": "markdown",
   "metadata": {},
   "source": [
    "**Вывод**"
   ]
  },
  {
   "cell_type": "markdown",
   "metadata": {},
   "source": [
    "<div class=\"alert alert-info\"> <b>Комментарий студента:</b> Кредиты на недвижимость чаще погашают чем на другие целиКредиты на недвижимость чаще погашают чем на другие цели </div>"
   ]
  },
  {
   "cell_type": "markdown",
   "metadata": {},
   "source": [
    "## Шаг 4. Общий вывод"
   ]
  },
  {
   "cell_type": "markdown",
   "metadata": {},
   "source": [
    "<div class=\"alert alert-info\"> <b>Комментарий студента:</b> а)Семейное положение и наличие детей влияет на акт погашения в нужный срок б) В браке имеют меньше задолженности чем не женатые в)По наличию детей( у кого есть дети и у кого их нет) разница небольшая , она есть , но она небольшая </div>"
   ]
  },
  {
   "cell_type": "markdown",
   "metadata": {},
   "source": [
    "## Чек-лист готовности проекта\n",
    "\n",
    "Поставьте 'x' в выполненных пунктах. Далее нажмите Shift+Enter."
   ]
  },
  {
   "cell_type": "markdown",
   "metadata": {},
   "source": [
    "- [x]  открыт файл;\n",
    "- [x]  файл изучен;\n",
    "- [x]  определены пропущенные значения;\n",
    "- [x]  заполнены пропущенные значения;\n",
    "- [x]  есть пояснение, какие пропущенные значения обнаружены;\n",
    "- [x]  описаны возможные причины появления пропусков в данных;\n",
    "- [x]  объяснено, по какому принципу заполнены пропуски;\n",
    "- [x]  заменен вещественный тип данных на целочисленный;\n",
    "- [x]  есть пояснение, какой метод используется для изменения типа данных и почему;\n",
    "- [x]  удалены дубликаты;\n",
    "- [x]  есть пояснение, какой метод используется для поиска и удаления дубликатов;\n",
    "- [x]  описаны возможные причины появления дубликатов в данных;\n",
    "- [x]  выделены леммы в значениях столбца с целями получения кредита;\n",
    "- [x]  описан процесс лемматизации;\n",
    "- [x]  данные категоризированы;\n",
    "- [x]  есть объяснение принципа категоризации данных;\n",
    "- [x]  есть ответ на вопрос: \"Есть ли зависимость между наличием детей и возвратом кредита в срок?\";\n",
    "- [x]  есть ответ на вопрос: \"Есть ли зависимость между семейным положением и возвратом кредита в срок?\";\n",
    "- [x]  есть ответ на вопрос: \"Есть ли зависимость между уровнем дохода и возвратом кредита в срок?\";\n",
    "- [x]  есть ответ на вопрос: \"Как разные цели кредита влияют на его возврат в срок?\";\n",
    "- [x]  в каждом этапе есть выводы;\n",
    "- [x]  есть общий вывод."
   ]
  }
 ],
 "metadata": {
  "ExecuteTimeLog": [
   {
    "duration": 3108,
    "start_time": "2022-01-21T12:25:10.784Z"
   },
   {
    "duration": 2011,
    "start_time": "2022-01-21T12:25:17.251Z"
   },
   {
    "duration": 2058,
    "start_time": "2022-01-21T12:25:45.457Z"
   },
   {
    "duration": 2,
    "start_time": "2022-01-21T12:25:56.211Z"
   },
   {
    "duration": 3,
    "start_time": "2022-01-21T12:26:00.793Z"
   },
   {
    "duration": 2,
    "start_time": "2022-01-21T12:26:04.911Z"
   },
   {
    "duration": 2,
    "start_time": "2022-01-21T12:26:10.263Z"
   },
   {
    "duration": 3,
    "start_time": "2022-01-21T12:26:29.437Z"
   },
   {
    "duration": 3,
    "start_time": "2022-01-21T12:26:33.219Z"
   },
   {
    "duration": 2206,
    "start_time": "2022-01-21T12:27:10.779Z"
   },
   {
    "duration": 53,
    "start_time": "2022-01-21T12:30:00.995Z"
   },
   {
    "duration": 55,
    "start_time": "2022-01-21T12:30:03.372Z"
   },
   {
    "duration": 52,
    "start_time": "2022-01-21T12:30:09.355Z"
   },
   {
    "duration": 59,
    "start_time": "2022-01-21T12:30:25.857Z"
   },
   {
    "duration": 12,
    "start_time": "2022-01-21T12:31:22.706Z"
   },
   {
    "duration": 8,
    "start_time": "2022-01-21T12:31:50.322Z"
   },
   {
    "duration": 8,
    "start_time": "2022-01-21T12:32:02.346Z"
   },
   {
    "duration": 7,
    "start_time": "2022-01-21T12:32:39.861Z"
   },
   {
    "duration": 7,
    "start_time": "2022-01-21T12:32:49.492Z"
   },
   {
    "duration": 8,
    "start_time": "2022-01-21T12:33:58.499Z"
   },
   {
    "duration": 322,
    "start_time": "2022-01-21T12:35:02.805Z"
   },
   {
    "duration": 10,
    "start_time": "2022-01-21T12:35:26.712Z"
   },
   {
    "duration": 11,
    "start_time": "2022-01-21T12:35:47.221Z"
   },
   {
    "duration": 10,
    "start_time": "2022-01-21T12:35:50.545Z"
   },
   {
    "duration": 77,
    "start_time": "2022-01-21T12:36:14.587Z"
   },
   {
    "duration": 9,
    "start_time": "2022-01-21T12:36:26.116Z"
   },
   {
    "duration": 12,
    "start_time": "2022-01-21T12:37:15.154Z"
   },
   {
    "duration": 11,
    "start_time": "2022-01-21T12:37:32.249Z"
   },
   {
    "duration": 10,
    "start_time": "2022-01-21T12:38:30.568Z"
   },
   {
    "duration": 86,
    "start_time": "2022-01-21T12:38:46.524Z"
   },
   {
    "duration": 11,
    "start_time": "2022-01-21T12:38:52.941Z"
   },
   {
    "duration": 10,
    "start_time": "2022-01-21T12:39:13.946Z"
   },
   {
    "duration": 9,
    "start_time": "2022-01-21T12:40:11.093Z"
   },
   {
    "duration": 10,
    "start_time": "2022-01-21T12:40:46.947Z"
   },
   {
    "duration": 28,
    "start_time": "2022-01-21T12:42:24.558Z"
   },
   {
    "duration": 11,
    "start_time": "2022-01-21T12:42:45.242Z"
   },
   {
    "duration": 12,
    "start_time": "2022-01-21T12:43:23.633Z"
   },
   {
    "duration": 6,
    "start_time": "2022-01-21T12:43:25.814Z"
   },
   {
    "duration": 20,
    "start_time": "2022-01-21T12:50:26.549Z"
   },
   {
    "duration": 20,
    "start_time": "2022-01-21T12:50:40.450Z"
   },
   {
    "duration": 15,
    "start_time": "2022-01-21T12:50:56.903Z"
   },
   {
    "duration": 79,
    "start_time": "2022-01-21T12:51:12.583Z"
   },
   {
    "duration": 9,
    "start_time": "2022-01-21T12:51:19.437Z"
   },
   {
    "duration": 4,
    "start_time": "2022-01-21T12:51:56.306Z"
   },
   {
    "duration": 4,
    "start_time": "2022-01-21T12:52:00.947Z"
   },
   {
    "duration": 1844280,
    "start_time": "2022-01-21T12:21:53.109Z"
   },
   {
    "duration": 1844272,
    "start_time": "2022-01-21T12:21:53.118Z"
   },
   {
    "duration": 99,
    "start_time": "2022-01-21T12:53:10.534Z"
   },
   {
    "duration": 83,
    "start_time": "2022-01-21T12:53:30.724Z"
   },
   {
    "duration": 80,
    "start_time": "2022-01-21T12:53:31.542Z"
   },
   {
    "duration": 88,
    "start_time": "2022-01-21T12:53:39.673Z"
   },
   {
    "duration": 571,
    "start_time": "2022-01-21T12:53:43.206Z"
   },
   {
    "duration": 81,
    "start_time": "2022-01-21T12:53:57.074Z"
   },
   {
    "duration": 4,
    "start_time": "2022-01-21T12:54:06.871Z"
   },
   {
    "duration": 3577,
    "start_time": "2022-01-21T12:54:10.548Z"
   },
   {
    "duration": 17,
    "start_time": "2022-01-21T12:54:14.127Z"
   },
   {
    "duration": 6,
    "start_time": "2022-01-21T12:55:34.939Z"
   },
   {
    "duration": 4,
    "start_time": "2022-01-21T12:56:01.631Z"
   },
   {
    "duration": 99,
    "start_time": "2022-01-21T12:56:12.934Z"
   },
   {
    "duration": 6241,
    "start_time": "2022-01-21T12:56:23.493Z"
   },
   {
    "duration": 23,
    "start_time": "2022-01-21T12:56:35.214Z"
   },
   {
    "duration": 7,
    "start_time": "2022-01-21T12:56:39.133Z"
   },
   {
    "duration": 19,
    "start_time": "2022-01-21T12:57:22.751Z"
   },
   {
    "duration": 12,
    "start_time": "2022-01-21T12:57:38.634Z"
   },
   {
    "duration": 632,
    "start_time": "2022-01-26T09:59:45.648Z"
   },
   {
    "duration": 11,
    "start_time": "2022-01-26T09:59:46.283Z"
   },
   {
    "duration": 12,
    "start_time": "2022-01-26T09:59:46.296Z"
   },
   {
    "duration": 18,
    "start_time": "2022-01-26T09:59:46.310Z"
   },
   {
    "duration": 10,
    "start_time": "2022-01-26T09:59:46.330Z"
   },
   {
    "duration": 14,
    "start_time": "2022-01-26T09:59:46.342Z"
   },
   {
    "duration": 15,
    "start_time": "2022-01-26T09:59:46.357Z"
   },
   {
    "duration": 13,
    "start_time": "2022-01-26T09:59:46.374Z"
   },
   {
    "duration": 24,
    "start_time": "2022-01-26T09:59:46.390Z"
   },
   {
    "duration": 11,
    "start_time": "2022-01-26T09:59:46.417Z"
   },
   {
    "duration": 28,
    "start_time": "2022-01-26T09:59:46.430Z"
   },
   {
    "duration": 9,
    "start_time": "2022-01-26T09:59:46.460Z"
   },
   {
    "duration": 37,
    "start_time": "2022-01-26T09:59:46.471Z"
   },
   {
    "duration": 13,
    "start_time": "2022-01-26T09:59:46.510Z"
   },
   {
    "duration": 19,
    "start_time": "2022-01-26T09:59:46.525Z"
   },
   {
    "duration": 19,
    "start_time": "2022-01-26T09:59:46.545Z"
   },
   {
    "duration": 44,
    "start_time": "2022-01-26T09:59:46.566Z"
   },
   {
    "duration": 8,
    "start_time": "2022-01-26T09:59:46.612Z"
   },
   {
    "duration": 22,
    "start_time": "2022-01-26T09:59:46.622Z"
   },
   {
    "duration": 4471,
    "start_time": "2022-01-26T09:59:46.646Z"
   },
   {
    "duration": 9,
    "start_time": "2022-01-26T09:59:51.120Z"
   },
   {
    "duration": 18,
    "start_time": "2022-01-26T09:59:51.131Z"
   },
   {
    "duration": 9,
    "start_time": "2022-01-26T09:59:51.151Z"
   },
   {
    "duration": 36,
    "start_time": "2022-01-26T09:59:51.162Z"
   },
   {
    "duration": 16,
    "start_time": "2022-01-26T09:59:51.200Z"
   },
   {
    "duration": 21,
    "start_time": "2022-01-26T09:59:51.218Z"
   },
   {
    "duration": 19,
    "start_time": "2022-01-26T09:59:51.243Z"
   },
   {
    "duration": 13,
    "start_time": "2022-01-26T09:59:51.264Z"
   },
   {
    "duration": 313,
    "start_time": "2022-01-26T10:04:14.099Z"
   },
   {
    "duration": 258,
    "start_time": "2022-01-26T10:04:19.573Z"
   },
   {
    "duration": 4457,
    "start_time": "2022-01-26T13:29:05.730Z"
   },
   {
    "duration": 1857245,
    "start_time": "2022-01-26T12:58:12.944Z"
   },
   {
    "duration": 175,
    "start_time": "2022-01-26T13:29:14.071Z"
   },
   {
    "duration": 4754,
    "start_time": "2022-01-26T13:29:15.218Z"
   },
   {
    "duration": 4,
    "start_time": "2022-01-26T13:29:21.059Z"
   },
   {
    "duration": 3532,
    "start_time": "2022-01-26T13:29:21.795Z"
   },
   {
    "duration": 4,
    "start_time": "2022-01-26T13:29:26.585Z"
   },
   {
    "duration": 3068,
    "start_time": "2022-01-26T13:29:27.194Z"
   },
   {
    "duration": 8,
    "start_time": "2022-01-26T13:29:30.264Z"
   },
   {
    "duration": 9,
    "start_time": "2022-01-26T13:29:34.020Z"
   },
   {
    "duration": 6,
    "start_time": "2022-01-26T13:29:39.733Z"
   },
   {
    "duration": 3,
    "start_time": "2022-01-26T13:29:40.229Z"
   },
   {
    "duration": 12,
    "start_time": "2022-01-26T13:29:40.549Z"
   },
   {
    "duration": 8,
    "start_time": "2022-01-26T13:29:40.789Z"
   },
   {
    "duration": 19,
    "start_time": "2022-01-26T13:29:41.070Z"
   },
   {
    "duration": 19,
    "start_time": "2022-01-26T13:29:42.600Z"
   },
   {
    "duration": 15,
    "start_time": "2022-01-26T13:29:43.288Z"
   },
   {
    "duration": 15,
    "start_time": "2022-01-26T13:33:54.916Z"
   },
   {
    "duration": 15,
    "start_time": "2022-01-26T13:34:09.495Z"
   },
   {
    "duration": 743,
    "start_time": "2022-01-26T13:47:29.972Z"
   },
   {
    "duration": 21,
    "start_time": "2022-01-26T13:47:30.717Z"
   },
   {
    "duration": 43,
    "start_time": "2022-01-26T13:47:30.740Z"
   },
   {
    "duration": 29,
    "start_time": "2022-01-26T13:47:30.785Z"
   },
   {
    "duration": 33,
    "start_time": "2022-01-26T13:47:30.816Z"
   },
   {
    "duration": 33,
    "start_time": "2022-01-26T13:47:30.851Z"
   },
   {
    "duration": 23,
    "start_time": "2022-01-26T13:47:30.886Z"
   },
   {
    "duration": 14,
    "start_time": "2022-01-26T13:47:30.913Z"
   },
   {
    "duration": 17,
    "start_time": "2022-01-26T13:47:30.930Z"
   },
   {
    "duration": 15,
    "start_time": "2022-01-26T13:47:30.949Z"
   },
   {
    "duration": 63,
    "start_time": "2022-01-26T13:47:30.966Z"
   },
   {
    "duration": 11,
    "start_time": "2022-01-26T13:47:31.031Z"
   },
   {
    "duration": 15,
    "start_time": "2022-01-26T13:47:31.044Z"
   },
   {
    "duration": 16,
    "start_time": "2022-01-26T13:47:31.061Z"
   },
   {
    "duration": 35,
    "start_time": "2022-01-26T13:47:31.079Z"
   },
   {
    "duration": 20,
    "start_time": "2022-01-26T13:47:31.115Z"
   },
   {
    "duration": 20,
    "start_time": "2022-01-26T13:47:31.137Z"
   },
   {
    "duration": 39,
    "start_time": "2022-01-26T13:47:31.158Z"
   },
   {
    "duration": 4,
    "start_time": "2022-01-26T13:47:31.199Z"
   },
   {
    "duration": 3743,
    "start_time": "2022-01-26T13:47:31.205Z"
   },
   {
    "duration": 8,
    "start_time": "2022-01-26T13:47:34.950Z"
   },
   {
    "duration": 26,
    "start_time": "2022-01-26T13:47:34.959Z"
   },
   {
    "duration": 15,
    "start_time": "2022-01-26T13:47:34.988Z"
   },
   {
    "duration": 23,
    "start_time": "2022-01-26T13:47:35.005Z"
   },
   {
    "duration": 30,
    "start_time": "2022-01-26T13:47:35.030Z"
   },
   {
    "duration": 30,
    "start_time": "2022-01-26T13:47:35.062Z"
   },
   {
    "duration": 24,
    "start_time": "2022-01-26T13:47:35.094Z"
   },
   {
    "duration": 14,
    "start_time": "2022-01-26T13:47:35.120Z"
   },
   {
    "duration": 24,
    "start_time": "2022-01-26T13:47:35.136Z"
   },
   {
    "duration": 18,
    "start_time": "2022-01-26T13:47:35.162Z"
   },
   {
    "duration": 8,
    "start_time": "2022-01-26T13:47:43.316Z"
   },
   {
    "duration": 3043,
    "start_time": "2022-01-26T13:47:46.729Z"
   },
   {
    "duration": 4,
    "start_time": "2022-01-26T13:47:49.774Z"
   },
   {
    "duration": 11,
    "start_time": "2022-01-26T13:47:57.880Z"
   },
   {
    "duration": 730,
    "start_time": "2022-10-03T10:11:59.889Z"
   },
   {
    "duration": 9,
    "start_time": "2022-10-03T10:12:00.621Z"
   },
   {
    "duration": 23,
    "start_time": "2022-10-03T10:12:00.632Z"
   },
   {
    "duration": 24,
    "start_time": "2022-10-03T10:12:00.657Z"
   },
   {
    "duration": 23,
    "start_time": "2022-10-03T10:12:00.682Z"
   },
   {
    "duration": 17,
    "start_time": "2022-10-03T10:12:00.706Z"
   },
   {
    "duration": 13,
    "start_time": "2022-10-03T10:12:00.724Z"
   },
   {
    "duration": 21,
    "start_time": "2022-10-03T10:12:00.739Z"
   },
   {
    "duration": 41,
    "start_time": "2022-10-03T10:12:00.762Z"
   },
   {
    "duration": 47,
    "start_time": "2022-10-03T10:12:00.805Z"
   },
   {
    "duration": 24,
    "start_time": "2022-10-03T10:12:00.853Z"
   },
   {
    "duration": 7,
    "start_time": "2022-10-03T10:12:00.878Z"
   },
   {
    "duration": 23,
    "start_time": "2022-10-03T10:12:00.886Z"
   },
   {
    "duration": 25,
    "start_time": "2022-10-03T10:12:00.911Z"
   },
   {
    "duration": 29,
    "start_time": "2022-10-03T10:12:00.938Z"
   },
   {
    "duration": 18,
    "start_time": "2022-10-03T10:12:00.969Z"
   },
   {
    "duration": 15,
    "start_time": "2022-10-03T10:12:00.988Z"
   },
   {
    "duration": 6,
    "start_time": "2022-10-03T10:12:01.009Z"
   },
   {
    "duration": 26,
    "start_time": "2022-10-03T10:12:01.016Z"
   },
   {
    "duration": 3399,
    "start_time": "2022-10-03T10:12:01.043Z"
   },
   {
    "duration": 10,
    "start_time": "2022-10-03T10:12:04.444Z"
   },
   {
    "duration": 13,
    "start_time": "2022-10-03T10:12:04.455Z"
   },
   {
    "duration": 5,
    "start_time": "2022-10-03T10:12:04.469Z"
   },
   {
    "duration": 40,
    "start_time": "2022-10-03T10:12:04.476Z"
   },
   {
    "duration": 21,
    "start_time": "2022-10-03T10:12:04.517Z"
   },
   {
    "duration": 25,
    "start_time": "2022-10-03T10:12:04.540Z"
   },
   {
    "duration": 18,
    "start_time": "2022-10-03T10:12:04.567Z"
   },
   {
    "duration": 28,
    "start_time": "2022-10-03T10:12:04.589Z"
   },
   {
    "duration": 16,
    "start_time": "2022-10-03T10:12:04.618Z"
   },
   {
    "duration": 14,
    "start_time": "2022-10-03T10:12:04.635Z"
   }
  ],
  "kernelspec": {
   "display_name": "Python 3 (ipykernel)",
   "language": "python",
   "name": "python3"
  },
  "language_info": {
   "codemirror_mode": {
    "name": "ipython",
    "version": 3
   },
   "file_extension": ".py",
   "mimetype": "text/x-python",
   "name": "python",
   "nbconvert_exporter": "python",
   "pygments_lexer": "ipython3",
   "version": "3.9.5"
  },
  "toc": {
   "base_numbering": 1,
   "nav_menu": {},
   "number_sections": true,
   "sideBar": true,
   "skip_h1_title": true,
   "title_cell": "Table of Contents",
   "title_sidebar": "Contents",
   "toc_cell": false,
   "toc_position": {},
   "toc_section_display": true,
   "toc_window_display": true
  }
 },
 "nbformat": 4,
 "nbformat_minor": 2
}
